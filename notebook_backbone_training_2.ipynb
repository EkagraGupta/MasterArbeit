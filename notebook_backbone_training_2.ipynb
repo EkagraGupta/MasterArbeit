{
 "cells": [
  {
   "cell_type": "code",
   "execution_count": 1,
   "id": "9e023fbc",
   "metadata": {
    "execution": {
     "iopub.execute_input": "2024-09-16T08:03:23.868116Z",
     "iopub.status.busy": "2024-09-16T08:03:23.867846Z",
     "iopub.status.idle": "2024-09-16T08:04:05.620200Z",
     "shell.execute_reply": "2024-09-16T08:04:05.619248Z"
    },
    "papermill": {
     "duration": 41.760043,
     "end_time": "2024-09-16T08:04:05.622465",
     "exception": false,
     "start_time": "2024-09-16T08:03:23.862422",
     "status": "completed"
    },
    "tags": []
   },
   "outputs": [
    {
     "name": "stdout",
     "output_type": "stream",
     "text": [
      "Collecting torchmetrics\r\n"
     ]
    },
    {
     "name": "stdout",
     "output_type": "stream",
     "text": [
      "  Downloading torchmetrics-1.4.2-py3-none-any.whl (869 kB)\r\n",
      "\u001b[?25l     \u001b[90m━━━━━━━━━━━━━━━━━━━━━━━━━━━━━━━━━━━━━━━━\u001b[0m \u001b[32m0.0/869.2 kB\u001b[0m \u001b[31m?\u001b[0m eta \u001b[36m-:--:--\u001b[0m\r",
      "\u001b[2K     \u001b[91m━━\u001b[0m\u001b[90m╺\u001b[0m\u001b[90m━━━━━━━━━━━━━━━━━━━━━━━━━━━━━━━━━━━━━\u001b[0m \u001b[32m51.2/869.2 kB\u001b[0m \u001b[31m1.3 MB/s\u001b[0m eta \u001b[36m0:00:01\u001b[0m"
     ]
    },
    {
     "name": "stdout",
     "output_type": "stream",
     "text": [
      "\r",
      "\u001b[2K     \u001b[91m━━━━━━\u001b[0m\u001b[90m╺\u001b[0m\u001b[90m━━━━━━━━━━━━━━━━━━━━━━━━━━━━━━━━\u001b[0m \u001b[32m143.4/869.2 kB\u001b[0m \u001b[31m2.0 MB/s\u001b[0m eta \u001b[36m0:00:01\u001b[0m"
     ]
    },
    {
     "name": "stdout",
     "output_type": "stream",
     "text": [
      "\r",
      "\u001b[2K     \u001b[91m━━━━━━━━━━━━━━━━\u001b[0m\u001b[91m╸\u001b[0m\u001b[90m━━━━━━━━━━━━━━━━━━━━━━\u001b[0m \u001b[32m368.6/869.2 kB\u001b[0m \u001b[31m3.5 MB/s\u001b[0m eta \u001b[36m0:00:01\u001b[0m\r",
      "\u001b[2K     \u001b[91m━━━━━━━━━━━━━━━━━━━━━━━━━━━━━━━━━━━━━━\u001b[0m\u001b[91m╸\u001b[0m \u001b[32m860.2/869.2 kB\u001b[0m \u001b[31m6.2 MB/s\u001b[0m eta \u001b[36m0:00:01\u001b[0m"
     ]
    },
    {
     "name": "stdout",
     "output_type": "stream",
     "text": [
      "\r",
      "\u001b[2K     \u001b[90m━━━━━━━━━━━━━━━━━━━━━━━━━━━━━━━━━━━━━━━\u001b[0m \u001b[32m869.2/869.2 kB\u001b[0m \u001b[31m5.5 MB/s\u001b[0m eta \u001b[36m0:00:00\u001b[0m\r\n",
      "\u001b[?25h"
     ]
    },
    {
     "name": "stdout",
     "output_type": "stream",
     "text": [
      "Requirement already satisfied: packaging>17.1 in /usr/local/lib/python3.10/site-packages (from torchmetrics) (24.1)\r\n",
      "Requirement already satisfied: torch>=1.10.0 in /usr/local/lib/python3.10/site-packages (from torchmetrics) (2.4.0)\r\n",
      "Requirement already satisfied: numpy>1.20.0 in /usr/local/lib/python3.10/site-packages (from torchmetrics) (1.26.4)\r\n"
     ]
    },
    {
     "name": "stdout",
     "output_type": "stream",
     "text": [
      "Collecting lightning-utilities>=0.8.0\r\n"
     ]
    },
    {
     "name": "stdout",
     "output_type": "stream",
     "text": [
      "  Downloading lightning_utilities-0.11.7-py3-none-any.whl (26 kB)\r\n",
      "Requirement already satisfied: setuptools in /usr/local/lib/python3.10/site-packages (from lightning-utilities>=0.8.0->torchmetrics) (65.5.1)\r\n",
      "Requirement already satisfied: typing-extensions in /usr/local/lib/python3.10/site-packages (from lightning-utilities>=0.8.0->torchmetrics) (4.12.2)\r\n"
     ]
    },
    {
     "name": "stdout",
     "output_type": "stream",
     "text": [
      "Requirement already satisfied: fsspec in /usr/local/lib/python3.10/site-packages (from torch>=1.10.0->torchmetrics) (2024.6.1)\r\n",
      "Requirement already satisfied: nvidia-cufft-cu12==11.0.2.54 in /usr/local/lib/python3.10/site-packages (from torch>=1.10.0->torchmetrics) (11.0.2.54)\r\n",
      "Requirement already satisfied: filelock in /usr/local/lib/python3.10/site-packages (from torch>=1.10.0->torchmetrics) (3.15.4)\r\n",
      "Requirement already satisfied: sympy in /usr/local/lib/python3.10/site-packages (from torch>=1.10.0->torchmetrics) (1.13.2)\r\n",
      "Requirement already satisfied: nvidia-cuda-cupti-cu12==12.1.105 in /usr/local/lib/python3.10/site-packages (from torch>=1.10.0->torchmetrics) (12.1.105)\r\n",
      "Requirement already satisfied: nvidia-cuda-nvrtc-cu12==12.1.105 in /usr/local/lib/python3.10/site-packages (from torch>=1.10.0->torchmetrics) (12.1.105)\r\n",
      "Requirement already satisfied: nvidia-cudnn-cu12==9.1.0.70 in /usr/local/lib/python3.10/site-packages (from torch>=1.10.0->torchmetrics) (9.1.0.70)\r\n",
      "Requirement already satisfied: networkx in /usr/local/lib/python3.10/site-packages (from torch>=1.10.0->torchmetrics) (3.3)\r\n",
      "Requirement already satisfied: nvidia-curand-cu12==10.3.2.106 in /usr/local/lib/python3.10/site-packages (from torch>=1.10.0->torchmetrics) (10.3.2.106)\r\n",
      "Requirement already satisfied: nvidia-cusparse-cu12==12.1.0.106 in /usr/local/lib/python3.10/site-packages (from torch>=1.10.0->torchmetrics) (12.1.0.106)\r\n",
      "Requirement already satisfied: nvidia-nccl-cu12==2.20.5 in /usr/local/lib/python3.10/site-packages (from torch>=1.10.0->torchmetrics) (2.20.5)\r\n",
      "Requirement already satisfied: nvidia-nvtx-cu12==12.1.105 in /usr/local/lib/python3.10/site-packages (from torch>=1.10.0->torchmetrics) (12.1.105)\r\n",
      "Requirement already satisfied: nvidia-cusolver-cu12==11.4.5.107 in /usr/local/lib/python3.10/site-packages (from torch>=1.10.0->torchmetrics) (11.4.5.107)\r\n",
      "Requirement already satisfied: nvidia-cublas-cu12==12.1.3.1 in /usr/local/lib/python3.10/site-packages (from torch>=1.10.0->torchmetrics) (12.1.3.1)\r\n",
      "Requirement already satisfied: triton==3.0.0 in /usr/local/lib/python3.10/site-packages (from torch>=1.10.0->torchmetrics) (3.0.0)\r\n",
      "Requirement already satisfied: nvidia-cuda-runtime-cu12==12.1.105 in /usr/local/lib/python3.10/site-packages (from torch>=1.10.0->torchmetrics) (12.1.105)\r\n",
      "Requirement already satisfied: jinja2 in /usr/local/lib/python3.10/site-packages (from torch>=1.10.0->torchmetrics) (3.1.4)\r\n"
     ]
    },
    {
     "name": "stdout",
     "output_type": "stream",
     "text": [
      "Requirement already satisfied: nvidia-nvjitlink-cu12 in /usr/local/lib/python3.10/site-packages (from nvidia-cusolver-cu12==11.4.5.107->torch>=1.10.0->torchmetrics) (12.6.20)\r\n"
     ]
    },
    {
     "name": "stdout",
     "output_type": "stream",
     "text": [
      "Requirement already satisfied: MarkupSafe>=2.0 in /usr/local/lib/python3.10/site-packages (from jinja2->torch>=1.10.0->torchmetrics) (2.1.5)\r\n",
      "Requirement already satisfied: mpmath<1.4,>=1.1.0 in /usr/local/lib/python3.10/site-packages (from sympy->torch>=1.10.0->torchmetrics) (1.3.0)\r\n"
     ]
    },
    {
     "name": "stdout",
     "output_type": "stream",
     "text": [
      "Installing collected packages: lightning-utilities, torchmetrics\r\n"
     ]
    },
    {
     "name": "stdout",
     "output_type": "stream",
     "text": [
      "Successfully installed lightning-utilities-0.11.7 torchmetrics-1.4.2\r\n",
      "\u001b[33mWARNING: Running pip as the 'root' user can result in broken permissions and conflicting behaviour with the system package manager. It is recommended to use a virtual environment instead: https://pip.pypa.io/warnings/venv\u001b[0m\u001b[33m\r\n",
      "\u001b[0m"
     ]
    },
    {
     "name": "stdout",
     "output_type": "stream",
     "text": [
      "\r\n",
      "\u001b[1m[\u001b[0m\u001b[34;49mnotice\u001b[0m\u001b[1;39;49m]\u001b[0m\u001b[39;49m A new release of pip is available: \u001b[0m\u001b[31;49m23.0.1\u001b[0m\u001b[39;49m -> \u001b[0m\u001b[32;49m24.2\u001b[0m\r\n",
      "\u001b[1m[\u001b[0m\u001b[34;49mnotice\u001b[0m\u001b[1;39;49m]\u001b[0m\u001b[39;49m To update, run: \u001b[0m\u001b[32;49mpip install --upgrade pip\u001b[0m\r\n"
     ]
    },
    {
     "name": "stdout",
     "output_type": "stream",
     "text": [
      "Cloning into 'MasterArbeit'...\r\n"
     ]
    },
    {
     "name": "stdout",
     "output_type": "stream",
     "text": [
      "remote: Enumerating objects: 2282, done.\u001b[K\r\n",
      "remote: Counting objects:   0% (1/207)\u001b[K\r",
      "remote: Counting objects:   1% (3/207)\u001b[K\r",
      "remote: Counting objects:   2% (5/207)\u001b[K\r",
      "remote: Counting objects:   3% (7/207)\u001b[K\r",
      "remote: Counting objects:   4% (9/207)\u001b[K\r",
      "remote: Counting objects:   5% (11/207)\u001b[K\r",
      "remote: Counting objects:   6% (13/207)\u001b[K\r",
      "remote: Counting objects:   7% (15/207)\u001b[K\r",
      "remote: Counting objects:   8% (17/207)\u001b[K\r",
      "remote: Counting objects:   9% (19/207)\u001b[K\r",
      "remote: Counting objects:  10% (21/207)\u001b[K\r",
      "remote: Counting objects:  11% (23/207)\u001b[K\r",
      "remote: Counting objects:  12% (25/207)\u001b[K\r",
      "remote: Counting objects:  13% (27/207)\u001b[K\r",
      "remote: Counting objects:  14% (29/207)\u001b[K\r",
      "remote: Counting objects:  15% (32/207)\u001b[K\r",
      "remote: Counting objects:  16% (34/207)\u001b[K\r",
      "remote: Counting objects:  17% (36/207)\u001b[K\r",
      "remote: Counting objects:  18% (38/207)\u001b[K\r",
      "remote: Counting objects:  19% (40/207)\u001b[K\r",
      "remote: Counting objects:  20% (42/207)\u001b[K\r",
      "remote: Counting objects:  21% (44/207)\u001b[K\r",
      "remote: Counting objects:  22% (46/207)\u001b[K\r",
      "remote: Counting objects:  23% (48/207)\u001b[K\r",
      "remote: Counting objects:  24% (50/207)\u001b[K\r",
      "remote: Counting objects:  25% (52/207)\u001b[K\r",
      "remote: Counting objects:  26% (54/207)\u001b[K\r",
      "remote: Counting objects:  27% (56/207)\u001b[K\r",
      "remote: Counting objects:  28% (58/207)\u001b[K\r",
      "remote: Counting objects:  29% (61/207)\u001b[K\r",
      "remote: Counting objects:  30% (63/207)\u001b[K\r",
      "remote: Counting objects:  31% (65/207)\u001b[K\r",
      "remote: Counting objects:  32% (67/207)\u001b[K\r",
      "remote: Counting objects:  33% (69/207)\u001b[K\r",
      "remote: Counting objects:  34% (71/207)\u001b[K\r",
      "remote: Counting objects:  35% (73/207)\u001b[K\r",
      "remote: Counting objects:  36% (75/207)\u001b[K\r",
      "remote: Counting objects:  37% (77/207)\u001b[K\r",
      "remote: Counting objects:  38% (79/207)\u001b[K\r",
      "remote: Counting objects:  39% (81/207)\u001b[K\r",
      "remote: Counting objects:  40% (83/207)\u001b[K\r",
      "remote: Counting objects:  41% (85/207)\u001b[K\r",
      "remote: Counting objects:  42% (87/207)\u001b[K\r",
      "remote: Counting objects:  43% (90/207)\u001b[K\r",
      "remote: Counting objects:  44% (92/207)\u001b[K\r",
      "remote: Counting objects:  45% (94/207)\u001b[K\r",
      "remote: Counting objects:  46% (96/207)\u001b[K\r",
      "remote: Counting objects:  47% (98/207)\u001b[K\r",
      "remote: Counting objects:  48% (100/207)\u001b[K\r",
      "remote: Counting objects:  49% (102/207)\u001b[K\r",
      "remote: Counting objects:  50% (104/207)\u001b[K\r",
      "remote: Counting objects:  51% (106/207)\u001b[K\r",
      "remote: Counting objects:  52% (108/207)\u001b[K\r",
      "remote: Counting objects:  53% (110/207)\u001b[K\r",
      "remote: Counting objects:  54% (112/207)\u001b[K\r",
      "remote: Counting objects:  55% (114/207)\u001b[K\r",
      "remote: Counting objects:  56% (116/207)\u001b[K\r",
      "remote: Counting objects:  57% (118/207)\u001b[K\r",
      "remote: Counting objects:  58% (121/207)\u001b[K\r",
      "remote: Counting objects:  59% (123/207)\u001b[K\r",
      "remote: Counting objects:  60% (125/207)\u001b[K\r",
      "remote: Counting objects:  61% (127/207)\u001b[K\r",
      "remote: Counting objects:  62% (129/207)\u001b[K\r",
      "remote: Counting objects:  63% (131/207)\u001b[K\r",
      "remote: Counting objects:  64% (133/207)\u001b[K\r",
      "remote: Counting objects:  65% (135/207)\u001b[K\r",
      "remote: Counting objects:  66% (137/207)\u001b[K\r",
      "remote: Counting objects:  67% (139/207)\u001b[K\r",
      "remote: Counting objects:  68% (141/207)\u001b[K\r",
      "remote: Counting objects:  69% (143/207)\u001b[K\r",
      "remote: Counting objects:  70% (145/207)\u001b[K\r",
      "remote: Counting objects:  71% (147/207)\u001b[K\r",
      "remote: Counting objects:  72% (150/207)\u001b[K\r",
      "remote: Counting objects:  73% (152/207)\u001b[K\r",
      "remote: Counting objects:  74% (154/207)\u001b[K\r",
      "remote: Counting objects:  75% (156/207)\u001b[K\r",
      "remote: Counting objects:  76% (158/207)\u001b[K\r",
      "remote: Counting objects:  77% (160/207)\u001b[K\r",
      "remote: Counting objects:  78% (162/207)\u001b[K\r",
      "remote: Counting objects:  79% (164/207)\u001b[K\r",
      "remote: Counting objects:  80% (166/207)\u001b[K\r",
      "remote: Counting objects:  81% (168/207)\u001b[K\r",
      "remote: Counting objects:  82% (170/207)\u001b[K\r",
      "remote: Counting objects:  83% (172/207)\u001b[K\r",
      "remote: Counting objects:  84% (174/207)\u001b[K\r",
      "remote: Counting objects:  85% (176/207)\u001b[K\r",
      "remote: Counting objects:  86% (179/207)\u001b[K\r",
      "remote: Counting objects:  87% (181/207)\u001b[K\r",
      "remote: Counting objects:  88% (183/207)\u001b[K\r",
      "remote: Counting objects:  89% (185/207)\u001b[K\r",
      "remote: Counting objects:  90% (187/207)\u001b[K\r",
      "remote: Counting objects:  91% (189/207)\u001b[K\r",
      "remote: Counting objects:  92% (191/207)\u001b[K\r",
      "remote: Counting objects:  93% (193/207)\u001b[K\r",
      "remote: Counting objects:  94% (195/207)\u001b[K\r",
      "remote: Counting objects:  95% (197/207)\u001b[K\r",
      "remote: Counting objects:  96% (199/207)\u001b[K\r",
      "remote: Counting objects:  97% (201/207)\u001b[K\r",
      "remote: Counting objects:  98% (203/207)\u001b[K\r",
      "remote: Counting objects:  99% (205/207)\u001b[K\r",
      "remote: Counting objects: 100% (207/207)\u001b[K\r",
      "remote: Counting objects: 100% (207/207), done.\u001b[K\r\n",
      "remote: Compressing objects:   1% (1/82)\u001b[K\r",
      "remote: Compressing objects:   2% (2/82)\u001b[K\r",
      "remote: Compressing objects:   3% (3/82)\u001b[K\r",
      "remote: Compressing objects:   4% (4/82)\u001b[K\r",
      "remote: Compressing objects:   6% (5/82)\u001b[K\r"
     ]
    },
    {
     "name": "stdout",
     "output_type": "stream",
     "text": [
      "remote: Compressing objects:   7% (6/82)\u001b[K\r",
      "remote: Compressing objects:   8% (7/82)\u001b[K\r",
      "remote: Compressing objects:   9% (8/82)\u001b[K\r"
     ]
    },
    {
     "name": "stdout",
     "output_type": "stream",
     "text": [
      "remote: Compressing objects:  10% (9/82)\u001b[K\r",
      "remote: Compressing objects:  12% (10/82)\u001b[K\r",
      "remote: Compressing objects:  13% (11/82)\u001b[K\r",
      "remote: Compressing objects:  14% (12/82)\u001b[K\r",
      "remote: Compressing objects:  15% (13/82)\u001b[K\r",
      "remote: Compressing objects:  17% (14/82)\u001b[K\r",
      "remote: Compressing objects:  18% (15/82)\u001b[K\r",
      "remote: Compressing objects:  19% (16/82)\u001b[K\r",
      "remote: Compressing objects:  20% (17/82)\u001b[K\r",
      "remote: Compressing objects:  21% (18/82)\u001b[K\r",
      "remote: Compressing objects:  23% (19/82)\u001b[K\r",
      "remote: Compressing objects:  24% (20/82)\u001b[K\r",
      "remote: Compressing objects:  25% (21/82)\u001b[K\r",
      "remote: Compressing objects:  26% (22/82)\u001b[K\r",
      "remote: Compressing objects:  28% (23/82)\u001b[K\r",
      "remote: Compressing objects:  29% (24/82)\u001b[K\r",
      "remote: Compressing objects:  30% (25/82)\u001b[K\r",
      "remote: Compressing objects:  31% (26/82)\u001b[K\r",
      "remote: Compressing objects:  32% (27/82)\u001b[K\r",
      "remote: Compressing objects:  34% (28/82)\u001b[K\r",
      "remote: Compressing objects:  35% (29/82)\u001b[K\r",
      "remote: Compressing objects:  36% (30/82)\u001b[K\r",
      "remote: Compressing objects:  37% (31/82)\u001b[K\r",
      "remote: Compressing objects:  39% (32/82)\u001b[K\r",
      "remote: Compressing objects:  40% (33/82)\u001b[K\r",
      "remote: Compressing objects:  41% (34/82)\u001b[K\r",
      "remote: Compressing objects:  42% (35/82)\u001b[K\r",
      "remote: Compressing objects:  43% (36/82)\u001b[K\r",
      "remote: Compressing objects:  45% (37/82)\u001b[K\r"
     ]
    },
    {
     "name": "stdout",
     "output_type": "stream",
     "text": [
      "remote: Compressing objects:  46% (38/82)\u001b[K\r",
      "remote: Compressing objects:  47% (39/82)\u001b[K\r",
      "remote: Compressing objects:  48% (40/82)\u001b[K\r",
      "remote: Compressing objects:  50% (41/82)\u001b[K\r",
      "remote: Compressing objects:  51% (42/82)\u001b[K\r",
      "remote: Compressing objects:  52% (43/82)\u001b[K\r",
      "remote: Compressing objects:  53% (44/82)\u001b[K\r",
      "remote: Compressing objects:  54% (45/82)\u001b[K\r",
      "remote: Compressing objects:  56% (46/82)\u001b[K\r",
      "remote: Compressing objects:  57% (47/82)\u001b[K\r",
      "remote: Compressing objects:  58% (48/82)\u001b[K\r",
      "remote: Compressing objects:  59% (49/82)\u001b[K\r",
      "remote: Compressing objects:  60% (50/82)\u001b[K\r",
      "remote: Compressing objects:  62% (51/82)\u001b[K\r",
      "remote: Compressing objects:  63% (52/82)\u001b[K\r",
      "remote: Compressing objects:  64% (53/82)\u001b[K\r",
      "remote: Compressing objects:  65% (54/82)\u001b[K\r",
      "remote: Compressing objects:  67% (55/82)\u001b[K\r",
      "remote: Compressing objects:  68% (56/82)\u001b[K\r",
      "remote: Compressing objects:  69% (57/82)\u001b[K\r",
      "remote: Compressing objects:  70% (58/82)\u001b[K\r",
      "remote: Compressing objects:  71% (59/82)\u001b[K\r",
      "remote: Compressing objects:  73% (60/82)\u001b[K\r",
      "remote: Compressing objects:  74% (61/82)\u001b[K\r",
      "remote: Compressing objects:  75% (62/82)\u001b[K\r",
      "remote: Compressing objects:  76% (63/82)\u001b[K\r",
      "remote: Compressing objects:  78% (64/82)\u001b[K\r",
      "remote: Compressing objects:  79% (65/82)\u001b[K\r",
      "remote: Compressing objects:  80% (66/82)\u001b[K\r",
      "remote: Compressing objects:  81% (67/82)\u001b[K\r",
      "remote: Compressing objects:  82% (68/82)\u001b[K\r",
      "remote: Compressing objects:  84% (69/82)\u001b[K\r",
      "remote: Compressing objects:  85% (70/82)\u001b[K\r",
      "remote: Compressing objects:  86% (71/82)\u001b[K\r",
      "remote: Compressing objects:  87% (72/82)\u001b[K\r",
      "remote: Compressing objects:  89% (73/82)\u001b[K\r",
      "remote: Compressing objects:  90% (74/82)\u001b[K\r",
      "remote: Compressing objects:  91% (75/82)\u001b[K\r",
      "remote: Compressing objects:  92% (76/82)\u001b[K\r",
      "remote: Compressing objects:  93% (77/82)\u001b[K\r",
      "remote: Compressing objects:  95% (78/82)\u001b[K\r",
      "remote: Compressing objects:  96% (79/82)\u001b[K\r",
      "remote: Compressing objects:  97% (80/82)\u001b[K\r",
      "remote: Compressing objects:  98% (81/82)\u001b[K\r",
      "remote: Compressing objects: 100% (82/82)\u001b[K\r",
      "remote: Compressing objects: 100% (82/82), done.\u001b[K\r\n",
      "Receiving objects:   0% (1/2282)\r"
     ]
    },
    {
     "name": "stdout",
     "output_type": "stream",
     "text": [
      "Receiving objects:   0% (7/2282), 36.14 MiB | 36.14 MiB/s\r"
     ]
    },
    {
     "name": "stdout",
     "output_type": "stream",
     "text": [
      "Receiving objects:   0% (9/2282), 75.60 MiB | 37.79 MiB/s\r"
     ]
    },
    {
     "name": "stdout",
     "output_type": "stream",
     "text": [
      "Receiving objects:   1% (23/2282), 95.98 MiB | 38.39 MiB/s\r",
      "Receiving objects:   2% (46/2282), 95.98 MiB | 38.39 MiB/s\r",
      "Receiving objects:   3% (69/2282), 95.98 MiB | 38.39 MiB/s\r",
      "Receiving objects:   4% (92/2282), 95.98 MiB | 38.39 MiB/s\r"
     ]
    },
    {
     "name": "stdout",
     "output_type": "stream",
     "text": [
      "Receiving objects:   4% (103/2282), 95.98 MiB | 38.39 MiB/s\r",
      "Receiving objects:   5% (115/2282), 121.45 MiB | 40.48 MiB/s\r",
      "Receiving objects:   6% (137/2282), 121.45 MiB | 40.48 MiB/s\r",
      "Receiving objects:   7% (160/2282), 121.45 MiB | 40.48 MiB/s\r",
      "Receiving objects:   8% (183/2282), 121.45 MiB | 40.48 MiB/s\r"
     ]
    },
    {
     "name": "stdout",
     "output_type": "stream",
     "text": [
      "Receiving objects:   9% (206/2282), 142.01 MiB | 40.57 MiB/s\r"
     ]
    },
    {
     "name": "stdout",
     "output_type": "stream",
     "text": [
      "Receiving objects:   9% (215/2282), 162.88 MiB | 40.73 MiB/s\r"
     ]
    },
    {
     "name": "stdout",
     "output_type": "stream",
     "text": [
      "Receiving objects:   9% (217/2282), 204.08 MiB | 41.74 MiB/s\r"
     ]
    },
    {
     "name": "stdout",
     "output_type": "stream",
     "text": [
      "Receiving objects:   9% (218/2282), 245.32 MiB | 42.25 MiB/s\r"
     ]
    },
    {
     "name": "stdout",
     "output_type": "stream",
     "text": [
      "Receiving objects:  10% (229/2282), 245.32 MiB | 42.25 MiB/s\r"
     ]
    },
    {
     "name": "stdout",
     "output_type": "stream",
     "text": [
      "Receiving objects:  11% (252/2282), 266.07 MiB | 42.35 MiB/s\r",
      "Receiving objects:  12% (274/2282), 266.07 MiB | 42.35 MiB/s\r"
     ]
    },
    {
     "name": "stdout",
     "output_type": "stream",
     "text": [
      "Receiving objects:  12% (275/2282), 285.70 MiB | 42.18 MiB/s\r"
     ]
    },
    {
     "name": "stdout",
     "output_type": "stream",
     "text": [
      "Receiving objects:  12% (277/2282), 305.12 MiB | 40.83 MiB/s\r"
     ]
    },
    {
     "name": "stdout",
     "output_type": "stream",
     "text": [
      "Receiving objects:  12% (293/2282), 366.41 MiB | 40.63 MiB/s\r"
     ]
    },
    {
     "name": "stdout",
     "output_type": "stream",
     "text": [
      "Receiving objects:  13% (297/2282), 366.41 MiB | 40.63 MiB/s\r",
      "Receiving objects:  14% (320/2282), 366.41 MiB | 40.63 MiB/s\r",
      "Receiving objects:  15% (343/2282), 366.41 MiB | 40.63 MiB/s\r"
     ]
    },
    {
     "name": "stdout",
     "output_type": "stream",
     "text": [
      "Receiving objects:  15% (365/2282), 407.39 MiB | 40.62 MiB/s\r"
     ]
    },
    {
     "name": "stdout",
     "output_type": "stream",
     "text": [
      "Receiving objects:  16% (366/2282), 427.85 MiB | 40.55 MiB/s\r"
     ]
    },
    {
     "name": "stdout",
     "output_type": "stream",
     "text": [
      "Receiving objects:  16% (366/2282), 448.10 MiB | 40.45 MiB/s\r"
     ]
    },
    {
     "name": "stdout",
     "output_type": "stream",
     "text": [
      "Receiving objects:  17% (388/2282), 448.10 MiB | 40.45 MiB/s\r",
      "Receiving objects:  18% (411/2282), 448.10 MiB | 40.45 MiB/s\r"
     ]
    },
    {
     "name": "stdout",
     "output_type": "stream",
     "text": [
      "Receiving objects:  19% (434/2282), 468.63 MiB | 40.65 MiB/s\r"
     ]
    },
    {
     "name": "stdout",
     "output_type": "stream",
     "text": [
      "Receiving objects:  20% (457/2282), 468.63 MiB | 40.65 MiB/s\r",
      "Receiving objects:  21% (480/2282), 468.63 MiB | 40.65 MiB/s\r",
      "Receiving objects:  22% (503/2282), 468.63 MiB | 40.65 MiB/s\r",
      "Receiving objects:  23% (525/2282), 468.63 MiB | 40.65 MiB/s\r"
     ]
    },
    {
     "name": "stdout",
     "output_type": "stream",
     "text": [
      "Receiving objects:  23% (547/2282), 489.37 MiB | 40.95 MiB/s\r"
     ]
    },
    {
     "name": "stdout",
     "output_type": "stream",
     "text": [
      "Receiving objects:  24% (548/2282), 489.37 MiB | 40.95 MiB/s\r"
     ]
    },
    {
     "name": "stdout",
     "output_type": "stream",
     "text": [
      "Receiving objects:  24% (548/2282), 529.54 MiB | 40.85 MiB/s\r"
     ]
    },
    {
     "name": "stdout",
     "output_type": "stream",
     "text": [
      "Receiving objects:  25% (571/2282), 548.78 MiB | 40.54 MiB/s\r",
      "Receiving objects:  26% (594/2282), 548.78 MiB | 40.54 MiB/s\r",
      "Receiving objects:  27% (617/2282), 548.78 MiB | 40.54 MiB/s\r",
      "Receiving objects:  28% (639/2282), 548.78 MiB | 40.54 MiB/s\r",
      "Receiving objects:  29% (662/2282), 548.78 MiB | 40.54 MiB/s\r",
      "Receiving objects:  30% (685/2282), 548.78 MiB | 40.54 MiB/s\r"
     ]
    },
    {
     "name": "stdout",
     "output_type": "stream",
     "text": [
      "Receiving objects:  30% (705/2282), 569.54 MiB | 40.52 MiB/s\r"
     ]
    },
    {
     "name": "stdout",
     "output_type": "stream",
     "text": [
      "Receiving objects:  30% (706/2282), 608.86 MiB | 40.24 MiB/s\r"
     ]
    },
    {
     "name": "stdout",
     "output_type": "stream",
     "text": [
      "Receiving objects:  31% (708/2282), 608.86 MiB | 40.24 MiB/s\r",
      "Receiving objects:  32% (731/2282), 608.86 MiB | 40.24 MiB/s\r",
      "Receiving objects:  33% (754/2282), 608.86 MiB | 40.24 MiB/s\r",
      "Receiving objects:  34% (776/2282), 608.86 MiB | 40.24 MiB/s\r",
      "Receiving objects:  35% (799/2282), 608.86 MiB | 40.24 MiB/s\r",
      "Receiving objects:  36% (822/2282), 608.86 MiB | 40.24 MiB/s\r"
     ]
    },
    {
     "name": "stdout",
     "output_type": "stream",
     "text": [
      "Receiving objects:  37% (845/2282), 608.86 MiB | 40.24 MiB/s\r",
      "Receiving objects:  38% (868/2282), 608.86 MiB | 40.24 MiB/s\r",
      "Receiving objects:  39% (890/2282), 608.86 MiB | 40.24 MiB/s\r",
      "Receiving objects:  40% (913/2282), 608.86 MiB | 40.24 MiB/s\r",
      "Receiving objects:  41% (936/2282), 608.86 MiB | 40.24 MiB/s\r",
      "Receiving objects:  42% (959/2282), 608.86 MiB | 40.24 MiB/s\r",
      "Receiving objects:  43% (982/2282), 608.86 MiB | 40.24 MiB/s\r",
      "Receiving objects:  44% (1005/2282), 608.86 MiB | 40.24 MiB/s\r",
      "Receiving objects:  45% (1027/2282), 608.86 MiB | 40.24 MiB/s\r"
     ]
    },
    {
     "name": "stdout",
     "output_type": "stream",
     "text": [
      "Receiving objects:  46% (1050/2282), 630.51 MiB | 40.54 MiB/s\r",
      "Receiving objects:  47% (1073/2282), 630.51 MiB | 40.54 MiB/s\r",
      "Receiving objects:  48% (1096/2282), 630.51 MiB | 40.54 MiB/s\r",
      "Receiving objects:  49% (1119/2282), 630.51 MiB | 40.54 MiB/s\r"
     ]
    },
    {
     "name": "stdout",
     "output_type": "stream",
     "text": [
      "Receiving objects:  50% (1141/2282), 630.51 MiB | 40.54 MiB/s\r",
      "Receiving objects:  51% (1164/2282), 630.51 MiB | 40.54 MiB/s\r",
      "Receiving objects:  52% (1187/2282), 630.51 MiB | 40.54 MiB/s\r",
      "Receiving objects:  53% (1210/2282), 630.51 MiB | 40.54 MiB/s\r",
      "Receiving objects:  54% (1233/2282), 630.51 MiB | 40.54 MiB/s\r"
     ]
    },
    {
     "name": "stdout",
     "output_type": "stream",
     "text": [
      "Receiving objects:  54% (1243/2282), 651.77 MiB | 40.71 MiB/s\r"
     ]
    },
    {
     "name": "stdout",
     "output_type": "stream",
     "text": [
      "Receiving objects:  55% (1256/2282), 673.42 MiB | 40.90 MiB/s\r",
      "Receiving objects:  56% (1278/2282), 673.42 MiB | 40.90 MiB/s\r",
      "Receiving objects:  57% (1301/2282), 673.42 MiB | 40.90 MiB/s\r"
     ]
    },
    {
     "name": "stdout",
     "output_type": "stream",
     "text": [
      "Receiving objects:  57% (1308/2282), 695.76 MiB | 41.30 MiB/s\r"
     ]
    },
    {
     "name": "stdout",
     "output_type": "stream",
     "text": [
      "Receiving objects:  57% (1309/2282), 740.99 MiB | 42.71 MiB/s\r"
     ]
    },
    {
     "name": "stdout",
     "output_type": "stream",
     "text": [
      "Receiving objects:  58% (1324/2282), 764.40 MiB | 43.30 MiB/s\r",
      "Receiving objects:  59% (1347/2282), 764.40 MiB | 43.30 MiB/s\r",
      "Receiving objects:  60% (1370/2282), 764.40 MiB | 43.30 MiB/s\r",
      "Receiving objects:  61% (1393/2282), 764.40 MiB | 43.30 MiB/s\r",
      "Receiving objects:  62% (1415/2282), 764.40 MiB | 43.30 MiB/s\r"
     ]
    },
    {
     "name": "stdout",
     "output_type": "stream",
     "text": [
      "Receiving objects:  62% (1428/2282), 787.68 MiB | 43.90 MiB/s\r"
     ]
    },
    {
     "name": "stdout",
     "output_type": "stream",
     "text": [
      "Receiving objects:  63% (1438/2282), 787.68 MiB | 43.90 MiB/s\r",
      "Receiving objects:  64% (1461/2282), 787.68 MiB | 43.90 MiB/s\r",
      "Receiving objects:  65% (1484/2282), 787.68 MiB | 43.90 MiB/s\r",
      "Receiving objects:  66% (1507/2282), 787.68 MiB | 43.90 MiB/s\r",
      "Receiving objects:  67% (1529/2282), 787.68 MiB | 43.90 MiB/s\r"
     ]
    },
    {
     "name": "stdout",
     "output_type": "stream",
     "text": [
      "Receiving objects:  67% (1537/2282), 828.97 MiB | 44.10 MiB/s\r"
     ]
    },
    {
     "name": "stdout",
     "output_type": "stream",
     "text": [
      "Receiving objects:  68% (1552/2282), 828.97 MiB | 44.10 MiB/s\r",
      "Receiving objects:  69% (1575/2282), 828.97 MiB | 44.10 MiB/s\r"
     ]
    },
    {
     "name": "stdout",
     "output_type": "stream",
     "text": [
      "Receiving objects:  70% (1598/2282), 849.73 MiB | 43.99 MiB/s\r"
     ]
    },
    {
     "name": "stdout",
     "output_type": "stream",
     "text": [
      "Receiving objects:  70% (1598/2282), 865.39 MiB | 42.67 MiB/s\r"
     ]
    },
    {
     "name": "stdout",
     "output_type": "stream",
     "text": [
      "Receiving objects:  70% (1599/2282), 901.61 MiB | 40.71 MiB/s\r"
     ]
    },
    {
     "name": "stdout",
     "output_type": "stream",
     "text": [
      "Receiving objects:  71% (1621/2282), 921.04 MiB | 40.01 MiB/s\r",
      "Receiving objects:  72% (1644/2282), 921.04 MiB | 40.01 MiB/s\r",
      "Receiving objects:  73% (1666/2282), 921.04 MiB | 40.01 MiB/s\r",
      "Receiving objects:  74% (1689/2282), 921.04 MiB | 40.01 MiB/s\r",
      "Receiving objects:  75% (1712/2282), 921.04 MiB | 40.01 MiB/s\r",
      "Receiving objects:  76% (1735/2282), 921.04 MiB | 40.01 MiB/s\r",
      "Receiving objects:  77% (1758/2282), 921.04 MiB | 40.01 MiB/s\r"
     ]
    },
    {
     "name": "stdout",
     "output_type": "stream",
     "text": [
      "Receiving objects:  78% (1780/2282), 921.04 MiB | 40.01 MiB/s\r",
      "Receiving objects:  79% (1803/2282), 921.04 MiB | 40.01 MiB/s\r",
      "Receiving objects:  80% (1826/2282), 921.04 MiB | 40.01 MiB/s\r",
      "Receiving objects:  81% (1849/2282), 921.04 MiB | 40.01 MiB/s\r"
     ]
    },
    {
     "name": "stdout",
     "output_type": "stream",
     "text": [
      "Receiving objects:  81% (1871/2282), 941.54 MiB | 39.37 MiB/s\r"
     ]
    },
    {
     "name": "stdout",
     "output_type": "stream",
     "text": [
      "Receiving objects:  82% (1872/2282), 941.54 MiB | 39.37 MiB/s\r"
     ]
    },
    {
     "name": "stdout",
     "output_type": "stream",
     "text": [
      "Receiving objects:  83% (1895/2282), 962.40 MiB | 38.83 MiB/s\r",
      "Receiving objects:  84% (1917/2282), 962.40 MiB | 38.83 MiB/s\r",
      "Receiving objects:  85% (1940/2282), 962.40 MiB | 38.83 MiB/s\r",
      "Receiving objects:  86% (1963/2282), 962.40 MiB | 38.83 MiB/s\r"
     ]
    },
    {
     "name": "stdout",
     "output_type": "stream",
     "text": [
      "Receiving objects:  87% (1986/2282), 962.40 MiB | 38.83 MiB/s\r",
      "Receiving objects:  88% (2009/2282), 962.40 MiB | 38.83 MiB/s\r",
      "Receiving objects:  89% (2031/2282), 962.40 MiB | 38.83 MiB/s\r",
      "Receiving objects:  90% (2054/2282), 962.40 MiB | 38.83 MiB/s\r"
     ]
    },
    {
     "name": "stdout",
     "output_type": "stream",
     "text": [
      "Receiving objects:  91% (2077/2282), 962.40 MiB | 38.83 MiB/s\r",
      "Receiving objects:  92% (2100/2282), 962.40 MiB | 38.83 MiB/s\r",
      "Receiving objects:  93% (2123/2282), 962.40 MiB | 38.83 MiB/s\r",
      "Receiving objects:  94% (2146/2282), 962.40 MiB | 38.83 MiB/s\r",
      "Receiving objects:  95% (2168/2282), 962.40 MiB | 38.83 MiB/s\r",
      "Receiving objects:  96% (2191/2282), 962.40 MiB | 38.83 MiB/s\r"
     ]
    },
    {
     "name": "stdout",
     "output_type": "stream",
     "text": [
      "Receiving objects:  96% (2208/2282), 983.41 MiB | 38.47 MiB/s\r"
     ]
    },
    {
     "name": "stdout",
     "output_type": "stream",
     "text": [
      "Receiving objects:  96% (2212/2282), 1022.18 MiB | 38.32 MiB/s\r"
     ]
    },
    {
     "name": "stdout",
     "output_type": "stream",
     "text": [
      "Receiving objects:  97% (2214/2282), 1022.18 MiB | 38.32 MiB/s\r",
      "Receiving objects:  98% (2237/2282), 1022.18 MiB | 38.32 MiB/s\r"
     ]
    },
    {
     "name": "stdout",
     "output_type": "stream",
     "text": [
      "Receiving objects:  99% (2260/2282), 1022.18 MiB | 38.32 MiB/s\r"
     ]
    },
    {
     "name": "stdout",
     "output_type": "stream",
     "text": [
      "remote: Total 2282 (delta 127), reused 204 (delta 125), pack-reused 2075 (from 1)\u001b[K\r\n",
      "Receiving objects: 100% (2282/2282), 1022.18 MiB | 38.32 MiB/s\r",
      "Receiving objects: 100% (2282/2282), 1.01 GiB | 40.89 MiB/s, done.\r\n",
      "Resolving deltas:   0% (0/1152)\r",
      "Resolving deltas:   1% (12/1152)\r",
      "Resolving deltas:   2% (24/1152)\r",
      "Resolving deltas:   3% (35/1152)\r",
      "Resolving deltas:   4% (47/1152)\r",
      "Resolving deltas:   5% (58/1152)\r",
      "Resolving deltas:   6% (70/1152)\r",
      "Resolving deltas:   7% (81/1152)\r",
      "Resolving deltas:   8% (94/1152)\r",
      "Resolving deltas:   9% (105/1152)\r",
      "Resolving deltas:  10% (116/1152)\r",
      "Resolving deltas:  11% (128/1152)\r"
     ]
    },
    {
     "name": "stdout",
     "output_type": "stream",
     "text": [
      "Resolving deltas:  12% (139/1152)\r",
      "Resolving deltas:  13% (150/1152)\r",
      "Resolving deltas:  14% (162/1152)\r",
      "Resolving deltas:  15% (173/1152)\r",
      "Resolving deltas:  16% (185/1152)\r",
      "Resolving deltas:  17% (200/1152)\r",
      "Resolving deltas:  18% (208/1152)\r",
      "Resolving deltas:  19% (219/1152)\r",
      "Resolving deltas:  20% (231/1152)\r",
      "Resolving deltas:  21% (242/1152)\r",
      "Resolving deltas:  22% (255/1152)\r",
      "Resolving deltas:  23% (265/1152)\r",
      "Resolving deltas:  24% (280/1152)\r",
      "Resolving deltas:  25% (288/1152)\r",
      "Resolving deltas:  26% (300/1152)\r",
      "Resolving deltas:  27% (312/1152)\r",
      "Resolving deltas:  28% (323/1152)\r",
      "Resolving deltas:  29% (335/1152)\r",
      "Resolving deltas:  30% (346/1152)\r",
      "Resolving deltas:  31% (358/1152)\r",
      "Resolving deltas:  32% (370/1152)\r",
      "Resolving deltas:  33% (381/1152)\r",
      "Resolving deltas:  34% (392/1152)\r",
      "Resolving deltas:  35% (404/1152)\r",
      "Resolving deltas:  36% (415/1152)\r",
      "Resolving deltas:  37% (427/1152)\r",
      "Resolving deltas:  38% (438/1152)\r",
      "Resolving deltas:  39% (450/1152)\r",
      "Resolving deltas:  40% (461/1152)\r",
      "Resolving deltas:  41% (473/1152)\r",
      "Resolving deltas:  42% (487/1152)\r",
      "Resolving deltas:  43% (497/1152)\r",
      "Resolving deltas:  44% (507/1152)\r",
      "Resolving deltas:  45% (519/1152)\r",
      "Resolving deltas:  46% (531/1152)\r",
      "Resolving deltas:  47% (542/1152)\r",
      "Resolving deltas:  48% (553/1152)\r",
      "Resolving deltas:  49% (565/1152)\r",
      "Resolving deltas:  50% (576/1152)\r",
      "Resolving deltas:  51% (590/1152)\r",
      "Resolving deltas:  52% (600/1152)\r",
      "Resolving deltas:  53% (612/1152)\r",
      "Resolving deltas:  54% (623/1152)\r",
      "Resolving deltas:  55% (634/1152)\r",
      "Resolving deltas:  56% (646/1152)\r",
      "Resolving deltas:  57% (657/1152)\r",
      "Resolving deltas:  58% (670/1152)\r",
      "Resolving deltas:  59% (681/1152)\r",
      "Resolving deltas:  60% (692/1152)\r",
      "Resolving deltas:  61% (703/1152)\r",
      "Resolving deltas:  62% (715/1152)\r",
      "Resolving deltas:  63% (728/1152)\r",
      "Resolving deltas:  64% (738/1152)\r",
      "Resolving deltas:  65% (749/1152)\r",
      "Resolving deltas:  66% (762/1152)\r",
      "Resolving deltas:  67% (772/1152)\r",
      "Resolving deltas:  68% (785/1152)\r",
      "Resolving deltas:  69% (795/1152)\r",
      "Resolving deltas:  70% (808/1152)\r",
      "Resolving deltas:  71% (818/1152)\r",
      "Resolving deltas:  72% (831/1152)\r",
      "Resolving deltas:  73% (842/1152)\r",
      "Resolving deltas:  74% (853/1152)\r",
      "Resolving deltas:  75% (864/1152)\r",
      "Resolving deltas:  76% (876/1152)\r",
      "Resolving deltas:  77% (889/1152)\r",
      "Resolving deltas:  78% (900/1152)\r",
      "Resolving deltas:  79% (911/1152)\r",
      "Resolving deltas:  80% (923/1152)\r",
      "Resolving deltas:  81% (935/1152)\r",
      "Resolving deltas:  82% (945/1152)\r",
      "Resolving deltas:  83% (960/1152)\r",
      "Resolving deltas:  84% (968/1152)\r",
      "Resolving deltas:  85% (980/1152)\r",
      "Resolving deltas:  86% (991/1152)\r",
      "Resolving deltas:  87% (1003/1152)\r",
      "Resolving deltas:  88% (1015/1152)\r",
      "Resolving deltas:  89% (1026/1152)\r",
      "Resolving deltas:  90% (1037/1152)\r",
      "Resolving deltas:  91% (1049/1152)\r",
      "Resolving deltas:  92% (1060/1152)\r",
      "Resolving deltas:  93% (1074/1152)\r",
      "Resolving deltas:  94% (1085/1152)\r",
      "Resolving deltas:  95% (1095/1152)\r",
      "Resolving deltas:  96% (1108/1152)\r",
      "Resolving deltas:  97% (1118/1152)\r",
      "Resolving deltas:  98% (1129/1152)\r",
      "Resolving deltas:  99% (1141/1152)\r",
      "Resolving deltas: 100% (1152/1152)\r",
      "Resolving deltas: 100% (1152/1152), done.\r\n"
     ]
    },
    {
     "name": "stdout",
     "output_type": "stream",
     "text": [
      "Updating files:  13% (25/181)\r"
     ]
    },
    {
     "name": "stdout",
     "output_type": "stream",
     "text": [
      "Updating files:  14% (26/181)\r"
     ]
    },
    {
     "name": "stdout",
     "output_type": "stream",
     "text": [
      "Updating files:  14% (27/181)\r"
     ]
    },
    {
     "name": "stdout",
     "output_type": "stream",
     "text": [
      "Updating files:  15% (28/181)\r"
     ]
    },
    {
     "name": "stdout",
     "output_type": "stream",
     "text": [
      "Updating files:  16% (29/181)\r"
     ]
    },
    {
     "name": "stdout",
     "output_type": "stream",
     "text": [
      "Updating files:  16% (30/181)\r"
     ]
    },
    {
     "name": "stdout",
     "output_type": "stream",
     "text": [
      "Updating files:  17% (31/181)\r"
     ]
    },
    {
     "name": "stdout",
     "output_type": "stream",
     "text": [
      "Updating files:  18% (33/181)\r",
      "Updating files:  19% (35/181)\r",
      "Updating files:  20% (37/181)\r",
      "Updating files:  21% (39/181)\r",
      "Updating files:  22% (40/181)\r",
      "Updating files:  23% (42/181)\r",
      "Updating files:  24% (44/181)\r",
      "Updating files:  25% (46/181)\r",
      "Updating files:  26% (48/181)\r",
      "Updating files:  27% (49/181)\r",
      "Updating files:  28% (51/181)\r",
      "Updating files:  29% (53/181)\r",
      "Updating files:  30% (55/181)\r",
      "Updating files:  31% (57/181)\r",
      "Updating files:  32% (58/181)\r",
      "Updating files:  33% (60/181)\r",
      "Updating files:  34% (62/181)\r",
      "Updating files:  35% (64/181)\r",
      "Updating files:  36% (66/181)\r",
      "Updating files:  37% (67/181)\r",
      "Updating files:  38% (69/181)\r",
      "Updating files:  39% (71/181)\r",
      "Updating files:  40% (73/181)\r",
      "Updating files:  41% (75/181)\r",
      "Updating files:  42% (77/181)\r",
      "Updating files:  43% (78/181)\r",
      "Updating files:  44% (80/181)\r",
      "Updating files:  45% (82/181)\r",
      "Updating files:  46% (84/181)\r",
      "Updating files:  47% (86/181)\r",
      "Updating files:  48% (87/181)\r",
      "Updating files:  49% (89/181)\r",
      "Updating files:  50% (91/181)\r",
      "Updating files:  51% (93/181)\r",
      "Updating files:  52% (95/181)\r",
      "Updating files:  53% (96/181)\r",
      "Updating files:  54% (98/181)\r",
      "Updating files:  55% (100/181)\r",
      "Updating files:  56% (102/181)\r",
      "Updating files:  57% (104/181)\r",
      "Updating files:  58% (105/181)\r",
      "Updating files:  59% (107/181)\r",
      "Updating files:  60% (109/181)\r",
      "Updating files:  61% (111/181)\r",
      "Updating files:  62% (113/181)\r",
      "Updating files:  63% (115/181)\r",
      "Updating files:  64% (116/181)\r",
      "Updating files:  65% (118/181)\r",
      "Updating files:  66% (120/181)\r",
      "Updating files:  67% (122/181)\r",
      "Updating files:  68% (124/181)\r",
      "Updating files:  69% (125/181)\r",
      "Updating files:  70% (127/181)\r",
      "Updating files:  71% (129/181)\r",
      "Updating files:  72% (131/181)\r",
      "Updating files:  73% (133/181)\r",
      "Updating files:  74% (134/181)\r",
      "Updating files:  75% (136/181)\r",
      "Updating files:  76% (138/181)\r",
      "Updating files:  77% (140/181)\r",
      "Updating files:  78% (142/181)\r",
      "Updating files:  79% (143/181)\r",
      "Updating files:  80% (145/181)\r",
      "Updating files:  81% (147/181)\r",
      "Updating files:  82% (149/181)\r",
      "Updating files:  83% (151/181)\r",
      "Updating files:  84% (153/181)\r",
      "Updating files:  85% (154/181)\r",
      "Updating files:  86% (156/181)\r",
      "Updating files:  87% (158/181)\r",
      "Updating files:  88% (160/181)\r",
      "Updating files:  89% (162/181)\r",
      "Updating files:  90% (163/181)\r",
      "Updating files:  91% (165/181)\r",
      "Updating files:  92% (167/181)\r",
      "Updating files:  93% (169/181)\r",
      "Updating files:  94% (171/181)\r",
      "Updating files:  95% (172/181)\r",
      "Updating files:  96% (174/181)\r",
      "Updating files:  97% (176/181)\r",
      "Updating files:  98% (178/181)\r",
      "Updating files:  99% (180/181)\r",
      "Updating files: 100% (181/181)\r",
      "Updating files: 100% (181/181), done.\r\n"
     ]
    }
   ],
   "source": [
    "!pip install torchmetrics\n",
    "!git clone https://github.com/EkagraGupta/MasterArbeit.git"
   ]
  },
  {
   "cell_type": "code",
   "execution_count": 2,
   "id": "439a03d3",
   "metadata": {
    "execution": {
     "iopub.execute_input": "2024-09-16T08:04:05.641060Z",
     "iopub.status.busy": "2024-09-16T08:04:05.640781Z",
     "iopub.status.idle": "2024-09-16T08:04:06.569514Z",
     "shell.execute_reply": "2024-09-16T08:04:06.568859Z"
    },
    "papermill": {
     "duration": 0.940358,
     "end_time": "2024-09-16T08:04:06.571480",
     "exception": false,
     "start_time": "2024-09-16T08:04:05.631122",
     "status": "completed"
    },
    "tags": []
   },
   "outputs": [
    {
     "name": "stdout",
     "output_type": "stream",
     "text": [
      "['CIFAR-10-C']\n",
      "['motion_blur.npy', 'speckle_noise.npy', 'jpeg_compression.npy', 'impulse_noise.npy', 'defocus_blur.npy', 'brightness.npy', 'elastic_transform.npy', 'snow.npy', 'labels.npy', 'gaussian_blur.npy', 'frost.npy', 'zoom_blur.npy', 'spatter.npy', 'fog.npy', 'gaussian_noise.npy', 'contrast.npy', 'saturate.npy', 'shot_noise.npy', 'pixelate.npy', 'glass_blur.npy']\n",
      "Hyperparameters:\n",
      "\tDataset: CIFAR10\n",
      "\tType: custom\n",
      "\tEpochs: 100\n",
      "\tTPU Enabled: True\n"
     ]
    }
   ],
   "source": [
    "# This Python 3 environment comes with many helpful analytics libraries installed\n",
    "# It is defined by the kaggle/python Docker image: https://github.com/kaggle/docker-python\n",
    "# For example, here's several helpful packages to load\n",
    "\n",
    "import numpy as np # linear algebra\n",
    "import pandas as pd # data processing, CSV file I/O (e.g. pd.read_csv)\n",
    "import os\n",
    "\n",
    "DATASET_NAME = 'CIFAR10'    # CIFAR10, CIFAR100\n",
    "DATASET_TYPE = 'custom'   # baseline, custom\n",
    "REWEIGHT = True\n",
    "EPOCHS = 100\n",
    "BATCH_SIZE = 512\n",
    "ENABLE_TPU = True\n",
    "\n",
    "# CIFAR-10-C\n",
    "if DATASET_NAME=='CIFAR10':\n",
    "    dataset_dir = '/kaggle/input/cifar-c'\n",
    "    print(os.listdir(dataset_dir))\n",
    "    # Define the path to the subdirectory\n",
    "    sub_dir = os.path.join(dataset_dir, 'CIFAR-10-C')\n",
    "    # List contents of the subdirectory\n",
    "    print(os.listdir(sub_dir))\n",
    "elif DATASET_NAME=='CIFAR100':\n",
    "    # CIFAR-100-C\n",
    "    dataset_dir = '/kaggle/input/cifar-100-c'\n",
    "    print(os.listdir(dataset_dir))\n",
    "else:\n",
    "    raise ValueError(f'Dataset {DATASET_NAME} not supported')\n",
    "    \n",
    "\n",
    "print(f'Hyperparameters:\\n\\tDataset: {DATASET_NAME}\\n\\tType: {DATASET_TYPE}\\n\\tEpochs: {EPOCHS}\\n\\tTPU Enabled: {ENABLE_TPU}')"
   ]
  },
  {
   "cell_type": "code",
   "execution_count": 3,
   "id": "8ae95dcc",
   "metadata": {
    "execution": {
     "iopub.execute_input": "2024-09-16T08:04:06.590949Z",
     "iopub.status.busy": "2024-09-16T08:04:06.590484Z",
     "iopub.status.idle": "2024-09-16T08:05:05.196311Z",
     "shell.execute_reply": "2024-09-16T08:05:05.195125Z"
    },
    "papermill": {
     "duration": 58.617209,
     "end_time": "2024-09-16T08:05:05.197965",
     "exception": false,
     "start_time": "2024-09-16T08:04:06.580756",
     "status": "completed"
    },
    "tags": []
   },
   "outputs": [
    {
     "name": "stdout",
     "output_type": "stream",
     "text": [
      "TPU is Enabled\n"
     ]
    },
    {
     "name": "stderr",
     "output_type": "stream",
     "text": [
      "/usr/local/lib/python3.10/site-packages/torch_xla/__init__.py:202: UserWarning: `tensorflow` can conflict with `torch-xla`. Prefer `tensorflow-cpu` when using PyTorch/XLA. To silence this warning, `pip uninstall -y tensorflow && pip install tensorflow-cpu`. If you are in a notebook environment such as Colab or Kaggle, restart your notebook runtime afterwards.\n",
      "  warnings.warn(\n"
     ]
    },
    {
     "name": "stderr",
     "output_type": "stream",
     "text": [
      "WARNING: Logging before InitGoogle() is written to STDERR\n",
      "E0000 00:00:1726473878.772758      77 common_lib.cc:818] Could not set metric server port: INVALID_ARGUMENT: Could not find SliceBuilder port 8471 in any of the 0 ports provided in `tpu_process_addresses`=\"local\"\n",
      "=== Source Location Trace: ===\n",
      "learning/45eac/tfrc/runtime/common_lib.cc:483\n"
     ]
    },
    {
     "name": "stdout",
     "output_type": "stream",
     "text": [
      "Loading CIFAR10...\n",
      "\n",
      "Downloading https://www.cs.toronto.edu/~kriz/cifar-10-python.tar.gz to ./data/cifar-10-python.tar.gz\n"
     ]
    },
    {
     "name": "stderr",
     "output_type": "stream",
     "text": [
      "\r",
      "  0%|          | 0/170498071 [00:00<?, ?it/s]"
     ]
    },
    {
     "name": "stderr",
     "output_type": "stream",
     "text": [
      "\r",
      "  0%|          | 458752/170498071 [00:00<00:41, 4050192.81it/s]"
     ]
    },
    {
     "name": "stderr",
     "output_type": "stream",
     "text": [
      "\r",
      "  3%|▎         | 4292608/170498071 [00:00<00:07, 23082875.39it/s]"
     ]
    },
    {
     "name": "stderr",
     "output_type": "stream",
     "text": [
      "\r",
      "  5%|▌         | 9273344/170498071 [00:00<00:04, 34696291.02it/s]"
     ]
    },
    {
     "name": "stderr",
     "output_type": "stream",
     "text": [
      "\r",
      "  8%|▊         | 13893632/170498071 [00:00<00:04, 39003726.68it/s]"
     ]
    },
    {
     "name": "stderr",
     "output_type": "stream",
     "text": [
      "\r",
      " 11%|█         | 18710528/170498071 [00:00<00:03, 42112869.84it/s]"
     ]
    },
    {
     "name": "stderr",
     "output_type": "stream",
     "text": [
      "\r",
      " 14%|█▍        | 23494656/170498071 [00:00<00:03, 43998432.45it/s]"
     ]
    },
    {
     "name": "stderr",
     "output_type": "stream",
     "text": [
      "\r",
      " 16%|█▋        | 28114944/170498071 [00:00<00:03, 44661984.62it/s]"
     ]
    },
    {
     "name": "stderr",
     "output_type": "stream",
     "text": [
      "\r",
      " 19%|█▉        | 32931840/170498071 [00:00<00:03, 45675192.18it/s]"
     ]
    },
    {
     "name": "stderr",
     "output_type": "stream",
     "text": [
      "\r",
      " 22%|██▏       | 37847040/170498071 [00:00<00:02, 46738108.55it/s]"
     ]
    },
    {
     "name": "stderr",
     "output_type": "stream",
     "text": [
      "\r",
      " 25%|██▌       | 42663936/170498071 [00:01<00:02, 47134852.07it/s]"
     ]
    },
    {
     "name": "stderr",
     "output_type": "stream",
     "text": [
      "\r",
      " 28%|██▊       | 48136192/170498071 [00:01<00:02, 49414190.89it/s]"
     ]
    },
    {
     "name": "stderr",
     "output_type": "stream",
     "text": [
      "\r",
      " 31%|███▏      | 53280768/170498071 [00:01<00:02, 49928640.85it/s]"
     ]
    },
    {
     "name": "stderr",
     "output_type": "stream",
     "text": [
      "\r",
      " 34%|███▍      | 58294272/170498071 [00:01<00:02, 49503689.28it/s]"
     ]
    },
    {
     "name": "stderr",
     "output_type": "stream",
     "text": [
      "\r",
      " 37%|███▋      | 63275008/170498071 [00:01<00:02, 49071692.82it/s]"
     ]
    },
    {
     "name": "stderr",
     "output_type": "stream",
     "text": [
      "\r",
      " 40%|███▉      | 68190208/170498071 [00:01<00:02, 48786388.40it/s]"
     ]
    },
    {
     "name": "stderr",
     "output_type": "stream",
     "text": [
      "\r",
      " 43%|████▎     | 73072640/170498071 [00:01<00:02, 48527564.87it/s]"
     ]
    },
    {
     "name": "stderr",
     "output_type": "stream",
     "text": [
      "\r",
      " 46%|████▌     | 77955072/170498071 [00:01<00:01, 47719500.07it/s]"
     ]
    },
    {
     "name": "stderr",
     "output_type": "stream",
     "text": [
      "\r",
      " 49%|████▊     | 82739200/170498071 [00:01<00:01, 47626182.98it/s]"
     ]
    },
    {
     "name": "stderr",
     "output_type": "stream",
     "text": [
      "\r",
      " 51%|█████▏    | 87523328/170498071 [00:01<00:01, 47201596.42it/s]"
     ]
    },
    {
     "name": "stderr",
     "output_type": "stream",
     "text": [
      "\r",
      " 54%|█████▍    | 92274688/170498071 [00:02<00:01, 46882353.97it/s]"
     ]
    },
    {
     "name": "stderr",
     "output_type": "stream",
     "text": [
      "\r",
      " 57%|█████▋    | 96993280/170498071 [00:02<00:01, 46757641.93it/s]"
     ]
    },
    {
     "name": "stderr",
     "output_type": "stream",
     "text": [
      "\r",
      " 60%|█████▉    | 101679104/170498071 [00:02<00:01, 46636950.83it/s]"
     ]
    },
    {
     "name": "stderr",
     "output_type": "stream",
     "text": [
      "\r",
      " 62%|██████▏   | 106496000/170498071 [00:02<00:01, 46942830.84it/s]"
     ]
    },
    {
     "name": "stderr",
     "output_type": "stream",
     "text": [
      "\r",
      " 65%|██████▌   | 111214592/170498071 [00:02<00:01, 46892025.09it/s]"
     ]
    },
    {
     "name": "stderr",
     "output_type": "stream",
     "text": [
      "\r",
      " 68%|██████▊   | 115933184/170498071 [00:02<00:01, 46891732.60it/s]"
     ]
    },
    {
     "name": "stderr",
     "output_type": "stream",
     "text": [
      "\r",
      " 71%|███████   | 120651776/170498071 [00:02<00:01, 46735417.73it/s]"
     ]
    },
    {
     "name": "stderr",
     "output_type": "stream",
     "text": [
      "\r",
      " 74%|███████▎  | 125337600/170498071 [00:02<00:00, 46730875.43it/s]"
     ]
    },
    {
     "name": "stderr",
     "output_type": "stream",
     "text": [
      "\r",
      " 76%|███████▋  | 130023424/170498071 [00:02<00:00, 46427777.12it/s]"
     ]
    },
    {
     "name": "stderr",
     "output_type": "stream",
     "text": [
      "\r",
      " 79%|███████▉  | 134774784/170498071 [00:02<00:00, 46675320.99it/s]"
     ]
    },
    {
     "name": "stderr",
     "output_type": "stream",
     "text": [
      "\r",
      " 82%|████████▏ | 139460608/170498071 [00:03<00:00, 46486937.47it/s]"
     ]
    },
    {
     "name": "stderr",
     "output_type": "stream",
     "text": [
      "\r",
      " 85%|████████▍ | 144179200/170498071 [00:03<00:00, 46686688.09it/s]"
     ]
    },
    {
     "name": "stderr",
     "output_type": "stream",
     "text": [
      "\r",
      " 87%|████████▋ | 148930560/170498071 [00:03<00:00, 46793045.56it/s]"
     ]
    },
    {
     "name": "stderr",
     "output_type": "stream",
     "text": [
      "\r",
      " 90%|█████████ | 153616384/170498071 [00:03<00:00, 46784301.02it/s]"
     ]
    },
    {
     "name": "stderr",
     "output_type": "stream",
     "text": [
      "\r",
      " 93%|█████████▎| 158367744/170498071 [00:03<00:00, 46904112.40it/s]"
     ]
    },
    {
     "name": "stderr",
     "output_type": "stream",
     "text": [
      "\r",
      " 96%|█████████▌| 163086336/170498071 [00:03<00:00, 46848751.40it/s]"
     ]
    },
    {
     "name": "stderr",
     "output_type": "stream",
     "text": [
      "\r",
      "100%|██████████| 170498071/170498071 [00:03<00:00, 54910312.82it/s]"
     ]
    },
    {
     "name": "stderr",
     "output_type": "stream",
     "text": [
      "\r",
      "100%|██████████| 170498071/170498071 [00:03<00:00, 46568657.68it/s]"
     ]
    },
    {
     "name": "stderr",
     "output_type": "stream",
     "text": [
      "\n"
     ]
    },
    {
     "name": "stdout",
     "output_type": "stream",
     "text": [
      "Extracting ./data/cifar-10-python.tar.gz to ./data\n"
     ]
    },
    {
     "name": "stdout",
     "output_type": "stream",
     "text": [
      "Files already downloaded and verified\n"
     ]
    },
    {
     "name": "stderr",
     "output_type": "stream",
     "text": [
      "/usr/local/lib/python3.10/site-packages/IPython/core/magics/osm.py:417: UserWarning: This is now an optional IPython functionality, setting dhist requires you to install the `pickleshare` library.\n",
      "  self.shell.db['dhist'] = compress_dhist(dhist)[-100:]\n"
     ]
    },
    {
     "name": "stdout",
     "output_type": "stream",
     "text": [
      "/kaggle/working/MasterArbeit\n"
     ]
    },
    {
     "name": "stderr",
     "output_type": "stream",
     "text": [
      "/usr/local/lib/python3.10/site-packages/tqdm/auto.py:21: TqdmWarning: IProgress not found. Please update jupyter and ipywidgets. See https://ipywidgets.readthedocs.io/en/stable/user_install.html\n",
      "  from .autonotebook import tqdm as notebook_tqdm\n"
     ]
    },
    {
     "name": "stdout",
     "output_type": "stream",
     "text": [
      "Downloading https://www.cs.toronto.edu/~kriz/cifar-10-python.tar.gz to ./data/train/cifar-10-python.tar.gz\n"
     ]
    },
    {
     "name": "stderr",
     "output_type": "stream",
     "text": [
      "\r",
      "  0%|          | 0/170498071 [00:00<?, ?it/s]"
     ]
    },
    {
     "name": "stderr",
     "output_type": "stream",
     "text": [
      "\r",
      "  0%|          | 458752/170498071 [00:00<00:40, 4158758.67it/s]"
     ]
    },
    {
     "name": "stderr",
     "output_type": "stream",
     "text": [
      "\r",
      "  4%|▍         | 6488064/170498071 [00:00<00:04, 35824605.18it/s]"
     ]
    },
    {
     "name": "stderr",
     "output_type": "stream",
     "text": [
      "\r",
      "  9%|▊         | 14712832/170498071 [00:00<00:02, 56527794.93it/s]"
     ]
    },
    {
     "name": "stderr",
     "output_type": "stream",
     "text": [
      "\r",
      " 14%|█▎        | 23035904/170498071 [00:00<00:02, 66771636.86it/s]"
     ]
    },
    {
     "name": "stderr",
     "output_type": "stream",
     "text": [
      "\r",
      " 18%|█▊        | 31490048/170498071 [00:00<00:01, 72980044.44it/s]"
     ]
    },
    {
     "name": "stderr",
     "output_type": "stream",
     "text": [
      "\r",
      " 23%|██▎       | 39714816/170498071 [00:00<00:01, 76040359.72it/s]"
     ]
    },
    {
     "name": "stderr",
     "output_type": "stream",
     "text": [
      "\r",
      " 28%|██▊       | 48168960/170498071 [00:00<00:01, 78749528.43it/s]"
     ]
    },
    {
     "name": "stderr",
     "output_type": "stream",
     "text": [
      "\r",
      " 33%|███▎      | 56426496/170498071 [00:00<00:01, 79742084.80it/s]"
     ]
    },
    {
     "name": "stderr",
     "output_type": "stream",
     "text": [
      "\r",
      " 38%|███▊      | 65077248/170498071 [00:00<00:01, 81656335.64it/s]"
     ]
    },
    {
     "name": "stderr",
     "output_type": "stream",
     "text": [
      "\r",
      " 43%|████▎     | 73400320/170498071 [00:01<00:01, 82051360.72it/s]"
     ]
    },
    {
     "name": "stderr",
     "output_type": "stream",
     "text": [
      "\r",
      " 48%|████▊     | 82018304/170498071 [00:01<00:01, 83244535.92it/s]"
     ]
    },
    {
     "name": "stderr",
     "output_type": "stream",
     "text": [
      "\r",
      " 53%|█████▎    | 90374144/170498071 [00:01<00:00, 83006450.16it/s]"
     ]
    },
    {
     "name": "stderr",
     "output_type": "stream",
     "text": [
      "\r",
      " 58%|█████▊    | 98697216/170498071 [00:01<00:00, 82847572.17it/s]"
     ]
    },
    {
     "name": "stderr",
     "output_type": "stream",
     "text": [
      "\r",
      " 63%|██████▎   | 107249664/170498071 [00:01<00:00, 83626196.50it/s]"
     ]
    },
    {
     "name": "stderr",
     "output_type": "stream",
     "text": [
      "\r",
      " 68%|██████▊   | 115638272/170498071 [00:01<00:00, 83182294.16it/s]"
     ]
    },
    {
     "name": "stderr",
     "output_type": "stream",
     "text": [
      "\r",
      " 73%|███████▎  | 124059648/170498071 [00:01<00:00, 83474129.05it/s]"
     ]
    },
    {
     "name": "stderr",
     "output_type": "stream",
     "text": [
      "\r",
      " 78%|███████▊  | 132415488/170498071 [00:01<00:00, 83109582.32it/s]"
     ]
    },
    {
     "name": "stderr",
     "output_type": "stream",
     "text": [
      "\r",
      " 83%|████████▎ | 140967936/170498071 [00:01<00:00, 83804782.07it/s]"
     ]
    },
    {
     "name": "stderr",
     "output_type": "stream",
     "text": [
      "\r",
      " 88%|████████▊ | 149356544/170498071 [00:01<00:00, 83230078.10it/s]"
     ]
    },
    {
     "name": "stderr",
     "output_type": "stream",
     "text": [
      "\r",
      " 93%|█████████▎| 157810688/170498071 [00:02<00:00, 83608295.96it/s]"
     ]
    },
    {
     "name": "stderr",
     "output_type": "stream",
     "text": [
      "\r",
      " 97%|█████████▋| 166199296/170498071 [00:02<00:00, 83033957.60it/s]"
     ]
    },
    {
     "name": "stderr",
     "output_type": "stream",
     "text": [
      "\r",
      "100%|██████████| 170498071/170498071 [00:02<00:00, 78230946.81it/s]"
     ]
    },
    {
     "name": "stderr",
     "output_type": "stream",
     "text": [
      "\n"
     ]
    },
    {
     "name": "stdout",
     "output_type": "stream",
     "text": [
      "Extracting ./data/train/cifar-10-python.tar.gz to ./data/train\n"
     ]
    },
    {
     "name": "stdout",
     "output_type": "stream",
     "text": [
      "Downloading https://www.cs.toronto.edu/~kriz/cifar-10-python.tar.gz to ./data/test/cifar-10-python.tar.gz\n"
     ]
    },
    {
     "name": "stderr",
     "output_type": "stream",
     "text": [
      "\r",
      "  0%|          | 0/170498071 [00:00<?, ?it/s]"
     ]
    },
    {
     "name": "stderr",
     "output_type": "stream",
     "text": [
      "\r",
      "  0%|          | 294912/170498071 [00:00<00:58, 2889963.42it/s]"
     ]
    },
    {
     "name": "stderr",
     "output_type": "stream",
     "text": [
      "\r",
      "  2%|▏         | 2654208/170498071 [00:00<00:11, 14952005.97it/s]"
     ]
    },
    {
     "name": "stderr",
     "output_type": "stream",
     "text": [
      "\r",
      "  3%|▎         | 5767168/170498071 [00:00<00:07, 22255992.61it/s]"
     ]
    },
    {
     "name": "stderr",
     "output_type": "stream",
     "text": [
      "\r",
      "  5%|▌         | 8814592/170498071 [00:00<00:06, 25436051.98it/s]"
     ]
    },
    {
     "name": "stderr",
     "output_type": "stream",
     "text": [
      "\r",
      "  7%|▋         | 11927552/170498071 [00:00<00:05, 27418122.53it/s]"
     ]
    },
    {
     "name": "stderr",
     "output_type": "stream",
     "text": [
      "\r",
      "  9%|▉         | 15040512/170498071 [00:00<00:05, 28648318.99it/s]"
     ]
    },
    {
     "name": "stderr",
     "output_type": "stream",
     "text": [
      "\r",
      " 11%|█         | 18055168/170498071 [00:00<00:05, 29007214.46it/s]"
     ]
    },
    {
     "name": "stderr",
     "output_type": "stream",
     "text": [
      "\r",
      " 12%|█▏        | 20971520/170498071 [00:00<00:05, 26749390.87it/s]"
     ]
    },
    {
     "name": "stderr",
     "output_type": "stream",
     "text": [
      "\r",
      " 14%|█▍        | 23691264/170498071 [00:00<00:05, 25564733.91it/s]"
     ]
    },
    {
     "name": "stderr",
     "output_type": "stream",
     "text": [
      "\r",
      " 16%|█▌        | 26738688/170498071 [00:01<00:05, 26849935.77it/s]"
     ]
    },
    {
     "name": "stderr",
     "output_type": "stream",
     "text": [
      "\r",
      " 18%|█▊        | 30113792/170498071 [00:01<00:04, 28768468.30it/s]"
     ]
    },
    {
     "name": "stderr",
     "output_type": "stream",
     "text": [
      "\r",
      " 20%|█▉        | 33456128/170498071 [00:01<00:04, 30097830.31it/s]"
     ]
    },
    {
     "name": "stderr",
     "output_type": "stream",
     "text": [
      "\r",
      " 21%|██▏       | 36503552/170498071 [00:01<00:04, 29548486.11it/s]"
     ]
    },
    {
     "name": "stderr",
     "output_type": "stream",
     "text": [
      "\r",
      " 24%|██▍       | 41156608/170498071 [00:01<00:03, 34475931.18it/s]"
     ]
    },
    {
     "name": "stderr",
     "output_type": "stream",
     "text": [
      "\r",
      " 26%|██▋       | 45023232/170498071 [00:01<00:03, 35562888.05it/s]"
     ]
    },
    {
     "name": "stderr",
     "output_type": "stream",
     "text": [
      "\r",
      " 29%|██▊       | 48627712/170498071 [00:01<00:03, 35506543.39it/s]"
     ]
    },
    {
     "name": "stderr",
     "output_type": "stream",
     "text": [
      "\r",
      " 31%|███       | 52199424/170498071 [00:01<00:03, 35400903.67it/s]"
     ]
    },
    {
     "name": "stderr",
     "output_type": "stream",
     "text": [
      "\r",
      " 33%|███▎      | 55771136/170498071 [00:01<00:03, 34423097.03it/s]"
     ]
    },
    {
     "name": "stderr",
     "output_type": "stream",
     "text": [
      "\r",
      " 36%|███▌      | 60882944/170498071 [00:01<00:02, 39219352.79it/s]"
     ]
    },
    {
     "name": "stderr",
     "output_type": "stream",
     "text": [
      "\r",
      " 39%|███▉      | 66191360/170498071 [00:02<00:02, 43261100.93it/s]"
     ]
    },
    {
     "name": "stderr",
     "output_type": "stream",
     "text": [
      "\r",
      " 42%|████▏     | 71368704/170498071 [00:02<00:02, 45761477.91it/s]"
     ]
    },
    {
     "name": "stderr",
     "output_type": "stream",
     "text": [
      "\r",
      " 45%|████▍     | 76480512/170498071 [00:02<00:01, 47228117.17it/s]"
     ]
    },
    {
     "name": "stderr",
     "output_type": "stream",
     "text": [
      "\r",
      " 48%|████▊     | 81625088/170498071 [00:02<00:01, 48367750.54it/s]"
     ]
    },
    {
     "name": "stderr",
     "output_type": "stream",
     "text": [
      "\r",
      " 51%|█████     | 86802432/170498071 [00:02<00:01, 49328193.51it/s]"
     ]
    },
    {
     "name": "stderr",
     "output_type": "stream",
     "text": [
      "\r",
      " 54%|█████▍    | 92078080/170498071 [00:02<00:01, 50252690.47it/s]"
     ]
    },
    {
     "name": "stderr",
     "output_type": "stream",
     "text": [
      "\r",
      " 57%|█████▋    | 97288192/170498071 [00:02<00:01, 50732583.66it/s]"
     ]
    },
    {
     "name": "stderr",
     "output_type": "stream",
     "text": [
      "\r",
      " 60%|██████    | 102531072/170498071 [00:02<00:01, 51150256.43it/s]"
     ]
    },
    {
     "name": "stderr",
     "output_type": "stream",
     "text": [
      "\r",
      " 63%|██████▎   | 107872256/170498071 [00:02<00:01, 51607002.59it/s]"
     ]
    },
    {
     "name": "stderr",
     "output_type": "stream",
     "text": [
      "\r",
      " 67%|██████▋   | 114098176/170498071 [00:02<00:01, 54742449.67it/s]"
     ]
    },
    {
     "name": "stderr",
     "output_type": "stream",
     "text": [
      "\r",
      " 72%|███████▏  | 122650624/170498071 [00:03<00:00, 63912676.44it/s]"
     ]
    },
    {
     "name": "stderr",
     "output_type": "stream",
     "text": [
      "\r",
      " 78%|███████▊  | 133005312/170498071 [00:03<00:00, 75710798.75it/s]"
     ]
    },
    {
     "name": "stderr",
     "output_type": "stream",
     "text": [
      "\r",
      " 84%|████████▍ | 143360000/170498071 [00:03<00:00, 83938643.52it/s]"
     ]
    },
    {
     "name": "stderr",
     "output_type": "stream",
     "text": [
      "\r",
      " 90%|█████████ | 153714688/170498071 [00:03<00:00, 89780594.01it/s]"
     ]
    },
    {
     "name": "stderr",
     "output_type": "stream",
     "text": [
      "\r",
      " 96%|█████████▌| 164069376/170498071 [00:03<00:00, 93803177.16it/s]"
     ]
    },
    {
     "name": "stderr",
     "output_type": "stream",
     "text": [
      "\r",
      "100%|██████████| 170498071/170498071 [00:03<00:00, 48080748.38it/s]"
     ]
    },
    {
     "name": "stderr",
     "output_type": "stream",
     "text": [
      "\n"
     ]
    },
    {
     "name": "stdout",
     "output_type": "stream",
     "text": [
      "Extracting ./data/test/cifar-10-python.tar.gz to ./data/test\n"
     ]
    },
    {
     "name": "stdout",
     "output_type": "stream",
     "text": [
      "/root\n"
     ]
    },
    {
     "name": "stderr",
     "output_type": "stream",
     "text": [
      "/usr/local/lib/python3.10/site-packages/IPython/core/magics/osm.py:393: UserWarning: This is now an optional IPython functionality, using bookmarks requires you to install the `pickleshare` library.\n",
      "  bkms = self.shell.db.get('bookmarks', {})\n",
      "/usr/local/lib/python3.10/site-packages/IPython/core/magics/osm.py:428: UserWarning: This is now an optional IPython functionality, setting dhist requires you to install the `pickleshare` library.\n",
      "  self.shell.db['dhist'] = compress_dhist(dhist)[-100:]\n"
     ]
    }
   ],
   "source": [
    "# Import statements\n",
    "import torch\n",
    "import random\n",
    "import torchvision\n",
    "import torchvision.transforms as transforms\n",
    "from torch.optim.lr_scheduler import StepLR\n",
    "from torch.optim.lr_scheduler import CosineAnnealingLR\n",
    "from torchvision.transforms import TrivialAugmentWide\n",
    "from torch.utils.data import Dataset\n",
    "from torch.utils.data import ConcatDataset\n",
    "import os\n",
    "\n",
    "# Define the device\n",
    "tpu = ENABLE_TPU\n",
    "\n",
    "if tpu == True:\n",
    "    print('TPU is Enabled')\n",
    "    import torch_xla\n",
    "    import torch_xla.core.xla_model as xm\n",
    "    device = xm.xla_device()\n",
    "else:\n",
    "    device = torch.device('cuda:0' if torch.cuda.is_available() else 'cpu')  #intend here for else\n",
    "\n",
    "\n",
    "class CustomDataset(Dataset):\n",
    "    def __init__(self, np_images, original_dataset, resize):\n",
    "        # Load images\n",
    "        self.images = torch.from_numpy(np_images).permute(0, 3, 1, 2) / 255\n",
    "         #Normalize the images\n",
    "        #transform_test = transforms.Compose([\n",
    "            #transforms.Normalize((0.5, 0.5, 0.5), (0.5, 0.5, 0.5))\n",
    "        #])\n",
    "        #self.images = transform_test(self.images)\n",
    "        #if resize == True:\n",
    "            #self.images = transforms.Resize(224, antialias=True)(self.images)\n",
    "        \n",
    "        # Extract labels from the original PyTorch dataset\n",
    "        self.labels = [label for _, label in original_dataset]\n",
    "\n",
    "    def __len__(self):\n",
    "        return len(self.labels)\n",
    "\n",
    "    def __getitem__(self, index):\n",
    "        # Get image and label for the given index\n",
    "        image = self.images[index]\n",
    "        label = self.labels[index]\n",
    "\n",
    "        return image, label\n",
    "\n",
    "# Define the function to load corrupted datasets separately\n",
    "def load_data_c_separately(dataset, testset, resize, test_transforms, batch_size):\n",
    "    corruptions = ['gaussian_noise', 'shot_noise', 'impulse_noise', 'defocus_blur', 'glass_blur', 'motion_blur', 'zoom_blur', 'snow', 'frost', 'fog', 'brightness', 'contrast', 'elastic_transform', 'pixelate', 'jpeg_compression', 'speckle_noise', 'gaussian_blur', 'spatter', 'saturate']\n",
    "    np.asarray(corruptions)\n",
    "    c_datasets = {}\n",
    "    for corruption in corruptions:\n",
    "        if dataset == 'CIFAR10':\n",
    "            np_data_c = np.load(f'/kaggle/input/cifar-c/CIFAR-10-C/{corruption}.npy')\n",
    "            np_data_c = np.array(np.array_split(np_data_c, 5))\n",
    "            custom_dataset = CustomDataset(np_data_c[0], testset, resize)  # Load only one split for now\n",
    "            custom_dataloader = torch.utils.data.DataLoader(custom_dataset, batch_size=batch_size, shuffle=False)\n",
    "            c_datasets[corruption] = custom_dataloader\n",
    "        else:\n",
    "            print('No corrupted benchmark available other than CIFAR10-c.')\n",
    "\n",
    "    return c_datasets\n",
    "\n",
    "\n",
    "# Load corrupted datasets\n",
    "#corrupted_datasets = load_data_c(dataset='CIFAR10', testset=testset, resize=True, \n",
    "                                 #test_transforms=None, subset=False, subsetsize=None)\n",
    "\n",
    "# Transformations for training and test sets\n",
    "transform_train = transforms.Compose([\n",
    "    transforms.RandomHorizontalFlip(),\n",
    "    transforms.RandomCrop(32, padding=4),  \n",
    "    TrivialAugmentWide(),\n",
    "    transforms.ToTensor(),\n",
    "])\n",
    "transform_test = transforms.Compose([\n",
    "    transforms.ToTensor(),\n",
    "])\n",
    "\n",
    "batch_size = BATCH_SIZE\n",
    "\n",
    "print(f'Loading {DATASET_NAME}...\\n')\n",
    "if DATASET_NAME=='CIFAR10':\n",
    "#     Use CIFAR-10 dataset for training\n",
    "    num_classes = 10    # CIFAR-10\n",
    "    baseline_trainset = torchvision.datasets.CIFAR10(root='./data', train=True,\n",
    "                                            download=True, transform=transform_train)\n",
    "    baseline_trainloader = torch.utils.data.DataLoader(baseline_trainset, batch_size=batch_size,\n",
    "                                              shuffle=True, num_workers=2, pin_memory=True)\n",
    "\n",
    "    # Use CIFAR-10 dataset for testing\n",
    "    baseline_testset = torchvision.datasets.CIFAR10(root='./data', train=False,\n",
    "                                           download=True, transform=transform_test)\n",
    "    baseline_testloader = torch.utils.data.DataLoader(baseline_testset, batch_size=batch_size,\n",
    "                                             shuffle=False, num_workers=2, pin_memory=True)\n",
    "elif DATASET_NAME=='CIFAR100':\n",
    "    # # Use CIFAR-100 dataset for training\n",
    "    num_classes = 100   # CIFAR-100\n",
    "    baseline_trainset = torchvision.datasets.CIFAR100(root='./data', train=True,\n",
    "                                            download=True, transform=transform_train)\n",
    "    baseline_trainloader = torch.utils.data.DataLoader(baseline_trainset, batch_size=batch_size,\n",
    "                                              shuffle=True, num_workers=2, pin_memory=True)\n",
    "\n",
    "    # Use CIFAR-100 dataset for testing\n",
    "    baseline_testset = torchvision.datasets.CIFAR100(root='./data', train=False,\n",
    "                                           download=True, transform=transform_test)\n",
    "    baseline_testloader = torch.utils.data.DataLoader(baseline_testset, batch_size=batch_size,\n",
    "                                             shuffle=False, num_workers=2, pin_memory=True)\n",
    "    \n",
    "%cd /kaggle/working/MasterArbeit\n",
    "from augment_dataset import create_transforms, load_data\n",
    "# from compute_loss import soft_loss\n",
    "\n",
    "\"\"\"\n",
    " Create the transformations based on the provided flags:\n",
    " - If all flags (random_cropping, aggressive_augmentation, and custom) are False:\n",
    "   No augmentation other than default preprocessing is applied.\n",
    " - If random_cropping (rc) is True and the others (aa and custom) are False:\n",
    "   Only random cropping is applied.\n",
    " - If random_cropping (rc) and aggressive_augmentation (aa) are True, and custom is False:\n",
    "   Random cropping and conventional aggressive augmentation techniques (TA) are applied.\n",
    " - If all three flags (rc, aa, custom) are True:\n",
    "   Random cropping and soft augmentation techniques (TA) are applied.\n",
    " - If random_cropping (rc) is False, aggressive_augmentation (aa) is True, and custom is False:\n",
    "   Only conventional aggressive augmentation techniques (TA) are applied (no soft labels).\n",
    " - If random_cropping (rc) is False, aggressive_augmentation (aa) is True, and custom is True:\n",
    "   Aggressive augmentation (TA) is applied with soft labeling.\n",
    "\"\"\"\n",
    "\n",
    "transforms_preprocess, transforms_augmentation = create_transforms(random_cropping=False, aggressive_augmentation=True, custom=True, dataset_name=DATASET_NAME)\n",
    "custom_trainset, custom_testset = load_data(transforms_preprocess=transforms_preprocess, transforms_augmentation=transforms_augmentation, dataset_name=DATASET_NAME)\n",
    "custom_trainloader = torch.utils.data.DataLoader(custom_trainset, batch_size=batch_size, shuffle=True, num_workers=2, pin_memory=True)\n",
    "custom_testloader = torch.utils.data.DataLoader(custom_testset, batch_size=batch_size, shuffle=False, num_workers=2, pin_memory=True)\n",
    "%cd\n",
    "\n",
    "classes = baseline_trainset.classes\n"
   ]
  },
  {
   "cell_type": "code",
   "execution_count": 4,
   "id": "090a7e79",
   "metadata": {
    "execution": {
     "iopub.execute_input": "2024-09-16T08:05:05.228694Z",
     "iopub.status.busy": "2024-09-16T08:05:05.228175Z",
     "iopub.status.idle": "2024-09-16T08:05:05.232913Z",
     "shell.execute_reply": "2024-09-16T08:05:05.232127Z"
    },
    "papermill": {
     "duration": 0.02117,
     "end_time": "2024-09-16T08:05:05.234397",
     "exception": false,
     "start_time": "2024-09-16T08:05:05.213227",
     "status": "completed"
    },
    "tags": []
   },
   "outputs": [
    {
     "name": "stdout",
     "output_type": "stream",
     "text": [
      "Compose(\n",
      "    RandomHorizontalFlip(p=0.5)\n",
      "    RandomCrop(size=(32, 32), padding=4)\n",
      "    <augmentations.random_choice.RandomChoiceTransforms object at 0x7ab867e7faf0>\n",
      ")\n"
     ]
    }
   ],
   "source": [
    "print(transforms_augmentation)"
   ]
  },
  {
   "cell_type": "code",
   "execution_count": 5,
   "id": "adc5402b",
   "metadata": {
    "execution": {
     "iopub.execute_input": "2024-09-16T08:05:05.263247Z",
     "iopub.status.busy": "2024-09-16T08:05:05.263000Z",
     "iopub.status.idle": "2024-09-16T08:05:06.352050Z",
     "shell.execute_reply": "2024-09-16T08:05:06.350858Z"
    },
    "papermill": {
     "duration": 1.112532,
     "end_time": "2024-09-16T08:05:06.360502",
     "exception": false,
     "start_time": "2024-09-16T08:05:05.247970",
     "status": "completed"
    },
    "tags": []
   },
   "outputs": [
    {
     "name": "stdout",
     "output_type": "stream",
     "text": [
      "Dataset type \"custom\" displaying...\n",
      "\n"
     ]
    },
    {
     "name": "stdout",
     "output_type": "stream",
     "text": [
      "deer : 0.83 ship : 0.95 frog : 0.97 cat  : 0.87 airplane: 1.00 bird : 1.00 deer : 0.90 frog : 1.00 frog : 0.85 cat  : 0.59 dog  : 0.92 cat  : 1.00 automobile: 1.00 airplane: 1.00 truck: 0.81 airplane: 0.55 ship : 1.00 deer : 0.96 horse: 0.92 ship : 0.84 truck: 1.00 truck: 0.72 frog : 0.85 truck: 0.88 bird : 1.00 dog  : 0.96 truck: 0.62 automobile: 0.93 airplane: 1.00 airplane: 0.68 ship : 0.78 horse: 0.87 deer : 0.91 deer : 1.00 ship : 0.92 ship : 1.00 frog : 0.97 truck: 0.70 automobile: 0.82 automobile: 0.84 frog : 1.00 bird : 0.97 deer : 0.94 frog : 0.97 dog  : 0.87 dog  : 1.00 ship : 0.88 airplane: 1.00 ship : 1.00 ship : 1.00 ship : 1.00 ship : 0.95 dog  : 0.85 truck: 0.97 ship : 0.40 cat  : 0.97 deer : 0.82 automobile: 0.96 dog  : 0.99 horse: 0.85 dog  : 0.94 automobile: 0.83 truck: 0.88 ship : 0.99 truck: 0.88 airplane: 0.80 dog  : 0.85 dog  : 0.94 frog : 0.99 airplane: 1.00 deer : 0.92 frog : 0.64 bird : 1.00 automobile: 0.97 truck: 1.00 truck: 0.83 cat  : 0.98 truck: 1.00 airplane: 1.00 bird : 0.95 deer : 0.92 frog : 0.83 frog : 1.00 horse: 0.94 deer : 1.00 dog  : 0.93 automobile: 0.95 airplane: 0.99 automobile: 1.00 automobile: 0.99 horse: 0.84 cat  : 1.00 truck: 0.85 frog : 0.87 frog : 1.00 airplane: 1.00 bird : 0.99 airplane: 1.00 automobile: 0.88 cat  : 0.84 automobile: 1.00 bird : 1.00 bird : 0.93 automobile: 0.93 bird : 1.00 deer : 0.95 cat  : 1.00 truck: 1.00 airplane: 0.99 deer : 0.94 frog : 0.95 airplane: 1.00 horse: 0.99 deer : 0.98 dog  : 0.99 airplane: 1.00 airplane: 0.80 truck: 0.95 dog  : 0.95 horse: 0.99 cat  : 0.99 ship : 1.00 deer : 0.90 horse: 0.85 deer : 1.00 automobile: 0.97 deer : 0.83 frog : 0.99 frog : 0.91 cat  : 0.90 horse: 0.83 ship : 0.99 bird : 0.70 frog : 1.00 frog : 1.00 cat  : 0.92 airplane: 0.97 dog  : 0.98 frog : 0.97 cat  : 1.00 frog : 0.92 cat  : 0.78 deer : 0.92 ship : 1.00 deer : 0.98 automobile: 0.85 bird : 0.97 dog  : 0.98 cat  : 1.00 truck: 0.70 frog : 0.94 frog : 0.78 bird : 0.96 ship : 1.00 airplane: 0.80 dog  : 0.99 bird : 0.88 deer : 0.96 automobile: 0.92 airplane: 1.00 dog  : 0.93 frog : 0.92 truck: 1.00 dog  : 0.99 automobile: 1.00 automobile: 1.00 dog  : 0.99 horse: 0.92 dog  : 1.00 truck: 0.98 frog : 0.71 dog  : 0.99 truck: 1.00 automobile: 0.82 automobile: 1.00 dog  : 0.87 ship : 0.87 bird : 1.00 bird : 0.89 dog  : 0.87 automobile: 0.90 frog : 0.95 cat  : 0.92 dog  : 0.87 airplane: 0.92 truck: 1.00 horse: 0.69 bird : 0.95 ship : 0.94 cat  : 1.00 airplane: 0.81 horse: 0.55 deer : 0.95 airplane: 1.00 dog  : 0.92 cat  : 0.82 horse: 0.95 dog  : 0.82 bird : 0.99 bird : 0.90 frog : 0.70 airplane: 1.00 truck: 0.99 dog  : 0.83 bird : 0.69 cat  : 0.99 horse: 0.82 truck: 0.84 ship : 0.90 ship : 0.98 cat  : 0.99 ship : 0.99 horse: 0.91 frog : 0.56 truck: 0.96 frog : 1.00 truck: 1.00 truck: 1.00 automobile: 0.83 ship : 1.00 cat  : 1.00 airplane: 1.00 frog : 1.00 bird : 1.00 airplane: 0.84 truck: 0.95 automobile: 0.92 airplane: 0.99 deer : 1.00 bird : 0.96 horse: 1.00 frog : 0.95 deer : 0.99 dog  : 0.99 automobile: 1.00 ship : 1.00 cat  : 0.99 cat  : 0.85 dog  : 0.89 ship : 1.00 dog  : 1.00 horse: 0.89 dog  : 0.82 truck: 0.89 deer : 1.00 automobile: 0.97 horse: 0.42 deer : 0.78 deer : 0.83 automobile: 0.97 horse: 0.93 deer : 0.79 airplane: 0.99 bird : 0.99 airplane: 0.94 automobile: 0.93 horse: 0.85 automobile: 0.88 deer : 0.78 cat  : 0.80 frog : 1.00 automobile: 1.00 dog  : 1.00 bird : 0.93 frog : 0.98 automobile: 0.99 bird : 1.00 dog  : 0.96 cat  : 0.80 automobile: 0.86 bird : 0.79 horse: 1.00 ship : 0.94 cat  : 1.00 truck: 1.00 bird : 0.93 deer : 0.97 airplane: 0.82 frog : 1.00 automobile: 0.98 horse: 0.88 frog : 0.90 automobile: 0.92 ship : 1.00 dog  : 1.00 deer : 0.97 bird : 1.00 cat  : 1.00 frog : 0.92 frog : 0.92 bird : 0.88 frog : 0.98 horse: 0.95 dog  : 0.93 deer : 0.97 ship : 0.92 cat  : 0.80 horse: 1.00 frog : 1.00 deer : 1.00 bird : 0.92 deer : 1.00 cat  : 0.80 dog  : 1.00 cat  : 1.00 deer : 0.92 bird : 0.85 airplane: 1.00 truck: 0.98 airplane: 0.94 bird : 1.00 airplane: 1.00 automobile: 0.96 cat  : 0.65 ship : 0.98 frog : 0.92 automobile: 0.85 airplane: 0.82 dog  : 0.99 deer : 1.00 cat  : 1.00 bird : 0.91 dog  : 0.78 cat  : 1.00 cat  : 0.92 frog : 0.91 cat  : 0.49 ship : 0.97 airplane: 0.93 horse: 0.85 airplane: 0.97 horse: 0.99 horse: 0.95 airplane: 1.00 frog : 0.98 horse: 0.99 bird : 1.00 deer : 0.92 truck: 0.87 automobile: 0.90 bird : 1.00 cat  : 1.00 bird : 0.93 cat  : 1.00 truck: 1.00 frog : 0.78 airplane: 0.83 bird : 0.79 airplane: 0.97 horse: 1.00 horse: 0.83 deer : 0.92 deer : 0.93 ship : 1.00 truck: 0.85 deer : 0.89 truck: 1.00 frog : 0.92 ship : 1.00 horse: 1.00 ship : 0.92 ship : 0.96 bird : 1.00 horse: 0.83 airplane: 0.80 deer : 0.70 dog  : 0.93 bird : 0.92 airplane: 0.97 cat  : 0.92 cat  : 0.82 deer : 1.00 truck: 0.91 dog  : 0.93 dog  : 0.92 ship : 1.00 ship : 0.99 horse: 0.82 deer : 0.99 airplane: 0.80 airplane: 0.82 deer : 0.78 truck: 0.78 dog  : 0.87 airplane: 0.98 dog  : 0.78 automobile: 1.00 frog : 1.00 bird : 0.99 airplane: 0.97 automobile: 0.94 ship : 0.99 ship : 1.00 cat  : 0.90 bird : 1.00 frog : 0.84 bird : 1.00 airplane: 0.98 cat  : 0.92 airplane: 1.00 ship : 0.99 automobile: 0.62 cat  : 0.78 airplane: 1.00 deer : 0.73 deer : 0.99 bird : 0.96 bird : 0.88 truck: 0.91 truck: 0.96 dog  : 1.00 dog  : 0.82 deer : 0.94 truck: 0.94 frog : 0.98 horse: 0.84 cat  : 0.91 airplane: 1.00 horse: 0.99 dog  : 0.92 airplane: 0.97 automobile: 0.90 ship : 0.88 automobile: 0.92 cat  : 0.98 automobile: 1.00 truck: 0.94 frog : 1.00 cat  : 0.88 ship : 0.87 cat  : 0.83 cat  : 0.87 horse: 0.80 bird : 0.90 ship : 1.00 ship : 0.46 truck: 0.88 deer : 0.95 bird : 0.85 dog  : 0.92 frog : 0.99 bird : 1.00 cat  : 0.95 bird : 0.99 cat  : 0.98 airplane: 0.99 deer : 1.00 ship : 0.99 automobile: 0.92 horse: 1.00 automobile: 0.83 cat  : 0.80 ship : 0.85 frog : 0.92 automobile: 0.91 dog  : 0.83 truck: 0.86 horse: 1.00 deer : 0.88 cat  : 1.00 airplane: 0.56 airplane: 0.91 cat  : 1.00 ship : 1.00 ship : 1.00 cat  : 0.82 automobile: 0.83 airplane: 0.94 airplane: 0.37 ship : 0.90 cat  : 0.95 deer : 0.98 dog  : 0.57 ship : 0.80 ship : 1.00 cat  : 1.00 truck: 0.92 dog  : 0.93 cat  : 1.00 airplane: 0.80 automobile: 0.98 dog  : 0.88 dog  : 1.00 ship : 0.90 deer : 0.65 horse: 1.00 bird : 1.00 ship : 0.77 dog  : 1.00 automobile: 0.83 frog : 0.83 truck: 0.58 truck: 0.93 truck: 1.00 dog  : 1.00 dog  : 0.91 airplane: 0.90 truck: 0.97 automobile: 0.98 cat  : 1.00 cat  : 0.96 bird : 0.72 cat  : 0.98 horse: 0.86 ship : 0.63 ship : 0.92 deer : 0.88 airplane: 0.85 dog  : 1.00 truck: 0.91 dog  : 0.78 dog  : 0.74\n"
     ]
    },
    {
     "data": {
      "image/png": "[encoded data removed]",
      "text/plain": [
       "<Figure size 2500x2000 with 1 Axes>"
      ]
     },
     "metadata": {},
     "output_type": "display_data"
    }
   ],
   "source": [
    "import matplotlib.pyplot as plt\n",
    "import numpy as np\n",
    "\n",
    "# functions to show an image\n",
    "def imshow(img):\n",
    "    npimg = img.cpu().numpy()\n",
    "    plt.figure(figsize=(25, 20))  # Adjust the width and height as needed\n",
    "    plt.imshow(np.transpose(npimg, (1, 2, 0)))\n",
    "    plt.show()\n",
    "\n",
    "\n",
    "# get some random training images\n",
    "print(f'Dataset type \"{DATASET_TYPE}\" displaying...\\n')\n",
    "\n",
    "if DATASET_TYPE=='custom':\n",
    "    dataiter = iter(custom_trainloader)\n",
    "    images, labels, confidences = next(dataiter)\n",
    "    # print labels \n",
    "    if isinstance(confidences, list):\n",
    "        # in case we have confidence \n",
    "        confidences = confidences[1]\n",
    "        \n",
    "    print(' '.join(f'{classes[labels[j]]:5s}: {confidences[j].item():.2f}' for j in range(batch_size)))\n",
    "elif DATASET_TYPE=='baseline':\n",
    "#     if training baseline model\n",
    "    dataiter = iter(baseline_trainloader)\n",
    "    images, labels = next(dataiter)\n",
    "    print(' '.join(f'{classes[labels[j]]:5s}' for j in range(batch_size)))\n",
    "else:\n",
    "    raise ValueError(f'Dataset type {DATASET_TYPE} not supported')\n",
    "    \n",
    "# show images\n",
    "imshow(torchvision.utils.make_grid(images))"
   ]
  },
  {
   "cell_type": "markdown",
   "id": "58f5cd77",
   "metadata": {
    "papermill": {
     "duration": 0.02141,
     "end_time": "2024-09-16T08:05:06.404118",
     "exception": false,
     "start_time": "2024-09-16T08:05:06.382708",
     "status": "completed"
    },
    "tags": []
   },
   "source": [
    "## Define WideResNet 28_4"
   ]
  },
  {
   "cell_type": "code",
   "execution_count": 6,
   "id": "e8c7dd37",
   "metadata": {
    "execution": {
     "iopub.execute_input": "2024-09-16T08:05:06.446676Z",
     "iopub.status.busy": "2024-09-16T08:05:06.446315Z",
     "iopub.status.idle": "2024-09-16T08:05:06.463953Z",
     "shell.execute_reply": "2024-09-16T08:05:06.463082Z"
    },
    "papermill": {
     "duration": 0.041259,
     "end_time": "2024-09-16T08:05:06.465425",
     "exception": false,
     "start_time": "2024-09-16T08:05:06.424166",
     "status": "completed"
    },
    "tags": []
   },
   "outputs": [],
   "source": [
    "import torch.nn as nn\n",
    "import torch.nn.functional as F\n",
    "import torch.nn.init as init\n",
    "import numpy as np\n",
    "\n",
    "\n",
    "# Manual implementation of ResNet18\n",
    "class BasicBlock(nn.Module):\n",
    "    expansion = 1\n",
    "\n",
    "    def __init__(self, in_planes, planes, stride=1):\n",
    "        super(BasicBlock, self).__init__()\n",
    "        self.conv1 = nn.Conv2d(\n",
    "            in_planes, planes, kernel_size=3, stride=stride, padding=1, bias=False)\n",
    "        self.bn1 = nn.BatchNorm2d(planes)\n",
    "        self.conv2 = nn.Conv2d(planes, planes, kernel_size=3,\n",
    "                               stride=1, padding=1, bias=False)\n",
    "        self.bn2 = nn.BatchNorm2d(planes)\n",
    "\n",
    "        self.shortcut = nn.Sequential()\n",
    "        if stride != 1 or in_planes != self.expansion*planes:\n",
    "            self.shortcut = nn.Sequential(\n",
    "                nn.Conv2d(in_planes, self.expansion*planes,\n",
    "                          kernel_size=1, stride=stride, bias=False),\n",
    "                nn.BatchNorm2d(self.expansion*planes)\n",
    "            )\n",
    "\n",
    "    def forward(self, x):\n",
    "        out = F.relu(self.bn1(self.conv1(x)))\n",
    "        out = self.bn2(self.conv2(out))\n",
    "        out += self.shortcut(x)\n",
    "        out = F.relu(out)\n",
    "        return out\n",
    "\n",
    "\n",
    "class ResNet(nn.Module):\n",
    "    def __init__(self, block, layers, num_classes=num_classes):\n",
    "        super(ResNet, self).__init__()\n",
    "        self.in_planes = 64\n",
    "\n",
    "        self.conv1 = nn.Conv2d(3, 64, kernel_size=3, stride=1, padding=1, bias=False)\n",
    "        self.bn1 = nn.BatchNorm2d(64)\n",
    "        self.layer1 = self._make_layer(block, 64, layers[0], stride=1)\n",
    "        self.layer2 = self._make_layer(block, 128, layers[1], stride=2)\n",
    "        self.layer3 = self._make_layer(block, 256, layers[2], stride=2)\n",
    "        self.layer4 = self._make_layer(block, 512, layers[3], stride=2)\n",
    "        self.avgpool = nn.AdaptiveAvgPool2d((1, 1))  # Global average pooling layer\n",
    "        self.linear = nn.Linear(512, num_classes)\n",
    "\n",
    "    def _make_layer(self, block, planes, num_blocks, stride):\n",
    "        strides = [stride] + [1]*(num_blocks-1)\n",
    "        layers = []\n",
    "        for stride in strides:\n",
    "            layers.append(block(self.in_planes, planes, stride))\n",
    "            self.in_planes = planes * block.expansion\n",
    "        return nn.Sequential(*layers)\n",
    "\n",
    "    def forward(self, x):\n",
    "        out = F.relu(self.bn1(self.conv1(x)))\n",
    "        out = self.layer1(out)\n",
    "        out = self.layer2(out)\n",
    "        out = self.layer3(out)\n",
    "        out = self.layer4(out)\n",
    "        out = self.avgpool(out)  # Apply global average pooling\n",
    "        out = out.view(out.size(0), -1)\n",
    "        out = self.linear(out)\n",
    "        return out\n",
    "\n",
    "\n",
    "\n",
    "# ResNet18 Architecture\n",
    "def ResNet18(num_classes=num_classes):\n",
    "    return ResNet(BasicBlock, [2, 2, 2, 2], num_classes=num_classes)"
   ]
  },
  {
   "cell_type": "code",
   "execution_count": 7,
   "id": "67af4d70",
   "metadata": {
    "execution": {
     "iopub.execute_input": "2024-09-16T08:05:06.507988Z",
     "iopub.status.busy": "2024-09-16T08:05:06.507326Z",
     "iopub.status.idle": "2024-09-16T08:05:06.526483Z",
     "shell.execute_reply": "2024-09-16T08:05:06.525713Z"
    },
    "papermill": {
     "duration": 0.04223,
     "end_time": "2024-09-16T08:05:06.528181",
     "exception": false,
     "start_time": "2024-09-16T08:05:06.485951",
     "status": "completed"
    },
    "tags": []
   },
   "outputs": [],
   "source": [
    "def conv3x3(in_planes, out_planes, stride=1):\n",
    "    return nn.Conv2d(in_planes, out_planes, kernel_size=3, stride=stride, padding=1, bias=True)\n",
    "\n",
    "def conv_init(m):\n",
    "    classname = m.__class__.__name__\n",
    "    if classname.find('Conv') != -1:\n",
    "        init.xavier_uniform(m.weight, gain=np.sqrt(2))\n",
    "        init.constant(m.bias, 0)\n",
    "    elif classname.find('BatchNorm') != -1:\n",
    "        init.constant(m.weight, 1)\n",
    "        init.constant(m.bias, 0)\n",
    "\n",
    "class WideBasic(nn.Module):\n",
    "    def __init__(self, in_planes, planes, dropout_rate, stride=1):\n",
    "        super(WideBasic, self).__init__()\n",
    "        self.bn1 = nn.BatchNorm2d(in_planes)\n",
    "        self.conv1 = nn.Conv2d(in_planes, planes, kernel_size=3, padding=1, bias=True)\n",
    "        self.dropout = nn.Dropout(p=dropout_rate)\n",
    "        self.bn2 = nn.BatchNorm2d(planes)\n",
    "        self.conv2 = nn.Conv2d(planes, planes, kernel_size=3, stride=stride, padding=1, bias=True)\n",
    "\n",
    "        self.shortcut = nn.Sequential()\n",
    "        if stride != 1 or in_planes != planes:\n",
    "            self.shortcut = nn.Sequential(\n",
    "                nn.Conv2d(in_planes, planes, kernel_size=1, stride=stride, bias=True),\n",
    "            )\n",
    "\n",
    "    def forward(self, x):\n",
    "        out = self.dropout(self.conv1(F.relu(self.bn1(x))))\n",
    "        out = self.conv2(F.relu(self.bn2(out)))\n",
    "        out += self.shortcut(x)\n",
    "\n",
    "        return out\n",
    "\n",
    "class Bottleneck(nn.Module):\n",
    "    expansion = 4\n",
    "\n",
    "    def __init__(self, in_planes, planes, stride=1):\n",
    "        super(Bottleneck, self).__init__()\n",
    "        self.conv1 = nn.Conv2d(in_planes, planes, kernel_size=1, bias=False)\n",
    "        self.bn1 = nn.BatchNorm2d(planes)\n",
    "        self.conv2 = nn.Conv2d(planes, planes, kernel_size=3,\n",
    "                               stride=stride, padding=1, bias=False)\n",
    "        self.bn2 = nn.BatchNorm2d(planes)\n",
    "        self.conv3 = nn.Conv2d(planes, self.expansion *\n",
    "                               planes, kernel_size=1, bias=False)\n",
    "        self.bn3 = nn.BatchNorm2d(self.expansion*planes)\n",
    "\n",
    "        self.shortcut = nn.Sequential()\n",
    "        if stride != 1 or in_planes != self.expansion*planes:\n",
    "            self.shortcut = nn.Sequential(\n",
    "                nn.Conv2d(in_planes, self.expansion*planes,\n",
    "                          kernel_size=1, stride=stride, bias=False),\n",
    "                nn.BatchNorm2d(self.expansion*planes)\n",
    "            )\n",
    "\n",
    "    def forward(self, x):\n",
    "        out = F.relu(self.bn1(self.conv1(x)))\n",
    "        out = F.relu(self.bn2(self.conv2(out)))\n",
    "        out = self.bn3(self.conv3(out))\n",
    "        out += self.shortcut(x)\n",
    "        out = F.relu(out)\n",
    "        return out\n",
    "\n",
    "\n",
    "\n",
    "class WideResNet(nn.Module):\n",
    "    def __init__(self, depth, widen_factor, dropout_rate=0.3, num_classes=num_classes, factor=1, block=WideBasic):\n",
    "        super(WideResNet, self).__init__()\n",
    "        self.in_planes = 16\n",
    "\n",
    "        assert ((depth-4)%6 ==0), 'Wide-resnet depth should be 6n+4'\n",
    "        n = (int)((depth-4)/6)\n",
    "        k = widen_factor\n",
    "\n",
    "        nStages = [16, 16*k, 32*k, 64*k]\n",
    "\n",
    "        self.conv1 = conv3x3(3,nStages[0], stride=1)\n",
    "        self.layer1 = self._wide_layer(block, nStages[1], n, dropout_rate, stride=factor)\n",
    "        self.layer2 = self._wide_layer(block, nStages[2], n, dropout_rate, stride=2)\n",
    "        self.layer3 = self._wide_layer(block, nStages[3], n, dropout_rate, stride=2)\n",
    "        self.bn1 = nn.BatchNorm2d(nStages[3], momentum=0.9)\n",
    "        self.linear = nn.Linear(nStages[3], num_classes)\n",
    "\n",
    "    def _wide_layer(self, block, planes, num_blocks, dropout_rate, stride):\n",
    "        strides = [stride] + [1]*(num_blocks-1)\n",
    "        layers = []\n",
    "\n",
    "        for stride in strides:\n",
    "            layers.append(block(self.in_planes, planes, dropout_rate, stride))\n",
    "            self.in_planes = planes\n",
    "\n",
    "        return nn.Sequential(*layers)\n",
    "\n",
    "    def forward(self, x):\n",
    "        out = self.conv1(x)\n",
    "        out = self.layer1(out)\n",
    "        out = self.layer2(out)\n",
    "        out = self.layer3(out)\n",
    "        out = F.relu(self.bn1(out))\n",
    "        out = F.avg_pool2d(out, 8)\n",
    "        out = out.view(out.size(0), -1)\n",
    "        out = self.linear(out)\n",
    "\n",
    "        return out\n",
    "\n",
    "def WideResNet_28_4(num_classes, factor=1, block=WideBasic, dropout_rate=0.3):\n",
    "    return WideResNet(depth=28, widen_factor=4, dropout_rate=dropout_rate, num_classes=num_classes, factor=factor, block=block)"
   ]
  },
  {
   "cell_type": "markdown",
   "id": "03132c54",
   "metadata": {
    "papermill": {
     "duration": 0.020159,
     "end_time": "2024-09-16T08:05:06.568828",
     "exception": false,
     "start_time": "2024-09-16T08:05:06.548669",
     "status": "completed"
    },
    "tags": []
   },
   "source": [
    "## Model Training"
   ]
  },
  {
   "cell_type": "code",
   "execution_count": 8,
   "id": "a9382c6a",
   "metadata": {
    "execution": {
     "iopub.execute_input": "2024-09-16T08:05:06.610736Z",
     "iopub.status.busy": "2024-09-16T08:05:06.610436Z",
     "iopub.status.idle": "2024-09-16T08:05:06.722082Z",
     "shell.execute_reply": "2024-09-16T08:05:06.721139Z"
    },
    "papermill": {
     "duration": 0.135277,
     "end_time": "2024-09-16T08:05:06.724244",
     "exception": false,
     "start_time": "2024-09-16T08:05:06.588967",
     "status": "completed"
    },
    "tags": []
   },
   "outputs": [
    {
     "data": {
      "text/plain": [
       "WideResNet(\n",
       "  (conv1): Conv2d(3, 16, kernel_size=(3, 3), stride=(1, 1), padding=(1, 1))\n",
       "  (layer1): Sequential(\n",
       "    (0): WideBasic(\n",
       "      (bn1): BatchNorm2d(16, eps=1e-05, momentum=0.1, affine=True, track_running_stats=True)\n",
       "      (conv1): Conv2d(16, 64, kernel_size=(3, 3), stride=(1, 1), padding=(1, 1))\n",
       "      (dropout): Dropout(p=0.3, inplace=False)\n",
       "      (bn2): BatchNorm2d(64, eps=1e-05, momentum=0.1, affine=True, track_running_stats=True)\n",
       "      (conv2): Conv2d(64, 64, kernel_size=(3, 3), stride=(1, 1), padding=(1, 1))\n",
       "      (shortcut): Sequential(\n",
       "        (0): Conv2d(16, 64, kernel_size=(1, 1), stride=(1, 1))\n",
       "      )\n",
       "    )\n",
       "    (1): WideBasic(\n",
       "      (bn1): BatchNorm2d(64, eps=1e-05, momentum=0.1, affine=True, track_running_stats=True)\n",
       "      (conv1): Conv2d(64, 64, kernel_size=(3, 3), stride=(1, 1), padding=(1, 1))\n",
       "      (dropout): Dropout(p=0.3, inplace=False)\n",
       "      (bn2): BatchNorm2d(64, eps=1e-05, momentum=0.1, affine=True, track_running_stats=True)\n",
       "      (conv2): Conv2d(64, 64, kernel_size=(3, 3), stride=(1, 1), padding=(1, 1))\n",
       "      (shortcut): Sequential()\n",
       "    )\n",
       "    (2): WideBasic(\n",
       "      (bn1): BatchNorm2d(64, eps=1e-05, momentum=0.1, affine=True, track_running_stats=True)\n",
       "      (conv1): Conv2d(64, 64, kernel_size=(3, 3), stride=(1, 1), padding=(1, 1))\n",
       "      (dropout): Dropout(p=0.3, inplace=False)\n",
       "      (bn2): BatchNorm2d(64, eps=1e-05, momentum=0.1, affine=True, track_running_stats=True)\n",
       "      (conv2): Conv2d(64, 64, kernel_size=(3, 3), stride=(1, 1), padding=(1, 1))\n",
       "      (shortcut): Sequential()\n",
       "    )\n",
       "    (3): WideBasic(\n",
       "      (bn1): BatchNorm2d(64, eps=1e-05, momentum=0.1, affine=True, track_running_stats=True)\n",
       "      (conv1): Conv2d(64, 64, kernel_size=(3, 3), stride=(1, 1), padding=(1, 1))\n",
       "      (dropout): Dropout(p=0.3, inplace=False)\n",
       "      (bn2): BatchNorm2d(64, eps=1e-05, momentum=0.1, affine=True, track_running_stats=True)\n",
       "      (conv2): Conv2d(64, 64, kernel_size=(3, 3), stride=(1, 1), padding=(1, 1))\n",
       "      (shortcut): Sequential()\n",
       "    )\n",
       "  )\n",
       "  (layer2): Sequential(\n",
       "    (0): WideBasic(\n",
       "      (bn1): BatchNorm2d(64, eps=1e-05, momentum=0.1, affine=True, track_running_stats=True)\n",
       "      (conv1): Conv2d(64, 128, kernel_size=(3, 3), stride=(1, 1), padding=(1, 1))\n",
       "      (dropout): Dropout(p=0.3, inplace=False)\n",
       "      (bn2): BatchNorm2d(128, eps=1e-05, momentum=0.1, affine=True, track_running_stats=True)\n",
       "      (conv2): Conv2d(128, 128, kernel_size=(3, 3), stride=(2, 2), padding=(1, 1))\n",
       "      (shortcut): Sequential(\n",
       "        (0): Conv2d(64, 128, kernel_size=(1, 1), stride=(2, 2))\n",
       "      )\n",
       "    )\n",
       "    (1): WideBasic(\n",
       "      (bn1): BatchNorm2d(128, eps=1e-05, momentum=0.1, affine=True, track_running_stats=True)\n",
       "      (conv1): Conv2d(128, 128, kernel_size=(3, 3), stride=(1, 1), padding=(1, 1))\n",
       "      (dropout): Dropout(p=0.3, inplace=False)\n",
       "      (bn2): BatchNorm2d(128, eps=1e-05, momentum=0.1, affine=True, track_running_stats=True)\n",
       "      (conv2): Conv2d(128, 128, kernel_size=(3, 3), stride=(1, 1), padding=(1, 1))\n",
       "      (shortcut): Sequential()\n",
       "    )\n",
       "    (2): WideBasic(\n",
       "      (bn1): BatchNorm2d(128, eps=1e-05, momentum=0.1, affine=True, track_running_stats=True)\n",
       "      (conv1): Conv2d(128, 128, kernel_size=(3, 3), stride=(1, 1), padding=(1, 1))\n",
       "      (dropout): Dropout(p=0.3, inplace=False)\n",
       "      (bn2): BatchNorm2d(128, eps=1e-05, momentum=0.1, affine=True, track_running_stats=True)\n",
       "      (conv2): Conv2d(128, 128, kernel_size=(3, 3), stride=(1, 1), padding=(1, 1))\n",
       "      (shortcut): Sequential()\n",
       "    )\n",
       "    (3): WideBasic(\n",
       "      (bn1): BatchNorm2d(128, eps=1e-05, momentum=0.1, affine=True, track_running_stats=True)\n",
       "      (conv1): Conv2d(128, 128, kernel_size=(3, 3), stride=(1, 1), padding=(1, 1))\n",
       "      (dropout): Dropout(p=0.3, inplace=False)\n",
       "      (bn2): BatchNorm2d(128, eps=1e-05, momentum=0.1, affine=True, track_running_stats=True)\n",
       "      (conv2): Conv2d(128, 128, kernel_size=(3, 3), stride=(1, 1), padding=(1, 1))\n",
       "      (shortcut): Sequential()\n",
       "    )\n",
       "  )\n",
       "  (layer3): Sequential(\n",
       "    (0): WideBasic(\n",
       "      (bn1): BatchNorm2d(128, eps=1e-05, momentum=0.1, affine=True, track_running_stats=True)\n",
       "      (conv1): Conv2d(128, 256, kernel_size=(3, 3), stride=(1, 1), padding=(1, 1))\n",
       "      (dropout): Dropout(p=0.3, inplace=False)\n",
       "      (bn2): BatchNorm2d(256, eps=1e-05, momentum=0.1, affine=True, track_running_stats=True)\n",
       "      (conv2): Conv2d(256, 256, kernel_size=(3, 3), stride=(2, 2), padding=(1, 1))\n",
       "      (shortcut): Sequential(\n",
       "        (0): Conv2d(128, 256, kernel_size=(1, 1), stride=(2, 2))\n",
       "      )\n",
       "    )\n",
       "    (1): WideBasic(\n",
       "      (bn1): BatchNorm2d(256, eps=1e-05, momentum=0.1, affine=True, track_running_stats=True)\n",
       "      (conv1): Conv2d(256, 256, kernel_size=(3, 3), stride=(1, 1), padding=(1, 1))\n",
       "      (dropout): Dropout(p=0.3, inplace=False)\n",
       "      (bn2): BatchNorm2d(256, eps=1e-05, momentum=0.1, affine=True, track_running_stats=True)\n",
       "      (conv2): Conv2d(256, 256, kernel_size=(3, 3), stride=(1, 1), padding=(1, 1))\n",
       "      (shortcut): Sequential()\n",
       "    )\n",
       "    (2): WideBasic(\n",
       "      (bn1): BatchNorm2d(256, eps=1e-05, momentum=0.1, affine=True, track_running_stats=True)\n",
       "      (conv1): Conv2d(256, 256, kernel_size=(3, 3), stride=(1, 1), padding=(1, 1))\n",
       "      (dropout): Dropout(p=0.3, inplace=False)\n",
       "      (bn2): BatchNorm2d(256, eps=1e-05, momentum=0.1, affine=True, track_running_stats=True)\n",
       "      (conv2): Conv2d(256, 256, kernel_size=(3, 3), stride=(1, 1), padding=(1, 1))\n",
       "      (shortcut): Sequential()\n",
       "    )\n",
       "    (3): WideBasic(\n",
       "      (bn1): BatchNorm2d(256, eps=1e-05, momentum=0.1, affine=True, track_running_stats=True)\n",
       "      (conv1): Conv2d(256, 256, kernel_size=(3, 3), stride=(1, 1), padding=(1, 1))\n",
       "      (dropout): Dropout(p=0.3, inplace=False)\n",
       "      (bn2): BatchNorm2d(256, eps=1e-05, momentum=0.1, affine=True, track_running_stats=True)\n",
       "      (conv2): Conv2d(256, 256, kernel_size=(3, 3), stride=(1, 1), padding=(1, 1))\n",
       "      (shortcut): Sequential()\n",
       "    )\n",
       "  )\n",
       "  (bn1): BatchNorm2d(256, eps=1e-05, momentum=0.9, affine=True, track_running_stats=True)\n",
       "  (linear): Linear(in_features=256, out_features=10, bias=True)\n",
       ")"
      ]
     },
     "execution_count": 8,
     "metadata": {},
     "output_type": "execute_result"
    }
   ],
   "source": [
    "# Initialize the model\n",
    "net = WideResNet_28_4(num_classes=num_classes)\n",
    "net.to(device)"
   ]
  },
  {
   "cell_type": "code",
   "execution_count": 9,
   "id": "54c2db60",
   "metadata": {
    "execution": {
     "iopub.execute_input": "2024-09-16T08:05:06.770368Z",
     "iopub.status.busy": "2024-09-16T08:05:06.770046Z",
     "iopub.status.idle": "2024-09-16T08:05:06.776481Z",
     "shell.execute_reply": "2024-09-16T08:05:06.775636Z"
    },
    "papermill": {
     "duration": 0.030656,
     "end_time": "2024-09-16T08:05:06.778407",
     "exception": false,
     "start_time": "2024-09-16T08:05:06.747751",
     "status": "completed"
    },
    "tags": []
   },
   "outputs": [],
   "source": [
    "def soft_loss(pred, label, confidence, reweight=False):\n",
    "    log_prob = F.log_softmax(pred, dim=1)\n",
    "    n_class = pred.size(1)\n",
    "\n",
    "    # Make soft one-hot target\n",
    "    label = label.unsqueeze(1)\n",
    "    confidence = confidence.unsqueeze(1).float()\n",
    "    # soft one_hot\n",
    "    one_hot = torch.ones_like(pred) * (1 - confidence) / (n_class - 1)\n",
    "    one_hot.scatter_(dim=1, index=label, src=confidence)\n",
    "    \n",
    "    # hard one_hot\n",
    "#     one_hot = torch.zeros_like(pred)\n",
    "#     one_hot.scatter_(dim=1, index=label, value=1.0)\n",
    "    # Compute weighted KL loss\n",
    "    kl = F.kl_div(input=log_prob, target=one_hot, reduction=\"none\").sum(-1)\n",
    "    kl = kl.unsqueeze(1)  # Unweighted\n",
    "    if reweight:\n",
    "        kl = confidence * kl  # Weighted\n",
    "    return kl.mean()"
   ]
  },
  {
   "cell_type": "code",
   "execution_count": 10,
   "id": "671edef3",
   "metadata": {
    "execution": {
     "iopub.execute_input": "2024-09-16T08:05:07.032495Z",
     "iopub.status.busy": "2024-09-16T08:05:07.032221Z",
     "iopub.status.idle": "2024-09-16T08:43:56.590198Z",
     "shell.execute_reply": "2024-09-16T08:43:56.589047Z"
    },
    "papermill": {
     "duration": 2329.583653,
     "end_time": "2024-09-16T08:43:56.593117",
     "exception": false,
     "start_time": "2024-09-16T08:05:07.009464",
     "status": "completed"
    },
    "tags": []
   },
   "outputs": [
    {
     "name": "stdout",
     "output_type": "stream",
     "text": [
      "\n",
      "Start Training...\n",
      "\n"
     ]
    },
    {
     "name": "stderr",
     "output_type": "stream",
     "text": [
      "/usr/local/lib/python3.10/site-packages/torch/autograd/graph.py:768: UserWarning: aten::kl_div: an autograd kernel was not registered to the Autograd key(s) but we are trying to backprop through it. This may lead to silently incorrect behavior. This behavior is deprecated and will be removed in a future version of PyTorch. If your operator is differentiable, please ensure you have registered an autograd kernel to the correct Autograd key (e.g. DispatchKey::Autograd, DispatchKey::CompositeImplicitAutograd). If your operator is not differentiable, or to squash this warning and use the previous behavior, please register torch::CppFunction::makeFallthrough() to DispatchKey::Autograd. (Triggered internally at ../torch/csrc/autograd/autograd_not_implemented_fallback.cpp:63.)\n",
      "  return Variable._execution_engine.run_backward(  # Calls into the C++ engine to run the backward pass\n"
     ]
    },
    {
     "name": "stdout",
     "output_type": "stream",
     "text": [
      "\n",
      "Epoch 1 - Loss: 1.495 - Test Accuracy:  36.080\n",
      "\n",
      "Processing time:  91.275322 seconds.\n"
     ]
    },
    {
     "name": "stdout",
     "output_type": "stream",
     "text": [
      "\n",
      "Epoch 2 - Loss: 1.265 - Test Accuracy:  42.020\n",
      "\n",
      "Processing time:  41.150721 seconds.\n"
     ]
    },
    {
     "name": "stdout",
     "output_type": "stream",
     "text": [
      "\n",
      "Epoch 3 - Loss: 1.090 - Test Accuracy:  37.760\n",
      "\n",
      "Processing time:  37.861864 seconds.\n"
     ]
    },
    {
     "name": "stdout",
     "output_type": "stream",
     "text": [
      "\n",
      "Epoch 4 - Loss: 0.989 - Test Accuracy:  42.660\n",
      "\n",
      "Processing time:  22.061044 seconds.\n"
     ]
    },
    {
     "name": "stdout",
     "output_type": "stream",
     "text": [
      "\n",
      "Epoch 5 - Loss: 0.895 - Test Accuracy:  60.910\n",
      "\n",
      "Processing time:  21.535689 seconds.\n"
     ]
    },
    {
     "name": "stdout",
     "output_type": "stream",
     "text": [
      "\n",
      "Epoch 6 - Loss: 0.831 - Test Accuracy:  68.850\n",
      "\n",
      "Processing time:  21.369087 seconds.\n"
     ]
    },
    {
     "name": "stdout",
     "output_type": "stream",
     "text": [
      "\n",
      "Epoch 7 - Loss: 0.786 - Test Accuracy:  72.130\n",
      "\n",
      "Processing time:  21.715452 seconds.\n"
     ]
    },
    {
     "name": "stdout",
     "output_type": "stream",
     "text": [
      "\n",
      "Epoch 8 - Loss: 0.743 - Test Accuracy:  73.700\n",
      "\n",
      "Processing time:  21.974439 seconds.\n"
     ]
    },
    {
     "name": "stdout",
     "output_type": "stream",
     "text": [
      "\n",
      "Epoch 9 - Loss: 0.705 - Test Accuracy:  69.360\n",
      "\n",
      "Processing time:  21.402968 seconds.\n"
     ]
    },
    {
     "name": "stdout",
     "output_type": "stream",
     "text": [
      "\n",
      "Epoch 10 - Loss: 0.681 - Test Accuracy:  72.170\n",
      "\n",
      "Processing time:  21.483611 seconds.\n"
     ]
    },
    {
     "name": "stdout",
     "output_type": "stream",
     "text": [
      "\n",
      "Epoch 11 - Loss: 0.644 - Test Accuracy:  77.420\n",
      "\n",
      "Processing time:  21.457402 seconds.\n"
     ]
    },
    {
     "name": "stdout",
     "output_type": "stream",
     "text": [
      "\n",
      "Epoch 12 - Loss: 0.620 - Test Accuracy:  71.500\n",
      "\n",
      "Processing time:  42.005442 seconds.\n"
     ]
    },
    {
     "name": "stdout",
     "output_type": "stream",
     "text": [
      "\n",
      "Epoch 13 - Loss: 0.596 - Test Accuracy:  75.640\n",
      "\n",
      "Processing time:  21.709499 seconds.\n"
     ]
    },
    {
     "name": "stdout",
     "output_type": "stream",
     "text": [
      "\n",
      "Epoch 14 - Loss: 0.581 - Test Accuracy:  76.640\n",
      "\n",
      "Processing time:  22.172158 seconds.\n"
     ]
    },
    {
     "name": "stdout",
     "output_type": "stream",
     "text": [
      "\n",
      "Epoch 15 - Loss: 0.566 - Test Accuracy:  75.310\n",
      "\n",
      "Processing time:  22.034900 seconds.\n"
     ]
    },
    {
     "name": "stdout",
     "output_type": "stream",
     "text": [
      "\n",
      "Epoch 16 - Loss: 0.546 - Test Accuracy:  74.020\n",
      "\n",
      "Processing time:  22.222193 seconds.\n"
     ]
    },
    {
     "name": "stdout",
     "output_type": "stream",
     "text": [
      "\n",
      "Epoch 17 - Loss: 0.529 - Test Accuracy:  71.160\n",
      "\n",
      "Processing time:  22.061610 seconds.\n"
     ]
    },
    {
     "name": "stdout",
     "output_type": "stream",
     "text": [
      "\n",
      "Epoch 18 - Loss: 0.522 - Test Accuracy:  82.850\n",
      "\n",
      "Processing time:  22.043469 seconds.\n"
     ]
    },
    {
     "name": "stdout",
     "output_type": "stream",
     "text": [
      "\n",
      "Epoch 19 - Loss: 0.501 - Test Accuracy:  83.440\n",
      "\n",
      "Processing time:  21.825307 seconds.\n"
     ]
    },
    {
     "name": "stdout",
     "output_type": "stream",
     "text": [
      "\n",
      "Epoch 20 - Loss: 0.497 - Test Accuracy:  80.440\n",
      "\n",
      "Processing time:  21.713538 seconds.\n"
     ]
    },
    {
     "name": "stdout",
     "output_type": "stream",
     "text": [
      "\n",
      "Epoch 21 - Loss: 0.482 - Test Accuracy:  78.230\n",
      "\n",
      "Processing time:  21.658139 seconds.\n"
     ]
    },
    {
     "name": "stdout",
     "output_type": "stream",
     "text": [
      "\n",
      "Epoch 22 - Loss: 0.475 - Test Accuracy:  83.540\n",
      "\n",
      "Processing time:  21.564822 seconds.\n"
     ]
    },
    {
     "name": "stdout",
     "output_type": "stream",
     "text": [
      "\n",
      "Epoch 23 - Loss: 0.465 - Test Accuracy:  85.430\n",
      "\n",
      "Processing time:  21.638987 seconds.\n"
     ]
    },
    {
     "name": "stdout",
     "output_type": "stream",
     "text": [
      "\n",
      "Epoch 24 - Loss: 0.459 - Test Accuracy:  84.960\n",
      "\n",
      "Processing time:  21.491308 seconds.\n"
     ]
    },
    {
     "name": "stdout",
     "output_type": "stream",
     "text": [
      "\n",
      "Epoch 25 - Loss: 0.448 - Test Accuracy:  85.130\n",
      "\n",
      "Processing time:  22.415084 seconds.\n"
     ]
    },
    {
     "name": "stdout",
     "output_type": "stream",
     "text": [
      "\n",
      "Epoch 26 - Loss: 0.447 - Test Accuracy:  82.580\n",
      "\n",
      "Processing time:  21.604142 seconds.\n"
     ]
    },
    {
     "name": "stdout",
     "output_type": "stream",
     "text": [
      "\n",
      "Epoch 27 - Loss: 0.433 - Test Accuracy:  83.220\n",
      "\n",
      "Processing time:  21.575938 seconds.\n"
     ]
    },
    {
     "name": "stdout",
     "output_type": "stream",
     "text": [
      "\n",
      "Epoch 28 - Loss: 0.428 - Test Accuracy:  87.920\n",
      "\n",
      "Processing time:  21.603083 seconds.\n"
     ]
    },
    {
     "name": "stdout",
     "output_type": "stream",
     "text": [
      "\n",
      "Epoch 29 - Loss: 0.415 - Test Accuracy:  82.670\n",
      "\n",
      "Processing time:  21.998080 seconds.\n"
     ]
    },
    {
     "name": "stdout",
     "output_type": "stream",
     "text": [
      "\n",
      "Epoch 30 - Loss: 0.412 - Test Accuracy:  84.690\n",
      "\n",
      "Processing time:  22.055016 seconds.\n"
     ]
    },
    {
     "name": "stdout",
     "output_type": "stream",
     "text": [
      "\n",
      "Epoch 31 - Loss: 0.400 - Test Accuracy:  85.810\n",
      "\n",
      "Processing time:  22.330350 seconds.\n"
     ]
    },
    {
     "name": "stdout",
     "output_type": "stream",
     "text": [
      "\n",
      "Epoch 32 - Loss: 0.400 - Test Accuracy:  86.210\n",
      "\n",
      "Processing time:  21.899135 seconds.\n"
     ]
    },
    {
     "name": "stdout",
     "output_type": "stream",
     "text": [
      "\n",
      "Epoch 33 - Loss: 0.391 - Test Accuracy:  80.600\n",
      "\n",
      "Processing time:  21.827474 seconds.\n"
     ]
    },
    {
     "name": "stdout",
     "output_type": "stream",
     "text": [
      "\n",
      "Epoch 34 - Loss: 0.383 - Test Accuracy:  86.550\n",
      "\n",
      "Processing time:  22.189162 seconds.\n"
     ]
    },
    {
     "name": "stdout",
     "output_type": "stream",
     "text": [
      "\n",
      "Epoch 35 - Loss: 0.378 - Test Accuracy:  88.220\n",
      "\n",
      "Processing time:  22.181209 seconds.\n"
     ]
    },
    {
     "name": "stdout",
     "output_type": "stream",
     "text": [
      "\n",
      "Epoch 36 - Loss: 0.375 - Test Accuracy:  84.850\n",
      "\n",
      "Processing time:  22.266384 seconds.\n"
     ]
    },
    {
     "name": "stdout",
     "output_type": "stream",
     "text": [
      "\n",
      "Epoch 37 - Loss: 0.367 - Test Accuracy:  86.290\n",
      "\n",
      "Processing time:  21.994605 seconds.\n"
     ]
    },
    {
     "name": "stdout",
     "output_type": "stream",
     "text": [
      "\n",
      "Epoch 38 - Loss: 0.363 - Test Accuracy:  88.430\n",
      "\n",
      "Processing time:  22.250759 seconds.\n"
     ]
    },
    {
     "name": "stdout",
     "output_type": "stream",
     "text": [
      "\n",
      "Epoch 39 - Loss: 0.357 - Test Accuracy:  83.740\n",
      "\n",
      "Processing time:  22.143618 seconds.\n"
     ]
    },
    {
     "name": "stdout",
     "output_type": "stream",
     "text": [
      "\n",
      "Epoch 40 - Loss: 0.355 - Test Accuracy:  87.780\n",
      "\n",
      "Processing time:  21.806616 seconds.\n"
     ]
    },
    {
     "name": "stdout",
     "output_type": "stream",
     "text": [
      "\n",
      "Epoch 41 - Loss: 0.348 - Test Accuracy:  85.340\n",
      "\n",
      "Processing time:  21.789871 seconds.\n"
     ]
    },
    {
     "name": "stdout",
     "output_type": "stream",
     "text": [
      "\n",
      "Epoch 42 - Loss: 0.343 - Test Accuracy:  88.430\n",
      "\n",
      "Processing time:  21.943331 seconds.\n"
     ]
    },
    {
     "name": "stdout",
     "output_type": "stream",
     "text": [
      "\n",
      "Epoch 43 - Loss: 0.333 - Test Accuracy:  89.160\n",
      "\n",
      "Processing time:  22.148402 seconds.\n"
     ]
    },
    {
     "name": "stdout",
     "output_type": "stream",
     "text": [
      "\n",
      "Epoch 44 - Loss: 0.334 - Test Accuracy:  90.090\n",
      "\n",
      "Processing time:  22.102997 seconds.\n"
     ]
    },
    {
     "name": "stdout",
     "output_type": "stream",
     "text": [
      "\n",
      "Epoch 45 - Loss: 0.327 - Test Accuracy:  89.530\n",
      "\n",
      "Processing time:  22.047621 seconds.\n"
     ]
    },
    {
     "name": "stdout",
     "output_type": "stream",
     "text": [
      "\n",
      "Epoch 46 - Loss: 0.319 - Test Accuracy:  88.590\n",
      "\n",
      "Processing time:  22.100792 seconds.\n"
     ]
    },
    {
     "name": "stdout",
     "output_type": "stream",
     "text": [
      "\n",
      "Epoch 47 - Loss: 0.321 - Test Accuracy:  87.730\n",
      "\n",
      "Processing time:  22.068443 seconds.\n"
     ]
    },
    {
     "name": "stdout",
     "output_type": "stream",
     "text": [
      "\n",
      "Epoch 48 - Loss: 0.316 - Test Accuracy:  88.040\n",
      "\n",
      "Processing time:  22.015998 seconds.\n"
     ]
    },
    {
     "name": "stdout",
     "output_type": "stream",
     "text": [
      "\n",
      "Epoch 49 - Loss: 0.309 - Test Accuracy:  87.800\n",
      "\n",
      "Processing time:  21.786157 seconds.\n"
     ]
    },
    {
     "name": "stdout",
     "output_type": "stream",
     "text": [
      "\n",
      "Epoch 50 - Loss: 0.300 - Test Accuracy:  89.860\n",
      "\n",
      "Processing time:  21.720900 seconds.\n"
     ]
    },
    {
     "name": "stdout",
     "output_type": "stream",
     "text": [
      "\n",
      "Epoch 51 - Loss: 0.300 - Test Accuracy:  91.390\n",
      "\n",
      "Processing time:  21.755526 seconds.\n"
     ]
    },
    {
     "name": "stdout",
     "output_type": "stream",
     "text": [
      "\n",
      "Epoch 52 - Loss: 0.301 - Test Accuracy:  91.020\n",
      "\n",
      "Processing time:  21.578851 seconds.\n"
     ]
    },
    {
     "name": "stdout",
     "output_type": "stream",
     "text": [
      "\n",
      "Epoch 53 - Loss: 0.291 - Test Accuracy:  87.870\n",
      "\n",
      "Processing time:  22.588374 seconds.\n"
     ]
    },
    {
     "name": "stdout",
     "output_type": "stream",
     "text": [
      "\n",
      "Epoch 54 - Loss: 0.291 - Test Accuracy:  91.610\n",
      "\n",
      "Processing time:  21.897861 seconds.\n"
     ]
    },
    {
     "name": "stdout",
     "output_type": "stream",
     "text": [
      "\n",
      "Epoch 55 - Loss: 0.287 - Test Accuracy:  91.570\n",
      "\n",
      "Processing time:  21.646443 seconds.\n"
     ]
    },
    {
     "name": "stdout",
     "output_type": "stream",
     "text": [
      "\n",
      "Epoch 56 - Loss: 0.286 - Test Accuracy:  91.360\n",
      "\n",
      "Processing time:  21.618177 seconds.\n"
     ]
    },
    {
     "name": "stdout",
     "output_type": "stream",
     "text": [
      "\n",
      "Epoch 57 - Loss: 0.280 - Test Accuracy:  91.210\n",
      "\n",
      "Processing time:  22.483020 seconds.\n"
     ]
    },
    {
     "name": "stdout",
     "output_type": "stream",
     "text": [
      "\n",
      "Epoch 58 - Loss: 0.276 - Test Accuracy:  91.180\n",
      "\n",
      "Processing time:  22.488839 seconds.\n"
     ]
    },
    {
     "name": "stdout",
     "output_type": "stream",
     "text": [
      "\n",
      "Epoch 59 - Loss: 0.269 - Test Accuracy:  90.880\n",
      "\n",
      "Processing time:  21.593669 seconds.\n"
     ]
    },
    {
     "name": "stdout",
     "output_type": "stream",
     "text": [
      "\n",
      "Epoch 60 - Loss: 0.267 - Test Accuracy:  92.870\n",
      "\n",
      "Processing time:  22.259838 seconds.\n"
     ]
    },
    {
     "name": "stdout",
     "output_type": "stream",
     "text": [
      "\n",
      "Epoch 61 - Loss: 0.259 - Test Accuracy:  91.760\n",
      "\n",
      "Processing time:  23.400354 seconds.\n"
     ]
    },
    {
     "name": "stdout",
     "output_type": "stream",
     "text": [
      "\n",
      "Epoch 62 - Loss: 0.257 - Test Accuracy:  92.000\n",
      "\n",
      "Processing time:  22.365865 seconds.\n"
     ]
    },
    {
     "name": "stdout",
     "output_type": "stream",
     "text": [
      "\n",
      "Epoch 63 - Loss: 0.258 - Test Accuracy:  91.830\n",
      "\n",
      "Processing time:  22.601165 seconds.\n"
     ]
    },
    {
     "name": "stdout",
     "output_type": "stream",
     "text": [
      "\n",
      "Epoch 64 - Loss: 0.251 - Test Accuracy:  93.050\n",
      "\n",
      "Processing time:  22.128701 seconds.\n"
     ]
    },
    {
     "name": "stdout",
     "output_type": "stream",
     "text": [
      "\n",
      "Epoch 65 - Loss: 0.253 - Test Accuracy:  91.960\n",
      "\n",
      "Processing time:  22.546060 seconds.\n"
     ]
    },
    {
     "name": "stdout",
     "output_type": "stream",
     "text": [
      "\n",
      "Epoch 66 - Loss: 0.249 - Test Accuracy:  92.990\n",
      "\n",
      "Processing time:  22.081348 seconds.\n"
     ]
    },
    {
     "name": "stdout",
     "output_type": "stream",
     "text": [
      "\n",
      "Epoch 67 - Loss: 0.243 - Test Accuracy:  92.880\n",
      "\n",
      "Processing time:  22.012632 seconds.\n"
     ]
    },
    {
     "name": "stdout",
     "output_type": "stream",
     "text": [
      "\n",
      "Epoch 68 - Loss: 0.244 - Test Accuracy:  93.360\n",
      "\n",
      "Processing time:  22.031833 seconds.\n"
     ]
    },
    {
     "name": "stdout",
     "output_type": "stream",
     "text": [
      "\n",
      "Epoch 69 - Loss: 0.237 - Test Accuracy:  93.460\n",
      "\n",
      "Processing time:  23.332851 seconds.\n"
     ]
    },
    {
     "name": "stdout",
     "output_type": "stream",
     "text": [
      "\n",
      "Epoch 70 - Loss: 0.233 - Test Accuracy:  93.130\n",
      "\n",
      "Processing time:  22.017715 seconds.\n"
     ]
    },
    {
     "name": "stdout",
     "output_type": "stream",
     "text": [
      "\n",
      "Epoch 71 - Loss: 0.226 - Test Accuracy:  93.150\n",
      "\n",
      "Processing time:  21.970451 seconds.\n"
     ]
    },
    {
     "name": "stdout",
     "output_type": "stream",
     "text": [
      "\n",
      "Epoch 72 - Loss: 0.227 - Test Accuracy:  93.390\n",
      "\n",
      "Processing time:  22.033891 seconds.\n"
     ]
    },
    {
     "name": "stdout",
     "output_type": "stream",
     "text": [
      "\n",
      "Epoch 73 - Loss: 0.223 - Test Accuracy:  93.610\n",
      "\n",
      "Processing time:  21.849115 seconds.\n"
     ]
    },
    {
     "name": "stdout",
     "output_type": "stream",
     "text": [
      "\n",
      "Epoch 74 - Loss: 0.219 - Test Accuracy:  93.730\n",
      "\n",
      "Processing time:  21.856829 seconds.\n"
     ]
    },
    {
     "name": "stdout",
     "output_type": "stream",
     "text": [
      "\n",
      "Epoch 75 - Loss: 0.216 - Test Accuracy:  93.940\n",
      "\n",
      "Processing time:  22.438661 seconds.\n"
     ]
    },
    {
     "name": "stdout",
     "output_type": "stream",
     "text": [
      "\n",
      "Epoch 76 - Loss: 0.217 - Test Accuracy:  94.100\n",
      "\n",
      "Processing time:  22.212223 seconds.\n"
     ]
    },
    {
     "name": "stdout",
     "output_type": "stream",
     "text": [
      "\n",
      "Epoch 77 - Loss: 0.217 - Test Accuracy:  93.580\n",
      "\n",
      "Processing time:  22.311074 seconds.\n"
     ]
    },
    {
     "name": "stdout",
     "output_type": "stream",
     "text": [
      "\n",
      "Epoch 78 - Loss: 0.211 - Test Accuracy:  93.790\n",
      "\n",
      "Processing time:  22.311501 seconds.\n"
     ]
    },
    {
     "name": "stdout",
     "output_type": "stream",
     "text": [
      "\n",
      "Epoch 79 - Loss: 0.209 - Test Accuracy:  94.080\n",
      "\n",
      "Processing time:  22.187656 seconds.\n"
     ]
    },
    {
     "name": "stdout",
     "output_type": "stream",
     "text": [
      "\n",
      "Epoch 80 - Loss: 0.206 - Test Accuracy:  93.780\n",
      "\n",
      "Processing time:  22.308325 seconds.\n"
     ]
    },
    {
     "name": "stdout",
     "output_type": "stream",
     "text": [
      "\n",
      "Epoch 81 - Loss: 0.202 - Test Accuracy:  94.500\n",
      "\n",
      "Processing time:  22.025357 seconds.\n"
     ]
    },
    {
     "name": "stdout",
     "output_type": "stream",
     "text": [
      "\n",
      "Epoch 82 - Loss: 0.204 - Test Accuracy:  94.370\n",
      "\n",
      "Processing time:  22.228683 seconds.\n"
     ]
    },
    {
     "name": "stdout",
     "output_type": "stream",
     "text": [
      "\n",
      "Epoch 83 - Loss: 0.203 - Test Accuracy:  94.560\n",
      "\n",
      "Processing time:  22.051295 seconds.\n"
     ]
    },
    {
     "name": "stdout",
     "output_type": "stream",
     "text": [
      "\n",
      "Epoch 84 - Loss: 0.196 - Test Accuracy:  94.460\n",
      "\n",
      "Processing time:  21.989487 seconds.\n"
     ]
    },
    {
     "name": "stdout",
     "output_type": "stream",
     "text": [
      "\n",
      "Epoch 85 - Loss: 0.196 - Test Accuracy:  94.430\n",
      "\n",
      "Processing time:  21.686253 seconds.\n"
     ]
    },
    {
     "name": "stdout",
     "output_type": "stream",
     "text": [
      "\n",
      "Epoch 86 - Loss: 0.198 - Test Accuracy:  94.560\n",
      "\n",
      "Processing time:  21.639880 seconds.\n"
     ]
    },
    {
     "name": "stdout",
     "output_type": "stream",
     "text": [
      "\n",
      "Epoch 87 - Loss: 0.193 - Test Accuracy:  94.470\n",
      "\n",
      "Processing time:  21.745174 seconds.\n"
     ]
    },
    {
     "name": "stdout",
     "output_type": "stream",
     "text": [
      "\n",
      "Epoch 88 - Loss: 0.192 - Test Accuracy:  94.720\n",
      "\n",
      "Processing time:  22.915838 seconds.\n"
     ]
    },
    {
     "name": "stdout",
     "output_type": "stream",
     "text": [
      "\n",
      "Epoch 89 - Loss: 0.191 - Test Accuracy:  94.500\n",
      "\n",
      "Processing time:  21.631580 seconds.\n"
     ]
    },
    {
     "name": "stdout",
     "output_type": "stream",
     "text": [
      "\n",
      "Epoch 90 - Loss: 0.190 - Test Accuracy:  94.600\n",
      "\n",
      "Processing time:  22.019444 seconds.\n"
     ]
    },
    {
     "name": "stdout",
     "output_type": "stream",
     "text": [
      "\n",
      "Epoch 91 - Loss: 0.191 - Test Accuracy:  94.690\n",
      "\n",
      "Processing time:  21.713806 seconds.\n"
     ]
    },
    {
     "name": "stdout",
     "output_type": "stream",
     "text": [
      "\n",
      "Epoch 92 - Loss: 0.187 - Test Accuracy:  94.580\n",
      "\n",
      "Processing time:  23.632902 seconds.\n"
     ]
    },
    {
     "name": "stdout",
     "output_type": "stream",
     "text": [
      "\n",
      "Epoch 93 - Loss: 0.187 - Test Accuracy:  94.350\n",
      "\n",
      "Processing time:  22.073791 seconds.\n"
     ]
    },
    {
     "name": "stdout",
     "output_type": "stream",
     "text": [
      "\n",
      "Epoch 94 - Loss: 0.187 - Test Accuracy:  94.400\n",
      "\n",
      "Processing time:  22.931149 seconds.\n"
     ]
    },
    {
     "name": "stdout",
     "output_type": "stream",
     "text": [
      "\n",
      "Epoch 95 - Loss: 0.187 - Test Accuracy:  94.450\n",
      "\n",
      "Processing time:  22.686632 seconds.\n"
     ]
    },
    {
     "name": "stdout",
     "output_type": "stream",
     "text": [
      "\n",
      "Epoch 96 - Loss: 0.187 - Test Accuracy:  94.400\n",
      "\n",
      "Processing time:  22.003249 seconds.\n"
     ]
    },
    {
     "name": "stdout",
     "output_type": "stream",
     "text": [
      "\n",
      "Epoch 97 - Loss: 0.185 - Test Accuracy:  94.500\n",
      "\n",
      "Processing time:  22.036461 seconds.\n"
     ]
    },
    {
     "name": "stdout",
     "output_type": "stream",
     "text": [
      "\n",
      "Epoch 98 - Loss: 0.186 - Test Accuracy:  94.570\n",
      "\n",
      "Processing time:  22.186322 seconds.\n"
     ]
    },
    {
     "name": "stdout",
     "output_type": "stream",
     "text": [
      "\n",
      "Epoch 99 - Loss: 0.183 - Test Accuracy:  94.540\n",
      "\n",
      "Processing time:  22.151694 seconds.\n"
     ]
    },
    {
     "name": "stdout",
     "output_type": "stream",
     "text": [
      "\n",
      "Epoch 100 - Loss: 0.187 - Test Accuracy:  94.560\n",
      "\n",
      "Processing time:  22.434209 seconds.\n",
      "Finished Training\n"
     ]
    }
   ],
   "source": [
    "import torch.optim as optim\n",
    "import torch.nn.functional as F\n",
    "from torch.optim.lr_scheduler import CosineAnnealingLR\n",
    "import time\n",
    "\n",
    "criterion = nn.CrossEntropyLoss()\n",
    "optimizer = optim.SGD(net.parameters(), lr=0.15, momentum=0.9, weight_decay=1e-4)\n",
    "\n",
    "# Initialize the scheduler\n",
    "epochs = EPOCHS\n",
    "scheduler = CosineAnnealingLR(optimizer, T_max=epochs)  # Cosine Annealing LR Scheduler\n",
    "\n",
    "# For plotting\n",
    "train_losses, test_accuracies = [], []\n",
    "\n",
    "# Training loop\n",
    "print(f'\\nStart Training...\\n')\n",
    "for epoch in range(epochs):  # loop over the dataset multiple times\n",
    "    \n",
    "    start_time = time.time()\n",
    "    \n",
    "    running_loss = 0.0\n",
    "    total_train = 0\n",
    "    correct_train = 0\n",
    "    total = 0\n",
    "    correct = 0\n",
    "    confidences = None\n",
    "    \n",
    "    net.train()\n",
    "    \n",
    "    if DATASET_TYPE=='baseline':\n",
    "        trainloader = baseline_trainloader\n",
    "    elif DATASET_TYPE=='custom':\n",
    "        trainloader = custom_trainloader\n",
    "    else:\n",
    "        raise ValueError('Dataset type is not Valid!')\n",
    "    \n",
    "    for i, data in enumerate(trainloader):\n",
    "            \n",
    "        if DATASET_TYPE=='baseline':\n",
    "            inputs, labels = data\n",
    "        elif DATASET_TYPE=='custom':\n",
    "            inputs, labels, confidences = data\n",
    "            # get the inputs\n",
    "            \"\"\"when the model returns [augmentation_magnitude, confidence_aa], which is the case\n",
    "            only when TA with soft labels is applied.\"\"\"\n",
    "            if isinstance(confidences, list):\n",
    "                confidences = confidences[1]\n",
    "            confidences = confidences.to(device)\n",
    "        else:\n",
    "            raise ValueError('Dataset type is not Valid!')\n",
    "        \n",
    "        # zero the parameter gradients\n",
    "        optimizer.zero_grad()\n",
    "        \n",
    "        inputs, labels = inputs.to(device), labels.to(device)\n",
    "    \n",
    "        # Convert labels to one-hot encoded vectors\n",
    "        # labels_one_hot = F.one_hot(labels, num_classes=10).float()\n",
    "        \n",
    "        # forward + backward + optimize\n",
    "        outputs = net(inputs)\n",
    "        outputs = outputs.to(device)\n",
    "        \n",
    "        if DATASET_TYPE=='custom':\n",
    "            loss = soft_loss(pred=outputs, label=labels, confidence=confidences, reweight=REWEIGHT)\n",
    "        else:\n",
    "            loss = criterion(outputs, labels)\n",
    "        \n",
    "        # Check for correct training\n",
    "        if np.isnan(loss.detach().cpu().numpy()):\n",
    "            raise ValueError('Loss calculation not correct')\n",
    "    \n",
    "        loss.backward()\n",
    "        optimizer.step()\n",
    "        \n",
    "        if tpu:\n",
    "            xm.mark_step()\n",
    "        running_loss += loss.item()\n",
    "\n",
    "        # Calculate training accuracy\n",
    "        _, predicted = torch.max(outputs.data, 1)\n",
    "        total_train += labels.size(0)\n",
    "        correct_train += (predicted == labels).sum().item()\n",
    "    \n",
    "    with torch.no_grad():\n",
    "        net.eval()\n",
    "        for images, labels in baseline_testloader:\n",
    "            images, labels = images.to(device), labels.to(device)\n",
    "            outputs = net(images)\n",
    "            _, predicted = torch.max(outputs.data, 1)\n",
    "            total += labels.size(0)\n",
    "            correct += (predicted == labels).sum().item()\n",
    "    \n",
    "    # calculate and print average loss for current epoch\n",
    "    average_loss = running_loss / len(custom_trainloader)\n",
    "    train_losses.append(average_loss)\n",
    "    \n",
    "    test_accuracy = correct / total\n",
    "    test_accuracies.append(test_accuracy)\n",
    "    \n",
    "    print(f'\\nEpoch {epoch + 1} - Loss: {average_loss:.3f} - Test Accuracy: {100 * test_accuracy: .3f}')    \n",
    "    \n",
    "    scheduler.step()\n",
    "    end_time = time.time()\n",
    "    print(f'\\nProcessing time: {(end_time - start_time): 3f} seconds.')\n",
    "\n",
    "print('Finished Training')\n",
    "\n",
    "# Save the trained model\n",
    "PATH = f'/kaggle/working/{DATASET_NAME}_net_ta_{DATASET_TYPE}_{epochs}.pth'\n",
    "torch.save(net.state_dict(), PATH)"
   ]
  },
  {
   "cell_type": "code",
   "execution_count": 11,
   "id": "9005abf6",
   "metadata": {
    "execution": {
     "iopub.execute_input": "2024-09-16T08:43:56.649637Z",
     "iopub.status.busy": "2024-09-16T08:43:56.649272Z",
     "iopub.status.idle": "2024-09-16T08:43:56.908773Z",
     "shell.execute_reply": "2024-09-16T08:43:56.907877Z"
    },
    "papermill": {
     "duration": 0.28879,
     "end_time": "2024-09-16T08:43:56.910595",
     "exception": false,
     "start_time": "2024-09-16T08:43:56.621805",
     "status": "completed"
    },
    "tags": []
   },
   "outputs": [
    {
     "data": {
      "image/png": "[encoded data removed]",
      "text/plain": [
       "<Figure size 1000x500 with 1 Axes>"
      ]
     },
     "metadata": {},
     "output_type": "display_data"
    }
   ],
   "source": [
    "plt.figure(figsize=(10, 5))\n",
    "plt.plot(range(1, epochs + 1), train_losses, label='Train Loss', color='tab:red')\n",
    "plt.plot(range(1, epochs + 1), test_accuracies, label='Test Accuracy', color='tab:blue')\n",
    "plt.xlabel('Epochs')\n",
    "plt.ylabel('Value')\n",
    "plt.title(f'{DATASET_NAME} - {DATASET_TYPE}')\n",
    "plt.legend()\n",
    "plt.grid(True)\n",
    "plt.show()"
   ]
  },
  {
   "cell_type": "markdown",
   "id": "66952a13",
   "metadata": {
    "papermill": {
     "duration": 0.026482,
     "end_time": "2024-09-16T08:43:56.965818",
     "exception": false,
     "start_time": "2024-09-16T08:43:56.939336",
     "status": "completed"
    },
    "tags": []
   },
   "source": [
    "## Evaluate the model on Testset"
   ]
  },
  {
   "cell_type": "code",
   "execution_count": 12,
   "id": "01e0ee83",
   "metadata": {
    "execution": {
     "iopub.execute_input": "2024-09-16T08:43:57.019781Z",
     "iopub.status.busy": "2024-09-16T08:43:57.019477Z",
     "iopub.status.idle": "2024-09-16T08:48:09.120586Z",
     "shell.execute_reply": "2024-09-16T08:48:09.119456Z"
    },
    "papermill": {
     "duration": 252.130458,
     "end_time": "2024-09-16T08:48:09.122572",
     "exception": false,
     "start_time": "2024-09-16T08:43:56.992114",
     "status": "completed"
    },
    "tags": []
   },
   "outputs": [
    {
     "name": "stdout",
     "output_type": "stream",
     "text": [
      "Accuracy of the network on the CIFAR-10 test dataset: 94.56 %\n",
      "Testing on corruption: gaussian_noise\n"
     ]
    },
    {
     "name": "stdout",
     "output_type": "stream",
     "text": [
      "Accuracy of the network on gaussian_noise dataset split 1: 87.05 %\n"
     ]
    },
    {
     "name": "stdout",
     "output_type": "stream",
     "text": [
      "Accuracy of the network on gaussian_noise dataset split 2: 76.47 %\n"
     ]
    },
    {
     "name": "stdout",
     "output_type": "stream",
     "text": [
      "Accuracy of the network on gaussian_noise dataset split 3: 62.14 %\n"
     ]
    },
    {
     "name": "stdout",
     "output_type": "stream",
     "text": [
      "Accuracy of the network on gaussian_noise dataset split 4: 55.94 %\n"
     ]
    },
    {
     "name": "stdout",
     "output_type": "stream",
     "text": [
      "Accuracy of the network on gaussian_noise dataset split 5: 49.54 %\n",
      "Average accuracy for gaussian_noise dataset: 66.23 %\n",
      "Testing on corruption: shot_noise\n"
     ]
    },
    {
     "name": "stdout",
     "output_type": "stream",
     "text": [
      "Accuracy of the network on shot_noise dataset split 1: 90.45 %\n"
     ]
    },
    {
     "name": "stdout",
     "output_type": "stream",
     "text": [
      "Accuracy of the network on shot_noise dataset split 2: 85.70 %\n"
     ]
    },
    {
     "name": "stdout",
     "output_type": "stream",
     "text": [
      "Accuracy of the network on shot_noise dataset split 3: 72.66 %\n"
     ]
    },
    {
     "name": "stdout",
     "output_type": "stream",
     "text": [
      "Accuracy of the network on shot_noise dataset split 4: 66.58 %\n"
     ]
    },
    {
     "name": "stdout",
     "output_type": "stream",
     "text": [
      "Accuracy of the network on shot_noise dataset split 5: 56.19 %\n",
      "Average accuracy for shot_noise dataset: 74.32 %\n",
      "Testing on corruption: impulse_noise\n"
     ]
    },
    {
     "name": "stdout",
     "output_type": "stream",
     "text": [
      "Accuracy of the network on impulse_noise dataset split 1: 91.29 %\n"
     ]
    },
    {
     "name": "stdout",
     "output_type": "stream",
     "text": [
      "Accuracy of the network on impulse_noise dataset split 2: 87.01 %\n"
     ]
    },
    {
     "name": "stdout",
     "output_type": "stream",
     "text": [
      "Accuracy of the network on impulse_noise dataset split 3: 80.20 %\n"
     ]
    },
    {
     "name": "stdout",
     "output_type": "stream",
     "text": [
      "Accuracy of the network on impulse_noise dataset split 4: 61.52 %\n"
     ]
    },
    {
     "name": "stdout",
     "output_type": "stream",
     "text": [
      "Accuracy of the network on impulse_noise dataset split 5: 44.03 %\n",
      "Average accuracy for impulse_noise dataset: 72.81 %\n",
      "Testing on corruption: defocus_blur\n"
     ]
    },
    {
     "name": "stdout",
     "output_type": "stream",
     "text": [
      "Accuracy of the network on defocus_blur dataset split 1: 94.38 %\n"
     ]
    },
    {
     "name": "stdout",
     "output_type": "stream",
     "text": [
      "Accuracy of the network on defocus_blur dataset split 2: 93.56 %\n"
     ]
    },
    {
     "name": "stdout",
     "output_type": "stream",
     "text": [
      "Accuracy of the network on defocus_blur dataset split 3: 91.79 %\n"
     ]
    },
    {
     "name": "stdout",
     "output_type": "stream",
     "text": [
      "Accuracy of the network on defocus_blur dataset split 4: 87.70 %\n"
     ]
    },
    {
     "name": "stdout",
     "output_type": "stream",
     "text": [
      "Accuracy of the network on defocus_blur dataset split 5: 75.18 %\n",
      "Average accuracy for defocus_blur dataset: 88.52 %\n",
      "Testing on corruption: glass_blur\n"
     ]
    },
    {
     "name": "stdout",
     "output_type": "stream",
     "text": [
      "Accuracy of the network on glass_blur dataset split 1: 77.19 %\n"
     ]
    },
    {
     "name": "stdout",
     "output_type": "stream",
     "text": [
      "Accuracy of the network on glass_blur dataset split 2: 78.53 %\n"
     ]
    },
    {
     "name": "stdout",
     "output_type": "stream",
     "text": [
      "Accuracy of the network on glass_blur dataset split 3: 79.00 %\n"
     ]
    },
    {
     "name": "stdout",
     "output_type": "stream",
     "text": [
      "Accuracy of the network on glass_blur dataset split 4: 63.71 %\n"
     ]
    },
    {
     "name": "stdout",
     "output_type": "stream",
     "text": [
      "Accuracy of the network on glass_blur dataset split 5: 66.51 %\n",
      "Average accuracy for glass_blur dataset: 72.99 %\n",
      "Testing on corruption: motion_blur\n"
     ]
    },
    {
     "name": "stdout",
     "output_type": "stream",
     "text": [
      "Accuracy of the network on motion_blur dataset split 1: 91.46 %\n"
     ]
    },
    {
     "name": "stdout",
     "output_type": "stream",
     "text": [
      "Accuracy of the network on motion_blur dataset split 2: 85.68 %\n"
     ]
    },
    {
     "name": "stdout",
     "output_type": "stream",
     "text": [
      "Accuracy of the network on motion_blur dataset split 3: 78.22 %\n"
     ]
    },
    {
     "name": "stdout",
     "output_type": "stream",
     "text": [
      "Accuracy of the network on motion_blur dataset split 4: 78.20 %\n"
     ]
    },
    {
     "name": "stdout",
     "output_type": "stream",
     "text": [
      "Accuracy of the network on motion_blur dataset split 5: 71.30 %\n",
      "Average accuracy for motion_blur dataset: 80.97 %\n",
      "Testing on corruption: zoom_blur\n"
     ]
    },
    {
     "name": "stdout",
     "output_type": "stream",
     "text": [
      "Accuracy of the network on zoom_blur dataset split 1: 90.62 %\n"
     ]
    },
    {
     "name": "stdout",
     "output_type": "stream",
     "text": [
      "Accuracy of the network on zoom_blur dataset split 2: 90.20 %\n"
     ]
    },
    {
     "name": "stdout",
     "output_type": "stream",
     "text": [
      "Accuracy of the network on zoom_blur dataset split 3: 88.08 %\n"
     ]
    },
    {
     "name": "stdout",
     "output_type": "stream",
     "text": [
      "Accuracy of the network on zoom_blur dataset split 4: 85.51 %\n"
     ]
    },
    {
     "name": "stdout",
     "output_type": "stream",
     "text": [
      "Accuracy of the network on zoom_blur dataset split 5: 79.89 %\n",
      "Average accuracy for zoom_blur dataset: 86.86 %\n",
      "Testing on corruption: snow\n"
     ]
    },
    {
     "name": "stdout",
     "output_type": "stream",
     "text": [
      "Accuracy of the network on snow dataset split 1: 91.68 %\n"
     ]
    },
    {
     "name": "stdout",
     "output_type": "stream",
     "text": [
      "Accuracy of the network on snow dataset split 2: 85.92 %\n"
     ]
    },
    {
     "name": "stdout",
     "output_type": "stream",
     "text": [
      "Accuracy of the network on snow dataset split 3: 86.51 %\n"
     ]
    },
    {
     "name": "stdout",
     "output_type": "stream",
     "text": [
      "Accuracy of the network on snow dataset split 4: 84.01 %\n"
     ]
    },
    {
     "name": "stdout",
     "output_type": "stream",
     "text": [
      "Accuracy of the network on snow dataset split 5: 81.35 %\n",
      "Average accuracy for snow dataset: 85.89 %\n",
      "Testing on corruption: frost\n"
     ]
    },
    {
     "name": "stdout",
     "output_type": "stream",
     "text": [
      "Accuracy of the network on frost dataset split 1: 91.98 %\n"
     ]
    },
    {
     "name": "stdout",
     "output_type": "stream",
     "text": [
      "Accuracy of the network on frost dataset split 2: 88.57 %\n"
     ]
    },
    {
     "name": "stdout",
     "output_type": "stream",
     "text": [
      "Accuracy of the network on frost dataset split 3: 81.59 %\n"
     ]
    },
    {
     "name": "stdout",
     "output_type": "stream",
     "text": [
      "Accuracy of the network on frost dataset split 4: 80.49 %\n"
     ]
    },
    {
     "name": "stdout",
     "output_type": "stream",
     "text": [
      "Accuracy of the network on frost dataset split 5: 71.40 %\n",
      "Average accuracy for frost dataset: 82.81 %\n",
      "Testing on corruption: fog\n"
     ]
    },
    {
     "name": "stdout",
     "output_type": "stream",
     "text": [
      "Accuracy of the network on fog dataset split 1: 94.31 %\n"
     ]
    },
    {
     "name": "stdout",
     "output_type": "stream",
     "text": [
      "Accuracy of the network on fog dataset split 2: 93.49 %\n"
     ]
    },
    {
     "name": "stdout",
     "output_type": "stream",
     "text": [
      "Accuracy of the network on fog dataset split 3: 91.88 %\n"
     ]
    },
    {
     "name": "stdout",
     "output_type": "stream",
     "text": [
      "Accuracy of the network on fog dataset split 4: 88.75 %\n"
     ]
    },
    {
     "name": "stdout",
     "output_type": "stream",
     "text": [
      "Accuracy of the network on fog dataset split 5: 76.34 %\n",
      "Average accuracy for fog dataset: 88.95 %\n",
      "Testing on corruption: brightness\n"
     ]
    },
    {
     "name": "stdout",
     "output_type": "stream",
     "text": [
      "Accuracy of the network on brightness dataset split 1: 94.51 %\n"
     ]
    },
    {
     "name": "stdout",
     "output_type": "stream",
     "text": [
      "Accuracy of the network on brightness dataset split 2: 94.37 %\n"
     ]
    },
    {
     "name": "stdout",
     "output_type": "stream",
     "text": [
      "Accuracy of the network on brightness dataset split 3: 94.00 %\n"
     ]
    },
    {
     "name": "stdout",
     "output_type": "stream",
     "text": [
      "Accuracy of the network on brightness dataset split 4: 93.73 %\n"
     ]
    },
    {
     "name": "stdout",
     "output_type": "stream",
     "text": [
      "Accuracy of the network on brightness dataset split 5: 92.49 %\n",
      "Average accuracy for brightness dataset: 93.82 %\n",
      "Testing on corruption: contrast\n"
     ]
    },
    {
     "name": "stdout",
     "output_type": "stream",
     "text": [
      "Accuracy of the network on contrast dataset split 1: 94.10 %\n"
     ]
    },
    {
     "name": "stdout",
     "output_type": "stream",
     "text": [
      "Accuracy of the network on contrast dataset split 2: 92.52 %\n"
     ]
    },
    {
     "name": "stdout",
     "output_type": "stream",
     "text": [
      "Accuracy of the network on contrast dataset split 3: 91.06 %\n"
     ]
    },
    {
     "name": "stdout",
     "output_type": "stream",
     "text": [
      "Accuracy of the network on contrast dataset split 4: 88.85 %\n"
     ]
    },
    {
     "name": "stdout",
     "output_type": "stream",
     "text": [
      "Accuracy of the network on contrast dataset split 5: 80.19 %\n",
      "Average accuracy for contrast dataset: 89.34 %\n",
      "Testing on corruption: elastic_transform\n"
     ]
    },
    {
     "name": "stdout",
     "output_type": "stream",
     "text": [
      "Accuracy of the network on elastic_transform dataset split 1: 91.35 %\n"
     ]
    },
    {
     "name": "stdout",
     "output_type": "stream",
     "text": [
      "Accuracy of the network on elastic_transform dataset split 2: 91.43 %\n"
     ]
    },
    {
     "name": "stdout",
     "output_type": "stream",
     "text": [
      "Accuracy of the network on elastic_transform dataset split 3: 89.12 %\n"
     ]
    },
    {
     "name": "stdout",
     "output_type": "stream",
     "text": [
      "Accuracy of the network on elastic_transform dataset split 4: 81.57 %\n"
     ]
    },
    {
     "name": "stdout",
     "output_type": "stream",
     "text": [
      "Accuracy of the network on elastic_transform dataset split 5: 74.01 %\n",
      "Average accuracy for elastic_transform dataset: 85.50 %\n",
      "Testing on corruption: pixelate\n"
     ]
    },
    {
     "name": "stdout",
     "output_type": "stream",
     "text": [
      "Accuracy of the network on pixelate dataset split 1: 93.50 %\n"
     ]
    },
    {
     "name": "stdout",
     "output_type": "stream",
     "text": [
      "Accuracy of the network on pixelate dataset split 2: 91.05 %\n"
     ]
    },
    {
     "name": "stdout",
     "output_type": "stream",
     "text": [
      "Accuracy of the network on pixelate dataset split 3: 88.94 %\n"
     ]
    },
    {
     "name": "stdout",
     "output_type": "stream",
     "text": [
      "Accuracy of the network on pixelate dataset split 4: 73.28 %\n"
     ]
    },
    {
     "name": "stdout",
     "output_type": "stream",
     "text": [
      "Accuracy of the network on pixelate dataset split 5: 51.38 %\n",
      "Average accuracy for pixelate dataset: 79.63 %\n",
      "Testing on corruption: jpeg_compression\n"
     ]
    },
    {
     "name": "stdout",
     "output_type": "stream",
     "text": [
      "Accuracy of the network on jpeg_compression dataset split 1: 88.93 %\n"
     ]
    },
    {
     "name": "stdout",
     "output_type": "stream",
     "text": [
      "Accuracy of the network on jpeg_compression dataset split 2: 85.53 %\n"
     ]
    },
    {
     "name": "stdout",
     "output_type": "stream",
     "text": [
      "Accuracy of the network on jpeg_compression dataset split 3: 84.05 %\n"
     ]
    },
    {
     "name": "stdout",
     "output_type": "stream",
     "text": [
      "Accuracy of the network on jpeg_compression dataset split 4: 82.12 %\n"
     ]
    },
    {
     "name": "stdout",
     "output_type": "stream",
     "text": [
      "Accuracy of the network on jpeg_compression dataset split 5: 79.11 %\n",
      "Average accuracy for jpeg_compression dataset: 83.95 %\n",
      "Testing on corruption: speckle_noise\n"
     ]
    },
    {
     "name": "stdout",
     "output_type": "stream",
     "text": [
      "Accuracy of the network on speckle_noise dataset split 1: 90.28 %\n"
     ]
    },
    {
     "name": "stdout",
     "output_type": "stream",
     "text": [
      "Accuracy of the network on speckle_noise dataset split 2: 83.15 %\n"
     ]
    },
    {
     "name": "stdout",
     "output_type": "stream",
     "text": [
      "Accuracy of the network on speckle_noise dataset split 3: 78.79 %\n"
     ]
    },
    {
     "name": "stdout",
     "output_type": "stream",
     "text": [
      "Accuracy of the network on speckle_noise dataset split 4: 68.43 %\n"
     ]
    },
    {
     "name": "stdout",
     "output_type": "stream",
     "text": [
      "Accuracy of the network on speckle_noise dataset split 5: 58.89 %\n",
      "Average accuracy for speckle_noise dataset: 75.91 %\n",
      "Testing on corruption: gaussian_blur\n"
     ]
    },
    {
     "name": "stdout",
     "output_type": "stream",
     "text": [
      "Accuracy of the network on gaussian_blur dataset split 1: 94.36 %\n"
     ]
    },
    {
     "name": "stdout",
     "output_type": "stream",
     "text": [
      "Accuracy of the network on gaussian_blur dataset split 2: 91.63 %\n"
     ]
    },
    {
     "name": "stdout",
     "output_type": "stream",
     "text": [
      "Accuracy of the network on gaussian_blur dataset split 3: 88.02 %\n"
     ]
    },
    {
     "name": "stdout",
     "output_type": "stream",
     "text": [
      "Accuracy of the network on gaussian_blur dataset split 4: 82.69 %\n"
     ]
    },
    {
     "name": "stdout",
     "output_type": "stream",
     "text": [
      "Accuracy of the network on gaussian_blur dataset split 5: 68.07 %\n",
      "Average accuracy for gaussian_blur dataset: 84.95 %\n",
      "Testing on corruption: spatter\n"
     ]
    },
    {
     "name": "stdout",
     "output_type": "stream",
     "text": [
      "Accuracy of the network on spatter dataset split 1: 92.99 %\n"
     ]
    },
    {
     "name": "stdout",
     "output_type": "stream",
     "text": [
      "Accuracy of the network on spatter dataset split 2: 90.27 %\n"
     ]
    },
    {
     "name": "stdout",
     "output_type": "stream",
     "text": [
      "Accuracy of the network on spatter dataset split 3: 86.25 %\n"
     ]
    },
    {
     "name": "stdout",
     "output_type": "stream",
     "text": [
      "Accuracy of the network on spatter dataset split 4: 90.91 %\n"
     ]
    },
    {
     "name": "stdout",
     "output_type": "stream",
     "text": [
      "Accuracy of the network on spatter dataset split 5: 86.22 %\n",
      "Average accuracy for spatter dataset: 89.33 %\n",
      "Testing on corruption: saturate\n"
     ]
    },
    {
     "name": "stdout",
     "output_type": "stream",
     "text": [
      "Accuracy of the network on saturate dataset split 1: 92.33 %\n"
     ]
    },
    {
     "name": "stdout",
     "output_type": "stream",
     "text": [
      "Accuracy of the network on saturate dataset split 2: 89.55 %\n"
     ]
    },
    {
     "name": "stdout",
     "output_type": "stream",
     "text": [
      "Accuracy of the network on saturate dataset split 3: 94.24 %\n"
     ]
    },
    {
     "name": "stdout",
     "output_type": "stream",
     "text": [
      "Accuracy of the network on saturate dataset split 4: 92.74 %\n"
     ]
    },
    {
     "name": "stdout",
     "output_type": "stream",
     "text": [
      "Accuracy of the network on saturate dataset split 5: 90.17 %\n",
      "Average accuracy for saturate dataset: 91.81 %\n",
      "Average Robust Accuracy: 82.87 %\n"
     ]
    }
   ],
   "source": [
    "import torch\n",
    "import numpy as np\n",
    "\n",
    "# Evaluate the CIFAR-10 dataset\n",
    "correct = 0\n",
    "total = 0\n",
    "\n",
    "with torch.no_grad():\n",
    "    net.eval()\n",
    "    for images, labels in baseline_testloader:\n",
    "        images, labels = images.to(device), labels.to(device)\n",
    "        outputs = net(images)\n",
    "        _, predicted = torch.max(outputs.data, 1)\n",
    "        total += labels.size(0)\n",
    "        correct += (predicted == labels).sum().item()\n",
    "\n",
    "    if total == 0:\n",
    "        print('No images found for CIFAR-10 dataset.')\n",
    "    else:\n",
    "        cifar10_accuracy = 100 * correct / total\n",
    "        print(f'Accuracy of the network on the CIFAR-10 test dataset: {cifar10_accuracy:.2f} %')\n",
    "\n",
    "if not tpu:\n",
    "    # Clear GPU memory\n",
    "    torch.cuda.empty_cache()\n",
    "\n",
    "    # Clear CPU memory\n",
    "    torch.cuda.ipc_collect()\n",
    "\n",
    "# Define the list of corruptions\n",
    "corruptions = ['gaussian_noise', 'shot_noise', 'impulse_noise', 'defocus_blur', 'glass_blur', \n",
    "               'motion_blur', 'zoom_blur', 'snow', 'frost', 'fog', 'brightness', \n",
    "               'contrast', 'elastic_transform', 'pixelate', 'jpeg_compression', \n",
    "               'speckle_noise', 'gaussian_blur', 'spatter', 'saturate']\n",
    "\n",
    "# Define the batch size\n",
    "batch_size = 256 \n",
    "\n",
    "# Create an empty dictionary to store corrupted datasets\n",
    "corrupted_datasets = {}\n",
    "\n",
    "# Prepare to count predictions for each class\n",
    "correct_pred = {classname: 0 for classname in classes}\n",
    "total_pred = {classname: 0 for classname in classes}\n",
    "\n",
    "# List to store average accuracies for each corruption dataset\n",
    "average_accuracies = []\n",
    "\n",
    "# Loop over corruptions, loading and testing all 5 severity levels of each corruption dataset\n",
    "for corruption in corruptions:\n",
    "    print(f\"Testing on corruption: {corruption}\")\n",
    "\n",
    "    # Load and test datasets for all 5 severity levels of the current corruption\n",
    "    try:\n",
    "        if DATASET_NAME=='CIFAR10':\n",
    "            np_data_c = np.load(f'/kaggle/input/cifar-c/CIFAR-10-C/{corruption}.npy')\n",
    "        elif DATASET_NAME=='CIFAR100':\n",
    "            np_data_c = np.load(f'/kaggle/input/cifar-100-c/{corruption}.npy')\n",
    "        else:\n",
    "            raise ValueError(f'Corruption dataset {DATASET_NAME} not loaded')\n",
    "            \n",
    "        np_data_c_splits = np.array_split(np_data_c, 5)\n",
    "        \n",
    "        # List to store accuracies of all severity levels for averaging\n",
    "        accuracies = []\n",
    "\n",
    "        for i, np_data_c_split in enumerate(np_data_c_splits):\n",
    "            custom_dataset = CustomDataset(np_data_c_split, baseline_testset, resize=True)\n",
    "            custom_dataloader = torch.utils.data.DataLoader(custom_dataset, batch_size=batch_size, shuffle=False)\n",
    "\n",
    "            # Testing loop for the current corruption dataset split\n",
    "            correct = 0\n",
    "            total = 0\n",
    "\n",
    "            with torch.no_grad():\n",
    "                images_loaded = 0  # Counter for images loaded for the current corruption\n",
    "                for images, labels in custom_dataloader:\n",
    "                    images_loaded += len(images)  # Increment the counter by the number of images loaded\n",
    "                    images, labels = images.to(device), labels.to(device)\n",
    "                    # Calculate outputs by running images through the network\n",
    "                    outputs = net(images)\n",
    "                    # The class with the highest energy is chosen as prediction\n",
    "                    _, predicted = torch.max(outputs.data, 1)\n",
    "                    total += labels.size(0)\n",
    "                    correct += (predicted == labels).sum().item()\n",
    "\n",
    "                if total == 0:\n",
    "                    print(f'No images found for {corruption} dataset split {i+1}.')\n",
    "                else:\n",
    "                    accuracy = 100 * correct / total\n",
    "                    print(f'Accuracy of the network on {corruption} dataset split {i+1}: {accuracy:.2f} %')\n",
    "                    accuracies.append(accuracy)\n",
    "\n",
    "                # Print the number of images loaded for the current corruption dataset split\n",
    "                #print(f\"Images loaded for {corruption} dataset split {i+1}: {images_loaded}\")\n",
    "                \n",
    "                if not tpu:\n",
    "                    # Clear GPU memory\n",
    "                    torch.cuda.empty_cache()\n",
    "                    # Clear CPU memory\n",
    "                    torch.cuda.ipc_collect()\n",
    "\n",
    "                # Delete variables to free up memory\n",
    "                del custom_dataset\n",
    "                del custom_dataloader\n",
    "\n",
    "        # Calculate and print the average accuracy for the corruption dataset\n",
    "        if accuracies:\n",
    "            average_accuracy = sum(accuracies) / len(accuracies)\n",
    "            average_accuracies.append(average_accuracy)\n",
    "            print(f'Average accuracy for {corruption} dataset: {average_accuracy:.2f} %')\n",
    "\n",
    "    except FileNotFoundError:\n",
    "        print(f'Corruption {corruption} dataset not found.')\n",
    "        continue\n",
    "\n",
    "# Calculate and print the average robust accuracy\n",
    "if average_accuracies:\n",
    "    average_robust_accuracy = sum(average_accuracies) / len(average_accuracies)\n",
    "    print(f'Average Robust Accuracy: {average_robust_accuracy:.2f} %')\n",
    "else:\n",
    "    print(\"No corrupt datasets found for evaluation.\")"
   ]
  },
  {
   "cell_type": "code",
   "execution_count": 13,
   "id": "02a75418",
   "metadata": {
    "execution": {
     "iopub.execute_input": "2024-09-16T08:48:09.187792Z",
     "iopub.status.busy": "2024-09-16T08:48:09.187473Z",
     "iopub.status.idle": "2024-09-16T08:48:09.194678Z",
     "shell.execute_reply": "2024-09-16T08:48:09.193990Z"
    },
    "papermill": {
     "duration": 0.042261,
     "end_time": "2024-09-16T08:48:09.196351",
     "exception": false,
     "start_time": "2024-09-16T08:48:09.154090",
     "status": "completed"
    },
    "tags": []
   },
   "outputs": [],
   "source": [
    "# # Load the model checkpoint\n",
    "# net = WideResNet_28_4(num_classes=num_classes)\n",
    "# checkpoint_path = '/kaggle/working/MasterArbeit/models/CIFAR10_net_ta_custom_100.pth'\n",
    "# checkpoint = torch.load(checkpoint_path)\n",
    "# net.load_state_dict(checkpoint, strict=False)\n",
    "# net.to(device)\n",
    "\n",
    "# import torch\n",
    "# import numpy as np\n",
    "\n",
    "\n",
    "# # Evaluate the CIFAR-10 dataset\n",
    "# correct = 0\n",
    "# total = 0\n",
    "\n",
    "# with torch.no_grad():\n",
    "#     net.eval()\n",
    "#     for images, labels in baseline_testloader:\n",
    "#         images, labels = images.to(device), labels.to(device)\n",
    "#         outputs = net(images)\n",
    "#         _, predicted = torch.max(outputs.data, 1)\n",
    "#         total += labels.size(0)\n",
    "#         correct += (predicted == labels).sum().item()\n",
    "\n",
    "#     if total == 0:\n",
    "#         print('No images found for CIFAR-10 dataset.')\n",
    "#     else:\n",
    "#         cifar10_accuracy = 100 * correct / total\n",
    "#         print(f'Accuracy of the network on the CIFAR-10 test dataset: {cifar10_accuracy:.2f} %')\n",
    "        \n",
    "# if not tpu:\n",
    "#     # Clear GPU memory\n",
    "#     torch.cuda.empty_cache()\n",
    "\n",
    "#     # Clear CPU memory\n",
    "#     torch.cuda.ipc_collect()\n",
    "\n",
    "# # Define the list of corruptions\n",
    "# corruptions = ['gaussian_noise', 'shot_noise', 'impulse_noise', 'defocus_blur', 'glass_blur', \n",
    "#                'motion_blur', 'zoom_blur', 'snow', 'frost', 'fog', 'brightness', \n",
    "#                'contrast', 'elastic_transform', 'pixelate', 'jpeg_compression', \n",
    "#                'speckle_noise', 'gaussian_blur', 'spatter', 'saturate']\n",
    "\n",
    "# # Define the batch size\n",
    "# batch_size = 256 \n",
    "\n",
    "# # Create an empty dictionary to store corrupted datasets\n",
    "# corrupted_datasets = {}\n",
    "\n",
    "# # Prepare to count predictions for each class\n",
    "# correct_pred = {classname: 0 for classname in classes}\n",
    "# total_pred = {classname: 0 for classname in classes}\n",
    "\n",
    "# # List to store average accuracies for each corruption dataset\n",
    "# average_accuracies = []\n",
    "\n",
    "# # Loop over corruptions, loading and testing all 5 severity levels of each corruption dataset\n",
    "# for corruption in corruptions:\n",
    "#     print(f\"Testing on corruption: {corruption}\")\n",
    "\n",
    "#     # Load and test datasets for all 5 severity levels of the current corruption\n",
    "#     try:\n",
    "#         if DATASET_NAME=='CIFAR10':\n",
    "#             np_data_c = np.load(f'/kaggle/input/cifar-c/CIFAR-10-C/{corruption}.npy')\n",
    "#         elif DATASET_NAME=='CIFAR100':\n",
    "#             np_data_c = np.load(f'/kaggle/input/cifar-100-c/{corruption}.npy')\n",
    "#         else:\n",
    "#             raise ValueError(f'Corruption dataset {DATASET_NAME} not loaded')\n",
    "#         np_data_c_splits = np.array_split(np_data_c, 5)\n",
    "        \n",
    "#         # List to store accuracies of all severity levels for averaging\n",
    "#         accuracies = []\n",
    "\n",
    "#         for i, np_data_c_split in enumerate(np_data_c_splits):\n",
    "#             custom_dataset = CustomDataset(np_data_c_split, baseline_testset, resize=True)\n",
    "#             custom_dataloader = torch.utils.data.DataLoader(custom_dataset, batch_size=batch_size, shuffle=False)\n",
    "\n",
    "#             # Testing loop for the current corruption dataset split\n",
    "#             correct = 0\n",
    "#             total = 0\n",
    "\n",
    "#             with torch.no_grad():\n",
    "#                 images_loaded = 0  # Counter for images loaded for the current corruption\n",
    "#                 for images, labels in custom_dataloader:\n",
    "#                     images_loaded += len(images)  # Increment the counter by the number of images loaded\n",
    "#                     images, labels = images.to(device), labels.to(device)\n",
    "#                     # Calculate outputs by running images through the network\n",
    "#                     outputs = net(images)\n",
    "#                     # The class with the highest energy is chosen as prediction\n",
    "#                     _, predicted = torch.max(outputs.data, 1)\n",
    "#                     total += labels.size(0)\n",
    "#                     correct += (predicted == labels).sum().item()\n",
    "\n",
    "#                 if total == 0:\n",
    "#                     print(f'No images found for {corruption} dataset split {i+1}.')\n",
    "#                 else:\n",
    "#                     accuracy = 100 * correct / total\n",
    "#                     print(f'Accuracy of the network on {corruption} dataset split {i+1}: {accuracy:.2f} %')\n",
    "#                     accuracies.append(accuracy)\n",
    "\n",
    "#                 # Print the number of images loaded for the current corruption dataset split\n",
    "#                 #print(f\"Images loaded for {corruption} dataset split {i+1}: {images_loaded}\")\n",
    "                \n",
    "#                 if not tpu:\n",
    "#                     # Clear GPU memory\n",
    "#                     torch.cuda.empty_cache()\n",
    "#                     # Clear CPU memory\n",
    "#                     torch.cuda.ipc_collect()\n",
    "\n",
    "#                 # Delete variables to free up memory\n",
    "#                 del custom_dataset\n",
    "#                 del custom_dataloader\n",
    "\n",
    "#         # Calculate and print the average accuracy for the corruption dataset\n",
    "#         if accuracies:\n",
    "#             average_accuracy = sum(accuracies) / len(accuracies)\n",
    "#             average_accuracies.append(average_accuracy)\n",
    "#             print(f'Average accuracy for {corruption} dataset: {average_accuracy:.2f} %')\n",
    "\n",
    "#     except FileNotFoundError:\n",
    "#         print(f'Corruption {corruption} dataset not found.')\n",
    "#         continue\n",
    "\n",
    "# # Calculate and print the average robust accuracy\n",
    "# if average_accuracies:\n",
    "#     average_robust_accuracy = sum(average_accuracies) / len(average_accuracies)\n",
    "#     print(f'Average Robust Accuracy: {average_robust_accuracy:.2f} %')\n",
    "# else:\n",
    "#     print(\"No corrupt datasets found for evaluation.\")"
   ]
  },
  {
   "cell_type": "code",
   "execution_count": null,
   "id": "bcded7e9",
   "metadata": {
    "papermill": {
     "duration": 0.031261,
     "end_time": "2024-09-16T08:48:09.258662",
     "exception": false,
     "start_time": "2024-09-16T08:48:09.227401",
     "status": "completed"
    },
    "tags": []
   },
   "outputs": [],
   "source": []
  }
 ],
 "metadata": {
  "kaggle": {
   "accelerator": "tpu1vmV38",
   "dataSources": [
    {
     "datasetId": 4764421,
     "sourceId": 8073860,
     "sourceType": "datasetVersion"
    },
    {
     "datasetId": 5584357,
     "sourceId": 9232557,
     "sourceType": "datasetVersion"
    },
    {
     "modelId": 101255,
     "modelInstanceId": 76598,
     "sourceId": 91369,
     "sourceType": "modelInstanceVersion"
    }
   ],
   "isGpuEnabled": false,
   "isInternetEnabled": true,
   "language": "python",
   "sourceType": "notebook"
  },
  "kernelspec": {
   "display_name": "Python 3",
   "language": "python",
   "name": "python3"
  },
  "language_info": {
   "codemirror_mode": {
    "name": "ipython",
    "version": 3
   },
   "file_extension": ".py",
   "mimetype": "text/x-python",
   "name": "python",
   "nbconvert_exporter": "python",
   "pygments_lexer": "ipython3",
   "version": "3.10.14"
  },
  "papermill": {
   "default_parameters": {},
   "duration": 2693.268236,
   "end_time": "2024-09-16T08:48:15.539249",
   "environment_variables": {},
   "exception": null,
   "input_path": "__notebook__.ipynb",
   "output_path": "__notebook__.ipynb",
   "parameters": {},
   "start_time": "2024-09-16T08:03:22.271013",
   "version": "2.6.0"
  }
 },
 "nbformat": 4,
 "nbformat_minor": 5
}
