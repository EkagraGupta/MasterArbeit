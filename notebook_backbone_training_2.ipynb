{
 "cells": [
  {
   "cell_type": "code",
   "execution_count": 1,
   "id": "6eea0688",
   "metadata": {
    "_cell_guid": "b1076dfc-b9ad-4769-8c92-a6c4dae69d19",
    "_uuid": "8f2839f25d086af736a60e9eeb907d3b93b6e0e5",
    "execution": {
     "iopub.execute_input": "2024-08-22T16:35:40.166824Z",
     "iopub.status.busy": "2024-08-22T16:35:40.166590Z",
     "iopub.status.idle": "2024-08-22T16:35:41.070478Z",
     "shell.execute_reply": "2024-08-22T16:35:41.069676Z"
    },
    "papermill": {
     "duration": 0.910509,
     "end_time": "2024-08-22T16:35:41.072309",
     "exception": false,
     "start_time": "2024-08-22T16:35:40.161800",
     "status": "completed"
    },
    "tags": []
   },
   "outputs": [
    {
     "name": "stdout",
     "output_type": "stream",
     "text": [
      "['CIFAR-10-C']\n",
      "['motion_blur.npy', 'speckle_noise.npy', 'jpeg_compression.npy', 'impulse_noise.npy', 'defocus_blur.npy', 'brightness.npy', 'elastic_transform.npy', 'snow.npy', 'labels.npy', 'gaussian_blur.npy', 'frost.npy', 'zoom_blur.npy', 'spatter.npy', 'fog.npy', 'gaussian_noise.npy', 'contrast.npy', 'saturate.npy', 'shot_noise.npy', 'pixelate.npy', 'glass_blur.npy']\n"
     ]
    }
   ],
   "source": [
    "# This Python 3 environment comes with many helpful analytics libraries installed\n",
    "# It is defined by the kaggle/python Docker image: https://github.com/kaggle/docker-python\n",
    "# For example, here's several helpful packages to load\n",
    "\n",
    "import numpy as np # linear algebra\n",
    "import pandas as pd # data processing, CSV file I/O (e.g. pd.read_csv)\n",
    "import os\n",
    "\n",
    "dataset_dir = '/kaggle/input/cifar-c'\n",
    "print(os.listdir(dataset_dir))\n",
    "\n",
    "# Define the path to the subdirectory\n",
    "sub_dir = os.path.join(dataset_dir, 'CIFAR-10-C')\n",
    "\n",
    "# List contents of the subdirectory\n",
    "print(os.listdir(sub_dir))"
   ]
  },
  {
   "cell_type": "code",
   "execution_count": 2,
   "id": "4b0f20cd",
   "metadata": {
    "execution": {
     "iopub.execute_input": "2024-08-22T16:35:41.082124Z",
     "iopub.status.busy": "2024-08-22T16:35:41.081778Z",
     "iopub.status.idle": "2024-08-22T16:36:06.248176Z",
     "shell.execute_reply": "2024-08-22T16:36:06.247101Z"
    },
    "papermill": {
     "duration": 25.173219,
     "end_time": "2024-08-22T16:36:06.250170",
     "exception": false,
     "start_time": "2024-08-22T16:35:41.076951",
     "status": "completed"
    },
    "tags": []
   },
   "outputs": [
    {
     "name": "stdout",
     "output_type": "stream",
     "text": [
      "Collecting torchmetrics\r\n"
     ]
    },
    {
     "name": "stdout",
     "output_type": "stream",
     "text": [
      "  Downloading torchmetrics-1.4.1-py3-none-any.whl (866 kB)\r\n",
      "\u001b[?25l     \u001b[90m━━━━━━━━━━━━━━━━━━━━━━━━━━━━━━━━━━━━━━━━\u001b[0m \u001b[32m0.0/866.2 kB\u001b[0m \u001b[31m?\u001b[0m eta \u001b[36m-:--:--\u001b[0m"
     ]
    },
    {
     "name": "stdout",
     "output_type": "stream",
     "text": [
      "\r",
      "\u001b[2K     \u001b[91m━━━━━━━━━\u001b[0m\u001b[90m╺\u001b[0m\u001b[90m━━━━━━━━━━━━━━━━━━━━━━━━━━━━━\u001b[0m \u001b[32m204.8/866.2 kB\u001b[0m \u001b[31m6.0 MB/s\u001b[0m eta \u001b[36m0:00:01\u001b[0m"
     ]
    },
    {
     "name": "stdout",
     "output_type": "stream",
     "text": [
      "\r",
      "\u001b[2K     \u001b[91m━━━━━━━━━━━━━━━━━━━━━━━━━━━━━━━━━━━━━\u001b[0m\u001b[91m╸\u001b[0m \u001b[32m860.2/866.2 kB\u001b[0m \u001b[31m15.6 MB/s\u001b[0m eta \u001b[36m0:00:01\u001b[0m\r",
      "\u001b[2K     \u001b[90m━━━━━━━━━━━━━━━━━━━━━━━━━━━━━━━━━━━━━━\u001b[0m \u001b[32m866.2/866.2 kB\u001b[0m \u001b[31m11.1 MB/s\u001b[0m eta \u001b[36m0:00:00\u001b[0m\r\n",
      "\u001b[?25h"
     ]
    },
    {
     "name": "stdout",
     "output_type": "stream",
     "text": [
      "Requirement already satisfied: numpy>1.20.0 in /usr/local/lib/python3.10/site-packages (from torchmetrics) (1.26.4)\r\n",
      "Requirement already satisfied: packaging>17.1 in /usr/local/lib/python3.10/site-packages (from torchmetrics) (24.1)\r\n"
     ]
    },
    {
     "name": "stdout",
     "output_type": "stream",
     "text": [
      "Collecting lightning-utilities>=0.8.0\r\n",
      "  Downloading lightning_utilities-0.11.6-py3-none-any.whl (26 kB)\r\n",
      "Requirement already satisfied: torch>=1.10.0 in /usr/local/lib/python3.10/site-packages (from torchmetrics) (2.4.0)\r\n",
      "Requirement already satisfied: setuptools in /usr/local/lib/python3.10/site-packages (from lightning-utilities>=0.8.0->torchmetrics) (65.5.1)\r\n",
      "Requirement already satisfied: typing-extensions in /usr/local/lib/python3.10/site-packages (from lightning-utilities>=0.8.0->torchmetrics) (4.12.2)\r\n"
     ]
    },
    {
     "name": "stdout",
     "output_type": "stream",
     "text": [
      "Requirement already satisfied: nvidia-cudnn-cu12==9.1.0.70 in /usr/local/lib/python3.10/site-packages (from torch>=1.10.0->torchmetrics) (9.1.0.70)\r\n",
      "Requirement already satisfied: sympy in /usr/local/lib/python3.10/site-packages (from torch>=1.10.0->torchmetrics) (1.13.2)\r\n",
      "Requirement already satisfied: nvidia-curand-cu12==10.3.2.106 in /usr/local/lib/python3.10/site-packages (from torch>=1.10.0->torchmetrics) (10.3.2.106)\r\n",
      "Requirement already satisfied: nvidia-cuda-cupti-cu12==12.1.105 in /usr/local/lib/python3.10/site-packages (from torch>=1.10.0->torchmetrics) (12.1.105)\r\n",
      "Requirement already satisfied: nvidia-cusolver-cu12==11.4.5.107 in /usr/local/lib/python3.10/site-packages (from torch>=1.10.0->torchmetrics) (11.4.5.107)\r\n",
      "Requirement already satisfied: nvidia-nvtx-cu12==12.1.105 in /usr/local/lib/python3.10/site-packages (from torch>=1.10.0->torchmetrics) (12.1.105)\r\n",
      "Requirement already satisfied: networkx in /usr/local/lib/python3.10/site-packages (from torch>=1.10.0->torchmetrics) (3.3)\r\n",
      "Requirement already satisfied: triton==3.0.0 in /usr/local/lib/python3.10/site-packages (from torch>=1.10.0->torchmetrics) (3.0.0)\r\n",
      "Requirement already satisfied: nvidia-cusparse-cu12==12.1.0.106 in /usr/local/lib/python3.10/site-packages (from torch>=1.10.0->torchmetrics) (12.1.0.106)\r\n",
      "Requirement already satisfied: fsspec in /usr/local/lib/python3.10/site-packages (from torch>=1.10.0->torchmetrics) (2024.6.1)\r\n",
      "Requirement already satisfied: jinja2 in /usr/local/lib/python3.10/site-packages (from torch>=1.10.0->torchmetrics) (3.1.4)\r\n",
      "Requirement already satisfied: filelock in /usr/local/lib/python3.10/site-packages (from torch>=1.10.0->torchmetrics) (3.15.4)\r\n",
      "Requirement already satisfied: nvidia-cublas-cu12==12.1.3.1 in /usr/local/lib/python3.10/site-packages (from torch>=1.10.0->torchmetrics) (12.1.3.1)\r\n",
      "Requirement already satisfied: nvidia-cuda-runtime-cu12==12.1.105 in /usr/local/lib/python3.10/site-packages (from torch>=1.10.0->torchmetrics) (12.1.105)\r\n"
     ]
    },
    {
     "name": "stdout",
     "output_type": "stream",
     "text": [
      "Requirement already satisfied: nvidia-cuda-nvrtc-cu12==12.1.105 in /usr/local/lib/python3.10/site-packages (from torch>=1.10.0->torchmetrics) (12.1.105)\r\n",
      "Requirement already satisfied: nvidia-cufft-cu12==11.0.2.54 in /usr/local/lib/python3.10/site-packages (from torch>=1.10.0->torchmetrics) (11.0.2.54)\r\n",
      "Requirement already satisfied: nvidia-nccl-cu12==2.20.5 in /usr/local/lib/python3.10/site-packages (from torch>=1.10.0->torchmetrics) (2.20.5)\r\n",
      "Requirement already satisfied: nvidia-nvjitlink-cu12 in /usr/local/lib/python3.10/site-packages (from nvidia-cusolver-cu12==11.4.5.107->torch>=1.10.0->torchmetrics) (12.6.20)\r\n"
     ]
    },
    {
     "name": "stdout",
     "output_type": "stream",
     "text": [
      "Requirement already satisfied: MarkupSafe>=2.0 in /usr/local/lib/python3.10/site-packages (from jinja2->torch>=1.10.0->torchmetrics) (2.1.5)\r\n",
      "Requirement already satisfied: mpmath<1.4,>=1.1.0 in /usr/local/lib/python3.10/site-packages (from sympy->torch>=1.10.0->torchmetrics) (1.3.0)\r\n"
     ]
    },
    {
     "name": "stdout",
     "output_type": "stream",
     "text": [
      "Installing collected packages: lightning-utilities, torchmetrics\r\n"
     ]
    },
    {
     "name": "stdout",
     "output_type": "stream",
     "text": [
      "Successfully installed lightning-utilities-0.11.6 torchmetrics-1.4.1\r\n",
      "\u001b[33mWARNING: Running pip as the 'root' user can result in broken permissions and conflicting behaviour with the system package manager. It is recommended to use a virtual environment instead: https://pip.pypa.io/warnings/venv\u001b[0m\u001b[33m\r\n",
      "\u001b[0m"
     ]
    },
    {
     "name": "stdout",
     "output_type": "stream",
     "text": [
      "\r\n",
      "\u001b[1m[\u001b[0m\u001b[34;49mnotice\u001b[0m\u001b[1;39;49m]\u001b[0m\u001b[39;49m A new release of pip is available: \u001b[0m\u001b[31;49m23.0.1\u001b[0m\u001b[39;49m -> \u001b[0m\u001b[32;49m24.2\u001b[0m\r\n",
      "\u001b[1m[\u001b[0m\u001b[34;49mnotice\u001b[0m\u001b[1;39;49m]\u001b[0m\u001b[39;49m To update, run: \u001b[0m\u001b[32;49mpip install --upgrade pip\u001b[0m\r\n"
     ]
    },
    {
     "name": "stdout",
     "output_type": "stream",
     "text": [
      "Cloning into 'MasterArbeit'...\r\n"
     ]
    },
    {
     "name": "stdout",
     "output_type": "stream",
     "text": [
      "remote: Enumerating objects: 1704, done.\u001b[K\r\n",
      "remote: Counting objects:   0% (1/320)\u001b[K\r",
      "remote: Counting objects:   1% (4/320)\u001b[K\r",
      "remote: Counting objects:   2% (7/320)\u001b[K\r",
      "remote: Counting objects:   3% (10/320)\u001b[K\r",
      "remote: Counting objects:   4% (13/320)\u001b[K\r",
      "remote: Counting objects:   5% (16/320)\u001b[K\r",
      "remote: Counting objects:   6% (20/320)\u001b[K\r",
      "remote: Counting objects:   7% (23/320)\u001b[K\r",
      "remote: Counting objects:   8% (26/320)\u001b[K\r",
      "remote: Counting objects:   9% (29/320)\u001b[K\r",
      "remote: Counting objects:  10% (32/320)\u001b[K\r",
      "remote: Counting objects:  11% (36/320)\u001b[K\r",
      "remote: Counting objects:  12% (39/320)\u001b[K\r",
      "remote: Counting objects:  13% (42/320)\u001b[K\r",
      "remote: Counting objects:  14% (45/320)\u001b[K\r",
      "remote: Counting objects:  15% (48/320)\u001b[K\r",
      "remote: Counting objects:  16% (52/320)\u001b[K\r",
      "remote: Counting objects:  17% (55/320)\u001b[K\r",
      "remote: Counting objects:  18% (58/320)\u001b[K\r",
      "remote: Counting objects:  19% (61/320)\u001b[K\r",
      "remote: Counting objects:  20% (64/320)\u001b[K\r",
      "remote: Counting objects:  21% (68/320)\u001b[K\r",
      "remote: Counting objects:  22% (71/320)\u001b[K\r",
      "remote: Counting objects:  23% (74/320)\u001b[K\r",
      "remote: Counting objects:  24% (77/320)\u001b[K\r",
      "remote: Counting objects:  25% (80/320)\u001b[K\r",
      "remote: Counting objects:  26% (84/320)\u001b[K\r",
      "remote: Counting objects:  27% (87/320)\u001b[K\r",
      "remote: Counting objects:  28% (90/320)\u001b[K\r",
      "remote: Counting objects:  29% (93/320)\u001b[K\r",
      "remote: Counting objects:  30% (96/320)\u001b[K\r",
      "remote: Counting objects:  31% (100/320)\u001b[K\r",
      "remote: Counting objects:  32% (103/320)\u001b[K\r",
      "remote: Counting objects:  33% (106/320)\u001b[K\r",
      "remote: Counting objects:  34% (109/320)\u001b[K\r",
      "remote: Counting objects:  35% (112/320)\u001b[K\r",
      "remote: Counting objects:  36% (116/320)\u001b[K\r",
      "remote: Counting objects:  37% (119/320)\u001b[K\r",
      "remote: Counting objects:  38% (122/320)\u001b[K\r",
      "remote: Counting objects:  39% (125/320)\u001b[K\r",
      "remote: Counting objects:  40% (128/320)\u001b[K\r",
      "remote: Counting objects:  41% (132/320)\u001b[K\r",
      "remote: Counting objects:  42% (135/320)\u001b[K\r",
      "remote: Counting objects:  43% (138/320)\u001b[K\r",
      "remote: Counting objects:  44% (141/320)\u001b[K\r",
      "remote: Counting objects:  45% (144/320)\u001b[K\r",
      "remote: Counting objects:  46% (148/320)\u001b[K\r",
      "remote: Counting objects:  47% (151/320)\u001b[K\r",
      "remote: Counting objects:  48% (154/320)\u001b[K\r",
      "remote: Counting objects:  49% (157/320)\u001b[K\r",
      "remote: Counting objects:  50% (160/320)\u001b[K\r",
      "remote: Counting objects:  51% (164/320)\u001b[K\r",
      "remote: Counting objects:  52% (167/320)\u001b[K\r",
      "remote: Counting objects:  53% (170/320)\u001b[K\r",
      "remote: Counting objects:  54% (173/320)\u001b[K\r",
      "remote: Counting objects:  55% (176/320)\u001b[K\r",
      "remote: Counting objects:  56% (180/320)\u001b[K\r",
      "remote: Counting objects:  57% (183/320)\u001b[K\r",
      "remote: Counting objects:  58% (186/320)\u001b[K\r",
      "remote: Counting objects:  59% (189/320)\u001b[K\r",
      "remote: Counting objects:  60% (192/320)\u001b[K\r",
      "remote: Counting objects:  61% (196/320)\u001b[K\r",
      "remote: Counting objects:  62% (199/320)\u001b[K\r",
      "remote: Counting objects:  63% (202/320)\u001b[K\r",
      "remote: Counting objects:  64% (205/320)\u001b[K\r",
      "remote: Counting objects:  65% (208/320)\u001b[K\r",
      "remote: Counting objects:  66% (212/320)\u001b[K\r",
      "remote: Counting objects:  67% (215/320)\u001b[K\r",
      "remote: Counting objects:  68% (218/320)\u001b[K\r",
      "remote: Counting objects:  69% (221/320)\u001b[K\r",
      "remote: Counting objects:  70% (224/320)\u001b[K\r",
      "remote: Counting objects:  71% (228/320)\u001b[K\r",
      "remote: Counting objects:  72% (231/320)\u001b[K\r",
      "remote: Counting objects:  73% (234/320)\u001b[K\r",
      "remote: Counting objects:  74% (237/320)\u001b[K\r",
      "remote: Counting objects:  75% (240/320)\u001b[K\r",
      "remote: Counting objects:  76% (244/320)\u001b[K\r",
      "remote: Counting objects:  77% (247/320)\u001b[K\r",
      "remote: Counting objects:  78% (250/320)\u001b[K\r",
      "remote: Counting objects:  79% (253/320)\u001b[K\r",
      "remote: Counting objects:  80% (256/320)\u001b[K\r",
      "remote: Counting objects:  81% (260/320)\u001b[K\r",
      "remote: Counting objects:  82% (263/320)\u001b[K\r",
      "remote: Counting objects:  83% (266/320)\u001b[K\r",
      "remote: Counting objects:  84% (269/320)\u001b[K\r",
      "remote: Counting objects:  85% (272/320)\u001b[K\r",
      "remote: Counting objects:  86% (276/320)\u001b[K\r",
      "remote: Counting objects:  87% (279/320)\u001b[K\r",
      "remote: Counting objects:  88% (282/320)\u001b[K\r",
      "remote: Counting objects:  89% (285/320)\u001b[K\r",
      "remote: Counting objects:  90% (288/320)\u001b[K\r",
      "remote: Counting objects:  91% (292/320)\u001b[K\r",
      "remote: Counting objects:  92% (295/320)\u001b[K\r",
      "remote: Counting objects:  93% (298/320)\u001b[K\r",
      "remote: Counting objects:  94% (301/320)\u001b[K\r",
      "remote: Counting objects:  95% (304/320)\u001b[K\r",
      "remote: Counting objects:  96% (308/320)\u001b[K\r",
      "remote: Counting objects:  97% (311/320)\u001b[K\r",
      "remote: Counting objects:  98% (314/320)\u001b[K\r",
      "remote: Counting objects:  99% (317/320)\u001b[K\r",
      "remote: Counting objects: 100% (320/320)\u001b[K\r",
      "remote: Counting objects: 100% (320/320), done.\u001b[K\r\n",
      "remote: Compressing objects:   0% (1/241)\u001b[K\r",
      "remote: Compressing objects:   1% (3/241)\u001b[K\r",
      "remote: Compressing objects:   2% (5/241)\u001b[K\r",
      "remote: Compressing objects:   3% (8/241)\u001b[K\r",
      "remote: Compressing objects:   4% (10/241)\u001b[K\r",
      "remote: Compressing objects:   5% (13/241)\u001b[K\r",
      "remote: Compressing objects:   6% (15/241)\u001b[K\r",
      "remote: Compressing objects:   7% (17/241)\u001b[K\r",
      "remote: Compressing objects:   8% (20/241)\u001b[K\r",
      "remote: Compressing objects:   9% (22/241)\u001b[K\r",
      "remote: Compressing objects:  10% (25/241)\u001b[K\r",
      "remote: Compressing objects:  11% (27/241)\u001b[K\r",
      "remote: Compressing objects:  12% (29/241)\u001b[K\r",
      "remote: Compressing objects:  13% (32/241)\u001b[K\r",
      "remote: Compressing objects:  14% (34/241)\u001b[K\r",
      "remote: Compressing objects:  15% (37/241)\u001b[K\r",
      "remote: Compressing objects:  16% (39/241)\u001b[K\r",
      "remote: Compressing objects:  17% (41/241)\u001b[K\r",
      "remote: Compressing objects:  18% (44/241)\u001b[K\r",
      "remote: Compressing objects:  19% (46/241)\u001b[K\r",
      "remote: Compressing objects:  20% (49/241)\u001b[K\r"
     ]
    },
    {
     "name": "stdout",
     "output_type": "stream",
     "text": [
      "remote: Compressing objects:  21% (51/241)\u001b[K\r",
      "remote: Compressing objects:  22% (54/241)\u001b[K\r",
      "remote: Compressing objects:  23% (56/241)\u001b[K\r",
      "remote: Compressing objects:  24% (58/241)\u001b[K\r",
      "remote: Compressing objects:  25% (61/241)\u001b[K\r",
      "remote: Compressing objects:  26% (63/241)\u001b[K\r",
      "remote: Compressing objects:  27% (66/241)\u001b[K\r",
      "remote: Compressing objects:  28% (68/241)\u001b[K\r",
      "remote: Compressing objects:  29% (70/241)\u001b[K\r"
     ]
    },
    {
     "name": "stdout",
     "output_type": "stream",
     "text": [
      "remote: Compressing objects:  30% (73/241)\u001b[K\r",
      "remote: Compressing objects:  31% (75/241)\u001b[K\r",
      "remote: Compressing objects:  32% (78/241)\u001b[K\r",
      "remote: Compressing objects:  33% (80/241)\u001b[K\r",
      "remote: Compressing objects:  34% (82/241)\u001b[K\r",
      "remote: Compressing objects:  35% (85/241)\u001b[K\r"
     ]
    },
    {
     "name": "stdout",
     "output_type": "stream",
     "text": [
      "remote: Compressing objects:  36% (87/241)\u001b[K\r",
      "remote: Compressing objects:  37% (90/241)\u001b[K\r",
      "remote: Compressing objects:  38% (92/241)\u001b[K\r",
      "remote: Compressing objects:  39% (94/241)\u001b[K\r",
      "remote: Compressing objects:  40% (97/241)\u001b[K\r",
      "remote: Compressing objects:  41% (99/241)\u001b[K\r",
      "remote: Compressing objects:  42% (102/241)\u001b[K\r",
      "remote: Compressing objects:  43% (104/241)\u001b[K\r",
      "remote: Compressing objects:  44% (107/241)\u001b[K\r",
      "remote: Compressing objects:  45% (109/241)\u001b[K\r",
      "remote: Compressing objects:  46% (111/241)\u001b[K\r",
      "remote: Compressing objects:  47% (114/241)\u001b[K\r",
      "remote: Compressing objects:  48% (116/241)\u001b[K\r",
      "remote: Compressing objects:  49% (119/241)\u001b[K\r",
      "remote: Compressing objects:  50% (121/241)\u001b[K\r",
      "remote: Compressing objects:  51% (123/241)\u001b[K\r",
      "remote: Compressing objects:  52% (126/241)\u001b[K\r",
      "remote: Compressing objects:  53% (128/241)\u001b[K\r",
      "remote: Compressing objects:  54% (131/241)\u001b[K\r",
      "remote: Compressing objects:  55% (133/241)\u001b[K\r",
      "remote: Compressing objects:  56% (135/241)\u001b[K\r",
      "remote: Compressing objects:  57% (138/241)\u001b[K\r",
      "remote: Compressing objects:  58% (140/241)\u001b[K\r",
      "remote: Compressing objects:  59% (143/241)\u001b[K\r",
      "remote: Compressing objects:  60% (145/241)\u001b[K\r",
      "remote: Compressing objects:  61% (148/241)\u001b[K\r",
      "remote: Compressing objects:  62% (150/241)\u001b[K\r",
      "remote: Compressing objects:  63% (152/241)\u001b[K\r",
      "remote: Compressing objects:  64% (155/241)\u001b[K\r",
      "remote: Compressing objects:  65% (157/241)\u001b[K\r",
      "remote: Compressing objects:  66% (160/241)\u001b[K\r",
      "remote: Compressing objects:  67% (162/241)\u001b[K\r",
      "remote: Compressing objects:  68% (164/241)\u001b[K\r",
      "remote: Compressing objects:  69% (167/241)\u001b[K\r",
      "remote: Compressing objects:  70% (169/241)\u001b[K\r",
      "remote: Compressing objects:  71% (172/241)\u001b[K\r",
      "remote: Compressing objects:  72% (174/241)\u001b[K\r",
      "remote: Compressing objects:  73% (176/241)\u001b[K\r",
      "remote: Compressing objects:  74% (179/241)\u001b[K\r",
      "remote: Compressing objects:  75% (181/241)\u001b[K\r",
      "remote: Compressing objects:  76% (184/241)\u001b[K\r",
      "remote: Compressing objects:  77% (186/241)\u001b[K\r",
      "remote: Compressing objects:  78% (188/241)\u001b[K\r",
      "remote: Compressing objects:  79% (191/241)\u001b[K\r",
      "remote: Compressing objects:  80% (193/241)\u001b[K\r",
      "remote: Compressing objects:  81% (196/241)\u001b[K\r",
      "remote: Compressing objects:  82% (198/241)\u001b[K\r",
      "remote: Compressing objects:  83% (201/241)\u001b[K\r",
      "remote: Compressing objects:  84% (203/241)\u001b[K\r",
      "remote: Compressing objects:  85% (205/241)\u001b[K\r",
      "remote: Compressing objects:  86% (208/241)\u001b[K\r",
      "remote: Compressing objects:  87% (210/241)\u001b[K\r",
      "remote: Compressing objects:  88% (213/241)\u001b[K\r",
      "remote: Compressing objects:  89% (215/241)\u001b[K\r",
      "remote: Compressing objects:  90% (217/241)\u001b[K\r",
      "remote: Compressing objects:  91% (220/241)\u001b[K\r",
      "remote: Compressing objects:  92% (222/241)\u001b[K\r",
      "remote: Compressing objects:  93% (225/241)\u001b[K\r",
      "remote: Compressing objects:  94% (227/241)\u001b[K\r",
      "remote: Compressing objects:  95% (229/241)\u001b[K\r",
      "remote: Compressing objects:  96% (232/241)\u001b[K\r",
      "remote: Compressing objects:  97% (234/241)\u001b[K\r",
      "remote: Compressing objects:  98% (237/241)\u001b[K\r",
      "remote: Compressing objects:  99% (239/241)\u001b[K\r",
      "remote: Compressing objects: 100% (241/241)\u001b[K\r",
      "remote: Compressing objects: 100% (241/241), done.\u001b[K\r\n",
      "Receiving objects:   0% (1/1704)\r"
     ]
    },
    {
     "name": "stdout",
     "output_type": "stream",
     "text": [
      "Receiving objects:   0% (16/1704), 39.34 MiB | 39.33 MiB/s\r"
     ]
    },
    {
     "name": "stdout",
     "output_type": "stream",
     "text": [
      "Receiving objects:   1% (18/1704), 39.34 MiB | 39.33 MiB/s\r",
      "Receiving objects:   2% (35/1704), 39.34 MiB | 39.33 MiB/s\r",
      "Receiving objects:   3% (52/1704), 39.34 MiB | 39.33 MiB/s\r",
      "Receiving objects:   4% (69/1704), 39.34 MiB | 39.33 MiB/s\r",
      "Receiving objects:   5% (86/1704), 39.34 MiB | 39.33 MiB/s\r",
      "Receiving objects:   6% (103/1704), 39.34 MiB | 39.33 MiB/s\r",
      "Receiving objects:   7% (120/1704), 39.34 MiB | 39.33 MiB/s\r",
      "Receiving objects:   8% (137/1704), 39.34 MiB | 39.33 MiB/s\r"
     ]
    },
    {
     "name": "stdout",
     "output_type": "stream",
     "text": [
      "Receiving objects:   9% (154/1704), 39.34 MiB | 39.33 MiB/s\r",
      "Receiving objects:  10% (171/1704), 39.34 MiB | 39.33 MiB/s\r",
      "Receiving objects:  11% (188/1704), 39.34 MiB | 39.33 MiB/s\r",
      "Receiving objects:  12% (205/1704), 39.34 MiB | 39.33 MiB/s\r",
      "Receiving objects:  13% (222/1704), 39.34 MiB | 39.33 MiB/s\r",
      "Receiving objects:  14% (239/1704), 39.34 MiB | 39.33 MiB/s\r",
      "Receiving objects:  15% (256/1704), 39.34 MiB | 39.33 MiB/s\r",
      "Receiving objects:  16% (273/1704), 39.34 MiB | 39.33 MiB/s\r",
      "Receiving objects:  17% (290/1704), 39.34 MiB | 39.33 MiB/s\r",
      "Receiving objects:  18% (307/1704), 39.34 MiB | 39.33 MiB/s\r",
      "Receiving objects:  19% (324/1704), 39.34 MiB | 39.33 MiB/s\r"
     ]
    },
    {
     "name": "stdout",
     "output_type": "stream",
     "text": [
      "Receiving objects:  20% (341/1704), 39.34 MiB | 39.33 MiB/s\r",
      "Receiving objects:  21% (358/1704), 39.34 MiB | 39.33 MiB/s\r"
     ]
    },
    {
     "name": "stdout",
     "output_type": "stream",
     "text": [
      "Receiving objects:  22% (375/1704), 62.61 MiB | 41.74 MiB/s\r"
     ]
    },
    {
     "name": "stdout",
     "output_type": "stream",
     "text": [
      "Receiving objects:  23% (392/1704), 62.61 MiB | 41.74 MiB/s\r",
      "Receiving objects:  24% (409/1704), 62.61 MiB | 41.74 MiB/s\r",
      "Receiving objects:  25% (426/1704), 62.61 MiB | 41.74 MiB/s\r",
      "Receiving objects:  26% (444/1704), 62.61 MiB | 41.74 MiB/s\r",
      "Receiving objects:  27% (461/1704), 62.61 MiB | 41.74 MiB/s\r",
      "Receiving objects:  28% (478/1704), 62.61 MiB | 41.74 MiB/s\r",
      "Receiving objects:  29% (495/1704), 62.61 MiB | 41.74 MiB/s\r",
      "Receiving objects:  30% (512/1704), 62.61 MiB | 41.74 MiB/s\r",
      "Receiving objects:  31% (529/1704), 62.61 MiB | 41.74 MiB/s\r",
      "Receiving objects:  32% (546/1704), 62.61 MiB | 41.74 MiB/s\r"
     ]
    },
    {
     "name": "stdout",
     "output_type": "stream",
     "text": [
      "Receiving objects:  32% (554/1704), 88.28 MiB | 44.14 MiB/s\r"
     ]
    },
    {
     "name": "stdout",
     "output_type": "stream",
     "text": [
      "Receiving objects:  33% (563/1704), 114.00 MiB | 45.60 MiB/s\r",
      "Receiving objects:  34% (580/1704), 114.00 MiB | 45.60 MiB/s\r",
      "Receiving objects:  35% (597/1704), 114.00 MiB | 45.60 MiB/s\r",
      "Receiving objects:  36% (614/1704), 114.00 MiB | 45.60 MiB/s\r"
     ]
    },
    {
     "name": "stdout",
     "output_type": "stream",
     "text": [
      "Receiving objects:  36% (620/1704), 140.89 MiB | 46.96 MiB/s\r"
     ]
    },
    {
     "name": "stdout",
     "output_type": "stream",
     "text": [
      "Receiving objects:  36% (621/1704), 194.91 MiB | 48.74 MiB/s\r"
     ]
    },
    {
     "name": "stdout",
     "output_type": "stream",
     "text": [
      "Receiving objects:  37% (631/1704), 194.91 MiB | 48.74 MiB/s\r",
      "Receiving objects:  38% (648/1704), 222.42 MiB | 49.44 MiB/s\r",
      "Receiving objects:  39% (665/1704), 222.42 MiB | 49.44 MiB/s\r",
      "Receiving objects:  40% (682/1704), 222.42 MiB | 49.44 MiB/s\r",
      "Receiving objects:  41% (699/1704), 222.42 MiB | 49.44 MiB/s\r",
      "Receiving objects:  42% (716/1704), 222.42 MiB | 49.44 MiB/s\r",
      "Receiving objects:  43% (733/1704), 222.42 MiB | 49.44 MiB/s\r"
     ]
    },
    {
     "name": "stdout",
     "output_type": "stream",
     "text": [
      "Receiving objects:  44% (750/1704), 222.42 MiB | 49.44 MiB/s\r",
      "Receiving objects:  45% (767/1704), 222.42 MiB | 49.44 MiB/s\r",
      "Receiving objects:  46% (784/1704), 222.42 MiB | 49.44 MiB/s\r",
      "Receiving objects:  47% (801/1704), 222.42 MiB | 49.44 MiB/s\r",
      "Receiving objects:  48% (818/1704), 222.42 MiB | 49.44 MiB/s\r",
      "Receiving objects:  49% (835/1704), 222.42 MiB | 49.44 MiB/s\r"
     ]
    },
    {
     "name": "stdout",
     "output_type": "stream",
     "text": [
      "Receiving objects:  49% (849/1704), 248.95 MiB | 51.08 MiB/s\r"
     ]
    },
    {
     "name": "stdout",
     "output_type": "stream",
     "text": [
      "Receiving objects:  50% (852/1704), 248.95 MiB | 51.08 MiB/s\r",
      "Receiving objects:  51% (870/1704), 248.95 MiB | 51.08 MiB/s\r",
      "Receiving objects:  52% (887/1704), 248.95 MiB | 51.08 MiB/s\r",
      "Receiving objects:  53% (904/1704), 269.52 MiB | 51.16 MiB/s\r"
     ]
    },
    {
     "name": "stdout",
     "output_type": "stream",
     "text": [
      "Receiving objects:  53% (909/1704), 289.28 MiB | 50.38 MiB/s\r"
     ]
    },
    {
     "name": "stdout",
     "output_type": "stream",
     "text": [
      "Receiving objects:  53% (911/1704), 330.07 MiB | 48.03 MiB/s\r"
     ]
    },
    {
     "name": "stdout",
     "output_type": "stream",
     "text": [
      "Receiving objects:  54% (921/1704), 330.07 MiB | 48.03 MiB/s\r"
     ]
    },
    {
     "name": "stdout",
     "output_type": "stream",
     "text": [
      "Receiving objects:  55% (938/1704), 352.59 MiB | 47.06 MiB/s\r",
      "Receiving objects:  56% (955/1704), 352.59 MiB | 47.06 MiB/s\r",
      "Receiving objects:  57% (972/1704), 352.59 MiB | 47.06 MiB/s\r",
      "Receiving objects:  58% (989/1704), 352.59 MiB | 47.06 MiB/s\r",
      "Receiving objects:  59% (1006/1704), 352.59 MiB | 47.06 MiB/s\r",
      "Receiving objects:  60% (1023/1704), 352.59 MiB | 47.06 MiB/s\r",
      "Receiving objects:  61% (1040/1704), 352.59 MiB | 47.06 MiB/s\r",
      "Receiving objects:  62% (1057/1704), 352.59 MiB | 47.06 MiB/s\r",
      "Receiving objects:  63% (1074/1704), 352.59 MiB | 47.06 MiB/s\r",
      "Receiving objects:  64% (1091/1704), 352.59 MiB | 47.06 MiB/s\r",
      "Receiving objects:  65% (1108/1704), 352.59 MiB | 47.06 MiB/s\r"
     ]
    },
    {
     "name": "stdout",
     "output_type": "stream",
     "text": [
      "Receiving objects:  66% (1125/1704), 352.59 MiB | 47.06 MiB/s\r",
      "Receiving objects:  67% (1142/1704), 352.59 MiB | 47.06 MiB/s\r",
      "Receiving objects:  68% (1159/1704), 352.59 MiB | 47.06 MiB/s\r",
      "Receiving objects:  69% (1176/1704), 352.59 MiB | 47.06 MiB/s\r"
     ]
    },
    {
     "name": "stdout",
     "output_type": "stream",
     "text": [
      "Receiving objects:  69% (1183/1704), 379.45 MiB | 46.96 MiB/s\r"
     ]
    },
    {
     "name": "stdout",
     "output_type": "stream",
     "text": [
      "Receiving objects:  70% (1193/1704), 379.45 MiB | 46.96 MiB/s\r"
     ]
    },
    {
     "name": "stdout",
     "output_type": "stream",
     "text": [
      "Receiving objects:  71% (1210/1704), 406.12 MiB | 46.94 MiB/s\r",
      "Receiving objects:  72% (1227/1704), 406.12 MiB | 46.94 MiB/s\r",
      "Receiving objects:  73% (1244/1704), 406.12 MiB | 46.94 MiB/s\r",
      "Receiving objects:  74% (1261/1704), 406.12 MiB | 46.94 MiB/s\r",
      "Receiving objects:  75% (1278/1704), 406.12 MiB | 46.94 MiB/s\r",
      "Receiving objects:  76% (1296/1704), 406.12 MiB | 46.94 MiB/s\r",
      "Receiving objects:  77% (1313/1704), 406.12 MiB | 46.94 MiB/s\r",
      "Receiving objects:  78% (1330/1704), 406.12 MiB | 46.94 MiB/s\r",
      "Receiving objects:  79% (1347/1704), 406.12 MiB | 46.94 MiB/s\r",
      "Receiving objects:  80% (1364/1704), 406.12 MiB | 46.94 MiB/s\r"
     ]
    },
    {
     "name": "stdout",
     "output_type": "stream",
     "text": [
      "Receiving objects:  81% (1381/1704), 406.12 MiB | 46.94 MiB/s\r",
      "Receiving objects:  82% (1398/1704), 406.12 MiB | 46.94 MiB/s\r",
      "Receiving objects:  83% (1415/1704), 406.12 MiB | 46.94 MiB/s\r",
      "Receiving objects:  84% (1432/1704), 406.12 MiB | 46.94 MiB/s\r"
     ]
    },
    {
     "name": "stdout",
     "output_type": "stream",
     "text": [
      "Receiving objects:  84% (1438/1704), 429.04 MiB | 45.91 MiB/s\r"
     ]
    },
    {
     "name": "stdout",
     "output_type": "stream",
     "text": [
      "Receiving objects:  84% (1440/1704), 469.03 MiB | 44.34 MiB/s\r"
     ]
    },
    {
     "name": "stdout",
     "output_type": "stream",
     "text": [
      "Receiving objects:  85% (1449/1704), 489.21 MiB | 44.43 MiB/s\r",
      "Receiving objects:  86% (1466/1704), 489.21 MiB | 44.43 MiB/s\r",
      "Receiving objects:  87% (1483/1704), 489.21 MiB | 44.43 MiB/s\r",
      "Receiving objects:  88% (1500/1704), 489.21 MiB | 44.43 MiB/s\r"
     ]
    },
    {
     "name": "stdout",
     "output_type": "stream",
     "text": [
      "Receiving objects:  89% (1517/1704), 489.21 MiB | 44.43 MiB/s\r",
      "Receiving objects:  90% (1534/1704), 489.21 MiB | 44.43 MiB/s\r",
      "Receiving objects:  91% (1551/1704), 489.21 MiB | 44.43 MiB/s\r",
      "Receiving objects:  92% (1568/1704), 489.21 MiB | 44.43 MiB/s\r"
     ]
    },
    {
     "name": "stdout",
     "output_type": "stream",
     "text": [
      "Receiving objects:  92% (1568/1704), 509.82 MiB | 44.46 MiB/s\r"
     ]
    },
    {
     "name": "stdout",
     "output_type": "stream",
     "text": [
      "Receiving objects:  93% (1585/1704), 509.82 MiB | 44.46 MiB/s\r",
      "Receiving objects:  94% (1602/1704), 509.82 MiB | 44.46 MiB/s\r",
      "Receiving objects:  95% (1619/1704), 509.82 MiB | 44.46 MiB/s\r",
      "Receiving objects:  96% (1636/1704), 509.82 MiB | 44.46 MiB/s\r"
     ]
    },
    {
     "name": "stdout",
     "output_type": "stream",
     "text": [
      "Receiving objects:  97% (1653/1704), 509.82 MiB | 44.46 MiB/s\r",
      "Receiving objects:  98% (1670/1704), 509.82 MiB | 44.46 MiB/s\r",
      "remote: Total 1704 (delta 95), reused 301 (delta 79), pack-reused 1384 (from 1)\u001b[K\r\n",
      "Receiving objects:  99% (1687/1704), 509.82 MiB | 44.46 MiB/s\r",
      "Receiving objects: 100% (1704/1704), 509.82 MiB | 44.46 MiB/s\r",
      "Receiving objects: 100% (1704/1704), 518.25 MiB | 46.28 MiB/s, done.\r\n",
      "Resolving deltas:   0% (0/758)\r",
      "Resolving deltas:   1% (8/758)\r",
      "Resolving deltas:   2% (16/758)\r",
      "Resolving deltas:   3% (26/758)\r",
      "Resolving deltas:   4% (31/758)\r",
      "Resolving deltas:   5% (40/758)\r",
      "Resolving deltas:   6% (46/758)\r",
      "Resolving deltas:   7% (54/758)\r",
      "Resolving deltas:   8% (61/758)\r",
      "Resolving deltas:   9% (70/758)\r",
      "Resolving deltas:  10% (76/758)\r",
      "Resolving deltas:  11% (86/758)\r",
      "Resolving deltas:  12% (91/758)\r",
      "Resolving deltas:  13% (99/758)\r",
      "Resolving deltas:  14% (107/758)\r",
      "Resolving deltas:  15% (114/758)\r",
      "Resolving deltas:  16% (122/758)\r",
      "Resolving deltas:  17% (129/758)\r",
      "Resolving deltas:  18% (137/758)\r",
      "Resolving deltas:  19% (145/758)\r",
      "Resolving deltas:  20% (152/758)\r",
      "Resolving deltas:  21% (161/758)\r",
      "Resolving deltas:  22% (167/758)\r",
      "Resolving deltas:  23% (175/758)\r",
      "Resolving deltas:  24% (182/758)\r",
      "Resolving deltas:  25% (190/758)\r",
      "Resolving deltas:  26% (198/758)\r",
      "Resolving deltas:  27% (207/758)\r",
      "Resolving deltas:  28% (213/758)\r",
      "Resolving deltas:  29% (220/758)\r",
      "Resolving deltas:  30% (231/758)\r",
      "Resolving deltas:  31% (235/758)\r",
      "Resolving deltas:  32% (243/758)\r",
      "Resolving deltas:  33% (251/758)\r",
      "Resolving deltas:  34% (258/758)\r",
      "Resolving deltas:  35% (267/758)\r",
      "Resolving deltas:  36% (273/758)\r",
      "Resolving deltas:  37% (281/758)\r",
      "Resolving deltas:  38% (290/758)\r",
      "Resolving deltas:  39% (296/758)\r",
      "Resolving deltas:  40% (304/758)\r",
      "Resolving deltas:  41% (311/758)\r",
      "Resolving deltas:  42% (319/758)\r",
      "Resolving deltas:  43% (326/758)\r",
      "Resolving deltas:  44% (334/758)\r",
      "Resolving deltas:  45% (343/758)\r",
      "Resolving deltas:  46% (349/758)\r",
      "Resolving deltas:  47% (358/758)\r",
      "Resolving deltas:  48% (365/758)\r",
      "Resolving deltas:  49% (373/758)\r",
      "Resolving deltas:  50% (379/758)\r",
      "Resolving deltas:  51% (387/758)\r",
      "Resolving deltas:  52% (395/758)\r",
      "Resolving deltas:  53% (402/758)\r",
      "Resolving deltas:  54% (410/758)\r",
      "Resolving deltas:  55% (418/758)\r",
      "Resolving deltas:  56% (425/758)\r",
      "Resolving deltas:  57% (438/758)\r",
      "Resolving deltas:  58% (440/758)\r",
      "Resolving deltas:  59% (448/758)\r",
      "Resolving deltas:  60% (455/758)\r",
      "Resolving deltas:  61% (465/758)\r",
      "Resolving deltas:  62% (470/758)\r",
      "Resolving deltas:  63% (478/758)\r",
      "Resolving deltas:  64% (486/758)\r",
      "Resolving deltas:  65% (493/758)\r",
      "Resolving deltas:  66% (502/758)\r",
      "Resolving deltas:  67% (508/758)\r",
      "Resolving deltas:  68% (517/758)\r",
      "Resolving deltas:  69% (524/758)\r",
      "Resolving deltas:  70% (531/758)\r",
      "Resolving deltas:  71% (539/758)\r",
      "Resolving deltas:  72% (549/758)\r",
      "Resolving deltas:  73% (554/758)\r",
      "Resolving deltas:  74% (561/758)\r",
      "Resolving deltas:  75% (569/758)\r",
      "Resolving deltas:  76% (577/758)\r",
      "Resolving deltas:  77% (584/758)\r",
      "Resolving deltas:  78% (592/758)\r",
      "Resolving deltas:  79% (600/758)\r",
      "Resolving deltas:  80% (608/758)\r",
      "Resolving deltas:  81% (614/758)\r",
      "Resolving deltas:  82% (622/758)\r",
      "Resolving deltas:  83% (630/758)\r",
      "Resolving deltas:  84% (639/758)\r",
      "Resolving deltas:  85% (645/758)\r",
      "Resolving deltas:  86% (653/758)\r",
      "Resolving deltas:  87% (660/758)\r",
      "Resolving deltas:  88% (670/758)\r",
      "Resolving deltas:  89% (676/758)\r",
      "Resolving deltas:  90% (683/758)\r",
      "Resolving deltas:  91% (690/758)\r",
      "Resolving deltas:  92% (698/758)\r",
      "Resolving deltas:  93% (705/758)\r",
      "Resolving deltas:  94% (713/758)\r",
      "Resolving deltas:  95% (721/758)\r",
      "Resolving deltas:  96% (728/758)\r",
      "Resolving deltas:  97% (736/758)\r",
      "Resolving deltas:  98% (743/758)\r",
      "Resolving deltas:  99% (752/758)\r",
      "Resolving deltas: 100% (758/758)\r",
      "Resolving deltas: 100% (758/758), done.\r\n"
     ]
    },
    {
     "name": "stdout",
     "output_type": "stream",
     "text": [
      "Updating files:  17% (29/165)\r"
     ]
    },
    {
     "name": "stdout",
     "output_type": "stream",
     "text": [
      "Updating files:  18% (30/165)\r"
     ]
    },
    {
     "name": "stdout",
     "output_type": "stream",
     "text": [
      "Updating files:  18% (31/165)\r"
     ]
    },
    {
     "name": "stdout",
     "output_type": "stream",
     "text": [
      "Updating files:  19% (32/165)\r"
     ]
    },
    {
     "name": "stdout",
     "output_type": "stream",
     "text": [
      "Updating files:  20% (33/165)\r"
     ]
    },
    {
     "name": "stdout",
     "output_type": "stream",
     "text": [
      "Updating files:  20% (34/165)\r"
     ]
    },
    {
     "name": "stdout",
     "output_type": "stream",
     "text": [
      "Updating files:  21% (35/165)\r",
      "Updating files:  22% (37/165)\r",
      "Updating files:  23% (38/165)\r",
      "Updating files:  24% (40/165)\r",
      "Updating files:  25% (42/165)\r",
      "Updating files:  26% (43/165)\r",
      "Updating files:  27% (45/165)\r",
      "Updating files:  28% (47/165)\r",
      "Updating files:  29% (48/165)\r",
      "Updating files:  30% (50/165)\r",
      "Updating files:  31% (52/165)\r",
      "Updating files:  32% (53/165)\r",
      "Updating files:  33% (55/165)\r",
      "Updating files:  34% (57/165)\r",
      "Updating files:  35% (58/165)\r",
      "Updating files:  36% (60/165)\r",
      "Updating files:  37% (62/165)\r",
      "Updating files:  38% (63/165)\r",
      "Updating files:  39% (65/165)\r",
      "Updating files:  40% (66/165)\r",
      "Updating files:  41% (68/165)\r",
      "Updating files:  42% (70/165)\r",
      "Updating files:  43% (71/165)\r",
      "Updating files:  44% (73/165)\r",
      "Updating files:  45% (75/165)\r",
      "Updating files:  46% (76/165)\r",
      "Updating files:  47% (78/165)\r",
      "Updating files:  48% (80/165)\r",
      "Updating files:  49% (81/165)\r",
      "Updating files:  50% (83/165)\r",
      "Updating files:  51% (85/165)\r",
      "Updating files:  52% (86/165)\r",
      "Updating files:  53% (88/165)\r",
      "Updating files:  54% (90/165)\r",
      "Updating files:  55% (91/165)\r",
      "Updating files:  56% (93/165)\r",
      "Updating files:  57% (95/165)\r",
      "Updating files:  58% (96/165)\r",
      "Updating files:  59% (98/165)\r",
      "Updating files:  60% (99/165)\r",
      "Updating files:  61% (101/165)\r",
      "Updating files:  62% (103/165)\r",
      "Updating files:  63% (104/165)\r",
      "Updating files:  64% (106/165)\r",
      "Updating files:  65% (108/165)\r",
      "Updating files:  66% (109/165)\r",
      "Updating files:  67% (111/165)\r",
      "Updating files:  68% (113/165)\r",
      "Updating files:  69% (114/165)\r",
      "Updating files:  70% (116/165)\r",
      "Updating files:  71% (118/165)\r",
      "Updating files:  72% (119/165)\r",
      "Updating files:  73% (121/165)\r",
      "Updating files:  74% (123/165)\r",
      "Updating files:  75% (124/165)\r",
      "Updating files:  76% (126/165)\r",
      "Updating files:  77% (128/165)\r",
      "Updating files:  78% (129/165)\r",
      "Updating files:  79% (131/165)\r",
      "Updating files:  80% (132/165)\r",
      "Updating files:  81% (134/165)\r",
      "Updating files:  82% (136/165)\r",
      "Updating files:  83% (137/165)\r",
      "Updating files:  84% (139/165)\r",
      "Updating files:  85% (141/165)\r",
      "Updating files:  86% (142/165)\r",
      "Updating files:  87% (144/165)\r",
      "Updating files:  88% (146/165)\r",
      "Updating files:  89% (147/165)\r",
      "Updating files:  90% (149/165)\r",
      "Updating files:  91% (151/165)\r",
      "Updating files:  92% (152/165)\r",
      "Updating files:  93% (154/165)\r",
      "Updating files:  94% (156/165)\r",
      "Updating files:  95% (157/165)\r",
      "Updating files:  96% (159/165)\r",
      "Updating files:  97% (161/165)\r",
      "Updating files:  98% (162/165)\r",
      "Updating files:  99% (164/165)\r",
      "Updating files: 100% (165/165)\r",
      "Updating files: 100% (165/165), done.\r\n"
     ]
    }
   ],
   "source": [
    "!pip install torchmetrics\n",
    "!git clone https://github.com/EkagraGupta/MasterArbeit.git"
   ]
  },
  {
   "cell_type": "code",
   "execution_count": 3,
   "id": "12e36e30",
   "metadata": {
    "execution": {
     "iopub.execute_input": "2024-08-22T16:36:06.265790Z",
     "iopub.status.busy": "2024-08-22T16:36:06.265488Z",
     "iopub.status.idle": "2024-08-22T16:37:03.795571Z",
     "shell.execute_reply": "2024-08-22T16:37:03.794693Z"
    },
    "papermill": {
     "duration": 57.540509,
     "end_time": "2024-08-22T16:37:03.797784",
     "exception": false,
     "start_time": "2024-08-22T16:36:06.257275",
     "status": "completed"
    },
    "tags": []
   },
   "outputs": [
    {
     "name": "stderr",
     "output_type": "stream",
     "text": [
      "/usr/local/lib/python3.10/site-packages/torch_xla/__init__.py:202: UserWarning: `tensorflow` can conflict with `torch-xla`. Prefer `tensorflow-cpu` when using PyTorch/XLA. To silence this warning, `pip uninstall -y tensorflow && pip install tensorflow-cpu`. If you are in a notebook environment such as Colab or Kaggle, restart your notebook runtime afterwards.\n",
      "  warnings.warn(\n"
     ]
    },
    {
     "name": "stderr",
     "output_type": "stream",
     "text": [
      "WARNING: Logging before InitGoogle() is written to STDERR\n",
      "E0000 00:00:1724344597.074270      77 common_lib.cc:818] Could not set metric server port: INVALID_ARGUMENT: Could not find SliceBuilder port 8471 in any of the 0 ports provided in `tpu_process_addresses`=\"local\"\n",
      "=== Source Location Trace: === \n",
      "learning/45eac/tfrc/runtime/common_lib.cc:483\n"
     ]
    },
    {
     "name": "stdout",
     "output_type": "stream",
     "text": [
      "Downloading https://www.cs.toronto.edu/~kriz/cifar-10-python.tar.gz to ./data/cifar-10-python.tar.gz\n"
     ]
    },
    {
     "name": "stderr",
     "output_type": "stream",
     "text": [
      "\r",
      "  0%|          | 0/170498071 [00:00<?, ?it/s]"
     ]
    },
    {
     "name": "stderr",
     "output_type": "stream",
     "text": [
      "\r",
      "  0%|          | 229376/170498071 [00:00<01:33, 1821572.60it/s]"
     ]
    },
    {
     "name": "stderr",
     "output_type": "stream",
     "text": [
      "\r",
      "  1%|          | 1966080/170498071 [00:00<00:16, 10026017.69it/s]"
     ]
    },
    {
     "name": "stderr",
     "output_type": "stream",
     "text": [
      "\r",
      "  3%|▎         | 5799936/170498071 [00:00<00:07, 22189120.77it/s]"
     ]
    },
    {
     "name": "stderr",
     "output_type": "stream",
     "text": [
      "\r",
      "  5%|▌         | 8912896/170498071 [00:00<00:06, 25519069.18it/s]"
     ]
    },
    {
     "name": "stderr",
     "output_type": "stream",
     "text": [
      "\r",
      "  7%|▋         | 12091392/170498071 [00:00<00:05, 27645141.59it/s]"
     ]
    },
    {
     "name": "stderr",
     "output_type": "stream",
     "text": [
      "\r",
      "  9%|▉         | 15237120/170498071 [00:00<00:05, 28904081.43it/s]"
     ]
    },
    {
     "name": "stderr",
     "output_type": "stream",
     "text": [
      "\r",
      " 11%|█         | 18448384/170498071 [00:00<00:05, 29766328.52it/s]"
     ]
    },
    {
     "name": "stderr",
     "output_type": "stream",
     "text": [
      "\r",
      " 13%|█▎        | 21659648/170498071 [00:00<00:04, 30475385.41it/s]"
     ]
    },
    {
     "name": "stderr",
     "output_type": "stream",
     "text": [
      "\r",
      " 15%|█▍        | 24838144/170498071 [00:00<00:04, 30769310.40it/s]"
     ]
    },
    {
     "name": "stderr",
     "output_type": "stream",
     "text": [
      "\r",
      " 16%|█▋        | 28016640/170498071 [00:01<00:04, 30994444.76it/s]"
     ]
    },
    {
     "name": "stderr",
     "output_type": "stream",
     "text": [
      "\r",
      " 18%|█▊        | 31129600/170498071 [00:01<00:04, 30936654.57it/s]"
     ]
    },
    {
     "name": "stderr",
     "output_type": "stream",
     "text": [
      "\r",
      " 20%|██        | 34308096/170498071 [00:01<00:04, 31188753.19it/s]"
     ]
    },
    {
     "name": "stderr",
     "output_type": "stream",
     "text": [
      "\r",
      " 22%|██▏       | 37453824/170498071 [00:01<00:04, 31257909.63it/s]"
     ]
    },
    {
     "name": "stderr",
     "output_type": "stream",
     "text": [
      "\r",
      " 24%|██▍       | 40632320/170498071 [00:01<00:04, 31373945.10it/s]"
     ]
    },
    {
     "name": "stderr",
     "output_type": "stream",
     "text": [
      "\r",
      " 26%|██▌       | 43810816/170498071 [00:01<00:04, 31417387.90it/s]"
     ]
    },
    {
     "name": "stderr",
     "output_type": "stream",
     "text": [
      "\r",
      " 28%|██▊       | 46956544/170498071 [00:01<00:03, 31199522.78it/s]"
     ]
    },
    {
     "name": "stderr",
     "output_type": "stream",
     "text": [
      "\r",
      " 29%|██▉       | 50167808/170498071 [00:01<00:03, 31376490.42it/s]"
     ]
    },
    {
     "name": "stderr",
     "output_type": "stream",
     "text": [
      "\r",
      " 31%|███▏      | 53411840/170498071 [00:01<00:03, 31570675.35it/s]"
     ]
    },
    {
     "name": "stderr",
     "output_type": "stream",
     "text": [
      "\r",
      " 33%|███▎      | 56655872/170498071 [00:01<00:03, 31821855.61it/s]"
     ]
    },
    {
     "name": "stderr",
     "output_type": "stream",
     "text": [
      "\r",
      " 35%|███▌      | 59867136/170498071 [00:02<00:03, 31759497.26it/s]"
     ]
    },
    {
     "name": "stderr",
     "output_type": "stream",
     "text": [
      "\r",
      " 37%|███▋      | 63045632/170498071 [00:02<00:03, 31476032.84it/s]"
     ]
    },
    {
     "name": "stderr",
     "output_type": "stream",
     "text": [
      "\r",
      " 39%|███▉      | 66289664/170498071 [00:02<00:03, 31699236.32it/s]"
     ]
    },
    {
     "name": "stderr",
     "output_type": "stream",
     "text": [
      "\r",
      " 41%|████      | 69566464/170498071 [00:02<00:03, 31995269.72it/s]"
     ]
    },
    {
     "name": "stderr",
     "output_type": "stream",
     "text": [
      "\r",
      " 44%|████▎     | 74186752/170498071 [00:02<00:02, 36217168.18it/s]"
     ]
    },
    {
     "name": "stderr",
     "output_type": "stream",
     "text": [
      "\r",
      " 47%|████▋     | 80183296/170498071 [00:02<00:02, 43274718.85it/s]"
     ]
    },
    {
     "name": "stderr",
     "output_type": "stream",
     "text": [
      "\r",
      " 51%|█████     | 86900736/170498071 [00:02<00:01, 50368765.24it/s]"
     ]
    },
    {
     "name": "stderr",
     "output_type": "stream",
     "text": [
      "\r",
      " 55%|█████▌    | 94568448/170498071 [00:02<00:01, 58093375.48it/s]"
     ]
    },
    {
     "name": "stderr",
     "output_type": "stream",
     "text": [
      "\r",
      " 60%|██████    | 102367232/170498071 [00:02<00:01, 63952944.75it/s]"
     ]
    },
    {
     "name": "stderr",
     "output_type": "stream",
     "text": [
      "\r",
      " 65%|██████▍   | 110526464/170498071 [00:02<00:00, 69193266.08it/s]"
     ]
    },
    {
     "name": "stderr",
     "output_type": "stream",
     "text": [
      "\r",
      " 69%|██████▉   | 117866496/170498071 [00:03<00:00, 70418734.63it/s]"
     ]
    },
    {
     "name": "stderr",
     "output_type": "stream",
     "text": [
      "\r",
      " 74%|███████▍  | 125861888/170498071 [00:03<00:00, 73261665.95it/s]"
     ]
    },
    {
     "name": "stderr",
     "output_type": "stream",
     "text": [
      "\r",
      " 78%|███████▊  | 133627904/170498071 [00:03<00:00, 74515551.56it/s]"
     ]
    },
    {
     "name": "stderr",
     "output_type": "stream",
     "text": [
      "\r",
      " 83%|████████▎ | 141295616/170498071 [00:03<00:00, 75116721.35it/s]"
     ]
    },
    {
     "name": "stderr",
     "output_type": "stream",
     "text": [
      "\r",
      " 88%|████████▊ | 150208512/170498071 [00:03<00:00, 79303131.83it/s]"
     ]
    },
    {
     "name": "stderr",
     "output_type": "stream",
     "text": [
      "\r",
      " 93%|█████████▎| 158892032/170498071 [00:03<00:00, 81533226.30it/s]"
     ]
    },
    {
     "name": "stderr",
     "output_type": "stream",
     "text": [
      "\r",
      " 98%|█████████▊| 167411712/170498071 [00:03<00:00, 82590888.89it/s]"
     ]
    },
    {
     "name": "stderr",
     "output_type": "stream",
     "text": [
      "\r",
      "100%|██████████| 170498071/170498071 [00:03<00:00, 46295397.19it/s]"
     ]
    },
    {
     "name": "stderr",
     "output_type": "stream",
     "text": [
      "\n"
     ]
    },
    {
     "name": "stdout",
     "output_type": "stream",
     "text": [
      "Extracting ./data/cifar-10-python.tar.gz to ./data\n"
     ]
    },
    {
     "name": "stdout",
     "output_type": "stream",
     "text": [
      "Files already downloaded and verified\n"
     ]
    },
    {
     "name": "stderr",
     "output_type": "stream",
     "text": [
      "/usr/local/lib/python3.10/site-packages/IPython/core/magics/osm.py:417: UserWarning: This is now an optional IPython functionality, setting dhist requires you to install the `pickleshare` library.\n",
      "  self.shell.db['dhist'] = compress_dhist(dhist)[-100:]\n"
     ]
    },
    {
     "name": "stdout",
     "output_type": "stream",
     "text": [
      "/kaggle/working/MasterArbeit\n"
     ]
    },
    {
     "name": "stderr",
     "output_type": "stream",
     "text": [
      "/usr/local/lib/python3.10/site-packages/tqdm/auto.py:21: TqdmWarning: IProgress not found. Please update jupyter and ipywidgets. See https://ipywidgets.readthedocs.io/en/stable/user_install.html\n",
      "  from .autonotebook import tqdm as notebook_tqdm\n"
     ]
    },
    {
     "name": "stdout",
     "output_type": "stream",
     "text": [
      "Downloading https://www.cs.toronto.edu/~kriz/cifar-10-python.tar.gz to ./data/train/cifar-10-python.tar.gz\n"
     ]
    },
    {
     "name": "stderr",
     "output_type": "stream",
     "text": [
      "\r",
      "  0%|          | 0/170498071 [00:00<?, ?it/s]"
     ]
    },
    {
     "name": "stderr",
     "output_type": "stream",
     "text": [
      "\r",
      "  0%|          | 229376/170498071 [00:00<01:32, 1842747.51it/s]"
     ]
    },
    {
     "name": "stderr",
     "output_type": "stream",
     "text": [
      "\r",
      "  1%|▏         | 2392064/170498071 [00:00<00:13, 12404866.15it/s]"
     ]
    },
    {
     "name": "stderr",
     "output_type": "stream",
     "text": [
      "\r",
      "  6%|▌         | 10256384/170498071 [00:00<00:03, 41042583.50it/s]"
     ]
    },
    {
     "name": "stderr",
     "output_type": "stream",
     "text": [
      "\r",
      " 11%|█▏        | 19234816/170498071 [00:00<00:02, 59196400.94it/s]"
     ]
    },
    {
     "name": "stderr",
     "output_type": "stream",
     "text": [
      "\r",
      " 17%|█▋        | 28704768/170498071 [00:00<00:01, 71611846.37it/s]"
     ]
    },
    {
     "name": "stderr",
     "output_type": "stream",
     "text": [
      "\r",
      " 22%|██▏       | 37683200/170498071 [00:00<00:01, 77658714.62it/s]"
     ]
    },
    {
     "name": "stderr",
     "output_type": "stream",
     "text": [
      "\r",
      " 27%|██▋       | 46497792/170498071 [00:00<00:01, 81004544.06it/s]"
     ]
    },
    {
     "name": "stderr",
     "output_type": "stream",
     "text": [
      "\r",
      " 32%|███▏      | 55279616/170498071 [00:00<00:01, 83122636.53it/s]"
     ]
    },
    {
     "name": "stderr",
     "output_type": "stream",
     "text": [
      "\r",
      " 38%|███▊      | 64225280/170498071 [00:00<00:01, 84634482.73it/s]"
     ]
    },
    {
     "name": "stderr",
     "output_type": "stream",
     "text": [
      "\r",
      " 43%|████▎     | 73695232/170498071 [00:01<00:01, 87656674.65it/s]"
     ]
    },
    {
     "name": "stderr",
     "output_type": "stream",
     "text": [
      "\r",
      " 48%|████▊     | 82673664/170498071 [00:01<00:00, 88247847.65it/s]"
     ]
    },
    {
     "name": "stderr",
     "output_type": "stream",
     "text": [
      "\r",
      " 54%|█████▎    | 91521024/170498071 [00:01<00:00, 88148677.76it/s]"
     ]
    },
    {
     "name": "stderr",
     "output_type": "stream",
     "text": [
      "\r",
      " 59%|█████▉    | 100368384/170498071 [00:01<00:00, 88191013.28it/s]"
     ]
    },
    {
     "name": "stderr",
     "output_type": "stream",
     "text": [
      "\r",
      " 64%|██████▍   | 109215744/170498071 [00:01<00:00, 88040519.74it/s]"
     ]
    },
    {
     "name": "stderr",
     "output_type": "stream",
     "text": [
      "\r",
      " 70%|██████▉   | 118652928/170498071 [00:01<00:00, 89923727.05it/s]"
     ]
    },
    {
     "name": "stderr",
     "output_type": "stream",
     "text": [
      "\r",
      " 75%|███████▍  | 127696896/170498071 [00:01<00:00, 90064059.31it/s]"
     ]
    },
    {
     "name": "stderr",
     "output_type": "stream",
     "text": [
      "\r",
      " 80%|████████  | 136708096/170498071 [00:01<00:00, 89508759.76it/s]"
     ]
    },
    {
     "name": "stderr",
     "output_type": "stream",
     "text": [
      "\r",
      " 85%|████████▌ | 145686528/170498071 [00:01<00:00, 89156654.75it/s]"
     ]
    },
    {
     "name": "stderr",
     "output_type": "stream",
     "text": [
      "\r",
      " 91%|█████████ | 154632192/170498071 [00:01<00:00, 88851230.24it/s]"
     ]
    },
    {
     "name": "stderr",
     "output_type": "stream",
     "text": [
      "\r",
      " 96%|█████████▌| 163545088/170498071 [00:02<00:00, 88572642.28it/s]"
     ]
    },
    {
     "name": "stderr",
     "output_type": "stream",
     "text": [
      "\r",
      "100%|██████████| 170498071/170498071 [00:02<00:00, 80558268.17it/s]"
     ]
    },
    {
     "name": "stderr",
     "output_type": "stream",
     "text": [
      "\n"
     ]
    },
    {
     "name": "stdout",
     "output_type": "stream",
     "text": [
      "Extracting ./data/train/cifar-10-python.tar.gz to ./data/train\n"
     ]
    },
    {
     "name": "stdout",
     "output_type": "stream",
     "text": [
      "Downloading https://www.cs.toronto.edu/~kriz/cifar-10-python.tar.gz to ./data/test/cifar-10-python.tar.gz\n"
     ]
    },
    {
     "name": "stderr",
     "output_type": "stream",
     "text": [
      "\r",
      "  0%|          | 0/170498071 [00:00<?, ?it/s]"
     ]
    },
    {
     "name": "stderr",
     "output_type": "stream",
     "text": [
      "\r",
      "  0%|          | 131072/170498071 [00:00<02:16, 1250701.42it/s]"
     ]
    },
    {
     "name": "stderr",
     "output_type": "stream",
     "text": [
      "\r",
      "  1%|          | 983040/170498071 [00:00<00:31, 5433192.91it/s]"
     ]
    },
    {
     "name": "stderr",
     "output_type": "stream",
     "text": [
      "\r",
      "  1%|▏         | 2424832/170498071 [00:00<00:17, 9368036.46it/s]"
     ]
    },
    {
     "name": "stderr",
     "output_type": "stream",
     "text": [
      "\r",
      "  2%|▏         | 4096000/170498071 [00:00<00:13, 12191979.33it/s]"
     ]
    },
    {
     "name": "stderr",
     "output_type": "stream",
     "text": [
      "\r",
      "  4%|▎         | 5996544/170498071 [00:00<00:11, 14610986.73it/s]"
     ]
    },
    {
     "name": "stderr",
     "output_type": "stream",
     "text": [
      "\r",
      "  5%|▍         | 8192000/170498071 [00:00<00:09, 17019451.98it/s]"
     ]
    },
    {
     "name": "stderr",
     "output_type": "stream",
     "text": [
      "\r",
      "  6%|▋         | 10747904/170498071 [00:00<00:08, 19630749.42it/s]"
     ]
    },
    {
     "name": "stderr",
     "output_type": "stream",
     "text": [
      "\r",
      "  8%|▊         | 13598720/170498071 [00:00<00:06, 22416267.33it/s]"
     ]
    },
    {
     "name": "stderr",
     "output_type": "stream",
     "text": [
      "\r",
      " 10%|▉         | 16809984/170498071 [00:00<00:06, 25418633.89it/s]"
     ]
    },
    {
     "name": "stderr",
     "output_type": "stream",
     "text": [
      "\r",
      " 12%|█▏        | 19922944/170498071 [00:01<00:05, 27018378.65it/s]"
     ]
    },
    {
     "name": "stderr",
     "output_type": "stream",
     "text": [
      "\r",
      " 13%|█▎        | 22970368/170498071 [00:01<00:05, 28025656.90it/s]"
     ]
    },
    {
     "name": "stderr",
     "output_type": "stream",
     "text": [
      "\r",
      " 15%|█▌        | 26083328/170498071 [00:01<00:05, 28838846.61it/s]"
     ]
    },
    {
     "name": "stderr",
     "output_type": "stream",
     "text": [
      "\r",
      " 17%|█▋        | 29163520/170498071 [00:01<00:04, 29366627.77it/s]"
     ]
    },
    {
     "name": "stderr",
     "output_type": "stream",
     "text": [
      "\r",
      " 19%|█▉        | 32145408/170498071 [00:01<00:04, 29443957.89it/s]"
     ]
    },
    {
     "name": "stderr",
     "output_type": "stream",
     "text": [
      "\r",
      " 21%|██        | 35192832/170498071 [00:01<00:04, 29683913.48it/s]"
     ]
    },
    {
     "name": "stderr",
     "output_type": "stream",
     "text": [
      "\r",
      " 23%|██▎       | 38436864/170498071 [00:01<00:04, 30445038.30it/s]"
     ]
    },
    {
     "name": "stderr",
     "output_type": "stream",
     "text": [
      "\r",
      " 24%|██▍       | 41484288/170498071 [00:01<00:04, 30250023.32it/s]"
     ]
    },
    {
     "name": "stderr",
     "output_type": "stream",
     "text": [
      "\r",
      " 26%|██▌       | 44564480/170498071 [00:01<00:04, 30285917.56it/s]"
     ]
    },
    {
     "name": "stderr",
     "output_type": "stream",
     "text": [
      "\r",
      " 28%|██▊       | 48267264/170498071 [00:01<00:03, 32256680.08it/s]"
     ]
    },
    {
     "name": "stderr",
     "output_type": "stream",
     "text": [
      "\r",
      " 31%|███       | 52822016/170498071 [00:02<00:03, 36199760.64it/s]"
     ]
    },
    {
     "name": "stderr",
     "output_type": "stream",
     "text": [
      "\r",
      " 34%|███▍      | 58032128/170498071 [00:02<00:02, 40932667.23it/s]"
     ]
    },
    {
     "name": "stderr",
     "output_type": "stream",
     "text": [
      "\r",
      " 38%|███▊      | 64192512/170498071 [00:02<00:02, 47025659.45it/s]"
     ]
    },
    {
     "name": "stderr",
     "output_type": "stream",
     "text": [
      "\r",
      " 42%|████▏     | 71270400/170498071 [00:02<00:01, 54090966.21it/s]"
     ]
    },
    {
     "name": "stderr",
     "output_type": "stream",
     "text": [
      "\r",
      " 47%|████▋     | 79527936/170498071 [00:02<00:01, 62606723.60it/s]"
     ]
    },
    {
     "name": "stderr",
     "output_type": "stream",
     "text": [
      "\r",
      " 52%|█████▏    | 88440832/170498071 [00:02<00:01, 70076963.28it/s]"
     ]
    },
    {
     "name": "stderr",
     "output_type": "stream",
     "text": [
      "\r",
      " 57%|█████▋    | 97353728/170498071 [00:02<00:00, 75749654.39it/s]"
     ]
    },
    {
     "name": "stderr",
     "output_type": "stream",
     "text": [
      "\r",
      " 62%|██████▏   | 106233856/170498071 [00:02<00:00, 79141896.70it/s]"
     ]
    },
    {
     "name": "stderr",
     "output_type": "stream",
     "text": [
      "\r",
      " 68%|██████▊   | 115638272/170498071 [00:02<00:00, 83508864.24it/s]"
     ]
    },
    {
     "name": "stderr",
     "output_type": "stream",
     "text": [
      "\r",
      " 73%|███████▎  | 124354560/170498071 [00:02<00:00, 84562873.93it/s]"
     ]
    },
    {
     "name": "stderr",
     "output_type": "stream",
     "text": [
      "\r",
      " 78%|███████▊  | 132841472/170498071 [00:03<00:00, 81643566.11it/s]"
     ]
    },
    {
     "name": "stderr",
     "output_type": "stream",
     "text": [
      "\r",
      " 83%|████████▎ | 141033472/170498071 [00:03<00:00, 73231621.27it/s]"
     ]
    },
    {
     "name": "stderr",
     "output_type": "stream",
     "text": [
      "\r",
      " 87%|████████▋ | 148537344/170498071 [00:03<00:00, 68612974.09it/s]"
     ]
    },
    {
     "name": "stderr",
     "output_type": "stream",
     "text": [
      "\r",
      " 91%|█████████ | 155549696/170498071 [00:03<00:00, 65495484.00it/s]"
     ]
    },
    {
     "name": "stderr",
     "output_type": "stream",
     "text": [
      "\r",
      " 95%|█████████▌| 162234368/170498071 [00:03<00:00, 63453245.18it/s]"
     ]
    },
    {
     "name": "stderr",
     "output_type": "stream",
     "text": [
      "\r",
      " 99%|█████████▉| 168656896/170498071 [00:03<00:00, 61986083.78it/s]"
     ]
    },
    {
     "name": "stderr",
     "output_type": "stream",
     "text": [
      "\r",
      "100%|██████████| 170498071/170498071 [00:03<00:00, 46241103.16it/s]"
     ]
    },
    {
     "name": "stderr",
     "output_type": "stream",
     "text": [
      "\n"
     ]
    },
    {
     "name": "stdout",
     "output_type": "stream",
     "text": [
      "Extracting ./data/test/cifar-10-python.tar.gz to ./data/test\n"
     ]
    },
    {
     "name": "stdout",
     "output_type": "stream",
     "text": [
      "/root\n"
     ]
    },
    {
     "name": "stderr",
     "output_type": "stream",
     "text": [
      "/usr/local/lib/python3.10/site-packages/IPython/core/magics/osm.py:393: UserWarning: This is now an optional IPython functionality, using bookmarks requires you to install the `pickleshare` library.\n",
      "  bkms = self.shell.db.get('bookmarks', {})\n",
      "/usr/local/lib/python3.10/site-packages/IPython/core/magics/osm.py:428: UserWarning: This is now an optional IPython functionality, setting dhist requires you to install the `pickleshare` library.\n",
      "  self.shell.db['dhist'] = compress_dhist(dhist)[-100:]\n"
     ]
    }
   ],
   "source": [
    "# Import statements\n",
    "import torch\n",
    "import random\n",
    "import torchvision\n",
    "import torchvision.transforms as transforms\n",
    "from torch.optim.lr_scheduler import StepLR\n",
    "from torch.optim.lr_scheduler import CosineAnnealingLR\n",
    "from torchvision.transforms import TrivialAugmentWide\n",
    "from torch.utils.data import Dataset\n",
    "from torch.utils.data import ConcatDataset\n",
    "import os\n",
    "\n",
    "# Define the device\n",
    "tpu = True\n",
    "\n",
    "if tpu == True:\n",
    "    import torch_xla\n",
    "    import torch_xla.core.xla_model as xm\n",
    "    device = xm.xla_device()\n",
    "else:\n",
    "    device = torch.device('cuda:0' if torch.cuda.is_available() else 'cpu')  #intend here for else\n",
    "\n",
    "\n",
    "class CustomDataset(Dataset):\n",
    "    def __init__(self, np_images, original_dataset, resize):\n",
    "        # Load images\n",
    "        self.images = torch.from_numpy(np_images).permute(0, 3, 1, 2) / 255\n",
    "         #Normalize the images\n",
    "        #transform_test = transforms.Compose([\n",
    "            #transforms.Normalize((0.5, 0.5, 0.5), (0.5, 0.5, 0.5))\n",
    "        #])\n",
    "        #self.images = transform_test(self.images)\n",
    "        #if resize == True:\n",
    "            #self.images = transforms.Resize(224, antialias=True)(self.images)\n",
    "        \n",
    "        # Extract labels from the original PyTorch dataset\n",
    "        self.labels = [label for _, label in original_dataset]\n",
    "\n",
    "    def __len__(self):\n",
    "        return len(self.labels)\n",
    "\n",
    "    def __getitem__(self, index):\n",
    "        # Get image and label for the given index\n",
    "        image = self.images[index]\n",
    "        label = self.labels[index]\n",
    "\n",
    "        return image, label\n",
    "\n",
    "# Define the function to load corrupted datasets separately\n",
    "def load_data_c_separately(dataset, testset, resize, test_transforms, batch_size):\n",
    "    corruptions = ['gaussian_noise', 'shot_noise', 'impulse_noise', 'defocus_blur', 'glass_blur', 'motion_blur', 'zoom_blur', 'snow', 'frost', 'fog', 'brightness', 'contrast', 'elastic_transform', 'pixelate', 'jpeg_compression', 'speckle_noise', 'gaussian_blur', 'spatter', 'saturate']\n",
    "    np.asarray(corruptions)\n",
    "    c_datasets = {}\n",
    "    for corruption in corruptions:\n",
    "        if dataset == 'CIFAR10':\n",
    "            np_data_c = np.load(f'/kaggle/input/cifar-c/CIFAR-10-C/{corruption}.npy')\n",
    "            np_data_c = np.array(np.array_split(np_data_c, 5))\n",
    "            custom_dataset = CustomDataset(np_data_c[0], testset, resize)  # Load only one split for now\n",
    "            custom_dataloader = torch.utils.data.DataLoader(custom_dataset, batch_size=batch_size, shuffle=False)\n",
    "            c_datasets[corruption] = custom_dataloader\n",
    "        else:\n",
    "            print('No corrupted benchmark available other than CIFAR10-c.')\n",
    "\n",
    "    return c_datasets\n",
    "\n",
    "\n",
    "# Load corrupted datasets\n",
    "#corrupted_datasets = load_data_c(dataset='CIFAR10', testset=testset, resize=True, \n",
    "                                 #test_transforms=None, subset=False, subsetsize=None)\n",
    "\n",
    "# Transformations for training and test sets\n",
    "transform_train = transforms.Compose([\n",
    "    \n",
    "    transforms.RandomHorizontalFlip(),\n",
    "    transforms.RandomCrop(32, padding=4),  \n",
    "    TrivialAugmentWide(),\n",
    "    transforms.ToTensor(),\n",
    "])\n",
    "transform_test = transforms.Compose([\n",
    "    transforms.ToTensor(),\n",
    "])\n",
    "\n",
    "batch_size = 128\n",
    "\n",
    "# Use CIFAR-10 dataset for training\n",
    "baseline_trainset = torchvision.datasets.CIFAR10(root='./data', train=True,\n",
    "                                        download=True, transform=transform_train)\n",
    "baseline_trainloader = torch.utils.data.DataLoader(baseline_trainset, batch_size=batch_size,\n",
    "                                          shuffle=True, num_workers=2, pin_memory=True)\n",
    "\n",
    "# Use CIFAR-10 dataset for testing\n",
    "baseline_testset = torchvision.datasets.CIFAR10(root='./data', train=False,\n",
    "                                       download=True, transform=transform_test)\n",
    "baseline_testloader = torch.utils.data.DataLoader(baseline_testset, batch_size=batch_size,\n",
    "                                         shuffle=False, num_workers=2, pin_memory=True)\n",
    "\n",
    "%cd /kaggle/working/MasterArbeit\n",
    "from augment_dataset import create_transforms, load_data\n",
    "from compute_loss import soft_loss\n",
    "\n",
    "\"\"\"\n",
    " Create the transformations based on the provided flags:\n",
    " - If all flags (random_cropping, aggressive_augmentation, and custom) are False:\n",
    "   No augmentation other than default preprocessing is applied.\n",
    " - If random_cropping (rc) is True and the others (aa and custom) are False:\n",
    "   Only random cropping is applied.\n",
    " - If random_cropping (rc) and aggressive_augmentation (aa) are True, and custom is False:\n",
    "   Random cropping and conventional aggressive augmentation techniques (TA) are applied.\n",
    " - If all three flags (rc, aa, custom) are True:\n",
    "   Random cropping and soft augmentation techniques (TA) are applied.\n",
    " - If random_cropping (rc) is False, aggressive_augmentation (aa) is True, and custom is False:\n",
    "   Only conventional aggressive augmentation techniques (TA) are applied (no soft labels).\n",
    " - If random_cropping (rc) is False, aggressive_augmentation (aa) is True, and custom is True:\n",
    "   Aggressive augmentation (TA) is applied with soft labeling.\n",
    "\"\"\"\n",
    "\n",
    "transforms_preprocess, transforms_augmentation = create_transforms(random_cropping=False, aggressive_augmentation=True, custom=True)\n",
    "custom_trainset, custom_testset = load_data(transforms_preprocess=transforms_preprocess, transforms_augmentation=transforms_augmentation)\n",
    "custom_trainloader = torch.utils.data.DataLoader(custom_trainset, batch_size=batch_size, shuffle=True, num_workers=2, pin_memory=True)\n",
    "custom_testloader = torch.utils.data.DataLoader(custom_testset, batch_size=batch_size, shuffle=False, num_workers=2, pin_memory=True)\n",
    "%cd\n",
    "\n",
    "classes = ('plane', 'car', 'bird', 'cat',\n",
    "           'deer', 'dog', 'frog', 'horse', 'ship', 'truck')\n"
   ]
  },
  {
   "cell_type": "code",
   "execution_count": 4,
   "id": "23fe1bd1",
   "metadata": {
    "execution": {
     "iopub.execute_input": "2024-08-22T16:37:03.826313Z",
     "iopub.status.busy": "2024-08-22T16:37:03.825632Z",
     "iopub.status.idle": "2024-08-22T16:37:03.830076Z",
     "shell.execute_reply": "2024-08-22T16:37:03.829417Z"
    },
    "papermill": {
     "duration": 0.021061,
     "end_time": "2024-08-22T16:37:03.831625",
     "exception": false,
     "start_time": "2024-08-22T16:37:03.810564",
     "status": "completed"
    },
    "tags": []
   },
   "outputs": [
    {
     "name": "stdout",
     "output_type": "stream",
     "text": [
      "Compose(\n",
      "    RandomHorizontalFlip(p=0.5)\n",
      "    RandomCrop(size=(32, 32), padding=4)\n",
      "    <augmentations.trivial_augment.CustomTrivialAugmentWide object at 0x798f98281150>\n",
      ")\n"
     ]
    }
   ],
   "source": [
    "print(transforms_augmentation)"
   ]
  },
  {
   "cell_type": "code",
   "execution_count": 5,
   "id": "4bd7d258",
   "metadata": {
    "execution": {
     "iopub.execute_input": "2024-08-22T16:37:03.857172Z",
     "iopub.status.busy": "2024-08-22T16:37:03.856887Z",
     "iopub.status.idle": "2024-08-22T16:37:04.715163Z",
     "shell.execute_reply": "2024-08-22T16:37:04.714139Z"
    },
    "papermill": {
     "duration": 0.879519,
     "end_time": "2024-08-22T16:37:04.723250",
     "exception": false,
     "start_time": "2024-08-22T16:37:03.843731",
     "status": "completed"
    },
    "tags": []
   },
   "outputs": [
    {
     "data": {
      "image/png": "[encoded data removed]",
      "text/plain": [
       "<Figure size 2000x2500 with 1 Axes>"
      ]
     },
     "metadata": {},
     "output_type": "display_data"
    },
    {
     "name": "stdout",
     "output_type": "stream",
     "text": [
      "cat   deer  frog  dog   frog  truck truck truck horse bird  truck car   horse frog  dog   deer  bird  car   deer  cat   car   bird  truck plane dog   plane car   cat   plane frog  car   car   dog   dog   plane cat   bird  deer  horse cat   dog   frog  ship  plane car   deer  deer  deer  ship  plane bird  ship  truck frog  car   frog  horse deer  frog  ship  dog   ship  truck horse bird  frog  car   truck deer  bird  cat   ship  plane ship  frog  plane frog  frog  deer  dog   cat   cat   deer  frog  cat   plane cat   dog   car   ship  car   plane car   car   frog  frog  bird  ship  truck frog  plane ship  bird  dog   ship  dog   horse ship  horse frog  deer  horse ship  ship  deer  cat   cat   horse truck frog  horse cat   ship  frog  dog   cat   bird  truck\n"
     ]
    }
   ],
   "source": [
    "import matplotlib.pyplot as plt\n",
    "import numpy as np\n",
    "\n",
    "# functions to show an image\n",
    "def imshow(img):\n",
    "    npimg = img.numpy()\n",
    "    plt.figure(figsize=(20, 25))  # Adjust the width and height as needed\n",
    "    plt.imshow(np.transpose(npimg, (1, 2, 0)))\n",
    "    plt.show()\n",
    "\n",
    "\n",
    "# get some random training images\n",
    "# dataiter = iter(custom_trainloader)\n",
    "# images, labels, confidences = next(dataiter)\n",
    "\n",
    "# if training baseline model, uncomment this\n",
    "dataiter = iter(baseline_trainloader)\n",
    "images, labels = next(dataiter)\n",
    "\n",
    "# show images\n",
    "imshow(torchvision.utils.make_grid(images))\n",
    "\n",
    "# print labels \n",
    "# if isinstance(confidences, list):\n",
    "#     # in case we have confidence \n",
    "#     confidences = confidences[1]\n",
    "    \n",
    "# print(' '.join(f'{classes[labels[j]]:5s}: {confidences[j].item():.2f}' for j in range(batch_size)))\n",
    "print(' '.join(f'{classes[labels[j]]:5s}' for j in range(batch_size)))"
   ]
  },
  {
   "cell_type": "code",
   "execution_count": 6,
   "id": "752c9e06",
   "metadata": {
    "execution": {
     "iopub.execute_input": "2024-08-22T16:37:04.761944Z",
     "iopub.status.busy": "2024-08-22T16:37:04.761578Z",
     "iopub.status.idle": "2024-08-22T16:37:04.776122Z",
     "shell.execute_reply": "2024-08-22T16:37:04.775335Z"
    },
    "papermill": {
     "duration": 0.035385,
     "end_time": "2024-08-22T16:37:04.777825",
     "exception": false,
     "start_time": "2024-08-22T16:37:04.742440",
     "status": "completed"
    },
    "tags": []
   },
   "outputs": [],
   "source": [
    "import torch.nn as nn\n",
    "import torch.nn.functional as F\n",
    "import torch.nn.init as init\n",
    "import numpy as np\n",
    "\n",
    "\n",
    "# Manual implementation of ResNet18\n",
    "class BasicBlock(nn.Module):\n",
    "    expansion = 1\n",
    "\n",
    "    def __init__(self, in_planes, planes, stride=1):\n",
    "        super(BasicBlock, self).__init__()\n",
    "        self.conv1 = nn.Conv2d(\n",
    "            in_planes, planes, kernel_size=3, stride=stride, padding=1, bias=False)\n",
    "        self.bn1 = nn.BatchNorm2d(planes)\n",
    "        self.conv2 = nn.Conv2d(planes, planes, kernel_size=3,\n",
    "                               stride=1, padding=1, bias=False)\n",
    "        self.bn2 = nn.BatchNorm2d(planes)\n",
    "\n",
    "        self.shortcut = nn.Sequential()\n",
    "        if stride != 1 or in_planes != self.expansion*planes:\n",
    "            self.shortcut = nn.Sequential(\n",
    "                nn.Conv2d(in_planes, self.expansion*planes,\n",
    "                          kernel_size=1, stride=stride, bias=False),\n",
    "                nn.BatchNorm2d(self.expansion*planes)\n",
    "            )\n",
    "\n",
    "    def forward(self, x):\n",
    "        out = F.relu(self.bn1(self.conv1(x)))\n",
    "        out = self.bn2(self.conv2(out))\n",
    "        out += self.shortcut(x)\n",
    "        out = F.relu(out)\n",
    "        return out\n",
    "\n",
    "\n",
    "class ResNet(nn.Module):\n",
    "    def __init__(self, block, layers, num_classes=10):\n",
    "        super(ResNet, self).__init__()\n",
    "        self.in_planes = 64\n",
    "\n",
    "        self.conv1 = nn.Conv2d(3, 64, kernel_size=3, stride=1, padding=1, bias=False)\n",
    "        self.bn1 = nn.BatchNorm2d(64)\n",
    "        self.layer1 = self._make_layer(block, 64, layers[0], stride=1)\n",
    "        self.layer2 = self._make_layer(block, 128, layers[1], stride=2)\n",
    "        self.layer3 = self._make_layer(block, 256, layers[2], stride=2)\n",
    "        self.layer4 = self._make_layer(block, 512, layers[3], stride=2)\n",
    "        self.avgpool = nn.AdaptiveAvgPool2d((1, 1))  # Global average pooling layer\n",
    "        self.linear = nn.Linear(512, num_classes)\n",
    "\n",
    "    def _make_layer(self, block, planes, num_blocks, stride):\n",
    "        strides = [stride] + [1]*(num_blocks-1)\n",
    "        layers = []\n",
    "        for stride in strides:\n",
    "            layers.append(block(self.in_planes, planes, stride))\n",
    "            self.in_planes = planes * block.expansion\n",
    "        return nn.Sequential(*layers)\n",
    "\n",
    "    def forward(self, x):\n",
    "        out = F.relu(self.bn1(self.conv1(x)))\n",
    "        out = self.layer1(out)\n",
    "        out = self.layer2(out)\n",
    "        out = self.layer3(out)\n",
    "        out = self.layer4(out)\n",
    "        out = self.avgpool(out)  # Apply global average pooling\n",
    "        out = out.view(out.size(0), -1)\n",
    "        out = self.linear(out)\n",
    "        return out\n",
    "\n",
    "\n",
    "\n",
    "# ResNet18 Architecture\n",
    "def ResNet18(num_classes=10):\n",
    "    return ResNet(BasicBlock, [2, 2, 2, 2], num_classes=num_classes)"
   ]
  },
  {
   "cell_type": "code",
   "execution_count": 7,
   "id": "e1d3763e",
   "metadata": {
    "execution": {
     "iopub.execute_input": "2024-08-22T16:37:04.812690Z",
     "iopub.status.busy": "2024-08-22T16:37:04.812415Z",
     "iopub.status.idle": "2024-08-22T16:37:04.832035Z",
     "shell.execute_reply": "2024-08-22T16:37:04.831326Z"
    },
    "papermill": {
     "duration": 0.03944,
     "end_time": "2024-08-22T16:37:04.833710",
     "exception": false,
     "start_time": "2024-08-22T16:37:04.794270",
     "status": "completed"
    },
    "tags": []
   },
   "outputs": [],
   "source": [
    "def conv3x3(in_planes, out_planes, stride=1):\n",
    "    return nn.Conv2d(in_planes, out_planes, kernel_size=3, stride=stride, padding=1, bias=True)\n",
    "\n",
    "def conv_init(m):\n",
    "    classname = m.__class__.__name__\n",
    "    if classname.find('Conv') != -1:\n",
    "        init.xavier_uniform(m.weight, gain=np.sqrt(2))\n",
    "        init.constant(m.bias, 0)\n",
    "    elif classname.find('BatchNorm') != -1:\n",
    "        init.constant(m.weight, 1)\n",
    "        init.constant(m.bias, 0)\n",
    "\n",
    "class WideBasic(nn.Module):\n",
    "    def __init__(self, in_planes, planes, dropout_rate, stride=1):\n",
    "        super(WideBasic, self).__init__()\n",
    "        self.bn1 = nn.BatchNorm2d(in_planes)\n",
    "        self.conv1 = nn.Conv2d(in_planes, planes, kernel_size=3, padding=1, bias=True)\n",
    "        self.dropout = nn.Dropout(p=dropout_rate)\n",
    "        self.bn2 = nn.BatchNorm2d(planes)\n",
    "        self.conv2 = nn.Conv2d(planes, planes, kernel_size=3, stride=stride, padding=1, bias=True)\n",
    "\n",
    "        self.shortcut = nn.Sequential()\n",
    "        if stride != 1 or in_planes != planes:\n",
    "            self.shortcut = nn.Sequential(\n",
    "                nn.Conv2d(in_planes, planes, kernel_size=1, stride=stride, bias=True),\n",
    "            )\n",
    "\n",
    "    def forward(self, x):\n",
    "        out = self.dropout(self.conv1(F.relu(self.bn1(x))))\n",
    "        out = self.conv2(F.relu(self.bn2(out)))\n",
    "        out += self.shortcut(x)\n",
    "\n",
    "        return out\n",
    "\n",
    "class Bottleneck(nn.Module):\n",
    "    expansion = 4\n",
    "\n",
    "    def __init__(self, in_planes, planes, stride=1):\n",
    "        super(Bottleneck, self).__init__()\n",
    "        self.conv1 = nn.Conv2d(in_planes, planes, kernel_size=1, bias=False)\n",
    "        self.bn1 = nn.BatchNorm2d(planes)\n",
    "        self.conv2 = nn.Conv2d(planes, planes, kernel_size=3,\n",
    "                               stride=stride, padding=1, bias=False)\n",
    "        self.bn2 = nn.BatchNorm2d(planes)\n",
    "        self.conv3 = nn.Conv2d(planes, self.expansion *\n",
    "                               planes, kernel_size=1, bias=False)\n",
    "        self.bn3 = nn.BatchNorm2d(self.expansion*planes)\n",
    "\n",
    "        self.shortcut = nn.Sequential()\n",
    "        if stride != 1 or in_planes != self.expansion*planes:\n",
    "            self.shortcut = nn.Sequential(\n",
    "                nn.Conv2d(in_planes, self.expansion*planes,\n",
    "                          kernel_size=1, stride=stride, bias=False),\n",
    "                nn.BatchNorm2d(self.expansion*planes)\n",
    "            )\n",
    "\n",
    "    def forward(self, x):\n",
    "        out = F.relu(self.bn1(self.conv1(x)))\n",
    "        out = F.relu(self.bn2(self.conv2(out)))\n",
    "        out = self.bn3(self.conv3(out))\n",
    "        out += self.shortcut(x)\n",
    "        out = F.relu(out)\n",
    "        return out\n",
    "\n",
    "\n",
    "\n",
    "class WideResNet(nn.Module):\n",
    "    def __init__(self, depth, widen_factor, dropout_rate=0.3, num_classes=10, factor=1, block=WideBasic):\n",
    "        super(WideResNet, self).__init__()\n",
    "        self.in_planes = 16\n",
    "\n",
    "        assert ((depth-4)%6 ==0), 'Wide-resnet depth should be 6n+4'\n",
    "        n = (int)((depth-4)/6)\n",
    "        k = widen_factor\n",
    "\n",
    "        nStages = [16, 16*k, 32*k, 64*k]\n",
    "\n",
    "        self.conv1 = conv3x3(3,nStages[0], stride=1)\n",
    "        self.layer1 = self._wide_layer(block, nStages[1], n, dropout_rate, stride=factor)\n",
    "        self.layer2 = self._wide_layer(block, nStages[2], n, dropout_rate, stride=2)\n",
    "        self.layer3 = self._wide_layer(block, nStages[3], n, dropout_rate, stride=2)\n",
    "        self.bn1 = nn.BatchNorm2d(nStages[3], momentum=0.9)\n",
    "        self.linear = nn.Linear(nStages[3], num_classes)\n",
    "\n",
    "    def _wide_layer(self, block, planes, num_blocks, dropout_rate, stride):\n",
    "        strides = [stride] + [1]*(num_blocks-1)\n",
    "        layers = []\n",
    "\n",
    "        for stride in strides:\n",
    "            layers.append(block(self.in_planes, planes, dropout_rate, stride))\n",
    "            self.in_planes = planes\n",
    "\n",
    "        return nn.Sequential(*layers)\n",
    "\n",
    "    def forward(self, x):\n",
    "        out = self.conv1(x)\n",
    "        out = self.layer1(out)\n",
    "        out = self.layer2(out)\n",
    "        out = self.layer3(out)\n",
    "        out = F.relu(self.bn1(out))\n",
    "        out = F.avg_pool2d(out, 8)\n",
    "        out = out.view(out.size(0), -1)\n",
    "        out = self.linear(out)\n",
    "\n",
    "        return out\n",
    "\n",
    "def WideResNet_28_4(num_classes, factor=1, block=WideBasic, dropout_rate=0.3):\n",
    "    return WideResNet(depth=28, widen_factor=4, dropout_rate=dropout_rate, num_classes=num_classes, factor=factor, block=block)"
   ]
  },
  {
   "cell_type": "code",
   "execution_count": 8,
   "id": "336d55b4",
   "metadata": {
    "execution": {
     "iopub.execute_input": "2024-08-22T16:37:04.870147Z",
     "iopub.status.busy": "2024-08-22T16:37:04.869499Z",
     "iopub.status.idle": "2024-08-22T16:37:05.006221Z",
     "shell.execute_reply": "2024-08-22T16:37:05.005121Z"
    },
    "papermill": {
     "duration": 0.157656,
     "end_time": "2024-08-22T16:37:05.008202",
     "exception": false,
     "start_time": "2024-08-22T16:37:04.850546",
     "status": "completed"
    },
    "tags": []
   },
   "outputs": [
    {
     "data": {
      "text/plain": [
       "WideResNet(\n",
       "  (conv1): Conv2d(3, 16, kernel_size=(3, 3), stride=(1, 1), padding=(1, 1))\n",
       "  (layer1): Sequential(\n",
       "    (0): WideBasic(\n",
       "      (bn1): BatchNorm2d(16, eps=1e-05, momentum=0.1, affine=True, track_running_stats=True)\n",
       "      (conv1): Conv2d(16, 64, kernel_size=(3, 3), stride=(1, 1), padding=(1, 1))\n",
       "      (dropout): Dropout(p=0.3, inplace=False)\n",
       "      (bn2): BatchNorm2d(64, eps=1e-05, momentum=0.1, affine=True, track_running_stats=True)\n",
       "      (conv2): Conv2d(64, 64, kernel_size=(3, 3), stride=(1, 1), padding=(1, 1))\n",
       "      (shortcut): Sequential(\n",
       "        (0): Conv2d(16, 64, kernel_size=(1, 1), stride=(1, 1))\n",
       "      )\n",
       "    )\n",
       "    (1): WideBasic(\n",
       "      (bn1): BatchNorm2d(64, eps=1e-05, momentum=0.1, affine=True, track_running_stats=True)\n",
       "      (conv1): Conv2d(64, 64, kernel_size=(3, 3), stride=(1, 1), padding=(1, 1))\n",
       "      (dropout): Dropout(p=0.3, inplace=False)\n",
       "      (bn2): BatchNorm2d(64, eps=1e-05, momentum=0.1, affine=True, track_running_stats=True)\n",
       "      (conv2): Conv2d(64, 64, kernel_size=(3, 3), stride=(1, 1), padding=(1, 1))\n",
       "      (shortcut): Sequential()\n",
       "    )\n",
       "    (2): WideBasic(\n",
       "      (bn1): BatchNorm2d(64, eps=1e-05, momentum=0.1, affine=True, track_running_stats=True)\n",
       "      (conv1): Conv2d(64, 64, kernel_size=(3, 3), stride=(1, 1), padding=(1, 1))\n",
       "      (dropout): Dropout(p=0.3, inplace=False)\n",
       "      (bn2): BatchNorm2d(64, eps=1e-05, momentum=0.1, affine=True, track_running_stats=True)\n",
       "      (conv2): Conv2d(64, 64, kernel_size=(3, 3), stride=(1, 1), padding=(1, 1))\n",
       "      (shortcut): Sequential()\n",
       "    )\n",
       "    (3): WideBasic(\n",
       "      (bn1): BatchNorm2d(64, eps=1e-05, momentum=0.1, affine=True, track_running_stats=True)\n",
       "      (conv1): Conv2d(64, 64, kernel_size=(3, 3), stride=(1, 1), padding=(1, 1))\n",
       "      (dropout): Dropout(p=0.3, inplace=False)\n",
       "      (bn2): BatchNorm2d(64, eps=1e-05, momentum=0.1, affine=True, track_running_stats=True)\n",
       "      (conv2): Conv2d(64, 64, kernel_size=(3, 3), stride=(1, 1), padding=(1, 1))\n",
       "      (shortcut): Sequential()\n",
       "    )\n",
       "  )\n",
       "  (layer2): Sequential(\n",
       "    (0): WideBasic(\n",
       "      (bn1): BatchNorm2d(64, eps=1e-05, momentum=0.1, affine=True, track_running_stats=True)\n",
       "      (conv1): Conv2d(64, 128, kernel_size=(3, 3), stride=(1, 1), padding=(1, 1))\n",
       "      (dropout): Dropout(p=0.3, inplace=False)\n",
       "      (bn2): BatchNorm2d(128, eps=1e-05, momentum=0.1, affine=True, track_running_stats=True)\n",
       "      (conv2): Conv2d(128, 128, kernel_size=(3, 3), stride=(2, 2), padding=(1, 1))\n",
       "      (shortcut): Sequential(\n",
       "        (0): Conv2d(64, 128, kernel_size=(1, 1), stride=(2, 2))\n",
       "      )\n",
       "    )\n",
       "    (1): WideBasic(\n",
       "      (bn1): BatchNorm2d(128, eps=1e-05, momentum=0.1, affine=True, track_running_stats=True)\n",
       "      (conv1): Conv2d(128, 128, kernel_size=(3, 3), stride=(1, 1), padding=(1, 1))\n",
       "      (dropout): Dropout(p=0.3, inplace=False)\n",
       "      (bn2): BatchNorm2d(128, eps=1e-05, momentum=0.1, affine=True, track_running_stats=True)\n",
       "      (conv2): Conv2d(128, 128, kernel_size=(3, 3), stride=(1, 1), padding=(1, 1))\n",
       "      (shortcut): Sequential()\n",
       "    )\n",
       "    (2): WideBasic(\n",
       "      (bn1): BatchNorm2d(128, eps=1e-05, momentum=0.1, affine=True, track_running_stats=True)\n",
       "      (conv1): Conv2d(128, 128, kernel_size=(3, 3), stride=(1, 1), padding=(1, 1))\n",
       "      (dropout): Dropout(p=0.3, inplace=False)\n",
       "      (bn2): BatchNorm2d(128, eps=1e-05, momentum=0.1, affine=True, track_running_stats=True)\n",
       "      (conv2): Conv2d(128, 128, kernel_size=(3, 3), stride=(1, 1), padding=(1, 1))\n",
       "      (shortcut): Sequential()\n",
       "    )\n",
       "    (3): WideBasic(\n",
       "      (bn1): BatchNorm2d(128, eps=1e-05, momentum=0.1, affine=True, track_running_stats=True)\n",
       "      (conv1): Conv2d(128, 128, kernel_size=(3, 3), stride=(1, 1), padding=(1, 1))\n",
       "      (dropout): Dropout(p=0.3, inplace=False)\n",
       "      (bn2): BatchNorm2d(128, eps=1e-05, momentum=0.1, affine=True, track_running_stats=True)\n",
       "      (conv2): Conv2d(128, 128, kernel_size=(3, 3), stride=(1, 1), padding=(1, 1))\n",
       "      (shortcut): Sequential()\n",
       "    )\n",
       "  )\n",
       "  (layer3): Sequential(\n",
       "    (0): WideBasic(\n",
       "      (bn1): BatchNorm2d(128, eps=1e-05, momentum=0.1, affine=True, track_running_stats=True)\n",
       "      (conv1): Conv2d(128, 256, kernel_size=(3, 3), stride=(1, 1), padding=(1, 1))\n",
       "      (dropout): Dropout(p=0.3, inplace=False)\n",
       "      (bn2): BatchNorm2d(256, eps=1e-05, momentum=0.1, affine=True, track_running_stats=True)\n",
       "      (conv2): Conv2d(256, 256, kernel_size=(3, 3), stride=(2, 2), padding=(1, 1))\n",
       "      (shortcut): Sequential(\n",
       "        (0): Conv2d(128, 256, kernel_size=(1, 1), stride=(2, 2))\n",
       "      )\n",
       "    )\n",
       "    (1): WideBasic(\n",
       "      (bn1): BatchNorm2d(256, eps=1e-05, momentum=0.1, affine=True, track_running_stats=True)\n",
       "      (conv1): Conv2d(256, 256, kernel_size=(3, 3), stride=(1, 1), padding=(1, 1))\n",
       "      (dropout): Dropout(p=0.3, inplace=False)\n",
       "      (bn2): BatchNorm2d(256, eps=1e-05, momentum=0.1, affine=True, track_running_stats=True)\n",
       "      (conv2): Conv2d(256, 256, kernel_size=(3, 3), stride=(1, 1), padding=(1, 1))\n",
       "      (shortcut): Sequential()\n",
       "    )\n",
       "    (2): WideBasic(\n",
       "      (bn1): BatchNorm2d(256, eps=1e-05, momentum=0.1, affine=True, track_running_stats=True)\n",
       "      (conv1): Conv2d(256, 256, kernel_size=(3, 3), stride=(1, 1), padding=(1, 1))\n",
       "      (dropout): Dropout(p=0.3, inplace=False)\n",
       "      (bn2): BatchNorm2d(256, eps=1e-05, momentum=0.1, affine=True, track_running_stats=True)\n",
       "      (conv2): Conv2d(256, 256, kernel_size=(3, 3), stride=(1, 1), padding=(1, 1))\n",
       "      (shortcut): Sequential()\n",
       "    )\n",
       "    (3): WideBasic(\n",
       "      (bn1): BatchNorm2d(256, eps=1e-05, momentum=0.1, affine=True, track_running_stats=True)\n",
       "      (conv1): Conv2d(256, 256, kernel_size=(3, 3), stride=(1, 1), padding=(1, 1))\n",
       "      (dropout): Dropout(p=0.3, inplace=False)\n",
       "      (bn2): BatchNorm2d(256, eps=1e-05, momentum=0.1, affine=True, track_running_stats=True)\n",
       "      (conv2): Conv2d(256, 256, kernel_size=(3, 3), stride=(1, 1), padding=(1, 1))\n",
       "      (shortcut): Sequential()\n",
       "    )\n",
       "  )\n",
       "  (bn1): BatchNorm2d(256, eps=1e-05, momentum=0.9, affine=True, track_running_stats=True)\n",
       "  (linear): Linear(in_features=256, out_features=10, bias=True)\n",
       ")"
      ]
     },
     "execution_count": 8,
     "metadata": {},
     "output_type": "execute_result"
    }
   ],
   "source": [
    "# Initialize the model\n",
    "net = WideResNet_28_4(num_classes=10)\n",
    "net.to(device)"
   ]
  },
  {
   "cell_type": "code",
   "execution_count": 9,
   "id": "858de8a0",
   "metadata": {
    "execution": {
     "iopub.execute_input": "2024-08-22T16:37:05.045946Z",
     "iopub.status.busy": "2024-08-22T16:37:05.045505Z",
     "iopub.status.idle": "2024-08-22T17:29:51.778972Z",
     "shell.execute_reply": "2024-08-22T17:29:51.777645Z"
    },
    "papermill": {
     "duration": 3166.753493,
     "end_time": "2024-08-22T17:29:51.781393",
     "exception": false,
     "start_time": "2024-08-22T16:37:05.027900",
     "status": "completed"
    },
    "tags": []
   },
   "outputs": [
    {
     "name": "stdout",
     "output_type": "stream",
     "text": [
      "\n",
      "Start Training...\n",
      "\n"
     ]
    },
    {
     "name": "stdout",
     "output_type": "stream",
     "text": [
      "\n",
      "Epoch 1 - Loss: 1.968 - Test Accuracy:  33.050\n",
      "\n",
      "Processing time:  66.890636 seconds.\n"
     ]
    },
    {
     "name": "stdout",
     "output_type": "stream",
     "text": [
      "\n",
      "Epoch 2 - Loss: 1.632 - Test Accuracy:  51.600\n",
      "\n",
      "Processing time:  43.446346 seconds.\n"
     ]
    },
    {
     "name": "stdout",
     "output_type": "stream",
     "text": [
      "\n",
      "Epoch 3 - Loss: 1.429 - Test Accuracy:  58.210\n",
      "\n",
      "Processing time:  30.994406 seconds.\n"
     ]
    },
    {
     "name": "stdout",
     "output_type": "stream",
     "text": [
      "\n",
      "Epoch 4 - Loss: 1.302 - Test Accuracy:  31.140\n",
      "\n",
      "Processing time:  31.407376 seconds.\n"
     ]
    },
    {
     "name": "stdout",
     "output_type": "stream",
     "text": [
      "\n",
      "Epoch 5 - Loss: 1.198 - Test Accuracy:  56.800\n",
      "\n",
      "Processing time:  30.897118 seconds.\n"
     ]
    },
    {
     "name": "stdout",
     "output_type": "stream",
     "text": [
      "\n",
      "Epoch 6 - Loss: 1.132 - Test Accuracy:  56.410\n",
      "\n",
      "Processing time:  31.995546 seconds.\n"
     ]
    },
    {
     "name": "stdout",
     "output_type": "stream",
     "text": [
      "\n",
      "Epoch 7 - Loss: 1.067 - Test Accuracy:  68.860\n",
      "\n",
      "Processing time:  31.434802 seconds.\n"
     ]
    },
    {
     "name": "stdout",
     "output_type": "stream",
     "text": [
      "\n",
      "Epoch 8 - Loss: 1.020 - Test Accuracy:  64.250\n",
      "\n",
      "Processing time:  31.696703 seconds.\n"
     ]
    },
    {
     "name": "stdout",
     "output_type": "stream",
     "text": [
      "\n",
      "Epoch 9 - Loss: 0.974 - Test Accuracy:  69.670\n",
      "\n",
      "Processing time:  31.067138 seconds.\n"
     ]
    },
    {
     "name": "stdout",
     "output_type": "stream",
     "text": [
      "\n",
      "Epoch 10 - Loss: 0.925 - Test Accuracy:  75.510\n",
      "\n",
      "Processing time:  30.932800 seconds.\n"
     ]
    },
    {
     "name": "stdout",
     "output_type": "stream",
     "text": [
      "\n",
      "Epoch 11 - Loss: 0.889 - Test Accuracy:  71.010\n",
      "\n",
      "Processing time:  31.184686 seconds.\n"
     ]
    },
    {
     "name": "stdout",
     "output_type": "stream",
     "text": [
      "\n",
      "Epoch 12 - Loss: 0.860 - Test Accuracy:  79.720\n",
      "\n",
      "Processing time:  30.679987 seconds.\n"
     ]
    },
    {
     "name": "stdout",
     "output_type": "stream",
     "text": [
      "\n",
      "Epoch 13 - Loss: 0.835 - Test Accuracy:  79.310\n",
      "\n",
      "Processing time:  30.557346 seconds.\n"
     ]
    },
    {
     "name": "stdout",
     "output_type": "stream",
     "text": [
      "\n",
      "Epoch 14 - Loss: 0.806 - Test Accuracy:  77.760\n",
      "\n",
      "Processing time:  31.503357 seconds.\n"
     ]
    },
    {
     "name": "stdout",
     "output_type": "stream",
     "text": [
      "\n",
      "Epoch 15 - Loss: 0.783 - Test Accuracy:  76.730\n",
      "\n",
      "Processing time:  31.557773 seconds.\n"
     ]
    },
    {
     "name": "stdout",
     "output_type": "stream",
     "text": [
      "\n",
      "Epoch 16 - Loss: 0.768 - Test Accuracy:  81.010\n",
      "\n",
      "Processing time:  31.288942 seconds.\n"
     ]
    },
    {
     "name": "stdout",
     "output_type": "stream",
     "text": [
      "\n",
      "Epoch 17 - Loss: 0.748 - Test Accuracy:  82.870\n",
      "\n",
      "Processing time:  31.752846 seconds.\n"
     ]
    },
    {
     "name": "stdout",
     "output_type": "stream",
     "text": [
      "\n",
      "Epoch 18 - Loss: 0.732 - Test Accuracy:  80.400\n",
      "\n",
      "Processing time:  30.586179 seconds.\n"
     ]
    },
    {
     "name": "stdout",
     "output_type": "stream",
     "text": [
      "\n",
      "Epoch 19 - Loss: 0.723 - Test Accuracy:  81.920\n",
      "\n",
      "Processing time:  30.298814 seconds.\n"
     ]
    },
    {
     "name": "stdout",
     "output_type": "stream",
     "text": [
      "\n",
      "Epoch 20 - Loss: 0.707 - Test Accuracy:  83.260\n",
      "\n",
      "Processing time:  30.322096 seconds.\n"
     ]
    },
    {
     "name": "stdout",
     "output_type": "stream",
     "text": [
      "\n",
      "Epoch 21 - Loss: 0.694 - Test Accuracy:  82.770\n",
      "\n",
      "Processing time:  31.414412 seconds.\n"
     ]
    },
    {
     "name": "stdout",
     "output_type": "stream",
     "text": [
      "\n",
      "Epoch 22 - Loss: 0.688 - Test Accuracy:  83.050\n",
      "\n",
      "Processing time:  31.476540 seconds.\n"
     ]
    },
    {
     "name": "stdout",
     "output_type": "stream",
     "text": [
      "\n",
      "Epoch 23 - Loss: 0.670 - Test Accuracy:  84.540\n",
      "\n",
      "Processing time:  31.321616 seconds.\n"
     ]
    },
    {
     "name": "stdout",
     "output_type": "stream",
     "text": [
      "\n",
      "Epoch 24 - Loss: 0.663 - Test Accuracy:  85.010\n",
      "\n",
      "Processing time:  30.360972 seconds.\n"
     ]
    },
    {
     "name": "stdout",
     "output_type": "stream",
     "text": [
      "\n",
      "Epoch 25 - Loss: 0.656 - Test Accuracy:  84.100\n",
      "\n",
      "Processing time:  30.299121 seconds.\n"
     ]
    },
    {
     "name": "stdout",
     "output_type": "stream",
     "text": [
      "\n",
      "Epoch 26 - Loss: 0.648 - Test Accuracy:  84.170\n",
      "\n",
      "Processing time:  30.460696 seconds.\n"
     ]
    },
    {
     "name": "stdout",
     "output_type": "stream",
     "text": [
      "\n",
      "Epoch 27 - Loss: 0.641 - Test Accuracy:  83.390\n",
      "\n",
      "Processing time:  30.072955 seconds.\n"
     ]
    },
    {
     "name": "stdout",
     "output_type": "stream",
     "text": [
      "\n",
      "Epoch 28 - Loss: 0.618 - Test Accuracy:  85.960\n",
      "\n",
      "Processing time:  32.133156 seconds.\n"
     ]
    },
    {
     "name": "stdout",
     "output_type": "stream",
     "text": [
      "\n",
      "Epoch 29 - Loss: 0.617 - Test Accuracy:  86.400\n",
      "\n",
      "Processing time:  31.017674 seconds.\n"
     ]
    },
    {
     "name": "stdout",
     "output_type": "stream",
     "text": [
      "\n",
      "Epoch 30 - Loss: 0.610 - Test Accuracy:  85.830\n",
      "\n",
      "Processing time:  30.452209 seconds.\n"
     ]
    },
    {
     "name": "stdout",
     "output_type": "stream",
     "text": [
      "\n",
      "Epoch 31 - Loss: 0.607 - Test Accuracy:  83.900\n",
      "\n",
      "Processing time:  30.256306 seconds.\n"
     ]
    },
    {
     "name": "stdout",
     "output_type": "stream",
     "text": [
      "\n",
      "Epoch 32 - Loss: 0.596 - Test Accuracy:  86.410\n",
      "\n",
      "Processing time:  31.703483 seconds.\n"
     ]
    },
    {
     "name": "stdout",
     "output_type": "stream",
     "text": [
      "\n",
      "Epoch 33 - Loss: 0.593 - Test Accuracy:  87.190\n",
      "\n",
      "Processing time:  31.526686 seconds.\n"
     ]
    },
    {
     "name": "stdout",
     "output_type": "stream",
     "text": [
      "\n",
      "Epoch 34 - Loss: 0.583 - Test Accuracy:  87.110\n",
      "\n",
      "Processing time:  31.245744 seconds.\n"
     ]
    },
    {
     "name": "stdout",
     "output_type": "stream",
     "text": [
      "\n",
      "Epoch 35 - Loss: 0.574 - Test Accuracy:  87.510\n",
      "\n",
      "Processing time:  31.292556 seconds.\n"
     ]
    },
    {
     "name": "stdout",
     "output_type": "stream",
     "text": [
      "\n",
      "Epoch 36 - Loss: 0.568 - Test Accuracy:  86.450\n",
      "\n",
      "Processing time:  31.488124 seconds.\n"
     ]
    },
    {
     "name": "stdout",
     "output_type": "stream",
     "text": [
      "\n",
      "Epoch 37 - Loss: 0.563 - Test Accuracy:  88.150\n",
      "\n",
      "Processing time:  31.311178 seconds.\n"
     ]
    },
    {
     "name": "stdout",
     "output_type": "stream",
     "text": [
      "\n",
      "Epoch 38 - Loss: 0.561 - Test Accuracy:  87.860\n",
      "\n",
      "Processing time:  30.818505 seconds.\n"
     ]
    },
    {
     "name": "stdout",
     "output_type": "stream",
     "text": [
      "\n",
      "Epoch 39 - Loss: 0.550 - Test Accuracy:  88.820\n",
      "\n",
      "Processing time:  30.694860 seconds.\n"
     ]
    },
    {
     "name": "stdout",
     "output_type": "stream",
     "text": [
      "\n",
      "Epoch 40 - Loss: 0.543 - Test Accuracy:  89.820\n",
      "\n",
      "Processing time:  30.620973 seconds.\n"
     ]
    },
    {
     "name": "stdout",
     "output_type": "stream",
     "text": [
      "\n",
      "Epoch 41 - Loss: 0.540 - Test Accuracy:  89.340\n",
      "\n",
      "Processing time:  30.712564 seconds.\n"
     ]
    },
    {
     "name": "stdout",
     "output_type": "stream",
     "text": [
      "\n",
      "Epoch 42 - Loss: 0.538 - Test Accuracy:  89.740\n",
      "\n",
      "Processing time:  30.325086 seconds.\n"
     ]
    },
    {
     "name": "stdout",
     "output_type": "stream",
     "text": [
      "\n",
      "Epoch 43 - Loss: 0.524 - Test Accuracy:  89.520\n",
      "\n",
      "Processing time:  31.678327 seconds.\n"
     ]
    },
    {
     "name": "stdout",
     "output_type": "stream",
     "text": [
      "\n",
      "Epoch 44 - Loss: 0.518 - Test Accuracy:  89.830\n",
      "\n",
      "Processing time:  30.502750 seconds.\n"
     ]
    },
    {
     "name": "stdout",
     "output_type": "stream",
     "text": [
      "\n",
      "Epoch 45 - Loss: 0.513 - Test Accuracy:  88.930\n",
      "\n",
      "Processing time:  30.194139 seconds.\n"
     ]
    },
    {
     "name": "stdout",
     "output_type": "stream",
     "text": [
      "\n",
      "Epoch 46 - Loss: 0.506 - Test Accuracy:  89.890\n",
      "\n",
      "Processing time:  31.342772 seconds.\n"
     ]
    },
    {
     "name": "stdout",
     "output_type": "stream",
     "text": [
      "\n",
      "Epoch 47 - Loss: 0.506 - Test Accuracy:  89.850\n",
      "\n",
      "Processing time:  30.328922 seconds.\n"
     ]
    },
    {
     "name": "stdout",
     "output_type": "stream",
     "text": [
      "\n",
      "Epoch 48 - Loss: 0.495 - Test Accuracy:  90.830\n",
      "\n",
      "Processing time:  30.385658 seconds.\n"
     ]
    },
    {
     "name": "stdout",
     "output_type": "stream",
     "text": [
      "\n",
      "Epoch 49 - Loss: 0.488 - Test Accuracy:  90.100\n",
      "\n",
      "Processing time:  31.492568 seconds.\n"
     ]
    },
    {
     "name": "stdout",
     "output_type": "stream",
     "text": [
      "\n",
      "Epoch 50 - Loss: 0.487 - Test Accuracy:  89.930\n",
      "\n",
      "Processing time:  31.410816 seconds.\n"
     ]
    },
    {
     "name": "stdout",
     "output_type": "stream",
     "text": [
      "\n",
      "Epoch 51 - Loss: 0.478 - Test Accuracy:  90.730\n",
      "\n",
      "Processing time:  31.335422 seconds.\n"
     ]
    },
    {
     "name": "stdout",
     "output_type": "stream",
     "text": [
      "\n",
      "Epoch 52 - Loss: 0.483 - Test Accuracy:  90.270\n",
      "\n",
      "Processing time:  31.126256 seconds.\n"
     ]
    },
    {
     "name": "stdout",
     "output_type": "stream",
     "text": [
      "\n",
      "Epoch 53 - Loss: 0.457 - Test Accuracy:  91.030\n",
      "\n",
      "Processing time:  31.057639 seconds.\n"
     ]
    },
    {
     "name": "stdout",
     "output_type": "stream",
     "text": [
      "\n",
      "Epoch 54 - Loss: 0.455 - Test Accuracy:  91.570\n",
      "\n",
      "Processing time:  31.403069 seconds.\n"
     ]
    },
    {
     "name": "stdout",
     "output_type": "stream",
     "text": [
      "\n",
      "Epoch 55 - Loss: 0.448 - Test Accuracy:  91.210\n",
      "\n",
      "Processing time:  31.577625 seconds.\n"
     ]
    },
    {
     "name": "stdout",
     "output_type": "stream",
     "text": [
      "\n",
      "Epoch 56 - Loss: 0.445 - Test Accuracy:  90.790\n",
      "\n",
      "Processing time:  31.513980 seconds.\n"
     ]
    },
    {
     "name": "stdout",
     "output_type": "stream",
     "text": [
      "\n",
      "Epoch 57 - Loss: 0.442 - Test Accuracy:  89.730\n",
      "\n",
      "Processing time:  31.184763 seconds.\n"
     ]
    },
    {
     "name": "stdout",
     "output_type": "stream",
     "text": [
      "\n",
      "Epoch 58 - Loss: 0.436 - Test Accuracy:  91.110\n",
      "\n",
      "Processing time:  31.332193 seconds.\n"
     ]
    },
    {
     "name": "stdout",
     "output_type": "stream",
     "text": [
      "\n",
      "Epoch 59 - Loss: 0.423 - Test Accuracy:  92.460\n",
      "\n",
      "Processing time:  30.889801 seconds.\n"
     ]
    },
    {
     "name": "stdout",
     "output_type": "stream",
     "text": [
      "\n",
      "Epoch 60 - Loss: 0.420 - Test Accuracy:  92.280\n",
      "\n",
      "Processing time:  32.233648 seconds.\n"
     ]
    },
    {
     "name": "stdout",
     "output_type": "stream",
     "text": [
      "\n",
      "Epoch 61 - Loss: 0.414 - Test Accuracy:  90.880\n",
      "\n",
      "Processing time:  31.048737 seconds.\n"
     ]
    },
    {
     "name": "stdout",
     "output_type": "stream",
     "text": [
      "\n",
      "Epoch 62 - Loss: 0.410 - Test Accuracy:  92.120\n",
      "\n",
      "Processing time:  32.688569 seconds.\n"
     ]
    },
    {
     "name": "stdout",
     "output_type": "stream",
     "text": [
      "\n",
      "Epoch 63 - Loss: 0.409 - Test Accuracy:  92.380\n",
      "\n",
      "Processing time:  31.111815 seconds.\n"
     ]
    },
    {
     "name": "stdout",
     "output_type": "stream",
     "text": [
      "\n",
      "Epoch 64 - Loss: 0.398 - Test Accuracy:  93.100\n",
      "\n",
      "Processing time:  30.965942 seconds.\n"
     ]
    },
    {
     "name": "stdout",
     "output_type": "stream",
     "text": [
      "\n",
      "Epoch 65 - Loss: 0.386 - Test Accuracy:  91.720\n",
      "\n",
      "Processing time:  31.041564 seconds.\n"
     ]
    },
    {
     "name": "stdout",
     "output_type": "stream",
     "text": [
      "\n",
      "Epoch 66 - Loss: 0.382 - Test Accuracy:  92.680\n",
      "\n",
      "Processing time:  31.335140 seconds.\n"
     ]
    },
    {
     "name": "stdout",
     "output_type": "stream",
     "text": [
      "\n",
      "Epoch 67 - Loss: 0.377 - Test Accuracy:  93.210\n",
      "\n",
      "Processing time:  31.412622 seconds.\n"
     ]
    },
    {
     "name": "stdout",
     "output_type": "stream",
     "text": [
      "\n",
      "Epoch 68 - Loss: 0.369 - Test Accuracy:  92.300\n",
      "\n",
      "Processing time:  32.188293 seconds.\n"
     ]
    },
    {
     "name": "stdout",
     "output_type": "stream",
     "text": [
      "\n",
      "Epoch 69 - Loss: 0.362 - Test Accuracy:  93.090\n",
      "\n",
      "Processing time:  30.815951 seconds.\n"
     ]
    },
    {
     "name": "stdout",
     "output_type": "stream",
     "text": [
      "\n",
      "Epoch 70 - Loss: 0.354 - Test Accuracy:  92.800\n",
      "\n",
      "Processing time:  31.367727 seconds.\n"
     ]
    },
    {
     "name": "stdout",
     "output_type": "stream",
     "text": [
      "\n",
      "Epoch 71 - Loss: 0.350 - Test Accuracy:  93.510\n",
      "\n",
      "Processing time:  30.995107 seconds.\n"
     ]
    },
    {
     "name": "stdout",
     "output_type": "stream",
     "text": [
      "\n",
      "Epoch 72 - Loss: 0.346 - Test Accuracy:  93.600\n",
      "\n",
      "Processing time:  31.038544 seconds.\n"
     ]
    },
    {
     "name": "stdout",
     "output_type": "stream",
     "text": [
      "\n",
      "Epoch 73 - Loss: 0.335 - Test Accuracy:  94.180\n",
      "\n",
      "Processing time:  31.382528 seconds.\n"
     ]
    },
    {
     "name": "stdout",
     "output_type": "stream",
     "text": [
      "\n",
      "Epoch 74 - Loss: 0.329 - Test Accuracy:  93.830\n",
      "\n",
      "Processing time:  31.205257 seconds.\n"
     ]
    },
    {
     "name": "stdout",
     "output_type": "stream",
     "text": [
      "\n",
      "Epoch 75 - Loss: 0.322 - Test Accuracy:  93.730\n",
      "\n",
      "Processing time:  31.126933 seconds.\n"
     ]
    },
    {
     "name": "stdout",
     "output_type": "stream",
     "text": [
      "\n",
      "Epoch 76 - Loss: 0.317 - Test Accuracy:  94.220\n",
      "\n",
      "Processing time:  31.399059 seconds.\n"
     ]
    },
    {
     "name": "stdout",
     "output_type": "stream",
     "text": [
      "\n",
      "Epoch 77 - Loss: 0.311 - Test Accuracy:  94.280\n",
      "\n",
      "Processing time:  31.150549 seconds.\n"
     ]
    },
    {
     "name": "stdout",
     "output_type": "stream",
     "text": [
      "\n",
      "Epoch 78 - Loss: 0.304 - Test Accuracy:  94.270\n",
      "\n",
      "Processing time:  31.257005 seconds.\n"
     ]
    },
    {
     "name": "stdout",
     "output_type": "stream",
     "text": [
      "\n",
      "Epoch 79 - Loss: 0.293 - Test Accuracy:  93.950\n",
      "\n",
      "Processing time:  31.397270 seconds.\n"
     ]
    },
    {
     "name": "stdout",
     "output_type": "stream",
     "text": [
      "\n",
      "Epoch 80 - Loss: 0.290 - Test Accuracy:  94.500\n",
      "\n",
      "Processing time:  31.675428 seconds.\n"
     ]
    },
    {
     "name": "stdout",
     "output_type": "stream",
     "text": [
      "\n",
      "Epoch 81 - Loss: 0.290 - Test Accuracy:  94.770\n",
      "\n",
      "Processing time:  31.584986 seconds.\n"
     ]
    },
    {
     "name": "stdout",
     "output_type": "stream",
     "text": [
      "\n",
      "Epoch 82 - Loss: 0.283 - Test Accuracy:  95.020\n",
      "\n",
      "Processing time:  31.242812 seconds.\n"
     ]
    },
    {
     "name": "stdout",
     "output_type": "stream",
     "text": [
      "\n",
      "Epoch 83 - Loss: 0.274 - Test Accuracy:  94.630\n",
      "\n",
      "Processing time:  30.966633 seconds.\n"
     ]
    },
    {
     "name": "stdout",
     "output_type": "stream",
     "text": [
      "\n",
      "Epoch 84 - Loss: 0.270 - Test Accuracy:  95.100\n",
      "\n",
      "Processing time:  31.107717 seconds.\n"
     ]
    },
    {
     "name": "stdout",
     "output_type": "stream",
     "text": [
      "\n",
      "Epoch 85 - Loss: 0.267 - Test Accuracy:  94.560\n",
      "\n",
      "Processing time:  31.238572 seconds.\n"
     ]
    },
    {
     "name": "stdout",
     "output_type": "stream",
     "text": [
      "\n",
      "Epoch 86 - Loss: 0.263 - Test Accuracy:  94.580\n",
      "\n",
      "Processing time:  31.345747 seconds.\n"
     ]
    },
    {
     "name": "stdout",
     "output_type": "stream",
     "text": [
      "\n",
      "Epoch 87 - Loss: 0.264 - Test Accuracy:  95.010\n",
      "\n",
      "Processing time:  31.478310 seconds.\n"
     ]
    },
    {
     "name": "stdout",
     "output_type": "stream",
     "text": [
      "\n",
      "Epoch 88 - Loss: 0.254 - Test Accuracy:  95.170\n",
      "\n",
      "Processing time:  30.981858 seconds.\n"
     ]
    },
    {
     "name": "stdout",
     "output_type": "stream",
     "text": [
      "\n",
      "Epoch 89 - Loss: 0.251 - Test Accuracy:  95.140\n",
      "\n",
      "Processing time:  31.321755 seconds.\n"
     ]
    },
    {
     "name": "stdout",
     "output_type": "stream",
     "text": [
      "\n",
      "Epoch 90 - Loss: 0.246 - Test Accuracy:  95.180\n",
      "\n",
      "Processing time:  31.257016 seconds.\n"
     ]
    },
    {
     "name": "stdout",
     "output_type": "stream",
     "text": [
      "\n",
      "Epoch 91 - Loss: 0.245 - Test Accuracy:  95.090\n",
      "\n",
      "Processing time:  34.087890 seconds.\n"
     ]
    },
    {
     "name": "stdout",
     "output_type": "stream",
     "text": [
      "\n",
      "Epoch 92 - Loss: 0.243 - Test Accuracy:  95.290\n",
      "\n",
      "Processing time:  31.540940 seconds.\n"
     ]
    },
    {
     "name": "stdout",
     "output_type": "stream",
     "text": [
      "\n",
      "Epoch 93 - Loss: 0.236 - Test Accuracy:  95.290\n",
      "\n",
      "Processing time:  30.973730 seconds.\n"
     ]
    },
    {
     "name": "stdout",
     "output_type": "stream",
     "text": [
      "\n",
      "Epoch 94 - Loss: 0.239 - Test Accuracy:  95.340\n",
      "\n",
      "Processing time:  31.335018 seconds.\n"
     ]
    },
    {
     "name": "stdout",
     "output_type": "stream",
     "text": [
      "\n",
      "Epoch 95 - Loss: 0.233 - Test Accuracy:  95.410\n",
      "\n",
      "Processing time:  31.090336 seconds.\n"
     ]
    },
    {
     "name": "stdout",
     "output_type": "stream",
     "text": [
      "\n",
      "Epoch 96 - Loss: 0.240 - Test Accuracy:  95.420\n",
      "\n",
      "Processing time:  31.069819 seconds.\n"
     ]
    },
    {
     "name": "stdout",
     "output_type": "stream",
     "text": [
      "\n",
      "Epoch 97 - Loss: 0.230 - Test Accuracy:  95.430\n",
      "\n",
      "Processing time:  30.867892 seconds.\n"
     ]
    },
    {
     "name": "stdout",
     "output_type": "stream",
     "text": [
      "\n",
      "Epoch 98 - Loss: 0.230 - Test Accuracy:  95.550\n",
      "\n",
      "Processing time:  31.275975 seconds.\n"
     ]
    },
    {
     "name": "stdout",
     "output_type": "stream",
     "text": [
      "\n",
      "Epoch 99 - Loss: 0.231 - Test Accuracy:  95.460\n",
      "\n",
      "Processing time:  31.033926 seconds.\n"
     ]
    },
    {
     "name": "stdout",
     "output_type": "stream",
     "text": [
      "\n",
      "Epoch 100 - Loss: 0.225 - Test Accuracy:  95.470\n",
      "\n",
      "Processing time:  31.316217 seconds.\n",
      "Finished Training\n"
     ]
    }
   ],
   "source": [
    "import torch.optim as optim\n",
    "import torch.nn.functional as F\n",
    "from torch.optim.lr_scheduler import CosineAnnealingLR\n",
    "import time\n",
    "\n",
    "criterion = nn.CrossEntropyLoss()\n",
    "optimizer = optim.SGD(net.parameters(), lr=0.15, momentum=0.9, weight_decay=1e-4)\n",
    "\n",
    "# Initialize the scheduler\n",
    "epochs = 100\n",
    "scheduler = CosineAnnealingLR(optimizer, T_max=epochs)  # Cosine Annealing LR Scheduler\n",
    "\n",
    "# Training loop\n",
    "print(f'\\nStart Training...\\n')\n",
    "for epoch in range(epochs):  # loop over the dataset multiple times\n",
    "    \n",
    "    start_time = time.time()\n",
    "    \n",
    "    running_loss = 0.0\n",
    "    total_train = 0\n",
    "    correct_train = 0\n",
    "    total = 0\n",
    "    correct = 0\n",
    "    \n",
    "    net.train()\n",
    "    for i, (inputs, labels) in enumerate(baseline_trainloader):\n",
    "#     for i, (inputs, labels, confidences) in enumerate(custom_trainloader):\n",
    "        # zero the parameter gradients\n",
    "        optimizer.zero_grad()\n",
    "        \n",
    "        # when the model returns [augmentation_magnitude, confidence_aa], which is the case\n",
    "        # only when TA with soft labels is applied\n",
    "#         if isinstance(confidences, list):\n",
    "#             confidences = confidences[1]\n",
    "            \n",
    "        # get the inputs\n",
    "#         inputs, labels, confidences = inputs.to(device), labels.to(device), confidences.to(device)\n",
    "        inputs, labels = inputs.to(device), labels.to(device)\n",
    "    \n",
    "        # Convert labels to one-hot encoded vectors\n",
    "#         labels_one_hot = F.one_hot(labels, num_classes=10).float()\n",
    "        \n",
    "        # forward + backward + optimize\n",
    "        outputs = net(inputs)\n",
    "        \n",
    "        loss = criterion(outputs, labels)  \n",
    "#         loss = soft_loss(pred=outputs, label=labels, confidence=confidences)\n",
    "#         print(f'Loss: {loss:.3f}\\tHard Loss: {hard_loss:.3f}')\n",
    "\n",
    "        loss.backward()\n",
    "        optimizer.step()\n",
    "        if tpu:\n",
    "            xm.mark_step()\n",
    "        running_loss += loss.item()\n",
    "\n",
    "        # Calculate training accuracy\n",
    "        _, predicted = torch.max(outputs.data, 1)\n",
    "        total_train += labels.size(0)\n",
    "        correct_train += (predicted == labels).sum().item()\n",
    "    \n",
    "    with torch.no_grad():\n",
    "        net.eval()\n",
    "        for images, labels in baseline_testloader:\n",
    "            images, labels = images.to(device), labels.to(device)\n",
    "            outputs = net(images)\n",
    "            _, predicted = torch.max(outputs.data, 1)\n",
    "            total += labels.size(0)\n",
    "            correct += (predicted == labels).sum().item()\n",
    "    \n",
    "    # calculate and print average loss for current epoch\n",
    "    average_loss = running_loss / len(custom_trainloader)\n",
    "    \n",
    "    print(f'\\nEpoch {epoch + 1} - Loss: {average_loss:.3f} - Test Accuracy: {100 * correct / total: .3f}')    \n",
    "    \n",
    "    scheduler.step()\n",
    "    end_time = time.time()\n",
    "    print(f'\\nProcessing time: {(end_time - start_time): 3f} seconds.')\n",
    "\n",
    "print('Finished Training')\n",
    "\n",
    "# Save the trained model\n",
    "PATH = '/kaggle/working/cifar_net_ta_pytorch_100.pth'\n",
    "torch.save(net.state_dict(), PATH)"
   ]
  },
  {
   "cell_type": "markdown",
   "id": "591323a4",
   "metadata": {
    "papermill": {
     "duration": 0.021637,
     "end_time": "2024-08-22T17:29:51.825398",
     "exception": false,
     "start_time": "2024-08-22T17:29:51.803761",
     "status": "completed"
    },
    "tags": []
   },
   "source": [
    "Evaluate the model on Testset"
   ]
  },
  {
   "cell_type": "code",
   "execution_count": 10,
   "id": "48697b63",
   "metadata": {
    "execution": {
     "iopub.execute_input": "2024-08-22T17:29:51.870966Z",
     "iopub.status.busy": "2024-08-22T17:29:51.870646Z",
     "iopub.status.idle": "2024-08-22T17:33:47.743718Z",
     "shell.execute_reply": "2024-08-22T17:33:47.742541Z"
    },
    "papermill": {
     "duration": 235.898625,
     "end_time": "2024-08-22T17:33:47.745667",
     "exception": false,
     "start_time": "2024-08-22T17:29:51.847042",
     "status": "completed"
    },
    "tags": []
   },
   "outputs": [
    {
     "name": "stdout",
     "output_type": "stream",
     "text": [
      "Accuracy of the network on the CIFAR-10 test dataset: 95.47 %\n",
      "Testing on corruption: gaussian_noise\n"
     ]
    },
    {
     "name": "stdout",
     "output_type": "stream",
     "text": [
      "Accuracy of the network on gaussian_noise dataset split 1: 87.71 %\n"
     ]
    },
    {
     "name": "stdout",
     "output_type": "stream",
     "text": [
      "Accuracy of the network on gaussian_noise dataset split 2: 76.16 %\n"
     ]
    },
    {
     "name": "stdout",
     "output_type": "stream",
     "text": [
      "Accuracy of the network on gaussian_noise dataset split 3: 61.06 %\n"
     ]
    },
    {
     "name": "stdout",
     "output_type": "stream",
     "text": [
      "Accuracy of the network on gaussian_noise dataset split 4: 54.58 %\n"
     ]
    },
    {
     "name": "stdout",
     "output_type": "stream",
     "text": [
      "Accuracy of the network on gaussian_noise dataset split 5: 47.41 %\n",
      "Average accuracy for gaussian_noise dataset: 65.38 %\n",
      "Testing on corruption: shot_noise\n"
     ]
    },
    {
     "name": "stdout",
     "output_type": "stream",
     "text": [
      "Accuracy of the network on shot_noise dataset split 1: 90.68 %\n"
     ]
    },
    {
     "name": "stdout",
     "output_type": "stream",
     "text": [
      "Accuracy of the network on shot_noise dataset split 2: 86.08 %\n"
     ]
    },
    {
     "name": "stdout",
     "output_type": "stream",
     "text": [
      "Accuracy of the network on shot_noise dataset split 3: 72.56 %\n"
     ]
    },
    {
     "name": "stdout",
     "output_type": "stream",
     "text": [
      "Accuracy of the network on shot_noise dataset split 4: 65.78 %\n"
     ]
    },
    {
     "name": "stdout",
     "output_type": "stream",
     "text": [
      "Accuracy of the network on shot_noise dataset split 5: 54.69 %\n",
      "Average accuracy for shot_noise dataset: 73.96 %\n",
      "Testing on corruption: impulse_noise\n"
     ]
    },
    {
     "name": "stdout",
     "output_type": "stream",
     "text": [
      "Accuracy of the network on impulse_noise dataset split 1: 92.51 %\n"
     ]
    },
    {
     "name": "stdout",
     "output_type": "stream",
     "text": [
      "Accuracy of the network on impulse_noise dataset split 2: 89.11 %\n"
     ]
    },
    {
     "name": "stdout",
     "output_type": "stream",
     "text": [
      "Accuracy of the network on impulse_noise dataset split 3: 84.33 %\n"
     ]
    },
    {
     "name": "stdout",
     "output_type": "stream",
     "text": [
      "Accuracy of the network on impulse_noise dataset split 4: 67.69 %\n"
     ]
    },
    {
     "name": "stdout",
     "output_type": "stream",
     "text": [
      "Accuracy of the network on impulse_noise dataset split 5: 48.54 %\n",
      "Average accuracy for impulse_noise dataset: 76.44 %\n",
      "Testing on corruption: defocus_blur\n"
     ]
    },
    {
     "name": "stdout",
     "output_type": "stream",
     "text": [
      "Accuracy of the network on defocus_blur dataset split 1: 95.31 %\n"
     ]
    },
    {
     "name": "stdout",
     "output_type": "stream",
     "text": [
      "Accuracy of the network on defocus_blur dataset split 2: 94.76 %\n"
     ]
    },
    {
     "name": "stdout",
     "output_type": "stream",
     "text": [
      "Accuracy of the network on defocus_blur dataset split 3: 93.63 %\n"
     ]
    },
    {
     "name": "stdout",
     "output_type": "stream",
     "text": [
      "Accuracy of the network on defocus_blur dataset split 4: 91.55 %\n"
     ]
    },
    {
     "name": "stdout",
     "output_type": "stream",
     "text": [
      "Accuracy of the network on defocus_blur dataset split 5: 86.42 %\n",
      "Average accuracy for defocus_blur dataset: 92.33 %\n",
      "Testing on corruption: glass_blur\n"
     ]
    },
    {
     "name": "stdout",
     "output_type": "stream",
     "text": [
      "Accuracy of the network on glass_blur dataset split 1: 80.67 %\n"
     ]
    },
    {
     "name": "stdout",
     "output_type": "stream",
     "text": [
      "Accuracy of the network on glass_blur dataset split 2: 81.54 %\n"
     ]
    },
    {
     "name": "stdout",
     "output_type": "stream",
     "text": [
      "Accuracy of the network on glass_blur dataset split 3: 83.62 %\n"
     ]
    },
    {
     "name": "stdout",
     "output_type": "stream",
     "text": [
      "Accuracy of the network on glass_blur dataset split 4: 67.68 %\n"
     ]
    },
    {
     "name": "stdout",
     "output_type": "stream",
     "text": [
      "Accuracy of the network on glass_blur dataset split 5: 70.65 %\n",
      "Average accuracy for glass_blur dataset: 76.83 %\n",
      "Testing on corruption: motion_blur\n"
     ]
    },
    {
     "name": "stdout",
     "output_type": "stream",
     "text": [
      "Accuracy of the network on motion_blur dataset split 1: 93.64 %\n"
     ]
    },
    {
     "name": "stdout",
     "output_type": "stream",
     "text": [
      "Accuracy of the network on motion_blur dataset split 2: 90.81 %\n"
     ]
    },
    {
     "name": "stdout",
     "output_type": "stream",
     "text": [
      "Accuracy of the network on motion_blur dataset split 3: 86.30 %\n"
     ]
    },
    {
     "name": "stdout",
     "output_type": "stream",
     "text": [
      "Accuracy of the network on motion_blur dataset split 4: 86.59 %\n"
     ]
    },
    {
     "name": "stdout",
     "output_type": "stream",
     "text": [
      "Accuracy of the network on motion_blur dataset split 5: 81.61 %\n",
      "Average accuracy for motion_blur dataset: 87.79 %\n",
      "Testing on corruption: zoom_blur\n"
     ]
    },
    {
     "name": "stdout",
     "output_type": "stream",
     "text": [
      "Accuracy of the network on zoom_blur dataset split 1: 92.70 %\n"
     ]
    },
    {
     "name": "stdout",
     "output_type": "stream",
     "text": [
      "Accuracy of the network on zoom_blur dataset split 2: 92.94 %\n"
     ]
    },
    {
     "name": "stdout",
     "output_type": "stream",
     "text": [
      "Accuracy of the network on zoom_blur dataset split 3: 91.71 %\n"
     ]
    },
    {
     "name": "stdout",
     "output_type": "stream",
     "text": [
      "Accuracy of the network on zoom_blur dataset split 4: 90.54 %\n"
     ]
    },
    {
     "name": "stdout",
     "output_type": "stream",
     "text": [
      "Accuracy of the network on zoom_blur dataset split 5: 87.42 %\n",
      "Average accuracy for zoom_blur dataset: 91.06 %\n",
      "Testing on corruption: snow\n"
     ]
    },
    {
     "name": "stdout",
     "output_type": "stream",
     "text": [
      "Accuracy of the network on snow dataset split 1: 92.86 %\n"
     ]
    },
    {
     "name": "stdout",
     "output_type": "stream",
     "text": [
      "Accuracy of the network on snow dataset split 2: 87.98 %\n"
     ]
    },
    {
     "name": "stdout",
     "output_type": "stream",
     "text": [
      "Accuracy of the network on snow dataset split 3: 88.02 %\n"
     ]
    },
    {
     "name": "stdout",
     "output_type": "stream",
     "text": [
      "Accuracy of the network on snow dataset split 4: 85.85 %\n"
     ]
    },
    {
     "name": "stdout",
     "output_type": "stream",
     "text": [
      "Accuracy of the network on snow dataset split 5: 83.68 %\n",
      "Average accuracy for snow dataset: 87.68 %\n",
      "Testing on corruption: frost\n"
     ]
    },
    {
     "name": "stdout",
     "output_type": "stream",
     "text": [
      "Accuracy of the network on frost dataset split 1: 93.08 %\n"
     ]
    },
    {
     "name": "stdout",
     "output_type": "stream",
     "text": [
      "Accuracy of the network on frost dataset split 2: 89.78 %\n"
     ]
    },
    {
     "name": "stdout",
     "output_type": "stream",
     "text": [
      "Accuracy of the network on frost dataset split 3: 83.42 %\n"
     ]
    },
    {
     "name": "stdout",
     "output_type": "stream",
     "text": [
      "Accuracy of the network on frost dataset split 4: 82.19 %\n"
     ]
    },
    {
     "name": "stdout",
     "output_type": "stream",
     "text": [
      "Accuracy of the network on frost dataset split 5: 74.14 %\n",
      "Average accuracy for frost dataset: 84.52 %\n",
      "Testing on corruption: fog\n"
     ]
    },
    {
     "name": "stdout",
     "output_type": "stream",
     "text": [
      "Accuracy of the network on fog dataset split 1: 95.46 %\n"
     ]
    },
    {
     "name": "stdout",
     "output_type": "stream",
     "text": [
      "Accuracy of the network on fog dataset split 2: 95.10 %\n"
     ]
    },
    {
     "name": "stdout",
     "output_type": "stream",
     "text": [
      "Accuracy of the network on fog dataset split 3: 94.60 %\n"
     ]
    },
    {
     "name": "stdout",
     "output_type": "stream",
     "text": [
      "Accuracy of the network on fog dataset split 4: 93.29 %\n"
     ]
    },
    {
     "name": "stdout",
     "output_type": "stream",
     "text": [
      "Accuracy of the network on fog dataset split 5: 86.85 %\n",
      "Average accuracy for fog dataset: 93.06 %\n",
      "Testing on corruption: brightness\n"
     ]
    },
    {
     "name": "stdout",
     "output_type": "stream",
     "text": [
      "Accuracy of the network on brightness dataset split 1: 95.47 %\n"
     ]
    },
    {
     "name": "stdout",
     "output_type": "stream",
     "text": [
      "Accuracy of the network on brightness dataset split 2: 95.23 %\n"
     ]
    },
    {
     "name": "stdout",
     "output_type": "stream",
     "text": [
      "Accuracy of the network on brightness dataset split 3: 94.92 %\n"
     ]
    },
    {
     "name": "stdout",
     "output_type": "stream",
     "text": [
      "Accuracy of the network on brightness dataset split 4: 94.56 %\n"
     ]
    },
    {
     "name": "stdout",
     "output_type": "stream",
     "text": [
      "Accuracy of the network on brightness dataset split 5: 93.93 %\n",
      "Average accuracy for brightness dataset: 94.82 %\n",
      "Testing on corruption: contrast\n"
     ]
    },
    {
     "name": "stdout",
     "output_type": "stream",
     "text": [
      "Accuracy of the network on contrast dataset split 1: 95.51 %\n"
     ]
    },
    {
     "name": "stdout",
     "output_type": "stream",
     "text": [
      "Accuracy of the network on contrast dataset split 2: 94.51 %\n"
     ]
    },
    {
     "name": "stdout",
     "output_type": "stream",
     "text": [
      "Accuracy of the network on contrast dataset split 3: 93.79 %\n"
     ]
    },
    {
     "name": "stdout",
     "output_type": "stream",
     "text": [
      "Accuracy of the network on contrast dataset split 4: 92.59 %\n"
     ]
    },
    {
     "name": "stdout",
     "output_type": "stream",
     "text": [
      "Accuracy of the network on contrast dataset split 5: 87.84 %\n",
      "Average accuracy for contrast dataset: 92.85 %\n",
      "Testing on corruption: elastic_transform\n"
     ]
    },
    {
     "name": "stdout",
     "output_type": "stream",
     "text": [
      "Accuracy of the network on elastic_transform dataset split 1: 92.84 %\n"
     ]
    },
    {
     "name": "stdout",
     "output_type": "stream",
     "text": [
      "Accuracy of the network on elastic_transform dataset split 2: 92.86 %\n"
     ]
    },
    {
     "name": "stdout",
     "output_type": "stream",
     "text": [
      "Accuracy of the network on elastic_transform dataset split 3: 91.58 %\n"
     ]
    },
    {
     "name": "stdout",
     "output_type": "stream",
     "text": [
      "Accuracy of the network on elastic_transform dataset split 4: 86.12 %\n"
     ]
    },
    {
     "name": "stdout",
     "output_type": "stream",
     "text": [
      "Accuracy of the network on elastic_transform dataset split 5: 79.45 %\n",
      "Average accuracy for elastic_transform dataset: 88.57 %\n",
      "Testing on corruption: pixelate\n"
     ]
    },
    {
     "name": "stdout",
     "output_type": "stream",
     "text": [
      "Accuracy of the network on pixelate dataset split 1: 93.91 %\n"
     ]
    },
    {
     "name": "stdout",
     "output_type": "stream",
     "text": [
      "Accuracy of the network on pixelate dataset split 2: 90.30 %\n"
     ]
    },
    {
     "name": "stdout",
     "output_type": "stream",
     "text": [
      "Accuracy of the network on pixelate dataset split 3: 85.55 %\n"
     ]
    },
    {
     "name": "stdout",
     "output_type": "stream",
     "text": [
      "Accuracy of the network on pixelate dataset split 4: 65.37 %\n"
     ]
    },
    {
     "name": "stdout",
     "output_type": "stream",
     "text": [
      "Accuracy of the network on pixelate dataset split 5: 46.29 %\n",
      "Average accuracy for pixelate dataset: 76.28 %\n",
      "Testing on corruption: jpeg_compression\n"
     ]
    },
    {
     "name": "stdout",
     "output_type": "stream",
     "text": [
      "Accuracy of the network on jpeg_compression dataset split 1: 89.91 %\n"
     ]
    },
    {
     "name": "stdout",
     "output_type": "stream",
     "text": [
      "Accuracy of the network on jpeg_compression dataset split 2: 85.47 %\n"
     ]
    },
    {
     "name": "stdout",
     "output_type": "stream",
     "text": [
      "Accuracy of the network on jpeg_compression dataset split 3: 83.94 %\n"
     ]
    },
    {
     "name": "stdout",
     "output_type": "stream",
     "text": [
      "Accuracy of the network on jpeg_compression dataset split 4: 81.26 %\n"
     ]
    },
    {
     "name": "stdout",
     "output_type": "stream",
     "text": [
      "Accuracy of the network on jpeg_compression dataset split 5: 78.53 %\n",
      "Average accuracy for jpeg_compression dataset: 83.82 %\n",
      "Testing on corruption: speckle_noise\n"
     ]
    },
    {
     "name": "stdout",
     "output_type": "stream",
     "text": [
      "Accuracy of the network on speckle_noise dataset split 1: 90.64 %\n"
     ]
    },
    {
     "name": "stdout",
     "output_type": "stream",
     "text": [
      "Accuracy of the network on speckle_noise dataset split 2: 82.90 %\n"
     ]
    },
    {
     "name": "stdout",
     "output_type": "stream",
     "text": [
      "Accuracy of the network on speckle_noise dataset split 3: 78.72 %\n"
     ]
    },
    {
     "name": "stdout",
     "output_type": "stream",
     "text": [
      "Accuracy of the network on speckle_noise dataset split 4: 68.23 %\n"
     ]
    },
    {
     "name": "stdout",
     "output_type": "stream",
     "text": [
      "Accuracy of the network on speckle_noise dataset split 5: 57.99 %\n",
      "Average accuracy for speckle_noise dataset: 75.70 %\n",
      "Testing on corruption: gaussian_blur\n"
     ]
    },
    {
     "name": "stdout",
     "output_type": "stream",
     "text": [
      "Accuracy of the network on gaussian_blur dataset split 1: 95.32 %\n"
     ]
    },
    {
     "name": "stdout",
     "output_type": "stream",
     "text": [
      "Accuracy of the network on gaussian_blur dataset split 2: 93.60 %\n"
     ]
    },
    {
     "name": "stdout",
     "output_type": "stream",
     "text": [
      "Accuracy of the network on gaussian_blur dataset split 3: 92.23 %\n"
     ]
    },
    {
     "name": "stdout",
     "output_type": "stream",
     "text": [
      "Accuracy of the network on gaussian_blur dataset split 4: 89.82 %\n"
     ]
    },
    {
     "name": "stdout",
     "output_type": "stream",
     "text": [
      "Accuracy of the network on gaussian_blur dataset split 5: 83.27 %\n",
      "Average accuracy for gaussian_blur dataset: 90.85 %\n",
      "Testing on corruption: spatter\n"
     ]
    },
    {
     "name": "stdout",
     "output_type": "stream",
     "text": [
      "Accuracy of the network on spatter dataset split 1: 94.19 %\n"
     ]
    },
    {
     "name": "stdout",
     "output_type": "stream",
     "text": [
      "Accuracy of the network on spatter dataset split 2: 91.80 %\n"
     ]
    },
    {
     "name": "stdout",
     "output_type": "stream",
     "text": [
      "Accuracy of the network on spatter dataset split 3: 87.77 %\n"
     ]
    },
    {
     "name": "stdout",
     "output_type": "stream",
     "text": [
      "Accuracy of the network on spatter dataset split 4: 92.29 %\n"
     ]
    },
    {
     "name": "stdout",
     "output_type": "stream",
     "text": [
      "Accuracy of the network on spatter dataset split 5: 88.32 %\n",
      "Average accuracy for spatter dataset: 90.87 %\n",
      "Testing on corruption: saturate\n"
     ]
    },
    {
     "name": "stdout",
     "output_type": "stream",
     "text": [
      "Accuracy of the network on saturate dataset split 1: 94.09 %\n"
     ]
    },
    {
     "name": "stdout",
     "output_type": "stream",
     "text": [
      "Accuracy of the network on saturate dataset split 2: 92.00 %\n"
     ]
    },
    {
     "name": "stdout",
     "output_type": "stream",
     "text": [
      "Accuracy of the network on saturate dataset split 3: 94.94 %\n"
     ]
    },
    {
     "name": "stdout",
     "output_type": "stream",
     "text": [
      "Accuracy of the network on saturate dataset split 4: 93.81 %\n"
     ]
    },
    {
     "name": "stdout",
     "output_type": "stream",
     "text": [
      "Accuracy of the network on saturate dataset split 5: 92.15 %\n",
      "Average accuracy for saturate dataset: 93.40 %\n",
      "Average Robust Accuracy: 85.06 %\n"
     ]
    }
   ],
   "source": [
    "import torch\n",
    "import numpy as np\n",
    "\n",
    "# Evaluate the CIFAR-10 dataset\n",
    "correct = 0\n",
    "total = 0\n",
    "\n",
    "with torch.no_grad():\n",
    "    net.eval()\n",
    "    for images, labels in baseline_testloader:\n",
    "        images, labels = images.to(device), labels.to(device)\n",
    "        outputs = net(images)\n",
    "        _, predicted = torch.max(outputs.data, 1)\n",
    "        total += labels.size(0)\n",
    "        correct += (predicted == labels).sum().item()\n",
    "\n",
    "    if total == 0:\n",
    "        print('No images found for CIFAR-10 dataset.')\n",
    "    else:\n",
    "        cifar10_accuracy = 100 * correct / total\n",
    "        print(f'Accuracy of the network on the CIFAR-10 test dataset: {cifar10_accuracy:.2f} %')\n",
    "\n",
    "if not tpu:\n",
    "    # Clear GPU memory\n",
    "    torch.cuda.empty_cache()\n",
    "\n",
    "    # Clear CPU memory\n",
    "    torch.cuda.ipc_collect()\n",
    "\n",
    "# Define the list of corruptions\n",
    "corruptions = ['gaussian_noise', 'shot_noise', 'impulse_noise', 'defocus_blur', 'glass_blur', \n",
    "               'motion_blur', 'zoom_blur', 'snow', 'frost', 'fog', 'brightness', \n",
    "               'contrast', 'elastic_transform', 'pixelate', 'jpeg_compression', \n",
    "               'speckle_noise', 'gaussian_blur', 'spatter', 'saturate']\n",
    "\n",
    "# Define the batch size\n",
    "batch_size = 256 \n",
    "\n",
    "# Create an empty dictionary to store corrupted datasets\n",
    "corrupted_datasets = {}\n",
    "\n",
    "# Prepare to count predictions for each class\n",
    "correct_pred = {classname: 0 for classname in classes}\n",
    "total_pred = {classname: 0 for classname in classes}\n",
    "\n",
    "# List to store average accuracies for each corruption dataset\n",
    "average_accuracies = []\n",
    "\n",
    "# Loop over corruptions, loading and testing all 5 severity levels of each corruption dataset\n",
    "for corruption in corruptions:\n",
    "    print(f\"Testing on corruption: {corruption}\")\n",
    "\n",
    "    # Load and test datasets for all 5 severity levels of the current corruption\n",
    "    try:\n",
    "        np_data_c = np.load(f'/kaggle/input/cifar-c/CIFAR-10-C/{corruption}.npy')\n",
    "        np_data_c_splits = np.array_split(np_data_c, 5)\n",
    "        \n",
    "        # List to store accuracies of all severity levels for averaging\n",
    "        accuracies = []\n",
    "\n",
    "        for i, np_data_c_split in enumerate(np_data_c_splits):\n",
    "            custom_dataset = CustomDataset(np_data_c_split, baseline_testset, resize=True)\n",
    "            custom_dataloader = torch.utils.data.DataLoader(custom_dataset, batch_size=batch_size, shuffle=False)\n",
    "\n",
    "            # Testing loop for the current corruption dataset split\n",
    "            correct = 0\n",
    "            total = 0\n",
    "\n",
    "            with torch.no_grad():\n",
    "                images_loaded = 0  # Counter for images loaded for the current corruption\n",
    "                for images, labels in custom_dataloader:\n",
    "                    images_loaded += len(images)  # Increment the counter by the number of images loaded\n",
    "                    images, labels = images.to(device), labels.to(device)\n",
    "                    # Calculate outputs by running images through the network\n",
    "                    outputs = net(images)\n",
    "                    # The class with the highest energy is chosen as prediction\n",
    "                    _, predicted = torch.max(outputs.data, 1)\n",
    "                    total += labels.size(0)\n",
    "                    correct += (predicted == labels).sum().item()\n",
    "\n",
    "                if total == 0:\n",
    "                    print(f'No images found for {corruption} dataset split {i+1}.')\n",
    "                else:\n",
    "                    accuracy = 100 * correct / total\n",
    "                    print(f'Accuracy of the network on {corruption} dataset split {i+1}: {accuracy:.2f} %')\n",
    "                    accuracies.append(accuracy)\n",
    "\n",
    "                # Print the number of images loaded for the current corruption dataset split\n",
    "                #print(f\"Images loaded for {corruption} dataset split {i+1}: {images_loaded}\")\n",
    "                \n",
    "                if not tpu:\n",
    "                    # Clear GPU memory\n",
    "                    torch.cuda.empty_cache()\n",
    "                    # Clear CPU memory\n",
    "                    torch.cuda.ipc_collect()\n",
    "\n",
    "                # Delete variables to free up memory\n",
    "                del custom_dataset\n",
    "                del custom_dataloader\n",
    "\n",
    "        # Calculate and print the average accuracy for the corruption dataset\n",
    "        if accuracies:\n",
    "            average_accuracy = sum(accuracies) / len(accuracies)\n",
    "            average_accuracies.append(average_accuracy)\n",
    "            print(f'Average accuracy for {corruption} dataset: {average_accuracy:.2f} %')\n",
    "\n",
    "    except FileNotFoundError:\n",
    "        print(f'Corruption {corruption} dataset not found.')\n",
    "        continue\n",
    "\n",
    "# Calculate and print the average robust accuracy\n",
    "if average_accuracies:\n",
    "    average_robust_accuracy = sum(average_accuracies) / len(average_accuracies)\n",
    "    print(f'Average Robust Accuracy: {average_robust_accuracy:.2f} %')\n",
    "else:\n",
    "    print(\"No corrupt datasets found for evaluation.\")"
   ]
  },
  {
   "cell_type": "markdown",
   "id": "49403cbf",
   "metadata": {
    "papermill": {
     "duration": 0.027064,
     "end_time": "2024-08-22T17:33:47.801107",
     "exception": false,
     "start_time": "2024-08-22T17:33:47.774043",
     "status": "completed"
    },
    "tags": []
   },
   "source": [
    "TA (soft) Trained (Latest: accuracy=95.60%)"
   ]
  },
  {
   "cell_type": "code",
   "execution_count": 11,
   "id": "e2f8a403",
   "metadata": {
    "execution": {
     "iopub.execute_input": "2024-08-22T17:33:47.857955Z",
     "iopub.status.busy": "2024-08-22T17:33:47.857529Z",
     "iopub.status.idle": "2024-08-22T17:33:47.865587Z",
     "shell.execute_reply": "2024-08-22T17:33:47.864763Z"
    },
    "papermill": {
     "duration": 0.040812,
     "end_time": "2024-08-22T17:33:47.868740",
     "exception": false,
     "start_time": "2024-08-22T17:33:47.827928",
     "status": "completed"
    },
    "tags": []
   },
   "outputs": [],
   "source": [
    "# # Load the model checkpoint\n",
    "# net = WideResNet_28_4(num_classes=10)\n",
    "# checkpoint_path = '/kaggle/working/MasterArbeit/models/cifar_net_exp003_tpu.pth'\n",
    "# checkpoint = torch.load(checkpoint_path)\n",
    "# net.load_state_dict(checkpoint, strict=False)\n",
    "# net.to(device)\n",
    "\n",
    "# # Evaluate the CIFAR-10 dataset\n",
    "# correct = 0\n",
    "# total = 0\n",
    "\n",
    "# with torch.no_grad():\n",
    "#     net.eval()\n",
    "#     for images, labels in baseline_testloader:\n",
    "#         images, labels = images.to(device), labels.to(device)\n",
    "#         outputs = net(images)\n",
    "#         _, predicted = torch.max(outputs.data, 1)\n",
    "#         total += labels.size(0)\n",
    "#         correct += (predicted == labels).sum().item()\n",
    "\n",
    "#     if total == 0:\n",
    "#         print('No images found for CIFAR-10 dataset.')\n",
    "#     else:\n",
    "#         cifar10_accuracy = 100 * correct / total\n",
    "#         print(f'Accuracy of the network on the CIFAR-10 test dataset: {cifar10_accuracy:.2f} %')\n",
    "\n",
    "# if not tpu:\n",
    "#     # Clear GPU memory\n",
    "#     torch.cuda.empty_cache()\n",
    "\n",
    "#     # Clear CPU memory\n",
    "#     torch.cuda.ipc_collect()\n",
    "\n",
    "# # Define the list of corruptions\n",
    "# corruptions = ['gaussian_noise', 'shot_noise', 'impulse_noise', 'defocus_blur', 'glass_blur', \n",
    "#                'motion_blur', 'zoom_blur', 'snow', 'frost', 'fog', 'brightness', \n",
    "#                'contrast', 'elastic_transform', 'pixelate', 'jpeg_compression', \n",
    "#                'speckle_noise', 'gaussian_blur', 'spatter', 'saturate']\n",
    "\n",
    "# # Define the batch size\n",
    "# batch_size = 256 \n",
    "\n",
    "# # Create an empty dictionary to store corrupted datasets\n",
    "# corrupted_datasets = {}\n",
    "\n",
    "# # Prepare to count predictions for each class\n",
    "# correct_pred = {classname: 0 for classname in classes}\n",
    "# total_pred = {classname: 0 for classname in classes}\n",
    "\n",
    "# # List to store average accuracies for each corruption dataset\n",
    "# average_accuracies = []\n",
    "\n",
    "# # Loop over corruptions, loading and testing all 5 severity levels of each corruption dataset\n",
    "# for corruption in corruptions:\n",
    "#     print(f\"Testing on corruption: {corruption}\")\n",
    "\n",
    "#     # Load and test datasets for all 5 severity levels of the current corruption\n",
    "#     try:\n",
    "#         np_data_c = np.load(f'/kaggle/input/cifar-c/CIFAR-10-C/{corruption}.npy')\n",
    "#         np_data_c_splits = np.array_split(np_data_c, 5)\n",
    "        \n",
    "#         # List to store accuracies of all severity levels for averaging\n",
    "#         accuracies = []\n",
    "\n",
    "#         for i, np_data_c_split in enumerate(np_data_c_splits):\n",
    "#             custom_dataset = CustomDataset(np_data_c_split, baseline_testset, resize=True)\n",
    "#             custom_dataloader = torch.utils.data.DataLoader(custom_dataset, batch_size=batch_size, shuffle=False)\n",
    "\n",
    "#             # Testing loop for the current corruption dataset split\n",
    "#             correct = 0\n",
    "#             total = 0\n",
    "\n",
    "#             with torch.no_grad():\n",
    "#                 images_loaded = 0  # Counter for images loaded for the current corruption\n",
    "#                 for images, labels in custom_dataloader:\n",
    "#                     images_loaded += len(images)  # Increment the counter by the number of images loaded\n",
    "#                     images, labels = images.to(device), labels.to(device)\n",
    "#                     # Calculate outputs by running images through the network\n",
    "#                     outputs = net(images)\n",
    "#                     # The class with the highest energy is chosen as prediction\n",
    "#                     _, predicted = torch.max(outputs.data, 1)\n",
    "#                     total += labels.size(0)\n",
    "#                     correct += (predicted == labels).sum().item()\n",
    "\n",
    "#                 if total == 0:\n",
    "#                     print(f'No images found for {corruption} dataset split {i+1}.')\n",
    "#                 else:\n",
    "#                     accuracy = 100 * correct / total\n",
    "#                     print(f'Accuracy of the network on {corruption} dataset split {i+1}: {accuracy:.2f} %')\n",
    "#                     accuracies.append(accuracy)\n",
    "\n",
    "#                 # Print the number of images loaded for the current corruption dataset split\n",
    "#                 #print(f\"Images loaded for {corruption} dataset split {i+1}: {images_loaded}\")\n",
    "                \n",
    "#                 if not tpu:\n",
    "#                     # Clear GPU memory\n",
    "#                     torch.cuda.empty_cache()\n",
    "#                     # Clear CPU memory\n",
    "#                     torch.cuda.ipc_collect()\n",
    "\n",
    "#                 # Delete variables to free up memory\n",
    "#                 del custom_dataset\n",
    "#                 del custom_dataloader\n",
    "\n",
    "#         # Calculate and print the average accuracy for the corruption dataset\n",
    "#         if accuracies:\n",
    "#             average_accuracy = sum(accuracies) / len(accuracies)\n",
    "#             average_accuracies.append(average_accuracy)\n",
    "#             print(f'Average accuracy for {corruption} dataset: {average_accuracy:.2f} %')\n",
    "\n",
    "#     except FileNotFoundError:\n",
    "#         print(f'Corruption {corruption} dataset not found.')\n",
    "#         continue\n",
    "\n",
    "# # Calculate and print the average robust accuracy\n",
    "# if average_accuracies:\n",
    "#     average_robust_accuracy = sum(average_accuracies) / len(average_accuracies)\n",
    "#     print(f'Average Robust Accuracy: {average_robust_accuracy:.2f} %')\n",
    "# else:\n",
    "#     print(\"No corrupt datasets found for evaluation.\")\n",
    "\n",
    "\n"
   ]
  },
  {
   "cell_type": "markdown",
   "id": "fb6aecdc",
   "metadata": {
    "papermill": {
     "duration": 0.028532,
     "end_time": "2024-08-22T17:33:47.930644",
     "exception": false,
     "start_time": "2024-08-22T17:33:47.902112",
     "status": "completed"
    },
    "tags": []
   },
   "source": [
    "Baseline Model (without TA)"
   ]
  },
  {
   "cell_type": "code",
   "execution_count": 12,
   "id": "e7759fc0",
   "metadata": {
    "execution": {
     "iopub.execute_input": "2024-08-22T17:33:47.988944Z",
     "iopub.status.busy": "2024-08-22T17:33:47.988551Z",
     "iopub.status.idle": "2024-08-22T17:33:47.995727Z",
     "shell.execute_reply": "2024-08-22T17:33:47.994916Z"
    },
    "papermill": {
     "duration": 0.037929,
     "end_time": "2024-08-22T17:33:47.997445",
     "exception": false,
     "start_time": "2024-08-22T17:33:47.959516",
     "status": "completed"
    },
    "tags": []
   },
   "outputs": [],
   "source": [
    "# # Load the model checkpoint\n",
    "# net = WideResNet_28_4(num_classes=10)\n",
    "# checkpoint_path = '/kaggle/working/MasterArbeit/models/cifar_net_baseline.pth'\n",
    "# checkpoint = torch.load(checkpoint_path)\n",
    "# net.load_state_dict(checkpoint, strict=False)\n",
    "# net.to(device)\n",
    "\n",
    "# # Evaluate the CIFAR-10 dataset\n",
    "# correct = 0\n",
    "# total = 0\n",
    "\n",
    "# with torch.no_grad():\n",
    "#     net.eval()\n",
    "#     for images, labels in baseline_testloader:\n",
    "#         images, labels = images.to(device), labels.to(device)\n",
    "#         outputs = net(images)\n",
    "#         _, predicted = torch.max(outputs.data, 1)\n",
    "#         total += labels.size(0)\n",
    "#         correct += (predicted == labels).sum().item()\n",
    "\n",
    "#     if total == 0:\n",
    "#         print('No images found for CIFAR-10 dataset.')\n",
    "#     else:\n",
    "#         cifar10_accuracy = 100 * correct / total\n",
    "#         print(f'Accuracy of the network on the CIFAR-10 test dataset: {cifar10_accuracy:.2f} %')\n",
    "\n",
    "# if not tpu:\n",
    "#     # Clear GPU memory\n",
    "#     torch.cuda.empty_cache()\n",
    "\n",
    "#     # Clear CPU memory\n",
    "#     torch.cuda.ipc_collect()\n",
    "\n",
    "# # Define the list of corruptions\n",
    "# corruptions = ['gaussian_noise', 'shot_noise', 'impulse_noise', 'defocus_blur', 'glass_blur', \n",
    "#                'motion_blur', 'zoom_blur', 'snow', 'frost', 'fog', 'brightness', \n",
    "#                'contrast', 'elastic_transform', 'pixelate', 'jpeg_compression', \n",
    "#                'speckle_noise', 'gaussian_blur', 'spatter', 'saturate']\n",
    "\n",
    "# # Define the batch size\n",
    "# batch_size = 256 \n",
    "\n",
    "# # Create an empty dictionary to store corrupted datasets\n",
    "# corrupted_datasets = {}\n",
    "\n",
    "# # Prepare to count predictions for each class\n",
    "# correct_pred = {classname: 0 for classname in classes}\n",
    "# total_pred = {classname: 0 for classname in classes}\n",
    "\n",
    "# # List to store average accuracies for each corruption dataset\n",
    "# average_accuracies = []\n",
    "\n",
    "# # Loop over corruptions, loading and testing all 5 severity levels of each corruption dataset\n",
    "# for corruption in corruptions:\n",
    "#     print(f\"Testing on corruption: {corruption}\")\n",
    "\n",
    "#     # Load and test datasets for all 5 severity levels of the current corruption\n",
    "#     try:\n",
    "#         np_data_c = np.load(f'/kaggle/input/cifar-c/CIFAR-10-C/{corruption}.npy')\n",
    "#         np_data_c_splits = np.array_split(np_data_c, 5)\n",
    "        \n",
    "#         # List to store accuracies of all severity levels for averaging\n",
    "#         accuracies = []\n",
    "\n",
    "#         for i, np_data_c_split in enumerate(np_data_c_splits):\n",
    "#             custom_dataset = CustomDataset(np_data_c_split, baseline_testset, resize=True)\n",
    "#             custom_dataloader = torch.utils.data.DataLoader(custom_dataset, batch_size=batch_size, shuffle=False)\n",
    "\n",
    "#             # Testing loop for the current corruption dataset split\n",
    "#             correct = 0\n",
    "#             total = 0\n",
    "\n",
    "#             with torch.no_grad():\n",
    "#                 images_loaded = 0  # Counter for images loaded for the current corruption\n",
    "#                 for images, labels in custom_dataloader:\n",
    "#                     images_loaded += len(images)  # Increment the counter by the number of images loaded\n",
    "#                     images, labels = images.to(device), labels.to(device)\n",
    "#                     # Calculate outputs by running images through the network\n",
    "#                     outputs = net(images)\n",
    "#                     # The class with the highest energy is chosen as prediction\n",
    "#                     _, predicted = torch.max(outputs.data, 1)\n",
    "#                     total += labels.size(0)\n",
    "#                     correct += (predicted == labels).sum().item()\n",
    "\n",
    "#                 if total == 0:\n",
    "#                     print(f'No images found for {corruption} dataset split {i+1}.')\n",
    "#                 else:\n",
    "#                     accuracy = 100 * correct / total\n",
    "#                     print(f'Accuracy of the network on {corruption} dataset split {i+1}: {accuracy:.2f} %')\n",
    "#                     accuracies.append(accuracy)\n",
    "\n",
    "#                 # Print the number of images loaded for the current corruption dataset split\n",
    "#                 #print(f\"Images loaded for {corruption} dataset split {i+1}: {images_loaded}\")\n",
    "                \n",
    "#                 if not tpu:\n",
    "#                     # Clear GPU memory\n",
    "#                     torch.cuda.empty_cache()\n",
    "#                     # Clear CPU memory\n",
    "#                     torch.cuda.ipc_collect()\n",
    "\n",
    "#                 # Delete variables to free up memory\n",
    "#                 del custom_dataset\n",
    "#                 del custom_dataloader\n",
    "\n",
    "#         # Calculate and print the average accuracy for the corruption dataset\n",
    "#         if accuracies:\n",
    "#             average_accuracy = sum(accuracies) / len(accuracies)\n",
    "#             average_accuracies.append(average_accuracy)\n",
    "#             print(f'Average accuracy for {corruption} dataset: {average_accuracy:.2f} %')\n",
    "\n",
    "#     except FileNotFoundError:\n",
    "#         print(f'Corruption {corruption} dataset not found.')\n",
    "#         continue\n",
    "\n",
    "# # Calculate and print the average robust accuracy\n",
    "# if average_accuracies:\n",
    "#     average_robust_accuracy = sum(average_accuracies) / len(average_accuracies)\n",
    "#     print(f'Average Robust Accuracy: {average_robust_accuracy:.2f} %')\n",
    "# else:\n",
    "#     print(\"No corrupt datasets found for evaluation.\")"
   ]
  },
  {
   "cell_type": "markdown",
   "id": "6a6c987c",
   "metadata": {
    "papermill": {
     "duration": 0.030076,
     "end_time": "2024-08-22T17:33:48.055765",
     "exception": false,
     "start_time": "2024-08-22T17:33:48.025689",
     "status": "completed"
    },
    "tags": []
   },
   "source": [
    "Baseline (TA trained)"
   ]
  },
  {
   "cell_type": "code",
   "execution_count": 13,
   "id": "9afba59d",
   "metadata": {
    "execution": {
     "iopub.execute_input": "2024-08-22T17:33:48.116240Z",
     "iopub.status.busy": "2024-08-22T17:33:48.115405Z",
     "iopub.status.idle": "2024-08-22T17:33:48.123866Z",
     "shell.execute_reply": "2024-08-22T17:33:48.122906Z"
    },
    "papermill": {
     "duration": 0.041497,
     "end_time": "2024-08-22T17:33:48.125686",
     "exception": false,
     "start_time": "2024-08-22T17:33:48.084189",
     "status": "completed"
    },
    "tags": []
   },
   "outputs": [],
   "source": [
    "# # Load the model checkpoint\n",
    "# net = WideResNet_28_4(num_classes=10)\n",
    "# checkpoint_path = '/kaggle/working/MasterArbeit/models/cifar_net_ta_baseline.pth'\n",
    "# checkpoint = torch.load(checkpoint_path)\n",
    "# net.load_state_dict(checkpoint, strict=False)\n",
    "# net.to(device)\n",
    "\n",
    "# import torch\n",
    "# import numpy as np\n",
    "\n",
    "\n",
    "# # Evaluate the CIFAR-10 dataset\n",
    "# correct = 0\n",
    "# total = 0\n",
    "\n",
    "# with torch.no_grad():\n",
    "#     net.eval()\n",
    "#     for images, labels in baseline_testloader:\n",
    "#         images, labels = images.to(device), labels.to(device)\n",
    "#         outputs = net(images)\n",
    "#         _, predicted = torch.max(outputs.data, 1)\n",
    "#         total += labels.size(0)\n",
    "#         correct += (predicted == labels).sum().item()\n",
    "\n",
    "#     if total == 0:\n",
    "#         print('No images found for CIFAR-10 dataset.')\n",
    "#     else:\n",
    "#         cifar10_accuracy = 100 * correct / total\n",
    "#         print(f'Accuracy of the network on the CIFAR-10 test dataset: {cifar10_accuracy:.2f} %')\n",
    "\n",
    "# if not tpu:\n",
    "#     # Clear GPU memory\n",
    "#     torch.cuda.empty_cache()\n",
    "\n",
    "#     # Clear CPU memory\n",
    "#     torch.cuda.ipc_collect()\n",
    "\n",
    "# # Define the list of corruptions\n",
    "# corruptions = ['gaussian_noise', 'shot_noise', 'impulse_noise', 'defocus_blur', 'glass_blur', \n",
    "#                'motion_blur', 'zoom_blur', 'snow', 'frost', 'fog', 'brightness', \n",
    "#                'contrast', 'elastic_transform', 'pixelate', 'jpeg_compression', \n",
    "#                'speckle_noise', 'gaussian_blur', 'spatter', 'saturate']\n",
    "\n",
    "# # Define the batch size\n",
    "# batch_size = 256 \n",
    "\n",
    "# # Create an empty dictionary to store corrupted datasets\n",
    "# corrupted_datasets = {}\n",
    "\n",
    "# # Prepare to count predictions for each class\n",
    "# correct_pred = {classname: 0 for classname in classes}\n",
    "# total_pred = {classname: 0 for classname in classes}\n",
    "\n",
    "# # List to store average accuracies for each corruption dataset\n",
    "# average_accuracies = []\n",
    "\n",
    "# # Loop over corruptions, loading and testing all 5 severity levels of each corruption dataset\n",
    "# for corruption in corruptions:\n",
    "#     print(f\"Testing on corruption: {corruption}\")\n",
    "\n",
    "#     # Load and test datasets for all 5 severity levels of the current corruption\n",
    "#     try:\n",
    "#         np_data_c = np.load(f'/kaggle/input/cifar-c/CIFAR-10-C/{corruption}.npy')\n",
    "#         np_data_c_splits = np.array_split(np_data_c, 5)\n",
    "        \n",
    "#         # List to store accuracies of all severity levels for averaging\n",
    "#         accuracies = []\n",
    "\n",
    "#         for i, np_data_c_split in enumerate(np_data_c_splits):\n",
    "#             custom_dataset = CustomDataset(np_data_c_split, baseline_testset, resize=True)\n",
    "#             custom_dataloader = torch.utils.data.DataLoader(custom_dataset, batch_size=batch_size, shuffle=False)\n",
    "\n",
    "#             # Testing loop for the current corruption dataset split\n",
    "#             correct = 0\n",
    "#             total = 0\n",
    "\n",
    "#             with torch.no_grad():\n",
    "#                 images_loaded = 0  # Counter for images loaded for the current corruption\n",
    "#                 for images, labels in custom_dataloader:\n",
    "#                     images_loaded += len(images)  # Increment the counter by the number of images loaded\n",
    "#                     images, labels = images.to(device), labels.to(device)\n",
    "#                     # Calculate outputs by running images through the network\n",
    "#                     outputs = net(images)\n",
    "#                     # The class with the highest energy is chosen as prediction\n",
    "#                     _, predicted = torch.max(outputs.data, 1)\n",
    "#                     total += labels.size(0)\n",
    "#                     correct += (predicted == labels).sum().item()\n",
    "\n",
    "#                 if total == 0:\n",
    "#                     print(f'No images found for {corruption} dataset split {i+1}.')\n",
    "#                 else:\n",
    "#                     accuracy = 100 * correct / total\n",
    "#                     print(f'Accuracy of the network on {corruption} dataset split {i+1}: {accuracy:.2f} %')\n",
    "#                     accuracies.append(accuracy)\n",
    "\n",
    "#                 # Print the number of images loaded for the current corruption dataset split\n",
    "#                 #print(f\"Images loaded for {corruption} dataset split {i+1}: {images_loaded}\")\n",
    "                \n",
    "#                 if not tpu:\n",
    "#                     # Clear GPU memory\n",
    "#                     torch.cuda.empty_cache()\n",
    "#                     # Clear CPU memory\n",
    "#                     torch.cuda.ipc_collect()\n",
    "\n",
    "#                 # Delete variables to free up memory\n",
    "#                 del custom_dataset\n",
    "#                 del custom_dataloader\n",
    "\n",
    "#         # Calculate and print the average accuracy for the corruption dataset\n",
    "#         if accuracies:\n",
    "#             average_accuracy = sum(accuracies) / len(accuracies)\n",
    "#             average_accuracies.append(average_accuracy)\n",
    "#             print(f'Average accuracy for {corruption} dataset: {average_accuracy:.2f} %')\n",
    "\n",
    "#     except FileNotFoundError:\n",
    "#         print(f'Corruption {corruption} dataset not found.')\n",
    "#         continue\n",
    "\n",
    "# # Calculate and print the average robust accuracy\n",
    "# if average_accuracies:\n",
    "#     average_robust_accuracy = sum(average_accuracies) / len(average_accuracies)\n",
    "#     print(f'Average Robust Accuracy: {average_robust_accuracy:.2f} %')\n",
    "# else:\n",
    "#     print(\"No corrupt datasets found for evaluation.\")"
   ]
  }
 ],
 "metadata": {
  "kaggle": {
   "accelerator": "tpu1vmV38",
   "dataSources": [
    {
     "datasetId": 4764421,
     "sourceId": 8073860,
     "sourceType": "datasetVersion"
    },
    {
     "isSourceIdPinned": true,
     "modelId": 101255,
     "modelInstanceId": 76598,
     "sourceId": 91369,
     "sourceType": "modelInstanceVersion"
    }
   ],
   "isGpuEnabled": false,
   "isInternetEnabled": true,
   "language": "python",
   "sourceType": "notebook"
  },
  "kernelspec": {
   "display_name": "Python 3",
   "language": "python",
   "name": "python3"
  },
  "language_info": {
   "codemirror_mode": {
    "name": "ipython",
    "version": 3
   },
   "file_extension": ".py",
   "mimetype": "text/x-python",
   "name": "python",
   "nbconvert_exporter": "python",
   "pygments_lexer": "ipython3",
   "version": "3.10.14"
  },
  "papermill": {
   "default_parameters": {},
   "duration": 3494.71951,
   "end_time": "2024-08-22T17:33:53.375841",
   "environment_variables": {},
   "exception": null,
   "input_path": "__notebook__.ipynb",
   "output_path": "__notebook__.ipynb",
   "parameters": {},
   "start_time": "2024-08-22T16:35:38.656331",
   "version": "2.6.0"
  }
 },
 "nbformat": 4,
 "nbformat_minor": 5
}
