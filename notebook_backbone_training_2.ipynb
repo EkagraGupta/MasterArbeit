{
 "cells": [
  {
   "cell_type": "code",
   "execution_count": 1,
   "id": "3b5d198b",
   "metadata": {
    "execution": {
     "iopub.execute_input": "2024-09-19T10:45:33.557021Z",
     "iopub.status.busy": "2024-09-19T10:45:33.556315Z",
     "iopub.status.idle": "2024-09-19T10:47:01.774856Z",
     "shell.execute_reply": "2024-09-19T10:47:01.774035Z"
    },
    "papermill": {
     "duration": 88.226619,
     "end_time": "2024-09-19T10:47:01.777000",
     "exception": false,
     "start_time": "2024-09-19T10:45:33.550381",
     "status": "completed"
    },
    "tags": []
   },
   "outputs": [
    {
     "name": "stdout",
     "output_type": "stream",
     "text": [
      "Collecting torchmetrics\r\n"
     ]
    },
    {
     "name": "stdout",
     "output_type": "stream",
     "text": [
      "  Downloading torchmetrics-1.4.2-py3-none-any.whl (869 kB)\r\n",
      "\u001b[?25l     \u001b[90m━━━━━━━━━━━━━━━━━━━━━━━━━━━━━━━━━━━━━━━━\u001b[0m \u001b[32m0.0/869.2 kB\u001b[0m \u001b[31m?\u001b[0m eta \u001b[36m-:--:--\u001b[0m"
     ]
    },
    {
     "name": "stdout",
     "output_type": "stream",
     "text": [
      "\r",
      "\u001b[2K     \u001b[91m━━━━━━━━━━━━━━━━━━━━\u001b[0m\u001b[91m╸\u001b[0m\u001b[90m━━━━━━━━━━━━━━━━━\u001b[0m \u001b[32m471.0/869.2 kB\u001b[0m \u001b[31m13.9 MB/s\u001b[0m eta \u001b[36m0:00:01\u001b[0m"
     ]
    },
    {
     "name": "stdout",
     "output_type": "stream",
     "text": [
      "\r",
      "\u001b[2K     \u001b[91m━━━━━━━━━━━━━━━━━━━━━━━━━━━━━━━━━━━━━\u001b[0m\u001b[91m╸\u001b[0m \u001b[32m860.2/869.2 kB\u001b[0m \u001b[31m17.5 MB/s\u001b[0m eta \u001b[36m0:00:01\u001b[0m\r",
      "\u001b[2K     \u001b[90m━━━━━━━━━━━━━━━━━━━━━━━━━━━━━━━━━━━━━━\u001b[0m \u001b[32m869.2/869.2 kB\u001b[0m \u001b[31m12.2 MB/s\u001b[0m eta \u001b[36m0:00:00\u001b[0m\r\n",
      "\u001b[?25h"
     ]
    },
    {
     "name": "stdout",
     "output_type": "stream",
     "text": [
      "Requirement already satisfied: packaging>17.1 in /usr/local/lib/python3.10/site-packages (from torchmetrics) (24.1)\r\n"
     ]
    },
    {
     "name": "stdout",
     "output_type": "stream",
     "text": [
      "Collecting lightning-utilities>=0.8.0\r\n",
      "  Downloading lightning_utilities-0.11.7-py3-none-any.whl (26 kB)\r\n",
      "Requirement already satisfied: torch>=1.10.0 in /usr/local/lib/python3.10/site-packages (from torchmetrics) (2.4.0)\r\n",
      "Requirement already satisfied: numpy>1.20.0 in /usr/local/lib/python3.10/site-packages (from torchmetrics) (1.26.4)\r\n",
      "Requirement already satisfied: typing-extensions in /usr/local/lib/python3.10/site-packages (from lightning-utilities>=0.8.0->torchmetrics) (4.12.2)\r\n",
      "Requirement already satisfied: setuptools in /usr/local/lib/python3.10/site-packages (from lightning-utilities>=0.8.0->torchmetrics) (65.5.1)\r\n"
     ]
    },
    {
     "name": "stdout",
     "output_type": "stream",
     "text": [
      "Requirement already satisfied: nvidia-cuda-cupti-cu12==12.1.105 in /usr/local/lib/python3.10/site-packages (from torch>=1.10.0->torchmetrics) (12.1.105)\r\n",
      "Requirement already satisfied: nvidia-nvtx-cu12==12.1.105 in /usr/local/lib/python3.10/site-packages (from torch>=1.10.0->torchmetrics) (12.1.105)\r\n",
      "Requirement already satisfied: jinja2 in /usr/local/lib/python3.10/site-packages (from torch>=1.10.0->torchmetrics) (3.1.4)\r\n",
      "Requirement already satisfied: filelock in /usr/local/lib/python3.10/site-packages (from torch>=1.10.0->torchmetrics) (3.15.4)\r\n",
      "Requirement already satisfied: nvidia-cudnn-cu12==9.1.0.70 in /usr/local/lib/python3.10/site-packages (from torch>=1.10.0->torchmetrics) (9.1.0.70)\r\n",
      "Requirement already satisfied: nvidia-cufft-cu12==11.0.2.54 in /usr/local/lib/python3.10/site-packages (from torch>=1.10.0->torchmetrics) (11.0.2.54)\r\n",
      "Requirement already satisfied: triton==3.0.0 in /usr/local/lib/python3.10/site-packages (from torch>=1.10.0->torchmetrics) (3.0.0)\r\n",
      "Requirement already satisfied: nvidia-nccl-cu12==2.20.5 in /usr/local/lib/python3.10/site-packages (from torch>=1.10.0->torchmetrics) (2.20.5)\r\n",
      "Requirement already satisfied: fsspec in /usr/local/lib/python3.10/site-packages (from torch>=1.10.0->torchmetrics) (2024.6.1)\r\n",
      "Requirement already satisfied: nvidia-cublas-cu12==12.1.3.1 in /usr/local/lib/python3.10/site-packages (from torch>=1.10.0->torchmetrics) (12.1.3.1)\r\n"
     ]
    },
    {
     "name": "stdout",
     "output_type": "stream",
     "text": [
      "Requirement already satisfied: nvidia-cusolver-cu12==11.4.5.107 in /usr/local/lib/python3.10/site-packages (from torch>=1.10.0->torchmetrics) (11.4.5.107)\r\n",
      "Requirement already satisfied: nvidia-cusparse-cu12==12.1.0.106 in /usr/local/lib/python3.10/site-packages (from torch>=1.10.0->torchmetrics) (12.1.0.106)\r\n",
      "Requirement already satisfied: networkx in /usr/local/lib/python3.10/site-packages (from torch>=1.10.0->torchmetrics) (3.3)\r\n",
      "Requirement already satisfied: nvidia-cuda-nvrtc-cu12==12.1.105 in /usr/local/lib/python3.10/site-packages (from torch>=1.10.0->torchmetrics) (12.1.105)\r\n",
      "Requirement already satisfied: sympy in /usr/local/lib/python3.10/site-packages (from torch>=1.10.0->torchmetrics) (1.13.2)\r\n",
      "Requirement already satisfied: nvidia-curand-cu12==10.3.2.106 in /usr/local/lib/python3.10/site-packages (from torch>=1.10.0->torchmetrics) (10.3.2.106)\r\n",
      "Requirement already satisfied: nvidia-cuda-runtime-cu12==12.1.105 in /usr/local/lib/python3.10/site-packages (from torch>=1.10.0->torchmetrics) (12.1.105)\r\n",
      "Requirement already satisfied: nvidia-nvjitlink-cu12 in /usr/local/lib/python3.10/site-packages (from nvidia-cusolver-cu12==11.4.5.107->torch>=1.10.0->torchmetrics) (12.6.20)\r\n"
     ]
    },
    {
     "name": "stdout",
     "output_type": "stream",
     "text": [
      "Requirement already satisfied: MarkupSafe>=2.0 in /usr/local/lib/python3.10/site-packages (from jinja2->torch>=1.10.0->torchmetrics) (2.1.5)\r\n",
      "Requirement already satisfied: mpmath<1.4,>=1.1.0 in /usr/local/lib/python3.10/site-packages (from sympy->torch>=1.10.0->torchmetrics) (1.3.0)\r\n"
     ]
    },
    {
     "name": "stdout",
     "output_type": "stream",
     "text": [
      "Installing collected packages: lightning-utilities, torchmetrics\r\n"
     ]
    },
    {
     "name": "stdout",
     "output_type": "stream",
     "text": [
      "Successfully installed lightning-utilities-0.11.7 torchmetrics-1.4.2\r\n",
      "\u001b[33mWARNING: Running pip as the 'root' user can result in broken permissions and conflicting behaviour with the system package manager. It is recommended to use a virtual environment instead: https://pip.pypa.io/warnings/venv\u001b[0m\u001b[33m\r\n",
      "\u001b[0m"
     ]
    },
    {
     "name": "stdout",
     "output_type": "stream",
     "text": [
      "\r\n",
      "\u001b[1m[\u001b[0m\u001b[34;49mnotice\u001b[0m\u001b[1;39;49m]\u001b[0m\u001b[39;49m A new release of pip is available: \u001b[0m\u001b[31;49m23.0.1\u001b[0m\u001b[39;49m -> \u001b[0m\u001b[32;49m24.2\u001b[0m\r\n",
      "\u001b[1m[\u001b[0m\u001b[34;49mnotice\u001b[0m\u001b[1;39;49m]\u001b[0m\u001b[39;49m To update, run: \u001b[0m\u001b[32;49mpip install --upgrade pip\u001b[0m\r\n"
     ]
    },
    {
     "name": "stdout",
     "output_type": "stream",
     "text": [
      "Cloning into 'MasterArbeit'...\r\n"
     ]
    },
    {
     "name": "stdout",
     "output_type": "stream",
     "text": [
      "remote: Enumerating objects: 2356, done.\u001b[K\r\n",
      "remote: Counting objects:   0% (1/281)\u001b[K\r",
      "remote: Counting objects:   1% (3/281)\u001b[K\r",
      "remote: Counting objects:   2% (6/281)\u001b[K\r",
      "remote: Counting objects:   3% (9/281)\u001b[K\r",
      "remote: Counting objects:   4% (12/281)\u001b[K\r",
      "remote: Counting objects:   5% (15/281)\u001b[K\r",
      "remote: Counting objects:   6% (17/281)\u001b[K\r",
      "remote: Counting objects:   7% (20/281)\u001b[K\r",
      "remote: Counting objects:   8% (23/281)\u001b[K\r",
      "remote: Counting objects:   9% (26/281)\u001b[K\r",
      "remote: Counting objects:  10% (29/281)\u001b[K\r",
      "remote: Counting objects:  11% (31/281)\u001b[K\r",
      "remote: Counting objects:  12% (34/281)\u001b[K\r",
      "remote: Counting objects:  13% (37/281)\u001b[K\r",
      "remote: Counting objects:  14% (40/281)\u001b[K\r",
      "remote: Counting objects:  15% (43/281)\u001b[K\r",
      "remote: Counting objects:  16% (45/281)\u001b[K\r",
      "remote: Counting objects:  17% (48/281)\u001b[K\r",
      "remote: Counting objects:  18% (51/281)\u001b[K\r",
      "remote: Counting objects:  19% (54/281)\u001b[K\r",
      "remote: Counting objects:  20% (57/281)\u001b[K\r",
      "remote: Counting objects:  21% (60/281)\u001b[K\r",
      "remote: Counting objects:  22% (62/281)\u001b[K\r",
      "remote: Counting objects:  23% (65/281)\u001b[K\r",
      "remote: Counting objects:  24% (68/281)\u001b[K\r",
      "remote: Counting objects:  25% (71/281)\u001b[K\r",
      "remote: Counting objects:  26% (74/281)\u001b[K\r",
      "remote: Counting objects:  27% (76/281)\u001b[K\r",
      "remote: Counting objects:  28% (79/281)\u001b[K\r",
      "remote: Counting objects:  29% (82/281)\u001b[K\r",
      "remote: Counting objects:  30% (85/281)\u001b[K\r",
      "remote: Counting objects:  31% (88/281)\u001b[K\r",
      "remote: Counting objects:  32% (90/281)\u001b[K\r",
      "remote: Counting objects:  33% (93/281)\u001b[K\r",
      "remote: Counting objects:  34% (96/281)\u001b[K\r",
      "remote: Counting objects:  35% (99/281)\u001b[K\r",
      "remote: Counting objects:  36% (102/281)\u001b[K\r",
      "remote: Counting objects:  37% (104/281)\u001b[K\r",
      "remote: Counting objects:  38% (107/281)\u001b[K\r",
      "remote: Counting objects:  39% (110/281)\u001b[K\r",
      "remote: Counting objects:  40% (113/281)\u001b[K\r",
      "remote: Counting objects:  41% (116/281)\u001b[K\r",
      "remote: Counting objects:  42% (119/281)\u001b[K\r",
      "remote: Counting objects:  43% (121/281)\u001b[K\r",
      "remote: Counting objects:  44% (124/281)\u001b[K\r",
      "remote: Counting objects:  45% (127/281)\u001b[K\r",
      "remote: Counting objects:  46% (130/281)\u001b[K\r",
      "remote: Counting objects:  47% (133/281)\u001b[K\r",
      "remote: Counting objects:  48% (135/281)\u001b[K\r",
      "remote: Counting objects:  49% (138/281)\u001b[K\r",
      "remote: Counting objects:  50% (141/281)\u001b[K\r",
      "remote: Counting objects:  51% (144/281)\u001b[K\r",
      "remote: Counting objects:  52% (147/281)\u001b[K\r",
      "remote: Counting objects:  53% (149/281)\u001b[K\r",
      "remote: Counting objects:  54% (152/281)\u001b[K\r",
      "remote: Counting objects:  55% (155/281)\u001b[K\r",
      "remote: Counting objects:  56% (158/281)\u001b[K\r",
      "remote: Counting objects:  57% (161/281)\u001b[K\r",
      "remote: Counting objects:  58% (163/281)\u001b[K\r",
      "remote: Counting objects:  59% (166/281)\u001b[K\r",
      "remote: Counting objects:  60% (169/281)\u001b[K\r",
      "remote: Counting objects:  61% (172/281)\u001b[K\r",
      "remote: Counting objects:  62% (175/281)\u001b[K\r",
      "remote: Counting objects:  63% (178/281)\u001b[K\r",
      "remote: Counting objects:  64% (180/281)\u001b[K\r",
      "remote: Counting objects:  65% (183/281)\u001b[K\r",
      "remote: Counting objects:  66% (186/281)\u001b[K\r",
      "remote: Counting objects:  67% (189/281)\u001b[K\r",
      "remote: Counting objects:  68% (192/281)\u001b[K\r",
      "remote: Counting objects:  69% (194/281)\u001b[K\r",
      "remote: Counting objects:  70% (197/281)\u001b[K\r",
      "remote: Counting objects:  71% (200/281)\u001b[K\r",
      "remote: Counting objects:  72% (203/281)\u001b[K\r"
     ]
    },
    {
     "name": "stdout",
     "output_type": "stream",
     "text": [
      "remote: Counting objects:  73% (206/281)\u001b[K\r",
      "remote: Counting objects:  74% (208/281)\u001b[K\r",
      "remote: Counting objects:  75% (211/281)\u001b[K\r",
      "remote: Counting objects:  76% (214/281)\u001b[K\r",
      "remote: Counting objects:  77% (217/281)\u001b[K\r",
      "remote: Counting objects:  78% (220/281)\u001b[K\r",
      "remote: Counting objects:  79% (222/281)\u001b[K\r",
      "remote: Counting objects:  80% (225/281)\u001b[K\r",
      "remote: Counting objects:  81% (228/281)\u001b[K\r",
      "remote: Counting objects:  82% (231/281)\u001b[K\r",
      "remote: Counting objects:  83% (234/281)\u001b[K\r",
      "remote: Counting objects:  84% (237/281)\u001b[K\r",
      "remote: Counting objects:  85% (239/281)\u001b[K\r",
      "remote: Counting objects:  86% (242/281)\u001b[K\r",
      "remote: Counting objects:  87% (245/281)\u001b[K\r",
      "remote: Counting objects:  88% (248/281)\u001b[K\r",
      "remote: Counting objects:  89% (251/281)\u001b[K\r",
      "remote: Counting objects:  90% (253/281)\u001b[K\r",
      "remote: Counting objects:  91% (256/281)\u001b[K\r",
      "remote: Counting objects:  92% (259/281)\u001b[K\r",
      "remote: Counting objects:  93% (262/281)\u001b[K\r",
      "remote: Counting objects:  94% (265/281)\u001b[K\r",
      "remote: Counting objects:  95% (267/281)\u001b[K\r",
      "remote: Counting objects:  96% (270/281)\u001b[K\r",
      "remote: Counting objects:  97% (273/281)\u001b[K\r",
      "remote: Counting objects:  98% (276/281)\u001b[K\r",
      "remote: Counting objects:  99% (279/281)\u001b[K\r",
      "remote: Counting objects: 100% (281/281)\u001b[K\r",
      "remote: Counting objects: 100% (281/281), done.\u001b[K\r\n",
      "remote: Compressing objects:   0% (1/141)\u001b[K\r",
      "remote: Compressing objects:   1% (2/141)\u001b[K\r",
      "remote: Compressing objects:   2% (3/141)\u001b[K\r",
      "remote: Compressing objects:   3% (5/141)\u001b[K\r",
      "remote: Compressing objects:   4% (6/141)\u001b[K\r",
      "remote: Compressing objects:   5% (8/141)\u001b[K\r",
      "remote: Compressing objects:   6% (9/141)\u001b[K\r",
      "remote: Compressing objects:   7% (10/141)\u001b[K\r"
     ]
    },
    {
     "name": "stdout",
     "output_type": "stream",
     "text": [
      "remote: Compressing objects:   8% (12/141)\u001b[K\r"
     ]
    },
    {
     "name": "stdout",
     "output_type": "stream",
     "text": [
      "remote: Compressing objects:   9% (13/141)\u001b[K\r"
     ]
    },
    {
     "name": "stdout",
     "output_type": "stream",
     "text": [
      "remote: Compressing objects:  10% (15/141)\u001b[K\r",
      "remote: Compressing objects:  11% (16/141)\u001b[K\r",
      "remote: Compressing objects:  12% (17/141)\u001b[K\r",
      "remote: Compressing objects:  13% (19/141)\u001b[K\r",
      "remote: Compressing objects:  14% (20/141)\u001b[K\r"
     ]
    },
    {
     "name": "stdout",
     "output_type": "stream",
     "text": [
      "remote: Compressing objects:  15% (22/141)\u001b[K\r",
      "remote: Compressing objects:  16% (23/141)\u001b[K\r",
      "remote: Compressing objects:  17% (24/141)\u001b[K\r",
      "remote: Compressing objects:  18% (26/141)\u001b[K\r",
      "remote: Compressing objects:  19% (27/141)\u001b[K\r",
      "remote: Compressing objects:  20% (29/141)\u001b[K\r",
      "remote: Compressing objects:  21% (30/141)\u001b[K\r",
      "remote: Compressing objects:  22% (32/141)\u001b[K\r",
      "remote: Compressing objects:  23% (33/141)\u001b[K\r",
      "remote: Compressing objects:  24% (34/141)\u001b[K\r",
      "remote: Compressing objects:  25% (36/141)\u001b[K\r",
      "remote: Compressing objects:  26% (37/141)\u001b[K\r",
      "remote: Compressing objects:  27% (39/141)\u001b[K\r",
      "remote: Compressing objects:  28% (40/141)\u001b[K\r",
      "remote: Compressing objects:  29% (41/141)\u001b[K\r",
      "remote: Compressing objects:  30% (43/141)\u001b[K\r",
      "remote: Compressing objects:  31% (44/141)\u001b[K\r",
      "remote: Compressing objects:  32% (46/141)\u001b[K\r",
      "remote: Compressing objects:  33% (47/141)\u001b[K\r",
      "remote: Compressing objects:  34% (48/141)\u001b[K\r",
      "remote: Compressing objects:  35% (50/141)\u001b[K\r",
      "remote: Compressing objects:  36% (51/141)\u001b[K\r",
      "remote: Compressing objects:  37% (53/141)\u001b[K\r",
      "remote: Compressing objects:  38% (54/141)\u001b[K\r",
      "remote: Compressing objects:  39% (55/141)\u001b[K\r",
      "remote: Compressing objects:  40% (57/141)\u001b[K\r",
      "remote: Compressing objects:  41% (58/141)\u001b[K\r",
      "remote: Compressing objects:  42% (60/141)\u001b[K\r",
      "remote: Compressing objects:  43% (61/141)\u001b[K\r",
      "remote: Compressing objects:  44% (63/141)\u001b[K\r",
      "remote: Compressing objects:  45% (64/141)\u001b[K\r",
      "remote: Compressing objects:  46% (65/141)\u001b[K\r",
      "remote: Compressing objects:  47% (67/141)\u001b[K\r",
      "remote: Compressing objects:  48% (68/141)\u001b[K\r",
      "remote: Compressing objects:  49% (70/141)\u001b[K\r",
      "remote: Compressing objects:  50% (71/141)\u001b[K\r",
      "remote: Compressing objects:  51% (72/141)\u001b[K\r",
      "remote: Compressing objects:  52% (74/141)\u001b[K\r",
      "remote: Compressing objects:  53% (75/141)\u001b[K\r",
      "remote: Compressing objects:  54% (77/141)\u001b[K\r",
      "remote: Compressing objects:  55% (78/141)\u001b[K\r",
      "remote: Compressing objects:  56% (79/141)\u001b[K\r",
      "remote: Compressing objects:  57% (81/141)\u001b[K\r",
      "remote: Compressing objects:  58% (82/141)\u001b[K\r",
      "remote: Compressing objects:  59% (84/141)\u001b[K\r",
      "remote: Compressing objects:  60% (85/141)\u001b[K\r",
      "remote: Compressing objects:  61% (87/141)\u001b[K\r",
      "remote: Compressing objects:  62% (88/141)\u001b[K\r",
      "remote: Compressing objects:  63% (89/141)\u001b[K\r",
      "remote: Compressing objects:  64% (91/141)\u001b[K\r",
      "remote: Compressing objects:  65% (92/141)\u001b[K\r",
      "remote: Compressing objects:  66% (94/141)\u001b[K\r",
      "remote: Compressing objects:  67% (95/141)\u001b[K\r",
      "remote: Compressing objects:  68% (96/141)\u001b[K\r",
      "remote: Compressing objects:  69% (98/141)\u001b[K\r",
      "remote: Compressing objects:  70% (99/141)\u001b[K\r",
      "remote: Compressing objects:  71% (101/141)\u001b[K\r",
      "remote: Compressing objects:  72% (102/141)\u001b[K\r",
      "remote: Compressing objects:  73% (103/141)\u001b[K\r",
      "remote: Compressing objects:  74% (105/141)\u001b[K\r",
      "remote: Compressing objects:  75% (106/141)\u001b[K\r",
      "remote: Compressing objects:  76% (108/141)\u001b[K\r",
      "remote: Compressing objects:  77% (109/141)\u001b[K\r",
      "remote: Compressing objects:  78% (110/141)\u001b[K\r",
      "remote: Compressing objects:  79% (112/141)\u001b[K\r",
      "remote: Compressing objects:  80% (113/141)\u001b[K\r",
      "remote: Compressing objects:  81% (115/141)\u001b[K\r",
      "remote: Compressing objects:  82% (116/141)\u001b[K\r",
      "remote: Compressing objects:  83% (118/141)\u001b[K\r",
      "remote: Compressing objects:  84% (119/141)\u001b[K\r",
      "remote: Compressing objects:  85% (120/141)\u001b[K\r",
      "remote: Compressing objects:  86% (122/141)\u001b[K\r",
      "remote: Compressing objects:  87% (123/141)\u001b[K\r",
      "remote: Compressing objects:  88% (125/141)\u001b[K\r",
      "remote: Compressing objects:  89% (126/141)\u001b[K\r",
      "remote: Compressing objects:  90% (127/141)\u001b[K\r",
      "remote: Compressing objects:  91% (129/141)\u001b[K\r",
      "remote: Compressing objects:  92% (130/141)\u001b[K\r",
      "remote: Compressing objects:  93% (132/141)\u001b[K\r",
      "remote: Compressing objects:  94% (133/141)\u001b[K\r",
      "remote: Compressing objects:  95% (134/141)\u001b[K\r",
      "remote: Compressing objects:  96% (136/141)\u001b[K\r",
      "remote: Compressing objects:  97% (137/141)\u001b[K\r",
      "remote: Compressing objects:  98% (139/141)\u001b[K\r",
      "remote: Compressing objects:  99% (140/141)\u001b[K\r",
      "remote: Compressing objects: 100% (141/141)\u001b[K\r",
      "remote: Compressing objects: 100% (141/141), done.\u001b[K\r\n",
      "Receiving objects:   0% (1/2356)\r"
     ]
    },
    {
     "name": "stdout",
     "output_type": "stream",
     "text": [
      "Receiving objects:   0% (6/2356), 19.81 MiB | 18.65 MiB/s\r"
     ]
    },
    {
     "name": "stdout",
     "output_type": "stream",
     "text": [
      "Receiving objects:   0% (7/2356), 38.01 MiB | 17.90 MiB/s\r"
     ]
    },
    {
     "name": "stdout",
     "output_type": "stream",
     "text": [
      "Receiving objects:   0% (8/2356), 57.50 MiB | 18.06 MiB/s\r"
     ]
    },
    {
     "name": "stdout",
     "output_type": "stream",
     "text": [
      "Receiving objects:   0% (9/2356), 67.57 MiB | 18.18 MiB/s\r"
     ]
    },
    {
     "name": "stdout",
     "output_type": "stream",
     "text": [
      "Receiving objects:   0% (9/2356), 97.75 MiB | 18.40 MiB/s\r"
     ]
    },
    {
     "name": "stdout",
     "output_type": "stream",
     "text": [
      "Receiving objects:   1% (24/2356), 97.75 MiB | 18.40 MiB/s\r",
      "Receiving objects:   2% (48/2356), 97.75 MiB | 18.40 MiB/s\r",
      "Receiving objects:   3% (71/2356), 97.75 MiB | 18.40 MiB/s\r"
     ]
    },
    {
     "name": "stdout",
     "output_type": "stream",
     "text": [
      "Receiving objects:   3% (94/2356), 113.96 MiB | 17.94 MiB/s\r"
     ]
    },
    {
     "name": "stdout",
     "output_type": "stream",
     "text": [
      "Receiving objects:   4% (95/2356), 113.96 MiB | 17.94 MiB/s\r",
      "Receiving objects:   5% (118/2356), 113.96 MiB | 17.94 MiB/s\r",
      "Receiving objects:   6% (142/2356), 113.96 MiB | 17.94 MiB/s\r",
      "Receiving objects:   7% (165/2356), 113.96 MiB | 17.94 MiB/s\r",
      "Receiving objects:   8% (189/2356), 113.96 MiB | 17.94 MiB/s\r"
     ]
    },
    {
     "name": "stdout",
     "output_type": "stream",
     "text": [
      "Receiving objects:   8% (199/2356), 129.57 MiB | 17.11 MiB/s\r"
     ]
    },
    {
     "name": "stdout",
     "output_type": "stream",
     "text": [
      "Receiving objects:   8% (199/2356), 141.90 MiB | 15.63 MiB/s\r"
     ]
    },
    {
     "name": "stdout",
     "output_type": "stream",
     "text": [
      "Receiving objects:   9% (213/2356), 141.90 MiB | 15.63 MiB/s\r"
     ]
    },
    {
     "name": "stdout",
     "output_type": "stream",
     "text": [
      "Receiving objects:   9% (215/2356), 148.18 MiB | 14.79 MiB/s\r"
     ]
    },
    {
     "name": "stdout",
     "output_type": "stream",
     "text": [
      "Receiving objects:   9% (215/2356), 161.25 MiB | 13.37 MiB/s\r"
     ]
    },
    {
     "name": "stdout",
     "output_type": "stream",
     "text": [
      "Receiving objects:   9% (215/2356), 173.20 MiB | 12.40 MiB/s\r"
     ]
    },
    {
     "name": "stdout",
     "output_type": "stream",
     "text": [
      "Receiving objects:   9% (216/2356), 183.86 MiB | 11.44 MiB/s\r"
     ]
    },
    {
     "name": "stdout",
     "output_type": "stream",
     "text": [
      "Receiving objects:   9% (216/2356), 194.53 MiB | 11.02 MiB/s\r"
     ]
    },
    {
     "name": "stdout",
     "output_type": "stream",
     "text": [
      "Receiving objects:   9% (217/2356), 205.67 MiB | 10.69 MiB/s\r"
     ]
    },
    {
     "name": "stdout",
     "output_type": "stream",
     "text": [
      "Receiving objects:   9% (217/2356), 216.62 MiB | 10.18 MiB/s\r"
     ]
    },
    {
     "name": "stdout",
     "output_type": "stream",
     "text": [
      "Receiving objects:   9% (218/2356), 220.79 MiB | 9.96 MiB/s \r"
     ]
    },
    {
     "name": "stdout",
     "output_type": "stream",
     "text": [
      "Receiving objects:   9% (218/2356), 234.21 MiB | 9.44 MiB/s\r"
     ]
    },
    {
     "name": "stdout",
     "output_type": "stream",
     "text": [
      "Receiving objects:   9% (218/2356), 238.90 MiB | 9.29 MiB/s\r"
     ]
    },
    {
     "name": "stdout",
     "output_type": "stream",
     "text": [
      "Receiving objects:   9% (218/2356), 248.49 MiB | 8.96 MiB/s\r"
     ]
    },
    {
     "name": "stdout",
     "output_type": "stream",
     "text": [
      "Receiving objects:  10% (236/2356), 248.49 MiB | 8.96 MiB/s\r"
     ]
    },
    {
     "name": "stdout",
     "output_type": "stream",
     "text": [
      "Receiving objects:  10% (236/2356), 258.22 MiB | 8.71 MiB/s\r"
     ]
    },
    {
     "name": "stdout",
     "output_type": "stream",
     "text": [
      "Receiving objects:  10% (236/2356), 267.97 MiB | 8.97 MiB/s\r"
     ]
    },
    {
     "name": "stdout",
     "output_type": "stream",
     "text": [
      "Receiving objects:  11% (260/2356), 272.86 MiB | 9.06 MiB/s\r"
     ]
    },
    {
     "name": "stdout",
     "output_type": "stream",
     "text": [
      "Receiving objects:  11% (275/2356), 277.74 MiB | 9.12 MiB/s\r"
     ]
    },
    {
     "name": "stdout",
     "output_type": "stream",
     "text": [
      "Receiving objects:  11% (275/2356), 287.50 MiB | 9.18 MiB/s\r"
     ]
    },
    {
     "name": "stdout",
     "output_type": "stream",
     "text": [
      "Receiving objects:  11% (275/2356), 297.36 MiB | 9.22 MiB/s\r"
     ]
    },
    {
     "name": "stdout",
     "output_type": "stream",
     "text": [
      "Receiving objects:  11% (276/2356), 307.36 MiB | 9.27 MiB/s\r"
     ]
    },
    {
     "name": "stdout",
     "output_type": "stream",
     "text": [
      "Receiving objects:  11% (276/2356), 312.45 MiB | 9.31 MiB/s\r"
     ]
    },
    {
     "name": "stdout",
     "output_type": "stream",
     "text": [
      "Receiving objects:  11% (276/2356), 322.91 MiB | 9.52 MiB/s\r"
     ]
    },
    {
     "name": "stdout",
     "output_type": "stream",
     "text": [
      "Receiving objects:  11% (277/2356), 333.09 MiB | 9.73 MiB/s\r"
     ]
    },
    {
     "name": "stdout",
     "output_type": "stream",
     "text": [
      "Receiving objects:  11% (277/2356), 344.25 MiB | 10.13 MiB/s\r"
     ]
    },
    {
     "name": "stdout",
     "output_type": "stream",
     "text": [
      "Receiving objects:  12% (283/2356), 349.53 MiB | 10.17 MiB/s\r"
     ]
    },
    {
     "name": "stdout",
     "output_type": "stream",
     "text": [
      "Receiving objects:  12% (293/2356), 354.88 MiB | 10.31 MiB/s\r"
     ]
    },
    {
     "name": "stdout",
     "output_type": "stream",
     "text": [
      "Receiving objects:  12% (293/2356), 364.78 MiB | 10.31 MiB/s\r"
     ]
    },
    {
     "name": "stdout",
     "output_type": "stream",
     "text": [
      "Receiving objects:  12% (293/2356), 375.17 MiB | 10.36 MiB/s\r",
      "Receiving objects:  13% (307/2356), 375.17 MiB | 10.36 MiB/s\r",
      "Receiving objects:  14% (330/2356), 375.17 MiB | 10.36 MiB/s\r"
     ]
    },
    {
     "name": "stdout",
     "output_type": "stream",
     "text": [
      "Receiving objects:  15% (354/2356), 375.17 MiB | 10.36 MiB/s\r"
     ]
    },
    {
     "name": "stdout",
     "output_type": "stream",
     "text": [
      "Receiving objects:  15% (364/2356), 386.43 MiB | 10.40 MiB/s\r"
     ]
    },
    {
     "name": "stdout",
     "output_type": "stream",
     "text": [
      "Receiving objects:  15% (364/2356), 398.14 MiB | 10.71 MiB/s\r"
     ]
    },
    {
     "name": "stdout",
     "output_type": "stream",
     "text": [
      "Receiving objects:  15% (365/2356), 409.88 MiB | 11.09 MiB/s\r"
     ]
    },
    {
     "name": "stdout",
     "output_type": "stream",
     "text": [
      "Receiving objects:  15% (365/2356), 422.02 MiB | 11.53 MiB/s\r"
     ]
    },
    {
     "name": "stdout",
     "output_type": "stream",
     "text": [
      "Receiving objects:  15% (366/2356), 434.22 MiB | 11.82 MiB/s\r"
     ]
    },
    {
     "name": "stdout",
     "output_type": "stream",
     "text": [
      "Receiving objects:  15% (366/2356), 446.25 MiB | 12.00 MiB/s\r"
     ]
    },
    {
     "name": "stdout",
     "output_type": "stream",
     "text": [
      "Receiving objects:  16% (377/2356), 452.34 MiB | 12.01 MiB/s\r",
      "Receiving objects:  17% (401/2356), 452.34 MiB | 12.01 MiB/s\r"
     ]
    },
    {
     "name": "stdout",
     "output_type": "stream",
     "text": [
      "Receiving objects:  17% (411/2356), 458.50 MiB | 12.08 MiB/s\r"
     ]
    },
    {
     "name": "stdout",
     "output_type": "stream",
     "text": [
      "Receiving objects:  17% (411/2356), 470.58 MiB | 12.09 MiB/s\r"
     ]
    },
    {
     "name": "stdout",
     "output_type": "stream",
     "text": [
      "Receiving objects:  18% (425/2356), 476.60 MiB | 12.10 MiB/s\r"
     ]
    },
    {
     "name": "stdout",
     "output_type": "stream",
     "text": [
      "Receiving objects:  18% (442/2356), 476.60 MiB | 12.10 MiB/s\r",
      "Receiving objects:  19% (448/2356), 476.60 MiB | 12.10 MiB/s\r",
      "Receiving objects:  20% (472/2356), 476.60 MiB | 12.10 MiB/s\r"
     ]
    },
    {
     "name": "stdout",
     "output_type": "stream",
     "text": [
      "Receiving objects:  21% (495/2356), 476.60 MiB | 12.10 MiB/s\r",
      "Receiving objects:  22% (519/2356), 476.60 MiB | 12.10 MiB/s\r"
     ]
    },
    {
     "name": "stdout",
     "output_type": "stream",
     "text": [
      "Receiving objects:  23% (542/2356), 476.60 MiB | 12.10 MiB/s\r"
     ]
    },
    {
     "name": "stdout",
     "output_type": "stream",
     "text": [
      "Receiving objects:  23% (547/2356), 495.08 MiB | 12.17 MiB/s\r"
     ]
    },
    {
     "name": "stdout",
     "output_type": "stream",
     "text": [
      "Receiving objects:  23% (548/2356), 501.50 MiB | 12.26 MiB/s\r"
     ]
    },
    {
     "name": "stdout",
     "output_type": "stream",
     "text": [
      "Receiving objects:  23% (548/2356), 518.00 MiB | 11.87 MiB/s\r"
     ]
    },
    {
     "name": "stdout",
     "output_type": "stream",
     "text": [
      "Receiving objects:  23% (548/2356), 528.56 MiB | 11.51 MiB/s\r"
     ]
    },
    {
     "name": "stdout",
     "output_type": "stream",
     "text": [
      "Receiving objects:  23% (549/2356), 540.00 MiB | 11.31 MiB/s\r"
     ]
    },
    {
     "name": "stdout",
     "output_type": "stream",
     "text": [
      "Receiving objects:  23% (549/2356), 552.18 MiB | 11.22 MiB/s\r"
     ]
    },
    {
     "name": "stdout",
     "output_type": "stream",
     "text": [
      "Receiving objects:  24% (566/2356), 552.18 MiB | 11.22 MiB/s\r",
      "Receiving objects:  25% (589/2356), 558.29 MiB | 11.16 MiB/s\r"
     ]
    },
    {
     "name": "stdout",
     "output_type": "stream",
     "text": [
      "Receiving objects:  26% (613/2356), 558.29 MiB | 11.16 MiB/s\r",
      "Receiving objects:  27% (637/2356), 558.29 MiB | 11.16 MiB/s\r"
     ]
    },
    {
     "name": "stdout",
     "output_type": "stream",
     "text": [
      "Receiving objects:  28% (660/2356), 558.29 MiB | 11.16 MiB/s\r",
      "Receiving objects:  29% (684/2356), 558.29 MiB | 11.16 MiB/s\r"
     ]
    },
    {
     "name": "stdout",
     "output_type": "stream",
     "text": [
      "Receiving objects:  29% (705/2356), 564.52 MiB | 11.40 MiB/s\r"
     ]
    },
    {
     "name": "stdout",
     "output_type": "stream",
     "text": [
      "Receiving objects:  29% (705/2356), 577.37 MiB | 12.02 MiB/s\r"
     ]
    },
    {
     "name": "stdout",
     "output_type": "stream",
     "text": [
      "Receiving objects:  29% (706/2356), 590.28 MiB | 12.43 MiB/s\r"
     ]
    },
    {
     "name": "stdout",
     "output_type": "stream",
     "text": [
      "Receiving objects:  29% (706/2356), 603.14 MiB | 12.69 MiB/s\r"
     ]
    },
    {
     "name": "stdout",
     "output_type": "stream",
     "text": [
      "Receiving objects:  30% (707/2356), 609.56 MiB | 12.75 MiB/s\r",
      "Receiving objects:  31% (731/2356), 609.56 MiB | 12.75 MiB/s\r"
     ]
    },
    {
     "name": "stdout",
     "output_type": "stream",
     "text": [
      "Receiving objects:  32% (754/2356), 609.56 MiB | 12.75 MiB/s\r",
      "Receiving objects:  33% (778/2356), 609.56 MiB | 12.75 MiB/s\r"
     ]
    },
    {
     "name": "stdout",
     "output_type": "stream",
     "text": [
      "Receiving objects:  34% (802/2356), 609.56 MiB | 12.75 MiB/s\r",
      "Receiving objects:  35% (825/2356), 609.56 MiB | 12.75 MiB/s\r"
     ]
    },
    {
     "name": "stdout",
     "output_type": "stream",
     "text": [
      "Receiving objects:  35% (844/2356), 609.56 MiB | 12.75 MiB/s\r",
      "Receiving objects:  36% (849/2356), 609.56 MiB | 12.75 MiB/s\r",
      "Receiving objects:  37% (872/2356), 609.56 MiB | 12.75 MiB/s\r",
      "Receiving objects:  38% (896/2356), 609.56 MiB | 12.75 MiB/s\r",
      "Receiving objects:  39% (919/2356), 609.56 MiB | 12.75 MiB/s\r"
     ]
    },
    {
     "name": "stdout",
     "output_type": "stream",
     "text": [
      "Receiving objects:  40% (943/2356), 609.56 MiB | 12.75 MiB/s\r",
      "Receiving objects:  41% (966/2356), 609.56 MiB | 12.75 MiB/s\r"
     ]
    },
    {
     "name": "stdout",
     "output_type": "stream",
     "text": [
      "Receiving objects:  42% (990/2356), 609.56 MiB | 12.75 MiB/s\r"
     ]
    },
    {
     "name": "stdout",
     "output_type": "stream",
     "text": [
      "Receiving objects:  43% (1014/2356), 609.56 MiB | 12.75 MiB/s\r",
      "Receiving objects:  44% (1037/2356), 615.91 MiB | 12.80 MiB/s\r"
     ]
    },
    {
     "name": "stdout",
     "output_type": "stream",
     "text": [
      "Receiving objects:  44% (1049/2356), 629.00 MiB | 12.87 MiB/s\r"
     ]
    },
    {
     "name": "stdout",
     "output_type": "stream",
     "text": [
      "Receiving objects:  45% (1061/2356), 635.33 MiB | 12.87 MiB/s\r"
     ]
    },
    {
     "name": "stdout",
     "output_type": "stream",
     "text": [
      "Receiving objects:  46% (1084/2356), 635.33 MiB | 12.87 MiB/s\r",
      "Receiving objects:  47% (1108/2356), 635.33 MiB | 12.87 MiB/s\r",
      "Receiving objects:  48% (1131/2356), 635.33 MiB | 12.87 MiB/s\r",
      "Receiving objects:  49% (1155/2356), 635.33 MiB | 12.87 MiB/s\r",
      "Receiving objects:  50% (1178/2356), 635.33 MiB | 12.87 MiB/s\r"
     ]
    },
    {
     "name": "stdout",
     "output_type": "stream",
     "text": [
      "Receiving objects:  51% (1202/2356), 635.33 MiB | 12.87 MiB/s\r",
      "Receiving objects:  52% (1226/2356), 635.33 MiB | 12.87 MiB/s\r"
     ]
    },
    {
     "name": "stdout",
     "output_type": "stream",
     "text": [
      "Receiving objects:  52% (1243/2356), 642.05 MiB | 12.96 MiB/s\r"
     ]
    },
    {
     "name": "stdout",
     "output_type": "stream",
     "text": [
      "Receiving objects:  52% (1243/2356), 654.97 MiB | 12.95 MiB/s\r"
     ]
    },
    {
     "name": "stdout",
     "output_type": "stream",
     "text": [
      "Receiving objects:  52% (1243/2356), 668.21 MiB | 13.02 MiB/s\r"
     ]
    },
    {
     "name": "stdout",
     "output_type": "stream",
     "text": [
      "Receiving objects:  52% (1244/2356), 675.04 MiB | 13.13 MiB/s\r",
      "Receiving objects:  53% (1249/2356), 675.04 MiB | 13.13 MiB/s\r"
     ]
    },
    {
     "name": "stdout",
     "output_type": "stream",
     "text": [
      "Receiving objects:  54% (1273/2356), 675.04 MiB | 13.13 MiB/s\r",
      "Receiving objects:  55% (1296/2356), 675.04 MiB | 13.13 MiB/s\r"
     ]
    },
    {
     "name": "stdout",
     "output_type": "stream",
     "text": [
      "Receiving objects:  55% (1308/2356), 695.96 MiB | 13.46 MiB/s\r"
     ]
    },
    {
     "name": "stdout",
     "output_type": "stream",
     "text": [
      "Receiving objects:  55% (1309/2356), 710.46 MiB | 13.69 MiB/s\r"
     ]
    },
    {
     "name": "stdout",
     "output_type": "stream",
     "text": [
      "Receiving objects:  55% (1309/2356), 726.21 MiB | 14.27 MiB/s\r"
     ]
    },
    {
     "name": "stdout",
     "output_type": "stream",
     "text": [
      "Receiving objects:  55% (1310/2356), 734.64 MiB | 14.68 MiB/s\r"
     ]
    },
    {
     "name": "stdout",
     "output_type": "stream",
     "text": [
      "Receiving objects:  55% (1310/2356), 761.97 MiB | 16.18 MiB/s\r"
     ]
    },
    {
     "name": "stdout",
     "output_type": "stream",
     "text": [
      "Receiving objects:  55% (1310/2356), 782.36 MiB | 17.46 MiB/s\r",
      "Receiving objects:  56% (1320/2356), 782.36 MiB | 17.46 MiB/s\r"
     ]
    },
    {
     "name": "stdout",
     "output_type": "stream",
     "text": [
      "Receiving objects:  57% (1343/2356), 782.36 MiB | 17.46 MiB/s\r",
      "Receiving objects:  58% (1367/2356), 782.36 MiB | 17.46 MiB/s\r",
      "Receiving objects:  59% (1391/2356), 782.36 MiB | 17.46 MiB/s\r"
     ]
    },
    {
     "name": "stdout",
     "output_type": "stream",
     "text": [
      "Receiving objects:  60% (1414/2356), 782.36 MiB | 17.46 MiB/s\r"
     ]
    },
    {
     "name": "stdout",
     "output_type": "stream",
     "text": [
      "Receiving objects:  60% (1429/2356), 793.63 MiB | 18.44 MiB/s\r",
      "Receiving objects:  61% (1438/2356), 793.63 MiB | 18.44 MiB/s\r",
      "Receiving objects:  62% (1461/2356), 793.63 MiB | 18.44 MiB/s\r",
      "Receiving objects:  63% (1485/2356), 793.63 MiB | 18.44 MiB/s\r",
      "Receiving objects:  64% (1508/2356), 793.63 MiB | 18.44 MiB/s\r",
      "Receiving objects:  65% (1532/2356), 793.63 MiB | 18.44 MiB/s\r"
     ]
    },
    {
     "name": "stdout",
     "output_type": "stream",
     "text": [
      "Receiving objects:  65% (1538/2356), 817.72 MiB | 20.29 MiB/s\r",
      "Receiving objects:  66% (1555/2356), 817.72 MiB | 20.29 MiB/s\r",
      "Receiving objects:  67% (1579/2356), 817.72 MiB | 20.29 MiB/s\r"
     ]
    },
    {
     "name": "stdout",
     "output_type": "stream",
     "text": [
      "Receiving objects:  67% (1598/2356), 844.66 MiB | 22.39 MiB/s\r"
     ]
    },
    {
     "name": "stdout",
     "output_type": "stream",
     "text": [
      "Receiving objects:  67% (1599/2356), 891.63 MiB | 26.48 MiB/s\r"
     ]
    },
    {
     "name": "stdout",
     "output_type": "stream",
     "text": [
      "Receiving objects:  68% (1603/2356), 891.63 MiB | 26.48 MiB/s\r"
     ]
    },
    {
     "name": "stdout",
     "output_type": "stream",
     "text": [
      "Receiving objects:  68% (1611/2356), 919.88 MiB | 28.05 MiB/s\r"
     ]
    },
    {
     "name": "stdout",
     "output_type": "stream",
     "text": [
      "Receiving objects:  69% (1626/2356), 919.88 MiB | 28.05 MiB/s\r",
      "Receiving objects:  70% (1650/2356), 919.88 MiB | 28.05 MiB/s\r",
      "Receiving objects:  71% (1673/2356), 919.88 MiB | 28.05 MiB/s\r",
      "Receiving objects:  72% (1697/2356), 919.88 MiB | 28.05 MiB/s\r",
      "Receiving objects:  73% (1720/2356), 919.88 MiB | 28.05 MiB/s\r",
      "Receiving objects:  74% (1744/2356), 919.88 MiB | 28.05 MiB/s\r",
      "Receiving objects:  75% (1767/2356), 919.88 MiB | 28.05 MiB/s\r",
      "Receiving objects:  76% (1791/2356), 919.88 MiB | 28.05 MiB/s\r"
     ]
    },
    {
     "name": "stdout",
     "output_type": "stream",
     "text": [
      "Receiving objects:  77% (1815/2356), 919.88 MiB | 28.05 MiB/s\r",
      "Receiving objects:  78% (1838/2356), 919.88 MiB | 28.05 MiB/s\r",
      "Receiving objects:  79% (1862/2356), 919.88 MiB | 28.05 MiB/s\r"
     ]
    },
    {
     "name": "stdout",
     "output_type": "stream",
     "text": [
      "Receiving objects:  79% (1871/2356), 949.13 MiB | 29.14 MiB/s\r"
     ]
    },
    {
     "name": "stdout",
     "output_type": "stream",
     "text": [
      "Receiving objects:  80% (1885/2356), 949.13 MiB | 29.14 MiB/s\r"
     ]
    },
    {
     "name": "stdout",
     "output_type": "stream",
     "text": [
      "Receiving objects:  80% (1893/2356), 962.93 MiB | 29.24 MiB/s\r",
      "Receiving objects:  81% (1909/2356), 962.93 MiB | 29.24 MiB/s\r",
      "Receiving objects:  82% (1932/2356), 962.93 MiB | 29.24 MiB/s\r",
      "Receiving objects:  83% (1956/2356), 962.93 MiB | 29.24 MiB/s\r",
      "Receiving objects:  84% (1980/2356), 962.93 MiB | 29.24 MiB/s\r",
      "Receiving objects:  85% (2003/2356), 962.93 MiB | 29.24 MiB/s\r",
      "Receiving objects:  86% (2027/2356), 962.93 MiB | 29.24 MiB/s\r",
      "Receiving objects:  87% (2050/2356), 962.93 MiB | 29.24 MiB/s\r"
     ]
    },
    {
     "name": "stdout",
     "output_type": "stream",
     "text": [
      "Receiving objects:  88% (2074/2356), 962.93 MiB | 29.24 MiB/s\r",
      "Receiving objects:  89% (2097/2356), 962.93 MiB | 29.24 MiB/s\r",
      "Receiving objects:  90% (2121/2356), 962.93 MiB | 29.24 MiB/s\r",
      "Receiving objects:  91% (2144/2356), 962.93 MiB | 29.24 MiB/s\r",
      "Receiving objects:  92% (2168/2356), 962.93 MiB | 29.24 MiB/s\r",
      "Receiving objects:  93% (2192/2356), 962.93 MiB | 29.24 MiB/s\r"
     ]
    },
    {
     "name": "stdout",
     "output_type": "stream",
     "text": [
      "Receiving objects:  93% (2209/2356), 1001.12 MiB | 27.89 MiB/s\r"
     ]
    },
    {
     "name": "stdout",
     "output_type": "stream",
     "text": [
      "Receiving objects:  93% (2213/2356), 1.00 GiB | 26.34 MiB/s   \r"
     ]
    },
    {
     "name": "stdout",
     "output_type": "stream",
     "text": [
      "Receiving objects:  94% (2215/2356), 1.00 GiB | 26.34 MiB/s\r",
      "Receiving objects:  95% (2239/2356), 1.00 GiB | 26.34 MiB/s\r"
     ]
    },
    {
     "name": "stdout",
     "output_type": "stream",
     "text": [
      "Receiving objects:  96% (2262/2356), 1.00 GiB | 26.34 MiB/s\r"
     ]
    },
    {
     "name": "stdout",
     "output_type": "stream",
     "text": [
      "Receiving objects:  97% (2286/2356), 1.00 GiB | 26.34 MiB/s\r",
      "Receiving objects:  98% (2309/2356), 1.00 GiB | 26.34 MiB/s\r"
     ]
    },
    {
     "name": "stdout",
     "output_type": "stream",
     "text": [
      "Receiving objects:  99% (2333/2356), 1.01 GiB | 25.93 MiB/s\r"
     ]
    },
    {
     "name": "stdout",
     "output_type": "stream",
     "text": [
      "remote: Total 2356 (delta 171), reused 239 (delta 140), pack-reused 2075 (from 1)\u001b[K\r\n",
      "Receiving objects: 100% (2356/2356), 1.01 GiB | 25.93 MiB/s\r",
      "Receiving objects: 100% (2356/2356), 1.01 GiB | 14.28 MiB/s, done.\r\n",
      "Resolving deltas:   0% (0/1196)\r",
      "Resolving deltas:   1% (14/1196)\r",
      "Resolving deltas:   2% (24/1196)\r",
      "Resolving deltas:   3% (36/1196)\r",
      "Resolving deltas:   4% (48/1196)\r",
      "Resolving deltas:   5% (60/1196)\r",
      "Resolving deltas:   6% (73/1196)\r",
      "Resolving deltas:   7% (84/1196)\r",
      "Resolving deltas:   8% (97/1196)\r",
      "Resolving deltas:   9% (108/1196)\r",
      "Resolving deltas:  10% (121/1196)\r",
      "Resolving deltas:  11% (132/1196)\r",
      "Resolving deltas:  12% (144/1196)\r",
      "Resolving deltas:  13% (156/1196)\r",
      "Resolving deltas:  14% (175/1196)\r",
      "Resolving deltas:  15% (182/1196)\r",
      "Resolving deltas:  16% (192/1196)\r",
      "Resolving deltas:  17% (205/1196)\r",
      "Resolving deltas:  18% (216/1196)\r",
      "Resolving deltas:  19% (229/1196)\r",
      "Resolving deltas:  20% (242/1196)\r",
      "Resolving deltas:  21% (252/1196)\r",
      "Resolving deltas:  22% (264/1196)\r",
      "Resolving deltas:  23% (277/1196)\r",
      "Resolving deltas:  24% (288/1196)\r",
      "Resolving deltas:  25% (299/1196)\r",
      "Resolving deltas:  26% (311/1196)\r",
      "Resolving deltas:  27% (324/1196)\r",
      "Resolving deltas:  28% (336/1196)\r",
      "Resolving deltas:  29% (347/1196)\r",
      "Resolving deltas:  30% (359/1196)\r",
      "Resolving deltas:  31% (371/1196)\r",
      "Resolving deltas:  32% (384/1196)\r",
      "Resolving deltas:  33% (395/1196)\r",
      "Resolving deltas:  34% (410/1196)\r",
      "Resolving deltas:  35% (419/1196)\r",
      "Resolving deltas:  36% (431/1196)\r",
      "Resolving deltas:  37% (443/1196)\r",
      "Resolving deltas:  38% (455/1196)\r",
      "Resolving deltas:  39% (467/1196)\r",
      "Resolving deltas:  40% (480/1196)\r",
      "Resolving deltas:  41% (492/1196)\r",
      "Resolving deltas:  42% (503/1196)\r",
      "Resolving deltas:  43% (518/1196)\r",
      "Resolving deltas:  44% (527/1196)\r",
      "Resolving deltas:  45% (539/1196)\r",
      "Resolving deltas:  46% (551/1196)\r",
      "Resolving deltas:  47% (565/1196)\r",
      "Resolving deltas:  48% (575/1196)\r",
      "Resolving deltas:  49% (587/1196)\r"
     ]
    },
    {
     "name": "stdout",
     "output_type": "stream",
     "text": [
      "Resolving deltas:  50% (598/1196)\r",
      "Resolving deltas:  51% (610/1196)\r",
      "Resolving deltas:  52% (624/1196)\r",
      "Resolving deltas:  53% (634/1196)\r",
      "Resolving deltas:  54% (646/1196)\r",
      "Resolving deltas:  55% (658/1196)\r",
      "Resolving deltas:  56% (670/1196)\r",
      "Resolving deltas:  57% (682/1196)\r",
      "Resolving deltas:  58% (695/1196)\r",
      "Resolving deltas:  59% (707/1196)\r",
      "Resolving deltas:  60% (718/1196)\r",
      "Resolving deltas:  61% (730/1196)\r",
      "Resolving deltas:  62% (742/1196)\r",
      "Resolving deltas:  63% (756/1196)\r",
      "Resolving deltas:  64% (766/1196)\r",
      "Resolving deltas:  65% (778/1196)\r",
      "Resolving deltas:  66% (790/1196)\r",
      "Resolving deltas:  67% (802/1196)\r",
      "Resolving deltas:  68% (815/1196)\r",
      "Resolving deltas:  69% (828/1196)\r",
      "Resolving deltas:  70% (838/1196)\r",
      "Resolving deltas:  71% (851/1196)\r",
      "Resolving deltas:  72% (863/1196)\r",
      "Resolving deltas:  73% (874/1196)\r",
      "Resolving deltas:  74% (887/1196)\r",
      "Resolving deltas:  75% (897/1196)\r",
      "Resolving deltas:  76% (909/1196)\r",
      "Resolving deltas:  77% (922/1196)\r",
      "Resolving deltas:  78% (934/1196)\r",
      "Resolving deltas:  79% (945/1196)\r",
      "Resolving deltas:  80% (957/1196)\r",
      "Resolving deltas:  81% (970/1196)\r",
      "Resolving deltas:  82% (981/1196)\r",
      "Resolving deltas:  83% (993/1196)\r",
      "Resolving deltas:  84% (1005/1196)\r",
      "Resolving deltas:  85% (1019/1196)\r",
      "Resolving deltas:  86% (1029/1196)\r",
      "Resolving deltas:  87% (1042/1196)\r",
      "Resolving deltas:  88% (1053/1196)\r",
      "Resolving deltas:  89% (1065/1196)\r",
      "Resolving deltas:  90% (1078/1196)\r",
      "Resolving deltas:  91% (1090/1196)\r",
      "Resolving deltas:  92% (1104/1196)\r",
      "Resolving deltas:  93% (1114/1196)\r",
      "Resolving deltas:  94% (1125/1196)\r",
      "Resolving deltas:  95% (1137/1196)\r",
      "Resolving deltas:  96% (1151/1196)\r",
      "Resolving deltas:  97% (1161/1196)\r",
      "Resolving deltas:  98% (1173/1196)\r",
      "Resolving deltas:  99% (1185/1196)\r",
      "Resolving deltas: 100% (1196/1196)\r",
      "Resolving deltas: 100% (1196/1196), done.\r\n"
     ]
    },
    {
     "name": "stdout",
     "output_type": "stream",
     "text": [
      "Updating files:  13% (25/181)\r"
     ]
    },
    {
     "name": "stdout",
     "output_type": "stream",
     "text": [
      "Updating files:  14% (26/181)\r"
     ]
    },
    {
     "name": "stdout",
     "output_type": "stream",
     "text": [
      "Updating files:  14% (27/181)\r"
     ]
    },
    {
     "name": "stdout",
     "output_type": "stream",
     "text": [
      "Updating files:  15% (28/181)\r"
     ]
    },
    {
     "name": "stdout",
     "output_type": "stream",
     "text": [
      "Updating files:  16% (29/181)\r"
     ]
    },
    {
     "name": "stdout",
     "output_type": "stream",
     "text": [
      "Updating files:  16% (30/181)\r"
     ]
    },
    {
     "name": "stdout",
     "output_type": "stream",
     "text": [
      "Updating files:  17% (31/181)\r"
     ]
    },
    {
     "name": "stdout",
     "output_type": "stream",
     "text": [
      "Updating files:  18% (33/181)\r",
      "Updating files:  19% (35/181)\r",
      "Updating files:  20% (37/181)\r",
      "Updating files:  21% (39/181)\r",
      "Updating files:  22% (40/181)\r",
      "Updating files:  23% (42/181)\r",
      "Updating files:  24% (44/181)\r",
      "Updating files:  25% (46/181)\r",
      "Updating files:  26% (48/181)\r",
      "Updating files:  27% (49/181)\r",
      "Updating files:  28% (51/181)\r",
      "Updating files:  29% (53/181)\r",
      "Updating files:  30% (55/181)\r",
      "Updating files:  31% (57/181)\r",
      "Updating files:  32% (58/181)\r",
      "Updating files:  33% (60/181)\r",
      "Updating files:  34% (62/181)\r",
      "Updating files:  35% (64/181)\r",
      "Updating files:  36% (66/181)\r",
      "Updating files:  37% (67/181)\r",
      "Updating files:  38% (69/181)\r",
      "Updating files:  39% (71/181)\r",
      "Updating files:  40% (73/181)\r",
      "Updating files:  41% (75/181)\r",
      "Updating files:  42% (77/181)\r",
      "Updating files:  43% (78/181)\r",
      "Updating files:  44% (80/181)\r",
      "Updating files:  45% (82/181)\r",
      "Updating files:  46% (84/181)\r"
     ]
    },
    {
     "name": "stdout",
     "output_type": "stream",
     "text": [
      "Updating files:  47% (86/181)\r",
      "Updating files:  48% (87/181)\r",
      "Updating files:  49% (89/181)\r",
      "Updating files:  50% (91/181)\r",
      "Updating files:  51% (93/181)\r",
      "Updating files:  52% (95/181)\r",
      "Updating files:  53% (96/181)\r",
      "Updating files:  54% (98/181)\r",
      "Updating files:  55% (100/181)\r",
      "Updating files:  56% (102/181)\r",
      "Updating files:  57% (104/181)\r",
      "Updating files:  58% (105/181)\r",
      "Updating files:  59% (107/181)\r",
      "Updating files:  60% (109/181)\r",
      "Updating files:  61% (111/181)\r",
      "Updating files:  62% (113/181)\r",
      "Updating files:  63% (115/181)\r",
      "Updating files:  64% (116/181)\r",
      "Updating files:  65% (118/181)\r",
      "Updating files:  66% (120/181)\r",
      "Updating files:  67% (122/181)\r",
      "Updating files:  68% (124/181)\r",
      "Updating files:  69% (125/181)\r",
      "Updating files:  70% (127/181)\r",
      "Updating files:  71% (129/181)\r",
      "Updating files:  72% (131/181)\r",
      "Updating files:  73% (133/181)\r",
      "Updating files:  74% (134/181)\r",
      "Updating files:  75% (136/181)\r",
      "Updating files:  76% (138/181)\r",
      "Updating files:  77% (140/181)\r",
      "Updating files:  78% (142/181)\r",
      "Updating files:  79% (143/181)\r",
      "Updating files:  80% (145/181)\r",
      "Updating files:  81% (147/181)\r",
      "Updating files:  82% (149/181)\r",
      "Updating files:  83% (151/181)\r",
      "Updating files:  84% (153/181)\r",
      "Updating files:  85% (154/181)\r",
      "Updating files:  86% (156/181)\r",
      "Updating files:  87% (158/181)\r",
      "Updating files:  88% (160/181)\r",
      "Updating files:  89% (162/181)\r",
      "Updating files:  90% (163/181)\r",
      "Updating files:  91% (165/181)\r",
      "Updating files:  92% (167/181)\r",
      "Updating files:  93% (169/181)\r",
      "Updating files:  94% (171/181)\r",
      "Updating files:  95% (172/181)\r",
      "Updating files:  96% (174/181)\r",
      "Updating files:  97% (176/181)\r",
      "Updating files:  98% (178/181)\r",
      "Updating files:  99% (180/181)\r",
      "Updating files: 100% (181/181)\r",
      "Updating files: 100% (181/181), done.\r\n"
     ]
    }
   ],
   "source": [
    "!pip install torchmetrics\n",
    "!git clone https://github.com/EkagraGupta/MasterArbeit.git"
   ]
  },
  {
   "cell_type": "code",
   "execution_count": 2,
   "id": "d6d47aaa",
   "metadata": {
    "execution": {
     "iopub.execute_input": "2024-09-19T10:47:01.800519Z",
     "iopub.status.busy": "2024-09-19T10:47:01.800193Z",
     "iopub.status.idle": "2024-09-19T10:47:02.642426Z",
     "shell.execute_reply": "2024-09-19T10:47:02.641777Z"
    },
    "papermill": {
     "duration": 0.855895,
     "end_time": "2024-09-19T10:47:02.644118",
     "exception": false,
     "start_time": "2024-09-19T10:47:01.788223",
     "status": "completed"
    },
    "tags": []
   },
   "outputs": [
    {
     "name": "stdout",
     "output_type": "stream",
     "text": [
      "['motion_blur.npy', 'speckle_noise.npy', 'jpeg_compression.npy', 'impulse_noise.npy', 'defocus_blur.npy', 'brightness.npy', 'elastic_transform.npy', 'snow.npy', 'labels.npy', 'gaussian_blur.npy', 'README.txt', 'frost.npy', 'zoom_blur.npy', 'spatter.npy', 'fog.npy', 'gaussian_noise.npy', 'contrast.npy', 'saturate.npy', 'shot_noise.npy', 'pixelate.npy', 'glass_blur.npy']\n",
      "Hyperparameters:\n",
      "\tDataset: CIFAR100\n",
      "\tType: custom\n",
      "\tEpochs: 200\n",
      "\tTPU Enabled: True\n"
     ]
    }
   ],
   "source": [
    "# This Python 3 environment comes with many helpful analytics libraries installed\n",
    "# It is defined by the kaggle/python Docker image: https://github.com/kaggle/docker-python\n",
    "# For example, here's several helpful packages to load\n",
    "\n",
    "import numpy as np # linear algebra\n",
    "import pandas as pd # data processing, CSV file I/O (e.g. pd.read_csv)\n",
    "import os\n",
    "\n",
    "DATASET_NAME = 'CIFAR100'    # CIFAR10, CIFAR100\n",
    "DATASET_TYPE = 'custom'   # baseline, custom\n",
    "REWEIGHT = True\n",
    "EPOCHS = 200\n",
    "BATCH_SIZE = 512\n",
    "ENABLE_TPU = True\n",
    "\n",
    "# CIFAR-10-C\n",
    "if DATASET_NAME=='CIFAR10':\n",
    "    dataset_dir = '/kaggle/input/cifar-c'\n",
    "    print(os.listdir(dataset_dir))\n",
    "    # Define the path to the subdirectory\n",
    "    sub_dir = os.path.join(dataset_dir, 'CIFAR-10-C')\n",
    "    # List contents of the subdirectory\n",
    "    print(os.listdir(sub_dir))\n",
    "elif DATASET_NAME=='CIFAR100':\n",
    "    # CIFAR-100-C\n",
    "    dataset_dir = '/kaggle/input/cifar-100-c'\n",
    "    print(os.listdir(dataset_dir))\n",
    "else:\n",
    "    raise ValueError(f'Dataset {DATASET_NAME} not supported')\n",
    "    \n",
    "\n",
    "print(f'Hyperparameters:\\n\\tDataset: {DATASET_NAME}\\n\\tType: {DATASET_TYPE}\\n\\tEpochs: {EPOCHS}\\n\\tTPU Enabled: {ENABLE_TPU}')"
   ]
  },
  {
   "cell_type": "code",
   "execution_count": 3,
   "id": "83c655e8",
   "metadata": {
    "execution": {
     "iopub.execute_input": "2024-09-19T10:47:02.667923Z",
     "iopub.status.busy": "2024-09-19T10:47:02.667566Z",
     "iopub.status.idle": "2024-09-19T10:48:06.563070Z",
     "shell.execute_reply": "2024-09-19T10:48:06.562015Z"
    },
    "papermill": {
     "duration": 63.909609,
     "end_time": "2024-09-19T10:48:06.565133",
     "exception": false,
     "start_time": "2024-09-19T10:47:02.655524",
     "status": "completed"
    },
    "tags": []
   },
   "outputs": [
    {
     "name": "stdout",
     "output_type": "stream",
     "text": [
      "TPU is Enabled\n"
     ]
    },
    {
     "name": "stderr",
     "output_type": "stream",
     "text": [
      "/usr/local/lib/python3.10/site-packages/torch_xla/__init__.py:202: UserWarning: `tensorflow` can conflict with `torch-xla`. Prefer `tensorflow-cpu` when using PyTorch/XLA. To silence this warning, `pip uninstall -y tensorflow && pip install tensorflow-cpu`. If you are in a notebook environment such as Colab or Kaggle, restart your notebook runtime afterwards.\n",
      "  warnings.warn(\n"
     ]
    },
    {
     "name": "stderr",
     "output_type": "stream",
     "text": [
      "WARNING: Logging before InitGoogle() is written to STDERR\n",
      "E0000 00:00:1726742850.491708      77 common_lib.cc:818] Could not set metric server port: INVALID_ARGUMENT: Could not find SliceBuilder port 8471 in any of the 0 ports provided in `tpu_process_addresses`=\"local\"\n",
      "=== Source Location Trace: === \n",
      "learning/45eac/tfrc/runtime/common_lib.cc:483\n"
     ]
    },
    {
     "name": "stdout",
     "output_type": "stream",
     "text": [
      "Loading CIFAR100...\n",
      "\n"
     ]
    },
    {
     "name": "stdout",
     "output_type": "stream",
     "text": [
      "Downloading https://www.cs.toronto.edu/~kriz/cifar-100-python.tar.gz to ./data/cifar-100-python.tar.gz\n"
     ]
    },
    {
     "name": "stderr",
     "output_type": "stream",
     "text": [
      "\r",
      "  0%|          | 0/169001437 [00:00<?, ?it/s]"
     ]
    },
    {
     "name": "stderr",
     "output_type": "stream",
     "text": [
      "\r",
      "  0%|          | 65536/169001437 [00:00<07:50, 359213.28it/s]"
     ]
    },
    {
     "name": "stderr",
     "output_type": "stream",
     "text": [
      "\r",
      "  0%|          | 229376/169001437 [00:00<04:11, 670786.49it/s]"
     ]
    },
    {
     "name": "stderr",
     "output_type": "stream",
     "text": [
      "\r",
      "  1%|          | 917504/169001437 [00:00<01:21, 2067109.50it/s]"
     ]
    },
    {
     "name": "stderr",
     "output_type": "stream",
     "text": [
      "\r",
      "  2%|▏         | 2719744/169001437 [00:00<00:26, 6234636.78it/s]"
     ]
    },
    {
     "name": "stderr",
     "output_type": "stream",
     "text": [
      "\r",
      "  3%|▎         | 5308416/169001437 [00:00<00:14, 11570733.77it/s]"
     ]
    },
    {
     "name": "stderr",
     "output_type": "stream",
     "text": [
      "\r",
      "  5%|▌         | 8945664/169001437 [00:00<00:08, 18499789.18it/s]"
     ]
    },
    {
     "name": "stderr",
     "output_type": "stream",
     "text": [
      "\r",
      "  7%|▋         | 12582912/169001437 [00:00<00:06, 23578332.75it/s]"
     ]
    },
    {
     "name": "stderr",
     "output_type": "stream",
     "text": [
      "\r",
      "  9%|▉         | 15728640/169001437 [00:01<00:06, 22141431.89it/s]"
     ]
    },
    {
     "name": "stderr",
     "output_type": "stream",
     "text": [
      "\r",
      " 11%|█▏        | 19038208/169001437 [00:01<00:06, 24937250.46it/s]"
     ]
    },
    {
     "name": "stderr",
     "output_type": "stream",
     "text": [
      "\r",
      " 13%|█▎        | 22282240/169001437 [00:01<00:05, 26965554.22it/s]"
     ]
    },
    {
     "name": "stderr",
     "output_type": "stream",
     "text": [
      "\r",
      " 15%|█▌        | 25886720/169001437 [00:01<00:04, 29492679.83it/s]"
     ]
    },
    {
     "name": "stderr",
     "output_type": "stream",
     "text": [
      "\r",
      " 17%|█▋        | 29425664/169001437 [00:01<00:04, 31168917.92it/s]"
     ]
    },
    {
     "name": "stderr",
     "output_type": "stream",
     "text": [
      "\r",
      " 20%|█▉        | 33030144/169001437 [00:01<00:04, 32567751.97it/s]"
     ]
    },
    {
     "name": "stderr",
     "output_type": "stream",
     "text": [
      "\r",
      " 22%|██▏       | 36634624/169001437 [00:01<00:03, 33565530.47it/s]"
     ]
    },
    {
     "name": "stderr",
     "output_type": "stream",
     "text": [
      "\r",
      " 24%|██▍       | 40173568/169001437 [00:01<00:03, 34091803.88it/s]"
     ]
    },
    {
     "name": "stderr",
     "output_type": "stream",
     "text": [
      "\r",
      " 26%|██▌       | 43778048/169001437 [00:01<00:03, 34638518.66it/s]"
     ]
    },
    {
     "name": "stderr",
     "output_type": "stream",
     "text": [
      "\r",
      " 28%|██▊       | 47284224/169001437 [00:02<00:03, 30636925.89it/s]"
     ]
    },
    {
     "name": "stderr",
     "output_type": "stream",
     "text": [
      "\r",
      " 30%|██▉       | 50593792/169001437 [00:02<00:03, 31242876.52it/s]"
     ]
    },
    {
     "name": "stderr",
     "output_type": "stream",
     "text": [
      "\r",
      " 32%|███▏      | 53903360/169001437 [00:02<00:03, 31742914.79it/s]"
     ]
    },
    {
     "name": "stderr",
     "output_type": "stream",
     "text": [
      "\r",
      " 34%|███▍      | 57180160/169001437 [00:02<00:03, 31962320.72it/s]"
     ]
    },
    {
     "name": "stderr",
     "output_type": "stream",
     "text": [
      "\r",
      " 36%|███▌      | 60424192/169001437 [00:02<00:03, 31133683.10it/s]"
     ]
    },
    {
     "name": "stderr",
     "output_type": "stream",
     "text": [
      "\r",
      " 38%|███▊      | 64028672/169001437 [00:02<00:03, 32526509.72it/s]"
     ]
    },
    {
     "name": "stderr",
     "output_type": "stream",
     "text": [
      "\r",
      " 40%|███▉      | 67600384/169001437 [00:02<00:03, 33412911.26it/s]"
     ]
    },
    {
     "name": "stderr",
     "output_type": "stream",
     "text": [
      "\r",
      " 42%|████▏     | 71172096/169001437 [00:02<00:02, 34076764.20it/s]"
     ]
    },
    {
     "name": "stderr",
     "output_type": "stream",
     "text": [
      "\r",
      " 44%|████▍     | 74743808/169001437 [00:02<00:02, 34534305.48it/s]"
     ]
    },
    {
     "name": "stderr",
     "output_type": "stream",
     "text": [
      "\r",
      " 46%|████▋     | 78217216/169001437 [00:02<00:02, 34464284.20it/s]"
     ]
    },
    {
     "name": "stderr",
     "output_type": "stream",
     "text": [
      "\r",
      " 48%|████▊     | 81690624/169001437 [00:03<00:02, 33278806.17it/s]"
     ]
    },
    {
     "name": "stderr",
     "output_type": "stream",
     "text": [
      "\r",
      " 50%|█████     | 85065728/169001437 [00:03<00:02, 32753869.09it/s]"
     ]
    },
    {
     "name": "stderr",
     "output_type": "stream",
     "text": [
      "\r",
      " 52%|█████▏    | 88375296/169001437 [00:03<00:02, 30388294.02it/s]"
     ]
    },
    {
     "name": "stderr",
     "output_type": "stream",
     "text": [
      "\r",
      " 54%|█████▍    | 91553792/169001437 [00:03<00:02, 30721514.54it/s]"
     ]
    },
    {
     "name": "stderr",
     "output_type": "stream",
     "text": [
      "\r",
      " 56%|█████▌    | 94830592/169001437 [00:03<00:02, 31264616.83it/s]"
     ]
    },
    {
     "name": "stderr",
     "output_type": "stream",
     "text": [
      "\r",
      " 58%|█████▊    | 98041856/169001437 [00:03<00:02, 31492191.23it/s]"
     ]
    },
    {
     "name": "stderr",
     "output_type": "stream",
     "text": [
      "\r",
      " 60%|█████▉    | 101384192/169001437 [00:03<00:02, 31941342.34it/s]"
     ]
    },
    {
     "name": "stderr",
     "output_type": "stream",
     "text": [
      "\r",
      " 62%|██████▏   | 104988672/169001437 [00:03<00:01, 33120519.71it/s]"
     ]
    },
    {
     "name": "stderr",
     "output_type": "stream",
     "text": [
      "\r",
      " 64%|██████▍   | 108494848/169001437 [00:03<00:01, 33682019.68it/s]"
     ]
    },
    {
     "name": "stderr",
     "output_type": "stream",
     "text": [
      "\r",
      " 66%|██████▋   | 112066560/169001437 [00:04<00:01, 34268346.24it/s]"
     ]
    },
    {
     "name": "stderr",
     "output_type": "stream",
     "text": [
      "\r",
      " 68%|██████▊   | 115638272/169001437 [00:04<00:01, 34686079.50it/s]"
     ]
    },
    {
     "name": "stderr",
     "output_type": "stream",
     "text": [
      "\r",
      " 71%|███████   | 119242752/169001437 [00:04<00:01, 34259926.51it/s]"
     ]
    },
    {
     "name": "stderr",
     "output_type": "stream",
     "text": [
      "\r",
      " 73%|███████▎  | 122683392/169001437 [00:04<00:01, 32648666.05it/s]"
     ]
    },
    {
     "name": "stderr",
     "output_type": "stream",
     "text": [
      "\r",
      " 75%|███████▍  | 125992960/169001437 [00:04<00:01, 32680777.69it/s]"
     ]
    },
    {
     "name": "stderr",
     "output_type": "stream",
     "text": [
      "\r",
      " 77%|███████▋  | 129302528/169001437 [00:04<00:01, 32376928.01it/s]"
     ]
    },
    {
     "name": "stderr",
     "output_type": "stream",
     "text": [
      "\r",
      " 78%|███████▊  | 132644864/169001437 [00:04<00:01, 32344314.51it/s]"
     ]
    },
    {
     "name": "stderr",
     "output_type": "stream",
     "text": [
      "\r",
      " 80%|████████  | 135888896/169001437 [00:04<00:01, 30273673.55it/s]"
     ]
    },
    {
     "name": "stderr",
     "output_type": "stream",
     "text": [
      "\r",
      " 83%|████████▎ | 139460608/169001437 [00:04<00:00, 31781647.03it/s]"
     ]
    },
    {
     "name": "stderr",
     "output_type": "stream",
     "text": [
      "\r",
      " 85%|████████▍ | 143065088/169001437 [00:04<00:00, 32989071.36it/s]"
     ]
    },
    {
     "name": "stderr",
     "output_type": "stream",
     "text": [
      "\r",
      " 87%|████████▋ | 146538496/169001437 [00:05<00:00, 33476748.51it/s]"
     ]
    },
    {
     "name": "stderr",
     "output_type": "stream",
     "text": [
      "\r",
      " 89%|████████▉ | 150044672/169001437 [00:05<00:00, 33866969.61it/s]"
     ]
    },
    {
     "name": "stderr",
     "output_type": "stream",
     "text": [
      "\r",
      " 91%|█████████ | 153649152/169001437 [00:05<00:00, 34505717.82it/s]"
     ]
    },
    {
     "name": "stderr",
     "output_type": "stream",
     "text": [
      "\r",
      " 93%|█████████▎| 157220864/169001437 [00:05<00:00, 34542368.50it/s]"
     ]
    },
    {
     "name": "stderr",
     "output_type": "stream",
     "text": [
      "\r",
      " 95%|█████████▌| 160694272/169001437 [00:05<00:00, 31307053.98it/s]"
     ]
    },
    {
     "name": "stderr",
     "output_type": "stream",
     "text": [
      "\r",
      " 97%|█████████▋| 163905536/169001437 [00:05<00:00, 31240973.12it/s]"
     ]
    },
    {
     "name": "stderr",
     "output_type": "stream",
     "text": [
      "\r",
      " 99%|█████████▉| 167149568/169001437 [00:05<00:00, 30956954.34it/s]"
     ]
    },
    {
     "name": "stderr",
     "output_type": "stream",
     "text": [
      "\r",
      "100%|██████████| 169001437/169001437 [00:05<00:00, 29323328.40it/s]"
     ]
    },
    {
     "name": "stderr",
     "output_type": "stream",
     "text": [
      "\n"
     ]
    },
    {
     "name": "stdout",
     "output_type": "stream",
     "text": [
      "Extracting ./data/cifar-100-python.tar.gz to ./data\n"
     ]
    },
    {
     "name": "stdout",
     "output_type": "stream",
     "text": [
      "Files already downloaded and verified\n"
     ]
    },
    {
     "name": "stderr",
     "output_type": "stream",
     "text": [
      "/usr/local/lib/python3.10/site-packages/IPython/core/magics/osm.py:417: UserWarning: This is now an optional IPython functionality, setting dhist requires you to install the `pickleshare` library.\n",
      "  self.shell.db['dhist'] = compress_dhist(dhist)[-100:]\n"
     ]
    },
    {
     "name": "stdout",
     "output_type": "stream",
     "text": [
      "/kaggle/working/MasterArbeit\n"
     ]
    },
    {
     "name": "stderr",
     "output_type": "stream",
     "text": [
      "/usr/local/lib/python3.10/site-packages/tqdm/auto.py:21: TqdmWarning: IProgress not found. Please update jupyter and ipywidgets. See https://ipywidgets.readthedocs.io/en/stable/user_install.html\n",
      "  from .autonotebook import tqdm as notebook_tqdm\n"
     ]
    },
    {
     "name": "stdout",
     "output_type": "stream",
     "text": [
      "Downloading https://www.cs.toronto.edu/~kriz/cifar-100-python.tar.gz to ./data/train/cifar-100-python.tar.gz\n"
     ]
    },
    {
     "name": "stderr",
     "output_type": "stream",
     "text": [
      "\r",
      "  0%|          | 0/169001437 [00:00<?, ?it/s]"
     ]
    },
    {
     "name": "stderr",
     "output_type": "stream",
     "text": [
      "\r",
      "  0%|          | 65536/169001437 [00:00<07:45, 363004.03it/s]"
     ]
    },
    {
     "name": "stderr",
     "output_type": "stream",
     "text": [
      "\r",
      "  0%|          | 196608/169001437 [00:00<04:53, 574212.28it/s]"
     ]
    },
    {
     "name": "stderr",
     "output_type": "stream",
     "text": [
      "\r",
      "  0%|          | 753664/169001437 [00:00<01:38, 1709748.58it/s]"
     ]
    },
    {
     "name": "stderr",
     "output_type": "stream",
     "text": [
      "\r",
      "  2%|▏         | 2588672/169001437 [00:00<00:27, 6099263.62it/s]"
     ]
    },
    {
     "name": "stderr",
     "output_type": "stream",
     "text": [
      "\r",
      "  3%|▎         | 5013504/169001437 [00:00<00:14, 11067443.63it/s]"
     ]
    },
    {
     "name": "stderr",
     "output_type": "stream",
     "text": [
      "\r",
      "  5%|▌         | 8683520/169001437 [00:00<00:08, 18264028.81it/s]"
     ]
    },
    {
     "name": "stderr",
     "output_type": "stream",
     "text": [
      "\r",
      "  7%|▋         | 12288000/169001437 [00:01<00:07, 20122513.32it/s]"
     ]
    },
    {
     "name": "stderr",
     "output_type": "stream",
     "text": [
      "\r",
      "  9%|▉         | 15695872/169001437 [00:01<00:06, 23595077.34it/s]"
     ]
    },
    {
     "name": "stderr",
     "output_type": "stream",
     "text": [
      "\r",
      " 11%|█▏        | 19070976/169001437 [00:01<00:05, 26328587.19it/s]"
     ]
    },
    {
     "name": "stderr",
     "output_type": "stream",
     "text": [
      "\r",
      " 14%|█▎        | 22839296/169001437 [00:01<00:04, 29476016.94it/s]"
     ]
    },
    {
     "name": "stderr",
     "output_type": "stream",
     "text": [
      "\r",
      " 16%|█▌        | 26607616/169001437 [00:01<00:04, 31791067.33it/s]"
     ]
    },
    {
     "name": "stderr",
     "output_type": "stream",
     "text": [
      "\r",
      " 18%|█▊        | 30212096/169001437 [00:01<00:04, 33000400.91it/s]"
     ]
    },
    {
     "name": "stderr",
     "output_type": "stream",
     "text": [
      "\r",
      " 20%|██        | 33980416/169001437 [00:01<00:03, 34329008.08it/s]"
     ]
    },
    {
     "name": "stderr",
     "output_type": "stream",
     "text": [
      "\r",
      " 22%|██▏       | 37486592/169001437 [00:01<00:04, 31020111.16it/s]"
     ]
    },
    {
     "name": "stderr",
     "output_type": "stream",
     "text": [
      "\r",
      " 24%|██▍       | 40763392/169001437 [00:01<00:04, 31286755.95it/s]"
     ]
    },
    {
     "name": "stderr",
     "output_type": "stream",
     "text": [
      "\r",
      " 26%|██▌       | 44105728/169001437 [00:01<00:03, 31880696.25it/s]"
     ]
    },
    {
     "name": "stderr",
     "output_type": "stream",
     "text": [
      "\r",
      " 28%|██▊       | 47415296/169001437 [00:02<00:03, 32014939.81it/s]"
     ]
    },
    {
     "name": "stderr",
     "output_type": "stream",
     "text": [
      "\r",
      " 30%|██▉       | 50659328/169001437 [00:02<00:03, 31660056.63it/s]"
     ]
    },
    {
     "name": "stderr",
     "output_type": "stream",
     "text": [
      "\r",
      " 32%|███▏      | 54427648/169001437 [00:02<00:03, 33381013.54it/s]"
     ]
    },
    {
     "name": "stderr",
     "output_type": "stream",
     "text": [
      "\r",
      " 34%|███▍      | 58130432/169001437 [00:02<00:03, 34441271.46it/s]"
     ]
    },
    {
     "name": "stderr",
     "output_type": "stream",
     "text": [
      "\r",
      " 37%|███▋      | 61734912/169001437 [00:02<00:03, 34908914.67it/s]"
     ]
    },
    {
     "name": "stderr",
     "output_type": "stream",
     "text": [
      "\r",
      " 39%|███▊      | 65273856/169001437 [00:02<00:03, 33979568.42it/s]"
     ]
    },
    {
     "name": "stderr",
     "output_type": "stream",
     "text": [
      "\r",
      " 41%|████      | 68714496/169001437 [00:02<00:02, 33739983.57it/s]"
     ]
    },
    {
     "name": "stderr",
     "output_type": "stream",
     "text": [
      "\r",
      " 43%|████▎     | 72122368/169001437 [00:02<00:02, 33496602.15it/s]"
     ]
    },
    {
     "name": "stderr",
     "output_type": "stream",
     "text": [
      "\r",
      " 45%|████▍     | 75497472/169001437 [00:02<00:03, 30372216.88it/s]"
     ]
    },
    {
     "name": "stderr",
     "output_type": "stream",
     "text": [
      "\r",
      " 47%|████▋     | 78872576/169001437 [00:03<00:02, 31274540.02it/s]"
     ]
    },
    {
     "name": "stderr",
     "output_type": "stream",
     "text": [
      "\r",
      " 49%|████▉     | 82608128/169001437 [00:03<00:02, 32981304.59it/s]"
     ]
    },
    {
     "name": "stderr",
     "output_type": "stream",
     "text": [
      "\r",
      " 51%|█████     | 86376448/169001437 [00:03<00:02, 34302070.42it/s]"
     ]
    },
    {
     "name": "stderr",
     "output_type": "stream",
     "text": [
      "\r",
      " 53%|█████▎    | 89948160/169001437 [00:03<00:02, 34467013.27it/s]"
     ]
    },
    {
     "name": "stderr",
     "output_type": "stream",
     "text": [
      "\r",
      " 55%|█████▌    | 93716480/169001437 [00:03<00:02, 35393294.87it/s]"
     ]
    },
    {
     "name": "stderr",
     "output_type": "stream",
     "text": [
      "\r",
      " 58%|█████▊    | 97288192/169001437 [00:03<00:02, 31790527.90it/s]"
     ]
    },
    {
     "name": "stderr",
     "output_type": "stream",
     "text": [
      "\r",
      " 60%|█████▉    | 100564992/169001437 [00:03<00:02, 31782161.51it/s]"
     ]
    },
    {
     "name": "stderr",
     "output_type": "stream",
     "text": [
      "\r",
      " 62%|██████▏   | 103940096/169001437 [00:03<00:02, 32268465.07it/s]"
     ]
    },
    {
     "name": "stderr",
     "output_type": "stream",
     "text": [
      "\r",
      " 63%|██████▎   | 107216896/169001437 [00:03<00:01, 32248578.68it/s]"
     ]
    },
    {
     "name": "stderr",
     "output_type": "stream",
     "text": [
      "\r",
      " 65%|██████▌   | 110493696/169001437 [00:03<00:01, 32161532.40it/s]"
     ]
    },
    {
     "name": "stderr",
     "output_type": "stream",
     "text": [
      "\r",
      " 68%|██████▊   | 114262016/169001437 [00:04<00:01, 33738947.61it/s]"
     ]
    },
    {
     "name": "stderr",
     "output_type": "stream",
     "text": [
      "\r",
      " 70%|██████▉   | 117997568/169001437 [00:04<00:01, 34787144.28it/s]"
     ]
    },
    {
     "name": "stderr",
     "output_type": "stream",
     "text": [
      "\r",
      " 72%|███████▏  | 121503744/169001437 [00:04<00:01, 34684446.35it/s]"
     ]
    },
    {
     "name": "stderr",
     "output_type": "stream",
     "text": [
      "\r",
      " 74%|███████▍  | 125075456/169001437 [00:04<00:01, 34826978.68it/s]"
     ]
    },
    {
     "name": "stderr",
     "output_type": "stream",
     "text": [
      "\r",
      " 76%|███████▌  | 128581632/169001437 [00:04<00:01, 33424572.70it/s]"
     ]
    },
    {
     "name": "stderr",
     "output_type": "stream",
     "text": [
      "\r",
      " 78%|███████▊  | 131956736/169001437 [00:04<00:01, 32940249.61it/s]"
     ]
    },
    {
     "name": "stderr",
     "output_type": "stream",
     "text": [
      "\r",
      " 80%|████████  | 135364608/169001437 [00:04<00:01, 31276669.88it/s]"
     ]
    },
    {
     "name": "stderr",
     "output_type": "stream",
     "text": [
      "\r",
      " 82%|████████▏ | 138608640/169001437 [00:04<00:00, 31321819.08it/s]"
     ]
    },
    {
     "name": "stderr",
     "output_type": "stream",
     "text": [
      "\r",
      " 84%|████████▍ | 142049280/169001437 [00:04<00:00, 32180933.24it/s]"
     ]
    },
    {
     "name": "stderr",
     "output_type": "stream",
     "text": [
      "\r",
      " 86%|████████▋ | 145784832/169001437 [00:05<00:00, 33664717.33it/s]"
     ]
    },
    {
     "name": "stderr",
     "output_type": "stream",
     "text": [
      "\r",
      " 88%|████████▊ | 149487616/169001437 [00:05<00:00, 34630939.60it/s]"
     ]
    },
    {
     "name": "stderr",
     "output_type": "stream",
     "text": [
      "\r",
      " 91%|█████████ | 152993792/169001437 [00:05<00:00, 34342792.53it/s]"
     ]
    },
    {
     "name": "stderr",
     "output_type": "stream",
     "text": [
      "\r",
      " 93%|█████████▎| 156762112/169001437 [00:05<00:00, 35308497.82it/s]"
     ]
    },
    {
     "name": "stderr",
     "output_type": "stream",
     "text": [
      "\r",
      " 95%|█████████▍| 160333824/169001437 [00:05<00:00, 32202487.98it/s]"
     ]
    },
    {
     "name": "stderr",
     "output_type": "stream",
     "text": [
      "\r",
      " 97%|█████████▋| 163643392/169001437 [00:05<00:00, 31812423.43it/s]"
     ]
    },
    {
     "name": "stderr",
     "output_type": "stream",
     "text": [
      "\r",
      " 99%|█████████▉| 166920192/169001437 [00:05<00:00, 32016298.13it/s]"
     ]
    },
    {
     "name": "stderr",
     "output_type": "stream",
     "text": [
      "\r",
      "100%|██████████| 169001437/169001437 [00:05<00:00, 29670797.93it/s]"
     ]
    },
    {
     "name": "stderr",
     "output_type": "stream",
     "text": [
      "\n"
     ]
    },
    {
     "name": "stdout",
     "output_type": "stream",
     "text": [
      "Extracting ./data/train/cifar-100-python.tar.gz to ./data/train\n"
     ]
    },
    {
     "name": "stdout",
     "output_type": "stream",
     "text": [
      "Downloading https://www.cs.toronto.edu/~kriz/cifar-100-python.tar.gz to ./data/test/cifar-100-python.tar.gz\n"
     ]
    },
    {
     "name": "stderr",
     "output_type": "stream",
     "text": [
      "\r",
      "  0%|          | 0/169001437 [00:00<?, ?it/s]"
     ]
    },
    {
     "name": "stderr",
     "output_type": "stream",
     "text": [
      "\r",
      "  0%|          | 65536/169001437 [00:00<07:46, 362419.65it/s]"
     ]
    },
    {
     "name": "stderr",
     "output_type": "stream",
     "text": [
      "\r",
      "  0%|          | 229376/169001437 [00:00<04:08, 678212.48it/s]"
     ]
    },
    {
     "name": "stderr",
     "output_type": "stream",
     "text": [
      "\r",
      "  1%|          | 917504/169001437 [00:00<01:20, 2091906.25it/s]"
     ]
    },
    {
     "name": "stderr",
     "output_type": "stream",
     "text": [
      "\r",
      "  2%|▏         | 2850816/169001437 [00:00<00:25, 6632536.07it/s]"
     ]
    },
    {
     "name": "stderr",
     "output_type": "stream",
     "text": [
      "\r",
      "  3%|▎         | 5701632/169001437 [00:00<00:12, 12610832.71it/s]"
     ]
    },
    {
     "name": "stderr",
     "output_type": "stream",
     "text": [
      "\r",
      "  6%|▌         | 9437184/169001437 [00:00<00:08, 19559516.43it/s]"
     ]
    },
    {
     "name": "stderr",
     "output_type": "stream",
     "text": [
      "\r",
      "  8%|▊         | 13074432/169001437 [00:01<00:07, 20903632.15it/s]"
     ]
    },
    {
     "name": "stderr",
     "output_type": "stream",
     "text": [
      "\r",
      " 10%|█         | 17072128/169001437 [00:01<00:05, 25840643.71it/s]"
     ]
    },
    {
     "name": "stderr",
     "output_type": "stream",
     "text": [
      "\r",
      " 12%|█▏        | 20250624/169001437 [00:01<00:05, 27430689.31it/s]"
     ]
    },
    {
     "name": "stderr",
     "output_type": "stream",
     "text": [
      "\r",
      " 14%|█▍        | 23429120/169001437 [00:01<00:05, 28522454.69it/s]"
     ]
    },
    {
     "name": "stderr",
     "output_type": "stream",
     "text": [
      "\r",
      " 16%|█▌        | 27164672/169001437 [00:01<00:04, 31028412.07it/s]"
     ]
    },
    {
     "name": "stderr",
     "output_type": "stream",
     "text": [
      "\r",
      " 18%|█▊        | 30932992/169001437 [00:01<00:04, 32933331.07it/s]"
     ]
    },
    {
     "name": "stderr",
     "output_type": "stream",
     "text": [
      "\r",
      " 20%|██        | 34570240/169001437 [00:01<00:03, 33927660.28it/s]"
     ]
    },
    {
     "name": "stderr",
     "output_type": "stream",
     "text": [
      "\r",
      " 23%|██▎       | 38043648/169001437 [00:01<00:04, 31360205.54it/s]"
     ]
    },
    {
     "name": "stderr",
     "output_type": "stream",
     "text": [
      "\r",
      " 25%|██▍       | 41746432/169001437 [00:01<00:03, 32918340.82it/s]"
     ]
    },
    {
     "name": "stderr",
     "output_type": "stream",
     "text": [
      "\r",
      " 27%|██▋       | 45121536/169001437 [00:01<00:03, 33013084.41it/s]"
     ]
    },
    {
     "name": "stderr",
     "output_type": "stream",
     "text": [
      "\r",
      " 29%|██▊       | 48496640/169001437 [00:02<00:03, 30862505.26it/s]"
     ]
    },
    {
     "name": "stderr",
     "output_type": "stream",
     "text": [
      "\r",
      " 31%|███       | 52232192/169001437 [00:02<00:03, 32650045.99it/s]"
     ]
    },
    {
     "name": "stderr",
     "output_type": "stream",
     "text": [
      "\r",
      " 33%|███▎      | 55934976/169001437 [00:02<00:03, 33877441.41it/s]"
     ]
    },
    {
     "name": "stderr",
     "output_type": "stream",
     "text": [
      "\r",
      " 35%|███▌      | 59572224/169001437 [00:02<00:03, 33664109.48it/s]"
     ]
    },
    {
     "name": "stderr",
     "output_type": "stream",
     "text": [
      "\r",
      " 37%|███▋      | 63111168/169001437 [00:02<00:03, 34146086.41it/s]"
     ]
    },
    {
     "name": "stderr",
     "output_type": "stream",
     "text": [
      "\r",
      " 40%|███▉      | 66781184/169001437 [00:02<00:02, 34666929.16it/s]"
     ]
    },
    {
     "name": "stderr",
     "output_type": "stream",
     "text": [
      "\r",
      " 42%|████▏     | 70287360/169001437 [00:02<00:03, 30286108.84it/s]"
     ]
    },
    {
     "name": "stderr",
     "output_type": "stream",
     "text": [
      "\r",
      " 44%|████▍     | 73957376/169001437 [00:02<00:02, 31985140.25it/s]"
     ]
    },
    {
     "name": "stderr",
     "output_type": "stream",
     "text": [
      "\r",
      " 46%|████▌     | 77692928/169001437 [00:02<00:02, 33456268.62it/s]"
     ]
    },
    {
     "name": "stderr",
     "output_type": "stream",
     "text": [
      "\r",
      " 48%|████▊     | 81362944/169001437 [00:03<00:02, 34366398.26it/s]"
     ]
    },
    {
     "name": "stderr",
     "output_type": "stream",
     "text": [
      "\r",
      " 50%|█████     | 85098496/169001437 [00:03<00:02, 35223926.93it/s]"
     ]
    },
    {
     "name": "stderr",
     "output_type": "stream",
     "text": [
      "\r",
      " 52%|█████▏    | 88670208/169001437 [00:03<00:02, 31216672.29it/s]"
     ]
    },
    {
     "name": "stderr",
     "output_type": "stream",
     "text": [
      "\r",
      " 54%|█████▍    | 91947008/169001437 [00:03<00:02, 31264918.55it/s]"
     ]
    },
    {
     "name": "stderr",
     "output_type": "stream",
     "text": [
      "\r",
      " 56%|█████▋    | 95191040/169001437 [00:03<00:02, 31307619.47it/s]"
     ]
    },
    {
     "name": "stderr",
     "output_type": "stream",
     "text": [
      "\r",
      " 58%|█████▊    | 98402304/169001437 [00:03<00:02, 31068776.90it/s]"
     ]
    },
    {
     "name": "stderr",
     "output_type": "stream",
     "text": [
      "\r",
      " 60%|██████    | 101580800/169001437 [00:03<00:02, 31261331.15it/s]"
     ]
    },
    {
     "name": "stderr",
     "output_type": "stream",
     "text": [
      "\r",
      " 62%|██████▏   | 104824832/169001437 [00:03<00:02, 31577254.74it/s]"
     ]
    },
    {
     "name": "stderr",
     "output_type": "stream",
     "text": [
      "\r",
      " 64%|██████▍   | 108331008/169001437 [00:03<00:01, 32578578.32it/s]"
     ]
    },
    {
     "name": "stderr",
     "output_type": "stream",
     "text": [
      "\r",
      " 66%|██████▌   | 111869952/169001437 [00:03<00:01, 33401456.45it/s]"
     ]
    },
    {
     "name": "stderr",
     "output_type": "stream",
     "text": [
      "\r",
      " 68%|██████▊   | 115245056/169001437 [00:04<00:01, 33100666.19it/s]"
     ]
    },
    {
     "name": "stderr",
     "output_type": "stream",
     "text": [
      "\r",
      " 70%|███████   | 118685696/169001437 [00:04<00:01, 33444887.89it/s]"
     ]
    },
    {
     "name": "stderr",
     "output_type": "stream",
     "text": [
      "\r",
      " 72%|███████▏  | 122290176/169001437 [00:04<00:01, 34161136.12it/s]"
     ]
    },
    {
     "name": "stderr",
     "output_type": "stream",
     "text": [
      "\r",
      " 74%|███████▍  | 125796352/169001437 [00:04<00:01, 34422848.23it/s]"
     ]
    },
    {
     "name": "stderr",
     "output_type": "stream",
     "text": [
      "\r",
      " 76%|███████▋  | 129269760/169001437 [00:04<00:01, 29793901.23it/s]"
     ]
    },
    {
     "name": "stderr",
     "output_type": "stream",
     "text": [
      "\r",
      " 78%|███████▊  | 132579328/169001437 [00:04<00:01, 30678892.68it/s]"
     ]
    },
    {
     "name": "stderr",
     "output_type": "stream",
     "text": [
      "\r",
      " 81%|████████  | 136085504/169001437 [00:04<00:01, 31877109.51it/s]"
     ]
    },
    {
     "name": "stderr",
     "output_type": "stream",
     "text": [
      "\r",
      " 83%|████████▎ | 139624448/169001437 [00:04<00:00, 32854725.78it/s]"
     ]
    },
    {
     "name": "stderr",
     "output_type": "stream",
     "text": [
      "\r",
      " 85%|████████▍ | 143097856/169001437 [00:04<00:00, 33380045.85it/s]"
     ]
    },
    {
     "name": "stderr",
     "output_type": "stream",
     "text": [
      "\r",
      " 87%|████████▋ | 146505728/169001437 [00:05<00:00, 33139910.00it/s]"
     ]
    },
    {
     "name": "stderr",
     "output_type": "stream",
     "text": [
      "\r",
      " 89%|████████▊ | 149880832/169001437 [00:05<00:00, 33258727.70it/s]"
     ]
    },
    {
     "name": "stderr",
     "output_type": "stream",
     "text": [
      "\r",
      " 91%|█████████ | 153419776/169001437 [00:05<00:00, 33814850.23it/s]"
     ]
    },
    {
     "name": "stderr",
     "output_type": "stream",
     "text": [
      "\r",
      " 93%|█████████▎| 156991488/169001437 [00:05<00:00, 29871421.63it/s]"
     ]
    },
    {
     "name": "stderr",
     "output_type": "stream",
     "text": [
      "\r",
      " 95%|█████████▌| 160563200/169001437 [00:05<00:00, 31423013.19it/s]"
     ]
    },
    {
     "name": "stderr",
     "output_type": "stream",
     "text": [
      "\r",
      " 97%|█████████▋| 164069376/169001437 [00:05<00:00, 32398521.70it/s]"
     ]
    },
    {
     "name": "stderr",
     "output_type": "stream",
     "text": [
      "\r",
      " 99%|█████████▉| 167542784/169001437 [00:05<00:00, 33048697.22it/s]"
     ]
    },
    {
     "name": "stderr",
     "output_type": "stream",
     "text": [
      "\r",
      "100%|██████████| 169001437/169001437 [00:05<00:00, 29476557.14it/s]"
     ]
    },
    {
     "name": "stderr",
     "output_type": "stream",
     "text": [
      "\n"
     ]
    },
    {
     "name": "stdout",
     "output_type": "stream",
     "text": [
      "Extracting ./data/test/cifar-100-python.tar.gz to ./data/test\n"
     ]
    },
    {
     "name": "stdout",
     "output_type": "stream",
     "text": [
      "/root\n"
     ]
    },
    {
     "name": "stderr",
     "output_type": "stream",
     "text": [
      "/usr/local/lib/python3.10/site-packages/IPython/core/magics/osm.py:393: UserWarning: This is now an optional IPython functionality, using bookmarks requires you to install the `pickleshare` library.\n",
      "  bkms = self.shell.db.get('bookmarks', {})\n",
      "/usr/local/lib/python3.10/site-packages/IPython/core/magics/osm.py:428: UserWarning: This is now an optional IPython functionality, setting dhist requires you to install the `pickleshare` library.\n",
      "  self.shell.db['dhist'] = compress_dhist(dhist)[-100:]\n"
     ]
    }
   ],
   "source": [
    "# Import statements\n",
    "import torch\n",
    "import random\n",
    "import torchvision\n",
    "import torchvision.transforms as transforms\n",
    "from torch.optim.lr_scheduler import StepLR\n",
    "from torch.optim.lr_scheduler import CosineAnnealingLR\n",
    "from torchvision.transforms import TrivialAugmentWide\n",
    "from torch.utils.data import Dataset\n",
    "from torch.utils.data import ConcatDataset\n",
    "import os\n",
    "\n",
    "# Define the device\n",
    "tpu = ENABLE_TPU\n",
    "\n",
    "if tpu == True:\n",
    "    print('TPU is Enabled')\n",
    "    import torch_xla\n",
    "    import torch_xla.core.xla_model as xm\n",
    "    device = xm.xla_device()\n",
    "else:\n",
    "    device = torch.device('cuda:0' if torch.cuda.is_available() else 'cpu')  #intend here for else\n",
    "\n",
    "\n",
    "class CustomDataset(Dataset):\n",
    "    def __init__(self, np_images, original_dataset, resize):\n",
    "        # Load images\n",
    "        self.images = torch.from_numpy(np_images).permute(0, 3, 1, 2) / 255\n",
    "         #Normalize the images\n",
    "        #transform_test = transforms.Compose([\n",
    "            #transforms.Normalize((0.5, 0.5, 0.5), (0.5, 0.5, 0.5))\n",
    "        #])\n",
    "        #self.images = transform_test(self.images)\n",
    "        #if resize == True:\n",
    "            #self.images = transforms.Resize(224, antialias=True)(self.images)\n",
    "        \n",
    "        # Extract labels from the original PyTorch dataset\n",
    "        self.labels = [label for _, label in original_dataset]\n",
    "\n",
    "    def __len__(self):\n",
    "        return len(self.labels)\n",
    "\n",
    "    def __getitem__(self, index):\n",
    "        # Get image and label for the given index\n",
    "        image = self.images[index]\n",
    "        label = self.labels[index]\n",
    "\n",
    "        return image, label\n",
    "\n",
    "# Define the function to load corrupted datasets separately\n",
    "def load_data_c_separately(dataset, testset, resize, test_transforms, batch_size):\n",
    "    corruptions = ['gaussian_noise', 'shot_noise', 'impulse_noise', 'defocus_blur', 'glass_blur', 'motion_blur', 'zoom_blur', 'snow', 'frost', 'fog', 'brightness', 'contrast', 'elastic_transform', 'pixelate', 'jpeg_compression', 'speckle_noise', 'gaussian_blur', 'spatter', 'saturate']\n",
    "    np.asarray(corruptions)\n",
    "    c_datasets = {}\n",
    "    for corruption in corruptions:\n",
    "        if dataset == 'CIFAR10':\n",
    "            np_data_c = np.load(f'/kaggle/input/cifar-c/CIFAR-10-C/{corruption}.npy')\n",
    "            np_data_c = np.array(np.array_split(np_data_c, 5))\n",
    "            custom_dataset = CustomDataset(np_data_c[0], testset, resize)  # Load only one split for now\n",
    "            custom_dataloader = torch.utils.data.DataLoader(custom_dataset, batch_size=batch_size, shuffle=False)\n",
    "            c_datasets[corruption] = custom_dataloader\n",
    "        else:\n",
    "            print('No corrupted benchmark available other than CIFAR10-c.')\n",
    "\n",
    "    return c_datasets\n",
    "\n",
    "\n",
    "# Load corrupted datasets\n",
    "#corrupted_datasets = load_data_c(dataset='CIFAR10', testset=testset, resize=True, \n",
    "                                 #test_transforms=None, subset=False, subsetsize=None)\n",
    "\n",
    "# Transformations for training and test sets\n",
    "transform_train = transforms.Compose([\n",
    "    transforms.RandomHorizontalFlip(),\n",
    "    transforms.RandomCrop(32, padding=4),  \n",
    "    TrivialAugmentWide(),\n",
    "    transforms.ToTensor(),\n",
    "])\n",
    "transform_test = transforms.Compose([\n",
    "    transforms.ToTensor(),\n",
    "])\n",
    "\n",
    "batch_size = BATCH_SIZE\n",
    "\n",
    "print(f'Loading {DATASET_NAME}...\\n')\n",
    "if DATASET_NAME=='CIFAR10':\n",
    "#     Use CIFAR-10 dataset for training\n",
    "    num_classes = 10    # CIFAR-10\n",
    "    baseline_trainset = torchvision.datasets.CIFAR10(root='./data', train=True,\n",
    "                                            download=True, transform=transform_train)\n",
    "    baseline_trainloader = torch.utils.data.DataLoader(baseline_trainset, batch_size=batch_size,\n",
    "                                              shuffle=True, num_workers=2, pin_memory=True)\n",
    "\n",
    "    # Use CIFAR-10 dataset for testing\n",
    "    baseline_testset = torchvision.datasets.CIFAR10(root='./data', train=False,\n",
    "                                           download=True, transform=transform_test)\n",
    "    baseline_testloader = torch.utils.data.DataLoader(baseline_testset, batch_size=batch_size,\n",
    "                                             shuffle=False, num_workers=2, pin_memory=True)\n",
    "elif DATASET_NAME=='CIFAR100':\n",
    "    # # Use CIFAR-100 dataset for training\n",
    "    num_classes = 100   # CIFAR-100\n",
    "    baseline_trainset = torchvision.datasets.CIFAR100(root='./data', train=True,\n",
    "                                            download=True, transform=transform_train)\n",
    "    baseline_trainloader = torch.utils.data.DataLoader(baseline_trainset, batch_size=batch_size,\n",
    "                                              shuffle=True, num_workers=2, pin_memory=True)\n",
    "\n",
    "    # Use CIFAR-100 dataset for testing\n",
    "    baseline_testset = torchvision.datasets.CIFAR100(root='./data', train=False,\n",
    "                                           download=True, transform=transform_test)\n",
    "    baseline_testloader = torch.utils.data.DataLoader(baseline_testset, batch_size=batch_size,\n",
    "                                             shuffle=False, num_workers=2, pin_memory=True)\n",
    "    \n",
    "%cd /kaggle/working/MasterArbeit\n",
    "from augment_dataset import create_transforms, load_data\n",
    "# from compute_loss import soft_loss\n",
    "\n",
    "\"\"\"\n",
    " Create the transformations based on the provided flags:\n",
    " - If all flags (random_cropping, aggressive_augmentation, and custom) are False:\n",
    "   No augmentation other than default preprocessing is applied.\n",
    " - If random_cropping (rc) is True and the others (aa and custom) are False:\n",
    "   Only random cropping is applied.\n",
    " - If random_cropping (rc) and aggressive_augmentation (aa) are True, and custom is False:\n",
    "   Random cropping and conventional aggressive augmentation techniques (TA) are applied.\n",
    " - If all three flags (rc, aa, custom) are True:\n",
    "   Random cropping and soft augmentation techniques (TA) are applied.\n",
    " - If random_cropping (rc) is False, aggressive_augmentation (aa) is True, and custom is False:\n",
    "   Only conventional aggressive augmentation techniques (TA) are applied (no soft labels).\n",
    " - If random_cropping (rc) is False, aggressive_augmentation (aa) is True, and custom is True:\n",
    "   Aggressive augmentation (TA) is applied with soft labeling.\n",
    "\"\"\"\n",
    "\n",
    "transforms_preprocess, transforms_augmentation = create_transforms(random_cropping=True, aggressive_augmentation=False, custom=True, dataset_name=DATASET_NAME)\n",
    "custom_trainset, custom_testset = load_data(transforms_preprocess=transforms_preprocess, transforms_augmentation=transforms_augmentation, dataset_name=DATASET_NAME)\n",
    "custom_trainloader = torch.utils.data.DataLoader(custom_trainset, batch_size=batch_size, shuffle=True, num_workers=2, pin_memory=True)\n",
    "custom_testloader = torch.utils.data.DataLoader(custom_testset, batch_size=batch_size, shuffle=False, num_workers=2, pin_memory=True)\n",
    "%cd\n",
    "\n",
    "classes = baseline_trainset.classes\n"
   ]
  },
  {
   "cell_type": "code",
   "execution_count": 4,
   "id": "6d6e5616",
   "metadata": {
    "execution": {
     "iopub.execute_input": "2024-09-19T10:48:06.606961Z",
     "iopub.status.busy": "2024-09-19T10:48:06.606461Z",
     "iopub.status.idle": "2024-09-19T10:48:06.611365Z",
     "shell.execute_reply": "2024-09-19T10:48:06.610589Z"
    },
    "papermill": {
     "duration": 0.027971,
     "end_time": "2024-09-19T10:48:06.613205",
     "exception": false,
     "start_time": "2024-09-19T10:48:06.585234",
     "status": "completed"
    },
    "tags": []
   },
   "outputs": [
    {
     "name": "stdout",
     "output_type": "stream",
     "text": [
      "Compose(\n",
      "    RandomHorizontalFlip(p=0.5)\n",
      "    <augmentations.random_crop.RandomCrop object at 0x7ed4a7f109d0>\n",
      ")\n"
     ]
    }
   ],
   "source": [
    "print(transforms_augmentation)"
   ]
  },
  {
   "cell_type": "code",
   "execution_count": 5,
   "id": "720e2ef9",
   "metadata": {
    "execution": {
     "iopub.execute_input": "2024-09-19T10:48:06.654151Z",
     "iopub.status.busy": "2024-09-19T10:48:06.653875Z",
     "iopub.status.idle": "2024-09-19T10:48:07.691036Z",
     "shell.execute_reply": "2024-09-19T10:48:07.689871Z"
    },
    "papermill": {
     "duration": 1.064656,
     "end_time": "2024-09-19T10:48:07.697837",
     "exception": false,
     "start_time": "2024-09-19T10:48:06.633181",
     "status": "completed"
    },
    "tags": []
   },
   "outputs": [
    {
     "name": "stdout",
     "output_type": "stream",
     "text": [
      "Dataset type \"custom\" displaying...\n",
      "\n"
     ]
    },
    {
     "name": "stdout",
     "output_type": "stream",
     "text": [
      "table: 0.94 lamp : 0.61 television: 0.97 porcupine: 0.86 mountain: 0.72 camel: 0.78 snail: 0.83 squirrel: 0.98 house: 0.89 cockroach: 0.86 kangaroo: 0.87 skunk: 0.57 cup  : 0.90 willow_tree: 0.56 turtle: 0.89 spider: 0.99 television: 0.48 wolf : 0.78 fox  : 0.85 baby : 0.82 seal : 0.92 bed  : 0.96 skunk: 0.87 shrew: 0.77 lion : 0.88 rose : 0.84 skyscraper: 0.90 beaver: 0.94 lobster: 0.84 oak_tree: 0.73 leopard: 0.86 sunflower: 0.77 skyscraper: 0.97 hamster: 0.75 bicycle: 0.82 man  : 0.46 spider: 0.93 skyscraper: 1.00 squirrel: 0.90 girl : 0.97 seal : 0.94 skyscraper: 0.88 tiger: 0.78 mouse: 0.98 castle: 1.00 wolf : 0.89 orange: 0.87 poppy: 0.37 chimpanzee: 0.99 telephone: 0.86 crocodile: 0.79 aquarium_fish: 0.96 train: 0.57 train: 0.97 kangaroo: 0.74 oak_tree: 0.73 road : 0.79 chimpanzee: 0.56 mouse: 1.00 palm_tree: 0.27 butterfly: 0.97 worm : 0.38 apple: 0.96 bus  : 0.89 castle: 0.86 snail: 0.82 whale: 0.88 hamster: 0.99 tiger: 0.85 palm_tree: 0.64 pear : 0.65 oak_tree: 0.81 bottle: 0.67 table: 0.82 motorcycle: 0.88 ray  : 0.57 butterfly: 0.90 crab : 0.87 wardrobe: 0.56 tank : 0.67 house: 0.94 tiger: 0.86 camel: 0.98 rabbit: 0.96 crab : 0.86 lizard: 0.98 can  : 0.98 bicycle: 0.81 aquarium_fish: 0.82 wardrobe: 0.84 camel: 0.92 seal : 0.98 sweet_pepper: 0.81 skyscraper: 0.97 dolphin: 0.52 crab : 0.73 skunk: 0.84 palm_tree: 0.92 shrew: 0.89 possum: 0.89 mountain: 0.91 mountain: 0.66 plain: 0.88 leopard: 0.64 butterfly: 0.79 trout: 1.00 apple: 0.99 chair: 0.96 boy  : 0.55 maple_tree: 0.57 shrew: 0.86 baby : 0.33 aquarium_fish: 0.58 streetcar: 0.77 tractor: 0.70 bottle: 0.99 kangaroo: 0.94 whale: 0.81 tulip: 0.60 cloud: 0.97 caterpillar: 0.69 beaver: 0.66 crocodile: 0.49 snake: 0.34 lion : 0.97 aquarium_fish: 0.88 bed  : 0.70 girl : 0.96 dinosaur: 0.44 mountain: 0.46 flatfish: 0.93 bottle: 0.85 orange: 0.97 orange: 0.74 wardrobe: 0.89 tiger: 1.00 sweet_pepper: 0.83 sea  : 0.91 girl : 0.63 dinosaur: 0.47 train: 0.33 streetcar: 0.74 spider: 0.94 spider: 0.99 plain: 0.90 telephone: 0.81 cloud: 0.89 shark: 0.85 sunflower: 0.90 pine_tree: 0.75 tiger: 0.68 lawn_mower: 0.86 beaver: 0.84 pear : 0.83 squirrel: 0.67 camel: 0.06 plate: 0.57 whale: 0.87 cloud: 0.76 kangaroo: 0.75 streetcar: 0.93 house: 0.85 wardrobe: 0.87 lamp : 0.59 rabbit: 0.89 tiger: 0.97 mouse: 0.89 otter: 0.92 dinosaur: 0.93 lawn_mower: 0.62 raccoon: 0.74 telephone: 0.78 skyscraper: 0.88 chair: 0.54 bee  : 0.63 chimpanzee: 0.99 apple: 0.81 shrew: 0.90 can  : 0.99 maple_tree: 0.44 chair: 0.96 couch: 0.85 dolphin: 0.87 bee  : 0.41 rabbit: 0.99 possum: 0.98 worm : 0.98 leopard: 0.77 motorcycle: 0.87 sweet_pepper: 0.96 tank : 0.32 fox  : 0.75 rose : 0.65 woman: 0.83 castle: 0.85 aquarium_fish: 0.98 pear : 0.07 bottle: 0.54 dinosaur: 0.52 beetle: 0.97 bus  : 0.51 shrew: 0.87 spider: 0.77 girl : 0.79 orchid: 0.72 bicycle: 0.81 television: 0.89 orange: 0.56 bus  : 0.90 raccoon: 0.83 oak_tree: 0.83 streetcar: 0.72 worm : 0.88 mountain: 0.72 television: 0.64 streetcar: 0.99 spider: 0.97 television: 0.85 pickup_truck: 0.85 palm_tree: 0.79 whale: 0.82 cloud: 0.94 train: 0.75 can  : 0.94 trout: 0.89 fox  : 0.85 rocket: 0.92 shark: 0.98 raccoon: 1.00 camel: 0.94 road : 0.74 pine_tree: 0.94 camel: 0.91 ray  : 1.00 can  : 0.61 lizard: 0.98 wolf : 0.98 mushroom: 0.99 leopard: 0.75 willow_tree: 0.92 mountain: 0.97 wolf : 0.76 lobster: 0.92 tractor: 0.95 orange: 0.85 wolf : 0.95 crocodile: 0.89 elephant: 0.92 bottle: 0.36 wolf : 0.91 orange: 0.70 cattle: 1.00 turtle: 0.44 table: 0.74 squirrel: 0.90 tulip: 0.83 maple_tree: 0.72 lobster: 0.56 caterpillar: 0.76 girl : 0.77 shark: 0.79 fox  : 0.99 bridge: 0.97 mushroom: 0.96 shrew: 0.90 boy  : 0.74 chimpanzee: 0.88 sunflower: 0.97 couch: 0.75 pickup_truck: 0.94 lamp : 0.85 dolphin: 0.98 sea  : 0.58 couch: 0.96 willow_tree: 0.86 television: 0.90 sea  : 0.80 hamster: 0.59 rose : 0.65 telephone: 0.68 butterfly: 0.87 sea  : 0.95 beetle: 0.89 bus  : 0.69 plain: 0.38 cattle: 0.79 possum: 0.43 fox  : 0.93 telephone: 0.94 girl : 0.92 bicycle: 0.65 lawn_mower: 0.98 orange: 0.90 hamster: 0.97 rabbit: 0.93 castle: 0.90 snake: 0.72 cockroach: 0.93 butterfly: 0.83 flatfish: 0.98 fox  : 0.99 beaver: 0.88 snake: 1.00 baby : 0.75 pine_tree: 0.97 lawn_mower: 0.92 rose : 0.78 turtle: 0.81 porcupine: 0.98 rocket: 1.00 chair: 0.70 sea  : 0.55 wardrobe: 0.79 squirrel: 0.83 bee  : 0.82 fox  : 0.96 bus  : 0.73 shrew: 0.85 shrew: 0.99 whale: 0.97 table: 0.97 bear : 0.85 orchid: 0.55 telephone: 0.87 plate: 0.51 forest: 0.93 chair: 0.89 orchid: 0.81 shrew: 0.99 rabbit: 0.99 keyboard: 0.70 chair: 0.87 dinosaur: 0.78 rose : 0.75 raccoon: 0.66 orchid: 0.80 beetle: 0.46 sweet_pepper: 0.92 plain: 0.95 fox  : 0.85 woman: 0.19 beaver: 0.69 telephone: 0.78 tractor: 0.86 castle: 0.86 baby : 0.89 road : 0.93 train: 0.65 caterpillar: 0.98 mountain: 0.85 bee  : 0.69 poppy: 0.91 apple: 0.79 wardrobe: 0.77 pear : 0.84 telephone: 0.66 possum: 0.98 possum: 0.83 raccoon: 0.76 beaver: 1.00 keyboard: 0.73 girl : 0.97 orange: 0.94 road : 0.54 pear : 0.90 shark: 0.36 spider: 0.76 crab : 0.60 whale: 0.96 house: 0.98 oak_tree: 0.87 clock: 0.97 road : 0.72 seal : 0.75 television: 0.73 dinosaur: 0.99 snail: 0.86 cup  : 0.41 tiger: 1.00 baby : 0.92 mushroom: 0.54 bus  : 0.92 train: 0.91 wardrobe: 0.66 chair: 0.87 maple_tree: 0.83 rose : 0.94 lizard: 0.82 sunflower: 0.71 beaver: 0.97 poppy: 0.72 table: 0.87 lion : 0.86 leopard: 0.73 house: 0.84 orchid: 1.00 keyboard: 0.70 tank : 0.75 wolf : 0.88 maple_tree: 0.69 sweet_pepper: 0.83 raccoon: 0.93 bed  : 0.37 crab : 0.60 streetcar: 0.97 tiger: 0.74 otter: 0.83 rabbit: 0.41 skyscraper: 0.45 bed  : 0.99 mushroom: 0.83 caterpillar: 0.69 pickup_truck: 0.85 television: 0.92 chimpanzee: 0.58 snake: 0.79 motorcycle: 0.26 girl : 0.81 bed  : 0.94 hamster: 1.00 lizard: 0.81 ray  : 0.82 beaver: 0.85 pickup_truck: 0.72 camel: 0.88 rabbit: 0.92 porcupine: 0.89 squirrel: 0.99 lizard: 0.93 cup  : 0.85 forest: 0.83 skunk: 0.99 beetle: 0.54 clock: 0.83 orchid: 0.97 squirrel: 0.65 snail: 0.87 bus  : 0.90 sea  : 0.80 chair: 0.93 cockroach: 0.55 rabbit: 0.67 mushroom: 0.76 sweet_pepper: 0.49 table: 0.96 orchid: 0.94 baby : 0.74 forest: 0.98 otter: 0.83 beetle: 0.45 mushroom: 0.87 pickup_truck: 0.66 pear : 0.74 sea  : 0.74 cup  : 0.85 lobster: 0.87 pine_tree: 0.68 mushroom: 0.82 skunk: 0.64 snail: 0.99 bear : 0.60 caterpillar: 0.33 spider: 0.67 sweet_pepper: 1.00 telephone: 0.94 train: 0.52 bicycle: 0.98 snail: 0.84 snail: 0.98 otter: 0.67 apple: 0.56 otter: 0.83 mouse: 0.99 castle: 0.39 clock: 0.45 crocodile: 0.91 butterfly: 0.88 beetle: 0.85 tiger: 0.92 clock: 0.75 train: 0.74 house: 0.91 chimpanzee: 0.89 apple: 0.87 oak_tree: 0.98 lawn_mower: 0.81 bicycle: 0.97 tank : 0.65 bed  : 0.30 skunk: 0.93 tank : 0.90 boy  : 0.90 chimpanzee: 0.93 whale: 0.38 cattle: 0.89 crocodile: 0.98 snail: 0.75 dolphin: 0.46 telephone: 0.70 tulip: 0.61 beetle: 0.82 poppy: 0.49 chimpanzee: 0.58 plain: 0.73 cockroach: 0.49 skunk: 1.00 forest: 0.54 poppy: 0.96 lamp : 0.52 lizard: 0.67 aquarium_fish: 0.76 turtle: 0.69\n"
     ]
    },
    {
     "data": {
      "image/png": "[encoded data removed]",
      "text/plain": [
       "<Figure size 2500x2000 with 1 Axes>"
      ]
     },
     "metadata": {},
     "output_type": "display_data"
    }
   ],
   "source": [
    "import matplotlib.pyplot as plt\n",
    "import numpy as np\n",
    "\n",
    "# functions to show an image\n",
    "def imshow(img):\n",
    "    npimg = img.cpu().numpy()\n",
    "    plt.figure(figsize=(25, 20))  # Adjust the width and height as needed\n",
    "    plt.imshow(np.transpose(npimg, (1, 2, 0)))\n",
    "    plt.show()\n",
    "\n",
    "\n",
    "# get some random training images\n",
    "print(f'Dataset type \"{DATASET_TYPE}\" displaying...\\n')\n",
    "\n",
    "if DATASET_TYPE=='custom':\n",
    "    dataiter = iter(custom_trainloader)\n",
    "    images, labels, confidences = next(dataiter)\n",
    "    # print labels \n",
    "    if isinstance(confidences, list):\n",
    "        # in case we have confidence \n",
    "        confidences = confidences[1]\n",
    "        \n",
    "    print(' '.join(f'{classes[labels[j]]:5s}: {confidences[j].item():.2f}' for j in range(batch_size)))\n",
    "elif DATASET_TYPE=='baseline':\n",
    "#     if training baseline model\n",
    "    dataiter = iter(baseline_trainloader)\n",
    "    images, labels = next(dataiter)\n",
    "    print(' '.join(f'{classes[labels[j]]:5s}' for j in range(batch_size)))\n",
    "else:\n",
    "    raise ValueError(f'Dataset type {DATASET_TYPE} not supported')\n",
    "    \n",
    "# show images\n",
    "imshow(torchvision.utils.make_grid(images))"
   ]
  },
  {
   "cell_type": "markdown",
   "id": "e078f24c",
   "metadata": {
    "papermill": {
     "duration": 0.025869,
     "end_time": "2024-09-19T10:48:07.750093",
     "exception": false,
     "start_time": "2024-09-19T10:48:07.724224",
     "status": "completed"
    },
    "tags": []
   },
   "source": [
    "## Define WideResNet 28_4"
   ]
  },
  {
   "cell_type": "code",
   "execution_count": 6,
   "id": "ab98786f",
   "metadata": {
    "execution": {
     "iopub.execute_input": "2024-09-19T10:48:07.803300Z",
     "iopub.status.busy": "2024-09-19T10:48:07.802228Z",
     "iopub.status.idle": "2024-09-19T10:48:07.817305Z",
     "shell.execute_reply": "2024-09-19T10:48:07.816509Z"
    },
    "papermill": {
     "duration": 0.043121,
     "end_time": "2024-09-19T10:48:07.818994",
     "exception": false,
     "start_time": "2024-09-19T10:48:07.775873",
     "status": "completed"
    },
    "tags": []
   },
   "outputs": [],
   "source": [
    "import torch.nn as nn\n",
    "import torch.nn.functional as F\n",
    "import torch.nn.init as init\n",
    "import numpy as np\n",
    "\n",
    "\n",
    "# Manual implementation of ResNet18\n",
    "class BasicBlock(nn.Module):\n",
    "    expansion = 1\n",
    "\n",
    "    def __init__(self, in_planes, planes, stride=1):\n",
    "        super(BasicBlock, self).__init__()\n",
    "        self.conv1 = nn.Conv2d(\n",
    "            in_planes, planes, kernel_size=3, stride=stride, padding=1, bias=False)\n",
    "        self.bn1 = nn.BatchNorm2d(planes)\n",
    "        self.conv2 = nn.Conv2d(planes, planes, kernel_size=3,\n",
    "                               stride=1, padding=1, bias=False)\n",
    "        self.bn2 = nn.BatchNorm2d(planes)\n",
    "\n",
    "        self.shortcut = nn.Sequential()\n",
    "        if stride != 1 or in_planes != self.expansion*planes:\n",
    "            self.shortcut = nn.Sequential(\n",
    "                nn.Conv2d(in_planes, self.expansion*planes,\n",
    "                          kernel_size=1, stride=stride, bias=False),\n",
    "                nn.BatchNorm2d(self.expansion*planes)\n",
    "            )\n",
    "\n",
    "    def forward(self, x):\n",
    "        out = F.relu(self.bn1(self.conv1(x)))\n",
    "        out = self.bn2(self.conv2(out))\n",
    "        out += self.shortcut(x)\n",
    "        out = F.relu(out)\n",
    "        return out\n",
    "\n",
    "\n",
    "class ResNet(nn.Module):\n",
    "    def __init__(self, block, layers, num_classes=num_classes):\n",
    "        super(ResNet, self).__init__()\n",
    "        self.in_planes = 64\n",
    "\n",
    "        self.conv1 = nn.Conv2d(3, 64, kernel_size=3, stride=1, padding=1, bias=False)\n",
    "        self.bn1 = nn.BatchNorm2d(64)\n",
    "        self.layer1 = self._make_layer(block, 64, layers[0], stride=1)\n",
    "        self.layer2 = self._make_layer(block, 128, layers[1], stride=2)\n",
    "        self.layer3 = self._make_layer(block, 256, layers[2], stride=2)\n",
    "        self.layer4 = self._make_layer(block, 512, layers[3], stride=2)\n",
    "        self.avgpool = nn.AdaptiveAvgPool2d((1, 1))  # Global average pooling layer\n",
    "        self.linear = nn.Linear(512, num_classes)\n",
    "\n",
    "    def _make_layer(self, block, planes, num_blocks, stride):\n",
    "        strides = [stride] + [1]*(num_blocks-1)\n",
    "        layers = []\n",
    "        for stride in strides:\n",
    "            layers.append(block(self.in_planes, planes, stride))\n",
    "            self.in_planes = planes * block.expansion\n",
    "        return nn.Sequential(*layers)\n",
    "\n",
    "    def forward(self, x):\n",
    "        out = F.relu(self.bn1(self.conv1(x)))\n",
    "        out = self.layer1(out)\n",
    "        out = self.layer2(out)\n",
    "        out = self.layer3(out)\n",
    "        out = self.layer4(out)\n",
    "        out = self.avgpool(out)  # Apply global average pooling\n",
    "        out = out.view(out.size(0), -1)\n",
    "        out = self.linear(out)\n",
    "        return out\n",
    "\n",
    "\n",
    "\n",
    "# ResNet18 Architecture\n",
    "def ResNet18(num_classes=num_classes):\n",
    "    return ResNet(BasicBlock, [2, 2, 2, 2], num_classes=num_classes)"
   ]
  },
  {
   "cell_type": "code",
   "execution_count": 7,
   "id": "30d5af80",
   "metadata": {
    "execution": {
     "iopub.execute_input": "2024-09-19T10:48:07.869680Z",
     "iopub.status.busy": "2024-09-19T10:48:07.869379Z",
     "iopub.status.idle": "2024-09-19T10:48:07.889509Z",
     "shell.execute_reply": "2024-09-19T10:48:07.888709Z"
    },
    "papermill": {
     "duration": 0.047553,
     "end_time": "2024-09-19T10:48:07.891014",
     "exception": false,
     "start_time": "2024-09-19T10:48:07.843461",
     "status": "completed"
    },
    "tags": []
   },
   "outputs": [],
   "source": [
    "def conv3x3(in_planes, out_planes, stride=1):\n",
    "    return nn.Conv2d(in_planes, out_planes, kernel_size=3, stride=stride, padding=1, bias=True)\n",
    "\n",
    "def conv_init(m):\n",
    "    classname = m.__class__.__name__\n",
    "    if classname.find('Conv') != -1:\n",
    "        init.xavier_uniform(m.weight, gain=np.sqrt(2))\n",
    "        init.constant(m.bias, 0)\n",
    "    elif classname.find('BatchNorm') != -1:\n",
    "        init.constant(m.weight, 1)\n",
    "        init.constant(m.bias, 0)\n",
    "\n",
    "class WideBasic(nn.Module):\n",
    "    def __init__(self, in_planes, planes, dropout_rate, stride=1):\n",
    "        super(WideBasic, self).__init__()\n",
    "        self.bn1 = nn.BatchNorm2d(in_planes)\n",
    "        self.conv1 = nn.Conv2d(in_planes, planes, kernel_size=3, padding=1, bias=True)\n",
    "        self.dropout = nn.Dropout(p=dropout_rate)\n",
    "        self.bn2 = nn.BatchNorm2d(planes)\n",
    "        self.conv2 = nn.Conv2d(planes, planes, kernel_size=3, stride=stride, padding=1, bias=True)\n",
    "\n",
    "        self.shortcut = nn.Sequential()\n",
    "        if stride != 1 or in_planes != planes:\n",
    "            self.shortcut = nn.Sequential(\n",
    "                nn.Conv2d(in_planes, planes, kernel_size=1, stride=stride, bias=True),\n",
    "            )\n",
    "\n",
    "    def forward(self, x):\n",
    "        out = self.dropout(self.conv1(F.relu(self.bn1(x))))\n",
    "        out = self.conv2(F.relu(self.bn2(out)))\n",
    "        out += self.shortcut(x)\n",
    "\n",
    "        return out\n",
    "\n",
    "class Bottleneck(nn.Module):\n",
    "    expansion = 4\n",
    "\n",
    "    def __init__(self, in_planes, planes, stride=1):\n",
    "        super(Bottleneck, self).__init__()\n",
    "        self.conv1 = nn.Conv2d(in_planes, planes, kernel_size=1, bias=False)\n",
    "        self.bn1 = nn.BatchNorm2d(planes)\n",
    "        self.conv2 = nn.Conv2d(planes, planes, kernel_size=3,\n",
    "                               stride=stride, padding=1, bias=False)\n",
    "        self.bn2 = nn.BatchNorm2d(planes)\n",
    "        self.conv3 = nn.Conv2d(planes, self.expansion *\n",
    "                               planes, kernel_size=1, bias=False)\n",
    "        self.bn3 = nn.BatchNorm2d(self.expansion*planes)\n",
    "\n",
    "        self.shortcut = nn.Sequential()\n",
    "        if stride != 1 or in_planes != self.expansion*planes:\n",
    "            self.shortcut = nn.Sequential(\n",
    "                nn.Conv2d(in_planes, self.expansion*planes,\n",
    "                          kernel_size=1, stride=stride, bias=False),\n",
    "                nn.BatchNorm2d(self.expansion*planes)\n",
    "            )\n",
    "\n",
    "    def forward(self, x):\n",
    "        out = F.relu(self.bn1(self.conv1(x)))\n",
    "        out = F.relu(self.bn2(self.conv2(out)))\n",
    "        out = self.bn3(self.conv3(out))\n",
    "        out += self.shortcut(x)\n",
    "        out = F.relu(out)\n",
    "        return out\n",
    "\n",
    "\n",
    "\n",
    "class WideResNet(nn.Module):\n",
    "    def __init__(self, depth, widen_factor, dropout_rate=0.3, num_classes=num_classes, factor=1, block=WideBasic):\n",
    "        super(WideResNet, self).__init__()\n",
    "        self.in_planes = 16\n",
    "\n",
    "        assert ((depth-4)%6 ==0), 'Wide-resnet depth should be 6n+4'\n",
    "        n = (int)((depth-4)/6)\n",
    "        k = widen_factor\n",
    "\n",
    "        nStages = [16, 16*k, 32*k, 64*k]\n",
    "\n",
    "        self.conv1 = conv3x3(3,nStages[0], stride=1)\n",
    "        self.layer1 = self._wide_layer(block, nStages[1], n, dropout_rate, stride=factor)\n",
    "        self.layer2 = self._wide_layer(block, nStages[2], n, dropout_rate, stride=2)\n",
    "        self.layer3 = self._wide_layer(block, nStages[3], n, dropout_rate, stride=2)\n",
    "        self.bn1 = nn.BatchNorm2d(nStages[3], momentum=0.9)\n",
    "        self.linear = nn.Linear(nStages[3], num_classes)\n",
    "\n",
    "    def _wide_layer(self, block, planes, num_blocks, dropout_rate, stride):\n",
    "        strides = [stride] + [1]*(num_blocks-1)\n",
    "        layers = []\n",
    "\n",
    "        for stride in strides:\n",
    "            layers.append(block(self.in_planes, planes, dropout_rate, stride))\n",
    "            self.in_planes = planes\n",
    "\n",
    "        return nn.Sequential(*layers)\n",
    "\n",
    "    def forward(self, x):\n",
    "        out = self.conv1(x)\n",
    "        out = self.layer1(out)\n",
    "        out = self.layer2(out)\n",
    "        out = self.layer3(out)\n",
    "        out = F.relu(self.bn1(out))\n",
    "        out = F.avg_pool2d(out, 8)\n",
    "        out = out.view(out.size(0), -1)\n",
    "        out = self.linear(out)\n",
    "\n",
    "        return out\n",
    "\n",
    "def WideResNet_28_4(num_classes, factor=1, block=WideBasic, dropout_rate=0.3):\n",
    "    return WideResNet(depth=28, widen_factor=4, dropout_rate=dropout_rate, num_classes=num_classes, factor=factor, block=block)"
   ]
  },
  {
   "cell_type": "markdown",
   "id": "b5de2a6b",
   "metadata": {
    "papermill": {
     "duration": 0.024675,
     "end_time": "2024-09-19T10:48:07.940525",
     "exception": false,
     "start_time": "2024-09-19T10:48:07.915850",
     "status": "completed"
    },
    "tags": []
   },
   "source": [
    "## Model Training"
   ]
  },
  {
   "cell_type": "code",
   "execution_count": 8,
   "id": "608ac2e1",
   "metadata": {
    "execution": {
     "iopub.execute_input": "2024-09-19T10:48:07.992032Z",
     "iopub.status.busy": "2024-09-19T10:48:07.991692Z",
     "iopub.status.idle": "2024-09-19T10:48:08.204585Z",
     "shell.execute_reply": "2024-09-19T10:48:08.203361Z"
    },
    "papermill": {
     "duration": 0.241654,
     "end_time": "2024-09-19T10:48:08.206641",
     "exception": false,
     "start_time": "2024-09-19T10:48:07.964987",
     "status": "completed"
    },
    "tags": []
   },
   "outputs": [
    {
     "data": {
      "text/plain": [
       "WideResNet(\n",
       "  (conv1): Conv2d(3, 16, kernel_size=(3, 3), stride=(1, 1), padding=(1, 1))\n",
       "  (layer1): Sequential(\n",
       "    (0): WideBasic(\n",
       "      (bn1): BatchNorm2d(16, eps=1e-05, momentum=0.1, affine=True, track_running_stats=True)\n",
       "      (conv1): Conv2d(16, 64, kernel_size=(3, 3), stride=(1, 1), padding=(1, 1))\n",
       "      (dropout): Dropout(p=0.3, inplace=False)\n",
       "      (bn2): BatchNorm2d(64, eps=1e-05, momentum=0.1, affine=True, track_running_stats=True)\n",
       "      (conv2): Conv2d(64, 64, kernel_size=(3, 3), stride=(1, 1), padding=(1, 1))\n",
       "      (shortcut): Sequential(\n",
       "        (0): Conv2d(16, 64, kernel_size=(1, 1), stride=(1, 1))\n",
       "      )\n",
       "    )\n",
       "    (1): WideBasic(\n",
       "      (bn1): BatchNorm2d(64, eps=1e-05, momentum=0.1, affine=True, track_running_stats=True)\n",
       "      (conv1): Conv2d(64, 64, kernel_size=(3, 3), stride=(1, 1), padding=(1, 1))\n",
       "      (dropout): Dropout(p=0.3, inplace=False)\n",
       "      (bn2): BatchNorm2d(64, eps=1e-05, momentum=0.1, affine=True, track_running_stats=True)\n",
       "      (conv2): Conv2d(64, 64, kernel_size=(3, 3), stride=(1, 1), padding=(1, 1))\n",
       "      (shortcut): Sequential()\n",
       "    )\n",
       "    (2): WideBasic(\n",
       "      (bn1): BatchNorm2d(64, eps=1e-05, momentum=0.1, affine=True, track_running_stats=True)\n",
       "      (conv1): Conv2d(64, 64, kernel_size=(3, 3), stride=(1, 1), padding=(1, 1))\n",
       "      (dropout): Dropout(p=0.3, inplace=False)\n",
       "      (bn2): BatchNorm2d(64, eps=1e-05, momentum=0.1, affine=True, track_running_stats=True)\n",
       "      (conv2): Conv2d(64, 64, kernel_size=(3, 3), stride=(1, 1), padding=(1, 1))\n",
       "      (shortcut): Sequential()\n",
       "    )\n",
       "    (3): WideBasic(\n",
       "      (bn1): BatchNorm2d(64, eps=1e-05, momentum=0.1, affine=True, track_running_stats=True)\n",
       "      (conv1): Conv2d(64, 64, kernel_size=(3, 3), stride=(1, 1), padding=(1, 1))\n",
       "      (dropout): Dropout(p=0.3, inplace=False)\n",
       "      (bn2): BatchNorm2d(64, eps=1e-05, momentum=0.1, affine=True, track_running_stats=True)\n",
       "      (conv2): Conv2d(64, 64, kernel_size=(3, 3), stride=(1, 1), padding=(1, 1))\n",
       "      (shortcut): Sequential()\n",
       "    )\n",
       "  )\n",
       "  (layer2): Sequential(\n",
       "    (0): WideBasic(\n",
       "      (bn1): BatchNorm2d(64, eps=1e-05, momentum=0.1, affine=True, track_running_stats=True)\n",
       "      (conv1): Conv2d(64, 128, kernel_size=(3, 3), stride=(1, 1), padding=(1, 1))\n",
       "      (dropout): Dropout(p=0.3, inplace=False)\n",
       "      (bn2): BatchNorm2d(128, eps=1e-05, momentum=0.1, affine=True, track_running_stats=True)\n",
       "      (conv2): Conv2d(128, 128, kernel_size=(3, 3), stride=(2, 2), padding=(1, 1))\n",
       "      (shortcut): Sequential(\n",
       "        (0): Conv2d(64, 128, kernel_size=(1, 1), stride=(2, 2))\n",
       "      )\n",
       "    )\n",
       "    (1): WideBasic(\n",
       "      (bn1): BatchNorm2d(128, eps=1e-05, momentum=0.1, affine=True, track_running_stats=True)\n",
       "      (conv1): Conv2d(128, 128, kernel_size=(3, 3), stride=(1, 1), padding=(1, 1))\n",
       "      (dropout): Dropout(p=0.3, inplace=False)\n",
       "      (bn2): BatchNorm2d(128, eps=1e-05, momentum=0.1, affine=True, track_running_stats=True)\n",
       "      (conv2): Conv2d(128, 128, kernel_size=(3, 3), stride=(1, 1), padding=(1, 1))\n",
       "      (shortcut): Sequential()\n",
       "    )\n",
       "    (2): WideBasic(\n",
       "      (bn1): BatchNorm2d(128, eps=1e-05, momentum=0.1, affine=True, track_running_stats=True)\n",
       "      (conv1): Conv2d(128, 128, kernel_size=(3, 3), stride=(1, 1), padding=(1, 1))\n",
       "      (dropout): Dropout(p=0.3, inplace=False)\n",
       "      (bn2): BatchNorm2d(128, eps=1e-05, momentum=0.1, affine=True, track_running_stats=True)\n",
       "      (conv2): Conv2d(128, 128, kernel_size=(3, 3), stride=(1, 1), padding=(1, 1))\n",
       "      (shortcut): Sequential()\n",
       "    )\n",
       "    (3): WideBasic(\n",
       "      (bn1): BatchNorm2d(128, eps=1e-05, momentum=0.1, affine=True, track_running_stats=True)\n",
       "      (conv1): Conv2d(128, 128, kernel_size=(3, 3), stride=(1, 1), padding=(1, 1))\n",
       "      (dropout): Dropout(p=0.3, inplace=False)\n",
       "      (bn2): BatchNorm2d(128, eps=1e-05, momentum=0.1, affine=True, track_running_stats=True)\n",
       "      (conv2): Conv2d(128, 128, kernel_size=(3, 3), stride=(1, 1), padding=(1, 1))\n",
       "      (shortcut): Sequential()\n",
       "    )\n",
       "  )\n",
       "  (layer3): Sequential(\n",
       "    (0): WideBasic(\n",
       "      (bn1): BatchNorm2d(128, eps=1e-05, momentum=0.1, affine=True, track_running_stats=True)\n",
       "      (conv1): Conv2d(128, 256, kernel_size=(3, 3), stride=(1, 1), padding=(1, 1))\n",
       "      (dropout): Dropout(p=0.3, inplace=False)\n",
       "      (bn2): BatchNorm2d(256, eps=1e-05, momentum=0.1, affine=True, track_running_stats=True)\n",
       "      (conv2): Conv2d(256, 256, kernel_size=(3, 3), stride=(2, 2), padding=(1, 1))\n",
       "      (shortcut): Sequential(\n",
       "        (0): Conv2d(128, 256, kernel_size=(1, 1), stride=(2, 2))\n",
       "      )\n",
       "    )\n",
       "    (1): WideBasic(\n",
       "      (bn1): BatchNorm2d(256, eps=1e-05, momentum=0.1, affine=True, track_running_stats=True)\n",
       "      (conv1): Conv2d(256, 256, kernel_size=(3, 3), stride=(1, 1), padding=(1, 1))\n",
       "      (dropout): Dropout(p=0.3, inplace=False)\n",
       "      (bn2): BatchNorm2d(256, eps=1e-05, momentum=0.1, affine=True, track_running_stats=True)\n",
       "      (conv2): Conv2d(256, 256, kernel_size=(3, 3), stride=(1, 1), padding=(1, 1))\n",
       "      (shortcut): Sequential()\n",
       "    )\n",
       "    (2): WideBasic(\n",
       "      (bn1): BatchNorm2d(256, eps=1e-05, momentum=0.1, affine=True, track_running_stats=True)\n",
       "      (conv1): Conv2d(256, 256, kernel_size=(3, 3), stride=(1, 1), padding=(1, 1))\n",
       "      (dropout): Dropout(p=0.3, inplace=False)\n",
       "      (bn2): BatchNorm2d(256, eps=1e-05, momentum=0.1, affine=True, track_running_stats=True)\n",
       "      (conv2): Conv2d(256, 256, kernel_size=(3, 3), stride=(1, 1), padding=(1, 1))\n",
       "      (shortcut): Sequential()\n",
       "    )\n",
       "    (3): WideBasic(\n",
       "      (bn1): BatchNorm2d(256, eps=1e-05, momentum=0.1, affine=True, track_running_stats=True)\n",
       "      (conv1): Conv2d(256, 256, kernel_size=(3, 3), stride=(1, 1), padding=(1, 1))\n",
       "      (dropout): Dropout(p=0.3, inplace=False)\n",
       "      (bn2): BatchNorm2d(256, eps=1e-05, momentum=0.1, affine=True, track_running_stats=True)\n",
       "      (conv2): Conv2d(256, 256, kernel_size=(3, 3), stride=(1, 1), padding=(1, 1))\n",
       "      (shortcut): Sequential()\n",
       "    )\n",
       "  )\n",
       "  (bn1): BatchNorm2d(256, eps=1e-05, momentum=0.9, affine=True, track_running_stats=True)\n",
       "  (linear): Linear(in_features=256, out_features=100, bias=True)\n",
       ")"
      ]
     },
     "execution_count": 8,
     "metadata": {},
     "output_type": "execute_result"
    }
   ],
   "source": [
    "# Initialize the model\n",
    "net = WideResNet_28_4(num_classes=num_classes)\n",
    "net.to(device)"
   ]
  },
  {
   "cell_type": "code",
   "execution_count": 9,
   "id": "a162a6a5",
   "metadata": {
    "execution": {
     "iopub.execute_input": "2024-09-19T10:48:08.260589Z",
     "iopub.status.busy": "2024-09-19T10:48:08.260320Z",
     "iopub.status.idle": "2024-09-19T10:48:08.266136Z",
     "shell.execute_reply": "2024-09-19T10:48:08.265345Z"
    },
    "papermill": {
     "duration": 0.034263,
     "end_time": "2024-09-19T10:48:08.267902",
     "exception": false,
     "start_time": "2024-09-19T10:48:08.233639",
     "status": "completed"
    },
    "tags": []
   },
   "outputs": [],
   "source": [
    "def soft_loss(pred, label, confidence, reweight=False):\n",
    "    log_prob = F.log_softmax(pred, dim=1)\n",
    "    n_class = pred.size(1)\n",
    "\n",
    "    # Make soft one-hot target\n",
    "    label = label.unsqueeze(1)\n",
    "    confidence = confidence.unsqueeze(1).float()\n",
    "    # soft one_hot\n",
    "    one_hot = torch.ones_like(pred) * (1 - confidence) / (n_class - 1)\n",
    "    one_hot.scatter_(dim=1, index=label, src=confidence)\n",
    "    \n",
    "    # hard one_hot\n",
    "#     one_hot = torch.zeros_like(pred)\n",
    "#     one_hot.scatter_(dim=1, index=label, value=1.0)\n",
    "    # Compute weighted KL loss\n",
    "    kl = F.kl_div(input=log_prob, target=one_hot, reduction=\"none\").sum(-1)\n",
    "    kl = kl.unsqueeze(1)  # Unweighted\n",
    "    if reweight:\n",
    "        kl = confidence * kl  # Weighted\n",
    "    return kl.mean()"
   ]
  },
  {
   "cell_type": "code",
   "execution_count": 10,
   "id": "85dac80f",
   "metadata": {
    "execution": {
     "iopub.execute_input": "2024-09-19T10:48:08.320712Z",
     "iopub.status.busy": "2024-09-19T10:48:08.320456Z",
     "iopub.status.idle": "2024-09-19T12:00:43.098798Z",
     "shell.execute_reply": "2024-09-19T12:00:43.097551Z"
    },
    "papermill": {
     "duration": 4354.808347,
     "end_time": "2024-09-19T12:00:43.101424",
     "exception": false,
     "start_time": "2024-09-19T10:48:08.293077",
     "status": "completed"
    },
    "tags": []
   },
   "outputs": [
    {
     "name": "stdout",
     "output_type": "stream",
     "text": [
      "\n",
      "Start Training...\n",
      "\n"
     ]
    },
    {
     "name": "stderr",
     "output_type": "stream",
     "text": [
      "/usr/local/lib/python3.10/site-packages/torch/autograd/graph.py:768: UserWarning: aten::kl_div: an autograd kernel was not registered to the Autograd key(s) but we are trying to backprop through it. This may lead to silently incorrect behavior. This behavior is deprecated and will be removed in a future version of PyTorch. If your operator is differentiable, please ensure you have registered an autograd kernel to the correct Autograd key (e.g. DispatchKey::Autograd, DispatchKey::CompositeImplicitAutograd). If your operator is not differentiable, or to squash this warning and use the previous behavior, please register torch::CppFunction::makeFallthrough() to DispatchKey::Autograd. (Triggered internally at ../torch/csrc/autograd/autograd_not_implemented_fallback.cpp:63.)\n",
      "  return Variable._execution_engine.run_backward(  # Calls into the C++ engine to run the backward pass\n"
     ]
    },
    {
     "name": "stdout",
     "output_type": "stream",
     "text": [
      "\n",
      "Epoch 1 - Loss: 2.523 - Test Accuracy:  4.020\n",
      "\n",
      "Processing time:  77.885720 seconds.\n"
     ]
    },
    {
     "name": "stdout",
     "output_type": "stream",
     "text": [
      "\n",
      "Epoch 2 - Loss: 2.294 - Test Accuracy:  9.320\n",
      "\n",
      "Processing time:  41.068227 seconds.\n"
     ]
    },
    {
     "name": "stdout",
     "output_type": "stream",
     "text": [
      "\n",
      "Epoch 3 - Loss: 2.151 - Test Accuracy:  10.040\n",
      "\n",
      "Processing time:  21.363785 seconds.\n"
     ]
    },
    {
     "name": "stdout",
     "output_type": "stream",
     "text": [
      "\n",
      "Epoch 4 - Loss: 2.012 - Test Accuracy:  13.020\n",
      "\n",
      "Processing time:  21.371650 seconds.\n"
     ]
    },
    {
     "name": "stdout",
     "output_type": "stream",
     "text": [
      "\n",
      "Epoch 5 - Loss: 1.867 - Test Accuracy:  15.740\n",
      "\n",
      "Processing time:  23.616673 seconds.\n"
     ]
    },
    {
     "name": "stdout",
     "output_type": "stream",
     "text": [
      "\n",
      "Epoch 6 - Loss: 1.754 - Test Accuracy:  17.200\n",
      "\n",
      "Processing time:  21.196117 seconds.\n"
     ]
    },
    {
     "name": "stdout",
     "output_type": "stream",
     "text": [
      "\n",
      "Epoch 7 - Loss: 1.645 - Test Accuracy:  20.550\n",
      "\n",
      "Processing time:  21.128125 seconds.\n"
     ]
    },
    {
     "name": "stdout",
     "output_type": "stream",
     "text": [
      "\n",
      "Epoch 8 - Loss: 1.569 - Test Accuracy:  23.740\n",
      "\n",
      "Processing time:  21.392461 seconds.\n"
     ]
    },
    {
     "name": "stdout",
     "output_type": "stream",
     "text": [
      "\n",
      "Epoch 9 - Loss: 1.490 - Test Accuracy:  21.200\n",
      "\n",
      "Processing time:  21.618854 seconds.\n"
     ]
    },
    {
     "name": "stdout",
     "output_type": "stream",
     "text": [
      "\n",
      "Epoch 10 - Loss: 1.422 - Test Accuracy:  15.980\n",
      "\n",
      "Processing time:  21.333056 seconds.\n"
     ]
    },
    {
     "name": "stdout",
     "output_type": "stream",
     "text": [
      "\n",
      "Epoch 11 - Loss: 1.364 - Test Accuracy:  29.640\n",
      "\n",
      "Processing time:  21.152346 seconds.\n"
     ]
    },
    {
     "name": "stdout",
     "output_type": "stream",
     "text": [
      "\n",
      "Epoch 12 - Loss: 1.317 - Test Accuracy:  34.400\n",
      "\n",
      "Processing time:  21.200714 seconds.\n"
     ]
    },
    {
     "name": "stdout",
     "output_type": "stream",
     "text": [
      "\n",
      "Epoch 13 - Loss: 1.270 - Test Accuracy:  39.350\n",
      "\n",
      "Processing time:  21.405671 seconds.\n"
     ]
    },
    {
     "name": "stdout",
     "output_type": "stream",
     "text": [
      "\n",
      "Epoch 14 - Loss: 1.231 - Test Accuracy:  34.920\n",
      "\n",
      "Processing time:  21.105947 seconds.\n"
     ]
    },
    {
     "name": "stdout",
     "output_type": "stream",
     "text": [
      "\n",
      "Epoch 15 - Loss: 1.182 - Test Accuracy:  37.430\n",
      "\n",
      "Processing time:  21.109505 seconds.\n"
     ]
    },
    {
     "name": "stdout",
     "output_type": "stream",
     "text": [
      "\n",
      "Epoch 16 - Loss: 1.158 - Test Accuracy:  38.510\n",
      "\n",
      "Processing time:  21.127239 seconds.\n"
     ]
    },
    {
     "name": "stdout",
     "output_type": "stream",
     "text": [
      "\n",
      "Epoch 17 - Loss: 1.118 - Test Accuracy:  48.650\n",
      "\n",
      "Processing time:  21.442299 seconds.\n"
     ]
    },
    {
     "name": "stdout",
     "output_type": "stream",
     "text": [
      "\n",
      "Epoch 18 - Loss: 1.092 - Test Accuracy:  34.160\n",
      "\n",
      "Processing time:  21.082207 seconds.\n"
     ]
    },
    {
     "name": "stdout",
     "output_type": "stream",
     "text": [
      "\n",
      "Epoch 19 - Loss: 1.064 - Test Accuracy:  35.120\n",
      "\n",
      "Processing time:  21.094965 seconds.\n"
     ]
    },
    {
     "name": "stdout",
     "output_type": "stream",
     "text": [
      "\n",
      "Epoch 20 - Loss: 1.041 - Test Accuracy:  36.130\n",
      "\n",
      "Processing time:  21.164014 seconds.\n"
     ]
    },
    {
     "name": "stdout",
     "output_type": "stream",
     "text": [
      "\n",
      "Epoch 21 - Loss: 1.006 - Test Accuracy:  39.850\n",
      "\n",
      "Processing time:  22.515250 seconds.\n"
     ]
    },
    {
     "name": "stdout",
     "output_type": "stream",
     "text": [
      "\n",
      "Epoch 22 - Loss: 0.980 - Test Accuracy:  47.720\n",
      "\n",
      "Processing time:  21.433001 seconds.\n"
     ]
    },
    {
     "name": "stdout",
     "output_type": "stream",
     "text": [
      "\n",
      "Epoch 23 - Loss: 0.961 - Test Accuracy:  54.120\n",
      "\n",
      "Processing time:  21.365848 seconds.\n"
     ]
    },
    {
     "name": "stdout",
     "output_type": "stream",
     "text": [
      "\n",
      "Epoch 24 - Loss: 0.938 - Test Accuracy:  51.670\n",
      "\n",
      "Processing time:  21.365613 seconds.\n"
     ]
    },
    {
     "name": "stdout",
     "output_type": "stream",
     "text": [
      "\n",
      "Epoch 25 - Loss: 0.926 - Test Accuracy:  54.530\n",
      "\n",
      "Processing time:  22.779614 seconds.\n"
     ]
    },
    {
     "name": "stdout",
     "output_type": "stream",
     "text": [
      "\n",
      "Epoch 26 - Loss: 0.897 - Test Accuracy:  53.990\n",
      "\n",
      "Processing time:  21.390213 seconds.\n"
     ]
    },
    {
     "name": "stdout",
     "output_type": "stream",
     "text": [
      "\n",
      "Epoch 27 - Loss: 0.878 - Test Accuracy:  54.930\n",
      "\n",
      "Processing time:  21.345275 seconds.\n"
     ]
    },
    {
     "name": "stdout",
     "output_type": "stream",
     "text": [
      "\n",
      "Epoch 28 - Loss: 0.856 - Test Accuracy:  54.400\n",
      "\n",
      "Processing time:  21.438776 seconds.\n"
     ]
    },
    {
     "name": "stdout",
     "output_type": "stream",
     "text": [
      "\n",
      "Epoch 29 - Loss: 0.842 - Test Accuracy:  56.100\n",
      "\n",
      "Processing time:  21.421112 seconds.\n"
     ]
    },
    {
     "name": "stdout",
     "output_type": "stream",
     "text": [
      "\n",
      "Epoch 30 - Loss: 0.823 - Test Accuracy:  55.190\n",
      "\n",
      "Processing time:  21.384428 seconds.\n"
     ]
    },
    {
     "name": "stdout",
     "output_type": "stream",
     "text": [
      "\n",
      "Epoch 31 - Loss: 0.812 - Test Accuracy:  54.580\n",
      "\n",
      "Processing time:  22.043486 seconds.\n"
     ]
    },
    {
     "name": "stdout",
     "output_type": "stream",
     "text": [
      "\n",
      "Epoch 32 - Loss: 0.794 - Test Accuracy:  58.790\n",
      "\n",
      "Processing time:  21.428105 seconds.\n"
     ]
    },
    {
     "name": "stdout",
     "output_type": "stream",
     "text": [
      "\n",
      "Epoch 33 - Loss: 0.786 - Test Accuracy:  55.740\n",
      "\n",
      "Processing time:  21.383565 seconds.\n"
     ]
    },
    {
     "name": "stdout",
     "output_type": "stream",
     "text": [
      "\n",
      "Epoch 34 - Loss: 0.768 - Test Accuracy:  59.420\n",
      "\n",
      "Processing time:  21.404799 seconds.\n"
     ]
    },
    {
     "name": "stdout",
     "output_type": "stream",
     "text": [
      "\n",
      "Epoch 35 - Loss: 0.751 - Test Accuracy:  60.900\n",
      "\n",
      "Processing time:  21.355277 seconds.\n"
     ]
    },
    {
     "name": "stdout",
     "output_type": "stream",
     "text": [
      "\n",
      "Epoch 36 - Loss: 0.742 - Test Accuracy:  58.970\n",
      "\n",
      "Processing time:  21.509169 seconds.\n"
     ]
    },
    {
     "name": "stdout",
     "output_type": "stream",
     "text": [
      "\n",
      "Epoch 37 - Loss: 0.732 - Test Accuracy:  59.790\n",
      "\n",
      "Processing time:  21.410825 seconds.\n"
     ]
    },
    {
     "name": "stdout",
     "output_type": "stream",
     "text": [
      "\n",
      "Epoch 38 - Loss: 0.720 - Test Accuracy:  59.850\n",
      "\n",
      "Processing time:  21.381463 seconds.\n"
     ]
    },
    {
     "name": "stdout",
     "output_type": "stream",
     "text": [
      "\n",
      "Epoch 39 - Loss: 0.711 - Test Accuracy:  62.010\n",
      "\n",
      "Processing time:  21.461210 seconds.\n"
     ]
    },
    {
     "name": "stdout",
     "output_type": "stream",
     "text": [
      "\n",
      "Epoch 40 - Loss: 0.693 - Test Accuracy:  59.570\n",
      "\n",
      "Processing time:  21.662984 seconds.\n"
     ]
    },
    {
     "name": "stdout",
     "output_type": "stream",
     "text": [
      "\n",
      "Epoch 41 - Loss: 0.680 - Test Accuracy:  59.760\n",
      "\n",
      "Processing time:  21.480771 seconds.\n"
     ]
    },
    {
     "name": "stdout",
     "output_type": "stream",
     "text": [
      "\n",
      "Epoch 42 - Loss: 0.679 - Test Accuracy:  63.490\n",
      "\n",
      "Processing time:  21.344317 seconds.\n"
     ]
    },
    {
     "name": "stdout",
     "output_type": "stream",
     "text": [
      "\n",
      "Epoch 43 - Loss: 0.664 - Test Accuracy:  61.910\n",
      "\n",
      "Processing time:  21.645711 seconds.\n"
     ]
    },
    {
     "name": "stdout",
     "output_type": "stream",
     "text": [
      "\n",
      "Epoch 44 - Loss: 0.661 - Test Accuracy:  62.310\n",
      "\n",
      "Processing time:  21.342716 seconds.\n"
     ]
    },
    {
     "name": "stdout",
     "output_type": "stream",
     "text": [
      "\n",
      "Epoch 45 - Loss: 0.648 - Test Accuracy:  62.740\n",
      "\n",
      "Processing time:  21.287007 seconds.\n"
     ]
    },
    {
     "name": "stdout",
     "output_type": "stream",
     "text": [
      "\n",
      "Epoch 46 - Loss: 0.637 - Test Accuracy:  64.010\n",
      "\n",
      "Processing time:  21.530925 seconds.\n"
     ]
    },
    {
     "name": "stdout",
     "output_type": "stream",
     "text": [
      "\n",
      "Epoch 47 - Loss: 0.632 - Test Accuracy:  61.490\n",
      "\n",
      "Processing time:  21.539594 seconds.\n"
     ]
    },
    {
     "name": "stdout",
     "output_type": "stream",
     "text": [
      "\n",
      "Epoch 48 - Loss: 0.623 - Test Accuracy:  59.140\n",
      "\n",
      "Processing time:  21.439409 seconds.\n"
     ]
    },
    {
     "name": "stdout",
     "output_type": "stream",
     "text": [
      "\n",
      "Epoch 49 - Loss: 0.609 - Test Accuracy:  60.060\n",
      "\n",
      "Processing time:  21.171696 seconds.\n"
     ]
    },
    {
     "name": "stdout",
     "output_type": "stream",
     "text": [
      "\n",
      "Epoch 50 - Loss: 0.601 - Test Accuracy:  62.460\n",
      "\n",
      "Processing time:  21.129377 seconds.\n"
     ]
    },
    {
     "name": "stdout",
     "output_type": "stream",
     "text": [
      "\n",
      "Epoch 51 - Loss: 0.590 - Test Accuracy:  64.880\n",
      "\n",
      "Processing time:  21.181748 seconds.\n"
     ]
    },
    {
     "name": "stdout",
     "output_type": "stream",
     "text": [
      "\n",
      "Epoch 52 - Loss: 0.586 - Test Accuracy:  63.170\n",
      "\n",
      "Processing time:  21.396671 seconds.\n"
     ]
    },
    {
     "name": "stdout",
     "output_type": "stream",
     "text": [
      "\n",
      "Epoch 53 - Loss: 0.573 - Test Accuracy:  63.330\n",
      "\n",
      "Processing time:  21.103714 seconds.\n"
     ]
    },
    {
     "name": "stdout",
     "output_type": "stream",
     "text": [
      "\n",
      "Epoch 54 - Loss: 0.568 - Test Accuracy:  64.230\n",
      "\n",
      "Processing time:  21.432606 seconds.\n"
     ]
    },
    {
     "name": "stdout",
     "output_type": "stream",
     "text": [
      "\n",
      "Epoch 55 - Loss: 0.567 - Test Accuracy:  64.200\n",
      "\n",
      "Processing time:  21.346247 seconds.\n"
     ]
    },
    {
     "name": "stdout",
     "output_type": "stream",
     "text": [
      "\n",
      "Epoch 56 - Loss: 0.558 - Test Accuracy:  61.390\n",
      "\n",
      "Processing time:  21.229688 seconds.\n"
     ]
    },
    {
     "name": "stdout",
     "output_type": "stream",
     "text": [
      "\n",
      "Epoch 57 - Loss: 0.557 - Test Accuracy:  64.130\n",
      "\n",
      "Processing time:  21.076377 seconds.\n"
     ]
    },
    {
     "name": "stdout",
     "output_type": "stream",
     "text": [
      "\n",
      "Epoch 58 - Loss: 0.548 - Test Accuracy:  65.520\n",
      "\n",
      "Processing time:  21.359166 seconds.\n"
     ]
    },
    {
     "name": "stdout",
     "output_type": "stream",
     "text": [
      "\n",
      "Epoch 59 - Loss: 0.536 - Test Accuracy:  65.340\n",
      "\n",
      "Processing time:  21.235002 seconds.\n"
     ]
    },
    {
     "name": "stdout",
     "output_type": "stream",
     "text": [
      "\n",
      "Epoch 60 - Loss: 0.525 - Test Accuracy:  66.720\n",
      "\n",
      "Processing time:  21.138083 seconds.\n"
     ]
    },
    {
     "name": "stdout",
     "output_type": "stream",
     "text": [
      "\n",
      "Epoch 61 - Loss: 0.528 - Test Accuracy:  66.370\n",
      "\n",
      "Processing time:  21.150187 seconds.\n"
     ]
    },
    {
     "name": "stdout",
     "output_type": "stream",
     "text": [
      "\n",
      "Epoch 62 - Loss: 0.514 - Test Accuracy:  66.680\n",
      "\n",
      "Processing time:  21.701563 seconds.\n"
     ]
    },
    {
     "name": "stdout",
     "output_type": "stream",
     "text": [
      "\n",
      "Epoch 63 - Loss: 0.514 - Test Accuracy:  65.470\n",
      "\n",
      "Processing time:  21.143915 seconds.\n"
     ]
    },
    {
     "name": "stdout",
     "output_type": "stream",
     "text": [
      "\n",
      "Epoch 64 - Loss: 0.510 - Test Accuracy:  65.090\n",
      "\n",
      "Processing time:  21.086280 seconds.\n"
     ]
    },
    {
     "name": "stdout",
     "output_type": "stream",
     "text": [
      "\n",
      "Epoch 65 - Loss: 0.501 - Test Accuracy:  67.060\n",
      "\n",
      "Processing time:  21.217099 seconds.\n"
     ]
    },
    {
     "name": "stdout",
     "output_type": "stream",
     "text": [
      "\n",
      "Epoch 66 - Loss: 0.489 - Test Accuracy:  65.960\n",
      "\n",
      "Processing time:  21.326667 seconds.\n"
     ]
    },
    {
     "name": "stdout",
     "output_type": "stream",
     "text": [
      "\n",
      "Epoch 67 - Loss: 0.481 - Test Accuracy:  68.230\n",
      "\n",
      "Processing time:  21.172234 seconds.\n"
     ]
    },
    {
     "name": "stdout",
     "output_type": "stream",
     "text": [
      "\n",
      "Epoch 68 - Loss: 0.481 - Test Accuracy:  66.900\n",
      "\n",
      "Processing time:  21.110059 seconds.\n"
     ]
    },
    {
     "name": "stdout",
     "output_type": "stream",
     "text": [
      "\n",
      "Epoch 69 - Loss: 0.474 - Test Accuracy:  66.670\n",
      "\n",
      "Processing time:  21.637962 seconds.\n"
     ]
    },
    {
     "name": "stdout",
     "output_type": "stream",
     "text": [
      "\n",
      "Epoch 70 - Loss: 0.470 - Test Accuracy:  64.130\n",
      "\n",
      "Processing time:  21.608657 seconds.\n"
     ]
    },
    {
     "name": "stdout",
     "output_type": "stream",
     "text": [
      "\n",
      "Epoch 71 - Loss: 0.469 - Test Accuracy:  64.850\n",
      "\n",
      "Processing time:  21.481230 seconds.\n"
     ]
    },
    {
     "name": "stdout",
     "output_type": "stream",
     "text": [
      "\n",
      "Epoch 72 - Loss: 0.458 - Test Accuracy:  67.600\n",
      "\n",
      "Processing time:  21.888488 seconds.\n"
     ]
    },
    {
     "name": "stdout",
     "output_type": "stream",
     "text": [
      "\n",
      "Epoch 73 - Loss: 0.458 - Test Accuracy:  65.610\n",
      "\n",
      "Processing time:  21.532148 seconds.\n"
     ]
    },
    {
     "name": "stdout",
     "output_type": "stream",
     "text": [
      "\n",
      "Epoch 74 - Loss: 0.447 - Test Accuracy:  67.480\n",
      "\n",
      "Processing time:  21.462002 seconds.\n"
     ]
    },
    {
     "name": "stdout",
     "output_type": "stream",
     "text": [
      "\n",
      "Epoch 75 - Loss: 0.447 - Test Accuracy:  66.120\n",
      "\n",
      "Processing time:  22.713734 seconds.\n"
     ]
    },
    {
     "name": "stdout",
     "output_type": "stream",
     "text": [
      "\n",
      "Epoch 76 - Loss: 0.444 - Test Accuracy:  66.610\n",
      "\n",
      "Processing time:  21.142400 seconds.\n"
     ]
    },
    {
     "name": "stdout",
     "output_type": "stream",
     "text": [
      "\n",
      "Epoch 77 - Loss: 0.432 - Test Accuracy:  64.010\n",
      "\n",
      "Processing time:  21.186704 seconds.\n"
     ]
    },
    {
     "name": "stdout",
     "output_type": "stream",
     "text": [
      "\n",
      "Epoch 78 - Loss: 0.433 - Test Accuracy:  66.760\n",
      "\n",
      "Processing time:  21.260978 seconds.\n"
     ]
    },
    {
     "name": "stdout",
     "output_type": "stream",
     "text": [
      "\n",
      "Epoch 79 - Loss: 0.430 - Test Accuracy:  68.660\n",
      "\n",
      "Processing time:  21.787569 seconds.\n"
     ]
    },
    {
     "name": "stdout",
     "output_type": "stream",
     "text": [
      "\n",
      "Epoch 80 - Loss: 0.423 - Test Accuracy:  67.290\n",
      "\n",
      "Processing time:  21.451913 seconds.\n"
     ]
    },
    {
     "name": "stdout",
     "output_type": "stream",
     "text": [
      "\n",
      "Epoch 81 - Loss: 0.417 - Test Accuracy:  65.240\n",
      "\n",
      "Processing time:  21.671484 seconds.\n"
     ]
    },
    {
     "name": "stdout",
     "output_type": "stream",
     "text": [
      "\n",
      "Epoch 82 - Loss: 0.412 - Test Accuracy:  66.460\n",
      "\n",
      "Processing time:  21.755166 seconds.\n"
     ]
    },
    {
     "name": "stdout",
     "output_type": "stream",
     "text": [
      "\n",
      "Epoch 83 - Loss: 0.409 - Test Accuracy:  66.560\n",
      "\n",
      "Processing time:  21.156856 seconds.\n"
     ]
    },
    {
     "name": "stdout",
     "output_type": "stream",
     "text": [
      "\n",
      "Epoch 84 - Loss: 0.404 - Test Accuracy:  68.690\n",
      "\n",
      "Processing time:  21.197788 seconds.\n"
     ]
    },
    {
     "name": "stdout",
     "output_type": "stream",
     "text": [
      "\n",
      "Epoch 85 - Loss: 0.399 - Test Accuracy:  68.320\n",
      "\n",
      "Processing time:  21.145492 seconds.\n"
     ]
    },
    {
     "name": "stdout",
     "output_type": "stream",
     "text": [
      "\n",
      "Epoch 86 - Loss: 0.394 - Test Accuracy:  68.320\n",
      "\n",
      "Processing time:  21.085095 seconds.\n"
     ]
    },
    {
     "name": "stdout",
     "output_type": "stream",
     "text": [
      "\n",
      "Epoch 87 - Loss: 0.388 - Test Accuracy:  68.040\n",
      "\n",
      "Processing time:  21.018106 seconds.\n"
     ]
    },
    {
     "name": "stdout",
     "output_type": "stream",
     "text": [
      "\n",
      "Epoch 88 - Loss: 0.383 - Test Accuracy:  68.080\n",
      "\n",
      "Processing time:  21.097163 seconds.\n"
     ]
    },
    {
     "name": "stdout",
     "output_type": "stream",
     "text": [
      "\n",
      "Epoch 89 - Loss: 0.376 - Test Accuracy:  68.050\n",
      "\n",
      "Processing time:  21.091907 seconds.\n"
     ]
    },
    {
     "name": "stdout",
     "output_type": "stream",
     "text": [
      "\n",
      "Epoch 90 - Loss: 0.371 - Test Accuracy:  68.890\n",
      "\n",
      "Processing time:  21.061864 seconds.\n"
     ]
    },
    {
     "name": "stdout",
     "output_type": "stream",
     "text": [
      "\n",
      "Epoch 91 - Loss: 0.373 - Test Accuracy:  68.700\n",
      "\n",
      "Processing time:  21.060721 seconds.\n"
     ]
    },
    {
     "name": "stdout",
     "output_type": "stream",
     "text": [
      "\n",
      "Epoch 92 - Loss: 0.367 - Test Accuracy:  67.920\n",
      "\n",
      "Processing time:  21.572144 seconds.\n"
     ]
    },
    {
     "name": "stdout",
     "output_type": "stream",
     "text": [
      "\n",
      "Epoch 93 - Loss: 0.362 - Test Accuracy:  69.510\n",
      "\n",
      "Processing time:  21.055959 seconds.\n"
     ]
    },
    {
     "name": "stdout",
     "output_type": "stream",
     "text": [
      "\n",
      "Epoch 94 - Loss: 0.358 - Test Accuracy:  69.050\n",
      "\n",
      "Processing time:  21.056292 seconds.\n"
     ]
    },
    {
     "name": "stdout",
     "output_type": "stream",
     "text": [
      "\n",
      "Epoch 95 - Loss: 0.354 - Test Accuracy:  68.610\n",
      "\n",
      "Processing time:  21.350533 seconds.\n"
     ]
    },
    {
     "name": "stdout",
     "output_type": "stream",
     "text": [
      "\n",
      "Epoch 96 - Loss: 0.351 - Test Accuracy:  67.910\n",
      "\n",
      "Processing time:  21.305187 seconds.\n"
     ]
    },
    {
     "name": "stdout",
     "output_type": "stream",
     "text": [
      "\n",
      "Epoch 97 - Loss: 0.343 - Test Accuracy:  69.850\n",
      "\n",
      "Processing time:  21.461772 seconds.\n"
     ]
    },
    {
     "name": "stdout",
     "output_type": "stream",
     "text": [
      "\n",
      "Epoch 98 - Loss: 0.334 - Test Accuracy:  69.650\n",
      "\n",
      "Processing time:  21.486831 seconds.\n"
     ]
    },
    {
     "name": "stdout",
     "output_type": "stream",
     "text": [
      "\n",
      "Epoch 99 - Loss: 0.336 - Test Accuracy:  70.920\n",
      "\n",
      "Processing time:  21.316328 seconds.\n"
     ]
    },
    {
     "name": "stdout",
     "output_type": "stream",
     "text": [
      "\n",
      "Epoch 100 - Loss: 0.330 - Test Accuracy:  69.230\n",
      "\n",
      "Processing time:  21.165464 seconds.\n"
     ]
    },
    {
     "name": "stdout",
     "output_type": "stream",
     "text": [
      "\n",
      "Epoch 101 - Loss: 0.321 - Test Accuracy:  70.090\n",
      "\n",
      "Processing time:  21.231601 seconds.\n"
     ]
    },
    {
     "name": "stdout",
     "output_type": "stream",
     "text": [
      "\n",
      "Epoch 102 - Loss: 0.319 - Test Accuracy:  67.080\n",
      "\n",
      "Processing time:  21.304909 seconds.\n"
     ]
    },
    {
     "name": "stdout",
     "output_type": "stream",
     "text": [
      "\n",
      "Epoch 103 - Loss: 0.321 - Test Accuracy:  69.110\n",
      "\n",
      "Processing time:  21.018822 seconds.\n"
     ]
    },
    {
     "name": "stdout",
     "output_type": "stream",
     "text": [
      "\n",
      "Epoch 104 - Loss: 0.317 - Test Accuracy:  70.150\n",
      "\n",
      "Processing time:  21.053143 seconds.\n"
     ]
    },
    {
     "name": "stdout",
     "output_type": "stream",
     "text": [
      "\n",
      "Epoch 105 - Loss: 0.309 - Test Accuracy:  69.130\n",
      "\n",
      "Processing time:  21.648428 seconds.\n"
     ]
    },
    {
     "name": "stdout",
     "output_type": "stream",
     "text": [
      "\n",
      "Epoch 106 - Loss: 0.311 - Test Accuracy:  70.140\n",
      "\n",
      "Processing time:  21.493497 seconds.\n"
     ]
    },
    {
     "name": "stdout",
     "output_type": "stream",
     "text": [
      "\n",
      "Epoch 107 - Loss: 0.302 - Test Accuracy:  70.170\n",
      "\n",
      "Processing time:  21.763512 seconds.\n"
     ]
    },
    {
     "name": "stdout",
     "output_type": "stream",
     "text": [
      "\n",
      "Epoch 108 - Loss: 0.300 - Test Accuracy:  68.490\n",
      "\n",
      "Processing time:  21.438577 seconds.\n"
     ]
    },
    {
     "name": "stdout",
     "output_type": "stream",
     "text": [
      "\n",
      "Epoch 109 - Loss: 0.300 - Test Accuracy:  70.280\n",
      "\n",
      "Processing time:  21.429747 seconds.\n"
     ]
    },
    {
     "name": "stdout",
     "output_type": "stream",
     "text": [
      "\n",
      "Epoch 110 - Loss: 0.291 - Test Accuracy:  69.870\n",
      "\n",
      "Processing time:  21.595234 seconds.\n"
     ]
    },
    {
     "name": "stdout",
     "output_type": "stream",
     "text": [
      "\n",
      "Epoch 111 - Loss: 0.290 - Test Accuracy:  70.950\n",
      "\n",
      "Processing time:  21.428715 seconds.\n"
     ]
    },
    {
     "name": "stdout",
     "output_type": "stream",
     "text": [
      "\n",
      "Epoch 112 - Loss: 0.286 - Test Accuracy:  70.820\n",
      "\n",
      "Processing time:  21.704922 seconds.\n"
     ]
    },
    {
     "name": "stdout",
     "output_type": "stream",
     "text": [
      "\n",
      "Epoch 113 - Loss: 0.285 - Test Accuracy:  69.910\n",
      "\n",
      "Processing time:  21.528950 seconds.\n"
     ]
    },
    {
     "name": "stdout",
     "output_type": "stream",
     "text": [
      "\n",
      "Epoch 114 - Loss: 0.277 - Test Accuracy:  71.480\n",
      "\n",
      "Processing time:  21.303830 seconds.\n"
     ]
    },
    {
     "name": "stdout",
     "output_type": "stream",
     "text": [
      "\n",
      "Epoch 115 - Loss: 0.276 - Test Accuracy:  72.110\n",
      "\n",
      "Processing time:  21.331376 seconds.\n"
     ]
    },
    {
     "name": "stdout",
     "output_type": "stream",
     "text": [
      "\n",
      "Epoch 116 - Loss: 0.275 - Test Accuracy:  71.340\n",
      "\n",
      "Processing time:  21.470091 seconds.\n"
     ]
    },
    {
     "name": "stdout",
     "output_type": "stream",
     "text": [
      "\n",
      "Epoch 117 - Loss: 0.267 - Test Accuracy:  71.760\n",
      "\n",
      "Processing time:  21.348015 seconds.\n"
     ]
    },
    {
     "name": "stdout",
     "output_type": "stream",
     "text": [
      "\n",
      "Epoch 118 - Loss: 0.268 - Test Accuracy:  71.900\n",
      "\n",
      "Processing time:  21.119770 seconds.\n"
     ]
    },
    {
     "name": "stdout",
     "output_type": "stream",
     "text": [
      "\n",
      "Epoch 119 - Loss: 0.261 - Test Accuracy:  71.340\n",
      "\n",
      "Processing time:  21.372223 seconds.\n"
     ]
    },
    {
     "name": "stdout",
     "output_type": "stream",
     "text": [
      "\n",
      "Epoch 120 - Loss: 0.260 - Test Accuracy:  71.870\n",
      "\n",
      "Processing time:  21.305125 seconds.\n"
     ]
    },
    {
     "name": "stdout",
     "output_type": "stream",
     "text": [
      "\n",
      "Epoch 121 - Loss: 0.257 - Test Accuracy:  71.050\n",
      "\n",
      "Processing time:  21.571525 seconds.\n"
     ]
    },
    {
     "name": "stdout",
     "output_type": "stream",
     "text": [
      "\n",
      "Epoch 122 - Loss: 0.248 - Test Accuracy:  72.920\n",
      "\n",
      "Processing time:  21.604506 seconds.\n"
     ]
    },
    {
     "name": "stdout",
     "output_type": "stream",
     "text": [
      "\n",
      "Epoch 123 - Loss: 0.251 - Test Accuracy:  72.800\n",
      "\n",
      "Processing time:  21.557598 seconds.\n"
     ]
    },
    {
     "name": "stdout",
     "output_type": "stream",
     "text": [
      "\n",
      "Epoch 124 - Loss: 0.245 - Test Accuracy:  73.000\n",
      "\n",
      "Processing time:  21.461211 seconds.\n"
     ]
    },
    {
     "name": "stdout",
     "output_type": "stream",
     "text": [
      "\n",
      "Epoch 125 - Loss: 0.242 - Test Accuracy:  72.320\n",
      "\n",
      "Processing time:  21.362700 seconds.\n"
     ]
    },
    {
     "name": "stdout",
     "output_type": "stream",
     "text": [
      "\n",
      "Epoch 126 - Loss: 0.240 - Test Accuracy:  72.210\n",
      "\n",
      "Processing time:  21.300316 seconds.\n"
     ]
    },
    {
     "name": "stdout",
     "output_type": "stream",
     "text": [
      "\n",
      "Epoch 127 - Loss: 0.239 - Test Accuracy:  70.240\n",
      "\n",
      "Processing time:  21.290864 seconds.\n"
     ]
    },
    {
     "name": "stdout",
     "output_type": "stream",
     "text": [
      "\n",
      "Epoch 128 - Loss: 0.233 - Test Accuracy:  73.310\n",
      "\n",
      "Processing time:  21.198999 seconds.\n"
     ]
    },
    {
     "name": "stdout",
     "output_type": "stream",
     "text": [
      "\n",
      "Epoch 129 - Loss: 0.231 - Test Accuracy:  72.490\n",
      "\n",
      "Processing time:  21.163061 seconds.\n"
     ]
    },
    {
     "name": "stdout",
     "output_type": "stream",
     "text": [
      "\n",
      "Epoch 130 - Loss: 0.228 - Test Accuracy:  72.350\n",
      "\n",
      "Processing time:  21.126134 seconds.\n"
     ]
    },
    {
     "name": "stdout",
     "output_type": "stream",
     "text": [
      "\n",
      "Epoch 131 - Loss: 0.227 - Test Accuracy:  73.040\n",
      "\n",
      "Processing time:  21.136543 seconds.\n"
     ]
    },
    {
     "name": "stdout",
     "output_type": "stream",
     "text": [
      "\n",
      "Epoch 132 - Loss: 0.226 - Test Accuracy:  73.300\n",
      "\n",
      "Processing time:  21.441594 seconds.\n"
     ]
    },
    {
     "name": "stdout",
     "output_type": "stream",
     "text": [
      "\n",
      "Epoch 133 - Loss: 0.222 - Test Accuracy:  72.250\n",
      "\n",
      "Processing time:  21.201123 seconds.\n"
     ]
    },
    {
     "name": "stdout",
     "output_type": "stream",
     "text": [
      "\n",
      "Epoch 134 - Loss: 0.220 - Test Accuracy:  73.610\n",
      "\n",
      "Processing time:  21.142283 seconds.\n"
     ]
    },
    {
     "name": "stdout",
     "output_type": "stream",
     "text": [
      "\n",
      "Epoch 135 - Loss: 0.217 - Test Accuracy:  73.580\n",
      "\n",
      "Processing time:  21.083163 seconds.\n"
     ]
    },
    {
     "name": "stdout",
     "output_type": "stream",
     "text": [
      "\n",
      "Epoch 136 - Loss: 0.216 - Test Accuracy:  72.480\n",
      "\n",
      "Processing time:  21.073450 seconds.\n"
     ]
    },
    {
     "name": "stdout",
     "output_type": "stream",
     "text": [
      "\n",
      "Epoch 137 - Loss: 0.214 - Test Accuracy:  72.900\n",
      "\n",
      "Processing time:  20.998776 seconds.\n"
     ]
    },
    {
     "name": "stdout",
     "output_type": "stream",
     "text": [
      "\n",
      "Epoch 138 - Loss: 0.208 - Test Accuracy:  72.520\n",
      "\n",
      "Processing time:  21.460065 seconds.\n"
     ]
    },
    {
     "name": "stdout",
     "output_type": "stream",
     "text": [
      "\n",
      "Epoch 139 - Loss: 0.208 - Test Accuracy:  73.750\n",
      "\n",
      "Processing time:  21.545417 seconds.\n"
     ]
    },
    {
     "name": "stdout",
     "output_type": "stream",
     "text": [
      "\n",
      "Epoch 140 - Loss: 0.206 - Test Accuracy:  73.960\n",
      "\n",
      "Processing time:  21.542247 seconds.\n"
     ]
    },
    {
     "name": "stdout",
     "output_type": "stream",
     "text": [
      "\n",
      "Epoch 141 - Loss: 0.205 - Test Accuracy:  73.640\n",
      "\n",
      "Processing time:  21.491951 seconds.\n"
     ]
    },
    {
     "name": "stdout",
     "output_type": "stream",
     "text": [
      "\n",
      "Epoch 142 - Loss: 0.201 - Test Accuracy:  73.530\n",
      "\n",
      "Processing time:  21.496763 seconds.\n"
     ]
    },
    {
     "name": "stdout",
     "output_type": "stream",
     "text": [
      "\n",
      "Epoch 143 - Loss: 0.197 - Test Accuracy:  73.660\n",
      "\n",
      "Processing time:  21.469950 seconds.\n"
     ]
    },
    {
     "name": "stdout",
     "output_type": "stream",
     "text": [
      "\n",
      "Epoch 144 - Loss: 0.198 - Test Accuracy:  72.740\n",
      "\n",
      "Processing time:  21.467128 seconds.\n"
     ]
    },
    {
     "name": "stdout",
     "output_type": "stream",
     "text": [
      "\n",
      "Epoch 145 - Loss: 0.195 - Test Accuracy:  72.860\n",
      "\n",
      "Processing time:  21.409440 seconds.\n"
     ]
    },
    {
     "name": "stdout",
     "output_type": "stream",
     "text": [
      "\n",
      "Epoch 146 - Loss: 0.192 - Test Accuracy:  73.510\n",
      "\n",
      "Processing time:  21.517286 seconds.\n"
     ]
    },
    {
     "name": "stdout",
     "output_type": "stream",
     "text": [
      "\n",
      "Epoch 147 - Loss: 0.191 - Test Accuracy:  73.910\n",
      "\n",
      "Processing time:  21.359684 seconds.\n"
     ]
    },
    {
     "name": "stdout",
     "output_type": "stream",
     "text": [
      "\n",
      "Epoch 148 - Loss: 0.192 - Test Accuracy:  73.810\n",
      "\n",
      "Processing time:  21.287231 seconds.\n"
     ]
    },
    {
     "name": "stdout",
     "output_type": "stream",
     "text": [
      "\n",
      "Epoch 149 - Loss: 0.188 - Test Accuracy:  74.010\n",
      "\n",
      "Processing time:  21.481025 seconds.\n"
     ]
    },
    {
     "name": "stdout",
     "output_type": "stream",
     "text": [
      "\n",
      "Epoch 150 - Loss: 0.186 - Test Accuracy:  73.410\n",
      "\n",
      "Processing time:  21.387488 seconds.\n"
     ]
    },
    {
     "name": "stdout",
     "output_type": "stream",
     "text": [
      "\n",
      "Epoch 151 - Loss: 0.182 - Test Accuracy:  73.800\n",
      "\n",
      "Processing time:  21.486342 seconds.\n"
     ]
    },
    {
     "name": "stdout",
     "output_type": "stream",
     "text": [
      "\n",
      "Epoch 152 - Loss: 0.184 - Test Accuracy:  74.240\n",
      "\n",
      "Processing time:  21.567936 seconds.\n"
     ]
    },
    {
     "name": "stdout",
     "output_type": "stream",
     "text": [
      "\n",
      "Epoch 153 - Loss: 0.181 - Test Accuracy:  74.440\n",
      "\n",
      "Processing time:  21.470098 seconds.\n"
     ]
    },
    {
     "name": "stdout",
     "output_type": "stream",
     "text": [
      "\n",
      "Epoch 154 - Loss: 0.179 - Test Accuracy:  74.110\n",
      "\n",
      "Processing time:  22.240914 seconds.\n"
     ]
    },
    {
     "name": "stdout",
     "output_type": "stream",
     "text": [
      "\n",
      "Epoch 155 - Loss: 0.180 - Test Accuracy:  74.330\n",
      "\n",
      "Processing time:  21.593652 seconds.\n"
     ]
    },
    {
     "name": "stdout",
     "output_type": "stream",
     "text": [
      "\n",
      "Epoch 156 - Loss: 0.178 - Test Accuracy:  73.480\n",
      "\n",
      "Processing time:  21.421524 seconds.\n"
     ]
    },
    {
     "name": "stdout",
     "output_type": "stream",
     "text": [
      "\n",
      "Epoch 157 - Loss: 0.175 - Test Accuracy:  74.020\n",
      "\n",
      "Processing time:  21.539411 seconds.\n"
     ]
    },
    {
     "name": "stdout",
     "output_type": "stream",
     "text": [
      "\n",
      "Epoch 158 - Loss: 0.175 - Test Accuracy:  74.460\n",
      "\n",
      "Processing time:  21.527123 seconds.\n"
     ]
    },
    {
     "name": "stdout",
     "output_type": "stream",
     "text": [
      "\n",
      "Epoch 159 - Loss: 0.175 - Test Accuracy:  74.540\n",
      "\n",
      "Processing time:  21.243860 seconds.\n"
     ]
    },
    {
     "name": "stdout",
     "output_type": "stream",
     "text": [
      "\n",
      "Epoch 160 - Loss: 0.172 - Test Accuracy:  74.290\n",
      "\n",
      "Processing time:  21.919289 seconds.\n"
     ]
    },
    {
     "name": "stdout",
     "output_type": "stream",
     "text": [
      "\n",
      "Epoch 161 - Loss: 0.170 - Test Accuracy:  74.310\n",
      "\n",
      "Processing time:  21.121975 seconds.\n"
     ]
    },
    {
     "name": "stdout",
     "output_type": "stream",
     "text": [
      "\n",
      "Epoch 162 - Loss: 0.169 - Test Accuracy:  75.080\n",
      "\n",
      "Processing time:  21.104023 seconds.\n"
     ]
    },
    {
     "name": "stdout",
     "output_type": "stream",
     "text": [
      "\n",
      "Epoch 163 - Loss: 0.168 - Test Accuracy:  74.660\n",
      "\n",
      "Processing time:  21.149135 seconds.\n"
     ]
    },
    {
     "name": "stdout",
     "output_type": "stream",
     "text": [
      "\n",
      "Epoch 164 - Loss: 0.166 - Test Accuracy:  74.750\n",
      "\n",
      "Processing time:  21.114541 seconds.\n"
     ]
    },
    {
     "name": "stdout",
     "output_type": "stream",
     "text": [
      "\n",
      "Epoch 165 - Loss: 0.166 - Test Accuracy:  74.530\n",
      "\n",
      "Processing time:  21.572655 seconds.\n"
     ]
    },
    {
     "name": "stdout",
     "output_type": "stream",
     "text": [
      "\n",
      "Epoch 166 - Loss: 0.164 - Test Accuracy:  74.590\n",
      "\n",
      "Processing time:  21.189555 seconds.\n"
     ]
    },
    {
     "name": "stdout",
     "output_type": "stream",
     "text": [
      "\n",
      "Epoch 167 - Loss: 0.166 - Test Accuracy:  74.960\n",
      "\n",
      "Processing time:  21.448331 seconds.\n"
     ]
    },
    {
     "name": "stdout",
     "output_type": "stream",
     "text": [
      "\n",
      "Epoch 168 - Loss: 0.161 - Test Accuracy:  74.580\n",
      "\n",
      "Processing time:  21.553877 seconds.\n"
     ]
    },
    {
     "name": "stdout",
     "output_type": "stream",
     "text": [
      "\n",
      "Epoch 169 - Loss: 0.161 - Test Accuracy:  74.720\n",
      "\n",
      "Processing time:  21.103018 seconds.\n"
     ]
    },
    {
     "name": "stdout",
     "output_type": "stream",
     "text": [
      "\n",
      "Epoch 170 - Loss: 0.160 - Test Accuracy:  75.150\n",
      "\n",
      "Processing time:  21.540731 seconds.\n"
     ]
    },
    {
     "name": "stdout",
     "output_type": "stream",
     "text": [
      "\n",
      "Epoch 171 - Loss: 0.160 - Test Accuracy:  74.560\n",
      "\n",
      "Processing time:  21.503868 seconds.\n"
     ]
    },
    {
     "name": "stdout",
     "output_type": "stream",
     "text": [
      "\n",
      "Epoch 172 - Loss: 0.159 - Test Accuracy:  75.020\n",
      "\n",
      "Processing time:  21.413430 seconds.\n"
     ]
    },
    {
     "name": "stdout",
     "output_type": "stream",
     "text": [
      "\n",
      "Epoch 173 - Loss: 0.158 - Test Accuracy:  75.180\n",
      "\n",
      "Processing time:  21.430442 seconds.\n"
     ]
    },
    {
     "name": "stdout",
     "output_type": "stream",
     "text": [
      "\n",
      "Epoch 174 - Loss: 0.158 - Test Accuracy:  74.860\n",
      "\n",
      "Processing time:  21.373482 seconds.\n"
     ]
    },
    {
     "name": "stdout",
     "output_type": "stream",
     "text": [
      "\n",
      "Epoch 175 - Loss: 0.157 - Test Accuracy:  75.030\n",
      "\n",
      "Processing time:  21.809026 seconds.\n"
     ]
    },
    {
     "name": "stdout",
     "output_type": "stream",
     "text": [
      "\n",
      "Epoch 176 - Loss: 0.155 - Test Accuracy:  75.090\n",
      "\n",
      "Processing time:  21.341832 seconds.\n"
     ]
    },
    {
     "name": "stdout",
     "output_type": "stream",
     "text": [
      "\n",
      "Epoch 177 - Loss: 0.156 - Test Accuracy:  74.690\n",
      "\n",
      "Processing time:  21.333158 seconds.\n"
     ]
    },
    {
     "name": "stdout",
     "output_type": "stream",
     "text": [
      "\n",
      "Epoch 178 - Loss: 0.155 - Test Accuracy:  74.830\n",
      "\n",
      "Processing time:  21.314615 seconds.\n"
     ]
    },
    {
     "name": "stdout",
     "output_type": "stream",
     "text": [
      "\n",
      "Epoch 179 - Loss: 0.154 - Test Accuracy:  74.970\n",
      "\n",
      "Processing time:  21.280373 seconds.\n"
     ]
    },
    {
     "name": "stdout",
     "output_type": "stream",
     "text": [
      "\n",
      "Epoch 180 - Loss: 0.154 - Test Accuracy:  75.320\n",
      "\n",
      "Processing time:  21.801313 seconds.\n"
     ]
    },
    {
     "name": "stdout",
     "output_type": "stream",
     "text": [
      "\n",
      "Epoch 181 - Loss: 0.154 - Test Accuracy:  74.910\n",
      "\n",
      "Processing time:  21.324950 seconds.\n"
     ]
    },
    {
     "name": "stdout",
     "output_type": "stream",
     "text": [
      "\n",
      "Epoch 182 - Loss: 0.154 - Test Accuracy:  75.080\n",
      "\n",
      "Processing time:  21.225593 seconds.\n"
     ]
    },
    {
     "name": "stdout",
     "output_type": "stream",
     "text": [
      "\n",
      "Epoch 183 - Loss: 0.155 - Test Accuracy:  75.290\n",
      "\n",
      "Processing time:  21.433565 seconds.\n"
     ]
    },
    {
     "name": "stdout",
     "output_type": "stream",
     "text": [
      "\n",
      "Epoch 184 - Loss: 0.153 - Test Accuracy:  75.080\n",
      "\n",
      "Processing time:  21.311463 seconds.\n"
     ]
    },
    {
     "name": "stdout",
     "output_type": "stream",
     "text": [
      "\n",
      "Epoch 185 - Loss: 0.155 - Test Accuracy:  75.140\n",
      "\n",
      "Processing time:  21.391805 seconds.\n"
     ]
    },
    {
     "name": "stdout",
     "output_type": "stream",
     "text": [
      "\n",
      "Epoch 186 - Loss: 0.151 - Test Accuracy:  75.020\n",
      "\n",
      "Processing time:  21.330409 seconds.\n"
     ]
    },
    {
     "name": "stdout",
     "output_type": "stream",
     "text": [
      "\n",
      "Epoch 187 - Loss: 0.151 - Test Accuracy:  75.080\n",
      "\n",
      "Processing time:  21.241337 seconds.\n"
     ]
    },
    {
     "name": "stdout",
     "output_type": "stream",
     "text": [
      "\n",
      "Epoch 188 - Loss: 0.151 - Test Accuracy:  75.330\n",
      "\n",
      "Processing time:  21.546463 seconds.\n"
     ]
    },
    {
     "name": "stdout",
     "output_type": "stream",
     "text": [
      "\n",
      "Epoch 189 - Loss: 0.151 - Test Accuracy:  75.250\n",
      "\n",
      "Processing time:  21.206870 seconds.\n"
     ]
    },
    {
     "name": "stdout",
     "output_type": "stream",
     "text": [
      "\n",
      "Epoch 190 - Loss: 0.151 - Test Accuracy:  75.260\n",
      "\n",
      "Processing time:  21.266371 seconds.\n"
     ]
    },
    {
     "name": "stdout",
     "output_type": "stream",
     "text": [
      "\n",
      "Epoch 191 - Loss: 0.151 - Test Accuracy:  75.190\n",
      "\n",
      "Processing time:  21.149901 seconds.\n"
     ]
    },
    {
     "name": "stdout",
     "output_type": "stream",
     "text": [
      "\n",
      "Epoch 192 - Loss: 0.150 - Test Accuracy:  75.070\n",
      "\n",
      "Processing time:  21.401586 seconds.\n"
     ]
    },
    {
     "name": "stdout",
     "output_type": "stream",
     "text": [
      "\n",
      "Epoch 193 - Loss: 0.151 - Test Accuracy:  75.190\n",
      "\n",
      "Processing time:  21.136567 seconds.\n"
     ]
    },
    {
     "name": "stdout",
     "output_type": "stream",
     "text": [
      "\n",
      "Epoch 194 - Loss: 0.151 - Test Accuracy:  74.970\n",
      "\n",
      "Processing time:  21.523212 seconds.\n"
     ]
    },
    {
     "name": "stdout",
     "output_type": "stream",
     "text": [
      "\n",
      "Epoch 195 - Loss: 0.151 - Test Accuracy:  75.070\n",
      "\n",
      "Processing time:  21.653627 seconds.\n"
     ]
    },
    {
     "name": "stdout",
     "output_type": "stream",
     "text": [
      "\n",
      "Epoch 196 - Loss: 0.149 - Test Accuracy:  75.370\n",
      "\n",
      "Processing time:  21.225473 seconds.\n"
     ]
    },
    {
     "name": "stdout",
     "output_type": "stream",
     "text": [
      "\n",
      "Epoch 197 - Loss: 0.149 - Test Accuracy:  75.080\n",
      "\n",
      "Processing time:  21.220798 seconds.\n"
     ]
    },
    {
     "name": "stdout",
     "output_type": "stream",
     "text": [
      "\n",
      "Epoch 198 - Loss: 0.151 - Test Accuracy:  75.140\n",
      "\n",
      "Processing time:  21.385601 seconds.\n"
     ]
    },
    {
     "name": "stdout",
     "output_type": "stream",
     "text": [
      "\n",
      "Epoch 199 - Loss: 0.150 - Test Accuracy:  75.060\n",
      "\n",
      "Processing time:  21.170639 seconds.\n"
     ]
    },
    {
     "name": "stdout",
     "output_type": "stream",
     "text": [
      "\n",
      "Epoch 200 - Loss: 0.151 - Test Accuracy:  75.240\n",
      "\n",
      "Processing time:  21.104388 seconds.\n",
      "Finished Training\n"
     ]
    }
   ],
   "source": [
    "import torch.optim as optim\n",
    "import torch.nn.functional as F\n",
    "from torch.optim.lr_scheduler import CosineAnnealingLR\n",
    "import time\n",
    "\n",
    "criterion = nn.CrossEntropyLoss()\n",
    "optimizer = optim.SGD(net.parameters(), lr=0.15, momentum=0.9, weight_decay=1e-4)\n",
    "\n",
    "# Initialize the scheduler\n",
    "epochs = EPOCHS\n",
    "scheduler = CosineAnnealingLR(optimizer, T_max=epochs)  # Cosine Annealing LR Scheduler\n",
    "\n",
    "# For plotting\n",
    "train_losses, test_accuracies = [], []\n",
    "\n",
    "# Training loop\n",
    "print(f'\\nStart Training...\\n')\n",
    "for epoch in range(epochs):  # loop over the dataset multiple times\n",
    "    \n",
    "    start_time = time.time()\n",
    "    \n",
    "    running_loss = 0.0\n",
    "    total_train = 0\n",
    "    correct_train = 0\n",
    "    total = 0\n",
    "    correct = 0\n",
    "    confidences = None\n",
    "    \n",
    "    net.train()\n",
    "    \n",
    "    if DATASET_TYPE=='baseline':\n",
    "        trainloader = baseline_trainloader\n",
    "    elif DATASET_TYPE=='custom':\n",
    "        trainloader = custom_trainloader\n",
    "    else:\n",
    "        raise ValueError('Dataset type is not Valid!')\n",
    "    \n",
    "    for i, data in enumerate(trainloader):\n",
    "            \n",
    "        if DATASET_TYPE=='baseline':\n",
    "            inputs, labels = data\n",
    "        elif DATASET_TYPE=='custom':\n",
    "            inputs, labels, confidences = data\n",
    "            # get the inputs\n",
    "            \"\"\"when the model returns [augmentation_magnitude, confidence_aa], which is the case\n",
    "            only when TA with soft labels is applied.\"\"\"\n",
    "            if isinstance(confidences, list):\n",
    "                confidences = confidences[1]\n",
    "            confidences = confidences.to(device)\n",
    "        else:\n",
    "            raise ValueError('Dataset type is not Valid!')\n",
    "        \n",
    "        # zero the parameter gradients\n",
    "        optimizer.zero_grad()\n",
    "        \n",
    "        inputs, labels = inputs.to(device), labels.to(device)\n",
    "    \n",
    "        # Convert labels to one-hot encoded vectors\n",
    "        # labels_one_hot = F.one_hot(labels, num_classes=10).float()\n",
    "        \n",
    "        # forward + backward + optimize\n",
    "        outputs = net(inputs)\n",
    "        outputs = outputs.to(device)\n",
    "        \n",
    "        if DATASET_TYPE=='custom':\n",
    "            loss = soft_loss(pred=outputs, label=labels, confidence=confidences, reweight=REWEIGHT)\n",
    "        else:\n",
    "            loss = criterion(outputs, labels)\n",
    "        \n",
    "        # Check for correct training\n",
    "        if np.isnan(loss.detach().cpu().numpy()):\n",
    "            raise ValueError('Loss calculation not correct')\n",
    "    \n",
    "        loss.backward()\n",
    "        optimizer.step()\n",
    "        \n",
    "        if tpu:\n",
    "            xm.mark_step()\n",
    "        running_loss += loss.item()\n",
    "\n",
    "        # Calculate training accuracy\n",
    "        _, predicted = torch.max(outputs.data, 1)\n",
    "        total_train += labels.size(0)\n",
    "        correct_train += (predicted == labels).sum().item()\n",
    "    \n",
    "    with torch.no_grad():\n",
    "        net.eval()\n",
    "        for images, labels in baseline_testloader:\n",
    "            images, labels = images.to(device), labels.to(device)\n",
    "            outputs = net(images)\n",
    "            _, predicted = torch.max(outputs.data, 1)\n",
    "            total += labels.size(0)\n",
    "            correct += (predicted == labels).sum().item()\n",
    "    \n",
    "    # calculate and print average loss for current epoch\n",
    "    average_loss = running_loss / len(custom_trainloader)\n",
    "    train_losses.append(average_loss)\n",
    "    \n",
    "    test_accuracy = correct / total\n",
    "    test_accuracies.append(test_accuracy)\n",
    "    \n",
    "    print(f'\\nEpoch {epoch + 1} - Loss: {average_loss:.3f} - Test Accuracy: {100 * test_accuracy: .3f}')    \n",
    "    \n",
    "    scheduler.step()\n",
    "    end_time = time.time()\n",
    "    print(f'\\nProcessing time: {(end_time - start_time): 3f} seconds.')\n",
    "\n",
    "print('Finished Training')\n",
    "\n",
    "# Save the trained model\n",
    "PATH = f'/kaggle/working/{DATASET_NAME}_net_ta_{DATASET_TYPE}_{epochs}.pth'\n",
    "torch.save(net.state_dict(), PATH)"
   ]
  },
  {
   "cell_type": "code",
   "execution_count": 11,
   "id": "fffa9950",
   "metadata": {
    "execution": {
     "iopub.execute_input": "2024-09-19T12:00:43.174835Z",
     "iopub.status.busy": "2024-09-19T12:00:43.174456Z",
     "iopub.status.idle": "2024-09-19T12:00:43.432014Z",
     "shell.execute_reply": "2024-09-19T12:00:43.431166Z"
    },
    "papermill": {
     "duration": 0.295891,
     "end_time": "2024-09-19T12:00:43.433725",
     "exception": false,
     "start_time": "2024-09-19T12:00:43.137834",
     "status": "completed"
    },
    "tags": []
   },
   "outputs": [
    {
     "data": {
      "image/png": "[encoded data removed]",
      "text/plain": [
       "<Figure size 1000x500 with 1 Axes>"
      ]
     },
     "metadata": {},
     "output_type": "display_data"
    }
   ],
   "source": [
    "plt.figure(figsize=(10, 5))\n",
    "plt.plot(range(1, epochs + 1), train_losses, label='Train Loss', color='tab:red')\n",
    "plt.plot(range(1, epochs + 1), test_accuracies, label='Test Accuracy', color='tab:blue')\n",
    "plt.xlabel('Epochs')\n",
    "plt.ylabel('Value')\n",
    "plt.title(f'{DATASET_NAME} - {DATASET_TYPE}')\n",
    "plt.legend()\n",
    "plt.grid(True)\n",
    "plt.show()"
   ]
  },
  {
   "cell_type": "markdown",
   "id": "2807c75b",
   "metadata": {
    "papermill": {
     "duration": 0.035576,
     "end_time": "2024-09-19T12:00:43.506588",
     "exception": false,
     "start_time": "2024-09-19T12:00:43.471012",
     "status": "completed"
    },
    "tags": []
   },
   "source": [
    "## Evaluate the model on Testset"
   ]
  },
  {
   "cell_type": "code",
   "execution_count": 12,
   "id": "6e085825",
   "metadata": {
    "execution": {
     "iopub.execute_input": "2024-09-19T12:00:43.578679Z",
     "iopub.status.busy": "2024-09-19T12:00:43.578374Z",
     "iopub.status.idle": "2024-09-19T12:04:55.073885Z",
     "shell.execute_reply": "2024-09-19T12:04:55.072739Z"
    },
    "papermill": {
     "duration": 251.533971,
     "end_time": "2024-09-19T12:04:55.075667",
     "exception": false,
     "start_time": "2024-09-19T12:00:43.541696",
     "status": "completed"
    },
    "tags": []
   },
   "outputs": [
    {
     "name": "stdout",
     "output_type": "stream",
     "text": [
      "Accuracy of the network on the CIFAR-10 test dataset: 75.24 %\n",
      "Testing on corruption: gaussian_noise\n"
     ]
    },
    {
     "name": "stdout",
     "output_type": "stream",
     "text": [
      "Accuracy of the network on gaussian_noise dataset split 1: 30.56 %\n"
     ]
    },
    {
     "name": "stdout",
     "output_type": "stream",
     "text": [
      "Accuracy of the network on gaussian_noise dataset split 2: 15.57 %\n"
     ]
    },
    {
     "name": "stdout",
     "output_type": "stream",
     "text": [
      "Accuracy of the network on gaussian_noise dataset split 3: 8.74 %\n"
     ]
    },
    {
     "name": "stdout",
     "output_type": "stream",
     "text": [
      "Accuracy of the network on gaussian_noise dataset split 4: 7.17 %\n"
     ]
    },
    {
     "name": "stdout",
     "output_type": "stream",
     "text": [
      "Accuracy of the network on gaussian_noise dataset split 5: 5.25 %\n",
      "Average accuracy for gaussian_noise dataset: 13.46 %\n",
      "Testing on corruption: shot_noise\n"
     ]
    },
    {
     "name": "stdout",
     "output_type": "stream",
     "text": [
      "Accuracy of the network on shot_noise dataset split 1: 46.07 %\n"
     ]
    },
    {
     "name": "stdout",
     "output_type": "stream",
     "text": [
      "Accuracy of the network on shot_noise dataset split 2: 29.77 %\n"
     ]
    },
    {
     "name": "stdout",
     "output_type": "stream",
     "text": [
      "Accuracy of the network on shot_noise dataset split 3: 12.68 %\n"
     ]
    },
    {
     "name": "stdout",
     "output_type": "stream",
     "text": [
      "Accuracy of the network on shot_noise dataset split 4: 9.46 %\n"
     ]
    },
    {
     "name": "stdout",
     "output_type": "stream",
     "text": [
      "Accuracy of the network on shot_noise dataset split 5: 6.30 %\n",
      "Average accuracy for shot_noise dataset: 20.86 %\n",
      "Testing on corruption: impulse_noise\n"
     ]
    },
    {
     "name": "stdout",
     "output_type": "stream",
     "text": [
      "Accuracy of the network on impulse_noise dataset split 1: 44.25 %\n"
     ]
    },
    {
     "name": "stdout",
     "output_type": "stream",
     "text": [
      "Accuracy of the network on impulse_noise dataset split 2: 18.98 %\n"
     ]
    },
    {
     "name": "stdout",
     "output_type": "stream",
     "text": [
      "Accuracy of the network on impulse_noise dataset split 3: 8.67 %\n"
     ]
    },
    {
     "name": "stdout",
     "output_type": "stream",
     "text": [
      "Accuracy of the network on impulse_noise dataset split 4: 3.64 %\n"
     ]
    },
    {
     "name": "stdout",
     "output_type": "stream",
     "text": [
      "Accuracy of the network on impulse_noise dataset split 5: 2.38 %\n",
      "Average accuracy for impulse_noise dataset: 15.58 %\n",
      "Testing on corruption: defocus_blur\n"
     ]
    },
    {
     "name": "stdout",
     "output_type": "stream",
     "text": [
      "Accuracy of the network on defocus_blur dataset split 1: 74.10 %\n"
     ]
    },
    {
     "name": "stdout",
     "output_type": "stream",
     "text": [
      "Accuracy of the network on defocus_blur dataset split 2: 66.92 %\n"
     ]
    },
    {
     "name": "stdout",
     "output_type": "stream",
     "text": [
      "Accuracy of the network on defocus_blur dataset split 3: 53.18 %\n"
     ]
    },
    {
     "name": "stdout",
     "output_type": "stream",
     "text": [
      "Accuracy of the network on defocus_blur dataset split 4: 40.06 %\n"
     ]
    },
    {
     "name": "stdout",
     "output_type": "stream",
     "text": [
      "Accuracy of the network on defocus_blur dataset split 5: 22.82 %\n",
      "Average accuracy for defocus_blur dataset: 51.42 %\n",
      "Testing on corruption: glass_blur\n"
     ]
    },
    {
     "name": "stdout",
     "output_type": "stream",
     "text": [
      "Accuracy of the network on glass_blur dataset split 1: 16.88 %\n"
     ]
    },
    {
     "name": "stdout",
     "output_type": "stream",
     "text": [
      "Accuracy of the network on glass_blur dataset split 2: 18.62 %\n"
     ]
    },
    {
     "name": "stdout",
     "output_type": "stream",
     "text": [
      "Accuracy of the network on glass_blur dataset split 3: 21.99 %\n"
     ]
    },
    {
     "name": "stdout",
     "output_type": "stream",
     "text": [
      "Accuracy of the network on glass_blur dataset split 4: 13.21 %\n"
     ]
    },
    {
     "name": "stdout",
     "output_type": "stream",
     "text": [
      "Accuracy of the network on glass_blur dataset split 5: 16.12 %\n",
      "Average accuracy for glass_blur dataset: 17.36 %\n",
      "Testing on corruption: motion_blur\n"
     ]
    },
    {
     "name": "stdout",
     "output_type": "stream",
     "text": [
      "Accuracy of the network on motion_blur dataset split 1: 60.45 %\n"
     ]
    },
    {
     "name": "stdout",
     "output_type": "stream",
     "text": [
      "Accuracy of the network on motion_blur dataset split 2: 48.50 %\n"
     ]
    },
    {
     "name": "stdout",
     "output_type": "stream",
     "text": [
      "Accuracy of the network on motion_blur dataset split 3: 37.97 %\n"
     ]
    },
    {
     "name": "stdout",
     "output_type": "stream",
     "text": [
      "Accuracy of the network on motion_blur dataset split 4: 38.08 %\n"
     ]
    },
    {
     "name": "stdout",
     "output_type": "stream",
     "text": [
      "Accuracy of the network on motion_blur dataset split 5: 30.59 %\n",
      "Average accuracy for motion_blur dataset: 43.12 %\n",
      "Testing on corruption: zoom_blur\n"
     ]
    },
    {
     "name": "stdout",
     "output_type": "stream",
     "text": [
      "Accuracy of the network on zoom_blur dataset split 1: 55.38 %\n"
     ]
    },
    {
     "name": "stdout",
     "output_type": "stream",
     "text": [
      "Accuracy of the network on zoom_blur dataset split 2: 49.78 %\n"
     ]
    },
    {
     "name": "stdout",
     "output_type": "stream",
     "text": [
      "Accuracy of the network on zoom_blur dataset split 3: 42.27 %\n"
     ]
    },
    {
     "name": "stdout",
     "output_type": "stream",
     "text": [
      "Accuracy of the network on zoom_blur dataset split 4: 36.54 %\n"
     ]
    },
    {
     "name": "stdout",
     "output_type": "stream",
     "text": [
      "Accuracy of the network on zoom_blur dataset split 5: 29.47 %\n",
      "Average accuracy for zoom_blur dataset: 42.69 %\n",
      "Testing on corruption: snow\n"
     ]
    },
    {
     "name": "stdout",
     "output_type": "stream",
     "text": [
      "Accuracy of the network on snow dataset split 1: 66.27 %\n"
     ]
    },
    {
     "name": "stdout",
     "output_type": "stream",
     "text": [
      "Accuracy of the network on snow dataset split 2: 47.44 %\n"
     ]
    },
    {
     "name": "stdout",
     "output_type": "stream",
     "text": [
      "Accuracy of the network on snow dataset split 3: 54.44 %\n"
     ]
    },
    {
     "name": "stdout",
     "output_type": "stream",
     "text": [
      "Accuracy of the network on snow dataset split 4: 51.15 %\n"
     ]
    },
    {
     "name": "stdout",
     "output_type": "stream",
     "text": [
      "Accuracy of the network on snow dataset split 5: 40.48 %\n",
      "Average accuracy for snow dataset: 51.96 %\n",
      "Testing on corruption: frost\n"
     ]
    },
    {
     "name": "stdout",
     "output_type": "stream",
     "text": [
      "Accuracy of the network on frost dataset split 1: 61.80 %\n"
     ]
    },
    {
     "name": "stdout",
     "output_type": "stream",
     "text": [
      "Accuracy of the network on frost dataset split 2: 50.65 %\n"
     ]
    },
    {
     "name": "stdout",
     "output_type": "stream",
     "text": [
      "Accuracy of the network on frost dataset split 3: 36.44 %\n"
     ]
    },
    {
     "name": "stdout",
     "output_type": "stream",
     "text": [
      "Accuracy of the network on frost dataset split 4: 34.94 %\n"
     ]
    },
    {
     "name": "stdout",
     "output_type": "stream",
     "text": [
      "Accuracy of the network on frost dataset split 5: 25.12 %\n",
      "Average accuracy for frost dataset: 41.79 %\n",
      "Testing on corruption: fog\n"
     ]
    },
    {
     "name": "stdout",
     "output_type": "stream",
     "text": [
      "Accuracy of the network on fog dataset split 1: 72.42 %\n"
     ]
    },
    {
     "name": "stdout",
     "output_type": "stream",
     "text": [
      "Accuracy of the network on fog dataset split 2: 66.22 %\n"
     ]
    },
    {
     "name": "stdout",
     "output_type": "stream",
     "text": [
      "Accuracy of the network on fog dataset split 3: 59.05 %\n"
     ]
    },
    {
     "name": "stdout",
     "output_type": "stream",
     "text": [
      "Accuracy of the network on fog dataset split 4: 50.22 %\n"
     ]
    },
    {
     "name": "stdout",
     "output_type": "stream",
     "text": [
      "Accuracy of the network on fog dataset split 5: 28.95 %\n",
      "Average accuracy for fog dataset: 55.37 %\n",
      "Testing on corruption: brightness\n"
     ]
    },
    {
     "name": "stdout",
     "output_type": "stream",
     "text": [
      "Accuracy of the network on brightness dataset split 1: 74.75 %\n"
     ]
    },
    {
     "name": "stdout",
     "output_type": "stream",
     "text": [
      "Accuracy of the network on brightness dataset split 2: 73.21 %\n"
     ]
    },
    {
     "name": "stdout",
     "output_type": "stream",
     "text": [
      "Accuracy of the network on brightness dataset split 3: 70.86 %\n"
     ]
    },
    {
     "name": "stdout",
     "output_type": "stream",
     "text": [
      "Accuracy of the network on brightness dataset split 4: 67.72 %\n"
     ]
    },
    {
     "name": "stdout",
     "output_type": "stream",
     "text": [
      "Accuracy of the network on brightness dataset split 5: 58.56 %\n",
      "Average accuracy for brightness dataset: 69.02 %\n",
      "Testing on corruption: contrast\n"
     ]
    },
    {
     "name": "stdout",
     "output_type": "stream",
     "text": [
      "Accuracy of the network on contrast dataset split 1: 70.71 %\n"
     ]
    },
    {
     "name": "stdout",
     "output_type": "stream",
     "text": [
      "Accuracy of the network on contrast dataset split 2: 56.52 %\n"
     ]
    },
    {
     "name": "stdout",
     "output_type": "stream",
     "text": [
      "Accuracy of the network on contrast dataset split 3: 45.94 %\n"
     ]
    },
    {
     "name": "stdout",
     "output_type": "stream",
     "text": [
      "Accuracy of the network on contrast dataset split 4: 30.61 %\n"
     ]
    },
    {
     "name": "stdout",
     "output_type": "stream",
     "text": [
      "Accuracy of the network on contrast dataset split 5: 9.28 %\n",
      "Average accuracy for contrast dataset: 42.61 %\n",
      "Testing on corruption: elastic_transform\n"
     ]
    },
    {
     "name": "stdout",
     "output_type": "stream",
     "text": [
      "Accuracy of the network on elastic_transform dataset split 1: 61.77 %\n"
     ]
    },
    {
     "name": "stdout",
     "output_type": "stream",
     "text": [
      "Accuracy of the network on elastic_transform dataset split 2: 60.97 %\n"
     ]
    },
    {
     "name": "stdout",
     "output_type": "stream",
     "text": [
      "Accuracy of the network on elastic_transform dataset split 3: 52.87 %\n"
     ]
    },
    {
     "name": "stdout",
     "output_type": "stream",
     "text": [
      "Accuracy of the network on elastic_transform dataset split 4: 48.08 %\n"
     ]
    },
    {
     "name": "stdout",
     "output_type": "stream",
     "text": [
      "Accuracy of the network on elastic_transform dataset split 5: 44.89 %\n",
      "Average accuracy for elastic_transform dataset: 53.72 %\n",
      "Testing on corruption: pixelate\n"
     ]
    },
    {
     "name": "stdout",
     "output_type": "stream",
     "text": [
      "Accuracy of the network on pixelate dataset split 1: 69.20 %\n"
     ]
    },
    {
     "name": "stdout",
     "output_type": "stream",
     "text": [
      "Accuracy of the network on pixelate dataset split 2: 57.79 %\n"
     ]
    },
    {
     "name": "stdout",
     "output_type": "stream",
     "text": [
      "Accuracy of the network on pixelate dataset split 3: 49.51 %\n"
     ]
    },
    {
     "name": "stdout",
     "output_type": "stream",
     "text": [
      "Accuracy of the network on pixelate dataset split 4: 29.02 %\n"
     ]
    },
    {
     "name": "stdout",
     "output_type": "stream",
     "text": [
      "Accuracy of the network on pixelate dataset split 5: 13.87 %\n",
      "Average accuracy for pixelate dataset: 43.88 %\n",
      "Testing on corruption: jpeg_compression\n"
     ]
    },
    {
     "name": "stdout",
     "output_type": "stream",
     "text": [
      "Accuracy of the network on jpeg_compression dataset split 1: 54.31 %\n"
     ]
    },
    {
     "name": "stdout",
     "output_type": "stream",
     "text": [
      "Accuracy of the network on jpeg_compression dataset split 2: 45.27 %\n"
     ]
    },
    {
     "name": "stdout",
     "output_type": "stream",
     "text": [
      "Accuracy of the network on jpeg_compression dataset split 3: 42.67 %\n"
     ]
    },
    {
     "name": "stdout",
     "output_type": "stream",
     "text": [
      "Accuracy of the network on jpeg_compression dataset split 4: 38.93 %\n"
     ]
    },
    {
     "name": "stdout",
     "output_type": "stream",
     "text": [
      "Accuracy of the network on jpeg_compression dataset split 5: 33.99 %\n",
      "Average accuracy for jpeg_compression dataset: 43.03 %\n",
      "Testing on corruption: speckle_noise\n"
     ]
    },
    {
     "name": "stdout",
     "output_type": "stream",
     "text": [
      "Accuracy of the network on speckle_noise dataset split 1: 48.93 %\n"
     ]
    },
    {
     "name": "stdout",
     "output_type": "stream",
     "text": [
      "Accuracy of the network on speckle_noise dataset split 2: 25.90 %\n"
     ]
    },
    {
     "name": "stdout",
     "output_type": "stream",
     "text": [
      "Accuracy of the network on speckle_noise dataset split 3: 18.64 %\n"
     ]
    },
    {
     "name": "stdout",
     "output_type": "stream",
     "text": [
      "Accuracy of the network on speckle_noise dataset split 4: 10.94 %\n"
     ]
    },
    {
     "name": "stdout",
     "output_type": "stream",
     "text": [
      "Accuracy of the network on speckle_noise dataset split 5: 7.05 %\n",
      "Average accuracy for speckle_noise dataset: 22.29 %\n",
      "Testing on corruption: gaussian_blur\n"
     ]
    },
    {
     "name": "stdout",
     "output_type": "stream",
     "text": [
      "Accuracy of the network on gaussian_blur dataset split 1: 74.17 %\n"
     ]
    },
    {
     "name": "stdout",
     "output_type": "stream",
     "text": [
      "Accuracy of the network on gaussian_blur dataset split 2: 52.92 %\n"
     ]
    },
    {
     "name": "stdout",
     "output_type": "stream",
     "text": [
      "Accuracy of the network on gaussian_blur dataset split 3: 38.48 %\n"
     ]
    },
    {
     "name": "stdout",
     "output_type": "stream",
     "text": [
      "Accuracy of the network on gaussian_blur dataset split 4: 27.34 %\n"
     ]
    },
    {
     "name": "stdout",
     "output_type": "stream",
     "text": [
      "Accuracy of the network on gaussian_blur dataset split 5: 15.94 %\n",
      "Average accuracy for gaussian_blur dataset: 41.77 %\n",
      "Testing on corruption: spatter\n"
     ]
    },
    {
     "name": "stdout",
     "output_type": "stream",
     "text": [
      "Accuracy of the network on spatter dataset split 1: 71.06 %\n"
     ]
    },
    {
     "name": "stdout",
     "output_type": "stream",
     "text": [
      "Accuracy of the network on spatter dataset split 2: 62.52 %\n"
     ]
    },
    {
     "name": "stdout",
     "output_type": "stream",
     "text": [
      "Accuracy of the network on spatter dataset split 3: 54.78 %\n"
     ]
    },
    {
     "name": "stdout",
     "output_type": "stream",
     "text": [
      "Accuracy of the network on spatter dataset split 4: 60.17 %\n"
     ]
    },
    {
     "name": "stdout",
     "output_type": "stream",
     "text": [
      "Accuracy of the network on spatter dataset split 5: 42.69 %\n",
      "Average accuracy for spatter dataset: 58.24 %\n",
      "Testing on corruption: saturate\n"
     ]
    },
    {
     "name": "stdout",
     "output_type": "stream",
     "text": [
      "Accuracy of the network on saturate dataset split 1: 57.57 %\n"
     ]
    },
    {
     "name": "stdout",
     "output_type": "stream",
     "text": [
      "Accuracy of the network on saturate dataset split 2: 46.25 %\n"
     ]
    },
    {
     "name": "stdout",
     "output_type": "stream",
     "text": [
      "Accuracy of the network on saturate dataset split 3: 71.91 %\n"
     ]
    },
    {
     "name": "stdout",
     "output_type": "stream",
     "text": [
      "Accuracy of the network on saturate dataset split 4: 60.81 %\n"
     ]
    },
    {
     "name": "stdout",
     "output_type": "stream",
     "text": [
      "Accuracy of the network on saturate dataset split 5: 48.61 %\n",
      "Average accuracy for saturate dataset: 57.03 %\n",
      "Average Robust Accuracy: 41.33 %\n"
     ]
    }
   ],
   "source": [
    "import torch\n",
    "import numpy as np\n",
    "\n",
    "# Evaluate the CIFAR-10 dataset\n",
    "correct = 0\n",
    "total = 0\n",
    "\n",
    "with torch.no_grad():\n",
    "    net.eval()\n",
    "    for images, labels in baseline_testloader:\n",
    "        images, labels = images.to(device), labels.to(device)\n",
    "        outputs = net(images)\n",
    "        _, predicted = torch.max(outputs.data, 1)\n",
    "        total += labels.size(0)\n",
    "        correct += (predicted == labels).sum().item()\n",
    "\n",
    "    if total == 0:\n",
    "        print('No images found for CIFAR-10 dataset.')\n",
    "    else:\n",
    "        cifar10_accuracy = 100 * correct / total\n",
    "        print(f'Accuracy of the network on the CIFAR-10 test dataset: {cifar10_accuracy:.2f} %')\n",
    "\n",
    "if not tpu:\n",
    "    # Clear GPU memory\n",
    "    torch.cuda.empty_cache()\n",
    "\n",
    "    # Clear CPU memory\n",
    "    torch.cuda.ipc_collect()\n",
    "\n",
    "# Define the list of corruptions\n",
    "corruptions = ['gaussian_noise', 'shot_noise', 'impulse_noise', 'defocus_blur', 'glass_blur', \n",
    "               'motion_blur', 'zoom_blur', 'snow', 'frost', 'fog', 'brightness', \n",
    "               'contrast', 'elastic_transform', 'pixelate', 'jpeg_compression', \n",
    "               'speckle_noise', 'gaussian_blur', 'spatter', 'saturate']\n",
    "\n",
    "# Define the batch size\n",
    "batch_size = 256 \n",
    "\n",
    "# Create an empty dictionary to store corrupted datasets\n",
    "corrupted_datasets = {}\n",
    "\n",
    "# Prepare to count predictions for each class\n",
    "correct_pred = {classname: 0 for classname in classes}\n",
    "total_pred = {classname: 0 for classname in classes}\n",
    "\n",
    "# List to store average accuracies for each corruption dataset\n",
    "average_accuracies = []\n",
    "\n",
    "# Loop over corruptions, loading and testing all 5 severity levels of each corruption dataset\n",
    "for corruption in corruptions:\n",
    "    print(f\"Testing on corruption: {corruption}\")\n",
    "\n",
    "    # Load and test datasets for all 5 severity levels of the current corruption\n",
    "    try:\n",
    "        if DATASET_NAME=='CIFAR10':\n",
    "            np_data_c = np.load(f'/kaggle/input/cifar-c/CIFAR-10-C/{corruption}.npy')\n",
    "        elif DATASET_NAME=='CIFAR100':\n",
    "            np_data_c = np.load(f'/kaggle/input/cifar-100-c/{corruption}.npy')\n",
    "        else:\n",
    "            raise ValueError(f'Corruption dataset {DATASET_NAME} not loaded')\n",
    "            \n",
    "        np_data_c_splits = np.array_split(np_data_c, 5)\n",
    "        \n",
    "        # List to store accuracies of all severity levels for averaging\n",
    "        accuracies = []\n",
    "\n",
    "        for i, np_data_c_split in enumerate(np_data_c_splits):\n",
    "            custom_dataset = CustomDataset(np_data_c_split, baseline_testset, resize=True)\n",
    "            custom_dataloader = torch.utils.data.DataLoader(custom_dataset, batch_size=batch_size, shuffle=False)\n",
    "\n",
    "            # Testing loop for the current corruption dataset split\n",
    "            correct = 0\n",
    "            total = 0\n",
    "\n",
    "            with torch.no_grad():\n",
    "                images_loaded = 0  # Counter for images loaded for the current corruption\n",
    "                for images, labels in custom_dataloader:\n",
    "                    images_loaded += len(images)  # Increment the counter by the number of images loaded\n",
    "                    images, labels = images.to(device), labels.to(device)\n",
    "                    # Calculate outputs by running images through the network\n",
    "                    outputs = net(images)\n",
    "                    # The class with the highest energy is chosen as prediction\n",
    "                    _, predicted = torch.max(outputs.data, 1)\n",
    "                    total += labels.size(0)\n",
    "                    correct += (predicted == labels).sum().item()\n",
    "\n",
    "                if total == 0:\n",
    "                    print(f'No images found for {corruption} dataset split {i+1}.')\n",
    "                else:\n",
    "                    accuracy = 100 * correct / total\n",
    "                    print(f'Accuracy of the network on {corruption} dataset split {i+1}: {accuracy:.2f} %')\n",
    "                    accuracies.append(accuracy)\n",
    "\n",
    "                # Print the number of images loaded for the current corruption dataset split\n",
    "                #print(f\"Images loaded for {corruption} dataset split {i+1}: {images_loaded}\")\n",
    "                \n",
    "                if not tpu:\n",
    "                    # Clear GPU memory\n",
    "                    torch.cuda.empty_cache()\n",
    "                    # Clear CPU memory\n",
    "                    torch.cuda.ipc_collect()\n",
    "\n",
    "                # Delete variables to free up memory\n",
    "                del custom_dataset\n",
    "                del custom_dataloader\n",
    "\n",
    "        # Calculate and print the average accuracy for the corruption dataset\n",
    "        if accuracies:\n",
    "            average_accuracy = sum(accuracies) / len(accuracies)\n",
    "            average_accuracies.append(average_accuracy)\n",
    "            print(f'Average accuracy for {corruption} dataset: {average_accuracy:.2f} %')\n",
    "\n",
    "    except FileNotFoundError:\n",
    "        print(f'Corruption {corruption} dataset not found.')\n",
    "        continue\n",
    "\n",
    "# Calculate and print the average robust accuracy\n",
    "if average_accuracies:\n",
    "    average_robust_accuracy = sum(average_accuracies) / len(average_accuracies)\n",
    "    print(f'Average Robust Accuracy: {average_robust_accuracy:.2f} %')\n",
    "else:\n",
    "    print(\"No corrupt datasets found for evaluation.\")"
   ]
  },
  {
   "cell_type": "code",
   "execution_count": 13,
   "id": "138ab8da",
   "metadata": {
    "execution": {
     "iopub.execute_input": "2024-09-19T12:04:55.158755Z",
     "iopub.status.busy": "2024-09-19T12:04:55.158429Z",
     "iopub.status.idle": "2024-09-19T12:04:55.165987Z",
     "shell.execute_reply": "2024-09-19T12:04:55.165321Z"
    },
    "papermill": {
     "duration": 0.05049,
     "end_time": "2024-09-19T12:04:55.167597",
     "exception": false,
     "start_time": "2024-09-19T12:04:55.117107",
     "status": "completed"
    },
    "tags": []
   },
   "outputs": [],
   "source": [
    "# # Load the model checkpoint\n",
    "# net = WideResNet_28_4(num_classes=num_classes)\n",
    "# checkpoint_path = '/kaggle/working/MasterArbeit/models/CIFAR10_net_ta_custom_100.pth'\n",
    "# checkpoint = torch.load(checkpoint_path)\n",
    "# net.load_state_dict(checkpoint, strict=False)\n",
    "# net.to(device)\n",
    "\n",
    "# import torch\n",
    "# import numpy as np\n",
    "\n",
    "\n",
    "# # Evaluate the CIFAR-10 dataset\n",
    "# correct = 0\n",
    "# total = 0\n",
    "\n",
    "# with torch.no_grad():\n",
    "#     net.eval()\n",
    "#     for images, labels in baseline_testloader:\n",
    "#         images, labels = images.to(device), labels.to(device)\n",
    "#         outputs = net(images)\n",
    "#         _, predicted = torch.max(outputs.data, 1)\n",
    "#         total += labels.size(0)\n",
    "#         correct += (predicted == labels).sum().item()\n",
    "\n",
    "#     if total == 0:\n",
    "#         print('No images found for CIFAR-10 dataset.')\n",
    "#     else:\n",
    "#         cifar10_accuracy = 100 * correct / total\n",
    "#         print(f'Accuracy of the network on the CIFAR-10 test dataset: {cifar10_accuracy:.2f} %')\n",
    "        \n",
    "# if not tpu:\n",
    "#     # Clear GPU memory\n",
    "#     torch.cuda.empty_cache()\n",
    "\n",
    "#     # Clear CPU memory\n",
    "#     torch.cuda.ipc_collect()\n",
    "\n",
    "# # Define the list of corruptions\n",
    "# corruptions = ['gaussian_noise', 'shot_noise', 'impulse_noise', 'defocus_blur', 'glass_blur', \n",
    "#                'motion_blur', 'zoom_blur', 'snow', 'frost', 'fog', 'brightness', \n",
    "#                'contrast', 'elastic_transform', 'pixelate', 'jpeg_compression', \n",
    "#                'speckle_noise', 'gaussian_blur', 'spatter', 'saturate']\n",
    "\n",
    "# # Define the batch size\n",
    "# batch_size = 256 \n",
    "\n",
    "# # Create an empty dictionary to store corrupted datasets\n",
    "# corrupted_datasets = {}\n",
    "\n",
    "# # Prepare to count predictions for each class\n",
    "# correct_pred = {classname: 0 for classname in classes}\n",
    "# total_pred = {classname: 0 for classname in classes}\n",
    "\n",
    "# # List to store average accuracies for each corruption dataset\n",
    "# average_accuracies = []\n",
    "\n",
    "# # Loop over corruptions, loading and testing all 5 severity levels of each corruption dataset\n",
    "# for corruption in corruptions:\n",
    "#     print(f\"Testing on corruption: {corruption}\")\n",
    "\n",
    "#     # Load and test datasets for all 5 severity levels of the current corruption\n",
    "#     try:\n",
    "#         if DATASET_NAME=='CIFAR10':\n",
    "#             np_data_c = np.load(f'/kaggle/input/cifar-c/CIFAR-10-C/{corruption}.npy')\n",
    "#         elif DATASET_NAME=='CIFAR100':\n",
    "#             np_data_c = np.load(f'/kaggle/input/cifar-100-c/{corruption}.npy')\n",
    "#         else:\n",
    "#             raise ValueError(f'Corruption dataset {DATASET_NAME} not loaded')\n",
    "#         np_data_c_splits = np.array_split(np_data_c, 5)\n",
    "        \n",
    "#         # List to store accuracies of all severity levels for averaging\n",
    "#         accuracies = []\n",
    "\n",
    "#         for i, np_data_c_split in enumerate(np_data_c_splits):\n",
    "#             custom_dataset = CustomDataset(np_data_c_split, baseline_testset, resize=True)\n",
    "#             custom_dataloader = torch.utils.data.DataLoader(custom_dataset, batch_size=batch_size, shuffle=False)\n",
    "\n",
    "#             # Testing loop for the current corruption dataset split\n",
    "#             correct = 0\n",
    "#             total = 0\n",
    "\n",
    "#             with torch.no_grad():\n",
    "#                 images_loaded = 0  # Counter for images loaded for the current corruption\n",
    "#                 for images, labels in custom_dataloader:\n",
    "#                     images_loaded += len(images)  # Increment the counter by the number of images loaded\n",
    "#                     images, labels = images.to(device), labels.to(device)\n",
    "#                     # Calculate outputs by running images through the network\n",
    "#                     outputs = net(images)\n",
    "#                     # The class with the highest energy is chosen as prediction\n",
    "#                     _, predicted = torch.max(outputs.data, 1)\n",
    "#                     total += labels.size(0)\n",
    "#                     correct += (predicted == labels).sum().item()\n",
    "\n",
    "#                 if total == 0:\n",
    "#                     print(f'No images found for {corruption} dataset split {i+1}.')\n",
    "#                 else:\n",
    "#                     accuracy = 100 * correct / total\n",
    "#                     print(f'Accuracy of the network on {corruption} dataset split {i+1}: {accuracy:.2f} %')\n",
    "#                     accuracies.append(accuracy)\n",
    "\n",
    "#                 # Print the number of images loaded for the current corruption dataset split\n",
    "#                 #print(f\"Images loaded for {corruption} dataset split {i+1}: {images_loaded}\")\n",
    "                \n",
    "#                 if not tpu:\n",
    "#                     # Clear GPU memory\n",
    "#                     torch.cuda.empty_cache()\n",
    "#                     # Clear CPU memory\n",
    "#                     torch.cuda.ipc_collect()\n",
    "\n",
    "#                 # Delete variables to free up memory\n",
    "#                 del custom_dataset\n",
    "#                 del custom_dataloader\n",
    "\n",
    "#         # Calculate and print the average accuracy for the corruption dataset\n",
    "#         if accuracies:\n",
    "#             average_accuracy = sum(accuracies) / len(accuracies)\n",
    "#             average_accuracies.append(average_accuracy)\n",
    "#             print(f'Average accuracy for {corruption} dataset: {average_accuracy:.2f} %')\n",
    "\n",
    "#     except FileNotFoundError:\n",
    "#         print(f'Corruption {corruption} dataset not found.')\n",
    "#         continue\n",
    "\n",
    "# # Calculate and print the average robust accuracy\n",
    "# if average_accuracies:\n",
    "#     average_robust_accuracy = sum(average_accuracies) / len(average_accuracies)\n",
    "#     print(f'Average Robust Accuracy: {average_robust_accuracy:.2f} %')\n",
    "# else:\n",
    "#     print(\"No corrupt datasets found for evaluation.\")"
   ]
  },
  {
   "cell_type": "code",
   "execution_count": null,
   "id": "83eae152",
   "metadata": {
    "papermill": {
     "duration": 0.04017,
     "end_time": "2024-09-19T12:04:55.248206",
     "exception": false,
     "start_time": "2024-09-19T12:04:55.208036",
     "status": "completed"
    },
    "tags": []
   },
   "outputs": [],
   "source": []
  }
 ],
 "metadata": {
  "kaggle": {
   "accelerator": "tpu1vmV38",
   "dataSources": [
    {
     "datasetId": 4764421,
     "sourceId": 8073860,
     "sourceType": "datasetVersion"
    },
    {
     "datasetId": 5584357,
     "sourceId": 9232557,
     "sourceType": "datasetVersion"
    },
    {
     "modelId": 101255,
     "modelInstanceId": 76598,
     "sourceId": 91369,
     "sourceType": "modelInstanceVersion"
    }
   ],
   "isGpuEnabled": false,
   "isInternetEnabled": true,
   "language": "python",
   "sourceType": "notebook"
  },
  "kernelspec": {
   "display_name": "Python 3",
   "language": "python",
   "name": "python3"
  },
  "language_info": {
   "codemirror_mode": {
    "name": "ipython",
    "version": 3
   },
   "file_extension": ".py",
   "mimetype": "text/x-python",
   "name": "python",
   "nbconvert_exporter": "python",
   "pygments_lexer": "ipython3",
   "version": "3.10.14"
  },
  "papermill": {
   "default_parameters": {},
   "duration": 4769.743709,
   "end_time": "2024-09-19T12:05:01.802893",
   "environment_variables": {},
   "exception": null,
   "input_path": "__notebook__.ipynb",
   "output_path": "__notebook__.ipynb",
   "parameters": {},
   "start_time": "2024-09-19T10:45:32.059184",
   "version": "2.6.0"
  }
 },
 "nbformat": 4,
 "nbformat_minor": 5
}
