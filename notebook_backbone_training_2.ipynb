{
 "cells": [
  {
   "cell_type": "code",
   "execution_count": 1,
   "id": "c73153d4",
   "metadata": {
    "execution": {
     "iopub.execute_input": "2024-09-19T12:15:20.995901Z",
     "iopub.status.busy": "2024-09-19T12:15:20.995620Z",
     "iopub.status.idle": "2024-09-19T12:16:03.120341Z",
     "shell.execute_reply": "2024-09-19T12:16:03.119514Z"
    },
    "papermill": {
     "duration": 42.132654,
     "end_time": "2024-09-19T12:16:03.122676",
     "exception": false,
     "start_time": "2024-09-19T12:15:20.990022",
     "status": "completed"
    },
    "tags": []
   },
   "outputs": [
    {
     "name": "stdout",
     "output_type": "stream",
     "text": [
      "Collecting torchmetrics\r\n"
     ]
    },
    {
     "name": "stdout",
     "output_type": "stream",
     "text": [
      "  Downloading torchmetrics-1.4.2-py3-none-any.whl (869 kB)\r\n",
      "\u001b[?25l     \u001b[90m━━━━━━━━━━━━━━━━━━━━━━━━━━━━━━━━━━━━━━━━\u001b[0m \u001b[32m0.0/869.2 kB\u001b[0m \u001b[31m?\u001b[0m eta \u001b[36m-:--:--\u001b[0m"
     ]
    },
    {
     "name": "stdout",
     "output_type": "stream",
     "text": [
      "\r",
      "\u001b[2K     \u001b[91m━\u001b[0m\u001b[90m╺\u001b[0m\u001b[90m━━━━━━━━━━━━━━━━━━━━━━━━━━━━━━━━━━━━━━\u001b[0m \u001b[32m30.7/869.2 kB\u001b[0m \u001b[31m1.6 MB/s\u001b[0m eta \u001b[36m0:00:01\u001b[0m"
     ]
    },
    {
     "name": "stdout",
     "output_type": "stream",
     "text": [
      "\r",
      "\u001b[2K     \u001b[91m━━━━\u001b[0m\u001b[90m╺\u001b[0m\u001b[90m━━━━━━━━━━━━━━━━━━━━━━━━━━━━━━━━━━━\u001b[0m \u001b[32m92.2/869.2 kB\u001b[0m \u001b[31m1.4 MB/s\u001b[0m eta \u001b[36m0:00:01\u001b[0m\r",
      "\u001b[2K     \u001b[91m━━━━━━━━━━━\u001b[0m\u001b[90m╺\u001b[0m\u001b[90m━━━━━━━━━━━━━━━━━━━━━━━━━━━\u001b[0m \u001b[32m245.8/869.2 kB\u001b[0m \u001b[31m2.4 MB/s\u001b[0m eta \u001b[36m0:00:01\u001b[0m"
     ]
    },
    {
     "name": "stdout",
     "output_type": "stream",
     "text": [
      "\r",
      "\u001b[2K     \u001b[91m━━━━━━━━━━━━━━━━━━━━\u001b[0m\u001b[91m╸\u001b[0m\u001b[90m━━━━━━━━━━━━━━━━━━\u001b[0m \u001b[32m460.8/869.2 kB\u001b[0m \u001b[31m3.3 MB/s\u001b[0m eta \u001b[36m0:00:01\u001b[0m"
     ]
    },
    {
     "name": "stdout",
     "output_type": "stream",
     "text": [
      "\r",
      "\u001b[2K     \u001b[91m━━━━━━━━━━━━━━━━━━━━━━━━━━━━━━━━━━━━━\u001b[0m\u001b[91m╸\u001b[0m\u001b[90m━\u001b[0m \u001b[32m839.7/869.2 kB\u001b[0m \u001b[31m4.9 MB/s\u001b[0m eta \u001b[36m0:00:01\u001b[0m\r",
      "\u001b[2K     \u001b[90m━━━━━━━━━━━━━━━━━━━━━━━━━━━━━━━━━━━━━━━\u001b[0m \u001b[32m869.2/869.2 kB\u001b[0m \u001b[31m4.4 MB/s\u001b[0m eta \u001b[36m0:00:00\u001b[0m\r\n",
      "\u001b[?25h"
     ]
    },
    {
     "name": "stdout",
     "output_type": "stream",
     "text": [
      "Collecting lightning-utilities>=0.8.0\r\n"
     ]
    },
    {
     "name": "stdout",
     "output_type": "stream",
     "text": [
      "  Downloading lightning_utilities-0.11.7-py3-none-any.whl (26 kB)\r\n",
      "Requirement already satisfied: numpy>1.20.0 in /usr/local/lib/python3.10/site-packages (from torchmetrics) (1.26.4)\r\n",
      "Requirement already satisfied: packaging>17.1 in /usr/local/lib/python3.10/site-packages (from torchmetrics) (24.1)\r\n",
      "Requirement already satisfied: torch>=1.10.0 in /usr/local/lib/python3.10/site-packages (from torchmetrics) (2.4.0)\r\n",
      "Requirement already satisfied: typing-extensions in /usr/local/lib/python3.10/site-packages (from lightning-utilities>=0.8.0->torchmetrics) (4.12.2)\r\n",
      "Requirement already satisfied: setuptools in /usr/local/lib/python3.10/site-packages (from lightning-utilities>=0.8.0->torchmetrics) (65.5.1)\r\n"
     ]
    },
    {
     "name": "stdout",
     "output_type": "stream",
     "text": [
      "Requirement already satisfied: triton==3.0.0 in /usr/local/lib/python3.10/site-packages (from torch>=1.10.0->torchmetrics) (3.0.0)\r\n",
      "Requirement already satisfied: nvidia-cuda-cupti-cu12==12.1.105 in /usr/local/lib/python3.10/site-packages (from torch>=1.10.0->torchmetrics) (12.1.105)\r\n",
      "Requirement already satisfied: nvidia-curand-cu12==10.3.2.106 in /usr/local/lib/python3.10/site-packages (from torch>=1.10.0->torchmetrics) (10.3.2.106)\r\n",
      "Requirement already satisfied: filelock in /usr/local/lib/python3.10/site-packages (from torch>=1.10.0->torchmetrics) (3.15.4)\r\n",
      "Requirement already satisfied: jinja2 in /usr/local/lib/python3.10/site-packages (from torch>=1.10.0->torchmetrics) (3.1.4)\r\n",
      "Requirement already satisfied: nvidia-cuda-nvrtc-cu12==12.1.105 in /usr/local/lib/python3.10/site-packages (from torch>=1.10.0->torchmetrics) (12.1.105)\r\n",
      "Requirement already satisfied: nvidia-nccl-cu12==2.20.5 in /usr/local/lib/python3.10/site-packages (from torch>=1.10.0->torchmetrics) (2.20.5)\r\n",
      "Requirement already satisfied: nvidia-cuda-runtime-cu12==12.1.105 in /usr/local/lib/python3.10/site-packages (from torch>=1.10.0->torchmetrics) (12.1.105)\r\n",
      "Requirement already satisfied: sympy in /usr/local/lib/python3.10/site-packages (from torch>=1.10.0->torchmetrics) (1.13.2)\r\n",
      "Requirement already satisfied: nvidia-cublas-cu12==12.1.3.1 in /usr/local/lib/python3.10/site-packages (from torch>=1.10.0->torchmetrics) (12.1.3.1)\r\n",
      "Requirement already satisfied: networkx in /usr/local/lib/python3.10/site-packages (from torch>=1.10.0->torchmetrics) (3.3)\r\n",
      "Requirement already satisfied: nvidia-cusparse-cu12==12.1.0.106 in /usr/local/lib/python3.10/site-packages (from torch>=1.10.0->torchmetrics) (12.1.0.106)\r\n",
      "Requirement already satisfied: nvidia-nvtx-cu12==12.1.105 in /usr/local/lib/python3.10/site-packages (from torch>=1.10.0->torchmetrics) (12.1.105)\r\n",
      "Requirement already satisfied: nvidia-cufft-cu12==11.0.2.54 in /usr/local/lib/python3.10/site-packages (from torch>=1.10.0->torchmetrics) (11.0.2.54)\r\n",
      "Requirement already satisfied: nvidia-cudnn-cu12==9.1.0.70 in /usr/local/lib/python3.10/site-packages (from torch>=1.10.0->torchmetrics) (9.1.0.70)\r\n"
     ]
    },
    {
     "name": "stdout",
     "output_type": "stream",
     "text": [
      "Requirement already satisfied: nvidia-cusolver-cu12==11.4.5.107 in /usr/local/lib/python3.10/site-packages (from torch>=1.10.0->torchmetrics) (11.4.5.107)\r\n",
      "Requirement already satisfied: fsspec in /usr/local/lib/python3.10/site-packages (from torch>=1.10.0->torchmetrics) (2024.6.1)\r\n",
      "Requirement already satisfied: nvidia-nvjitlink-cu12 in /usr/local/lib/python3.10/site-packages (from nvidia-cusolver-cu12==11.4.5.107->torch>=1.10.0->torchmetrics) (12.6.20)\r\n"
     ]
    },
    {
     "name": "stdout",
     "output_type": "stream",
     "text": [
      "Requirement already satisfied: MarkupSafe>=2.0 in /usr/local/lib/python3.10/site-packages (from jinja2->torch>=1.10.0->torchmetrics) (2.1.5)\r\n",
      "Requirement already satisfied: mpmath<1.4,>=1.1.0 in /usr/local/lib/python3.10/site-packages (from sympy->torch>=1.10.0->torchmetrics) (1.3.0)\r\n"
     ]
    },
    {
     "name": "stdout",
     "output_type": "stream",
     "text": [
      "Installing collected packages: lightning-utilities, torchmetrics\r\n"
     ]
    },
    {
     "name": "stdout",
     "output_type": "stream",
     "text": [
      "Successfully installed lightning-utilities-0.11.7 torchmetrics-1.4.2\r\n",
      "\u001b[33mWARNING: Running pip as the 'root' user can result in broken permissions and conflicting behaviour with the system package manager. It is recommended to use a virtual environment instead: https://pip.pypa.io/warnings/venv\u001b[0m\u001b[33m\r\n",
      "\u001b[0m"
     ]
    },
    {
     "name": "stdout",
     "output_type": "stream",
     "text": [
      "\r\n",
      "\u001b[1m[\u001b[0m\u001b[34;49mnotice\u001b[0m\u001b[1;39;49m]\u001b[0m\u001b[39;49m A new release of pip is available: \u001b[0m\u001b[31;49m23.0.1\u001b[0m\u001b[39;49m -> \u001b[0m\u001b[32;49m24.2\u001b[0m\r\n",
      "\u001b[1m[\u001b[0m\u001b[34;49mnotice\u001b[0m\u001b[1;39;49m]\u001b[0m\u001b[39;49m To update, run: \u001b[0m\u001b[32;49mpip install --upgrade pip\u001b[0m\r\n"
     ]
    },
    {
     "name": "stdout",
     "output_type": "stream",
     "text": [
      "Cloning into 'MasterArbeit'...\r\n"
     ]
    },
    {
     "name": "stdout",
     "output_type": "stream",
     "text": [
      "remote: Enumerating objects: 2362, done.\u001b[K\r\n",
      "remote: Counting objects:   0% (1/287)\u001b[K\r",
      "remote: Counting objects:   1% (3/287)\u001b[K\r",
      "remote: Counting objects:   2% (6/287)\u001b[K\r",
      "remote: Counting objects:   3% (9/287)\u001b[K\r",
      "remote: Counting objects:   4% (12/287)\u001b[K\r",
      "remote: Counting objects:   5% (15/287)\u001b[K\r",
      "remote: Counting objects:   6% (18/287)\u001b[K\r",
      "remote: Counting objects:   7% (21/287)\u001b[K\r",
      "remote: Counting objects:   8% (23/287)\u001b[K\r",
      "remote: Counting objects:   9% (26/287)\u001b[K\r",
      "remote: Counting objects:  10% (29/287)\u001b[K\r",
      "remote: Counting objects:  11% (32/287)\u001b[K\r",
      "remote: Counting objects:  12% (35/287)\u001b[K\r",
      "remote: Counting objects:  13% (38/287)\u001b[K\r",
      "remote: Counting objects:  14% (41/287)\u001b[K\r",
      "remote: Counting objects:  15% (44/287)\u001b[K\r",
      "remote: Counting objects:  16% (46/287)\u001b[K\r",
      "remote: Counting objects:  17% (49/287)\u001b[K\r",
      "remote: Counting objects:  18% (52/287)\u001b[K\r",
      "remote: Counting objects:  19% (55/287)\u001b[K\r",
      "remote: Counting objects:  20% (58/287)\u001b[K\r",
      "remote: Counting objects:  21% (61/287)\u001b[K\r",
      "remote: Counting objects:  22% (64/287)\u001b[K\r",
      "remote: Counting objects:  23% (67/287)\u001b[K\r",
      "remote: Counting objects:  24% (69/287)\u001b[K\r",
      "remote: Counting objects:  25% (72/287)\u001b[K\r",
      "remote: Counting objects:  26% (75/287)\u001b[K\r",
      "remote: Counting objects:  27% (78/287)\u001b[K\r",
      "remote: Counting objects:  28% (81/287)\u001b[K\r",
      "remote: Counting objects:  29% (84/287)\u001b[K\r",
      "remote: Counting objects:  30% (87/287)\u001b[K\r",
      "remote: Counting objects:  31% (89/287)\u001b[K\r",
      "remote: Counting objects:  32% (92/287)\u001b[K\r",
      "remote: Counting objects:  33% (95/287)\u001b[K\r",
      "remote: Counting objects:  34% (98/287)\u001b[K\r",
      "remote: Counting objects:  35% (101/287)\u001b[K\r",
      "remote: Counting objects:  36% (104/287)\u001b[K\r",
      "remote: Counting objects:  37% (107/287)\u001b[K\r",
      "remote: Counting objects:  38% (110/287)\u001b[K\r",
      "remote: Counting objects:  39% (112/287)\u001b[K\r",
      "remote: Counting objects:  40% (115/287)\u001b[K\r",
      "remote: Counting objects:  41% (118/287)\u001b[K\r",
      "remote: Counting objects:  42% (121/287)\u001b[K\r",
      "remote: Counting objects:  43% (124/287)\u001b[K\r",
      "remote: Counting objects:  44% (127/287)\u001b[K\r",
      "remote: Counting objects:  45% (130/287)\u001b[K\r",
      "remote: Counting objects:  46% (133/287)\u001b[K\r",
      "remote: Counting objects:  47% (135/287)\u001b[K\r",
      "remote: Counting objects:  48% (138/287)\u001b[K\r",
      "remote: Counting objects:  49% (141/287)\u001b[K\r",
      "remote: Counting objects:  50% (144/287)\u001b[K\r",
      "remote: Counting objects:  51% (147/287)\u001b[K\r",
      "remote: Counting objects:  52% (150/287)\u001b[K\r"
     ]
    },
    {
     "name": "stdout",
     "output_type": "stream",
     "text": [
      "remote: Counting objects:  53% (153/287)\u001b[K\r",
      "remote: Counting objects:  54% (155/287)\u001b[K\r",
      "remote: Counting objects:  55% (158/287)\u001b[K\r",
      "remote: Counting objects:  56% (161/287)\u001b[K\r",
      "remote: Counting objects:  57% (164/287)\u001b[K\r",
      "remote: Counting objects:  58% (167/287)\u001b[K\r",
      "remote: Counting objects:  59% (170/287)\u001b[K\r",
      "remote: Counting objects:  60% (173/287)\u001b[K\r",
      "remote: Counting objects:  61% (176/287)\u001b[K\r",
      "remote: Counting objects:  62% (178/287)\u001b[K\r",
      "remote: Counting objects:  63% (181/287)\u001b[K\r",
      "remote: Counting objects:  64% (184/287)\u001b[K\r",
      "remote: Counting objects:  65% (187/287)\u001b[K\r",
      "remote: Counting objects:  66% (190/287)\u001b[K\r",
      "remote: Counting objects:  67% (193/287)\u001b[K\r",
      "remote: Counting objects:  68% (196/287)\u001b[K\r",
      "remote: Counting objects:  69% (199/287)\u001b[K\r",
      "remote: Counting objects:  70% (201/287)\u001b[K\r",
      "remote: Counting objects:  71% (204/287)\u001b[K\r",
      "remote: Counting objects:  72% (207/287)\u001b[K\r",
      "remote: Counting objects:  73% (210/287)\u001b[K\r",
      "remote: Counting objects:  74% (213/287)\u001b[K\r",
      "remote: Counting objects:  75% (216/287)\u001b[K\r",
      "remote: Counting objects:  76% (219/287)\u001b[K\r",
      "remote: Counting objects:  77% (221/287)\u001b[K\r",
      "remote: Counting objects:  78% (224/287)\u001b[K\r",
      "remote: Counting objects:  79% (227/287)\u001b[K\r",
      "remote: Counting objects:  80% (230/287)\u001b[K\r",
      "remote: Counting objects:  81% (233/287)\u001b[K\r",
      "remote: Counting objects:  82% (236/287)\u001b[K\r",
      "remote: Counting objects:  83% (239/287)\u001b[K\r",
      "remote: Counting objects:  84% (242/287)\u001b[K\r",
      "remote: Counting objects:  85% (244/287)\u001b[K\r",
      "remote: Counting objects:  86% (247/287)\u001b[K\r",
      "remote: Counting objects:  87% (250/287)\u001b[K\r",
      "remote: Counting objects:  88% (253/287)\u001b[K\r",
      "remote: Counting objects:  89% (256/287)\u001b[K\r",
      "remote: Counting objects:  90% (259/287)\u001b[K\r",
      "remote: Counting objects:  91% (262/287)\u001b[K\r",
      "remote: Counting objects:  92% (265/287)\u001b[K\r",
      "remote: Counting objects:  93% (267/287)\u001b[K\r",
      "remote: Counting objects:  94% (270/287)\u001b[K\r",
      "remote: Counting objects:  95% (273/287)\u001b[K\r",
      "remote: Counting objects:  96% (276/287)\u001b[K\r",
      "remote: Counting objects:  97% (279/287)\u001b[K\r",
      "remote: Counting objects:  98% (282/287)\u001b[K\r",
      "remote: Counting objects:  99% (285/287)\u001b[K\r",
      "remote: Counting objects: 100% (287/287)\u001b[K\r",
      "remote: Counting objects: 100% (287/287), done.\u001b[K\r\n",
      "remote: Compressing objects:   0% (1/146)\u001b[K\r",
      "remote: Compressing objects:   1% (2/146)\u001b[K\r",
      "remote: Compressing objects:   2% (3/146)\u001b[K\r",
      "remote: Compressing objects:   3% (5/146)\u001b[K\r",
      "remote: Compressing objects:   4% (6/146)\u001b[K\r",
      "remote: Compressing objects:   5% (8/146)\u001b[K\r",
      "remote: Compressing objects:   6% (9/146)\u001b[K\r",
      "remote: Compressing objects:   7% (11/146)\u001b[K\r"
     ]
    },
    {
     "name": "stdout",
     "output_type": "stream",
     "text": [
      "remote: Compressing objects:   8% (12/146)\u001b[K\r"
     ]
    },
    {
     "name": "stdout",
     "output_type": "stream",
     "text": [
      "remote: Compressing objects:   9% (14/146)\u001b[K\r"
     ]
    },
    {
     "name": "stdout",
     "output_type": "stream",
     "text": [
      "remote: Compressing objects:  10% (15/146)\u001b[K\r"
     ]
    },
    {
     "name": "stdout",
     "output_type": "stream",
     "text": [
      "remote: Compressing objects:  11% (17/146)\u001b[K\r"
     ]
    },
    {
     "name": "stdout",
     "output_type": "stream",
     "text": [
      "remote: Compressing objects:  12% (18/146)\u001b[K\r"
     ]
    },
    {
     "name": "stdout",
     "output_type": "stream",
     "text": [
      "remote: Compressing objects:  13% (19/146)\u001b[K\r",
      "remote: Compressing objects:  14% (21/146)\u001b[K\r"
     ]
    },
    {
     "name": "stdout",
     "output_type": "stream",
     "text": [
      "remote: Compressing objects:  15% (22/146)\u001b[K\r"
     ]
    },
    {
     "name": "stdout",
     "output_type": "stream",
     "text": [
      "remote: Compressing objects:  16% (24/146)\u001b[K\r"
     ]
    },
    {
     "name": "stdout",
     "output_type": "stream",
     "text": [
      "remote: Compressing objects:  17% (25/146)\u001b[K\r"
     ]
    },
    {
     "name": "stdout",
     "output_type": "stream",
     "text": [
      "remote: Compressing objects:  18% (27/146)\u001b[K\r",
      "remote: Compressing objects:  19% (28/146)\u001b[K\r"
     ]
    },
    {
     "name": "stdout",
     "output_type": "stream",
     "text": [
      "remote: Compressing objects:  20% (30/146)\u001b[K\r",
      "remote: Compressing objects:  21% (31/146)\u001b[K\r",
      "remote: Compressing objects:  22% (33/146)\u001b[K\r",
      "remote: Compressing objects:  23% (34/146)\u001b[K\r",
      "remote: Compressing objects:  24% (36/146)\u001b[K\r",
      "remote: Compressing objects:  25% (37/146)\u001b[K\r",
      "remote: Compressing objects:  26% (38/146)\u001b[K\r",
      "remote: Compressing objects:  27% (40/146)\u001b[K\r",
      "remote: Compressing objects:  28% (41/146)\u001b[K\r",
      "remote: Compressing objects:  29% (43/146)\u001b[K\r",
      "remote: Compressing objects:  30% (44/146)\u001b[K\r",
      "remote: Compressing objects:  31% (46/146)\u001b[K\r",
      "remote: Compressing objects:  32% (47/146)\u001b[K\r",
      "remote: Compressing objects:  33% (49/146)\u001b[K\r",
      "remote: Compressing objects:  34% (50/146)\u001b[K\r",
      "remote: Compressing objects:  35% (52/146)\u001b[K\r",
      "remote: Compressing objects:  36% (53/146)\u001b[K\r",
      "remote: Compressing objects:  37% (55/146)\u001b[K\r",
      "remote: Compressing objects:  38% (56/146)\u001b[K\r",
      "remote: Compressing objects:  39% (57/146)\u001b[K\r",
      "remote: Compressing objects:  40% (59/146)\u001b[K\r",
      "remote: Compressing objects:  41% (60/146)\u001b[K\r",
      "remote: Compressing objects:  42% (62/146)\u001b[K\r",
      "remote: Compressing objects:  43% (63/146)\u001b[K\r",
      "remote: Compressing objects:  44% (65/146)\u001b[K\r",
      "remote: Compressing objects:  45% (66/146)\u001b[K\r",
      "remote: Compressing objects:  46% (68/146)\u001b[K\r",
      "remote: Compressing objects:  47% (69/146)\u001b[K\r",
      "remote: Compressing objects:  48% (71/146)\u001b[K\r",
      "remote: Compressing objects:  49% (72/146)\u001b[K\r",
      "remote: Compressing objects:  50% (73/146)\u001b[K\r",
      "remote: Compressing objects:  51% (75/146)\u001b[K\r",
      "remote: Compressing objects:  52% (76/146)\u001b[K\r",
      "remote: Compressing objects:  53% (78/146)\u001b[K\r",
      "remote: Compressing objects:  54% (79/146)\u001b[K\r",
      "remote: Compressing objects:  55% (81/146)\u001b[K\r",
      "remote: Compressing objects:  56% (82/146)\u001b[K\r",
      "remote: Compressing objects:  57% (84/146)\u001b[K\r",
      "remote: Compressing objects:  58% (85/146)\u001b[K\r",
      "remote: Compressing objects:  59% (87/146)\u001b[K\r",
      "remote: Compressing objects:  60% (88/146)\u001b[K\r",
      "remote: Compressing objects:  61% (90/146)\u001b[K\r",
      "remote: Compressing objects:  62% (91/146)\u001b[K\r",
      "remote: Compressing objects:  63% (92/146)\u001b[K\r",
      "remote: Compressing objects:  64% (94/146)\u001b[K\r",
      "remote: Compressing objects:  65% (95/146)\u001b[K\r",
      "remote: Compressing objects:  66% (97/146)\u001b[K\r",
      "remote: Compressing objects:  67% (98/146)\u001b[K\r",
      "remote: Compressing objects:  68% (100/146)\u001b[K\r",
      "remote: Compressing objects:  69% (101/146)\u001b[K\r",
      "remote: Compressing objects:  70% (103/146)\u001b[K\r",
      "remote: Compressing objects:  71% (104/146)\u001b[K\r",
      "remote: Compressing objects:  72% (106/146)\u001b[K\r",
      "remote: Compressing objects:  73% (107/146)\u001b[K\r",
      "remote: Compressing objects:  74% (109/146)\u001b[K\r",
      "remote: Compressing objects:  75% (110/146)\u001b[K\r",
      "remote: Compressing objects:  76% (111/146)\u001b[K\r",
      "remote: Compressing objects:  77% (113/146)\u001b[K\r",
      "remote: Compressing objects:  78% (114/146)\u001b[K\r",
      "remote: Compressing objects:  79% (116/146)\u001b[K\r",
      "remote: Compressing objects:  80% (117/146)\u001b[K\r",
      "remote: Compressing objects:  81% (119/146)\u001b[K\r",
      "remote: Compressing objects:  82% (120/146)\u001b[K\r",
      "remote: Compressing objects:  83% (122/146)\u001b[K\r",
      "remote: Compressing objects:  84% (123/146)\u001b[K\r",
      "remote: Compressing objects:  85% (125/146)\u001b[K\r",
      "remote: Compressing objects:  86% (126/146)\u001b[K\r",
      "remote: Compressing objects:  87% (128/146)\u001b[K\r",
      "remote: Compressing objects:  88% (129/146)\u001b[K\r",
      "remote: Compressing objects:  89% (130/146)\u001b[K\r",
      "remote: Compressing objects:  90% (132/146)\u001b[K\r",
      "remote: Compressing objects:  91% (133/146)\u001b[K\r",
      "remote: Compressing objects:  92% (135/146)\u001b[K\r",
      "remote: Compressing objects:  93% (136/146)\u001b[K\r",
      "remote: Compressing objects:  94% (138/146)\u001b[K\r",
      "remote: Compressing objects:  95% (139/146)\u001b[K\r",
      "remote: Compressing objects:  96% (141/146)\u001b[K\r",
      "remote: Compressing objects:  97% (142/146)\u001b[K\r",
      "remote: Compressing objects:  98% (144/146)\u001b[K\r",
      "remote: Compressing objects:  99% (145/146)\u001b[K\r",
      "remote: Compressing objects: 100% (146/146)\u001b[K\r",
      "remote: Compressing objects: 100% (146/146), done.\u001b[K\r\n",
      "Receiving objects:   0% (1/2362)\r"
     ]
    },
    {
     "name": "stdout",
     "output_type": "stream",
     "text": [
      "Receiving objects:   0% (7/2362), 35.31 MiB | 35.30 MiB/s\r"
     ]
    },
    {
     "name": "stdout",
     "output_type": "stream",
     "text": [
      "Receiving objects:   0% (9/2362), 76.04 MiB | 38.02 MiB/s\r"
     ]
    },
    {
     "name": "stdout",
     "output_type": "stream",
     "text": [
      "Receiving objects:   1% (24/2362), 96.78 MiB | 38.71 MiB/s\r",
      "Receiving objects:   2% (48/2362), 96.78 MiB | 38.71 MiB/s\r",
      "Receiving objects:   3% (71/2362), 96.78 MiB | 38.71 MiB/s\r"
     ]
    },
    {
     "name": "stdout",
     "output_type": "stream",
     "text": [
      "Receiving objects:   4% (95/2362), 96.78 MiB | 38.71 MiB/s\r"
     ]
    },
    {
     "name": "stdout",
     "output_type": "stream",
     "text": [
      "Receiving objects:   5% (119/2362), 96.78 MiB | 38.71 MiB/s\r",
      "Receiving objects:   6% (142/2362), 96.78 MiB | 38.71 MiB/s\r",
      "Receiving objects:   7% (166/2362), 96.78 MiB | 38.71 MiB/s\r",
      "Receiving objects:   8% (189/2362), 96.78 MiB | 38.71 MiB/s\r",
      "Receiving objects:   8% (199/2362), 122.62 MiB | 40.87 MiB/s\r"
     ]
    },
    {
     "name": "stdout",
     "output_type": "stream",
     "text": [
      "Receiving objects:   9% (213/2362), 143.35 MiB | 40.96 MiB/s\r"
     ]
    },
    {
     "name": "stdout",
     "output_type": "stream",
     "text": [
      "Receiving objects:   9% (215/2362), 163.95 MiB | 40.98 MiB/s\r"
     ]
    },
    {
     "name": "stdout",
     "output_type": "stream",
     "text": [
      "Receiving objects:   9% (217/2362), 204.36 MiB | 41.84 MiB/s\r"
     ]
    },
    {
     "name": "stdout",
     "output_type": "stream",
     "text": [
      "Receiving objects:   9% (218/2362), 245.34 MiB | 42.17 MiB/s\r"
     ]
    },
    {
     "name": "stdout",
     "output_type": "stream",
     "text": [
      "Receiving objects:  10% (237/2362), 265.05 MiB | 42.00 MiB/s\r",
      "Receiving objects:  11% (260/2362), 265.05 MiB | 42.00 MiB/s\r"
     ]
    },
    {
     "name": "stdout",
     "output_type": "stream",
     "text": [
      "Receiving objects:  11% (275/2362), 284.86 MiB | 41.80 MiB/s\r"
     ]
    },
    {
     "name": "stdout",
     "output_type": "stream",
     "text": [
      "Receiving objects:  11% (277/2362), 325.83 MiB | 40.55 MiB/s\r"
     ]
    },
    {
     "name": "stdout",
     "output_type": "stream",
     "text": [
      "Receiving objects:  12% (284/2362), 346.48 MiB | 40.56 MiB/s\r"
     ]
    },
    {
     "name": "stdout",
     "output_type": "stream",
     "text": [
      "Receiving objects:  12% (293/2362), 362.79 MiB | 39.71 MiB/s\r"
     ]
    },
    {
     "name": "stdout",
     "output_type": "stream",
     "text": [
      "Receiving objects:  13% (308/2362), 362.79 MiB | 39.71 MiB/s\r",
      "Receiving objects:  14% (331/2362), 362.79 MiB | 39.71 MiB/s\r"
     ]
    },
    {
     "name": "stdout",
     "output_type": "stream",
     "text": [
      "Receiving objects:  15% (355/2362), 362.79 MiB | 39.71 MiB/s\r"
     ]
    },
    {
     "name": "stdout",
     "output_type": "stream",
     "text": [
      "Receiving objects:  15% (364/2362), 404.71 MiB | 39.94 MiB/s\r"
     ]
    },
    {
     "name": "stdout",
     "output_type": "stream",
     "text": [
      "Receiving objects:  15% (366/2362), 445.43 MiB | 40.08 MiB/s\r"
     ]
    },
    {
     "name": "stdout",
     "output_type": "stream",
     "text": [
      "Receiving objects:  16% (378/2362), 445.43 MiB | 40.08 MiB/s\r"
     ]
    },
    {
     "name": "stdout",
     "output_type": "stream",
     "text": [
      "Receiving objects:  17% (402/2362), 445.43 MiB | 40.08 MiB/s\r"
     ]
    },
    {
     "name": "stdout",
     "output_type": "stream",
     "text": [
      "Receiving objects:  18% (426/2362), 465.65 MiB | 40.17 MiB/s\r",
      "Receiving objects:  19% (449/2362), 465.65 MiB | 40.17 MiB/s\r",
      "Receiving objects:  20% (473/2362), 465.65 MiB | 40.17 MiB/s\r",
      "Receiving objects:  21% (497/2362), 465.65 MiB | 40.17 MiB/s\r",
      "Receiving objects:  22% (520/2362), 465.65 MiB | 40.17 MiB/s\r",
      "Receiving objects:  23% (544/2362), 465.65 MiB | 40.17 MiB/s\r"
     ]
    },
    {
     "name": "stdout",
     "output_type": "stream",
     "text": [
      "Receiving objects:  23% (547/2362), 486.21 MiB | 40.23 MiB/s\r"
     ]
    },
    {
     "name": "stdout",
     "output_type": "stream",
     "text": [
      "Receiving objects:  23% (548/2362), 525.46 MiB | 39.77 MiB/s\r"
     ]
    },
    {
     "name": "stdout",
     "output_type": "stream",
     "text": [
      "Receiving objects:  24% (567/2362), 545.63 MiB | 40.63 MiB/s\r",
      "Receiving objects:  25% (591/2362), 545.63 MiB | 40.63 MiB/s\r",
      "Receiving objects:  26% (615/2362), 545.63 MiB | 40.63 MiB/s\r",
      "Receiving objects:  27% (638/2362), 545.63 MiB | 40.63 MiB/s\r",
      "Receiving objects:  28% (662/2362), 545.63 MiB | 40.63 MiB/s\r"
     ]
    },
    {
     "name": "stdout",
     "output_type": "stream",
     "text": [
      "Receiving objects:  29% (685/2362), 545.63 MiB | 40.63 MiB/s\r"
     ]
    },
    {
     "name": "stdout",
     "output_type": "stream",
     "text": [
      "Receiving objects:  29% (705/2362), 566.47 MiB | 40.52 MiB/s\r"
     ]
    },
    {
     "name": "stdout",
     "output_type": "stream",
     "text": [
      "Receiving objects:  29% (706/2362), 607.58 MiB | 40.51 MiB/s\r"
     ]
    },
    {
     "name": "stdout",
     "output_type": "stream",
     "text": [
      "Receiving objects:  30% (709/2362), 607.58 MiB | 40.51 MiB/s\r",
      "Receiving objects:  31% (733/2362), 607.58 MiB | 40.51 MiB/s\r"
     ]
    },
    {
     "name": "stdout",
     "output_type": "stream",
     "text": [
      "Receiving objects:  32% (756/2362), 607.58 MiB | 40.51 MiB/s\r",
      "Receiving objects:  33% (780/2362), 607.58 MiB | 40.51 MiB/s\r",
      "Receiving objects:  34% (804/2362), 607.58 MiB | 40.51 MiB/s\r",
      "Receiving objects:  35% (827/2362), 607.58 MiB | 40.51 MiB/s\r",
      "Receiving objects:  36% (851/2362), 607.58 MiB | 40.51 MiB/s\r",
      "Receiving objects:  37% (874/2362), 607.58 MiB | 40.51 MiB/s\r",
      "Receiving objects:  38% (898/2362), 607.58 MiB | 40.51 MiB/s\r",
      "Receiving objects:  39% (922/2362), 607.58 MiB | 40.51 MiB/s\r"
     ]
    },
    {
     "name": "stdout",
     "output_type": "stream",
     "text": [
      "Receiving objects:  40% (945/2362), 607.58 MiB | 40.51 MiB/s\r",
      "Receiving objects:  41% (969/2362), 607.58 MiB | 40.51 MiB/s\r",
      "Receiving objects:  42% (993/2362), 607.58 MiB | 40.51 MiB/s\r",
      "Receiving objects:  43% (1016/2362), 607.58 MiB | 40.51 MiB/s\r",
      "Receiving objects:  44% (1040/2362), 607.58 MiB | 40.51 MiB/s\r"
     ]
    },
    {
     "name": "stdout",
     "output_type": "stream",
     "text": [
      "Receiving objects:  45% (1063/2362), 633.36 MiB | 41.78 MiB/s\r",
      "Receiving objects:  46% (1087/2362), 633.36 MiB | 41.78 MiB/s\r",
      "Receiving objects:  47% (1111/2362), 633.36 MiB | 41.78 MiB/s\r",
      "Receiving objects:  48% (1134/2362), 633.36 MiB | 41.78 MiB/s\r",
      "Receiving objects:  49% (1158/2362), 633.36 MiB | 41.78 MiB/s\r",
      "Receiving objects:  50% (1181/2362), 633.36 MiB | 41.78 MiB/s\r",
      "Receiving objects:  51% (1205/2362), 633.36 MiB | 41.78 MiB/s\r",
      "Receiving objects:  52% (1229/2362), 633.36 MiB | 41.78 MiB/s\r"
     ]
    },
    {
     "name": "stdout",
     "output_type": "stream",
     "text": [
      "Receiving objects:  52% (1243/2362), 660.85 MiB | 43.40 MiB/s\r"
     ]
    },
    {
     "name": "stdout",
     "output_type": "stream",
     "text": [
      "Receiving objects:  53% (1252/2362), 660.85 MiB | 43.40 MiB/s\r",
      "Receiving objects:  54% (1276/2362), 660.85 MiB | 43.40 MiB/s\r",
      "Receiving objects:  55% (1300/2362), 660.85 MiB | 43.40 MiB/s\r"
     ]
    },
    {
     "name": "stdout",
     "output_type": "stream",
     "text": [
      "Receiving objects:  55% (1309/2362), 716.75 MiB | 46.90 MiB/s\r"
     ]
    },
    {
     "name": "stdout",
     "output_type": "stream",
     "text": [
      "Receiving objects:  55% (1310/2362), 771.09 MiB | 50.13 MiB/s\r"
     ]
    },
    {
     "name": "stdout",
     "output_type": "stream",
     "text": [
      "Receiving objects:  56% (1323/2362), 771.09 MiB | 50.13 MiB/s\r"
     ]
    },
    {
     "name": "stdout",
     "output_type": "stream",
     "text": [
      "Receiving objects:  57% (1347/2362), 771.09 MiB | 50.13 MiB/s\r",
      "Receiving objects:  58% (1370/2362), 771.09 MiB | 50.13 MiB/s\r",
      "Receiving objects:  59% (1394/2362), 771.09 MiB | 50.13 MiB/s\r",
      "Receiving objects:  60% (1418/2362), 771.09 MiB | 50.13 MiB/s\r"
     ]
    },
    {
     "name": "stdout",
     "output_type": "stream",
     "text": [
      "Receiving objects:  61% (1441/2362), 797.23 MiB | 51.30 MiB/s\r",
      "Receiving objects:  62% (1465/2362), 797.23 MiB | 51.30 MiB/s\r",
      "Receiving objects:  63% (1489/2362), 797.23 MiB | 51.30 MiB/s\r",
      "Receiving objects:  64% (1512/2362), 797.23 MiB | 51.30 MiB/s\r",
      "Receiving objects:  65% (1536/2362), 797.23 MiB | 51.30 MiB/s\r"
     ]
    },
    {
     "name": "stdout",
     "output_type": "stream",
     "text": [
      "Receiving objects:  65% (1537/2362), 819.57 MiB | 51.71 MiB/s\r"
     ]
    },
    {
     "name": "stdout",
     "output_type": "stream",
     "text": [
      "Receiving objects:  66% (1559/2362), 819.57 MiB | 51.71 MiB/s\r",
      "Receiving objects:  67% (1583/2362), 819.57 MiB | 51.71 MiB/s\r"
     ]
    },
    {
     "name": "stdout",
     "output_type": "stream",
     "text": [
      "Receiving objects:  67% (1598/2362), 860.25 MiB | 50.43 MiB/s\r"
     ]
    },
    {
     "name": "stdout",
     "output_type": "stream",
     "text": [
      "Receiving objects:  67% (1599/2362), 899.44 MiB | 46.85 MiB/s\r"
     ]
    },
    {
     "name": "stdout",
     "output_type": "stream",
     "text": [
      "Receiving objects:  68% (1607/2362), 899.44 MiB | 46.85 MiB/s\r"
     ]
    },
    {
     "name": "stdout",
     "output_type": "stream",
     "text": [
      "Receiving objects:  69% (1630/2362), 919.67 MiB | 45.09 MiB/s\r",
      "Receiving objects:  70% (1654/2362), 919.67 MiB | 45.09 MiB/s\r",
      "Receiving objects:  71% (1678/2362), 919.67 MiB | 45.09 MiB/s\r",
      "Receiving objects:  72% (1701/2362), 919.67 MiB | 45.09 MiB/s\r",
      "Receiving objects:  73% (1725/2362), 919.67 MiB | 45.09 MiB/s\r",
      "Receiving objects:  74% (1748/2362), 919.67 MiB | 45.09 MiB/s\r",
      "Receiving objects:  75% (1772/2362), 919.67 MiB | 45.09 MiB/s\r"
     ]
    },
    {
     "name": "stdout",
     "output_type": "stream",
     "text": [
      "Receiving objects:  76% (1796/2362), 919.67 MiB | 45.09 MiB/s\r",
      "Receiving objects:  77% (1819/2362), 919.67 MiB | 45.09 MiB/s\r",
      "Receiving objects:  78% (1843/2362), 919.67 MiB | 45.09 MiB/s\r",
      "Receiving objects:  79% (1866/2362), 919.67 MiB | 45.09 MiB/s\r"
     ]
    },
    {
     "name": "stdout",
     "output_type": "stream",
     "text": [
      "Receiving objects:  79% (1871/2362), 940.40 MiB | 43.56 MiB/s\r"
     ]
    },
    {
     "name": "stdout",
     "output_type": "stream",
     "text": [
      "Receiving objects:  80% (1890/2362), 940.40 MiB | 43.56 MiB/s\r"
     ]
    },
    {
     "name": "stdout",
     "output_type": "stream",
     "text": [
      "Receiving objects:  81% (1914/2362), 961.67 MiB | 42.35 MiB/s\r",
      "Receiving objects:  82% (1937/2362), 961.67 MiB | 42.35 MiB/s\r",
      "Receiving objects:  83% (1961/2362), 961.67 MiB | 42.35 MiB/s\r"
     ]
    },
    {
     "name": "stdout",
     "output_type": "stream",
     "text": [
      "Receiving objects:  84% (1985/2362), 961.67 MiB | 42.35 MiB/s\r",
      "Receiving objects:  85% (2008/2362), 961.67 MiB | 42.35 MiB/s\r",
      "Receiving objects:  86% (2032/2362), 961.67 MiB | 42.35 MiB/s\r",
      "Receiving objects:  87% (2055/2362), 961.67 MiB | 42.35 MiB/s\r"
     ]
    },
    {
     "name": "stdout",
     "output_type": "stream",
     "text": [
      "Receiving objects:  88% (2079/2362), 961.67 MiB | 42.35 MiB/s\r",
      "Receiving objects:  89% (2103/2362), 961.67 MiB | 42.35 MiB/s\r",
      "Receiving objects:  90% (2126/2362), 961.67 MiB | 42.35 MiB/s\r",
      "Receiving objects:  91% (2150/2362), 961.67 MiB | 42.35 MiB/s\r",
      "Receiving objects:  92% (2174/2362), 961.67 MiB | 42.35 MiB/s\r",
      "Receiving objects:  93% (2197/2362), 961.67 MiB | 42.35 MiB/s\r"
     ]
    },
    {
     "name": "stdout",
     "output_type": "stream",
     "text": [
      "Receiving objects:  93% (2209/2362), 982.83 MiB | 41.24 MiB/s\r"
     ]
    },
    {
     "name": "stdout",
     "output_type": "stream",
     "text": [
      "Receiving objects:  93% (2213/2362), 1023.18 MiB | 40.73 MiB/s\r"
     ]
    },
    {
     "name": "stdout",
     "output_type": "stream",
     "text": [
      "Receiving objects:  94% (2221/2362), 1023.18 MiB | 40.73 MiB/s\r",
      "Receiving objects:  95% (2244/2362), 1023.18 MiB | 40.73 MiB/s\r"
     ]
    },
    {
     "name": "stdout",
     "output_type": "stream",
     "text": [
      "Receiving objects:  96% (2268/2362), 1023.18 MiB | 40.73 MiB/s\r"
     ]
    },
    {
     "name": "stdout",
     "output_type": "stream",
     "text": [
      "Receiving objects:  97% (2292/2362), 1023.18 MiB | 40.73 MiB/s\r",
      "Receiving objects:  98% (2315/2362), 1023.18 MiB | 40.73 MiB/s\r"
     ]
    },
    {
     "name": "stdout",
     "output_type": "stream",
     "text": [
      "Receiving objects:  99% (2339/2362), 1023.18 MiB | 40.73 MiB/s\r"
     ]
    },
    {
     "name": "stdout",
     "output_type": "stream",
     "text": [
      "remote: Total 2362 (delta 175), reused 241 (delta 141), pack-reused 2075 (from 1)\u001b[K\r\n",
      "Receiving objects: 100% (2362/2362), 1023.18 MiB | 40.73 MiB/s\r",
      "Receiving objects: 100% (2362/2362), 1.01 GiB | 42.65 MiB/s, done.\r\n",
      "Resolving deltas:   0% (0/1200)\r",
      "Resolving deltas:   1% (12/1200)\r",
      "Resolving deltas:   2% (24/1200)\r",
      "Resolving deltas:   3% (36/1200)\r",
      "Resolving deltas:   4% (48/1200)\r",
      "Resolving deltas:   5% (60/1200)\r",
      "Resolving deltas:   6% (73/1200)\r",
      "Resolving deltas:   7% (84/1200)\r",
      "Resolving deltas:   8% (96/1200)\r",
      "Resolving deltas:   9% (108/1200)\r",
      "Resolving deltas:  10% (120/1200)\r",
      "Resolving deltas:  11% (132/1200)\r",
      "Resolving deltas:  12% (144/1200)\r",
      "Resolving deltas:  13% (156/1200)\r",
      "Resolving deltas:  14% (168/1200)\r",
      "Resolving deltas:  15% (180/1200)\r",
      "Resolving deltas:  16% (192/1200)\r",
      "Resolving deltas:  17% (204/1200)\r",
      "Resolving deltas:  18% (216/1200)\r",
      "Resolving deltas:  19% (228/1200)\r",
      "Resolving deltas:  20% (241/1200)\r",
      "Resolving deltas:  21% (252/1200)\r",
      "Resolving deltas:  22% (264/1200)\r",
      "Resolving deltas:  23% (276/1200)\r",
      "Resolving deltas:  24% (289/1200)\r",
      "Resolving deltas:  25% (300/1200)\r",
      "Resolving deltas:  26% (312/1200)\r",
      "Resolving deltas:  27% (324/1200)\r",
      "Resolving deltas:  28% (336/1200)\r",
      "Resolving deltas:  29% (348/1200)\r",
      "Resolving deltas:  30% (360/1200)\r",
      "Resolving deltas:  31% (372/1200)\r",
      "Resolving deltas:  32% (386/1200)\r",
      "Resolving deltas:  33% (396/1200)\r",
      "Resolving deltas:  34% (408/1200)\r",
      "Resolving deltas:  35% (420/1200)\r",
      "Resolving deltas:  36% (432/1200)\r",
      "Resolving deltas:  37% (444/1200)\r",
      "Resolving deltas:  38% (456/1200)\r",
      "Resolving deltas:  39% (468/1200)\r",
      "Resolving deltas:  40% (480/1200)\r",
      "Resolving deltas:  41% (492/1200)\r",
      "Resolving deltas:  42% (504/1200)\r",
      "Resolving deltas:  43% (516/1200)\r",
      "Resolving deltas:  44% (529/1200)\r",
      "Resolving deltas:  45% (540/1200)\r",
      "Resolving deltas:  46% (552/1200)\r",
      "Resolving deltas:  47% (564/1200)\r",
      "Resolving deltas:  48% (576/1200)\r",
      "Resolving deltas:  49% (588/1200)\r",
      "Resolving deltas:  50% (600/1200)\r",
      "Resolving deltas:  51% (612/1200)\r",
      "Resolving deltas:  52% (624/1200)\r",
      "Resolving deltas:  53% (636/1200)\r",
      "Resolving deltas:  54% (648/1200)\r",
      "Resolving deltas:  55% (660/1200)\r",
      "Resolving deltas:  56% (672/1200)\r",
      "Resolving deltas:  57% (684/1200)\r",
      "Resolving deltas:  58% (697/1200)\r",
      "Resolving deltas:  59% (708/1200)\r",
      "Resolving deltas:  60% (722/1200)\r",
      "Resolving deltas:  61% (732/1200)\r",
      "Resolving deltas:  62% (745/1200)\r",
      "Resolving deltas:  63% (756/1200)\r",
      "Resolving deltas:  64% (768/1200)\r",
      "Resolving deltas:  65% (780/1200)\r",
      "Resolving deltas:  66% (792/1200)\r",
      "Resolving deltas:  67% (804/1200)\r",
      "Resolving deltas:  68% (816/1200)\r",
      "Resolving deltas:  69% (828/1200)\r",
      "Resolving deltas:  70% (841/1200)\r",
      "Resolving deltas:  71% (852/1200)\r",
      "Resolving deltas:  72% (864/1200)\r",
      "Resolving deltas:  73% (877/1200)\r",
      "Resolving deltas:  74% (888/1200)\r",
      "Resolving deltas:  75% (900/1200)\r",
      "Resolving deltas:  76% (912/1200)\r",
      "Resolving deltas:  77% (924/1200)\r",
      "Resolving deltas:  78% (938/1200)\r",
      "Resolving deltas:  79% (949/1200)\r",
      "Resolving deltas:  80% (961/1200)\r",
      "Resolving deltas:  81% (972/1200)\r",
      "Resolving deltas:  82% (984/1200)\r",
      "Resolving deltas:  83% (996/1200)\r",
      "Resolving deltas:  84% (1008/1200)\r",
      "Resolving deltas:  85% (1020/1200)\r",
      "Resolving deltas:  86% (1032/1200)\r",
      "Resolving deltas:  87% (1044/1200)\r",
      "Resolving deltas:  88% (1056/1200)\r",
      "Resolving deltas:  89% (1068/1200)\r",
      "Resolving deltas:  90% (1081/1200)\r",
      "Resolving deltas:  91% (1094/1200)\r",
      "Resolving deltas:  92% (1104/1200)\r",
      "Resolving deltas:  93% (1120/1200)\r",
      "Resolving deltas:  94% (1128/1200)\r",
      "Resolving deltas:  95% (1140/1200)\r",
      "Resolving deltas:  96% (1152/1200)\r",
      "Resolving deltas:  97% (1164/1200)\r",
      "Resolving deltas:  98% (1176/1200)\r",
      "Resolving deltas:  99% (1188/1200)\r",
      "Resolving deltas: 100% (1200/1200)\r"
     ]
    },
    {
     "name": "stdout",
     "output_type": "stream",
     "text": [
      "Resolving deltas: 100% (1200/1200), done.\r\n"
     ]
    },
    {
     "name": "stdout",
     "output_type": "stream",
     "text": [
      "Updating files:  13% (24/181)\r"
     ]
    },
    {
     "name": "stdout",
     "output_type": "stream",
     "text": [
      "Updating files:  14% (26/181)\r"
     ]
    },
    {
     "name": "stdout",
     "output_type": "stream",
     "text": [
      "Updating files:  14% (27/181)\r"
     ]
    },
    {
     "name": "stdout",
     "output_type": "stream",
     "text": [
      "Updating files:  15% (28/181)\r"
     ]
    },
    {
     "name": "stdout",
     "output_type": "stream",
     "text": [
      "Updating files:  16% (29/181)\r"
     ]
    },
    {
     "name": "stdout",
     "output_type": "stream",
     "text": [
      "Updating files:  16% (30/181)\r"
     ]
    },
    {
     "name": "stdout",
     "output_type": "stream",
     "text": [
      "Updating files:  17% (31/181)\r"
     ]
    },
    {
     "name": "stdout",
     "output_type": "stream",
     "text": [
      "Updating files:  18% (33/181)\r",
      "Updating files:  19% (35/181)\r",
      "Updating files:  20% (37/181)\r",
      "Updating files:  21% (39/181)\r",
      "Updating files:  22% (40/181)\r",
      "Updating files:  23% (42/181)\r",
      "Updating files:  24% (44/181)\r",
      "Updating files:  25% (46/181)\r",
      "Updating files:  26% (48/181)\r",
      "Updating files:  27% (49/181)\r",
      "Updating files:  28% (51/181)\r",
      "Updating files:  29% (53/181)\r",
      "Updating files:  30% (55/181)\r",
      "Updating files:  31% (57/181)\r",
      "Updating files:  32% (58/181)\r",
      "Updating files:  33% (60/181)\r",
      "Updating files:  34% (62/181)\r",
      "Updating files:  35% (64/181)\r",
      "Updating files:  36% (66/181)\r",
      "Updating files:  37% (67/181)\r",
      "Updating files:  38% (69/181)\r",
      "Updating files:  39% (71/181)\r",
      "Updating files:  40% (73/181)\r",
      "Updating files:  41% (75/181)\r",
      "Updating files:  42% (77/181)\r",
      "Updating files:  43% (78/181)\r",
      "Updating files:  44% (80/181)\r",
      "Updating files:  45% (82/181)\r",
      "Updating files:  46% (84/181)\r",
      "Updating files:  47% (86/181)\r",
      "Updating files:  48% (87/181)\r",
      "Updating files:  49% (89/181)\r",
      "Updating files:  50% (91/181)\r",
      "Updating files:  51% (93/181)\r",
      "Updating files:  52% (95/181)\r",
      "Updating files:  53% (96/181)\r",
      "Updating files:  54% (98/181)\r",
      "Updating files:  55% (100/181)\r",
      "Updating files:  56% (102/181)\r",
      "Updating files:  57% (104/181)\r",
      "Updating files:  58% (105/181)\r",
      "Updating files:  59% (107/181)\r",
      "Updating files:  60% (109/181)\r",
      "Updating files:  61% (111/181)\r",
      "Updating files:  62% (113/181)\r",
      "Updating files:  63% (115/181)\r",
      "Updating files:  64% (116/181)\r",
      "Updating files:  65% (118/181)\r",
      "Updating files:  66% (120/181)\r",
      "Updating files:  67% (122/181)\r",
      "Updating files:  68% (124/181)\r",
      "Updating files:  69% (125/181)\r",
      "Updating files:  70% (127/181)\r",
      "Updating files:  71% (129/181)\r",
      "Updating files:  72% (131/181)\r",
      "Updating files:  73% (133/181)\r",
      "Updating files:  74% (134/181)\r",
      "Updating files:  75% (136/181)\r",
      "Updating files:  76% (138/181)\r",
      "Updating files:  77% (140/181)\r",
      "Updating files:  78% (142/181)\r",
      "Updating files:  79% (143/181)\r",
      "Updating files:  80% (145/181)\r",
      "Updating files:  81% (147/181)\r",
      "Updating files:  82% (149/181)\r",
      "Updating files:  83% (151/181)\r",
      "Updating files:  84% (153/181)\r",
      "Updating files:  85% (154/181)\r",
      "Updating files:  86% (156/181)\r",
      "Updating files:  87% (158/181)\r",
      "Updating files:  88% (160/181)\r",
      "Updating files:  89% (162/181)\r",
      "Updating files:  90% (163/181)\r",
      "Updating files:  91% (165/181)\r",
      "Updating files:  92% (167/181)\r",
      "Updating files:  93% (169/181)\r",
      "Updating files:  94% (171/181)\r",
      "Updating files:  95% (172/181)\r",
      "Updating files:  96% (174/181)\r",
      "Updating files:  97% (176/181)\r",
      "Updating files:  98% (178/181)\r",
      "Updating files:  99% (180/181)\r",
      "Updating files: 100% (181/181)\r",
      "Updating files: 100% (181/181), done.\r\n"
     ]
    }
   ],
   "source": [
    "!pip install torchmetrics\n",
    "!git clone https://github.com/EkagraGupta/MasterArbeit.git"
   ]
  },
  {
   "cell_type": "code",
   "execution_count": 2,
   "id": "6566d479",
   "metadata": {
    "execution": {
     "iopub.execute_input": "2024-09-19T12:16:03.141855Z",
     "iopub.status.busy": "2024-09-19T12:16:03.141531Z",
     "iopub.status.idle": "2024-09-19T12:16:04.032713Z",
     "shell.execute_reply": "2024-09-19T12:16:04.031927Z"
    },
    "papermill": {
     "duration": 0.902848,
     "end_time": "2024-09-19T12:16:04.034471",
     "exception": false,
     "start_time": "2024-09-19T12:16:03.131623",
     "status": "completed"
    },
    "tags": []
   },
   "outputs": [
    {
     "name": "stdout",
     "output_type": "stream",
     "text": [
      "['motion_blur.npy', 'speckle_noise.npy', 'jpeg_compression.npy', 'impulse_noise.npy', 'defocus_blur.npy', 'brightness.npy', 'elastic_transform.npy', 'snow.npy', 'labels.npy', 'gaussian_blur.npy', 'README.txt', 'frost.npy', 'zoom_blur.npy', 'spatter.npy', 'fog.npy', 'gaussian_noise.npy', 'contrast.npy', 'saturate.npy', 'shot_noise.npy', 'pixelate.npy', 'glass_blur.npy']\n",
      "Hyperparameters:\n",
      "\tDataset: CIFAR100\n",
      "\tType: custom\n",
      "\tEpochs: 200\n",
      "\tTPU Enabled: True\n"
     ]
    }
   ],
   "source": [
    "# This Python 3 environment comes with many helpful analytics libraries installed\n",
    "# It is defined by the kaggle/python Docker image: https://github.com/kaggle/docker-python\n",
    "# For example, here's several helpful packages to load\n",
    "\n",
    "import numpy as np # linear algebra\n",
    "import pandas as pd # data processing, CSV file I/O (e.g. pd.read_csv)\n",
    "import os\n",
    "\n",
    "DATASET_NAME = 'CIFAR100'    # CIFAR10, CIFAR100\n",
    "DATASET_TYPE = 'custom'   # baseline, custom\n",
    "REWEIGHT = True\n",
    "EPOCHS = 200\n",
    "BATCH_SIZE = 512\n",
    "ENABLE_TPU = True\n",
    "\n",
    "# CIFAR-10-C\n",
    "if DATASET_NAME=='CIFAR10':\n",
    "    dataset_dir = '/kaggle/input/cifar-c'\n",
    "    print(os.listdir(dataset_dir))\n",
    "    # Define the path to the subdirectory\n",
    "    sub_dir = os.path.join(dataset_dir, 'CIFAR-10-C')\n",
    "    # List contents of the subdirectory\n",
    "    print(os.listdir(sub_dir))\n",
    "elif DATASET_NAME=='CIFAR100':\n",
    "    # CIFAR-100-C\n",
    "    dataset_dir = '/kaggle/input/cifar-100-c'\n",
    "    print(os.listdir(dataset_dir))\n",
    "else:\n",
    "    raise ValueError(f'Dataset {DATASET_NAME} not supported')\n",
    "    \n",
    "\n",
    "print(f'Hyperparameters:\\n\\tDataset: {DATASET_NAME}\\n\\tType: {DATASET_TYPE}\\n\\tEpochs: {EPOCHS}\\n\\tTPU Enabled: {ENABLE_TPU}')"
   ]
  },
  {
   "cell_type": "code",
   "execution_count": 3,
   "id": "051604ad",
   "metadata": {
    "execution": {
     "iopub.execute_input": "2024-09-19T12:16:04.054524Z",
     "iopub.status.busy": "2024-09-19T12:16:04.054162Z",
     "iopub.status.idle": "2024-09-19T12:16:58.633085Z",
     "shell.execute_reply": "2024-09-19T12:16:58.632298Z"
    },
    "papermill": {
     "duration": 54.591432,
     "end_time": "2024-09-19T12:16:58.635367",
     "exception": false,
     "start_time": "2024-09-19T12:16:04.043935",
     "status": "completed"
    },
    "tags": []
   },
   "outputs": [
    {
     "name": "stdout",
     "output_type": "stream",
     "text": [
      "TPU is Enabled\n"
     ]
    },
    {
     "name": "stderr",
     "output_type": "stream",
     "text": [
      "/usr/local/lib/python3.10/site-packages/torch_xla/__init__.py:202: UserWarning: `tensorflow` can conflict with `torch-xla`. Prefer `tensorflow-cpu` when using PyTorch/XLA. To silence this warning, `pip uninstall -y tensorflow && pip install tensorflow-cpu`. If you are in a notebook environment such as Colab or Kaggle, restart your notebook runtime afterwards.\n",
      "  warnings.warn(\n"
     ]
    },
    {
     "name": "stderr",
     "output_type": "stream",
     "text": [
      "WARNING: Logging before InitGoogle() is written to STDERR\n",
      "E0000 00:00:1726748195.102287      77 common_lib.cc:818] Could not set metric server port: INVALID_ARGUMENT: Could not find SliceBuilder port 8471 in any of the 0 ports provided in `tpu_process_addresses`=\"local\"\n",
      "=== Source Location Trace: ===\n",
      "learning/45eac/tfrc/runtime/common_lib.cc:483\n"
     ]
    },
    {
     "name": "stdout",
     "output_type": "stream",
     "text": [
      "Loading CIFAR100...\n",
      "\n",
      "Downloading https://www.cs.toronto.edu/~kriz/cifar-100-python.tar.gz to ./data/cifar-100-python.tar.gz\n"
     ]
    },
    {
     "name": "stderr",
     "output_type": "stream",
     "text": [
      "\r",
      "  0%|          | 0/169001437 [00:00<?, ?it/s]"
     ]
    },
    {
     "name": "stderr",
     "output_type": "stream",
     "text": [
      "\r",
      "  0%|          | 458752/169001437 [00:00<00:41, 4059943.68it/s]"
     ]
    },
    {
     "name": "stderr",
     "output_type": "stream",
     "text": [
      "\r",
      "  3%|▎         | 5603328/169001437 [00:00<00:05, 30515450.24it/s]"
     ]
    },
    {
     "name": "stderr",
     "output_type": "stream",
     "text": [
      "\r",
      "  8%|▊         | 13205504/169001437 [00:00<00:03, 50522702.00it/s]"
     ]
    },
    {
     "name": "stderr",
     "output_type": "stream",
     "text": [
      "\r",
      " 13%|█▎        | 21397504/169001437 [00:00<00:02, 62635957.41it/s]"
     ]
    },
    {
     "name": "stderr",
     "output_type": "stream",
     "text": [
      "\r",
      " 17%|█▋        | 29392896/169001437 [00:00<00:02, 68753065.80it/s]"
     ]
    },
    {
     "name": "stderr",
     "output_type": "stream",
     "text": [
      "\r",
      " 22%|██▏       | 36405248/169001437 [00:00<00:01, 69082920.01it/s]"
     ]
    },
    {
     "name": "stderr",
     "output_type": "stream",
     "text": [
      "\r",
      " 26%|██▋       | 44400640/169001437 [00:00<00:01, 72365451.36it/s]"
     ]
    },
    {
     "name": "stderr",
     "output_type": "stream",
     "text": [
      "\r",
      " 31%|███       | 51675136/169001437 [00:00<00:01, 70759038.62it/s]"
     ]
    },
    {
     "name": "stderr",
     "output_type": "stream",
     "text": [
      "\r",
      " 35%|███▍      | 58785792/169001437 [00:00<00:01, 67472294.27it/s]"
     ]
    },
    {
     "name": "stderr",
     "output_type": "stream",
     "text": [
      "\r",
      " 40%|███▉      | 66912256/169001437 [00:01<00:01, 71470277.27it/s]"
     ]
    },
    {
     "name": "stderr",
     "output_type": "stream",
     "text": [
      "\r",
      " 44%|████▍     | 74121216/169001437 [00:01<00:01, 70522420.45it/s]"
     ]
    },
    {
     "name": "stderr",
     "output_type": "stream",
     "text": [
      "\r",
      " 49%|████▊     | 82280448/169001437 [00:01<00:01, 73704076.28it/s]"
     ]
    },
    {
     "name": "stderr",
     "output_type": "stream",
     "text": [
      "\r",
      " 53%|█████▎    | 89718784/169001437 [00:01<00:01, 73777622.07it/s]"
     ]
    },
    {
     "name": "stderr",
     "output_type": "stream",
     "text": [
      "\r",
      " 57%|█████▋    | 97124352/169001437 [00:01<00:00, 72646691.09it/s]"
     ]
    },
    {
     "name": "stderr",
     "output_type": "stream",
     "text": [
      "\r",
      " 63%|██████▎   | 105676800/169001437 [00:01<00:00, 76397406.35it/s]"
     ]
    },
    {
     "name": "stderr",
     "output_type": "stream",
     "text": [
      "\r",
      " 67%|██████▋   | 113344512/169001437 [00:01<00:00, 74413578.94it/s]"
     ]
    },
    {
     "name": "stderr",
     "output_type": "stream",
     "text": [
      "\r",
      " 71%|███████▏  | 120815616/169001437 [00:01<00:00, 72619328.83it/s]"
     ]
    },
    {
     "name": "stderr",
     "output_type": "stream",
     "text": [
      "\r",
      " 76%|███████▋  | 129040384/169001437 [00:01<00:00, 75357938.81it/s]"
     ]
    },
    {
     "name": "stderr",
     "output_type": "stream",
     "text": [
      "\r",
      " 81%|████████  | 136609792/169001437 [00:01<00:00, 71107598.67it/s]"
     ]
    },
    {
     "name": "stderr",
     "output_type": "stream",
     "text": [
      "\r",
      " 86%|████████▌ | 144998400/169001437 [00:02<00:00, 74685153.22it/s]"
     ]
    },
    {
     "name": "stderr",
     "output_type": "stream",
     "text": [
      "\r",
      " 90%|█████████ | 152535040/169001437 [00:02<00:00, 72976436.27it/s]"
     ]
    },
    {
     "name": "stderr",
     "output_type": "stream",
     "text": [
      "\r",
      " 95%|█████████▍| 159907840/169001437 [00:02<00:00, 72148142.76it/s]"
     ]
    },
    {
     "name": "stderr",
     "output_type": "stream",
     "text": [
      "\r",
      "100%|█████████▉| 168198144/169001437 [00:02<00:00, 75227399.48it/s]"
     ]
    },
    {
     "name": "stderr",
     "output_type": "stream",
     "text": [
      "\r",
      "100%|██████████| 169001437/169001437 [00:02<00:00, 69937070.67it/s]"
     ]
    },
    {
     "name": "stderr",
     "output_type": "stream",
     "text": [
      "\n"
     ]
    },
    {
     "name": "stdout",
     "output_type": "stream",
     "text": [
      "Extracting ./data/cifar-100-python.tar.gz to ./data\n"
     ]
    },
    {
     "name": "stdout",
     "output_type": "stream",
     "text": [
      "Files already downloaded and verified\n"
     ]
    },
    {
     "name": "stderr",
     "output_type": "stream",
     "text": [
      "/usr/local/lib/python3.10/site-packages/IPython/core/magics/osm.py:417: UserWarning: This is now an optional IPython functionality, setting dhist requires you to install the `pickleshare` library.\n",
      "  self.shell.db['dhist'] = compress_dhist(dhist)[-100:]\n"
     ]
    },
    {
     "name": "stdout",
     "output_type": "stream",
     "text": [
      "/kaggle/working/MasterArbeit\n"
     ]
    },
    {
     "name": "stderr",
     "output_type": "stream",
     "text": [
      "/usr/local/lib/python3.10/site-packages/tqdm/auto.py:21: TqdmWarning: IProgress not found. Please update jupyter and ipywidgets. See https://ipywidgets.readthedocs.io/en/stable/user_install.html\n",
      "  from .autonotebook import tqdm as notebook_tqdm\n"
     ]
    },
    {
     "name": "stdout",
     "output_type": "stream",
     "text": [
      "Downloading https://www.cs.toronto.edu/~kriz/cifar-100-python.tar.gz to ./data/train/cifar-100-python.tar.gz\n"
     ]
    },
    {
     "name": "stderr",
     "output_type": "stream",
     "text": [
      "\r",
      "  0%|          | 0/169001437 [00:00<?, ?it/s]"
     ]
    },
    {
     "name": "stderr",
     "output_type": "stream",
     "text": [
      "\r",
      "  0%|          | 458752/169001437 [00:00<00:40, 4162015.07it/s]"
     ]
    },
    {
     "name": "stderr",
     "output_type": "stream",
     "text": [
      "\r",
      "  4%|▍         | 7045120/169001437 [00:00<00:04, 38979717.90it/s]"
     ]
    },
    {
     "name": "stderr",
     "output_type": "stream",
     "text": [
      "\r",
      "  8%|▊         | 14254080/169001437 [00:00<00:02, 53665442.03it/s]"
     ]
    },
    {
     "name": "stderr",
     "output_type": "stream",
     "text": [
      "\r",
      " 15%|█▍        | 24772608/169001437 [00:00<00:01, 73669925.14it/s]"
     ]
    },
    {
     "name": "stderr",
     "output_type": "stream",
     "text": [
      "\r",
      " 20%|█▉        | 33521664/169001437 [00:00<00:01, 78533922.07it/s]"
     ]
    },
    {
     "name": "stderr",
     "output_type": "stream",
     "text": [
      "\r",
      " 25%|██▍       | 41910272/169001437 [00:00<00:01, 80292646.87it/s]"
     ]
    },
    {
     "name": "stderr",
     "output_type": "stream",
     "text": [
      "\r",
      " 31%|███       | 52461568/169001437 [00:00<00:01, 88441778.56it/s]"
     ]
    },
    {
     "name": "stderr",
     "output_type": "stream",
     "text": [
      "\r",
      " 36%|███▋      | 61341696/169001437 [00:00<00:01, 83309960.82it/s]"
     ]
    },
    {
     "name": "stderr",
     "output_type": "stream",
     "text": [
      "\r",
      " 43%|████▎     | 72187904/169001437 [00:00<00:01, 90749880.34it/s]"
     ]
    },
    {
     "name": "stderr",
     "output_type": "stream",
     "text": [
      "\r",
      " 48%|████▊     | 81362944/169001437 [00:01<00:01, 87040289.82it/s]"
     ]
    },
    {
     "name": "stderr",
     "output_type": "stream",
     "text": [
      "\r",
      " 54%|█████▍    | 91029504/169001437 [00:01<00:00, 89796244.07it/s]"
     ]
    },
    {
     "name": "stderr",
     "output_type": "stream",
     "text": [
      "\r",
      " 59%|█████▉    | 100106240/169001437 [00:01<00:00, 87618057.45it/s]"
     ]
    },
    {
     "name": "stderr",
     "output_type": "stream",
     "text": [
      "\r",
      " 65%|██████▍   | 109379584/169001437 [00:01<00:00, 88931077.59it/s]"
     ]
    },
    {
     "name": "stderr",
     "output_type": "stream",
     "text": [
      "\r",
      " 70%|███████   | 118325248/169001437 [00:01<00:00, 88161182.24it/s]"
     ]
    },
    {
     "name": "stderr",
     "output_type": "stream",
     "text": [
      "\r",
      " 76%|███████▌  | 127926272/169001437 [00:01<00:00, 90314447.51it/s]"
     ]
    },
    {
     "name": "stderr",
     "output_type": "stream",
     "text": [
      "\r",
      " 81%|████████  | 137003008/169001437 [00:01<00:00, 85804182.85it/s]"
     ]
    },
    {
     "name": "stderr",
     "output_type": "stream",
     "text": [
      "\r",
      " 87%|████████▋ | 147324928/169001437 [00:01<00:00, 90742939.87it/s]"
     ]
    },
    {
     "name": "stderr",
     "output_type": "stream",
     "text": [
      "\r",
      " 93%|█████████▎| 156499968/169001437 [00:01<00:00, 82639357.26it/s]"
     ]
    },
    {
     "name": "stderr",
     "output_type": "stream",
     "text": [
      "\r",
      " 98%|█████████▊| 166363136/169001437 [00:02<00:00, 86998949.00it/s]"
     ]
    },
    {
     "name": "stderr",
     "output_type": "stream",
     "text": [
      "\r",
      "100%|██████████| 169001437/169001437 [00:02<00:00, 81720371.72it/s]"
     ]
    },
    {
     "name": "stderr",
     "output_type": "stream",
     "text": [
      "\n"
     ]
    },
    {
     "name": "stdout",
     "output_type": "stream",
     "text": [
      "Extracting ./data/train/cifar-100-python.tar.gz to ./data/train\n"
     ]
    },
    {
     "name": "stdout",
     "output_type": "stream",
     "text": [
      "Downloading https://www.cs.toronto.edu/~kriz/cifar-100-python.tar.gz to ./data/test/cifar-100-python.tar.gz\n"
     ]
    },
    {
     "name": "stderr",
     "output_type": "stream",
     "text": [
      "\r",
      "  0%|          | 0/169001437 [00:00<?, ?it/s]"
     ]
    },
    {
     "name": "stderr",
     "output_type": "stream",
     "text": [
      "\r",
      "  0%|          | 458752/169001437 [00:00<00:39, 4230406.38it/s]"
     ]
    },
    {
     "name": "stderr",
     "output_type": "stream",
     "text": [
      "\r",
      "  4%|▎         | 6029312/169001437 [00:00<00:04, 33431407.86it/s]"
     ]
    },
    {
     "name": "stderr",
     "output_type": "stream",
     "text": [
      "\r",
      " 10%|▉         | 16842752/169001437 [00:00<00:02, 66797318.90it/s]"
     ]
    },
    {
     "name": "stderr",
     "output_type": "stream",
     "text": [
      "\r",
      " 14%|█▍        | 24281088/169001437 [00:00<00:02, 69726106.78it/s]"
     ]
    },
    {
     "name": "stderr",
     "output_type": "stream",
     "text": [
      "\r",
      " 20%|██        | 34045952/169001437 [00:00<00:01, 79690715.01it/s]"
     ]
    },
    {
     "name": "stderr",
     "output_type": "stream",
     "text": [
      "\r",
      " 25%|██▌       | 42696704/169001437 [00:00<00:01, 81937518.41it/s]"
     ]
    },
    {
     "name": "stderr",
     "output_type": "stream",
     "text": [
      "\r",
      " 32%|███▏      | 54132736/169001437 [00:00<00:01, 92448490.88it/s]"
     ]
    },
    {
     "name": "stderr",
     "output_type": "stream",
     "text": [
      "\r",
      " 38%|███▊      | 63406080/169001437 [00:00<00:01, 91727364.71it/s]"
     ]
    },
    {
     "name": "stderr",
     "output_type": "stream",
     "text": [
      "\r",
      " 44%|████▍     | 74317824/169001437 [00:00<00:00, 97083812.34it/s]"
     ]
    },
    {
     "name": "stderr",
     "output_type": "stream",
     "text": [
      "\r",
      " 50%|████▉     | 84049920/169001437 [00:01<00:00, 96408367.19it/s]"
     ]
    },
    {
     "name": "stderr",
     "output_type": "stream",
     "text": [
      "\r",
      " 56%|█████▌    | 94437376/169001437 [00:01<00:00, 98669142.97it/s]"
     ]
    },
    {
     "name": "stderr",
     "output_type": "stream",
     "text": [
      "\r",
      " 62%|██████▏   | 104595456/169001437 [00:01<00:00, 99487536.71it/s]"
     ]
    },
    {
     "name": "stderr",
     "output_type": "stream",
     "text": [
      "\r",
      " 68%|██████▊   | 114556928/169001437 [00:01<00:00, 99236094.88it/s]"
     ]
    },
    {
     "name": "stderr",
     "output_type": "stream",
     "text": [
      "\r",
      " 74%|███████▍  | 125173760/169001437 [00:01<00:00, 101303078.30it/s]"
     ]
    },
    {
     "name": "stderr",
     "output_type": "stream",
     "text": [
      "\r",
      " 80%|████████  | 135331840/169001437 [00:01<00:00, 99255535.68it/s] "
     ]
    },
    {
     "name": "stderr",
     "output_type": "stream",
     "text": [
      "\r",
      " 87%|████████▋ | 146407424/169001437 [00:01<00:00, 102562350.75it/s]"
     ]
    },
    {
     "name": "stderr",
     "output_type": "stream",
     "text": [
      "\r",
      " 93%|█████████▎| 156696576/169001437 [00:01<00:00, 99615635.15it/s] "
     ]
    },
    {
     "name": "stderr",
     "output_type": "stream",
     "text": [
      "\r",
      " 99%|█████████▉| 167739392/169001437 [00:01<00:00, 102699494.41it/s]"
     ]
    },
    {
     "name": "stderr",
     "output_type": "stream",
     "text": [
      "\r",
      "100%|██████████| 169001437/169001437 [00:01<00:00, 91163683.48it/s] "
     ]
    },
    {
     "name": "stderr",
     "output_type": "stream",
     "text": [
      "\n"
     ]
    },
    {
     "name": "stdout",
     "output_type": "stream",
     "text": [
      "Extracting ./data/test/cifar-100-python.tar.gz to ./data/test\n"
     ]
    },
    {
     "name": "stdout",
     "output_type": "stream",
     "text": [
      "/root\n"
     ]
    },
    {
     "name": "stderr",
     "output_type": "stream",
     "text": [
      "/usr/local/lib/python3.10/site-packages/IPython/core/magics/osm.py:393: UserWarning: This is now an optional IPython functionality, using bookmarks requires you to install the `pickleshare` library.\n",
      "  bkms = self.shell.db.get('bookmarks', {})\n",
      "/usr/local/lib/python3.10/site-packages/IPython/core/magics/osm.py:428: UserWarning: This is now an optional IPython functionality, setting dhist requires you to install the `pickleshare` library.\n",
      "  self.shell.db['dhist'] = compress_dhist(dhist)[-100:]\n"
     ]
    }
   ],
   "source": [
    "# Import statements\n",
    "import torch\n",
    "import random\n",
    "import torchvision\n",
    "import torchvision.transforms as transforms\n",
    "from torch.optim.lr_scheduler import StepLR\n",
    "from torch.optim.lr_scheduler import CosineAnnealingLR\n",
    "from torchvision.transforms import TrivialAugmentWide\n",
    "from torch.utils.data import Dataset\n",
    "from torch.utils.data import ConcatDataset\n",
    "import os\n",
    "\n",
    "# Define the device\n",
    "tpu = ENABLE_TPU\n",
    "\n",
    "if tpu == True:\n",
    "    print('TPU is Enabled')\n",
    "    import torch_xla\n",
    "    import torch_xla.core.xla_model as xm\n",
    "    device = xm.xla_device()\n",
    "else:\n",
    "    device = torch.device('cuda:0' if torch.cuda.is_available() else 'cpu')  #intend here for else\n",
    "\n",
    "\n",
    "class CustomDataset(Dataset):\n",
    "    def __init__(self, np_images, original_dataset, resize):\n",
    "        # Load images\n",
    "        self.images = torch.from_numpy(np_images).permute(0, 3, 1, 2) / 255\n",
    "         #Normalize the images\n",
    "        #transform_test = transforms.Compose([\n",
    "            #transforms.Normalize((0.5, 0.5, 0.5), (0.5, 0.5, 0.5))\n",
    "        #])\n",
    "        #self.images = transform_test(self.images)\n",
    "        #if resize == True:\n",
    "            #self.images = transforms.Resize(224, antialias=True)(self.images)\n",
    "        \n",
    "        # Extract labels from the original PyTorch dataset\n",
    "        self.labels = [label for _, label in original_dataset]\n",
    "\n",
    "    def __len__(self):\n",
    "        return len(self.labels)\n",
    "\n",
    "    def __getitem__(self, index):\n",
    "        # Get image and label for the given index\n",
    "        image = self.images[index]\n",
    "        label = self.labels[index]\n",
    "\n",
    "        return image, label\n",
    "\n",
    "# Define the function to load corrupted datasets separately\n",
    "def load_data_c_separately(dataset, testset, resize, test_transforms, batch_size):\n",
    "    corruptions = ['gaussian_noise', 'shot_noise', 'impulse_noise', 'defocus_blur', 'glass_blur', 'motion_blur', 'zoom_blur', 'snow', 'frost', 'fog', 'brightness', 'contrast', 'elastic_transform', 'pixelate', 'jpeg_compression', 'speckle_noise', 'gaussian_blur', 'spatter', 'saturate']\n",
    "    np.asarray(corruptions)\n",
    "    c_datasets = {}\n",
    "    for corruption in corruptions:\n",
    "        if dataset == 'CIFAR10':\n",
    "            np_data_c = np.load(f'/kaggle/input/cifar-c/CIFAR-10-C/{corruption}.npy')\n",
    "            np_data_c = np.array(np.array_split(np_data_c, 5))\n",
    "            custom_dataset = CustomDataset(np_data_c[0], testset, resize)  # Load only one split for now\n",
    "            custom_dataloader = torch.utils.data.DataLoader(custom_dataset, batch_size=batch_size, shuffle=False)\n",
    "            c_datasets[corruption] = custom_dataloader\n",
    "        else:\n",
    "            print('No corrupted benchmark available other than CIFAR10-c.')\n",
    "\n",
    "    return c_datasets\n",
    "\n",
    "\n",
    "# Load corrupted datasets\n",
    "#corrupted_datasets = load_data_c(dataset='CIFAR10', testset=testset, resize=True, \n",
    "                                 #test_transforms=None, subset=False, subsetsize=None)\n",
    "\n",
    "# Transformations for training and test sets\n",
    "transform_train = transforms.Compose([\n",
    "    transforms.RandomHorizontalFlip(),\n",
    "    transforms.RandomCrop(32, padding=4),  \n",
    "    TrivialAugmentWide(),\n",
    "    transforms.ToTensor(),\n",
    "])\n",
    "transform_test = transforms.Compose([\n",
    "    transforms.ToTensor(),\n",
    "])\n",
    "\n",
    "batch_size = BATCH_SIZE\n",
    "\n",
    "print(f'Loading {DATASET_NAME}...\\n')\n",
    "if DATASET_NAME=='CIFAR10':\n",
    "#     Use CIFAR-10 dataset for training\n",
    "    num_classes = 10    # CIFAR-10\n",
    "    baseline_trainset = torchvision.datasets.CIFAR10(root='./data', train=True,\n",
    "                                            download=True, transform=transform_train)\n",
    "    baseline_trainloader = torch.utils.data.DataLoader(baseline_trainset, batch_size=batch_size,\n",
    "                                              shuffle=True, num_workers=2, pin_memory=True)\n",
    "\n",
    "    # Use CIFAR-10 dataset for testing\n",
    "    baseline_testset = torchvision.datasets.CIFAR10(root='./data', train=False,\n",
    "                                           download=True, transform=transform_test)\n",
    "    baseline_testloader = torch.utils.data.DataLoader(baseline_testset, batch_size=batch_size,\n",
    "                                             shuffle=False, num_workers=2, pin_memory=True)\n",
    "elif DATASET_NAME=='CIFAR100':\n",
    "    # # Use CIFAR-100 dataset for training\n",
    "    num_classes = 100   # CIFAR-100\n",
    "    baseline_trainset = torchvision.datasets.CIFAR100(root='./data', train=True,\n",
    "                                            download=True, transform=transform_train)\n",
    "    baseline_trainloader = torch.utils.data.DataLoader(baseline_trainset, batch_size=batch_size,\n",
    "                                              shuffle=True, num_workers=2, pin_memory=True)\n",
    "\n",
    "    # Use CIFAR-100 dataset for testing\n",
    "    baseline_testset = torchvision.datasets.CIFAR100(root='./data', train=False,\n",
    "                                           download=True, transform=transform_test)\n",
    "    baseline_testloader = torch.utils.data.DataLoader(baseline_testset, batch_size=batch_size,\n",
    "                                             shuffle=False, num_workers=2, pin_memory=True)\n",
    "    \n",
    "%cd /kaggle/working/MasterArbeit\n",
    "from augment_dataset import create_transforms, load_data\n",
    "# from compute_loss import soft_loss\n",
    "\n",
    "\"\"\"\n",
    " Create the transformations based on the provided flags:\n",
    " - If all flags (random_cropping, aggressive_augmentation, and custom) are False:\n",
    "   No augmentation other than default preprocessing is applied.\n",
    " - If random_cropping (rc) is True and the others (aa and custom) are False:\n",
    "   Only random cropping is applied.\n",
    " - If random_cropping (rc) and aggressive_augmentation (aa) are True, and custom is False:\n",
    "   Random cropping and conventional aggressive augmentation techniques (TA) are applied.\n",
    " - If all three flags (rc, aa, custom) are True:\n",
    "   Random cropping and soft augmentation techniques (TA) are applied.\n",
    " - If random_cropping (rc) is False, aggressive_augmentation (aa) is True, and custom is False:\n",
    "   Only conventional aggressive augmentation techniques (TA) are applied (no soft labels).\n",
    " - If random_cropping (rc) is False, aggressive_augmentation (aa) is True, and custom is True:\n",
    "   Aggressive augmentation (TA) is applied with soft labeling.\n",
    "\"\"\"\n",
    "\n",
    "transforms_preprocess, transforms_augmentation = create_transforms(random_cropping=True, aggressive_augmentation=False, custom=True, dataset_name=DATASET_NAME)\n",
    "custom_trainset, custom_testset = load_data(transforms_preprocess=transforms_preprocess, transforms_augmentation=transforms_augmentation, dataset_name=DATASET_NAME)\n",
    "custom_trainloader = torch.utils.data.DataLoader(custom_trainset, batch_size=batch_size, shuffle=True, num_workers=2, pin_memory=True)\n",
    "custom_testloader = torch.utils.data.DataLoader(custom_testset, batch_size=batch_size, shuffle=False, num_workers=2, pin_memory=True)\n",
    "%cd\n",
    "\n",
    "classes = baseline_trainset.classes\n"
   ]
  },
  {
   "cell_type": "code",
   "execution_count": 4,
   "id": "a6ccaca5",
   "metadata": {
    "execution": {
     "iopub.execute_input": "2024-09-19T12:16:58.664279Z",
     "iopub.status.busy": "2024-09-19T12:16:58.663555Z",
     "iopub.status.idle": "2024-09-19T12:16:58.667796Z",
     "shell.execute_reply": "2024-09-19T12:16:58.666999Z"
    },
    "papermill": {
     "duration": 0.020088,
     "end_time": "2024-09-19T12:16:58.669464",
     "exception": false,
     "start_time": "2024-09-19T12:16:58.649376",
     "status": "completed"
    },
    "tags": []
   },
   "outputs": [
    {
     "name": "stdout",
     "output_type": "stream",
     "text": [
      "Compose(\n",
      "    RandomHorizontalFlip(p=0.5)\n",
      "    TrivialAugmentWide(num_magnitude_bins=31, interpolation=InterpolationMode.NEAREST, fill=None)\n",
      "    <augmentations.random_crop.RandomCrop object at 0x7face8133460>\n",
      ")\n"
     ]
    }
   ],
   "source": [
    "print(transforms_augmentation)"
   ]
  },
  {
   "cell_type": "code",
   "execution_count": 5,
   "id": "362cc328",
   "metadata": {
    "execution": {
     "iopub.execute_input": "2024-09-19T12:16:58.696400Z",
     "iopub.status.busy": "2024-09-19T12:16:58.695734Z",
     "iopub.status.idle": "2024-09-19T12:16:59.927509Z",
     "shell.execute_reply": "2024-09-19T12:16:59.926371Z"
    },
    "papermill": {
     "duration": 1.251874,
     "end_time": "2024-09-19T12:16:59.933883",
     "exception": false,
     "start_time": "2024-09-19T12:16:58.682009",
     "status": "completed"
    },
    "tags": []
   },
   "outputs": [
    {
     "name": "stdout",
     "output_type": "stream",
     "text": [
      "Dataset type \"custom\" displaying...\n",
      "\n"
     ]
    },
    {
     "name": "stdout",
     "output_type": "stream",
     "text": [
      "lizard: 0.83 chair: 0.78 sunflower: 0.86 pine_tree: 0.46 bus  : 0.76 sweet_pepper: 0.89 camel: 0.96 keyboard: 0.67 sunflower: 0.37 can  : 0.74 sea  : 0.70 plain: 0.49 boy  : 0.46 bottle: 0.92 tractor: 0.64 skyscraper: 0.95 ray  : 0.66 trout: 0.74 ray  : 0.67 bed  : 0.94 orange: 0.77 worm : 0.33 otter: 0.87 boy  : 0.85 castle: 0.62 turtle: 0.67 house: 0.92 whale: 0.95 man  : 0.94 lion : 0.33 castle: 0.44 road : 0.83 worm : 0.85 castle: 0.96 mushroom: 0.87 orange: 0.70 telephone: 0.61 house: 0.96 palm_tree: 0.70 pine_tree: 0.65 dolphin: 0.86 mouse: 0.99 caterpillar: 0.95 fox  : 0.74 orchid: 0.85 dinosaur: 0.80 cattle: 0.85 otter: 0.84 skyscraper: 0.90 lawn_mower: 1.00 possum: 0.97 sweet_pepper: 0.84 girl : 0.99 hamster: 0.89 bridge: 0.69 shark: 0.72 clock: 0.82 leopard: 0.87 bicycle: 0.97 bed  : 0.96 worm : 0.86 fox  : 0.89 bee  : 0.88 forest: 0.78 couch: 0.83 butterfly: 0.93 pear : 0.74 cockroach: 0.67 bridge: 0.81 train: 0.85 keyboard: 0.88 streetcar: 0.99 lamp : 0.70 poppy: 0.82 dolphin: 0.95 oak_tree: 0.90 chair: 0.64 tiger: 0.82 castle: 0.70 lobster: 0.74 snake: 0.62 tractor: 0.85 wolf : 0.89 caterpillar: 0.89 pickup_truck: 0.85 beaver: 0.98 snail: 0.39 bee  : 0.74 leopard: 0.74 aquarium_fish: 0.84 rabbit: 0.75 maple_tree: 0.87 chimpanzee: 0.94 cup  : 0.83 mountain: 0.87 oak_tree: 0.95 boy  : 0.23 bicycle: 0.98 leopard: 0.55 orange: 0.96 fox  : 0.97 crab : 0.80 pickup_truck: 0.40 lion : 0.98 otter: 0.58 castle: 0.78 caterpillar: 0.71 butterfly: 0.87 poppy: 0.55 boy  : 0.52 otter: 0.83 maple_tree: 1.00 table: 0.72 bridge: 0.83 baby : 0.92 poppy: 0.90 table: 0.35 train: 0.81 lion : 0.51 table: 0.95 hamster: 0.98 flatfish: 0.29 crocodile: 0.93 table: 0.96 bridge: 0.57 girl : 0.58 motorcycle: 0.70 pickup_truck: 0.83 leopard: 0.62 lawn_mower: 0.73 dinosaur: 0.91 orchid: 0.72 clock: 0.44 skyscraper: 0.75 keyboard: 0.89 cockroach: 0.54 table: 0.80 telephone: 0.99 can  : 0.79 willow_tree: 0.94 camel: 0.88 turtle: 0.98 telephone: 0.89 keyboard: 0.64 crocodile: 0.99 plain: 0.73 keyboard: 0.89 bus  : 0.37 aquarium_fish: 0.84 worm : 0.69 lizard: 0.19 wolf : 0.81 castle: 0.29 plain: 0.77 skyscraper: 0.91 fox  : 0.44 fox  : 0.55 rabbit: 0.97 turtle: 0.35 bridge: 0.39 woman: 0.77 pickup_truck: 0.42 keyboard: 0.79 hamster: 0.80 boy  : 0.72 crab : 0.95 poppy: 0.42 palm_tree: 0.64 girl : 0.78 mountain: 0.69 flatfish: 1.00 streetcar: 0.42 tractor: 0.94 pear : 0.81 camel: 0.96 leopard: 1.00 rose : 1.00 butterfly: 0.53 road : 0.75 cattle: 0.79 couch: 0.79 flatfish: 0.85 whale: 0.89 ray  : 0.79 table: 0.99 cattle: 0.99 bed  : 0.72 lawn_mower: 0.82 orange: 0.93 elephant: 0.95 maple_tree: 1.00 snail: 0.96 camel: 0.89 maple_tree: 0.58 spider: 0.87 orchid: 0.77 bed  : 0.74 ray  : 0.73 dolphin: 0.98 cattle: 0.99 sweet_pepper: 0.98 cloud: 0.79 rabbit: 0.47 streetcar: 0.87 lobster: 0.95 elephant: 0.72 boy  : 0.77 sweet_pepper: 0.50 forest: 0.83 telephone: 0.44 seal : 0.56 table: 0.99 castle: 0.97 orange: 0.73 squirrel: 0.70 pear : 0.77 television: 0.42 seal : 0.94 plain: 0.94 castle: 0.45 mushroom: 0.72 caterpillar: 0.99 snail: 0.95 wolf : 1.00 crab : 0.90 orchid: 0.43 motorcycle: 0.99 camel: 0.99 kangaroo: 0.83 mushroom: 0.54 dolphin: 0.97 dolphin: 0.93 apple: 0.86 turtle: 0.74 girl : 0.79 tulip: 0.71 rocket: 0.87 possum: 0.95 snail: 0.89 rose : 0.86 possum: 0.60 oak_tree: 0.70 possum: 0.20 rose : 0.77 bridge: 0.72 turtle: 0.94 poppy: 0.88 boy  : 0.86 skunk: 0.66 pine_tree: 0.86 baby : 0.70 sunflower: 0.94 maple_tree: 0.68 otter: 0.92 man  : 0.80 pine_tree: 0.87 maple_tree: 0.81 beaver: 0.98 cup  : 0.90 poppy: 0.99 tiger: 1.00 lobster: 0.94 boy  : 0.80 bridge: 0.46 sea  : 1.00 television: 0.96 raccoon: 0.93 bowl : 0.72 kangaroo: 0.97 seal : 0.99 baby : 0.70 castle: 0.87 spider: 0.52 raccoon: 0.95 crab : 0.89 snail: 0.85 mushroom: 0.95 table: 0.58 pickup_truck: 0.71 apple: 0.82 squirrel: 0.88 road : 0.97 road : 0.95 tractor: 0.78 woman: 0.99 table: 0.87 sweet_pepper: 0.26 bed  : 0.39 caterpillar: 0.73 pine_tree: 0.82 cup  : 0.98 maple_tree: 0.74 shrew: 0.96 kangaroo: 0.67 man  : 0.32 telephone: 0.87 dolphin: 1.00 camel: 0.91 seal : 0.99 bridge: 0.90 dinosaur: 0.93 mouse: 0.69 bowl : 0.81 bear : 0.15 kangaroo: 0.67 sea  : 0.85 bus  : 0.89 beaver: 0.90 willow_tree: 0.91 road : 0.60 can  : 0.85 dolphin: 0.39 crab : 0.74 hamster: 0.65 house: 0.86 lawn_mower: 0.91 lawn_mower: 0.87 clock: 0.93 tractor: 0.81 oak_tree: 0.79 chimpanzee: 0.84 bear : 0.39 turtle: 0.86 worm : 0.51 bed  : 0.94 bus  : 0.91 snake: 0.52 sweet_pepper: 0.72 clock: 0.88 cup  : 0.57 streetcar: 0.54 bicycle: 0.92 willow_tree: 0.74 sunflower: 0.89 chimpanzee: 0.90 oak_tree: 0.75 poppy: 0.78 bear : 0.55 bridge: 0.93 elephant: 0.99 tulip: 0.87 mushroom: 0.96 chimpanzee: 0.75 maple_tree: 0.90 girl : 0.72 flatfish: 0.94 fox  : 0.93 mushroom: 0.83 chair: 0.31 spider: 0.76 beetle: 0.55 pear : 0.85 pickup_truck: 0.81 raccoon: 0.59 turtle: 0.50 baby : 0.72 orange: 0.85 worm : 0.73 aquarium_fish: 0.70 whale: 0.44 skunk: 0.77 baby : 0.89 chimpanzee: 0.98 beaver: 0.70 streetcar: 0.86 sea  : 0.75 crocodile: 0.96 squirrel: 0.64 can  : 0.73 mushroom: 0.52 bus  : 0.83 wardrobe: 0.98 baby : 0.59 snake: 0.98 cup  : 0.60 tiger: 0.76 motorcycle: 0.80 ray  : 0.92 ray  : 0.73 train: 0.68 table: 0.47 crab : 0.92 kangaroo: 0.78 shrew: 0.53 castle: 0.63 castle: 0.70 plain: 0.90 crab : 1.00 apple: 1.00 dinosaur: 0.97 leopard: 0.60 lion : 0.21 bridge: 0.33 leopard: 0.81 pear : 0.80 table: 0.95 tulip: 0.59 castle: 0.63 palm_tree: 0.85 butterfly: 0.92 motorcycle: 0.69 can  : 0.89 leopard: 0.86 raccoon: 0.96 kangaroo: 0.89 whale: 0.89 can  : 0.83 tulip: 0.37 beetle: 0.98 dinosaur: 0.36 willow_tree: 0.58 bowl : 0.97 girl : 0.48 fox  : 0.76 crocodile: 0.99 tulip: 0.76 plate: 0.85 forest: 0.97 keyboard: 1.00 elephant: 0.26 castle: 0.94 pear : 0.92 crab : 0.74 elephant: 0.97 train: 0.77 oak_tree: 0.72 snake: 0.46 palm_tree: 0.62 table: 0.97 skunk: 0.95 leopard: 0.44 aquarium_fish: 0.90 chair: 0.49 skunk: 0.81 palm_tree: 0.89 squirrel: 0.94 shrew: 0.97 rose : 0.81 dolphin: 0.89 rocket: 0.77 tiger: 0.92 maple_tree: 0.90 lamp : 0.92 bridge: 0.97 bee  : 0.81 table: 0.77 poppy: 0.40 rose : 0.96 possum: 0.92 shark: 0.94 lion : 0.98 mushroom: 0.89 leopard: 0.95 television: 0.91 whale: 0.59 chair: 0.99 wardrobe: 0.95 trout: 0.83 cloud: 1.00 mountain: 0.68 ray  : 0.78 pear : 0.70 rose : 0.89 turtle: 1.00 couch: 0.95 mouse: 1.00 chimpanzee: 0.60 telephone: 0.94 cloud: 0.97 television: 0.99 snake: 0.53 can  : 0.74 aquarium_fish: 0.92 plate: 0.57 oak_tree: 0.93 poppy: 0.74 snail: 0.84 rabbit: 0.96 hamster: 0.87 lion : 0.41 rose : 0.56 bed  : 0.92 cockroach: 0.69 lizard: 0.56 girl : 1.00 maple_tree: 0.90 plate: 0.77 pickup_truck: 0.93 mushroom: 0.80 maple_tree: 0.61 seal : 0.70 mouse: 0.97 castle: 0.78 butterfly: 1.00 snail: 0.69 squirrel: 0.93 plate: 1.00 lion : 0.45 orange: 0.99 bridge: 0.83 leopard: 0.67 tiger: 0.97 rocket: 0.76 shark: 0.94 leopard: 0.45 cup  : 0.93 crab : 0.58 squirrel: 0.86 orange: 0.76 chimpanzee: 0.57 couch: 0.85 sea  : 0.79\n"
     ]
    },
    {
     "data": {
      "image/png": "[encoded data removed]",
      "text/plain": [
       "<Figure size 2500x2000 with 1 Axes>"
      ]
     },
     "metadata": {},
     "output_type": "display_data"
    }
   ],
   "source": [
    "import matplotlib.pyplot as plt\n",
    "import numpy as np\n",
    "\n",
    "# functions to show an image\n",
    "def imshow(img):\n",
    "    npimg = img.cpu().numpy()\n",
    "    plt.figure(figsize=(25, 20))  # Adjust the width and height as needed\n",
    "    plt.imshow(np.transpose(npimg, (1, 2, 0)))\n",
    "    plt.show()\n",
    "\n",
    "\n",
    "# get some random training images\n",
    "print(f'Dataset type \"{DATASET_TYPE}\" displaying...\\n')\n",
    "\n",
    "if DATASET_TYPE=='custom':\n",
    "    dataiter = iter(custom_trainloader)\n",
    "    images, labels, confidences = next(dataiter)\n",
    "    # print labels \n",
    "    if isinstance(confidences, list):\n",
    "        # in case we have confidence \n",
    "        confidences = confidences[1]\n",
    "        \n",
    "    print(' '.join(f'{classes[labels[j]]:5s}: {confidences[j].item():.2f}' for j in range(batch_size)))\n",
    "elif DATASET_TYPE=='baseline':\n",
    "#     if training baseline model\n",
    "    dataiter = iter(baseline_trainloader)\n",
    "    images, labels = next(dataiter)\n",
    "    print(' '.join(f'{classes[labels[j]]:5s}' for j in range(batch_size)))\n",
    "else:\n",
    "    raise ValueError(f'Dataset type {DATASET_TYPE} not supported')\n",
    "    \n",
    "# show images\n",
    "imshow(torchvision.utils.make_grid(images))"
   ]
  },
  {
   "cell_type": "markdown",
   "id": "941177f7",
   "metadata": {
    "papermill": {
     "duration": 0.018455,
     "end_time": "2024-09-19T12:16:59.971462",
     "exception": false,
     "start_time": "2024-09-19T12:16:59.953007",
     "status": "completed"
    },
    "tags": []
   },
   "source": [
    "## Define WideResNet 28_4"
   ]
  },
  {
   "cell_type": "code",
   "execution_count": 6,
   "id": "94c342f9",
   "metadata": {
    "execution": {
     "iopub.execute_input": "2024-09-19T12:17:00.009231Z",
     "iopub.status.busy": "2024-09-19T12:17:00.008319Z",
     "iopub.status.idle": "2024-09-19T12:17:00.022609Z",
     "shell.execute_reply": "2024-09-19T12:17:00.021888Z"
    },
    "papermill": {
     "duration": 0.03523,
     "end_time": "2024-09-19T12:17:00.024246",
     "exception": false,
     "start_time": "2024-09-19T12:16:59.989016",
     "status": "completed"
    },
    "tags": []
   },
   "outputs": [],
   "source": [
    "import torch.nn as nn\n",
    "import torch.nn.functional as F\n",
    "import torch.nn.init as init\n",
    "import numpy as np\n",
    "\n",
    "\n",
    "# Manual implementation of ResNet18\n",
    "class BasicBlock(nn.Module):\n",
    "    expansion = 1\n",
    "\n",
    "    def __init__(self, in_planes, planes, stride=1):\n",
    "        super(BasicBlock, self).__init__()\n",
    "        self.conv1 = nn.Conv2d(\n",
    "            in_planes, planes, kernel_size=3, stride=stride, padding=1, bias=False)\n",
    "        self.bn1 = nn.BatchNorm2d(planes)\n",
    "        self.conv2 = nn.Conv2d(planes, planes, kernel_size=3,\n",
    "                               stride=1, padding=1, bias=False)\n",
    "        self.bn2 = nn.BatchNorm2d(planes)\n",
    "\n",
    "        self.shortcut = nn.Sequential()\n",
    "        if stride != 1 or in_planes != self.expansion*planes:\n",
    "            self.shortcut = nn.Sequential(\n",
    "                nn.Conv2d(in_planes, self.expansion*planes,\n",
    "                          kernel_size=1, stride=stride, bias=False),\n",
    "                nn.BatchNorm2d(self.expansion*planes)\n",
    "            )\n",
    "\n",
    "    def forward(self, x):\n",
    "        out = F.relu(self.bn1(self.conv1(x)))\n",
    "        out = self.bn2(self.conv2(out))\n",
    "        out += self.shortcut(x)\n",
    "        out = F.relu(out)\n",
    "        return out\n",
    "\n",
    "\n",
    "class ResNet(nn.Module):\n",
    "    def __init__(self, block, layers, num_classes=num_classes):\n",
    "        super(ResNet, self).__init__()\n",
    "        self.in_planes = 64\n",
    "\n",
    "        self.conv1 = nn.Conv2d(3, 64, kernel_size=3, stride=1, padding=1, bias=False)\n",
    "        self.bn1 = nn.BatchNorm2d(64)\n",
    "        self.layer1 = self._make_layer(block, 64, layers[0], stride=1)\n",
    "        self.layer2 = self._make_layer(block, 128, layers[1], stride=2)\n",
    "        self.layer3 = self._make_layer(block, 256, layers[2], stride=2)\n",
    "        self.layer4 = self._make_layer(block, 512, layers[3], stride=2)\n",
    "        self.avgpool = nn.AdaptiveAvgPool2d((1, 1))  # Global average pooling layer\n",
    "        self.linear = nn.Linear(512, num_classes)\n",
    "\n",
    "    def _make_layer(self, block, planes, num_blocks, stride):\n",
    "        strides = [stride] + [1]*(num_blocks-1)\n",
    "        layers = []\n",
    "        for stride in strides:\n",
    "            layers.append(block(self.in_planes, planes, stride))\n",
    "            self.in_planes = planes * block.expansion\n",
    "        return nn.Sequential(*layers)\n",
    "\n",
    "    def forward(self, x):\n",
    "        out = F.relu(self.bn1(self.conv1(x)))\n",
    "        out = self.layer1(out)\n",
    "        out = self.layer2(out)\n",
    "        out = self.layer3(out)\n",
    "        out = self.layer4(out)\n",
    "        out = self.avgpool(out)  # Apply global average pooling\n",
    "        out = out.view(out.size(0), -1)\n",
    "        out = self.linear(out)\n",
    "        return out\n",
    "\n",
    "\n",
    "\n",
    "# ResNet18 Architecture\n",
    "def ResNet18(num_classes=num_classes):\n",
    "    return ResNet(BasicBlock, [2, 2, 2, 2], num_classes=num_classes)"
   ]
  },
  {
   "cell_type": "code",
   "execution_count": 7,
   "id": "bc56050a",
   "metadata": {
    "execution": {
     "iopub.execute_input": "2024-09-19T12:17:00.062243Z",
     "iopub.status.busy": "2024-09-19T12:17:00.061919Z",
     "iopub.status.idle": "2024-09-19T12:17:00.081981Z",
     "shell.execute_reply": "2024-09-19T12:17:00.081189Z"
    },
    "papermill": {
     "duration": 0.041837,
     "end_time": "2024-09-19T12:17:00.083676",
     "exception": false,
     "start_time": "2024-09-19T12:17:00.041839",
     "status": "completed"
    },
    "tags": []
   },
   "outputs": [],
   "source": [
    "def conv3x3(in_planes, out_planes, stride=1):\n",
    "    return nn.Conv2d(in_planes, out_planes, kernel_size=3, stride=stride, padding=1, bias=True)\n",
    "\n",
    "def conv_init(m):\n",
    "    classname = m.__class__.__name__\n",
    "    if classname.find('Conv') != -1:\n",
    "        init.xavier_uniform(m.weight, gain=np.sqrt(2))\n",
    "        init.constant(m.bias, 0)\n",
    "    elif classname.find('BatchNorm') != -1:\n",
    "        init.constant(m.weight, 1)\n",
    "        init.constant(m.bias, 0)\n",
    "\n",
    "class WideBasic(nn.Module):\n",
    "    def __init__(self, in_planes, planes, dropout_rate, stride=1):\n",
    "        super(WideBasic, self).__init__()\n",
    "        self.bn1 = nn.BatchNorm2d(in_planes)\n",
    "        self.conv1 = nn.Conv2d(in_planes, planes, kernel_size=3, padding=1, bias=True)\n",
    "        self.dropout = nn.Dropout(p=dropout_rate)\n",
    "        self.bn2 = nn.BatchNorm2d(planes)\n",
    "        self.conv2 = nn.Conv2d(planes, planes, kernel_size=3, stride=stride, padding=1, bias=True)\n",
    "\n",
    "        self.shortcut = nn.Sequential()\n",
    "        if stride != 1 or in_planes != planes:\n",
    "            self.shortcut = nn.Sequential(\n",
    "                nn.Conv2d(in_planes, planes, kernel_size=1, stride=stride, bias=True),\n",
    "            )\n",
    "\n",
    "    def forward(self, x):\n",
    "        out = self.dropout(self.conv1(F.relu(self.bn1(x))))\n",
    "        out = self.conv2(F.relu(self.bn2(out)))\n",
    "        out += self.shortcut(x)\n",
    "\n",
    "        return out\n",
    "\n",
    "class Bottleneck(nn.Module):\n",
    "    expansion = 4\n",
    "\n",
    "    def __init__(self, in_planes, planes, stride=1):\n",
    "        super(Bottleneck, self).__init__()\n",
    "        self.conv1 = nn.Conv2d(in_planes, planes, kernel_size=1, bias=False)\n",
    "        self.bn1 = nn.BatchNorm2d(planes)\n",
    "        self.conv2 = nn.Conv2d(planes, planes, kernel_size=3,\n",
    "                               stride=stride, padding=1, bias=False)\n",
    "        self.bn2 = nn.BatchNorm2d(planes)\n",
    "        self.conv3 = nn.Conv2d(planes, self.expansion *\n",
    "                               planes, kernel_size=1, bias=False)\n",
    "        self.bn3 = nn.BatchNorm2d(self.expansion*planes)\n",
    "\n",
    "        self.shortcut = nn.Sequential()\n",
    "        if stride != 1 or in_planes != self.expansion*planes:\n",
    "            self.shortcut = nn.Sequential(\n",
    "                nn.Conv2d(in_planes, self.expansion*planes,\n",
    "                          kernel_size=1, stride=stride, bias=False),\n",
    "                nn.BatchNorm2d(self.expansion*planes)\n",
    "            )\n",
    "\n",
    "    def forward(self, x):\n",
    "        out = F.relu(self.bn1(self.conv1(x)))\n",
    "        out = F.relu(self.bn2(self.conv2(out)))\n",
    "        out = self.bn3(self.conv3(out))\n",
    "        out += self.shortcut(x)\n",
    "        out = F.relu(out)\n",
    "        return out\n",
    "\n",
    "\n",
    "\n",
    "class WideResNet(nn.Module):\n",
    "    def __init__(self, depth, widen_factor, dropout_rate=0.3, num_classes=num_classes, factor=1, block=WideBasic):\n",
    "        super(WideResNet, self).__init__()\n",
    "        self.in_planes = 16\n",
    "\n",
    "        assert ((depth-4)%6 ==0), 'Wide-resnet depth should be 6n+4'\n",
    "        n = (int)((depth-4)/6)\n",
    "        k = widen_factor\n",
    "\n",
    "        nStages = [16, 16*k, 32*k, 64*k]\n",
    "\n",
    "        self.conv1 = conv3x3(3,nStages[0], stride=1)\n",
    "        self.layer1 = self._wide_layer(block, nStages[1], n, dropout_rate, stride=factor)\n",
    "        self.layer2 = self._wide_layer(block, nStages[2], n, dropout_rate, stride=2)\n",
    "        self.layer3 = self._wide_layer(block, nStages[3], n, dropout_rate, stride=2)\n",
    "        self.bn1 = nn.BatchNorm2d(nStages[3], momentum=0.9)\n",
    "        self.linear = nn.Linear(nStages[3], num_classes)\n",
    "\n",
    "    def _wide_layer(self, block, planes, num_blocks, dropout_rate, stride):\n",
    "        strides = [stride] + [1]*(num_blocks-1)\n",
    "        layers = []\n",
    "\n",
    "        for stride in strides:\n",
    "            layers.append(block(self.in_planes, planes, dropout_rate, stride))\n",
    "            self.in_planes = planes\n",
    "\n",
    "        return nn.Sequential(*layers)\n",
    "\n",
    "    def forward(self, x):\n",
    "        out = self.conv1(x)\n",
    "        out = self.layer1(out)\n",
    "        out = self.layer2(out)\n",
    "        out = self.layer3(out)\n",
    "        out = F.relu(self.bn1(out))\n",
    "        out = F.avg_pool2d(out, 8)\n",
    "        out = out.view(out.size(0), -1)\n",
    "        out = self.linear(out)\n",
    "\n",
    "        return out\n",
    "\n",
    "def WideResNet_28_4(num_classes, factor=1, block=WideBasic, dropout_rate=0.3):\n",
    "    return WideResNet(depth=28, widen_factor=4, dropout_rate=dropout_rate, num_classes=num_classes, factor=factor, block=block)"
   ]
  },
  {
   "cell_type": "markdown",
   "id": "351c4f3c",
   "metadata": {
    "papermill": {
     "duration": 0.017644,
     "end_time": "2024-09-19T12:17:00.119033",
     "exception": false,
     "start_time": "2024-09-19T12:17:00.101389",
     "status": "completed"
    },
    "tags": []
   },
   "source": [
    "## Model Training"
   ]
  },
  {
   "cell_type": "code",
   "execution_count": 8,
   "id": "8d09e676",
   "metadata": {
    "execution": {
     "iopub.execute_input": "2024-09-19T12:17:00.155856Z",
     "iopub.status.busy": "2024-09-19T12:17:00.155193Z",
     "iopub.status.idle": "2024-09-19T12:17:00.367484Z",
     "shell.execute_reply": "2024-09-19T12:17:00.366404Z"
    },
    "papermill": {
     "duration": 0.233164,
     "end_time": "2024-09-19T12:17:00.369462",
     "exception": false,
     "start_time": "2024-09-19T12:17:00.136298",
     "status": "completed"
    },
    "tags": []
   },
   "outputs": [
    {
     "data": {
      "text/plain": [
       "WideResNet(\n",
       "  (conv1): Conv2d(3, 16, kernel_size=(3, 3), stride=(1, 1), padding=(1, 1))\n",
       "  (layer1): Sequential(\n",
       "    (0): WideBasic(\n",
       "      (bn1): BatchNorm2d(16, eps=1e-05, momentum=0.1, affine=True, track_running_stats=True)\n",
       "      (conv1): Conv2d(16, 64, kernel_size=(3, 3), stride=(1, 1), padding=(1, 1))\n",
       "      (dropout): Dropout(p=0.3, inplace=False)\n",
       "      (bn2): BatchNorm2d(64, eps=1e-05, momentum=0.1, affine=True, track_running_stats=True)\n",
       "      (conv2): Conv2d(64, 64, kernel_size=(3, 3), stride=(1, 1), padding=(1, 1))\n",
       "      (shortcut): Sequential(\n",
       "        (0): Conv2d(16, 64, kernel_size=(1, 1), stride=(1, 1))\n",
       "      )\n",
       "    )\n",
       "    (1): WideBasic(\n",
       "      (bn1): BatchNorm2d(64, eps=1e-05, momentum=0.1, affine=True, track_running_stats=True)\n",
       "      (conv1): Conv2d(64, 64, kernel_size=(3, 3), stride=(1, 1), padding=(1, 1))\n",
       "      (dropout): Dropout(p=0.3, inplace=False)\n",
       "      (bn2): BatchNorm2d(64, eps=1e-05, momentum=0.1, affine=True, track_running_stats=True)\n",
       "      (conv2): Conv2d(64, 64, kernel_size=(3, 3), stride=(1, 1), padding=(1, 1))\n",
       "      (shortcut): Sequential()\n",
       "    )\n",
       "    (2): WideBasic(\n",
       "      (bn1): BatchNorm2d(64, eps=1e-05, momentum=0.1, affine=True, track_running_stats=True)\n",
       "      (conv1): Conv2d(64, 64, kernel_size=(3, 3), stride=(1, 1), padding=(1, 1))\n",
       "      (dropout): Dropout(p=0.3, inplace=False)\n",
       "      (bn2): BatchNorm2d(64, eps=1e-05, momentum=0.1, affine=True, track_running_stats=True)\n",
       "      (conv2): Conv2d(64, 64, kernel_size=(3, 3), stride=(1, 1), padding=(1, 1))\n",
       "      (shortcut): Sequential()\n",
       "    )\n",
       "    (3): WideBasic(\n",
       "      (bn1): BatchNorm2d(64, eps=1e-05, momentum=0.1, affine=True, track_running_stats=True)\n",
       "      (conv1): Conv2d(64, 64, kernel_size=(3, 3), stride=(1, 1), padding=(1, 1))\n",
       "      (dropout): Dropout(p=0.3, inplace=False)\n",
       "      (bn2): BatchNorm2d(64, eps=1e-05, momentum=0.1, affine=True, track_running_stats=True)\n",
       "      (conv2): Conv2d(64, 64, kernel_size=(3, 3), stride=(1, 1), padding=(1, 1))\n",
       "      (shortcut): Sequential()\n",
       "    )\n",
       "  )\n",
       "  (layer2): Sequential(\n",
       "    (0): WideBasic(\n",
       "      (bn1): BatchNorm2d(64, eps=1e-05, momentum=0.1, affine=True, track_running_stats=True)\n",
       "      (conv1): Conv2d(64, 128, kernel_size=(3, 3), stride=(1, 1), padding=(1, 1))\n",
       "      (dropout): Dropout(p=0.3, inplace=False)\n",
       "      (bn2): BatchNorm2d(128, eps=1e-05, momentum=0.1, affine=True, track_running_stats=True)\n",
       "      (conv2): Conv2d(128, 128, kernel_size=(3, 3), stride=(2, 2), padding=(1, 1))\n",
       "      (shortcut): Sequential(\n",
       "        (0): Conv2d(64, 128, kernel_size=(1, 1), stride=(2, 2))\n",
       "      )\n",
       "    )\n",
       "    (1): WideBasic(\n",
       "      (bn1): BatchNorm2d(128, eps=1e-05, momentum=0.1, affine=True, track_running_stats=True)\n",
       "      (conv1): Conv2d(128, 128, kernel_size=(3, 3), stride=(1, 1), padding=(1, 1))\n",
       "      (dropout): Dropout(p=0.3, inplace=False)\n",
       "      (bn2): BatchNorm2d(128, eps=1e-05, momentum=0.1, affine=True, track_running_stats=True)\n",
       "      (conv2): Conv2d(128, 128, kernel_size=(3, 3), stride=(1, 1), padding=(1, 1))\n",
       "      (shortcut): Sequential()\n",
       "    )\n",
       "    (2): WideBasic(\n",
       "      (bn1): BatchNorm2d(128, eps=1e-05, momentum=0.1, affine=True, track_running_stats=True)\n",
       "      (conv1): Conv2d(128, 128, kernel_size=(3, 3), stride=(1, 1), padding=(1, 1))\n",
       "      (dropout): Dropout(p=0.3, inplace=False)\n",
       "      (bn2): BatchNorm2d(128, eps=1e-05, momentum=0.1, affine=True, track_running_stats=True)\n",
       "      (conv2): Conv2d(128, 128, kernel_size=(3, 3), stride=(1, 1), padding=(1, 1))\n",
       "      (shortcut): Sequential()\n",
       "    )\n",
       "    (3): WideBasic(\n",
       "      (bn1): BatchNorm2d(128, eps=1e-05, momentum=0.1, affine=True, track_running_stats=True)\n",
       "      (conv1): Conv2d(128, 128, kernel_size=(3, 3), stride=(1, 1), padding=(1, 1))\n",
       "      (dropout): Dropout(p=0.3, inplace=False)\n",
       "      (bn2): BatchNorm2d(128, eps=1e-05, momentum=0.1, affine=True, track_running_stats=True)\n",
       "      (conv2): Conv2d(128, 128, kernel_size=(3, 3), stride=(1, 1), padding=(1, 1))\n",
       "      (shortcut): Sequential()\n",
       "    )\n",
       "  )\n",
       "  (layer3): Sequential(\n",
       "    (0): WideBasic(\n",
       "      (bn1): BatchNorm2d(128, eps=1e-05, momentum=0.1, affine=True, track_running_stats=True)\n",
       "      (conv1): Conv2d(128, 256, kernel_size=(3, 3), stride=(1, 1), padding=(1, 1))\n",
       "      (dropout): Dropout(p=0.3, inplace=False)\n",
       "      (bn2): BatchNorm2d(256, eps=1e-05, momentum=0.1, affine=True, track_running_stats=True)\n",
       "      (conv2): Conv2d(256, 256, kernel_size=(3, 3), stride=(2, 2), padding=(1, 1))\n",
       "      (shortcut): Sequential(\n",
       "        (0): Conv2d(128, 256, kernel_size=(1, 1), stride=(2, 2))\n",
       "      )\n",
       "    )\n",
       "    (1): WideBasic(\n",
       "      (bn1): BatchNorm2d(256, eps=1e-05, momentum=0.1, affine=True, track_running_stats=True)\n",
       "      (conv1): Conv2d(256, 256, kernel_size=(3, 3), stride=(1, 1), padding=(1, 1))\n",
       "      (dropout): Dropout(p=0.3, inplace=False)\n",
       "      (bn2): BatchNorm2d(256, eps=1e-05, momentum=0.1, affine=True, track_running_stats=True)\n",
       "      (conv2): Conv2d(256, 256, kernel_size=(3, 3), stride=(1, 1), padding=(1, 1))\n",
       "      (shortcut): Sequential()\n",
       "    )\n",
       "    (2): WideBasic(\n",
       "      (bn1): BatchNorm2d(256, eps=1e-05, momentum=0.1, affine=True, track_running_stats=True)\n",
       "      (conv1): Conv2d(256, 256, kernel_size=(3, 3), stride=(1, 1), padding=(1, 1))\n",
       "      (dropout): Dropout(p=0.3, inplace=False)\n",
       "      (bn2): BatchNorm2d(256, eps=1e-05, momentum=0.1, affine=True, track_running_stats=True)\n",
       "      (conv2): Conv2d(256, 256, kernel_size=(3, 3), stride=(1, 1), padding=(1, 1))\n",
       "      (shortcut): Sequential()\n",
       "    )\n",
       "    (3): WideBasic(\n",
       "      (bn1): BatchNorm2d(256, eps=1e-05, momentum=0.1, affine=True, track_running_stats=True)\n",
       "      (conv1): Conv2d(256, 256, kernel_size=(3, 3), stride=(1, 1), padding=(1, 1))\n",
       "      (dropout): Dropout(p=0.3, inplace=False)\n",
       "      (bn2): BatchNorm2d(256, eps=1e-05, momentum=0.1, affine=True, track_running_stats=True)\n",
       "      (conv2): Conv2d(256, 256, kernel_size=(3, 3), stride=(1, 1), padding=(1, 1))\n",
       "      (shortcut): Sequential()\n",
       "    )\n",
       "  )\n",
       "  (bn1): BatchNorm2d(256, eps=1e-05, momentum=0.9, affine=True, track_running_stats=True)\n",
       "  (linear): Linear(in_features=256, out_features=100, bias=True)\n",
       ")"
      ]
     },
     "execution_count": 8,
     "metadata": {},
     "output_type": "execute_result"
    }
   ],
   "source": [
    "# Initialize the model\n",
    "net = WideResNet_28_4(num_classes=num_classes)\n",
    "net.to(device)"
   ]
  },
  {
   "cell_type": "code",
   "execution_count": 9,
   "id": "cfeb8c1c",
   "metadata": {
    "execution": {
     "iopub.execute_input": "2024-09-19T12:17:00.409885Z",
     "iopub.status.busy": "2024-09-19T12:17:00.409308Z",
     "iopub.status.idle": "2024-09-19T12:17:00.414843Z",
     "shell.execute_reply": "2024-09-19T12:17:00.414130Z"
    },
    "papermill": {
     "duration": 0.026927,
     "end_time": "2024-09-19T12:17:00.416548",
     "exception": false,
     "start_time": "2024-09-19T12:17:00.389621",
     "status": "completed"
    },
    "tags": []
   },
   "outputs": [],
   "source": [
    "def soft_loss(pred, label, confidence, reweight=False):\n",
    "    log_prob = F.log_softmax(pred, dim=1)\n",
    "    n_class = pred.size(1)\n",
    "\n",
    "    # Make soft one-hot target\n",
    "    label = label.unsqueeze(1)\n",
    "    confidence = confidence.unsqueeze(1).float()\n",
    "    # soft one_hot\n",
    "    one_hot = torch.ones_like(pred) * (1 - confidence) / (n_class - 1)\n",
    "    one_hot.scatter_(dim=1, index=label, src=confidence)\n",
    "    \n",
    "    # hard one_hot\n",
    "#     one_hot = torch.zeros_like(pred)\n",
    "#     one_hot.scatter_(dim=1, index=label, value=1.0)\n",
    "    # Compute weighted KL loss\n",
    "    kl = F.kl_div(input=log_prob, target=one_hot, reduction=\"none\").sum(-1)\n",
    "    kl = kl.unsqueeze(1)  # Unweighted\n",
    "    if reweight:\n",
    "        kl = confidence * kl  # Weighted\n",
    "    return kl.mean()"
   ]
  },
  {
   "cell_type": "code",
   "execution_count": 10,
   "id": "53b5f956",
   "metadata": {
    "execution": {
     "iopub.execute_input": "2024-09-19T12:17:00.454677Z",
     "iopub.status.busy": "2024-09-19T12:17:00.453984Z",
     "iopub.status.idle": "2024-09-19T13:49:03.528657Z",
     "shell.execute_reply": "2024-09-19T13:49:03.527187Z"
    },
    "papermill": {
     "duration": 5523.096607,
     "end_time": "2024-09-19T13:49:03.531350",
     "exception": false,
     "start_time": "2024-09-19T12:17:00.434743",
     "status": "completed"
    },
    "tags": []
   },
   "outputs": [
    {
     "name": "stdout",
     "output_type": "stream",
     "text": [
      "\n",
      "Start Training...\n",
      "\n"
     ]
    },
    {
     "name": "stderr",
     "output_type": "stream",
     "text": [
      "/usr/local/lib/python3.10/site-packages/torch/autograd/graph.py:768: UserWarning: aten::kl_div: an autograd kernel was not registered to the Autograd key(s) but we are trying to backprop through it. This may lead to silently incorrect behavior. This behavior is deprecated and will be removed in a future version of PyTorch. If your operator is differentiable, please ensure you have registered an autograd kernel to the correct Autograd key (e.g. DispatchKey::Autograd, DispatchKey::CompositeImplicitAutograd). If your operator is not differentiable, or to squash this warning and use the previous behavior, please register torch::CppFunction::makeFallthrough() to DispatchKey::Autograd. (Triggered internally at ../torch/csrc/autograd/autograd_not_implemented_fallback.cpp:63.)\n",
      "  return Variable._execution_engine.run_backward(  # Calls into the C++ engine to run the backward pass\n"
     ]
    },
    {
     "name": "stdout",
     "output_type": "stream",
     "text": [
      "\n",
      "Epoch 1 - Loss: 2.615 - Test Accuracy:  6.250\n",
      "\n",
      "Processing time:  84.154927 seconds.\n"
     ]
    },
    {
     "name": "stdout",
     "output_type": "stream",
     "text": [
      "\n",
      "Epoch 2 - Loss: 2.475 - Test Accuracy:  7.350\n",
      "\n",
      "Processing time:  45.602261 seconds.\n"
     ]
    },
    {
     "name": "stdout",
     "output_type": "stream",
     "text": [
      "\n",
      "Epoch 3 - Loss: 2.390 - Test Accuracy:  6.550\n",
      "\n",
      "Processing time:  26.955644 seconds.\n"
     ]
    },
    {
     "name": "stdout",
     "output_type": "stream",
     "text": [
      "\n",
      "Epoch 4 - Loss: 2.323 - Test Accuracy:  13.910\n",
      "\n",
      "Processing time:  26.561466 seconds.\n"
     ]
    },
    {
     "name": "stdout",
     "output_type": "stream",
     "text": [
      "\n",
      "Epoch 5 - Loss: 2.249 - Test Accuracy:  15.780\n",
      "\n",
      "Processing time:  27.426883 seconds.\n"
     ]
    },
    {
     "name": "stdout",
     "output_type": "stream",
     "text": [
      "\n",
      "Epoch 6 - Loss: 2.165 - Test Accuracy:  17.870\n",
      "\n",
      "Processing time:  27.825058 seconds.\n"
     ]
    },
    {
     "name": "stdout",
     "output_type": "stream",
     "text": [
      "\n",
      "Epoch 7 - Loss: 2.077 - Test Accuracy:  18.320\n",
      "\n",
      "Processing time:  27.569130 seconds.\n"
     ]
    },
    {
     "name": "stdout",
     "output_type": "stream",
     "text": [
      "\n",
      "Epoch 8 - Loss: 2.016 - Test Accuracy:  15.770\n",
      "\n",
      "Processing time:  27.164812 seconds.\n"
     ]
    },
    {
     "name": "stdout",
     "output_type": "stream",
     "text": [
      "\n",
      "Epoch 9 - Loss: 1.961 - Test Accuracy:  21.170\n",
      "\n",
      "Processing time:  27.335320 seconds.\n"
     ]
    },
    {
     "name": "stdout",
     "output_type": "stream",
     "text": [
      "\n",
      "Epoch 10 - Loss: 1.888 - Test Accuracy:  24.190\n",
      "\n",
      "Processing time:  27.555720 seconds.\n"
     ]
    },
    {
     "name": "stdout",
     "output_type": "stream",
     "text": [
      "\n",
      "Epoch 11 - Loss: 1.830 - Test Accuracy:  27.800\n",
      "\n",
      "Processing time:  26.846256 seconds.\n"
     ]
    },
    {
     "name": "stdout",
     "output_type": "stream",
     "text": [
      "\n",
      "Epoch 12 - Loss: 1.785 - Test Accuracy:  27.450\n",
      "\n",
      "Processing time:  27.497659 seconds.\n"
     ]
    },
    {
     "name": "stdout",
     "output_type": "stream",
     "text": [
      "\n",
      "Epoch 13 - Loss: 1.753 - Test Accuracy:  28.670\n",
      "\n",
      "Processing time:  27.508964 seconds.\n"
     ]
    },
    {
     "name": "stdout",
     "output_type": "stream",
     "text": [
      "\n",
      "Epoch 14 - Loss: 1.706 - Test Accuracy:  23.020\n",
      "\n",
      "Processing time:  27.050736 seconds.\n"
     ]
    },
    {
     "name": "stdout",
     "output_type": "stream",
     "text": [
      "\n",
      "Epoch 15 - Loss: 1.668 - Test Accuracy:  36.300\n",
      "\n",
      "Processing time:  27.054889 seconds.\n"
     ]
    },
    {
     "name": "stdout",
     "output_type": "stream",
     "text": [
      "\n",
      "Epoch 16 - Loss: 1.644 - Test Accuracy:  38.860\n",
      "\n",
      "Processing time:  26.634837 seconds.\n"
     ]
    },
    {
     "name": "stdout",
     "output_type": "stream",
     "text": [
      "\n",
      "Epoch 17 - Loss: 1.611 - Test Accuracy:  35.210\n",
      "\n",
      "Processing time:  26.685045 seconds.\n"
     ]
    },
    {
     "name": "stdout",
     "output_type": "stream",
     "text": [
      "\n",
      "Epoch 18 - Loss: 1.572 - Test Accuracy:  37.550\n",
      "\n",
      "Processing time:  26.870980 seconds.\n"
     ]
    },
    {
     "name": "stdout",
     "output_type": "stream",
     "text": [
      "\n",
      "Epoch 19 - Loss: 1.542 - Test Accuracy:  42.260\n",
      "\n",
      "Processing time:  26.839531 seconds.\n"
     ]
    },
    {
     "name": "stdout",
     "output_type": "stream",
     "text": [
      "\n",
      "Epoch 20 - Loss: 1.513 - Test Accuracy:  43.630\n",
      "\n",
      "Processing time:  28.676242 seconds.\n"
     ]
    },
    {
     "name": "stdout",
     "output_type": "stream",
     "text": [
      "\n",
      "Epoch 21 - Loss: 1.494 - Test Accuracy:  43.900\n",
      "\n",
      "Processing time:  26.565831 seconds.\n"
     ]
    },
    {
     "name": "stdout",
     "output_type": "stream",
     "text": [
      "\n",
      "Epoch 22 - Loss: 1.470 - Test Accuracy:  46.700\n",
      "\n",
      "Processing time:  28.000363 seconds.\n"
     ]
    },
    {
     "name": "stdout",
     "output_type": "stream",
     "text": [
      "\n",
      "Epoch 23 - Loss: 1.449 - Test Accuracy:  50.280\n",
      "\n",
      "Processing time:  27.456641 seconds.\n"
     ]
    },
    {
     "name": "stdout",
     "output_type": "stream",
     "text": [
      "\n",
      "Epoch 24 - Loss: 1.431 - Test Accuracy:  48.640\n",
      "\n",
      "Processing time:  27.357929 seconds.\n"
     ]
    },
    {
     "name": "stdout",
     "output_type": "stream",
     "text": [
      "\n",
      "Epoch 25 - Loss: 1.414 - Test Accuracy:  47.490\n",
      "\n",
      "Processing time:  27.684407 seconds.\n"
     ]
    },
    {
     "name": "stdout",
     "output_type": "stream",
     "text": [
      "\n",
      "Epoch 26 - Loss: 1.390 - Test Accuracy:  51.200\n",
      "\n",
      "Processing time:  27.083813 seconds.\n"
     ]
    },
    {
     "name": "stdout",
     "output_type": "stream",
     "text": [
      "\n",
      "Epoch 27 - Loss: 1.379 - Test Accuracy:  53.670\n",
      "\n",
      "Processing time:  27.289646 seconds.\n"
     ]
    },
    {
     "name": "stdout",
     "output_type": "stream",
     "text": [
      "\n",
      "Epoch 28 - Loss: 1.358 - Test Accuracy:  54.570\n",
      "\n",
      "Processing time:  27.597906 seconds.\n"
     ]
    },
    {
     "name": "stdout",
     "output_type": "stream",
     "text": [
      "\n",
      "Epoch 29 - Loss: 1.341 - Test Accuracy:  51.780\n",
      "\n",
      "Processing time:  27.753752 seconds.\n"
     ]
    },
    {
     "name": "stdout",
     "output_type": "stream",
     "text": [
      "\n",
      "Epoch 30 - Loss: 1.321 - Test Accuracy:  54.040\n",
      "\n",
      "Processing time:  27.396006 seconds.\n"
     ]
    },
    {
     "name": "stdout",
     "output_type": "stream",
     "text": [
      "\n",
      "Epoch 31 - Loss: 1.305 - Test Accuracy:  55.270\n",
      "\n",
      "Processing time:  27.163989 seconds.\n"
     ]
    },
    {
     "name": "stdout",
     "output_type": "stream",
     "text": [
      "\n",
      "Epoch 32 - Loss: 1.288 - Test Accuracy:  51.060\n",
      "\n",
      "Processing time:  27.183824 seconds.\n"
     ]
    },
    {
     "name": "stdout",
     "output_type": "stream",
     "text": [
      "\n",
      "Epoch 33 - Loss: 1.279 - Test Accuracy:  55.290\n",
      "\n",
      "Processing time:  27.137231 seconds.\n"
     ]
    },
    {
     "name": "stdout",
     "output_type": "stream",
     "text": [
      "\n",
      "Epoch 34 - Loss: 1.273 - Test Accuracy:  54.660\n",
      "\n",
      "Processing time:  27.134430 seconds.\n"
     ]
    },
    {
     "name": "stdout",
     "output_type": "stream",
     "text": [
      "\n",
      "Epoch 35 - Loss: 1.255 - Test Accuracy:  50.770\n",
      "\n",
      "Processing time:  26.923579 seconds.\n"
     ]
    },
    {
     "name": "stdout",
     "output_type": "stream",
     "text": [
      "\n",
      "Epoch 36 - Loss: 1.251 - Test Accuracy:  57.650\n",
      "\n",
      "Processing time:  27.292077 seconds.\n"
     ]
    },
    {
     "name": "stdout",
     "output_type": "stream",
     "text": [
      "\n",
      "Epoch 37 - Loss: 1.237 - Test Accuracy:  54.630\n",
      "\n",
      "Processing time:  27.296333 seconds.\n"
     ]
    },
    {
     "name": "stdout",
     "output_type": "stream",
     "text": [
      "\n",
      "Epoch 38 - Loss: 1.233 - Test Accuracy:  52.890\n",
      "\n",
      "Processing time:  27.421734 seconds.\n"
     ]
    },
    {
     "name": "stdout",
     "output_type": "stream",
     "text": [
      "\n",
      "Epoch 39 - Loss: 1.208 - Test Accuracy:  59.800\n",
      "\n",
      "Processing time:  27.962859 seconds.\n"
     ]
    },
    {
     "name": "stdout",
     "output_type": "stream",
     "text": [
      "\n",
      "Epoch 40 - Loss: 1.203 - Test Accuracy:  59.730\n",
      "\n",
      "Processing time:  27.474598 seconds.\n"
     ]
    },
    {
     "name": "stdout",
     "output_type": "stream",
     "text": [
      "\n",
      "Epoch 41 - Loss: 1.200 - Test Accuracy:  61.110\n",
      "\n",
      "Processing time:  27.344471 seconds.\n"
     ]
    },
    {
     "name": "stdout",
     "output_type": "stream",
     "text": [
      "\n",
      "Epoch 42 - Loss: 1.191 - Test Accuracy:  61.530\n",
      "\n",
      "Processing time:  27.255035 seconds.\n"
     ]
    },
    {
     "name": "stdout",
     "output_type": "stream",
     "text": [
      "\n",
      "Epoch 43 - Loss: 1.171 - Test Accuracy:  58.470\n",
      "\n",
      "Processing time:  27.163742 seconds.\n"
     ]
    },
    {
     "name": "stdout",
     "output_type": "stream",
     "text": [
      "\n",
      "Epoch 44 - Loss: 1.163 - Test Accuracy:  62.170\n",
      "\n",
      "Processing time:  27.207689 seconds.\n"
     ]
    },
    {
     "name": "stdout",
     "output_type": "stream",
     "text": [
      "\n",
      "Epoch 45 - Loss: 1.155 - Test Accuracy:  63.680\n",
      "\n",
      "Processing time:  27.175830 seconds.\n"
     ]
    },
    {
     "name": "stdout",
     "output_type": "stream",
     "text": [
      "\n",
      "Epoch 46 - Loss: 1.148 - Test Accuracy:  60.330\n",
      "\n",
      "Processing time:  26.867041 seconds.\n"
     ]
    },
    {
     "name": "stdout",
     "output_type": "stream",
     "text": [
      "\n",
      "Epoch 47 - Loss: 1.142 - Test Accuracy:  62.570\n",
      "\n",
      "Processing time:  27.453389 seconds.\n"
     ]
    },
    {
     "name": "stdout",
     "output_type": "stream",
     "text": [
      "\n",
      "Epoch 48 - Loss: 1.140 - Test Accuracy:  62.370\n",
      "\n",
      "Processing time:  27.337266 seconds.\n"
     ]
    },
    {
     "name": "stdout",
     "output_type": "stream",
     "text": [
      "\n",
      "Epoch 49 - Loss: 1.128 - Test Accuracy:  64.310\n",
      "\n",
      "Processing time:  27.118519 seconds.\n"
     ]
    },
    {
     "name": "stdout",
     "output_type": "stream",
     "text": [
      "\n",
      "Epoch 50 - Loss: 1.123 - Test Accuracy:  64.040\n",
      "\n",
      "Processing time:  27.472158 seconds.\n"
     ]
    },
    {
     "name": "stdout",
     "output_type": "stream",
     "text": [
      "\n",
      "Epoch 51 - Loss: 1.111 - Test Accuracy:  64.860\n",
      "\n",
      "Processing time:  27.099596 seconds.\n"
     ]
    },
    {
     "name": "stdout",
     "output_type": "stream",
     "text": [
      "\n",
      "Epoch 52 - Loss: 1.108 - Test Accuracy:  62.860\n",
      "\n",
      "Processing time:  26.962696 seconds.\n"
     ]
    },
    {
     "name": "stdout",
     "output_type": "stream",
     "text": [
      "\n",
      "Epoch 53 - Loss: 1.102 - Test Accuracy:  64.480\n",
      "\n",
      "Processing time:  28.097005 seconds.\n"
     ]
    },
    {
     "name": "stdout",
     "output_type": "stream",
     "text": [
      "\n",
      "Epoch 54 - Loss: 1.092 - Test Accuracy:  63.650\n",
      "\n",
      "Processing time:  27.052532 seconds.\n"
     ]
    },
    {
     "name": "stdout",
     "output_type": "stream",
     "text": [
      "\n",
      "Epoch 55 - Loss: 1.080 - Test Accuracy:  64.600\n",
      "\n",
      "Processing time:  27.121805 seconds.\n"
     ]
    },
    {
     "name": "stdout",
     "output_type": "stream",
     "text": [
      "\n",
      "Epoch 56 - Loss: 1.088 - Test Accuracy:  65.120\n",
      "\n",
      "Processing time:  27.142704 seconds.\n"
     ]
    },
    {
     "name": "stdout",
     "output_type": "stream",
     "text": [
      "\n",
      "Epoch 57 - Loss: 1.077 - Test Accuracy:  66.060\n",
      "\n",
      "Processing time:  27.314635 seconds.\n"
     ]
    },
    {
     "name": "stdout",
     "output_type": "stream",
     "text": [
      "\n",
      "Epoch 58 - Loss: 1.065 - Test Accuracy:  66.410\n",
      "\n",
      "Processing time:  27.881730 seconds.\n"
     ]
    },
    {
     "name": "stdout",
     "output_type": "stream",
     "text": [
      "\n",
      "Epoch 59 - Loss: 1.072 - Test Accuracy:  67.090\n",
      "\n",
      "Processing time:  27.296336 seconds.\n"
     ]
    },
    {
     "name": "stdout",
     "output_type": "stream",
     "text": [
      "\n",
      "Epoch 60 - Loss: 1.059 - Test Accuracy:  65.700\n",
      "\n",
      "Processing time:  27.146246 seconds.\n"
     ]
    },
    {
     "name": "stdout",
     "output_type": "stream",
     "text": [
      "\n",
      "Epoch 61 - Loss: 1.054 - Test Accuracy:  64.690\n",
      "\n",
      "Processing time:  26.907403 seconds.\n"
     ]
    },
    {
     "name": "stdout",
     "output_type": "stream",
     "text": [
      "\n",
      "Epoch 62 - Loss: 1.046 - Test Accuracy:  67.210\n",
      "\n",
      "Processing time:  27.321709 seconds.\n"
     ]
    },
    {
     "name": "stdout",
     "output_type": "stream",
     "text": [
      "\n",
      "Epoch 63 - Loss: 1.041 - Test Accuracy:  66.030\n",
      "\n",
      "Processing time:  27.361566 seconds.\n"
     ]
    },
    {
     "name": "stdout",
     "output_type": "stream",
     "text": [
      "\n",
      "Epoch 64 - Loss: 1.036 - Test Accuracy:  66.900\n",
      "\n",
      "Processing time:  27.068208 seconds.\n"
     ]
    },
    {
     "name": "stdout",
     "output_type": "stream",
     "text": [
      "\n",
      "Epoch 65 - Loss: 1.034 - Test Accuracy:  65.790\n",
      "\n",
      "Processing time:  27.015110 seconds.\n"
     ]
    },
    {
     "name": "stdout",
     "output_type": "stream",
     "text": [
      "\n",
      "Epoch 66 - Loss: 1.023 - Test Accuracy:  63.400\n",
      "\n",
      "Processing time:  27.304168 seconds.\n"
     ]
    },
    {
     "name": "stdout",
     "output_type": "stream",
     "text": [
      "\n",
      "Epoch 67 - Loss: 1.017 - Test Accuracy:  68.790\n",
      "\n",
      "Processing time:  26.878584 seconds.\n"
     ]
    },
    {
     "name": "stdout",
     "output_type": "stream",
     "text": [
      "\n",
      "Epoch 68 - Loss: 1.022 - Test Accuracy:  66.090\n",
      "\n",
      "Processing time:  27.081679 seconds.\n"
     ]
    },
    {
     "name": "stdout",
     "output_type": "stream",
     "text": [
      "\n",
      "Epoch 69 - Loss: 1.007 - Test Accuracy:  65.060\n",
      "\n",
      "Processing time:  27.224458 seconds.\n"
     ]
    },
    {
     "name": "stdout",
     "output_type": "stream",
     "text": [
      "\n",
      "Epoch 70 - Loss: 1.004 - Test Accuracy:  66.730\n",
      "\n",
      "Processing time:  27.127944 seconds.\n"
     ]
    },
    {
     "name": "stdout",
     "output_type": "stream",
     "text": [
      "\n",
      "Epoch 71 - Loss: 0.998 - Test Accuracy:  68.690\n",
      "\n",
      "Processing time:  28.295480 seconds.\n"
     ]
    },
    {
     "name": "stdout",
     "output_type": "stream",
     "text": [
      "\n",
      "Epoch 72 - Loss: 0.996 - Test Accuracy:  68.230\n",
      "\n",
      "Processing time:  27.073976 seconds.\n"
     ]
    },
    {
     "name": "stdout",
     "output_type": "stream",
     "text": [
      "\n",
      "Epoch 73 - Loss: 0.992 - Test Accuracy:  67.930\n",
      "\n",
      "Processing time:  27.209277 seconds.\n"
     ]
    },
    {
     "name": "stdout",
     "output_type": "stream",
     "text": [
      "\n",
      "Epoch 74 - Loss: 0.990 - Test Accuracy:  67.890\n",
      "\n",
      "Processing time:  26.994525 seconds.\n"
     ]
    },
    {
     "name": "stdout",
     "output_type": "stream",
     "text": [
      "\n",
      "Epoch 75 - Loss: 0.995 - Test Accuracy:  68.950\n",
      "\n",
      "Processing time:  26.908740 seconds.\n"
     ]
    },
    {
     "name": "stdout",
     "output_type": "stream",
     "text": [
      "\n",
      "Epoch 76 - Loss: 0.986 - Test Accuracy:  68.450\n",
      "\n",
      "Processing time:  27.316437 seconds.\n"
     ]
    },
    {
     "name": "stdout",
     "output_type": "stream",
     "text": [
      "\n",
      "Epoch 77 - Loss: 0.971 - Test Accuracy:  66.970\n",
      "\n",
      "Processing time:  27.248324 seconds.\n"
     ]
    },
    {
     "name": "stdout",
     "output_type": "stream",
     "text": [
      "\n",
      "Epoch 78 - Loss: 0.977 - Test Accuracy:  68.050\n",
      "\n",
      "Processing time:  28.389045 seconds.\n"
     ]
    },
    {
     "name": "stdout",
     "output_type": "stream",
     "text": [
      "\n",
      "Epoch 79 - Loss: 0.975 - Test Accuracy:  68.780\n",
      "\n",
      "Processing time:  27.391973 seconds.\n"
     ]
    },
    {
     "name": "stdout",
     "output_type": "stream",
     "text": [
      "\n",
      "Epoch 80 - Loss: 0.960 - Test Accuracy:  70.110\n",
      "\n",
      "Processing time:  27.154145 seconds.\n"
     ]
    },
    {
     "name": "stdout",
     "output_type": "stream",
     "text": [
      "\n",
      "Epoch 81 - Loss: 0.955 - Test Accuracy:  66.720\n",
      "\n",
      "Processing time:  26.745547 seconds.\n"
     ]
    },
    {
     "name": "stdout",
     "output_type": "stream",
     "text": [
      "\n",
      "Epoch 82 - Loss: 0.947 - Test Accuracy:  69.260\n",
      "\n",
      "Processing time:  27.026509 seconds.\n"
     ]
    },
    {
     "name": "stdout",
     "output_type": "stream",
     "text": [
      "\n",
      "Epoch 83 - Loss: 0.951 - Test Accuracy:  68.890\n",
      "\n",
      "Processing time:  27.591366 seconds.\n"
     ]
    },
    {
     "name": "stdout",
     "output_type": "stream",
     "text": [
      "\n",
      "Epoch 84 - Loss: 0.941 - Test Accuracy:  70.800\n",
      "\n",
      "Processing time:  27.284230 seconds.\n"
     ]
    },
    {
     "name": "stdout",
     "output_type": "stream",
     "text": [
      "\n",
      "Epoch 85 - Loss: 0.944 - Test Accuracy:  68.050\n",
      "\n",
      "Processing time:  27.150586 seconds.\n"
     ]
    },
    {
     "name": "stdout",
     "output_type": "stream",
     "text": [
      "\n",
      "Epoch 86 - Loss: 0.934 - Test Accuracy:  68.620\n",
      "\n",
      "Processing time:  27.180519 seconds.\n"
     ]
    },
    {
     "name": "stdout",
     "output_type": "stream",
     "text": [
      "\n",
      "Epoch 87 - Loss: 0.937 - Test Accuracy:  68.140\n",
      "\n",
      "Processing time:  27.344117 seconds.\n"
     ]
    },
    {
     "name": "stdout",
     "output_type": "stream",
     "text": [
      "\n",
      "Epoch 88 - Loss: 0.927 - Test Accuracy:  69.350\n",
      "\n",
      "Processing time:  27.230491 seconds.\n"
     ]
    },
    {
     "name": "stdout",
     "output_type": "stream",
     "text": [
      "\n",
      "Epoch 89 - Loss: 0.922 - Test Accuracy:  69.840\n",
      "\n",
      "Processing time:  26.862379 seconds.\n"
     ]
    },
    {
     "name": "stdout",
     "output_type": "stream",
     "text": [
      "\n",
      "Epoch 90 - Loss: 0.927 - Test Accuracy:  69.380\n",
      "\n",
      "Processing time:  27.171248 seconds.\n"
     ]
    },
    {
     "name": "stdout",
     "output_type": "stream",
     "text": [
      "\n",
      "Epoch 91 - Loss: 0.914 - Test Accuracy:  69.700\n",
      "\n",
      "Processing time:  26.772845 seconds.\n"
     ]
    },
    {
     "name": "stdout",
     "output_type": "stream",
     "text": [
      "\n",
      "Epoch 92 - Loss: 0.910 - Test Accuracy:  70.590\n",
      "\n",
      "Processing time:  27.183671 seconds.\n"
     ]
    },
    {
     "name": "stdout",
     "output_type": "stream",
     "text": [
      "\n",
      "Epoch 93 - Loss: 0.910 - Test Accuracy:  71.290\n",
      "\n",
      "Processing time:  27.206558 seconds.\n"
     ]
    },
    {
     "name": "stdout",
     "output_type": "stream",
     "text": [
      "\n",
      "Epoch 94 - Loss: 0.907 - Test Accuracy:  70.640\n",
      "\n",
      "Processing time:  27.305888 seconds.\n"
     ]
    },
    {
     "name": "stdout",
     "output_type": "stream",
     "text": [
      "\n",
      "Epoch 95 - Loss: 0.910 - Test Accuracy:  70.250\n",
      "\n",
      "Processing time:  27.979586 seconds.\n"
     ]
    },
    {
     "name": "stdout",
     "output_type": "stream",
     "text": [
      "\n",
      "Epoch 96 - Loss: 0.900 - Test Accuracy:  71.500\n",
      "\n",
      "Processing time:  27.715095 seconds.\n"
     ]
    },
    {
     "name": "stdout",
     "output_type": "stream",
     "text": [
      "\n",
      "Epoch 97 - Loss: 0.893 - Test Accuracy:  70.250\n",
      "\n",
      "Processing time:  26.841836 seconds.\n"
     ]
    },
    {
     "name": "stdout",
     "output_type": "stream",
     "text": [
      "\n",
      "Epoch 98 - Loss: 0.889 - Test Accuracy:  70.480\n",
      "\n",
      "Processing time:  28.615296 seconds.\n"
     ]
    },
    {
     "name": "stdout",
     "output_type": "stream",
     "text": [
      "\n",
      "Epoch 99 - Loss: 0.887 - Test Accuracy:  70.530\n",
      "\n",
      "Processing time:  27.181635 seconds.\n"
     ]
    },
    {
     "name": "stdout",
     "output_type": "stream",
     "text": [
      "\n",
      "Epoch 100 - Loss: 0.880 - Test Accuracy:  70.710\n",
      "\n",
      "Processing time:  26.838127 seconds.\n"
     ]
    },
    {
     "name": "stdout",
     "output_type": "stream",
     "text": [
      "\n",
      "Epoch 101 - Loss: 0.868 - Test Accuracy:  70.640\n",
      "\n",
      "Processing time:  27.526618 seconds.\n"
     ]
    },
    {
     "name": "stdout",
     "output_type": "stream",
     "text": [
      "\n",
      "Epoch 102 - Loss: 0.876 - Test Accuracy:  72.070\n",
      "\n",
      "Processing time:  26.997325 seconds.\n"
     ]
    },
    {
     "name": "stdout",
     "output_type": "stream",
     "text": [
      "\n",
      "Epoch 103 - Loss: 0.871 - Test Accuracy:  70.420\n",
      "\n",
      "Processing time:  27.440679 seconds.\n"
     ]
    },
    {
     "name": "stdout",
     "output_type": "stream",
     "text": [
      "\n",
      "Epoch 104 - Loss: 0.860 - Test Accuracy:  71.880\n",
      "\n",
      "Processing time:  27.218249 seconds.\n"
     ]
    },
    {
     "name": "stdout",
     "output_type": "stream",
     "text": [
      "\n",
      "Epoch 105 - Loss: 0.863 - Test Accuracy:  72.630\n",
      "\n",
      "Processing time:  27.177811 seconds.\n"
     ]
    },
    {
     "name": "stdout",
     "output_type": "stream",
     "text": [
      "\n",
      "Epoch 106 - Loss: 0.858 - Test Accuracy:  71.900\n",
      "\n",
      "Processing time:  26.901878 seconds.\n"
     ]
    },
    {
     "name": "stdout",
     "output_type": "stream",
     "text": [
      "\n",
      "Epoch 107 - Loss: 0.853 - Test Accuracy:  72.890\n",
      "\n",
      "Processing time:  27.566954 seconds.\n"
     ]
    },
    {
     "name": "stdout",
     "output_type": "stream",
     "text": [
      "\n",
      "Epoch 108 - Loss: 0.846 - Test Accuracy:  72.330\n",
      "\n",
      "Processing time:  27.222156 seconds.\n"
     ]
    },
    {
     "name": "stdout",
     "output_type": "stream",
     "text": [
      "\n",
      "Epoch 109 - Loss: 0.837 - Test Accuracy:  73.490\n",
      "\n",
      "Processing time:  27.204033 seconds.\n"
     ]
    },
    {
     "name": "stdout",
     "output_type": "stream",
     "text": [
      "\n",
      "Epoch 110 - Loss: 0.832 - Test Accuracy:  72.680\n",
      "\n",
      "Processing time:  26.745618 seconds.\n"
     ]
    },
    {
     "name": "stdout",
     "output_type": "stream",
     "text": [
      "\n",
      "Epoch 111 - Loss: 0.835 - Test Accuracy:  71.780\n",
      "\n",
      "Processing time:  26.446779 seconds.\n"
     ]
    },
    {
     "name": "stdout",
     "output_type": "stream",
     "text": [
      "\n",
      "Epoch 112 - Loss: 0.834 - Test Accuracy:  72.110\n",
      "\n",
      "Processing time:  27.114032 seconds.\n"
     ]
    },
    {
     "name": "stdout",
     "output_type": "stream",
     "text": [
      "\n",
      "Epoch 113 - Loss: 0.825 - Test Accuracy:  73.120\n",
      "\n",
      "Processing time:  27.548969 seconds.\n"
     ]
    },
    {
     "name": "stdout",
     "output_type": "stream",
     "text": [
      "\n",
      "Epoch 114 - Loss: 0.829 - Test Accuracy:  73.710\n",
      "\n",
      "Processing time:  27.192523 seconds.\n"
     ]
    },
    {
     "name": "stdout",
     "output_type": "stream",
     "text": [
      "\n",
      "Epoch 115 - Loss: 0.826 - Test Accuracy:  74.060\n",
      "\n",
      "Processing time:  27.272618 seconds.\n"
     ]
    },
    {
     "name": "stdout",
     "output_type": "stream",
     "text": [
      "\n",
      "Epoch 116 - Loss: 0.810 - Test Accuracy:  74.270\n",
      "\n",
      "Processing time:  27.344464 seconds.\n"
     ]
    },
    {
     "name": "stdout",
     "output_type": "stream",
     "text": [
      "\n",
      "Epoch 117 - Loss: 0.813 - Test Accuracy:  73.840\n",
      "\n",
      "Processing time:  27.082280 seconds.\n"
     ]
    },
    {
     "name": "stdout",
     "output_type": "stream",
     "text": [
      "\n",
      "Epoch 118 - Loss: 0.804 - Test Accuracy:  74.030\n",
      "\n",
      "Processing time:  26.794782 seconds.\n"
     ]
    },
    {
     "name": "stdout",
     "output_type": "stream",
     "text": [
      "\n",
      "Epoch 119 - Loss: 0.806 - Test Accuracy:  74.100\n",
      "\n",
      "Processing time:  27.515498 seconds.\n"
     ]
    },
    {
     "name": "stdout",
     "output_type": "stream",
     "text": [
      "\n",
      "Epoch 120 - Loss: 0.793 - Test Accuracy:  73.000\n",
      "\n",
      "Processing time:  27.461125 seconds.\n"
     ]
    },
    {
     "name": "stdout",
     "output_type": "stream",
     "text": [
      "\n",
      "Epoch 121 - Loss: 0.795 - Test Accuracy:  74.480\n",
      "\n",
      "Processing time:  27.350966 seconds.\n"
     ]
    },
    {
     "name": "stdout",
     "output_type": "stream",
     "text": [
      "\n",
      "Epoch 122 - Loss: 0.799 - Test Accuracy:  72.890\n",
      "\n",
      "Processing time:  27.448387 seconds.\n"
     ]
    },
    {
     "name": "stdout",
     "output_type": "stream",
     "text": [
      "\n",
      "Epoch 123 - Loss: 0.794 - Test Accuracy:  72.110\n",
      "\n",
      "Processing time:  27.196767 seconds.\n"
     ]
    },
    {
     "name": "stdout",
     "output_type": "stream",
     "text": [
      "\n",
      "Epoch 124 - Loss: 0.784 - Test Accuracy:  72.580\n",
      "\n",
      "Processing time:  27.359209 seconds.\n"
     ]
    },
    {
     "name": "stdout",
     "output_type": "stream",
     "text": [
      "\n",
      "Epoch 125 - Loss: 0.784 - Test Accuracy:  73.270\n",
      "\n",
      "Processing time:  27.303764 seconds.\n"
     ]
    },
    {
     "name": "stdout",
     "output_type": "stream",
     "text": [
      "\n",
      "Epoch 126 - Loss: 0.780 - Test Accuracy:  74.390\n",
      "\n",
      "Processing time:  27.391634 seconds.\n"
     ]
    },
    {
     "name": "stdout",
     "output_type": "stream",
     "text": [
      "\n",
      "Epoch 127 - Loss: 0.777 - Test Accuracy:  73.930\n",
      "\n",
      "Processing time:  27.039806 seconds.\n"
     ]
    },
    {
     "name": "stdout",
     "output_type": "stream",
     "text": [
      "\n",
      "Epoch 128 - Loss: 0.775 - Test Accuracy:  75.330\n",
      "\n",
      "Processing time:  27.296201 seconds.\n"
     ]
    },
    {
     "name": "stdout",
     "output_type": "stream",
     "text": [
      "\n",
      "Epoch 129 - Loss: 0.763 - Test Accuracy:  74.260\n",
      "\n",
      "Processing time:  27.171771 seconds.\n"
     ]
    },
    {
     "name": "stdout",
     "output_type": "stream",
     "text": [
      "\n",
      "Epoch 130 - Loss: 0.761 - Test Accuracy:  75.070\n",
      "\n",
      "Processing time:  27.092420 seconds.\n"
     ]
    },
    {
     "name": "stdout",
     "output_type": "stream",
     "text": [
      "\n",
      "Epoch 131 - Loss: 0.754 - Test Accuracy:  74.420\n",
      "\n",
      "Processing time:  27.040208 seconds.\n"
     ]
    },
    {
     "name": "stdout",
     "output_type": "stream",
     "text": [
      "\n",
      "Epoch 132 - Loss: 0.751 - Test Accuracy:  75.180\n",
      "\n",
      "Processing time:  27.067102 seconds.\n"
     ]
    },
    {
     "name": "stdout",
     "output_type": "stream",
     "text": [
      "\n",
      "Epoch 133 - Loss: 0.748 - Test Accuracy:  74.440\n",
      "\n",
      "Processing time:  27.260680 seconds.\n"
     ]
    },
    {
     "name": "stdout",
     "output_type": "stream",
     "text": [
      "\n",
      "Epoch 134 - Loss: 0.746 - Test Accuracy:  74.780\n",
      "\n",
      "Processing time:  27.110393 seconds.\n"
     ]
    },
    {
     "name": "stdout",
     "output_type": "stream",
     "text": [
      "\n",
      "Epoch 135 - Loss: 0.748 - Test Accuracy:  75.450\n",
      "\n",
      "Processing time:  27.378063 seconds.\n"
     ]
    },
    {
     "name": "stdout",
     "output_type": "stream",
     "text": [
      "\n",
      "Epoch 136 - Loss: 0.736 - Test Accuracy:  76.240\n",
      "\n",
      "Processing time:  27.234685 seconds.\n"
     ]
    },
    {
     "name": "stdout",
     "output_type": "stream",
     "text": [
      "\n",
      "Epoch 137 - Loss: 0.736 - Test Accuracy:  76.670\n",
      "\n",
      "Processing time:  27.618588 seconds.\n"
     ]
    },
    {
     "name": "stdout",
     "output_type": "stream",
     "text": [
      "\n",
      "Epoch 138 - Loss: 0.737 - Test Accuracy:  74.830\n",
      "\n",
      "Processing time:  27.296749 seconds.\n"
     ]
    },
    {
     "name": "stdout",
     "output_type": "stream",
     "text": [
      "\n",
      "Epoch 139 - Loss: 0.721 - Test Accuracy:  75.900\n",
      "\n",
      "Processing time:  27.202287 seconds.\n"
     ]
    },
    {
     "name": "stdout",
     "output_type": "stream",
     "text": [
      "\n",
      "Epoch 140 - Loss: 0.719 - Test Accuracy:  75.200\n",
      "\n",
      "Processing time:  27.293751 seconds.\n"
     ]
    },
    {
     "name": "stdout",
     "output_type": "stream",
     "text": [
      "\n",
      "Epoch 141 - Loss: 0.724 - Test Accuracy:  75.770\n",
      "\n",
      "Processing time:  27.516071 seconds.\n"
     ]
    },
    {
     "name": "stdout",
     "output_type": "stream",
     "text": [
      "\n",
      "Epoch 142 - Loss: 0.717 - Test Accuracy:  75.650\n",
      "\n",
      "Processing time:  27.299917 seconds.\n"
     ]
    },
    {
     "name": "stdout",
     "output_type": "stream",
     "text": [
      "\n",
      "Epoch 143 - Loss: 0.714 - Test Accuracy:  75.750\n",
      "\n",
      "Processing time:  26.986438 seconds.\n"
     ]
    },
    {
     "name": "stdout",
     "output_type": "stream",
     "text": [
      "\n",
      "Epoch 144 - Loss: 0.716 - Test Accuracy:  75.560\n",
      "\n",
      "Processing time:  27.165505 seconds.\n"
     ]
    },
    {
     "name": "stdout",
     "output_type": "stream",
     "text": [
      "\n",
      "Epoch 145 - Loss: 0.710 - Test Accuracy:  76.320\n",
      "\n",
      "Processing time:  27.276369 seconds.\n"
     ]
    },
    {
     "name": "stdout",
     "output_type": "stream",
     "text": [
      "\n",
      "Epoch 146 - Loss: 0.705 - Test Accuracy:  76.550\n",
      "\n",
      "Processing time:  27.451781 seconds.\n"
     ]
    },
    {
     "name": "stdout",
     "output_type": "stream",
     "text": [
      "\n",
      "Epoch 147 - Loss: 0.698 - Test Accuracy:  76.940\n",
      "\n",
      "Processing time:  27.818544 seconds.\n"
     ]
    },
    {
     "name": "stdout",
     "output_type": "stream",
     "text": [
      "\n",
      "Epoch 148 - Loss: 0.692 - Test Accuracy:  76.750\n",
      "\n",
      "Processing time:  27.371017 seconds.\n"
     ]
    },
    {
     "name": "stdout",
     "output_type": "stream",
     "text": [
      "\n",
      "Epoch 149 - Loss: 0.695 - Test Accuracy:  76.480\n",
      "\n",
      "Processing time:  27.482511 seconds.\n"
     ]
    },
    {
     "name": "stdout",
     "output_type": "stream",
     "text": [
      "\n",
      "Epoch 150 - Loss: 0.684 - Test Accuracy:  76.530\n",
      "\n",
      "Processing time:  27.404018 seconds.\n"
     ]
    },
    {
     "name": "stdout",
     "output_type": "stream",
     "text": [
      "\n",
      "Epoch 151 - Loss: 0.683 - Test Accuracy:  77.010\n",
      "\n",
      "Processing time:  26.875772 seconds.\n"
     ]
    },
    {
     "name": "stdout",
     "output_type": "stream",
     "text": [
      "\n",
      "Epoch 152 - Loss: 0.686 - Test Accuracy:  76.310\n",
      "\n",
      "Processing time:  26.859786 seconds.\n"
     ]
    },
    {
     "name": "stdout",
     "output_type": "stream",
     "text": [
      "\n",
      "Epoch 153 - Loss: 0.677 - Test Accuracy:  76.610\n",
      "\n",
      "Processing time:  28.051418 seconds.\n"
     ]
    },
    {
     "name": "stdout",
     "output_type": "stream",
     "text": [
      "\n",
      "Epoch 154 - Loss: 0.686 - Test Accuracy:  76.670\n",
      "\n",
      "Processing time:  26.585460 seconds.\n"
     ]
    },
    {
     "name": "stdout",
     "output_type": "stream",
     "text": [
      "\n",
      "Epoch 155 - Loss: 0.671 - Test Accuracy:  77.630\n",
      "\n",
      "Processing time:  27.483491 seconds.\n"
     ]
    },
    {
     "name": "stdout",
     "output_type": "stream",
     "text": [
      "\n",
      "Epoch 156 - Loss: 0.669 - Test Accuracy:  77.120\n",
      "\n",
      "Processing time:  27.251626 seconds.\n"
     ]
    },
    {
     "name": "stdout",
     "output_type": "stream",
     "text": [
      "\n",
      "Epoch 157 - Loss: 0.669 - Test Accuracy:  77.300\n",
      "\n",
      "Processing time:  27.018056 seconds.\n"
     ]
    },
    {
     "name": "stdout",
     "output_type": "stream",
     "text": [
      "\n",
      "Epoch 158 - Loss: 0.661 - Test Accuracy:  77.410\n",
      "\n",
      "Processing time:  27.226048 seconds.\n"
     ]
    },
    {
     "name": "stdout",
     "output_type": "stream",
     "text": [
      "\n",
      "Epoch 159 - Loss: 0.660 - Test Accuracy:  77.510\n",
      "\n",
      "Processing time:  27.205935 seconds.\n"
     ]
    },
    {
     "name": "stdout",
     "output_type": "stream",
     "text": [
      "\n",
      "Epoch 160 - Loss: 0.655 - Test Accuracy:  77.460\n",
      "\n",
      "Processing time:  27.276465 seconds.\n"
     ]
    },
    {
     "name": "stdout",
     "output_type": "stream",
     "text": [
      "\n",
      "Epoch 161 - Loss: 0.653 - Test Accuracy:  76.970\n",
      "\n",
      "Processing time:  27.299683 seconds.\n"
     ]
    },
    {
     "name": "stdout",
     "output_type": "stream",
     "text": [
      "\n",
      "Epoch 162 - Loss: 0.653 - Test Accuracy:  76.630\n",
      "\n",
      "Processing time:  27.087018 seconds.\n"
     ]
    },
    {
     "name": "stdout",
     "output_type": "stream",
     "text": [
      "\n",
      "Epoch 163 - Loss: 0.641 - Test Accuracy:  77.380\n",
      "\n",
      "Processing time:  27.080437 seconds.\n"
     ]
    },
    {
     "name": "stdout",
     "output_type": "stream",
     "text": [
      "\n",
      "Epoch 164 - Loss: 0.640 - Test Accuracy:  77.570\n",
      "\n",
      "Processing time:  27.266436 seconds.\n"
     ]
    },
    {
     "name": "stdout",
     "output_type": "stream",
     "text": [
      "\n",
      "Epoch 165 - Loss: 0.641 - Test Accuracy:  77.770\n",
      "\n",
      "Processing time:  26.736966 seconds.\n"
     ]
    },
    {
     "name": "stdout",
     "output_type": "stream",
     "text": [
      "\n",
      "Epoch 166 - Loss: 0.640 - Test Accuracy:  77.950\n",
      "\n",
      "Processing time:  26.995794 seconds.\n"
     ]
    },
    {
     "name": "stdout",
     "output_type": "stream",
     "text": [
      "\n",
      "Epoch 167 - Loss: 0.633 - Test Accuracy:  77.870\n",
      "\n",
      "Processing time:  27.293389 seconds.\n"
     ]
    },
    {
     "name": "stdout",
     "output_type": "stream",
     "text": [
      "\n",
      "Epoch 168 - Loss: 0.635 - Test Accuracy:  77.450\n",
      "\n",
      "Processing time:  26.985539 seconds.\n"
     ]
    },
    {
     "name": "stdout",
     "output_type": "stream",
     "text": [
      "\n",
      "Epoch 169 - Loss: 0.634 - Test Accuracy:  77.320\n",
      "\n",
      "Processing time:  27.134682 seconds.\n"
     ]
    },
    {
     "name": "stdout",
     "output_type": "stream",
     "text": [
      "\n",
      "Epoch 170 - Loss: 0.626 - Test Accuracy:  77.770\n",
      "\n",
      "Processing time:  26.953620 seconds.\n"
     ]
    },
    {
     "name": "stdout",
     "output_type": "stream",
     "text": [
      "\n",
      "Epoch 171 - Loss: 0.630 - Test Accuracy:  78.160\n",
      "\n",
      "Processing time:  27.031065 seconds.\n"
     ]
    },
    {
     "name": "stdout",
     "output_type": "stream",
     "text": [
      "\n",
      "Epoch 172 - Loss: 0.629 - Test Accuracy:  78.270\n",
      "\n",
      "Processing time:  27.389769 seconds.\n"
     ]
    },
    {
     "name": "stdout",
     "output_type": "stream",
     "text": [
      "\n",
      "Epoch 173 - Loss: 0.631 - Test Accuracy:  78.320\n",
      "\n",
      "Processing time:  27.185197 seconds.\n"
     ]
    },
    {
     "name": "stdout",
     "output_type": "stream",
     "text": [
      "\n",
      "Epoch 174 - Loss: 0.622 - Test Accuracy:  77.770\n",
      "\n",
      "Processing time:  27.154536 seconds.\n"
     ]
    },
    {
     "name": "stdout",
     "output_type": "stream",
     "text": [
      "\n",
      "Epoch 175 - Loss: 0.616 - Test Accuracy:  78.080\n",
      "\n",
      "Processing time:  26.916838 seconds.\n"
     ]
    },
    {
     "name": "stdout",
     "output_type": "stream",
     "text": [
      "\n",
      "Epoch 176 - Loss: 0.620 - Test Accuracy:  78.250\n",
      "\n",
      "Processing time:  27.079033 seconds.\n"
     ]
    },
    {
     "name": "stdout",
     "output_type": "stream",
     "text": [
      "\n",
      "Epoch 177 - Loss: 0.611 - Test Accuracy:  78.220\n",
      "\n",
      "Processing time:  26.976715 seconds.\n"
     ]
    },
    {
     "name": "stdout",
     "output_type": "stream",
     "text": [
      "\n",
      "Epoch 178 - Loss: 0.613 - Test Accuracy:  78.210\n",
      "\n",
      "Processing time:  26.835621 seconds.\n"
     ]
    },
    {
     "name": "stdout",
     "output_type": "stream",
     "text": [
      "\n",
      "Epoch 179 - Loss: 0.611 - Test Accuracy:  78.620\n",
      "\n",
      "Processing time:  26.713577 seconds.\n"
     ]
    },
    {
     "name": "stdout",
     "output_type": "stream",
     "text": [
      "\n",
      "Epoch 180 - Loss: 0.611 - Test Accuracy:  78.440\n",
      "\n",
      "Processing time:  26.700552 seconds.\n"
     ]
    },
    {
     "name": "stdout",
     "output_type": "stream",
     "text": [
      "\n",
      "Epoch 181 - Loss: 0.611 - Test Accuracy:  78.370\n",
      "\n",
      "Processing time:  27.431548 seconds.\n"
     ]
    },
    {
     "name": "stdout",
     "output_type": "stream",
     "text": [
      "\n",
      "Epoch 182 - Loss: 0.602 - Test Accuracy:  78.450\n",
      "\n",
      "Processing time:  26.727500 seconds.\n"
     ]
    },
    {
     "name": "stdout",
     "output_type": "stream",
     "text": [
      "\n",
      "Epoch 183 - Loss: 0.607 - Test Accuracy:  78.400\n",
      "\n",
      "Processing time:  27.405094 seconds.\n"
     ]
    },
    {
     "name": "stdout",
     "output_type": "stream",
     "text": [
      "\n",
      "Epoch 184 - Loss: 0.607 - Test Accuracy:  78.520\n",
      "\n",
      "Processing time:  28.091635 seconds.\n"
     ]
    },
    {
     "name": "stdout",
     "output_type": "stream",
     "text": [
      "\n",
      "Epoch 185 - Loss: 0.600 - Test Accuracy:  78.500\n",
      "\n",
      "Processing time:  27.155387 seconds.\n"
     ]
    },
    {
     "name": "stdout",
     "output_type": "stream",
     "text": [
      "\n",
      "Epoch 186 - Loss: 0.601 - Test Accuracy:  78.410\n",
      "\n",
      "Processing time:  27.584513 seconds.\n"
     ]
    },
    {
     "name": "stdout",
     "output_type": "stream",
     "text": [
      "\n",
      "Epoch 187 - Loss: 0.604 - Test Accuracy:  78.610\n",
      "\n",
      "Processing time:  27.289692 seconds.\n"
     ]
    },
    {
     "name": "stdout",
     "output_type": "stream",
     "text": [
      "\n",
      "Epoch 188 - Loss: 0.602 - Test Accuracy:  78.470\n",
      "\n",
      "Processing time:  26.958820 seconds.\n"
     ]
    },
    {
     "name": "stdout",
     "output_type": "stream",
     "text": [
      "\n",
      "Epoch 189 - Loss: 0.601 - Test Accuracy:  78.490\n",
      "\n",
      "Processing time:  27.120415 seconds.\n"
     ]
    },
    {
     "name": "stdout",
     "output_type": "stream",
     "text": [
      "\n",
      "Epoch 190 - Loss: 0.598 - Test Accuracy:  78.490\n",
      "\n",
      "Processing time:  27.261690 seconds.\n"
     ]
    },
    {
     "name": "stdout",
     "output_type": "stream",
     "text": [
      "\n",
      "Epoch 191 - Loss: 0.600 - Test Accuracy:  78.460\n",
      "\n",
      "Processing time:  26.964371 seconds.\n"
     ]
    },
    {
     "name": "stdout",
     "output_type": "stream",
     "text": [
      "\n",
      "Epoch 192 - Loss: 0.597 - Test Accuracy:  78.750\n",
      "\n",
      "Processing time:  27.246416 seconds.\n"
     ]
    },
    {
     "name": "stdout",
     "output_type": "stream",
     "text": [
      "\n",
      "Epoch 193 - Loss: 0.593 - Test Accuracy:  78.700\n",
      "\n",
      "Processing time:  27.019184 seconds.\n"
     ]
    },
    {
     "name": "stdout",
     "output_type": "stream",
     "text": [
      "\n",
      "Epoch 194 - Loss: 0.600 - Test Accuracy:  78.640\n",
      "\n",
      "Processing time:  27.259019 seconds.\n"
     ]
    },
    {
     "name": "stdout",
     "output_type": "stream",
     "text": [
      "\n",
      "Epoch 195 - Loss: 0.598 - Test Accuracy:  78.620\n",
      "\n",
      "Processing time:  26.825948 seconds.\n"
     ]
    },
    {
     "name": "stdout",
     "output_type": "stream",
     "text": [
      "\n",
      "Epoch 196 - Loss: 0.595 - Test Accuracy:  78.760\n",
      "\n",
      "Processing time:  26.649944 seconds.\n"
     ]
    },
    {
     "name": "stdout",
     "output_type": "stream",
     "text": [
      "\n",
      "Epoch 197 - Loss: 0.594 - Test Accuracy:  78.600\n",
      "\n",
      "Processing time:  27.342537 seconds.\n"
     ]
    },
    {
     "name": "stdout",
     "output_type": "stream",
     "text": [
      "\n",
      "Epoch 198 - Loss: 0.594 - Test Accuracy:  78.720\n",
      "\n",
      "Processing time:  27.275620 seconds.\n"
     ]
    },
    {
     "name": "stdout",
     "output_type": "stream",
     "text": [
      "\n",
      "Epoch 199 - Loss: 0.596 - Test Accuracy:  78.770\n",
      "\n",
      "Processing time:  27.312870 seconds.\n"
     ]
    },
    {
     "name": "stdout",
     "output_type": "stream",
     "text": [
      "\n",
      "Epoch 200 - Loss: 0.596 - Test Accuracy:  78.640\n",
      "\n",
      "Processing time:  27.246937 seconds.\n",
      "Finished Training\n"
     ]
    }
   ],
   "source": [
    "import torch.optim as optim\n",
    "import torch.nn.functional as F\n",
    "from torch.optim.lr_scheduler import CosineAnnealingLR\n",
    "import time\n",
    "\n",
    "criterion = nn.CrossEntropyLoss()\n",
    "optimizer = optim.SGD(net.parameters(), lr=0.15, momentum=0.9, weight_decay=1e-4)\n",
    "\n",
    "# Initialize the scheduler\n",
    "epochs = EPOCHS\n",
    "scheduler = CosineAnnealingLR(optimizer, T_max=epochs)  # Cosine Annealing LR Scheduler\n",
    "\n",
    "# For plotting\n",
    "train_losses, test_accuracies = [], []\n",
    "\n",
    "# Training loop\n",
    "print(f'\\nStart Training...\\n')\n",
    "for epoch in range(epochs):  # loop over the dataset multiple times\n",
    "    \n",
    "    start_time = time.time()\n",
    "    \n",
    "    running_loss = 0.0\n",
    "    total_train = 0\n",
    "    correct_train = 0\n",
    "    total = 0\n",
    "    correct = 0\n",
    "    confidences = None\n",
    "    \n",
    "    net.train()\n",
    "    \n",
    "    if DATASET_TYPE=='baseline':\n",
    "        trainloader = baseline_trainloader\n",
    "    elif DATASET_TYPE=='custom':\n",
    "        trainloader = custom_trainloader\n",
    "    else:\n",
    "        raise ValueError('Dataset type is not Valid!')\n",
    "    \n",
    "    for i, data in enumerate(trainloader):\n",
    "            \n",
    "        if DATASET_TYPE=='baseline':\n",
    "            inputs, labels = data\n",
    "        elif DATASET_TYPE=='custom':\n",
    "            inputs, labels, confidences = data\n",
    "            # get the inputs\n",
    "            \"\"\"when the model returns [augmentation_magnitude, confidence_aa], which is the case\n",
    "            only when TA with soft labels is applied.\"\"\"\n",
    "            if isinstance(confidences, list):\n",
    "                confidences = confidences[1]\n",
    "            confidences = confidences.to(device)\n",
    "        else:\n",
    "            raise ValueError('Dataset type is not Valid!')\n",
    "        \n",
    "        # zero the parameter gradients\n",
    "        optimizer.zero_grad()\n",
    "        \n",
    "        inputs, labels = inputs.to(device), labels.to(device)\n",
    "    \n",
    "        # Convert labels to one-hot encoded vectors\n",
    "        # labels_one_hot = F.one_hot(labels, num_classes=10).float()\n",
    "        \n",
    "        # forward + backward + optimize\n",
    "        outputs = net(inputs)\n",
    "        outputs = outputs.to(device)\n",
    "        \n",
    "        if DATASET_TYPE=='custom':\n",
    "            loss = soft_loss(pred=outputs, label=labels, confidence=confidences, reweight=REWEIGHT)\n",
    "        else:\n",
    "            loss = criterion(outputs, labels)\n",
    "        \n",
    "        # Check for correct training\n",
    "        if np.isnan(loss.detach().cpu().numpy()):\n",
    "            raise ValueError('Loss calculation not correct')\n",
    "    \n",
    "        loss.backward()\n",
    "        optimizer.step()\n",
    "        \n",
    "        if tpu:\n",
    "            xm.mark_step()\n",
    "        running_loss += loss.item()\n",
    "\n",
    "        # Calculate training accuracy\n",
    "        _, predicted = torch.max(outputs.data, 1)\n",
    "        total_train += labels.size(0)\n",
    "        correct_train += (predicted == labels).sum().item()\n",
    "    \n",
    "    with torch.no_grad():\n",
    "        net.eval()\n",
    "        for images, labels in baseline_testloader:\n",
    "            images, labels = images.to(device), labels.to(device)\n",
    "            outputs = net(images)\n",
    "            _, predicted = torch.max(outputs.data, 1)\n",
    "            total += labels.size(0)\n",
    "            correct += (predicted == labels).sum().item()\n",
    "    \n",
    "    # calculate and print average loss for current epoch\n",
    "    average_loss = running_loss / len(custom_trainloader)\n",
    "    train_losses.append(average_loss)\n",
    "    \n",
    "    test_accuracy = correct / total\n",
    "    test_accuracies.append(test_accuracy)\n",
    "    \n",
    "    print(f'\\nEpoch {epoch + 1} - Loss: {average_loss:.3f} - Test Accuracy: {100 * test_accuracy: .3f}')    \n",
    "    \n",
    "    scheduler.step()\n",
    "    end_time = time.time()\n",
    "    print(f'\\nProcessing time: {(end_time - start_time): 3f} seconds.')\n",
    "\n",
    "print('Finished Training')\n",
    "\n",
    "# Save the trained model\n",
    "PATH = f'/kaggle/working/{DATASET_NAME}_net_ta_{DATASET_TYPE}_{epochs}.pth'\n",
    "torch.save(net.state_dict(), PATH)"
   ]
  },
  {
   "cell_type": "code",
   "execution_count": 11,
   "id": "51823e97",
   "metadata": {
    "execution": {
     "iopub.execute_input": "2024-09-19T13:49:03.595216Z",
     "iopub.status.busy": "2024-09-19T13:49:03.594712Z",
     "iopub.status.idle": "2024-09-19T13:49:03.871947Z",
     "shell.execute_reply": "2024-09-19T13:49:03.871003Z"
    },
    "papermill": {
     "duration": 0.310212,
     "end_time": "2024-09-19T13:49:03.873816",
     "exception": false,
     "start_time": "2024-09-19T13:49:03.563604",
     "status": "completed"
    },
    "tags": []
   },
   "outputs": [
    {
     "data": {
      "image/png": "[encoded data removed]",
      "text/plain": [
       "<Figure size 1000x500 with 1 Axes>"
      ]
     },
     "metadata": {},
     "output_type": "display_data"
    }
   ],
   "source": [
    "plt.figure(figsize=(10, 5))\n",
    "plt.plot(range(1, epochs + 1), train_losses, label='Train Loss', color='tab:red')\n",
    "plt.plot(range(1, epochs + 1), test_accuracies, label='Test Accuracy', color='tab:blue')\n",
    "plt.xlabel('Epochs')\n",
    "plt.ylabel('Value')\n",
    "plt.title(f'{DATASET_NAME} - {DATASET_TYPE}')\n",
    "plt.legend()\n",
    "plt.grid(True)\n",
    "plt.show()"
   ]
  },
  {
   "cell_type": "markdown",
   "id": "f79da627",
   "metadata": {
    "papermill": {
     "duration": 0.031068,
     "end_time": "2024-09-19T13:49:03.936815",
     "exception": false,
     "start_time": "2024-09-19T13:49:03.905747",
     "status": "completed"
    },
    "tags": []
   },
   "source": [
    "## Evaluate the model on Testset"
   ]
  },
  {
   "cell_type": "code",
   "execution_count": 12,
   "id": "e7155d1b",
   "metadata": {
    "execution": {
     "iopub.execute_input": "2024-09-19T13:49:04.001553Z",
     "iopub.status.busy": "2024-09-19T13:49:04.000906Z",
     "iopub.status.idle": "2024-09-19T13:53:06.151662Z",
     "shell.execute_reply": "2024-09-19T13:53:06.150563Z"
    },
    "papermill": {
     "duration": 242.185903,
     "end_time": "2024-09-19T13:53:06.153809",
     "exception": false,
     "start_time": "2024-09-19T13:49:03.967906",
     "status": "completed"
    },
    "tags": []
   },
   "outputs": [
    {
     "name": "stdout",
     "output_type": "stream",
     "text": [
      "Accuracy of the network on the CIFAR-10 test dataset: 78.64 %\n",
      "Testing on corruption: gaussian_noise\n"
     ]
    },
    {
     "name": "stdout",
     "output_type": "stream",
     "text": [
      "Accuracy of the network on gaussian_noise dataset split 1: 58.34 %\n"
     ]
    },
    {
     "name": "stdout",
     "output_type": "stream",
     "text": [
      "Accuracy of the network on gaussian_noise dataset split 2: 41.94 %\n"
     ]
    },
    {
     "name": "stdout",
     "output_type": "stream",
     "text": [
      "Accuracy of the network on gaussian_noise dataset split 3: 28.60 %\n"
     ]
    },
    {
     "name": "stdout",
     "output_type": "stream",
     "text": [
      "Accuracy of the network on gaussian_noise dataset split 4: 22.82 %\n"
     ]
    },
    {
     "name": "stdout",
     "output_type": "stream",
     "text": [
      "Accuracy of the network on gaussian_noise dataset split 5: 19.81 %\n",
      "Average accuracy for gaussian_noise dataset: 34.30 %\n",
      "Testing on corruption: shot_noise\n"
     ]
    },
    {
     "name": "stdout",
     "output_type": "stream",
     "text": [
      "Accuracy of the network on shot_noise dataset split 1: 66.50 %\n"
     ]
    },
    {
     "name": "stdout",
     "output_type": "stream",
     "text": [
      "Accuracy of the network on shot_noise dataset split 2: 56.59 %\n"
     ]
    },
    {
     "name": "stdout",
     "output_type": "stream",
     "text": [
      "Accuracy of the network on shot_noise dataset split 3: 38.16 %\n"
     ]
    },
    {
     "name": "stdout",
     "output_type": "stream",
     "text": [
      "Accuracy of the network on shot_noise dataset split 4: 31.39 %\n"
     ]
    },
    {
     "name": "stdout",
     "output_type": "stream",
     "text": [
      "Accuracy of the network on shot_noise dataset split 5: 22.59 %\n",
      "Average accuracy for shot_noise dataset: 43.05 %\n",
      "Testing on corruption: impulse_noise\n"
     ]
    },
    {
     "name": "stdout",
     "output_type": "stream",
     "text": [
      "Accuracy of the network on impulse_noise dataset split 1: 74.41 %\n"
     ]
    },
    {
     "name": "stdout",
     "output_type": "stream",
     "text": [
      "Accuracy of the network on impulse_noise dataset split 2: 66.90 %\n"
     ]
    },
    {
     "name": "stdout",
     "output_type": "stream",
     "text": [
      "Accuracy of the network on impulse_noise dataset split 3: 57.92 %\n"
     ]
    },
    {
     "name": "stdout",
     "output_type": "stream",
     "text": [
      "Accuracy of the network on impulse_noise dataset split 4: 36.44 %\n"
     ]
    },
    {
     "name": "stdout",
     "output_type": "stream",
     "text": [
      "Accuracy of the network on impulse_noise dataset split 5: 20.34 %\n",
      "Average accuracy for impulse_noise dataset: 51.20 %\n",
      "Testing on corruption: defocus_blur\n"
     ]
    },
    {
     "name": "stdout",
     "output_type": "stream",
     "text": [
      "Accuracy of the network on defocus_blur dataset split 1: 78.41 %\n"
     ]
    },
    {
     "name": "stdout",
     "output_type": "stream",
     "text": [
      "Accuracy of the network on defocus_blur dataset split 2: 76.99 %\n"
     ]
    },
    {
     "name": "stdout",
     "output_type": "stream",
     "text": [
      "Accuracy of the network on defocus_blur dataset split 3: 74.72 %\n"
     ]
    },
    {
     "name": "stdout",
     "output_type": "stream",
     "text": [
      "Accuracy of the network on defocus_blur dataset split 4: 69.93 %\n"
     ]
    },
    {
     "name": "stdout",
     "output_type": "stream",
     "text": [
      "Accuracy of the network on defocus_blur dataset split 5: 59.38 %\n",
      "Average accuracy for defocus_blur dataset: 71.89 %\n",
      "Testing on corruption: glass_blur\n"
     ]
    },
    {
     "name": "stdout",
     "output_type": "stream",
     "text": [
      "Accuracy of the network on glass_blur dataset split 1: 53.69 %\n"
     ]
    },
    {
     "name": "stdout",
     "output_type": "stream",
     "text": [
      "Accuracy of the network on glass_blur dataset split 2: 55.21 %\n"
     ]
    },
    {
     "name": "stdout",
     "output_type": "stream",
     "text": [
      "Accuracy of the network on glass_blur dataset split 3: 56.88 %\n"
     ]
    },
    {
     "name": "stdout",
     "output_type": "stream",
     "text": [
      "Accuracy of the network on glass_blur dataset split 4: 39.10 %\n"
     ]
    },
    {
     "name": "stdout",
     "output_type": "stream",
     "text": [
      "Accuracy of the network on glass_blur dataset split 5: 44.04 %\n",
      "Average accuracy for glass_blur dataset: 49.78 %\n",
      "Testing on corruption: motion_blur\n"
     ]
    },
    {
     "name": "stdout",
     "output_type": "stream",
     "text": [
      "Accuracy of the network on motion_blur dataset split 1: 73.61 %\n"
     ]
    },
    {
     "name": "stdout",
     "output_type": "stream",
     "text": [
      "Accuracy of the network on motion_blur dataset split 2: 68.06 %\n"
     ]
    },
    {
     "name": "stdout",
     "output_type": "stream",
     "text": [
      "Accuracy of the network on motion_blur dataset split 3: 60.83 %\n"
     ]
    },
    {
     "name": "stdout",
     "output_type": "stream",
     "text": [
      "Accuracy of the network on motion_blur dataset split 4: 60.95 %\n"
     ]
    },
    {
     "name": "stdout",
     "output_type": "stream",
     "text": [
      "Accuracy of the network on motion_blur dataset split 5: 52.80 %\n",
      "Average accuracy for motion_blur dataset: 63.25 %\n",
      "Testing on corruption: zoom_blur\n"
     ]
    },
    {
     "name": "stdout",
     "output_type": "stream",
     "text": [
      "Accuracy of the network on zoom_blur dataset split 1: 73.30 %\n"
     ]
    },
    {
     "name": "stdout",
     "output_type": "stream",
     "text": [
      "Accuracy of the network on zoom_blur dataset split 2: 72.72 %\n"
     ]
    },
    {
     "name": "stdout",
     "output_type": "stream",
     "text": [
      "Accuracy of the network on zoom_blur dataset split 3: 70.48 %\n"
     ]
    },
    {
     "name": "stdout",
     "output_type": "stream",
     "text": [
      "Accuracy of the network on zoom_blur dataset split 4: 67.63 %\n"
     ]
    },
    {
     "name": "stdout",
     "output_type": "stream",
     "text": [
      "Accuracy of the network on zoom_blur dataset split 5: 62.46 %\n",
      "Average accuracy for zoom_blur dataset: 69.32 %\n",
      "Testing on corruption: snow\n"
     ]
    },
    {
     "name": "stdout",
     "output_type": "stream",
     "text": [
      "Accuracy of the network on snow dataset split 1: 74.60 %\n"
     ]
    },
    {
     "name": "stdout",
     "output_type": "stream",
     "text": [
      "Accuracy of the network on snow dataset split 2: 64.39 %\n"
     ]
    },
    {
     "name": "stdout",
     "output_type": "stream",
     "text": [
      "Accuracy of the network on snow dataset split 3: 66.31 %\n"
     ]
    },
    {
     "name": "stdout",
     "output_type": "stream",
     "text": [
      "Accuracy of the network on snow dataset split 4: 63.16 %\n"
     ]
    },
    {
     "name": "stdout",
     "output_type": "stream",
     "text": [
      "Accuracy of the network on snow dataset split 5: 55.43 %\n",
      "Average accuracy for snow dataset: 64.78 %\n",
      "Testing on corruption: frost\n"
     ]
    },
    {
     "name": "stdout",
     "output_type": "stream",
     "text": [
      "Accuracy of the network on frost dataset split 1: 70.71 %\n"
     ]
    },
    {
     "name": "stdout",
     "output_type": "stream",
     "text": [
      "Accuracy of the network on frost dataset split 2: 64.17 %\n"
     ]
    },
    {
     "name": "stdout",
     "output_type": "stream",
     "text": [
      "Accuracy of the network on frost dataset split 3: 53.06 %\n"
     ]
    },
    {
     "name": "stdout",
     "output_type": "stream",
     "text": [
      "Accuracy of the network on frost dataset split 4: 51.00 %\n"
     ]
    },
    {
     "name": "stdout",
     "output_type": "stream",
     "text": [
      "Accuracy of the network on frost dataset split 5: 40.85 %\n",
      "Average accuracy for frost dataset: 55.96 %\n",
      "Testing on corruption: fog\n"
     ]
    },
    {
     "name": "stdout",
     "output_type": "stream",
     "text": [
      "Accuracy of the network on fog dataset split 1: 77.82 %\n"
     ]
    },
    {
     "name": "stdout",
     "output_type": "stream",
     "text": [
      "Accuracy of the network on fog dataset split 2: 75.30 %\n"
     ]
    },
    {
     "name": "stdout",
     "output_type": "stream",
     "text": [
      "Accuracy of the network on fog dataset split 3: 71.84 %\n"
     ]
    },
    {
     "name": "stdout",
     "output_type": "stream",
     "text": [
      "Accuracy of the network on fog dataset split 4: 65.84 %\n"
     ]
    },
    {
     "name": "stdout",
     "output_type": "stream",
     "text": [
      "Accuracy of the network on fog dataset split 5: 44.89 %\n",
      "Average accuracy for fog dataset: 67.14 %\n",
      "Testing on corruption: brightness\n"
     ]
    },
    {
     "name": "stdout",
     "output_type": "stream",
     "text": [
      "Accuracy of the network on brightness dataset split 1: 78.13 %\n"
     ]
    },
    {
     "name": "stdout",
     "output_type": "stream",
     "text": [
      "Accuracy of the network on brightness dataset split 2: 77.43 %\n"
     ]
    },
    {
     "name": "stdout",
     "output_type": "stream",
     "text": [
      "Accuracy of the network on brightness dataset split 3: 76.50 %\n"
     ]
    },
    {
     "name": "stdout",
     "output_type": "stream",
     "text": [
      "Accuracy of the network on brightness dataset split 4: 74.89 %\n"
     ]
    },
    {
     "name": "stdout",
     "output_type": "stream",
     "text": [
      "Accuracy of the network on brightness dataset split 5: 70.35 %\n",
      "Average accuracy for brightness dataset: 75.46 %\n",
      "Testing on corruption: contrast\n"
     ]
    },
    {
     "name": "stdout",
     "output_type": "stream",
     "text": [
      "Accuracy of the network on contrast dataset split 1: 77.71 %\n"
     ]
    },
    {
     "name": "stdout",
     "output_type": "stream",
     "text": [
      "Accuracy of the network on contrast dataset split 2: 74.32 %\n"
     ]
    },
    {
     "name": "stdout",
     "output_type": "stream",
     "text": [
      "Accuracy of the network on contrast dataset split 3: 71.78 %\n"
     ]
    },
    {
     "name": "stdout",
     "output_type": "stream",
     "text": [
      "Accuracy of the network on contrast dataset split 4: 67.09 %\n"
     ]
    },
    {
     "name": "stdout",
     "output_type": "stream",
     "text": [
      "Accuracy of the network on contrast dataset split 5: 52.32 %\n",
      "Average accuracy for contrast dataset: 68.64 %\n",
      "Testing on corruption: elastic_transform\n"
     ]
    },
    {
     "name": "stdout",
     "output_type": "stream",
     "text": [
      "Accuracy of the network on elastic_transform dataset split 1: 72.96 %\n"
     ]
    },
    {
     "name": "stdout",
     "output_type": "stream",
     "text": [
      "Accuracy of the network on elastic_transform dataset split 2: 73.58 %\n"
     ]
    },
    {
     "name": "stdout",
     "output_type": "stream",
     "text": [
      "Accuracy of the network on elastic_transform dataset split 3: 71.42 %\n"
     ]
    },
    {
     "name": "stdout",
     "output_type": "stream",
     "text": [
      "Accuracy of the network on elastic_transform dataset split 4: 63.28 %\n"
     ]
    },
    {
     "name": "stdout",
     "output_type": "stream",
     "text": [
      "Accuracy of the network on elastic_transform dataset split 5: 54.06 %\n",
      "Average accuracy for elastic_transform dataset: 67.06 %\n",
      "Testing on corruption: pixelate\n"
     ]
    },
    {
     "name": "stdout",
     "output_type": "stream",
     "text": [
      "Accuracy of the network on pixelate dataset split 1: 74.42 %\n"
     ]
    },
    {
     "name": "stdout",
     "output_type": "stream",
     "text": [
      "Accuracy of the network on pixelate dataset split 2: 63.91 %\n"
     ]
    },
    {
     "name": "stdout",
     "output_type": "stream",
     "text": [
      "Accuracy of the network on pixelate dataset split 3: 55.75 %\n"
     ]
    },
    {
     "name": "stdout",
     "output_type": "stream",
     "text": [
      "Accuracy of the network on pixelate dataset split 4: 29.22 %\n"
     ]
    },
    {
     "name": "stdout",
     "output_type": "stream",
     "text": [
      "Accuracy of the network on pixelate dataset split 5: 10.53 %\n",
      "Average accuracy for pixelate dataset: 46.77 %\n",
      "Testing on corruption: jpeg_compression\n"
     ]
    },
    {
     "name": "stdout",
     "output_type": "stream",
     "text": [
      "Accuracy of the network on jpeg_compression dataset split 1: 62.32 %\n"
     ]
    },
    {
     "name": "stdout",
     "output_type": "stream",
     "text": [
      "Accuracy of the network on jpeg_compression dataset split 2: 53.83 %\n"
     ]
    },
    {
     "name": "stdout",
     "output_type": "stream",
     "text": [
      "Accuracy of the network on jpeg_compression dataset split 3: 51.31 %\n"
     ]
    },
    {
     "name": "stdout",
     "output_type": "stream",
     "text": [
      "Accuracy of the network on jpeg_compression dataset split 4: 48.06 %\n"
     ]
    },
    {
     "name": "stdout",
     "output_type": "stream",
     "text": [
      "Accuracy of the network on jpeg_compression dataset split 5: 43.63 %\n",
      "Average accuracy for jpeg_compression dataset: 51.83 %\n",
      "Testing on corruption: speckle_noise\n"
     ]
    },
    {
     "name": "stdout",
     "output_type": "stream",
     "text": [
      "Accuracy of the network on speckle_noise dataset split 1: 67.44 %\n"
     ]
    },
    {
     "name": "stdout",
     "output_type": "stream",
     "text": [
      "Accuracy of the network on speckle_noise dataset split 2: 52.62 %\n"
     ]
    },
    {
     "name": "stdout",
     "output_type": "stream",
     "text": [
      "Accuracy of the network on speckle_noise dataset split 3: 46.39 %\n"
     ]
    },
    {
     "name": "stdout",
     "output_type": "stream",
     "text": [
      "Accuracy of the network on speckle_noise dataset split 4: 33.96 %\n"
     ]
    },
    {
     "name": "stdout",
     "output_type": "stream",
     "text": [
      "Accuracy of the network on speckle_noise dataset split 5: 24.55 %\n",
      "Average accuracy for speckle_noise dataset: 44.99 %\n",
      "Testing on corruption: gaussian_blur\n"
     ]
    },
    {
     "name": "stdout",
     "output_type": "stream",
     "text": [
      "Accuracy of the network on gaussian_blur dataset split 1: 78.37 %\n"
     ]
    },
    {
     "name": "stdout",
     "output_type": "stream",
     "text": [
      "Accuracy of the network on gaussian_blur dataset split 2: 74.66 %\n"
     ]
    },
    {
     "name": "stdout",
     "output_type": "stream",
     "text": [
      "Accuracy of the network on gaussian_blur dataset split 3: 71.67 %\n"
     ]
    },
    {
     "name": "stdout",
     "output_type": "stream",
     "text": [
      "Accuracy of the network on gaussian_blur dataset split 4: 66.85 %\n"
     ]
    },
    {
     "name": "stdout",
     "output_type": "stream",
     "text": [
      "Accuracy of the network on gaussian_blur dataset split 5: 56.01 %\n",
      "Average accuracy for gaussian_blur dataset: 69.51 %\n",
      "Testing on corruption: spatter\n"
     ]
    },
    {
     "name": "stdout",
     "output_type": "stream",
     "text": [
      "Accuracy of the network on spatter dataset split 1: 76.78 %\n"
     ]
    },
    {
     "name": "stdout",
     "output_type": "stream",
     "text": [
      "Accuracy of the network on spatter dataset split 2: 73.18 %\n"
     ]
    },
    {
     "name": "stdout",
     "output_type": "stream",
     "text": [
      "Accuracy of the network on spatter dataset split 3: 67.01 %\n"
     ]
    },
    {
     "name": "stdout",
     "output_type": "stream",
     "text": [
      "Accuracy of the network on spatter dataset split 4: 71.83 %\n"
     ]
    },
    {
     "name": "stdout",
     "output_type": "stream",
     "text": [
      "Accuracy of the network on spatter dataset split 5: 62.80 %\n",
      "Average accuracy for spatter dataset: 70.32 %\n",
      "Testing on corruption: saturate\n"
     ]
    },
    {
     "name": "stdout",
     "output_type": "stream",
     "text": [
      "Accuracy of the network on saturate dataset split 1: 71.58 %\n"
     ]
    },
    {
     "name": "stdout",
     "output_type": "stream",
     "text": [
      "Accuracy of the network on saturate dataset split 2: 65.34 %\n"
     ]
    },
    {
     "name": "stdout",
     "output_type": "stream",
     "text": [
      "Accuracy of the network on saturate dataset split 3: 76.71 %\n"
     ]
    },
    {
     "name": "stdout",
     "output_type": "stream",
     "text": [
      "Accuracy of the network on saturate dataset split 4: 70.60 %\n"
     ]
    },
    {
     "name": "stdout",
     "output_type": "stream",
     "text": [
      "Accuracy of the network on saturate dataset split 5: 63.52 %\n",
      "Average accuracy for saturate dataset: 69.55 %\n",
      "Average Robust Accuracy: 59.73 %\n"
     ]
    }
   ],
   "source": [
    "import torch\n",
    "import numpy as np\n",
    "\n",
    "# Evaluate the CIFAR-10 dataset\n",
    "correct = 0\n",
    "total = 0\n",
    "\n",
    "with torch.no_grad():\n",
    "    net.eval()\n",
    "    for images, labels in baseline_testloader:\n",
    "        images, labels = images.to(device), labels.to(device)\n",
    "        outputs = net(images)\n",
    "        _, predicted = torch.max(outputs.data, 1)\n",
    "        total += labels.size(0)\n",
    "        correct += (predicted == labels).sum().item()\n",
    "\n",
    "    if total == 0:\n",
    "        print('No images found for CIFAR-10 dataset.')\n",
    "    else:\n",
    "        cifar10_accuracy = 100 * correct / total\n",
    "        print(f'Accuracy of the network on the CIFAR-10 test dataset: {cifar10_accuracy:.2f} %')\n",
    "\n",
    "if not tpu:\n",
    "    # Clear GPU memory\n",
    "    torch.cuda.empty_cache()\n",
    "\n",
    "    # Clear CPU memory\n",
    "    torch.cuda.ipc_collect()\n",
    "\n",
    "# Define the list of corruptions\n",
    "corruptions = ['gaussian_noise', 'shot_noise', 'impulse_noise', 'defocus_blur', 'glass_blur', \n",
    "               'motion_blur', 'zoom_blur', 'snow', 'frost', 'fog', 'brightness', \n",
    "               'contrast', 'elastic_transform', 'pixelate', 'jpeg_compression', \n",
    "               'speckle_noise', 'gaussian_blur', 'spatter', 'saturate']\n",
    "\n",
    "# Define the batch size\n",
    "batch_size = 256 \n",
    "\n",
    "# Create an empty dictionary to store corrupted datasets\n",
    "corrupted_datasets = {}\n",
    "\n",
    "# Prepare to count predictions for each class\n",
    "correct_pred = {classname: 0 for classname in classes}\n",
    "total_pred = {classname: 0 for classname in classes}\n",
    "\n",
    "# List to store average accuracies for each corruption dataset\n",
    "average_accuracies = []\n",
    "\n",
    "# Loop over corruptions, loading and testing all 5 severity levels of each corruption dataset\n",
    "for corruption in corruptions:\n",
    "    print(f\"Testing on corruption: {corruption}\")\n",
    "\n",
    "    # Load and test datasets for all 5 severity levels of the current corruption\n",
    "    try:\n",
    "        if DATASET_NAME=='CIFAR10':\n",
    "            np_data_c = np.load(f'/kaggle/input/cifar-c/CIFAR-10-C/{corruption}.npy')\n",
    "        elif DATASET_NAME=='CIFAR100':\n",
    "            np_data_c = np.load(f'/kaggle/input/cifar-100-c/{corruption}.npy')\n",
    "        else:\n",
    "            raise ValueError(f'Corruption dataset {DATASET_NAME} not loaded')\n",
    "            \n",
    "        np_data_c_splits = np.array_split(np_data_c, 5)\n",
    "        \n",
    "        # List to store accuracies of all severity levels for averaging\n",
    "        accuracies = []\n",
    "\n",
    "        for i, np_data_c_split in enumerate(np_data_c_splits):\n",
    "            custom_dataset = CustomDataset(np_data_c_split, baseline_testset, resize=True)\n",
    "            custom_dataloader = torch.utils.data.DataLoader(custom_dataset, batch_size=batch_size, shuffle=False)\n",
    "\n",
    "            # Testing loop for the current corruption dataset split\n",
    "            correct = 0\n",
    "            total = 0\n",
    "\n",
    "            with torch.no_grad():\n",
    "                images_loaded = 0  # Counter for images loaded for the current corruption\n",
    "                for images, labels in custom_dataloader:\n",
    "                    images_loaded += len(images)  # Increment the counter by the number of images loaded\n",
    "                    images, labels = images.to(device), labels.to(device)\n",
    "                    # Calculate outputs by running images through the network\n",
    "                    outputs = net(images)\n",
    "                    # The class with the highest energy is chosen as prediction\n",
    "                    _, predicted = torch.max(outputs.data, 1)\n",
    "                    total += labels.size(0)\n",
    "                    correct += (predicted == labels).sum().item()\n",
    "\n",
    "                if total == 0:\n",
    "                    print(f'No images found for {corruption} dataset split {i+1}.')\n",
    "                else:\n",
    "                    accuracy = 100 * correct / total\n",
    "                    print(f'Accuracy of the network on {corruption} dataset split {i+1}: {accuracy:.2f} %')\n",
    "                    accuracies.append(accuracy)\n",
    "\n",
    "                # Print the number of images loaded for the current corruption dataset split\n",
    "                #print(f\"Images loaded for {corruption} dataset split {i+1}: {images_loaded}\")\n",
    "                \n",
    "                if not tpu:\n",
    "                    # Clear GPU memory\n",
    "                    torch.cuda.empty_cache()\n",
    "                    # Clear CPU memory\n",
    "                    torch.cuda.ipc_collect()\n",
    "\n",
    "                # Delete variables to free up memory\n",
    "                del custom_dataset\n",
    "                del custom_dataloader\n",
    "\n",
    "        # Calculate and print the average accuracy for the corruption dataset\n",
    "        if accuracies:\n",
    "            average_accuracy = sum(accuracies) / len(accuracies)\n",
    "            average_accuracies.append(average_accuracy)\n",
    "            print(f'Average accuracy for {corruption} dataset: {average_accuracy:.2f} %')\n",
    "\n",
    "    except FileNotFoundError:\n",
    "        print(f'Corruption {corruption} dataset not found.')\n",
    "        continue\n",
    "\n",
    "# Calculate and print the average robust accuracy\n",
    "if average_accuracies:\n",
    "    average_robust_accuracy = sum(average_accuracies) / len(average_accuracies)\n",
    "    print(f'Average Robust Accuracy: {average_robust_accuracy:.2f} %')\n",
    "else:\n",
    "    print(\"No corrupt datasets found for evaluation.\")"
   ]
  },
  {
   "cell_type": "code",
   "execution_count": 13,
   "id": "3f04965a",
   "metadata": {
    "execution": {
     "iopub.execute_input": "2024-09-19T13:53:06.223291Z",
     "iopub.status.busy": "2024-09-19T13:53:06.222977Z",
     "iopub.status.idle": "2024-09-19T13:53:06.229981Z",
     "shell.execute_reply": "2024-09-19T13:53:06.229342Z"
    },
    "papermill": {
     "duration": 0.043349,
     "end_time": "2024-09-19T13:53:06.231608",
     "exception": false,
     "start_time": "2024-09-19T13:53:06.188259",
     "status": "completed"
    },
    "tags": []
   },
   "outputs": [],
   "source": [
    "# # Load the model checkpoint\n",
    "# net = WideResNet_28_4(num_classes=num_classes)\n",
    "# checkpoint_path = '/kaggle/working/MasterArbeit/models/CIFAR10_net_ta_custom_100.pth'\n",
    "# checkpoint = torch.load(checkpoint_path)\n",
    "# net.load_state_dict(checkpoint, strict=False)\n",
    "# net.to(device)\n",
    "\n",
    "# import torch\n",
    "# import numpy as np\n",
    "\n",
    "\n",
    "# # Evaluate the CIFAR-10 dataset\n",
    "# correct = 0\n",
    "# total = 0\n",
    "\n",
    "# with torch.no_grad():\n",
    "#     net.eval()\n",
    "#     for images, labels in baseline_testloader:\n",
    "#         images, labels = images.to(device), labels.to(device)\n",
    "#         outputs = net(images)\n",
    "#         _, predicted = torch.max(outputs.data, 1)\n",
    "#         total += labels.size(0)\n",
    "#         correct += (predicted == labels).sum().item()\n",
    "\n",
    "#     if total == 0:\n",
    "#         print('No images found for CIFAR-10 dataset.')\n",
    "#     else:\n",
    "#         cifar10_accuracy = 100 * correct / total\n",
    "#         print(f'Accuracy of the network on the CIFAR-10 test dataset: {cifar10_accuracy:.2f} %')\n",
    "        \n",
    "# if not tpu:\n",
    "#     # Clear GPU memory\n",
    "#     torch.cuda.empty_cache()\n",
    "\n",
    "#     # Clear CPU memory\n",
    "#     torch.cuda.ipc_collect()\n",
    "\n",
    "# # Define the list of corruptions\n",
    "# corruptions = ['gaussian_noise', 'shot_noise', 'impulse_noise', 'defocus_blur', 'glass_blur', \n",
    "#                'motion_blur', 'zoom_blur', 'snow', 'frost', 'fog', 'brightness', \n",
    "#                'contrast', 'elastic_transform', 'pixelate', 'jpeg_compression', \n",
    "#                'speckle_noise', 'gaussian_blur', 'spatter', 'saturate']\n",
    "\n",
    "# # Define the batch size\n",
    "# batch_size = 256 \n",
    "\n",
    "# # Create an empty dictionary to store corrupted datasets\n",
    "# corrupted_datasets = {}\n",
    "\n",
    "# # Prepare to count predictions for each class\n",
    "# correct_pred = {classname: 0 for classname in classes}\n",
    "# total_pred = {classname: 0 for classname in classes}\n",
    "\n",
    "# # List to store average accuracies for each corruption dataset\n",
    "# average_accuracies = []\n",
    "\n",
    "# # Loop over corruptions, loading and testing all 5 severity levels of each corruption dataset\n",
    "# for corruption in corruptions:\n",
    "#     print(f\"Testing on corruption: {corruption}\")\n",
    "\n",
    "#     # Load and test datasets for all 5 severity levels of the current corruption\n",
    "#     try:\n",
    "#         if DATASET_NAME=='CIFAR10':\n",
    "#             np_data_c = np.load(f'/kaggle/input/cifar-c/CIFAR-10-C/{corruption}.npy')\n",
    "#         elif DATASET_NAME=='CIFAR100':\n",
    "#             np_data_c = np.load(f'/kaggle/input/cifar-100-c/{corruption}.npy')\n",
    "#         else:\n",
    "#             raise ValueError(f'Corruption dataset {DATASET_NAME} not loaded')\n",
    "#         np_data_c_splits = np.array_split(np_data_c, 5)\n",
    "        \n",
    "#         # List to store accuracies of all severity levels for averaging\n",
    "#         accuracies = []\n",
    "\n",
    "#         for i, np_data_c_split in enumerate(np_data_c_splits):\n",
    "#             custom_dataset = CustomDataset(np_data_c_split, baseline_testset, resize=True)\n",
    "#             custom_dataloader = torch.utils.data.DataLoader(custom_dataset, batch_size=batch_size, shuffle=False)\n",
    "\n",
    "#             # Testing loop for the current corruption dataset split\n",
    "#             correct = 0\n",
    "#             total = 0\n",
    "\n",
    "#             with torch.no_grad():\n",
    "#                 images_loaded = 0  # Counter for images loaded for the current corruption\n",
    "#                 for images, labels in custom_dataloader:\n",
    "#                     images_loaded += len(images)  # Increment the counter by the number of images loaded\n",
    "#                     images, labels = images.to(device), labels.to(device)\n",
    "#                     # Calculate outputs by running images through the network\n",
    "#                     outputs = net(images)\n",
    "#                     # The class with the highest energy is chosen as prediction\n",
    "#                     _, predicted = torch.max(outputs.data, 1)\n",
    "#                     total += labels.size(0)\n",
    "#                     correct += (predicted == labels).sum().item()\n",
    "\n",
    "#                 if total == 0:\n",
    "#                     print(f'No images found for {corruption} dataset split {i+1}.')\n",
    "#                 else:\n",
    "#                     accuracy = 100 * correct / total\n",
    "#                     print(f'Accuracy of the network on {corruption} dataset split {i+1}: {accuracy:.2f} %')\n",
    "#                     accuracies.append(accuracy)\n",
    "\n",
    "#                 # Print the number of images loaded for the current corruption dataset split\n",
    "#                 #print(f\"Images loaded for {corruption} dataset split {i+1}: {images_loaded}\")\n",
    "                \n",
    "#                 if not tpu:\n",
    "#                     # Clear GPU memory\n",
    "#                     torch.cuda.empty_cache()\n",
    "#                     # Clear CPU memory\n",
    "#                     torch.cuda.ipc_collect()\n",
    "\n",
    "#                 # Delete variables to free up memory\n",
    "#                 del custom_dataset\n",
    "#                 del custom_dataloader\n",
    "\n",
    "#         # Calculate and print the average accuracy for the corruption dataset\n",
    "#         if accuracies:\n",
    "#             average_accuracy = sum(accuracies) / len(accuracies)\n",
    "#             average_accuracies.append(average_accuracy)\n",
    "#             print(f'Average accuracy for {corruption} dataset: {average_accuracy:.2f} %')\n",
    "\n",
    "#     except FileNotFoundError:\n",
    "#         print(f'Corruption {corruption} dataset not found.')\n",
    "#         continue\n",
    "\n",
    "# # Calculate and print the average robust accuracy\n",
    "# if average_accuracies:\n",
    "#     average_robust_accuracy = sum(average_accuracies) / len(average_accuracies)\n",
    "#     print(f'Average Robust Accuracy: {average_robust_accuracy:.2f} %')\n",
    "# else:\n",
    "#     print(\"No corrupt datasets found for evaluation.\")"
   ]
  },
  {
   "cell_type": "code",
   "execution_count": null,
   "id": "749d4365",
   "metadata": {
    "papermill": {
     "duration": 0.033381,
     "end_time": "2024-09-19T13:53:06.298504",
     "exception": false,
     "start_time": "2024-09-19T13:53:06.265123",
     "status": "completed"
    },
    "tags": []
   },
   "outputs": [],
   "source": []
  }
 ],
 "metadata": {
  "kaggle": {
   "accelerator": "tpu1vmV38",
   "dataSources": [
    {
     "datasetId": 4764421,
     "sourceId": 8073860,
     "sourceType": "datasetVersion"
    },
    {
     "datasetId": 5584357,
     "sourceId": 9232557,
     "sourceType": "datasetVersion"
    },
    {
     "modelId": 101255,
     "modelInstanceId": 76598,
     "sourceId": 91369,
     "sourceType": "modelInstanceVersion"
    }
   ],
   "isGpuEnabled": false,
   "isInternetEnabled": true,
   "language": "python",
   "sourceType": "notebook"
  },
  "kernelspec": {
   "display_name": "Python 3",
   "language": "python",
   "name": "python3"
  },
  "language_info": {
   "codemirror_mode": {
    "name": "ipython",
    "version": 3
   },
   "file_extension": ".py",
   "mimetype": "text/x-python",
   "name": "python",
   "nbconvert_exporter": "python",
   "pygments_lexer": "ipython3",
   "version": "3.10.14"
  },
  "papermill": {
   "default_parameters": {},
   "duration": 5872.195114,
   "end_time": "2024-09-19T13:53:11.657966",
   "environment_variables": {},
   "exception": null,
   "input_path": "__notebook__.ipynb",
   "output_path": "__notebook__.ipynb",
   "parameters": {},
   "start_time": "2024-09-19T12:15:19.462852",
   "version": "2.6.0"
  }
 },
 "nbformat": 4,
 "nbformat_minor": 5
}
